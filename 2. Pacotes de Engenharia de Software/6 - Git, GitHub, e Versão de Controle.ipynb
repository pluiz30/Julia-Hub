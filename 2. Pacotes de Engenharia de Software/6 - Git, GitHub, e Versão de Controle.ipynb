{
 "cells": [
  {
   "cell_type": "markdown",
   "metadata": {},
   "source": [
    "\n",
    "<a id='version-control'></a>\n",
    "<div id=\"qe-notebook-header\" style=\"text-align:right;\">\n",
    "        <a href=\"https://quantecon.org/\" title=\"quantecon.org\">\n",
    "                <img style=\"width:250px;display:inline;\" src=\"https://assets.quantecon.org/img/qe-menubar-logo.svg\" alt=\"QuantEcon\">\n",
    "        </a>\n",
    "</div>"
   ]
  },
  {
   "cell_type": "markdown",
   "metadata": {},
   "source": [
    "# Git, GitHub, e Versão de Controle"
   ]
  },
  {
   "cell_type": "markdown",
   "metadata": {},
   "source": [
    "## Conteúdo\n",
    "\n",
    "- [Git, GitHub, e Versão de Controle](#Git,-GitHub,-e-Versão-de-Controle)  \n",
    "  - [Configuração](#Configuração)  \n",
    "  - [Objetos Básicos](#Objetos-Básicos)  \n",
    "  - [Fluxo de Trabalho Individual](#Fluxo-de-Trabalho-Individual)  \n",
    "  - [Trabalho Colaborativo](#Trabalho-Colaborativo)  \n",
    "  - [Colaboração via Solicitação de Requerimento](#Colaboração-via-Solicitação-de-Requerimento)  \n",
    "  - [Recursos Adicionais e Soluções de Problemas](#Recursos-Adicionais-e-Soluções-de-Problemas)  \n",
    "  - [Exercícios](#Exercícios)   "
   ]
  },
  {
   "cell_type": "markdown",
   "metadata": {},
   "source": [
    "> *Devidamente traduzido, revisado e adaptado do [QuantEcon](https://quantecon.org/) pelos bolsistas CNPq, Pedro Luiz H. Furtado e Jonas Aragão M. Corpes, sob supervisão do Prof. Christiano Penna, do CAEN/UFC.*"
   ]
  },
  {
   "cell_type": "markdown",
   "metadata": {},
   "source": [
    "Em co-autoria com Arnav Sood.\n",
    "\n",
    "Uma parte essencial da engenharia de software moderna está usando o controle de versão.\n",
    "\n",
    "Usamos controle de versão porque:\n",
    "\n",
    "- Nem todas as iterações em um arquivo são perfeitas, e você pode querer reverter as alterações.  \n",
    "- Queremos ver quem mudou o que e como.  \n",
    "- Queremos um esquema de versão uniforme para fazer isso entre pessoas e máquinas. \n",
    "- A edição simultânea no código é necessária para a colaboração.\n",
    "- O controle de versão é uma parte essencial da criação de pesquisas reproduzíveis. \n",
    "\n",
    "Nessa aula, dicutiremos como usar o  Git e GitHub."
   ]
  },
  {
   "cell_type": "markdown",
   "metadata": {},
   "source": [
    "## Configuração\n",
    "\n",
    "1. Certifique-se de criar uma conta no [GitHub.com](http://github.com/): \n",
    "  \n",
    "  - Se você é um estudante, certifique-se de usar o GitHub [Student Developer Pack](https://education.github.com/pack/). \n",
    "  - Caso contrário, verifique se você se qualifica para um plano sem [fins lucrativos/plano acadêmico](https://help.github.com/articles/about-github-education-for-educators-and-researchers/).\n",
    "  - Eles vêm com repositórios privados ilimitados, suporte a testes etc.\n",
    "  \n",
    "  \n",
    "1. Instale o `git` e o aplicativo GitHub para Desktop: \n",
    "  \n",
    "  1. Instale [git](https://git-scm.com/book/en/v2/Getting-Started-Installing-Git/).\n",
    "  1. Instale o aplicativo [GitHub Desktop](https://desktop.github.com/). \n",
    "  \n",
    "1. Opcionalmente (mas fortemente recomendado):  No Windows, altere o final de linha padrão da seguinte maneira:  \n",
    "\n",
    "1. Abrindo um console Windows/Powershell, ou o “Git Bash” instalado no passo anterior  \n",
    "1. Execute o seguinte "
   ]
  },
  {
   "cell_type": "markdown",
   "metadata": {
    "hide-output": false
   },
   "source": [
    "```text\n",
    "git config --global core.eol lf\n",
    "git config --global core.autocrlf false\n",
    "```\n"
   ]
  },
  {
   "cell_type": "markdown",
   "metadata": {},
   "source": [
    "### Git vs. GitHub vs. GitHub Desktop\n",
    "\n",
    "Para entender a relação:\n",
    "\n",
    "- Git é uma infraestrutura para versionar e mesclar arquivos (não é específico do GitHub e nem exige um servidor online).\n",
    "- O GitHub fornece um serviço online para coordenar o trabalho com os repositórios do Git e adiciona alguns recursos adicionais para gerenciar projetos. \n",
    "- O GitHub Desktop é apenas um dos muitos clientes baseados em GUI para facilitar o uso do Git e do GitHub.  \n",
    "\n",
    "\n",
    "Mais tarde, você pode se encontrar usando alternativas:\n",
    "\n",
    "- GitHub  é o líder de mercado para projetos de código aberto e Julia, mas existem outras opções, por exemplo, [GitLab](https://about.gitlab.com/) e [Bitbucket](https://bitbucket.org).  \n",
    "- Em vez da área de trabalho do GitHub, você pode usar diretamente a linha de comando Git [GitKraken](https://www.gitkraken.com/), ou usar a funcinalidade do Git construido dentro dos editores, como o [Atom](https://atom.io/) ou [VS Code](https://code.visualstudio.com/).\n",
    "\n",
    "\n",
    "Como essas notas de aula destinam-se a fornecer um caminho mínimo para o uso das tecnologias, aqui combinaremos o fluxo de trabalho desses produtos distintos."
   ]
  },
  {
   "cell_type": "markdown",
   "metadata": {},
   "source": [
    "## Objetos Básicos"
   ]
  },
  {
   "cell_type": "markdown",
   "metadata": {},
   "source": [
    "### Repositórios\n",
    "\n",
    "O objeto fundamental no GitHub é um *repositório* (ou \"repo\") - este é o diretório principal de um projeto.\n",
    "\n",
    "Um exemplo de um repo é o pacote do QuantEcon [Expectations.jl](https://github.com/quantecon/expectations.jl/).\n",
    "\n",
    "Na máquina, um repositório é um diretório normal, juntamente com um subdiretório chamado `.git` que contém o histórico de alterações."
   ]
  },
  {
   "cell_type": "markdown",
   "metadata": {},
   "source": [
    "### Commits\n",
    "\n",
    "O GitHub armazena o histórico como uma sequência de alterações no texto, chamadas *commits*.\n",
    "\n",
    "[Aqui](https://github.com/QuantEcon/lecture-source-jl/commit/ba59c3ea9a0dec10def3f4f3928af5e2827f3b92) está um exemplo de um commit, que revisa o guia de estilo em um repositório QuantEcon.\n",
    "\n",
    "Em particular, commits têm os seguintes recursos:\n",
    "\n",
    "- Um ID (formalmente, um “SHA-1 hash”). \n",
    "- Conteúdo (ou seja, um estado antes e depois).  \n",
    "- Metadados (autor, carimbo de data e hora, mensagem de confirmação etc.)  \n",
    "\n",
    "\n",
    "**Nota:** É crucial lembrar que o que é armazenado em um *commit* é apenas as alterações reais que você faz no texto.\n",
    "\n",
    "Essa é uma das principais razões pelas quais o git pode armazenar longos e complicados históricos sem consumir grandes quantidades de memória."
   ]
  },
  {
   "cell_type": "markdown",
   "metadata": {},
   "source": [
    "### Arquivos Comuns \n",
    "\n",
    "Além disso, cada repositório GitHub normalmente vem com alguns arquivos de texto padrão:\n",
    "\n",
    "- Um aquivo`.gitignore`, lista arquivos/extensões/diretórios que o GitHub não deve tentar rastrear (por exemplo, subprodutos de compilação do LaTeX).\n",
    "- Um arquivo `README.md`, que é um arquivo Markdown que o GitHub coloca no site do repositório\n",
    "- Um arquivo `LICENSE.txt`, que descreve os termos sob os quais o conteúdo do repositório é disponibilizado.\n",
    "\n",
    "\n",
    "Para um exemplo de todos os três, veja o repositório [Expectations.jl](https://github.com/quantecon/expectations.jl/).\n",
    "\n",
    "Destes, o `README.md` é o mais importante, pois o GitHub o exibirá como [Markdown](https://guides.github.com/features/mastering-markdown/) ao acesssar o reporsitório online.\n",
    "\n",
    "\n",
    "<a id='new-repo-workflow'></a>"
   ]
  },
  {
   "cell_type": "markdown",
   "metadata": {},
   "source": [
    "## Fluxo de Trabalho Individual\n",
    "\n",
    "Nessa seção, descreveremos como utilizar GitHub para criar a versão dos seu próprios projetos.\n",
    "\n",
    "Muito disso será transferido para a seção colaborativa."
   ]
  },
  {
   "attachments": {},
   "cell_type": "markdown",
   "metadata": {},
   "source": [
    "### Criando um Repositório\n",
    "\n",
    "Em geral, sempre queremos reposicionar novos projetos usando o seguinte menu suspenso:\n",
    "\n",
    "![1](https://github.com/pluiz30/Julia-Hub/assets/60633407/a97fd662-9b21-411a-962b-6e75916d55e2)",
    "\n"
   ]
  },
  {
   "attachments": {},
   "cell_type": "markdown",
   "metadata": {},
   "source": [
    "Podemos então configurar as opções do repositório como:\n",
    "\n",
    "![2](https://github.com/pluiz30/Julia-Hub/assets/60633407/2d5ecaa5-29dd-4896-aeb6-b090db74f2c5)",
    "  \n",
    "Neste caso, estamos fazendo um repositório público `github.com/quantecon_user/example_repository`, que virá com um `README.md`, é licenciado sob a licença MIT e ignorará os subprodutos de compilação de Julia.\n",
    "\n",
    "**Nota** Este fluxo de trabalho é para criar projetos *de novo* ; o processo para transformar diretórios existentes em repositórios git é um pouco mais complicado.\n",
    "\n",
    "Em particular, nesse caso, recomendamos que você crie um novo repositório por esse método, copie e confirme seus arquivos (veja abaixo) e exclua o diretório antigo."
   ]
  },
  {
   "attachments": {},
   "cell_type": "markdown",
   "metadata": {},
   "source": [
    "### A Clonagem de um Repositório\n",
    "\n",
    "O próximo passo é levar isso para a nossa máquina local:\n",
    "\n",
    "![3](https://github.com/pluiz30/Julia-Hub/assets/60633407/ecfd5cec-f616-4118-8f4d-ea32fff15736)",
    "\n",
    "  \n",
    "Esse menu suspenso nos dá algumas opções:\n",
    "\n",
    "- “Open in Desktop” chamará o aplicativo GitHub Desktop que instalamos.  \n",
    "- O “Download Zip” fará o download do diretório *sem* o subdiretório *.git* (evite esta opção).\n",
    "- O botão copy/paste próximo ao link permite usar a linha de comando, ou seja `git clone https://github.com/quanteconuser/example_repository.git`. "
   ]
  },
  {
   "attachments": {},
   "cell_type": "markdown",
   "metadata": {},
   "source": [
    "### Fazendo e gerenciando alterações\n",
    "\n",
    "Agora que temos o repositório, podemos começar a trabalhar com ele.\n",
    "\n",
    "Por exemplo, digamos que alteramos o `README.md` (usando nossso editor de escolha), e também adicionamos um novo arquivo `economics.jl` qual ainda estamos trabalhando.\n",
    "\n",
    "Voltando ao GitHub Desktop, devemos ver algo como:\n",
    "\n",
    "![4](https://github.com/pluiz30/Julia-Hub/assets/60633407/f23d39ed-aff0-48a6-ae04-3e9e86c3f386)",
    "\n",
    "  "
   ]
  },
  {
   "attachments": {},
   "cell_type": "markdown",
   "metadata": {},
   "source": [
    "Para selecionar arquivos individuais para confirmação, podemos usar as caixas de seleção à esquerda de cada arquivo.\n",
    "\n",
    "Digamos que você selecione apenas o `README` para confirmar. Indo para a guia Histórico deve mostrar nossas alterações:\n",
    "\n",
    "\n",
    "![5](https://github.com/pluiz30/Julia-Hub/assets/60633407/9bbdcaf6-baba-47d6-ad48-5eb3015490b2)",
    "\n",
    "  \n",
    "O arquivo Julia é inalterado."
   ]
  },
  {
   "cell_type": "markdown",
   "metadata": {},
   "source": [
    "### Empurrando para o servidor\n",
    "\n",
    "A partir de agora, esse commit reside apenas em nossa máquina local.\n",
    "\n",
    "Para fazer o upload para o servidor, você pode simplesmente clicar no botão \"Push Origin\" na parte superior da tela.\n",
    "\n",
    "O pequeno \"1 ^\" à direita do texto indica que temos um commit para carregar."
   ]
  },
  {
   "attachments": {},
   "cell_type": "markdown",
   "metadata": {},
   "source": [
    "### Lendo e Revertendo o Histórico\n",
    "\n",
    "Como mencionado, um dos principais recursos do GitHub é a capacidade de verificar o histórico.\n",
    "\n",
    "Ao clicar na guia \"confirma\" na página inicial do repositório, vemos [esta página](https://github.com/quanteconuser/example_repository/commits/master)\n",
    "(como um exemplo).\n",
    "\n",
    "Ao clicar em um commit individual nos dá a visão da diferença (por [exemplo commit](https://github.com/quanteconuser/example_repository/commit/d0b17f5ce0f8742e88da9b604bfed418d6a16884/)).\n",
    "\n",
    "Às vezes, no entanto, queremos não apenas inspecionar o que aconteceu antes, mas reverter o commit.\n",
    "\n",
    "- Se você ainda não fez o commit, clique com o botão direito do mouse no arquivo na guia \"changes\" e clique em \"descard changes\" para redefinir o arquivo para o último commit conhecido.\n",
    "- Se você fez um commit, mas ainda não enviou para o servidor, vá para a guia \"history\", como acima, clique com o botão direito do mouse no commit e clique em \"revert this commit.\". Isso criará a confirmação inversa, mostrada abaixo.\n",
    "\n",
    "![6](https://github.com/pluiz30/Julia-Hub/assets/60633407/0f84ae0c-e1f0-4f6d-a88a-b969ce715a2c)"
   ]
  },
  {
   "attachments": {},
   "cell_type": "markdown",
   "metadata": {},
   "source": [
    "### Trabalhando em Máquinas\n",
    "\n",
    "Geralmente, você deseja trabalhar no mesmo projeto, mas em várias máquinas (por exemplo, um laptop doméstico e uma estação de trabalho de laboratório).\n",
    "\n",
    "A chave é fazer as mudanças de uma máquina e depois puxar as mudanças da outra máquina.\n",
    "\n",
    "Fazer mudanças pode ser feito como acima.\n",
    "\n",
    "Para puxar tais mudanças, basta clicar em \"pull\" no menu suspenso “repository” na parte superior da tela:\n",
    "\n",
    "\n",
    "\n",
    "![7](https://github.com/pluiz30/Julia-Hub/assets/60633407/40ec2115-d584-4a4a-9a24-b536fcd457a1)"
   ]
  },
  {
   "cell_type": "markdown",
   "metadata": {},
   "source": [
    "## Trabalho Colaborativo"
   ]
  },
  {
   "attachments": {},
   "cell_type": "markdown",
   "metadata": {},
   "source": [
    "### Adicionando colaboradores\n",
    "\n",
    "Primeiro, vamos adicionar um colaborador à aula `quanteconuser/example_repository` que criamos anteriormente.\n",
    "\n",
    "Podemos fazer isso clicando em  “settings => collaborators,” da seguinte maneira:\n",
    "\n",
    "\n",
    "\n",
    "![8](https://github.com/pluiz30/Julia-Hub/assets/60633407/c11e3b8c-abca-48a9-b78f-bb7ad0c01213)"
   ]
  },
  {
   "attachments": {},
   "cell_type": "markdown",
   "metadata": {},
   "source": [
    "### Gerenciamento de Projetos\n",
    "\n",
    "O site do GitHub também vem com ferramentas de gerenciamento de projetos para coordenar o trabalho entre as pessoas.\n",
    "\n",
    "O *problema* principal é, que podemos criar a partir da guia de problemas.\n",
    "\n",
    "Você deve ver algo assim:\n",
    "\n",
    "\n",
    "\n",
    "![9](https://github.com/pluiz30/Julia-Hub/assets/60633407/133861a9-c554-48ef-89ed-0951caf46a37)",
    "\n",
    "  \n",
    "Vamos desempacotar os diferentes componentes:\n",
    "\n",
    "- O menu suspenso de *assignees* permite selecionar as pessoas encarregadas de trabalhar no problema. \n",
    "- O menu suspenso de *labels* permite que você marque o problema com marcadores visíveis na página de problemas, como \"alta prioridade\" ou \"solicitação de recurso\".\n",
    "- É possível marcar outros problemas e colaboradores (inclusive em diferentes repositórios) vinculando-os a eles nos comentários - isso faz parte do que é chamado *GitHub-Flavored Markdown* . \n",
    "\n",
    "\n"
   ]
  },
  {
   "attachments": {},
   "cell_type": "markdown",
   "metadata": {},
   "source": [
    "Para um exemplo de um problema, veja [aqui](https://github.com/quanteconuser/example_repository/issues/1).\n",
    "\n",
    "Você pode ver rapidamente os problemas em aberto na guia problemas gerais.\n",
    "\n",
    "\n",
    "\n",
    "![10](https://github.com/pluiz30/Julia-Hub/assets/60633407/8ef07b3f-36d8-4069-818d-46b4907348f1)",
    "  \n",
    "As caixas de seleção são comuns no GitHub para gerenciar tarefas do projeto."
   ]
  },
  {
   "attachments": {},
   "cell_type": "markdown",
   "metadata": {},
   "source": [
    "### Revendo o Código\n",
    "\n",
    "Existem algumas maneiras diferentes de revisar o código das pessoas no GitHub:\n",
    "\n",
    "- Sempre que as pessoas acessarem um projeto em que você está trabalhando, você receberá uma notificação por email.  \n",
    "- Você também pode revisar itens de linha ou confirmações individuais, abrindo confirmações na exibição de diferenças, como [acima](https://github.com/quanteconuser/example_repository/commit/d0b17f5ce0f8742e88da9b604bfed418d6a16884/).\n",
    "\n",
    "\n",
    "\n",
    "![11](https://github.com/pluiz30/Julia-Hub/assets/60633407/c639b7df-b224-4e68-b446-fc917970587a)",
    "\n",
    "<a id='merge-conflict'></a>"
   ]
  },
  {
   "attachments": {},
   "cell_type": "markdown",
   "metadata": {},
   "source": [
    "### Mesclar Conflitos\n",
    "\n",
    "Qualquer ferramenta de gerenciamento de projetos precisa descobrir como reconciliar mudanças conflitantes entre as pessoas.\n",
    "\n",
    "No GitHub, esse evento é chamado de  \"mesclagem de conflito\" e ocorre sempre que as pessoas fazem alterações conflitantes na mesma *linha* de código.\n",
    "\n",
    "Observe que isso significa que duas pessoas alterando no mesmo arquivo estão OK, desde que as diferenças sejam compatíveis.\n",
    "\n",
    "Um caso de uso comum é quando tentamos enviar alterações ao servidor, mas outra pessoa enviou alterações conflitantes.\n",
    "\n",
    "O GitHub nos dará a seguinte janela:\n",
    "\n",
    "\n",
    "\n",
    "![12](https://github.com/pluiz30/Julia-Hub/assets/60633407/ab19898f-d72c-4dd9-b862-9b13fa91d437)",
    "\n",
    "  \n",
    "- O símbolo de aviso ao lado do arquivo indica a existência de uma mesclagem de conflito.\n",
    "- O visualizador tenta nos mostrar a discrepância (mudei o repositório de palavras para repo, mas alguém tentou alterá-lo para \"repo\" com aspas).\n"
   ]
  },
  {
   "attachments": {},
   "cell_type": "markdown",
   "metadata": {},
   "source": [
    "Para corrigir o conflito, podemos entrar em um editor de texto (como Atom):\n",
    "\n",
    "\n",
    "![13](https://github.com/pluiz30/Julia-Hub/assets/60633407/025e1d57-b75b-4d0a-a5a8-b969751f9d72)"
   ]
  },
  {
   "attachments": {},
   "cell_type": "markdown",
   "metadata": {},
   "source": [
    "Digamos que clicamos no primeiro \"use-me\" (para indicar que minhas alterações devem vencer) e salve o arquivo.\n",
    "\n",
    "Retornar ao GitHub Desktop nos dá um compromisso pré-formado para aceitar.\n",
    "\n",
    "\n",
    "\n",
    "![14](https://github.com/pluiz30/Julia-Hub/assets/60633407/f7c81448-96a8-4f6b-844e-3d787dd97af0)",
    "  \n",
    "Clicar em \"commit to master\" nos permitirá empurrar e puxar do servidor normalmente."
   ]
  },
  {
   "cell_type": "markdown",
   "metadata": {},
   "source": [
    "## Colaboração via Solicitação de Requerimento\n",
    "\n",
    "Uma das características definidoras do GitHub é que é a plataforma dominante para código-fonte aberto, que qualquer pessoa pode acessar e usar.\n",
    "\n",
    "No entanto, enquanto qualquer pessoa pode fazer uma cópia do código fonte, nem todos têm acesso para modificar a versão específica armazenada no GitHub.\n",
    "\n",
    "Um mantenedor (ou seja, alguém com acesso de \"gravação\" para modificar diretamente um repositório) pode considerar contribuições diferentes e \"mesclar\" as alterações no repositório principal, se as alterações atenderem aos seus critérios.\n",
    "\n",
    "Um *pull request* (“PR”) permite que **quaisquer** pessoas de fora para sugerir mudanças para abrir repositórios de origem.\n",
    "\n",
    "Um PR solicita que o mantenedor do projeto mescle (\"puxe\") as alterações nas quais você trabalhou no repositório.\n",
    "\n",
    "Existem alguns fluxos de trabalho diferentes para criar e manipular PRs, que veremos abaixo.\n",
    "\n",
    "Nota: Se as alterações forem para um pacote Julia, você precisará seguir um fluxo de trabalho diferente - descrito na [aula de teste](https://julia.quantecon.org/more_julia/testing.html).\n",
    "\n",
    "\n",
    "\n",
    "<a id='web-interface'></a>"
   ]
  },
  {
   "attachments": {},
   "cell_type": "markdown",
   "metadata": {},
   "source": [
    "### Correções Rápidas\n",
    "\n",
    "O site do GitHub fornece um editor on-line para alterações rápidas e sujas, como corrigir erros de digitação na documentação.\n",
    "\n",
    "Para usá-lo, abra um arquivo no GitHub e clique no pequeno lápis no canto superior direito:\n",
    "\n",
    "![15](https://github.com/pluiz30/Julia-Hub/assets/60633407/ad135051-cf81-48a1-a3df-cde468ea7e04)",
    "\n",
    "Aqui, estamos tentando adicionar o link QuantEcon ao arquivo `README` do projeto Julia.\n",
    "\n",
    "Depois de fazer as alterações, podemos descrevê-las e propor a revisão dos mantenedores.\n",
    "\n",
    "Mas e se quisermos fazer mudanças mais profundas?\n",
    "\n",
    "<a id='fork-workflow'></a>"
   ]
  },
  {
   "attachments": {},
   "cell_type": "markdown",
   "metadata": {},
   "source": [
    "### Caso sem acesso\n",
    "\n",
    "Um problema comum é quando não temos acesso de gravação (ou seja, não podemos modificar diretamente) o repositório em questão.\n",
    "\n",
    "Nesse caso, clique no botão \"Fork\" que fica no canto superior direito da página principal de cada repositório:\n",
    "\n",
    "![16](https://github.com/pluiz30/Julia-Hub/assets/60633407/9f0acee0-7692-452d-8880-f5fc9f47d62f)"
   ]
  },
  {
   "attachments": {},
   "cell_type": "markdown",
   "metadata": {},
   "source": [
    "Isso copiará o repositório em sua própria conta do GitHub.\n",
    "\n",
    "Por exemplo [este repositório](https://github.com/ubcecon/example_repository) é uma bifurcação da nossa [configuração original do git](https://github.com/quanteconuser/example_repository/).\n",
    "\n",
    "Clone esta bifurcação (fork) na nossa área de trabalho e trabalhe com ele exatamente da mesma maneira que possuiríamos um repositório (como o fork está na sua conta, agora você tem acesso de gravação).\n",
    "Ou seja, clique no botão \"clonar\" no nosso fork:\n",
    "\n",
    "![17](https://github.com/pluiz30/Julia-Hub/assets/60633407/149732ed-d775-47f4-ac03-426478b3da86)",
    "\n",
    "  "
   ]
  },
  {
   "attachments": {},
   "cell_type": "markdown",
   "metadata": {},
   "source": [
    "Você verá um novo repositório com o mesmo nome, mas um URL diferente na lista de repositórios do GitHub Desktop, junto com um ícone especial para indicar que é um fork:\n",
    "\n",
    "![18](https://github.com/pluiz30/Julia-Hub/assets/60633407/c9737b09-caca-4046-9c97-da04b3bd9e37)",
    "  \n"
   ]
  },
  {
   "attachments": {},
   "cell_type": "markdown",
   "metadata": {},
   "source": [
    "Confirme algumas mudanças selecionando os arquivos e escrevendo uma mensagem de confirmação:\n",
    "\n",
    "![19](https://github.com/pluiz30/Julia-Hub/assets/60633407/10df4df9-9d96-49b4-be82-3459ffa056d6)"
   ]
  },
  {
   "attachments": {},
   "cell_type": "markdown",
   "metadata": {},
   "source": [
    "E empurre usando o menu suspenso:\n",
    "\n",
    "![20](https://github.com/pluiz30/Julia-Hub/assets/60633407/a781c8bd-109d-4177-9081-abcbd582210c)",
    "  \n"
   ]
  },
  {
   "attachments": {},
   "cell_type": "markdown",
   "metadata": {},
   "source": [
    "Abaixo, por exemplo, comprometemos e introduzimos algumas alterações no fork que queremos incluir no repositório principal:\n",
    "\n",
    "![21](https://github.com/pluiz30/Julia-Hub/assets/60633407/0271c238-0c5a-4c34-89ff-095b16c79c63)",
    "\n",
    "  "
   ]
  },
  {
   "attachments": {},
   "cell_type": "markdown",
   "metadata": {},
   "source": [
    "Devemos garantir que essas alterações estejam no servidor (ao qual podemos acessar, indo para o [fork](https://github.com/ubcecon/example_repository) e clicando em  “commits”):\n",
    "\n",
    "![22](https://github.com/pluiz30/Julia-Hub/assets/60633407/93975510-f549-4769-b50f-daf376670060)",
    "  "
   ]
  },
  {
   "attachments": {},
   "cell_type": "markdown",
   "metadata": {},
   "source": [
    "Em seguida, acesse o menu de solicitações de recebimento e clique em “New Pull Request”.\n",
    "\n",
    "Você verá algo como isso:\n",
    "\n",
    "![23](https://github.com/pluiz30/Julia-Hub/assets/60633407/a812a9b9-d104-46f6-9943-3a2f318700d7)",
    "\n",
    "  \n",
    "Isso nos fornece uma visão geral rápida dos commits nos quais queremos mesclar, bem como das diferenças gerais.\n"
   ]
  },
  {
   "attachments": {},
   "cell_type": "markdown",
   "metadata": {},
   "source": [
    "Clique em criar e clique no formulário a seguir.\n",
    "\n",
    "Isso abre uma página como esta no repositório principal:\n",
    "\n",
    "\n",
    "![24](https://github.com/pluiz30/Julia-Hub/assets/60633407/01adebf3-b436-4e60-aeec-2caf5b24546c)",
    "\n",
    "  \n",
    "As peças principais são:\n",
    "\n",
    "- Uma lista dos commits que estamos propondo. \n",
    "- Uma lista de revisores, que podem aprovar ou modificar nossas alterações.  \n",
    "- Rótulos, espaço Markdown, responsáveis e a capacidade de marcar outros problemas de Git e PRs, assim como os problemas.  \n",
    "\n",
    "\n",
    "Aqui está um [exemplo de solicitação pull](https://github.com/quanteconuser/example_repository/pull/3)\n",
    "\n",
    "Para editar um PR, basta fazer alterações no garfo que você clonou na área de trabalho.\n"
   ]
  },
  {
   "attachments": {},
   "cell_type": "markdown",
   "metadata": {},
   "source": [
    "Por exemplo, digamos que comprometemos uma nova alteração no README *após* a criação do PR:\n",
    "\n",
    "![25](https://github.com/pluiz30/Julia-Hub/assets/60633407/508202ad-cea8-4367-8f6b-9c5f7f8a8381)",
    "\n",
    "  "
   ]
  },
  {
   "attachments": {},
   "cell_type": "markdown",
   "metadata": {},
   "source": [
    "Depois de enviar para o servidor, a alteração é refletida na [página](https://github.com/quanteconuser/example_repository/pull/3) PR:\n",
    "\n",
    "![26](https://github.com/pluiz30/Julia-Hub/assets/60633407/d1ee95fa-eaa8-401b-8b2c-f77c7bfe18f8)",
    "\n",
    "  \n",
    "Ou seja, criar uma solicitação pull não é como agrupar suas alterações e entregá-las, mas como abrir uma *conexão em andamento* entre dois repositórios, que só é cortada quando o PR é fechado ou mesclado."
   ]
  },
  {
   "attachments": {},
   "cell_type": "markdown",
   "metadata": {},
   "source": [
    "### Caso de Acesso de Gravação\n",
    "\n",
    "À medida que você se familiariza com o GitHub e trabalha em projetos maiores, você se encontrará criando PRs mesmo quando não é estritamente necessário.\n",
    "\n",
    "Se você é um mantenedor do repositório (por exemplo, você o criou ou é um colaborador), não precisa criar um fork, mas sim trabalhar com uma *ramificação git*.\n",
    "\n",
    "As ramificações no git representam fluxos de desenvolvimento paralelo (ou seja, sequências de confirmações) que o PR está tentando mesclar.\n",
    "\n",
    "Primeiro, carregue o repositório no GitHub Desktop e use o menu suspenso de ramificação:\n",
    "\n",
    "[27](https://github.com/pluiz30/Julia-Hub/assets/60633407/7dfe75f9-4ace-4368-a10e-9506bc49d1cc)",
    "  \n"
   ]
  },
  {
   "attachments": {},
   "cell_type": "markdown",
   "metadata": {},
   "source": [
    "Clique em “New Branch” e escolha um nome instrutivo (verifique se não há espaços ou caracteres especiais).\n",
    "\n",
    "Isso fará o \"check-out\" de uma nova ramificação com o mesmo histórico da antiga (mas novas confirmações serão adicionadas apenas a essa ramificação).\n",
    "\n",
    "Podemos ver o ramo ativo no menu suspenso superior:\n",
    "\n",
    "![28](https://github.com/pluiz30/Julia-Hub/assets/60633407/0e02b307-2be9-4953-9c56-7899c5e7d812)",
    "  \n"
   ]
  },
  {
   "attachments": {},
   "cell_type": "markdown",
   "metadata": {},
   "source": [
    "Por exemplo, digamos que adicionamos algumas coisas ao arquivo de código Julia e o comprometemos:\n",
    "\n",
    "![29](https://github.com/pluiz30/Julia-Hub/assets/60633407/21ea500a-9144-487f-8aa3-a44d02deb065)"
   ]
  },
  {
   "attachments": {},
   "cell_type": "markdown",
   "metadata": {},
   "source": [
    "Para colocar esse ramo (com alterações) no servidor, basta clicar em “Publish Branch”.\n",
    "\n",
    "Navegando para a [pagina do repositório](https://github.com/quanteconuser/example_repository),  veremos uma sugestão sobre uma nova ramificação:\n",
    "\n",
    "![30](https://github.com/pluiz30/Julia-Hub/assets/60633407/c5378daa-e87e-46db-96a4-2481cc27953f)",
    "  \n",
    "Nesse ponto, o processo de criação de um PR é idêntico ao caso anterior."
   ]
  },
  {
   "cell_type": "markdown",
   "metadata": {},
   "source": [
    "### Caso do Pacote Julia\n",
    "\n",
    "Um caso especial é quando o repo em questão é realmente um projeto ou pacote Julia.\n",
    "\n",
    "Abordamos isso (junto com o fluxo de trabalho do pacote em geral) na [aula de teste](https://lectures.quantecon.org/testing.html)."
   ]
  },
  {
   "cell_type": "markdown",
   "metadata": {},
   "source": [
    "## Recursos Adicionais e Soluções de Problemas\n",
    "\n",
    "Você pode ir além do escopo deste tutorial ao trabalhar com o GitHub.\n",
    "\n",
    "Por exemplo, talvez você tenha encontrado um bug ou esteja trabalhando com uma instalação que não possui o GitHub Desktop instalado.\n",
    "\n",
    "Aqui estão alguns recursos para ajudar:\n",
    "\n",
    "- As excelentes [regras de vôo Git](https://github.com/k88hudson/git-flight-rules/) por Kate Hudson, que são uma lista quase exaustiva de situações que você pode encontrar e correções na linha de comando.  \n",
    "- O GitHub [Learning Lab](https://lab.github.com/), um ambiente de sandbox interativo para o git.\n",
    "- Os documentos para *forking* no [GitHub Desktop](https://help.github.com/desktop/guides/contributing-to-projects/cloning-a-repository-from-github-to-github-desktop/) e [no website do GitHub](https://guides.github.com/activities/forking/). \n",
    "\n",
    "\n",
    "\n",
    "<a id='version-control-commandline'></a>"
   ]
  },
  {
   "attachments": {},
   "cell_type": "markdown",
   "metadata": {},
   "source": [
    "### Noções Básicas de Linha de Comando\n",
    "\n",
    "O Git também vem com um conjunto de ferramentas de linha de comando.\n",
    "\n",
    "Eles são opcionais, mas muitas pessoas gostam de usá-los.\n",
    "\n",
    "Além disso, em alguns ambientes (por exemplo, instalações do JupyterHub), você pode ter acesso apenas à linha de comando.\n",
    "\n",
    "- No Windows, o download  `git` instalará um programa chamado `git bash`, que instala essas ferramentas junto com um shell geral no estilo Linux.  \n",
    "- No Linux / MacOS, essas ferramentas são integradas ao seu terminal habitual. \n",
    "\n",
    "\n",
    "Para abrir o terminal em um diretório, clique com o botão direito do mouse e pressione “open git bash” (no Windows) ou use comandos do Linux como `cd` e `ls` para navegar\n",
    "\n",
    "Veja [aqui](https://www.git-tower.com/learn/git/ebook/en/command-line/appendix/command-line-101) uma breve introdução à linha de comando.\n",
    "\n",
    "Como acima, você pode clonar pegando o URL do repositório (por exemplo, [repositório de políticas do site](https://github.com/github/site-policy/)) e executar `git clone https://github.com/github/site-policy.git`.\n",
    "\n",
    "Isso não será conectado ao seu GitHub Desktop; portanto, você precisará usá-lo manualmente (`File => Add Local Repository`) ou arrastar e soltar do gerenciador de arquivos para o GitHub Desktop:\n",
    "\n",
    "![31](https://github.com/pluiz30/Julia-Hub/assets/60633407/94cf3ec8-75b0-4260-9c38-fdea08af21e1)",
    "\n",
    "  \n",
    "A partir daqui, você pode obter os arquivos mais recentes no servidor `cd`inserindo no diretório e executando `git pull`.\n",
    "\n",
    "Quando você  `empurrar` para o servidor, ele nunca substitui os arquivos modificados; portanto, é impossível perder as alterações locais.\n",
    "\n",
    "Em vez disso, para fazer uma redefinição definitiva de todos os arquivos e substituir qualquer uma das alterações locais, você pode executar `git reset --hard origin/master`."
   ]
  },
  {
   "cell_type": "markdown",
   "metadata": {},
   "source": [
    "## Exercícios"
   ]
  },
  {
   "cell_type": "markdown",
   "metadata": {},
   "source": [
    "### Exercício 1a\n",
    "\n",
    "Siga as instruções para criar um [novo repositório](#new-repo-workflow) para uma das suas contas do GitHub. Neste repositório:\n",
    "\n",
    "- Pegue o código de uma de suas tarefas anteriores, como o [método de Newton](https://julia.quantecon.org/getting_started_julia/julia_by_example.html#jbe-ex8a) nos [exemplos introdutórios](https://julia.quantecon.org/getting_started_julia/julia_by_example.html) (como um arquivo `.jl` ou um notebook Jupyter). \n",
    "- Coloque um `README.md` com algum texto.\n",
    "- Coloque um arquivo `.gitignore`, ignorando os arquivos Jupyter `.ipynb_checkpoints` e os arquivos do projeto, `.projects`.  "
   ]
  },
  {
   "cell_type": "markdown",
   "metadata": {},
   "source": [
    "### Exercício 1b\n",
    "\n",
    "Faça parceria com outro aluno que fez o Exercício 1a e descubra o ID do GitHub, e cada um faça o seguinte:\n",
    "\n",
    "- Adicione o ID do GitHub como colaboradores no seu repositório.  \n",
    "- Clone os repositórios na área de trabalho local. \n",
    "- Atribua um ao outro um problema.  \n",
    "- Envie uma confirmação do GitHub Desktop que faça referência ao problema por número.\n",
    "- Comente os commits.\n",
    "- Assegure-se de poder executar o código deles sem nenhuma modificação.  "
   ]
  },
  {
   "cell_type": "markdown",
   "metadata": {},
   "source": [
    "### Exercício 1c\n",
    "\n",
    "Em pares, com os resultados do Exercício 1b, examine um conflito de mesclagem editando o arquivo `README.md` do seu repositório que você configurou como colaboradores.\n",
    "\n",
    "Comece assegurando que haja várias linhas no arquivo para que algumas alterações possam ter conflitos e outras não.\n",
    "\n",
    "- Clone o repositório nas áreas de trabalho locais.  \n",
    "- Modifique **diferentes** linhas de código no arquivo e confirme e envie para o servidor (antes de se afastarem) - e veja como ele mescla as coisas \"automaticamente\".  \n",
    "- Modifique a **mesma linha** de código no arquivo e lide com o [conflito de masclagem](#merge-conflict)."
   ]
  },
  {
   "cell_type": "markdown",
   "metadata": {},
   "source": [
    "### Exercício 2a\n",
    "\n",
    "Apenas usando a [interface da web](#web-interface) do GitHub, envie uma solicitação de recebimento para uma simples mudança de documentação em um repositório público.\n",
    "\n",
    "O mais fácil pode ser enviar um PR para um erro de digitação no repositório de origem para essas notas `https://github.com/QuantEcon/lecture-source-jl`.\n",
    "\n",
    "Nota: A fonte desse repositório está em arquivos `.rst`,  mas você deve encontrar erros de ortografia/etc. Sem muito esforço."
   ]
  },
  {
   "cell_type": "markdown",
   "metadata": {},
   "source": [
    "### Exercício 2b\n",
    "\n",
    "Seguindo as [instruções](#fork-workflow) para *forking* e clonar um repositório público na área de trabalho local, envie uma solicitação de recebimento a um repositório público.\n",
    "\n",
    "Novamente, você pode enviá-lo para um erro de digitação no repositório de origem para essas notas, ou seja `https://github.com/QuantEcon/lecture-source-jl`, mas também é incentivado a procurar uma pequena alteração que possa ajudar a documentação em outro repositório.\n",
    "\n",
    "Se você é ambicioso, vá para a solução dos exercícos para um dos exercícios nestas notas da aula e envie um PR para sua própria versão modificada (se você acha que é uma melhoria!)."
   ]
  }
 ],
 "metadata": {
  "date": 1580349906.022421,
  "download_nb": 1,
  "download_nb_path": "https://julia.quantecon.org/",
  "filename": "version_control.rst",
  "filename_with_path": "more_julia/version_control",
  "kernelspec": {
   "display_name": "Julia 1.3.1",
   "language": "julia",
   "name": "julia-1.3"
  },
  "language_info": {
   "file_extension": ".jl",
   "mimetype": "application/julia",
   "name": "julia",
   "version": "1.3.1"
  },
  "title": "Git, GitHub, and Version Control"
 },
 "nbformat": 4,
 "nbformat_minor": 2
}
