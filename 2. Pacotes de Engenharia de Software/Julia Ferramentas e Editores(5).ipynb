{
 "cells": [
  {
   "cell_type": "markdown",
   "metadata": {},
   "source": [
    "\n",
    "<a id='tools-editors'></a>\n",
    "<div id=\"qe-notebook-header\" style=\"text-align:right;\">\n",
    "        <a href=\"https://quantecon.org/\" title=\"quantecon.org\">\n",
    "                <img style=\"width:250px;display:inline;\" src=\"https://assets.quantecon.org/img/qe-menubar-logo.svg\" alt=\"QuantEcon\">\n",
    "        </a>\n",
    "</div>"
   ]
  },
  {
   "cell_type": "markdown",
   "metadata": {},
   "source": [
    "# Julia Ferramentas e Editores"
   ]
  },
  {
   "cell_type": "markdown",
   "metadata": {},
   "source": [
    "## Conteúdo\n",
    "\n",
    "- [Julia Ferramentas e Editores](#Julia-Ferramentas-e-Editores)  \n",
    "  - [Configurações Preliminares](#Configurações-Preliminares)  \n",
    "  - [O REPL](#O-REPL)  \n",
    "  - [Atom](#Atom)  \n",
    "  - [Ambiente de Pacotes](#Ambiente-de-Pacotes)  "
   ]
  },
  {
   "cell_type": "markdown",
   "metadata": {},
   "source": [
    "> *Devidamente traduzido, revisado e adaptado do [QuantEcon](https://quantecon.org/) pelos bolsistas CNPq, Pedro Luiz H. Furtado e Jonas Aragão M. Corpes, sob supervisão do Prof. Christiano Penna, do CAEN/UFC.*"
   ]
  },
  {
   "cell_type": "markdown",
   "metadata": {},
   "source": [
    "Co-escrito com Arnav Sood\n",
    "\n",
    "Enquanto os notebooks Jupiter se tornam um meio para você se familiarizar com a languagem, eventualmente serão necessárias ferramentas mais poderosas.\n",
    "\n",
    "Iremos discutir algumas delas aqui, como:\n",
    "\n",
    "- Editores de texto como Atom, que vem com um rico suporte para Julia para depuração, documentação, integração git, plot e análise de dados,bem como execução de códigos.  \n",
    "- O Julia REPL, que tem modos especializados para gerenciamento do pacote, comandos, e ajuda;  \n",
    "- Uma configuração virtualizada Docker que provê um ambiente pré-configurado fácil no seu aparelho.  \n",
    "\n",
    "\n",
    "Note que nós assumimos que você já completou as aulas de [Configurando seu Ambiente no Julia](https://lectures.quantecon.org/getting_started_julia/getting_started.html) e [interagindo com Julia](https://lectures.quantecon.org/getting_started_julia/julia_environment.html)."
   ]
  },
  {
   "cell_type": "markdown",
   "metadata": {},
   "source": [
    "## Configurações Preliminares\n",
    "\n",
    "Siga as instruções para configurar o Julia [no seu próprio computador](https://lectures.quantecon.org/getting_started_julia/getting_started.html#jl-jupyterlocal).\n",
    "\n",
    "\n",
    "<a id='jl-startup-file'></a>"
   ]
  },
  {
   "cell_type": "markdown",
   "metadata": {},
   "source": [
    "### Criando um arquivo de inicialização (recomendado)\n",
    "\n",
    "Sempre que o compilador Julia ou o REPL iniciarem, irá aparecer um arquivo chamado `startup.jl` (veja [Julia Manual](https://docs.julialang.org/en/v1/manual/getting-started/#man-getting-started-1)).\n",
    "\n",
    "Nós providenciamos um arquivo com dupla utilidade:\n",
    "\n",
    "- Constrói o modo casca REPL como “pegajosa”, assim não há porquê usar continuamente `;` para novos comandos;  \n",
    "- Carrega o pacote `Revise.jl` na inicialização, o que lhe permite fazer um pacote em tempo real (e sem a necessidade de sair, entrar e carregar novamente o REPL).\n",
    "\n",
    "\n",
    "A localização do arquivo é relativa ao seu ambiente-padrão Julia (e.g. `~/.julia/config/startup.jl` ou `C:\\Users\\USERNAME\\.julia\\config\\startup.jl` no Windows).\n",
    "\n",
    "Lembre-se que você pode encontrar a localização do diretório `~/.julia` pela rotina."
   ]
  },
  {
   "cell_type": "code",
   "execution_count": 1,
   "metadata": {
    "hide-output": false
   },
   "outputs": [
    {
     "data": {
      "text/plain": [
       "\"/home/ubuntu/.julia\""
      ]
     },
     "execution_count": 1,
     "metadata": {},
     "output_type": "execute_result"
    }
   ],
   "source": [
    "DEPOT_PATH[1]"
   ]
  },
  {
   "cell_type": "markdown",
   "metadata": {},
   "source": [
    "**Observação:** No Mac, isso não estará visível no buscador a menos que você habilite especificamente essa opção, mas você poderá tentar obter pela rotina `cd .julia; open .` de um novo terminal.\n",
    "\n",
    "Para adicionar ao arquivo:\n",
    "\n",
    "- No terminal `julia`, digite:  "
   ]
  },
  {
   "cell_type": "markdown",
   "metadata": {
    "hide-output": false
   },
   "source": [
    "```text\n",
    "] add  Revise REPL; precompile\n",
    "```\n"
   ]
  },
  {
   "cell_type": "markdown",
   "metadata": {},
   "source": [
    "\n",
    "- Crie o diretório `~/.julia/config/` se necessário no terminal ou no explorador de arquivo.  \n",
    "- Baixe o arquivo [startup.jl](https://s3-ap-southeast-2.amazonaws.com/lectures.quantecon.org/jl/_static/includes/startup.jl) nesse diretório.  \n",
    "- Por coveniência, você pode achar útil no seu sistema operacional alterar o diretório em que o REPL é iniciado.\n",
    "\n",
    "No Windows, se você tiver um atalho na área de trabalho ou na barra de tarefas, poderá: (1) clicar com o botão direito do mouse no ícone; (2) clique com o botão direito do mouse no texto “julia”; (3) escolha “Propriedades” e (4) altere o “Início” para algo como `C:\\Users\\YOURUSERNAME\\Documents`.\n",
    "\n",
    "\n",
    "<a id='repl-main'></a>"
   ]
  },
  {
   "cell_type": "markdown",
   "metadata": {},
   "source": [
    "## O REPL\n",
    "\n",
    "Anteriormente, discutimos a utilidade básica do Julia REPL (“Read-Evaluate-Print Loop”).\n",
    "\n",
    "Aqui, iremos considerar algumas características mais avançadas."
   ]
  },
  {
   "cell_type": "markdown",
   "metadata": {},
   "source": [
    "### Modo Shell\n",
    "\n",
    "Colocando `;` você entra no modo Shell, o que lhe permite executar comandos bash (PowerShell no Windows)."
   ]
  },
  {
   "cell_type": "code",
   "execution_count": 2,
   "metadata": {
    "hide-output": false
   },
   "outputs": [
    {
     "name": "stdout",
     "output_type": "stream",
     "text": [
      "/home/ubuntu/repos/lecture-source-jl/_build/website/jupyter/_downloads/executed/more_julia\n"
     ]
    }
   ],
   "source": [
    "; pwd"
   ]
  },
  {
   "cell_type": "markdown",
   "metadata": {},
   "source": [
    "Você também pode usar variáveis Julia do modo shell:"
   ]
  },
  {
   "cell_type": "code",
   "execution_count": 3,
   "metadata": {
    "hide-output": false
   },
   "outputs": [
    {
     "data": {
      "text/plain": [
       "2"
      ]
     },
     "execution_count": 3,
     "metadata": {},
     "output_type": "execute_result"
    }
   ],
   "source": [
    "x = 2"
   ]
  },
  {
   "cell_type": "code",
   "execution_count": 4,
   "metadata": {
    "hide-output": false
   },
   "outputs": [
    {
     "name": "stdout",
     "output_type": "stream",
     "text": [
      "2\n"
     ]
    }
   ],
   "source": [
    "; echo $x"
   ]
  },
  {
   "cell_type": "markdown",
   "metadata": {},
   "source": [
    "### Modo Pacote\n",
    "\n",
    "Digitando `]`, você entra no modo pacote.\n",
    "\n",
    "- `] add Expectations` vai adicionar um pacote (aqui, `Expectations.jl`)  \n",
    "- Da mesma forma, `] rm Expectations` removerá este pacote;  \n",
    "- `] st` irá lhe mostrar instantaneamente o que você instalou;  \n",
    "- `] up` irá (inteligentemente) configurar versões dos seus pacotes, e  \n",
    "- `] precompile` irá precompilar todas as coisas possíveis.  \n",
    "- `] build` irá executar scripts de construção para todos os pacotes.  \n",
    "- Executando `] preview` antes de um comando (ou seja., `] preview up`) exibirá as alterações sem executar.\n",
    "\n",
    "\n",
    "Você poderá obter uma lista completa dos pacotes pela rotina."
   ]
  },
  {
   "cell_type": "code",
   "execution_count": 5,
   "metadata": {
    "hide-output": false
   },
   "outputs": [
    {
     "name": "stdout",
     "output_type": "stream",
     "text": [
      "  \u001b[1mWelcome to the Pkg REPL-mode\u001b[22m. To return to the \u001b[36mjulia>\u001b[39m prompt, either press\n",
      "  backspace when the input line is empty or press Ctrl+C.\n",
      "\n",
      "  \u001b[1mSynopsis\u001b[22m\n",
      "\n",
      "\u001b[36m  pkg> cmd [opts] [args]\u001b[39m\n",
      "\n",
      "  Multiple commands can be given on the same line by interleaving a \u001b[36m;\u001b[39m between\n",
      "  the commands.\n",
      "\n",
      "  \u001b[1mCommands\u001b[22m\n",
      "\n",
      "  \u001b[36mactivate\u001b[39m: set the primary environment the package manager manipulates\n",
      "\n",
      "  \u001b[36madd\u001b[39m: add packages to project\n",
      "\n",
      "  \u001b[36mbuild\u001b[39m: run the build script for packages\n",
      "\n",
      "  \u001b[36mdevelop\u001b[39m: clone the full package repo locally for development\n",
      "\n",
      "  \u001b[36mfree\u001b[39m: undoes a \u001b[36mpin\u001b[39m, \u001b[36mdevelop\u001b[39m, or stops tracking a repo\n",
      "\n",
      "  \u001b[36mgc\u001b[39m: garbage collect packages not used for a significant time\n",
      "\n",
      "  \u001b[36mgenerate\u001b[39m: generate files for a new project\n",
      "\n",
      "  \u001b[36mhelp\u001b[39m: show this message\n",
      "\n",
      "  \u001b[36minstantiate\u001b[39m: downloads all the dependencies for the project\n",
      "\n",
      "  \u001b[36mpin\u001b[39m: pins the version of packages\n",
      "\n",
      "  \u001b[36mprecompile\u001b[39m: precompile all the project dependencies\n",
      "\n",
      "  \u001b[36mpreview\u001b[39m: previews a subsequent command without affecting the current state\n",
      "\n",
      "  \u001b[36mremove\u001b[39m: remove packages from project or manifest\n",
      "\n",
      "  \u001b[36mresolve\u001b[39m: resolves to update the manifest from changes in dependencies of\n",
      "  developed packages\n",
      "\n",
      "  \u001b[36mstatus\u001b[39m: summarize contents of and changes to environment\n",
      "\n",
      "  \u001b[36mtest\u001b[39m: run tests for packages\n",
      "\n",
      "  \u001b[36mupdate\u001b[39m: update packages in manifest\n",
      "\n",
      "  \u001b[36mregistry add\u001b[39m: add package registries\n",
      "\n",
      "  \u001b[36mregistry remove\u001b[39m: remove package registries\n",
      "\n",
      "  \u001b[36mregistry status\u001b[39m: information about installed registries\n",
      "\n",
      "  \u001b[36mregistry update\u001b[39m: update package registries"
     ]
    }
   ],
   "source": [
    "] ?"
   ]
  },
  {
   "cell_type": "markdown",
   "metadata": {},
   "source": [
    "Em alguns sistemas operacionais (bem como OSX), a colagem do REPL poderá não funcionar no modo pacote, e você irá precisar acessar pelo jeito padrão (digite `]` primeiro e depois execute os comandos)."
   ]
  },
  {
   "cell_type": "markdown",
   "metadata": {},
   "source": [
    "### Modo de ajuda\n",
    "\n",
    "Digitando `?` você entrará no modo de ajuda.\n",
    "\n",
    "O uso dessa chave é para encontrar documentos de funções e macros, por exemplo."
   ]
  },
  {
   "cell_type": "markdown",
   "metadata": {
    "hide-output": false
   },
   "source": [
    "```julia\n",
    "? print\n",
    "```\n"
   ]
  },
  {
   "cell_type": "markdown",
   "metadata": {},
   "source": [
    "Perceba que, esses objetos devem ser carregados no Julia para retornarem à sua documentação, por exemplo."
   ]
  },
  {
   "cell_type": "markdown",
   "metadata": {
    "hide-output": false
   },
   "source": [
    "```julia\n",
    "? @test\n",
    "```\n"
   ]
  },
  {
   "cell_type": "markdown",
   "metadata": {},
   "source": [
    "vai falhar, porém"
   ]
  },
  {
   "cell_type": "markdown",
   "metadata": {
    "hide-output": false
   },
   "source": [
    "```julia\n",
    "using Test\n",
    "```\n"
   ]
  },
  {
   "cell_type": "markdown",
   "metadata": {
    "hide-output": false
   },
   "source": [
    "```julia\n",
    "? @test\n",
    "```\n"
   ]
  },
  {
   "cell_type": "markdown",
   "metadata": {},
   "source": [
    "irá funcionar."
   ]
  },
  {
   "cell_type": "markdown",
   "metadata": {},
   "source": [
    "## Atom\n",
    "\n",
    "Como foi discutido [previamente](https://lectures.quantecon.org/getting_started_julia/getting_started.html), eventualmente você desejará usar um editor de texto completo.\n",
    "\n",
    "O mais rico em recursos para desenvolvimento em Julia é o [Atom](https://atom.io/), com o pacote [Juno](http://junolab.org/).\n",
    "\n",
    "Há várias razões para se usar um editor de texto Atom, dentre as quais:\n",
    "\n",
    "- Integração do Git (mais detalhes na [próxima aula](https://lectures.quantecon.org/version_control.html));  \n",
    "- Verificação fácil de variáveis e dados;  \n",
    "- Fácil execução de blocos de código, bem como dos trechos soltos de códigos personalizados, e\n",
    "- Integração com a documentação Julia e plots.  "
   ]
  },
  {
   "cell_type": "markdown",
   "metadata": {},
   "source": [
    "### Instalação e Configuração"
   ]
  },
  {
   "cell_type": "markdown",
   "metadata": {},
   "source": [
    "#### Instalando Atom\n",
    "\n",
    "1. Faça o download e instale Atom do [Atom website](https://atom.io/). \n",
    "1. (Recomendação): mude as configurações-padrão do Atom.  \n",
    "  \n",
    "  - Use `Ctrl-,` para obter o painel `Settings`;  \n",
    "  - Escolha a aba `Packages`;  \n",
    "  - Digite `line-ending-selector` no Filter e então cilque em “Settings” para este pacote.  \n",
    "    \n",
    "    - Mude a linha padrão em `LF` (necessário apenas no Windows)  \n",
    "    \n",
    "  - Escolha a aba do Editor.  \n",
    "    \n",
    "    - Ative `Soft Wrap`.\n",
    "    - Coloque o padrão `Tab Length` em `4`.   "
   ]
  },
  {
   "cell_type": "markdown",
   "metadata": {},
   "source": [
    "#### Instalando Juno\n",
    "\n",
    "1. Use `Ctrl-,` tpara obter o painel de configurações;  \n",
    "2. Vá para a aba `Install`;  \n",
    "3. Digite `uber-juno` na caixa de pesquisa e então clique 'Install' no pacote que aparecer;  \n",
    "4. Espere enquanto as dependências do Juno são instaladas, e  \n",
    "5. Quando lhe questionar se você quer usar o layout padrão ou não, clique `yes`.  \n",
    "\n",
    "\n",
    "Nesse ponto, você deverá ver um REPL construído no fundo da tela e estar disponível para usar Julia e Atom.\n",
    "\n",
    "<a id='atom-troubleshooting'></a>"
   ]
  },
  {
   "cell_type": "markdown",
   "metadata": {},
   "source": [
    "#### Solução de problemas\n",
    "\n",
    "Às vezes, o Juno irá falhar em encontrar o executor Julia (digamos, se ele estiver instalado em algum lugar fora do padrão ou se você tiver vários)\n",
    "\n",
    "Para fazer isso:\n",
    "1. `Ctrl-,` para obter o painel de configurações, e selecionar a aba de Pacotes;\n",
    "2. Digitar `julia-client` e escolher 'Configurações', e\n",
    "3. Encontrar o Julia Path, and preencha-o com a localização do binário Julia.\n",
    "\n",
    "> - Para encontrar o binário, você pode rodar `Sys.BINDIR` no REPL,  e acrescentar um `/julia` adicional ao fim da tela - ex.: `C:\\Users\\YOURUSERNAME\\AppData\\Local\\Julia-1.0.1\\bin\\julia.exe` no Windows como `/Applications/Julia-1.0.app/Contents/Resources/julia/bin/julia` no OSX.  \n",
    "\n",
    "\n",
    "\n",
    "Veja as [instruções setup para Juno](http://docs.junolab.org/latest/man/installation.html) para que não ocorra problema.\n",
    "\n",
    "Se você atualizar o Atom e ele quebrar o Juno, execute o seguinte em um terminal."
   ]
  },
  {
   "cell_type": "markdown",
   "metadata": {
    "hide-output": false
   },
   "source": [
    "```text\n",
    "apm uninstall ink julia-client\n",
    "apm install ink julia-client\n",
    "```\n"
   ]
  },
  {
   "cell_type": "markdown",
   "metadata": {},
   "source": [
    "Se você não conseguir instalar o `apm` no seu PATH, poderá fazer o acima, executando o seguinte no PowerShell:"
   ]
  },
  {
   "cell_type": "markdown",
   "metadata": {
    "hide-output": false
   },
   "source": [
    "```text\n",
    "cd $ENV:LOCALAPPDATA/atom/bin\n",
    "```\n"
   ]
  },
  {
   "cell_type": "markdown",
   "metadata": {},
   "source": [
    "Em seguida, navegue para uma pasta como `C: \\Users\\USERNAME\\AppData\\Local\\atom\\bin` (que conterá a ferramenta `apm`) e execute:\n",
    "\n",
    "<a id='upgrading-julia'></a>"
   ]
  },
  {
   "cell_type": "markdown",
   "metadata": {},
   "source": [
    "#### Atualizando Julia\n",
    "\n",
    "Para obter uma nova versão trabalhando com o Jupyter, execute (no REPL da nova versão)"
   ]
  },
  {
   "cell_type": "markdown",
   "metadata": {
    "hide-output": false
   },
   "source": [
    "```julia\n",
    "] add IJulia\n",
    "] build IJulia\n",
    "```\n"
   ]
  },
  {
   "attachments": {
    "image.png": {
     "image/png": "[encoded data removed]"
    }
   },
   "cell_type": "markdown",
   "metadata": {},
   "source": [
    "Isto instalará (e construirá) o kernel `IJulia`.\n",
    "\n",
    "Para fazê-lo funcionar com o Atom, abra a paleta de comandos e digite \"Julia Client: Settings\".\n",
    "\n",
    "Em seguida, na caixa \"Caminho da Julia\", digite o caminho para o seu executável.\n",
    "\n",
    "Você pode encontrar a pasta executando `Sys.BINDIR` em um novo REPL e, em seguida, adicione `/julia` no final para fornecer o caminho exato.\n",
    "\n",
    "Por exemplo:\n",
    "\n",
    "![image.png](attachment:image.png)"
   ]
  },
  {
   "attachments": {},
   "cell_type": "markdown",
   "metadata": {},
   "source": [
    "### Layout Padrão\n",
    "\n",
    "Se você seguir as instruções, deverá ver algo semelhante a abertura de um novo arquivo.\n",
    "\n",
    "Se não, simplesmente vá a paleta de comando and digite “Julia standard layout”.\n",
    "\n",
    "<img src=\"https://julia.quantecon.org/more_julia/_static/figures/juno-standard-layout.png\" style=\"width:100%;\">\n",
    "  \n",
    "O painel do fundo é um REPL padrão, enquanto suporta os diferentes modos abaixo dele.\n",
    "\n",
    "O painel de \"espaço de trabalho” são objetos definidos instantaneamente.\n",
    "\n",
    "Por exemplo, se nós definirmos um objeto no REPL:"
   ]
  },
  {
   "cell_type": "code",
   "execution_count": 6,
   "metadata": {
    "hide-output": false
   },
   "outputs": [
    {
     "data": {
      "text/plain": [
       "2"
      ]
     },
     "execution_count": 6,
     "metadata": {},
     "output_type": "execute_result"
    }
   ],
   "source": [
    "x = 2"
   ]
  },
  {
   "attachments": {},
   "cell_type": "markdown",
   "metadata": {},
   "source": [
    "Nossa área de trabalho lerá:\n",
    "\n",
    "<img src=\"https://julia.quantecon.org/more_julia/_static/figures/juno-workspace-1.png\" style=\"width:100%;\">\n",
    "\n",
    "  \n",
    "A variável `ans` simplesmente captura o resultado do último valor computado. \n"
   ]
  },
  {
   "attachments": {},
   "cell_type": "markdown",
   "metadata": {},
   "source": [
    "O painel `Documentation` simplesmente nos permite consultar a documentação Julia.\n",
    "\n",
    "<img src=\"https://julia.quantecon.org/more_julia/_static/figures/juno-docs.png\" style=\"width:100%;\">\n",
    "\n",
    "  \n",
    "O painel `Plots` captura os plots dos resultados do Julia (o código como se segue):"
   ]
  },
  {
   "cell_type": "markdown",
   "metadata": {
    "hide-output": false
   },
   "source": [
    "```julia\n",
    "using Plots\n",
    "gr(fmt = :png);\n",
    "data = rand(10, 10)\n",
    "h = heatmap(data)\n",
    "```\n"
   ]
  },
  {
   "attachments": {},
   "cell_type": "markdown",
   "metadata": {},
   "source": [
    "<img src=\"https://julia.quantecon.org/more_julia/_static/figures/juno-plots.png\" style=\"width:100%;\">\n",
    "  \n",
    "**Observação:** As características do plot não são perfeitamente confiáveis em todos os finais da postagem, veja a página [do uso básico](http://docs.junolab.org/latest/man/basic_usage.html)."
   ]
  },
  {
   "cell_type": "markdown",
   "metadata": {},
   "source": [
    "### Outras características\n",
    "\n",
    "- `` Shift + Enter `` irá avaliar uma seleção ou linha em destaque (como abaixo). \n",
    "- O símbolo para rodar na barra lateral esquerda (ou `Ctrl+Shift+Enter`) irá rodar todo o arquivo.  \n",
    "\n",
    "\n",
    "Veja [o uso básico](http://docs.junolab.org/latest/man/basic_usage.html) para exploração das características, e o [FAQ](http://docs.junolab.org/latest/man/faq.html) para mais passos avançados (ex.: usando com o`Docker`).\n",
    "\n",
    "\n",
    "<a id='jl-packages'></a>"
   ]
  },
  {
   "cell_type": "markdown",
   "metadata": {},
   "source": [
    "## Ambiente de Pacotes\n",
    "\n",
    "O gerenciador de pacotes Julia deixa você configurar para o sistema “virtualenvs,” ou subconjuntos de pacotes que utilizam um conjunto de ações subjacentes na máquina.\n",
    "\n",
    "Desse jeito, você pode trabalhar (especificamente) as dependências (pacotes são requeridos) para um projeto sem ter de se preocupar com outros.\n",
    "\n",
    "- Um `environment` é um conjunto de pacotes especificado por um `Project.toml` (e opcionalmente, um `Manifest.toml`). \n",
    "- Um `registry` é um repositório corresponente a uma lista (típicamente) de registro dos pacotes, dos quais Julia pode puxar (para mais osbre os repositórios, veja a [versão de controle](https://lectures.quantecon.org/version_control.html)).  \n",
    "- Um `depot` é um diretório, como o `~/.julia`, que contem ações (compilar coisas escondidas, registros, fonte do diretório dos pacotes, etc.)\n",
    "\n",
    "\n",
    "Essencialmente, um ambiente é uma árvore de dependência para um projeto, ou um “filtro da mente” para o gerenciador de pacotes do Julia.\n",
    "\n",
    "- Nós podemos ver o ambiente padrão (`v1.1`) como:  "
   ]
  },
  {
   "cell_type": "code",
   "execution_count": 7,
   "metadata": {
    "hide-output": false
   },
   "outputs": [
    {
     "name": "stdout",
     "output_type": "stream",
     "text": [
      "\u001b[36m\u001b[1mProject \u001b[22m\u001b[39mquantecon-notebooks-julia v0.4.0\n",
      "\u001b[32m\u001b[1m    Status\u001b[22m\u001b[39m `~/repos/lecture-source-jl/_build/website/jupyter/_downloads/executed/Project.toml`\n",
      " \u001b[90m [2169fc97]\u001b[39m\u001b[37m AlgebraicMultigrid v0.2.2\u001b[39m\n",
      " \u001b[90m [28f2ccd6]\u001b[39m\u001b[37m ApproxFun v0.11.5\u001b[39m\n",
      " \u001b[90m [7d9fca2a]\u001b[39m\u001b[37m Arpack v0.3.1\u001b[39m\n",
      " \u001b[90m [aae01518]\u001b[39m\u001b[37m BandedMatrices v0.10.1\u001b[39m\n",
      " \u001b[90m [6e4b80f9]\u001b[39m\u001b[37m BenchmarkTools v0.4.3\u001b[39m\n",
      " \u001b[90m [a134a8b2]\u001b[39m\u001b[37m BlackBoxOptim v0.5.0\u001b[39m\n",
      " \u001b[90m [ffab5731]\u001b[39m\u001b[37m BlockBandedMatrices v0.4.6\u001b[39m\n",
      " \u001b[90m [324d7699]\u001b[39m\u001b[37m CategoricalArrays v0.7.1\u001b[39m\n",
      " \u001b[90m [34da2185]\u001b[39m\u001b[37m Compat v2.1.0\u001b[39m\n",
      " \u001b[90m [a93c6f00]\u001b[39m\u001b[37m DataFrames v0.19.4\u001b[39m\n",
      " \u001b[90m [1313f7d8]\u001b[39m\u001b[37m DataFramesMeta v0.5.0\u001b[39m\n",
      " \u001b[90m [5721bf48]\u001b[39m\u001b[37m DataVoyager v0.3.1\u001b[39m\n",
      " \u001b[90m [39dd38d3]\u001b[39m\u001b[37m Dierckx v0.4.1\u001b[39m\n",
      " \u001b[90m [9fdde737]\u001b[39m\u001b[37m DiffEqOperators v3.5.0\u001b[39m\n",
      " \u001b[90m [31c24e10]\u001b[39m\u001b[37m Distributions v0.21.3\u001b[39m\n",
      " \u001b[90m [2fe49d83]\u001b[39m\u001b[37m Expectations v1.1.1\u001b[39m\n",
      " \u001b[90m [a1e7a1ef]\u001b[39m\u001b[37m Expokit v0.2.0\u001b[39m\n",
      " \u001b[90m [d4d017d3]\u001b[39m\u001b[37m ExponentialUtilities v1.5.1\u001b[39m\n",
      " \u001b[90m [442a2c76]\u001b[39m\u001b[37m FastGaussQuadrature v0.4.0\u001b[39m\n",
      " \u001b[90m [1a297f60]\u001b[39m\u001b[37m FillArrays v0.6.4\u001b[39m\n",
      " \u001b[90m [9d5cd8c9]\u001b[39m\u001b[37m FixedEffectModels v0.8.5 ⚲\u001b[39m\n",
      " \u001b[90m [c8885935]\u001b[39m\u001b[37m FixedEffects v0.3.0 ⚲\u001b[39m\n",
      " \u001b[90m [587475ba]\u001b[39m\u001b[37m Flux v0.9.0\u001b[39m\n",
      " \u001b[90m [f6369f11]\u001b[39m\u001b[37m ForwardDiff v0.10.3\u001b[39m\n",
      " \u001b[90m [38e38edf]\u001b[39m\u001b[37m GLM v1.3.1 ⚲\u001b[39m\n",
      " \u001b[90m [28b8d3ca]\u001b[39m\u001b[37m GR v0.41.0\u001b[39m\n",
      " \u001b[90m [40713840]\u001b[39m\u001b[37m IncompleteLU v0.1.1\u001b[39m\n",
      " \u001b[90m [43edad99]\u001b[39m\u001b[37m InstantiateFromURL v0.4.0\u001b[39m\n",
      " \u001b[90m [a98d9a8b]\u001b[39m\u001b[37m Interpolations v0.12.2\u001b[39m\n",
      " \u001b[90m [b6b21f68]\u001b[39m\u001b[37m Ipopt v0.6.0\u001b[39m\n",
      " \u001b[90m [42fd0dbc]\u001b[39m\u001b[37m IterativeSolvers v0.8.1\u001b[39m\n",
      " \u001b[90m [4076af6c]\u001b[39m\u001b[37m JuMP v0.20.0\u001b[39m\n",
      " \u001b[90m [5ab0869b]\u001b[39m\u001b[37m KernelDensity v0.5.1\u001b[39m\n",
      " \u001b[90m [ba0b0d4f]\u001b[39m\u001b[37m Krylov v0.3.0\u001b[39m\n",
      " \u001b[90m [0b1a1467]\u001b[39m\u001b[37m KrylovKit v0.4.0\u001b[39m\n",
      " \u001b[90m [b964fa9f]\u001b[39m\u001b[37m LaTeXStrings v1.0.3\u001b[39m\n",
      " \u001b[90m [5078a376]\u001b[39m\u001b[37m LazyArrays v0.10.0\u001b[39m\n",
      " \u001b[90m [0fc2ff8b]\u001b[39m\u001b[37m LeastSquaresOptim v0.7.4\u001b[39m\n",
      " \u001b[90m [093fc24a]\u001b[39m\u001b[37m LightGraphs v1.3.0\u001b[39m\n",
      " \u001b[90m [7a12625a]\u001b[39m\u001b[37m LinearMaps v2.5.2\u001b[39m\n",
      " \u001b[90m [5c8ed15e]\u001b[39m\u001b[37m LinearOperators v0.5.4\u001b[39m\n",
      " \u001b[90m [76087f3c]\u001b[39m\u001b[37m NLopt v0.5.1\u001b[39m\n",
      " \u001b[90m [2774e3e8]\u001b[39m\u001b[37m NLsolve v4.0.0\u001b[39m\n",
      " \u001b[90m [429524aa]\u001b[39m\u001b[37m Optim v0.19.3\u001b[39m\n",
      " \u001b[90m [1dea7af3]\u001b[39m\u001b[37m OrdinaryDiffEq v5.3.0\u001b[39m\n",
      " \u001b[90m [d96e819e]\u001b[39m\u001b[37m Parameters v0.12.0\u001b[39m\n",
      " \u001b[90m [14b8a8f1]\u001b[39m\u001b[37m PkgTemplates v0.6.3\u001b[39m\n",
      " \u001b[90m [91a5bcdd]\u001b[39m\u001b[37m Plots v0.27.0\u001b[39m\n",
      " \u001b[90m [f27b6e38]\u001b[39m\u001b[37m Polynomials v0.5.2\u001b[39m\n",
      " \u001b[90m [af69fa37]\u001b[39m\u001b[37m Preconditioners v0.3.0\u001b[39m\n",
      " \u001b[90m [92933f4c]\u001b[39m\u001b[37m ProgressMeter v1.1.0\u001b[39m\n",
      " \u001b[90m [1fd47b50]\u001b[39m\u001b[37m QuadGK v2.1.0\u001b[39m\n",
      " \u001b[90m [fcd29c91]\u001b[39m\u001b[37m QuantEcon v0.16.1\u001b[39m\n",
      " \u001b[90m [1a8c2f83]\u001b[39m\u001b[37m Query v0.12.2\u001b[39m\n",
      " \u001b[90m [ce6b1742]\u001b[39m\u001b[37m RDatasets v0.6.3\u001b[39m\n",
      " \u001b[90m [d519eb52]\u001b[39m\u001b[37m RegressionTables v0.2.2 ⚲\u001b[39m\n",
      " \u001b[90m [295af30f]\u001b[39m\u001b[37m Revise v2.2.0\u001b[39m\n",
      " \u001b[90m [f2b01f46]\u001b[39m\u001b[37m Roots v0.8.3\u001b[39m\n",
      " \u001b[90m [47a9eef4]\u001b[39m\u001b[37m SparseDiffTools v0.8.0\u001b[39m\n",
      " \u001b[90m [684fba80]\u001b[39m\u001b[37m SparsityDetection v0.1.1\u001b[39m\n",
      " \u001b[90m [90137ffa]\u001b[39m\u001b[37m StaticArrays v0.11.0\u001b[39m\n",
      " \u001b[90m [2913bbd2]\u001b[39m\u001b[37m StatsBase v0.32.0\u001b[39m\n",
      " \u001b[90m [3eaba693]\u001b[39m\u001b[37m StatsModels v0.6.5\u001b[39m\n",
      " \u001b[90m [f3b207a7]\u001b[39m\u001b[37m StatsPlots v0.12.0\u001b[39m\n",
      " \u001b[90m [112f6efa]\u001b[39m\u001b[37m VegaLite v0.7.0\u001b[39m\n",
      " \u001b[90m [e88e6eb3]\u001b[39m\u001b[37m Zygote v0.3.4\u001b[39m\n",
      " \u001b[90m [37e2e46d]\u001b[39m\u001b[37m LinearAlgebra \u001b[39m\n",
      " \u001b[90m [9a3f8284]\u001b[39m\u001b[37m Random \u001b[39m\n",
      " \u001b[90m [2f01184e]\u001b[39m\u001b[37m SparseArrays \u001b[39m\n",
      " \u001b[90m [10745b16]\u001b[39m\u001b[37m Statistics \u001b[39m\n",
      " \u001b[90m [8dfed614]\u001b[39m\u001b[37m Test \u001b[39m\n"
     ]
    }
   ],
   "source": [
    "] st"
   ]
  },
  {
   "cell_type": "markdown",
   "metadata": {},
   "source": [
    "- Podemos também criar e ativar um novo ambiente:"
   ]
  },
  {
   "cell_type": "code",
   "execution_count": 8,
   "metadata": {
    "hide-output": false
   },
   "outputs": [
    {
     "name": "stdout",
     "output_type": "stream",
     "text": [
      "\u001b[32m\u001b[1mGenerating\u001b[22m\u001b[39m project ExampleEnvironment:\n",
      "    ExampleEnvironment/Project.toml\n",
      "    ExampleEnvironment/src/ExampleEnvironment.jl\n"
     ]
    }
   ],
   "source": [
    "] generate ExampleEnvironment"
   ]
  },
  {
   "cell_type": "markdown",
   "metadata": {},
   "source": [
    "- E ir para:  "
   ]
  },
  {
   "cell_type": "code",
   "execution_count": 9,
   "metadata": {
    "hide-output": false
   },
   "outputs": [
    {
     "name": "stdout",
     "output_type": "stream",
     "text": [
      "/home/ubuntu/repos/lecture-source-jl/_build/website/jupyter/_downloads/executed/more_julia/ExampleEnvironment\n"
     ]
    }
   ],
   "source": [
    "; cd ExampleEnvironment"
   ]
  },
  {
   "cell_type": "markdown",
   "metadata": {},
   "source": [
    "- Para ativar o diretório, basta apenas"
   ]
  },
  {
   "cell_type": "code",
   "execution_count": 10,
   "metadata": {
    "hide-output": false
   },
   "outputs": [
    {
     "name": "stdout",
     "output_type": "stream",
     "text": [
      "\u001b[32m\u001b[1mActivating\u001b[22m\u001b[39m environment at `~/repos/lecture-source-jl/_build/website/jupyter/_downloads/executed/more_julia/ExampleEnvironment/Project.toml`\n"
     ]
    }
   ],
   "source": [
    "] activate ."
   ]
  },
  {
   "cell_type": "markdown",
   "metadata": {},
   "source": [
    "onde “.” representa o “diretório trabalhado presente”\n",
    "\n",
    "- Façamos algumas mudanças: "
   ]
  },
  {
   "cell_type": "code",
   "execution_count": 11,
   "metadata": {
    "hide-output": false
   },
   "outputs": [
    {
     "name": "stdout",
     "output_type": "stream",
     "text": [
      "\u001b[32m\u001b[1m  Updating\u001b[22m\u001b[39m registry at `~/.julia/registries/General`\n",
      "\u001b[32m\u001b[1m  Updating\u001b[22m\u001b[39m git-repo `https://github.com/JuliaRegistries/General.git`\n",
      "\u001b[?25l\u001b[2K\u001b[?25h\u001b[32m\u001b[1m Resolving\u001b[22m\u001b[39m package versions...\n",
      "\u001b[32m\u001b[1m  Updating\u001b[22m\u001b[39m `~/repos/lecture-source-jl/_build/website/jupyter/_downloads/executed/more_julia/ExampleEnvironment/Project.toml`\n",
      " \u001b[90m [2fe49d83]\u001b[39m\u001b[92m + Expectations v1.1.1\u001b[39m\n",
      " \u001b[90m [d96e819e]\u001b[39m\u001b[92m + Parameters v0.12.0\u001b[39m\n",
      "\u001b[32m\u001b[1m  Updating\u001b[22m\u001b[39m `~/repos/lecture-source-jl/_build/website/jupyter/_downloads/executed/more_julia/ExampleEnvironment/Manifest.toml`\n",
      " \u001b[90m [7d9fca2a]\u001b[39m\u001b[92m + Arpack v0.4.0\u001b[39m\n",
      " \u001b[90m [68821587]\u001b[39m\u001b[92m + Arpack_jll v3.5.0+2\u001b[39m\n",
      " \u001b[90m [b99e7846]\u001b[39m\u001b[92m + BinaryProvider v0.5.8\u001b[39m\n",
      " \u001b[90m [34da2185]\u001b[39m\u001b[92m + Compat v3.2.0\u001b[39m\n",
      " \u001b[90m [9a962f9c]\u001b[39m\u001b[92m + DataAPI v1.1.0\u001b[39m\n",
      " \u001b[90m [864edb3b]\u001b[39m\u001b[92m + DataStructures v0.17.9\u001b[39m\n",
      " \u001b[90m [31c24e10]\u001b[39m\u001b[92m + Distributions v0.22.3\u001b[39m\n",
      " \u001b[90m [2fe49d83]\u001b[39m\u001b[92m + Expectations v1.1.1\u001b[39m\n",
      " \u001b[90m [442a2c76]\u001b[39m\u001b[92m + FastGaussQuadrature v0.4.2\u001b[39m\n",
      " \u001b[90m [1a297f60]\u001b[39m\u001b[92m + FillArrays v0.8.4\u001b[39m\n",
      " \u001b[90m [e1d29d7a]\u001b[39m\u001b[92m + Missings v0.4.3\u001b[39m\n",
      " \u001b[90m [4536629a]\u001b[39m\u001b[92m + OpenBLAS_jll v0.3.7+5\u001b[39m\n",
      " \u001b[90m [efe28fd5]\u001b[39m\u001b[92m + OpenSpecFun_jll v0.5.3+1\u001b[39m\n",
      " \u001b[90m [bac558e1]\u001b[39m\u001b[92m + OrderedCollections v1.1.0\u001b[39m\n",
      " \u001b[90m [90014a1f]\u001b[39m\u001b[92m + PDMats v0.9.11\u001b[39m\n",
      " \u001b[90m [d96e819e]\u001b[39m\u001b[92m + Parameters v0.12.0\u001b[39m\n",
      " \u001b[90m [1fd47b50]\u001b[39m\u001b[92m + QuadGK v2.3.1\u001b[39m\n",
      " \u001b[90m [79098fc4]\u001b[39m\u001b[92m + Rmath v0.6.0\u001b[39m\n",
      " \u001b[90m [a2af1166]\u001b[39m\u001b[92m + SortingAlgorithms v0.3.1\u001b[39m\n",
      " \u001b[90m [276daf66]\u001b[39m\u001b[92m + SpecialFunctions v0.9.0\u001b[39m\n",
      " \u001b[90m [2913bbd2]\u001b[39m\u001b[92m + StatsBase v0.32.0\u001b[39m\n",
      " \u001b[90m [4c63d2b9]\u001b[39m\u001b[92m + StatsFuns v0.9.3\u001b[39m\n",
      " \u001b[90m [2a0f44e3]\u001b[39m\u001b[92m + Base64 \u001b[39m\n",
      " \u001b[90m [ade2ca70]\u001b[39m\u001b[92m + Dates \u001b[39m\n",
      " \u001b[90m [8bb1440f]\u001b[39m\u001b[92m + DelimitedFiles \u001b[39m\n",
      " \u001b[90m [8ba89e20]\u001b[39m\u001b[92m + Distributed \u001b[39m\n",
      " \u001b[90m [b77e0a4c]\u001b[39m\u001b[92m + InteractiveUtils \u001b[39m\n",
      " \u001b[90m [76f85450]\u001b[39m\u001b[92m + LibGit2 \u001b[39m\n",
      " \u001b[90m [8f399da3]\u001b[39m\u001b[92m + Libdl \u001b[39m\n",
      " \u001b[90m [37e2e46d]\u001b[39m\u001b[92m + LinearAlgebra \u001b[39m\n",
      " \u001b[90m [56ddb016]\u001b[39m\u001b[92m + Logging \u001b[39m\n",
      " \u001b[90m [d6f4376e]\u001b[39m\u001b[92m + Markdown \u001b[39m\n",
      " \u001b[90m [a63ad114]\u001b[39m\u001b[92m + Mmap \u001b[39m\n",
      " \u001b[90m [44cfe95a]\u001b[39m\u001b[92m + Pkg \u001b[39m\n",
      " \u001b[90m [de0858da]\u001b[39m\u001b[92m + Printf \u001b[39m\n",
      " \u001b[90m [3fa0cd96]\u001b[39m\u001b[92m + REPL \u001b[39m\n",
      " \u001b[90m [9a3f8284]\u001b[39m\u001b[92m + Random \u001b[39m\n",
      " \u001b[90m [ea8e919c]\u001b[39m\u001b[92m + SHA \u001b[39m\n",
      " \u001b[90m [9e88b42a]\u001b[39m\u001b[92m + Serialization \u001b[39m\n",
      " \u001b[90m [1a1011a3]\u001b[39m\u001b[92m + SharedArrays \u001b[39m\n",
      " \u001b[90m [6462fe0b]\u001b[39m\u001b[92m + Sockets \u001b[39m\n",
      " \u001b[90m [2f01184e]\u001b[39m\u001b[92m + SparseArrays \u001b[39m\n",
      " \u001b[90m [10745b16]\u001b[39m\u001b[92m + Statistics \u001b[39m\n",
      " \u001b[90m [4607b0f0]\u001b[39m\u001b[92m + SuiteSparse \u001b[39m\n",
      " \u001b[90m [8dfed614]\u001b[39m\u001b[92m + Test \u001b[39m\n",
      " \u001b[90m [cf7118a7]\u001b[39m\u001b[92m + UUIDs \u001b[39m\n",
      " \u001b[90m [4ec0a83e]\u001b[39m\u001b[92m + Unicode \u001b[39m\n"
     ]
    }
   ],
   "source": [
    "] add Expectations Parameters"
   ]
  },
  {
   "cell_type": "markdown",
   "metadata": {},
   "source": [
    "Perceba a lacuna de vírgulas.\n",
    "\n",
    "- Para ver as mudanças, basta abrir o diretório `ExampleEnvironment` em um editor como o Atom.  \n",
    "\n",
    "\n",
    "O Projeto TOML deverá procurar algo como isso:"
   ]
  },
  {
   "cell_type": "markdown",
   "metadata": {
    "hide-output": false
   },
   "source": [
    "```text\n",
    "name = \"ExampleEnvironment\"\n",
    "uuid = \"14d3e79e-e2e5-11e8-28b9-19823016c34c\"\n",
    "authors = [\"QuantEcon User <quanteconuser@gmail.com>\"]\n",
    "version = \"0.1.0\"\n",
    "\n",
    "[deps]\n",
    "Expectations = \"2fe49d83-0758-5602-8f54-1f90ad0d522b\"\n",
    "Parameters = \"d96e819e-fc66-5662-9728-84c9c7592b0a\"\n",
    "```\n"
   ]
  },
  {
   "cell_type": "markdown",
   "metadata": {},
   "source": [
    "Também podemos:"
   ]
  },
  {
   "cell_type": "code",
   "execution_count": 12,
   "metadata": {
    "hide-output": false
   },
   "outputs": [
    {
     "name": "stdout",
     "output_type": "stream",
     "text": [
      "\u001b[32m\u001b[1mPrecompiling\u001b[22m\u001b[39m project...\n",
      "\u001b[32m\u001b[1mPrecompiling\u001b[22m\u001b[39m ExampleEnvironment\n"
     ]
    },
    {
     "name": "stderr",
     "output_type": "stream",
     "text": [
      "┌ Info: Precompiling ExampleEnvironment [91af1c2b-6561-437a-a0c7-f2a3fdf28827]\n",
      "└ @ Base loading.jl:1273\n"
     ]
    }
   ],
   "source": [
    "] precompile"
   ]
  },
  {
   "cell_type": "markdown",
   "metadata": {},
   "source": [
    "**Observação** Os arquivos TOML são independentes das ações atuais (enquanto estiverem em `~/.julia/packages`, `~/.julia/dev`, e `~/.julia/compiled`).\n",
    "\n",
    "Você pode supor do TOML ser uma demanda específica para recursos, que é suprido pelo depósito `~/.julia` do usuário.\n",
    "\n",
    "- Para retornar ao ambiente-padrão Julia, basta:  "
   ]
  },
  {
   "cell_type": "code",
   "execution_count": 13,
   "metadata": {
    "hide-output": false
   },
   "outputs": [
    {
     "name": "stdout",
     "output_type": "stream",
     "text": [
      "\u001b[32m\u001b[1mActivating\u001b[22m\u001b[39m environment at `~/repos/lecture-source-jl/_build/website/jupyter/_downloads/executed/Project.toml`\n"
     ]
    }
   ],
   "source": [
    "] activate"
   ]
  },
  {
   "cell_type": "markdown",
   "metadata": {},
   "source": [
    "sem argumento algum.\n",
    "\n",
    "- Por último, vamos limpar.  "
   ]
  },
  {
   "cell_type": "code",
   "execution_count": 14,
   "metadata": {
    "hide-output": false
   },
   "outputs": [
    {
     "name": "stdout",
     "output_type": "stream",
     "text": [
      "/home/ubuntu/repos/lecture-source-jl/_build/website/jupyter/_downloads/executed/more_julia\n"
     ]
    }
   ],
   "source": [
    "; cd .."
   ]
  },
  {
   "cell_type": "code",
   "execution_count": 15,
   "metadata": {
    "hide-output": false
   },
   "outputs": [],
   "source": [
    "; rm -rf ExampleEnvironment"
   ]
  },
  {
   "cell_type": "markdown",
   "metadata": {},
   "source": [
    "### InstantiateFromURL\n",
    "\n",
    "Com esse conhecimento, podemos explicar a configuração dos blocos."
   ]
  },
  {
   "cell_type": "code",
   "execution_count": 16,
   "metadata": {
    "hide-output": true
   },
   "outputs": [],
   "source": [
    "using InstantiateFromURL\n",
    "github_project(\"QuantEcon/quantecon-notebooks-julia\", version = \"0.5.0\")\n",
    "# github_project(\"QuantEcon/quantecon-notebooks-julia\", version = \"0.5.0\", instantiate = true) # uncomment to force package installation"
   ]
  },
  {
   "cell_type": "markdown",
   "metadata": {},
   "source": [
    "O que essa função `github_project` faz é ativar (e se necessário, baixar, instanciar e pré-compilar) um ambiente Julia específico."
   ]
  }
 ],
 "metadata": {
  "date": 1580349905.8167007,
  "download_nb": 1,
  "download_nb_path": "https://julia.quantecon.org/",
  "filename": "tools_editors.rst",
  "filename_with_path": "more_julia/tools_editors",
  "kernelspec": {
   "display_name": "Julia 1.3.1",
   "language": "julia",
   "name": "julia-1.3"
  },
  "language_info": {
   "file_extension": ".jl",
   "mimetype": "application/julia",
   "name": "julia",
   "version": "1.3.1"
  },
  "title": "Julia Tools and Editors"
 },
 "nbformat": 4,
 "nbformat_minor": 2
}
