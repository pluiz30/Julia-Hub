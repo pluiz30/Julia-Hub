{
 "cells": [
  {
   "cell_type": "markdown",
   "metadata": {},
   "source": [
    "\n",
    "<a id='types-methods'></a>\n",
    "<div id=\"qe-notebook-header\" style=\"text-align:right;\">\n",
    "        <a href=\"https://quantecon.org/\" title=\"quantecon.org\">\n",
    "                <img style=\"width:250px;display:inline;\" src=\"https://assets.quantecon.org/img/qe-menubar-logo.svg\" alt=\"QuantEcon\">\n",
    "        </a>\n",
    "</div>"
   ]
  },
  {
   "cell_type": "markdown",
   "metadata": {},
   "source": [
    "# A Necessidade de Velocidade"
   ]
  },
  {
   "cell_type": "markdown",
   "metadata": {},
   "source": [
    "## Conteúdo\n",
    "\n",
    "- [A Necessidade de Velocidade](#A-Necessidade-de-Velocidade)  \n",
    "  - [Resumo](#Resumo)  \n",
    "  - [Entendendo Despacho Múltiplo em Julia](#Entendendo-Despacho-Múltiplo-em-Julia)  \n",
    "  - [Fundações](#Fundações)  \n",
    "  - [Compilação JIT em Julia](#Compilação-JIT-em-Julia)  \n",
    "  - [Código Rápido e Devagar em Julia](#Código-Rápido-e-Devagar-em-Julia)  \n",
    "  - [Mais Comentários](#Mais-Comentários)  "
   ]
  },
  {
   "cell_type": "markdown",
   "metadata": {},
   "source": [
    "> *Devidamente traduzido, revisado e adaptado do [QuantEcon](https://quantecon.org/) pelos bolsistas CNPq, Pedro Luiz H. Furtado e Jonas Aragão M. Corpes, sob supervisão do Prof. Christiano Penna, do CAEN/UFC.*"
   ]
  },
  {
   "cell_type": "markdown",
   "metadata": {},
   "source": [
    "## Resumo\n",
    "\n",
    "Cientistas da Computação geralmente classificam linguagens de programação de acordo com as seguintes duas categorias:\n",
    "\n",
    "*Linguagens de alto nível* com o objetivo de maximizar a produtivade por:\n",
    "\n",
    "- Sendo fáceis de ler, escrever e limpar. \n",
    "- Automatização de tarefas padrão (por exemplo, gerenciamento de memória).  \n",
    "- sendo interativas, etc.  \n",
    "\n",
    "\n",
    "*Linguagens de baixo nível* com o objetivo para velocidade e controle, que elas alcançam por:\n",
    "\n",
    "- Ser mais próximo das máquinas (acesso direto a CPU, memória, etc.).\n",
    "- Requere relativamente uma grande quantidade de informação do usuário (por exemplo, todos os tipos de dados devem ser especificados).  \n",
    "\n",
    "\n",
    "Tradicionalmente nos entendemos isso como um dilema:\n",
    "\n",
    "- Alta produtuvidade ou alta performance. \n",
    "- Otimizado para humanos ou otimizados para máquinas.  \n",
    "\n",
    "\n",
    "Uma das grandes forças do Julia é que ele empurra a curva, alcançando ambas alta produtividade e alta performance como relativamente pouco ruído.\n",
    "\n",
    "A palavra \"relativamente\" é importante aqui, no entanto…\n",
    "\n",
    "Em programas simples, para alcançar performance excelente é geralmente trivial.\n",
    "\n",
    "Para mais longos, programas mais sofisticados, você deve está atento sobre potênciais obstáculo.\n",
    "\n",
    "Essa aula cobre esses pontos chaves."
   ]
  },
  {
   "cell_type": "markdown",
   "metadata": {},
   "source": [
    "### Requerimentos\n",
    "\n",
    "Você deve ler nossa [aula anterior](https://julia.quantecon.org/more_julia/generic_programming.html) em tipos, métodos e dispacho simultâneo antes dessa aula."
   ]
  },
  {
   "cell_type": "markdown",
   "metadata": {},
   "source": [
    "###  Configuração"
   ]
  },
  {
   "cell_type": "code",
   "execution_count": 2,
   "metadata": {
    "hide-output": false
   },
   "outputs": [
    {
     "name": "stdout",
     "output_type": "stream",
     "text": [
      "\u001b[32m\u001b[1mActivated\u001b[0m C:\\Users\\cliente\\Downloads\\Project.toml\u001b[39m\n",
      "\u001b[36m\u001b[1mInfo\u001b[0m quantecon-notebooks-julia 0.4.0 activated, 0.5.0 requested\u001b[39m\n"
     ]
    }
   ],
   "source": [
    "using InstantiateFromURL\n",
    "github_project(\"QuantEcon/quantecon-notebooks-julia\", version = \"0.5.0\", instantiate = true)"
   ]
  },
  {
   "cell_type": "code",
   "execution_count": 18,
   "metadata": {
    "hide-output": false
   },
   "outputs": [],
   "source": [
    "using LinearAlgebra, Statistics"
   ]
  },
  {
   "cell_type": "markdown",
   "metadata": {},
   "source": [
    "## Entendendo Despacho Múltiplo em Julia\n",
    "\n",
    "Esta seção fornece mais base em como métodos, funções e tipos estão conectados:"
   ]
  },
  {
   "cell_type": "markdown",
   "metadata": {},
   "source": [
    "### Métodos e Funções\n",
    "\n",
    "O tipo preciso dos dados é importante, por ambas as razões eficiência e correção matemática.\n",
    "\n",
    "Por exemplo considere 1 + 1 vs. 1.0 + 1.0 ou [1 0] + [0 1].\n",
    "\n",
    "Em uma CPU, a adição de um interio e ponto flutuante são coisas diferentes, usando um conjunto diferente de instruções.\n",
    "\n",
    "Julia trata esse problema armazenando múltiplos, versões especializadas de funções como adição, uma para cada tipo de dado ou conjuntos de tipos de dados.\n",
    "\n",
    "Essas versões especializadas individuais são chamadas de **métodos**.\n",
    "\n",
    "Quando uma operação como a adição é requerida, o compilador do Julia inspeciona os tipos de dados para agir e entregar o método apropriado.\n",
    "\n",
    "Este processo é chamado de **despacho múltiplo**.\n",
    "\n",
    "Como todos operados “infix” 1 + 1 tem uma sintaxe alternativa +(1, 1)."
   ]
  },
  {
   "cell_type": "code",
   "execution_count": 8,
   "metadata": {
    "hide-output": false
   },
   "outputs": [
    {
     "data": {
      "text/plain": [
       "2"
      ]
     },
     "execution_count": 8,
     "metadata": {},
     "output_type": "execute_result"
    }
   ],
   "source": [
    "+(1, 1)"
   ]
  },
  {
   "cell_type": "markdown",
   "metadata": {},
   "source": [
    "Este operador + é uma função de vários métodos.\n",
    "\n",
    "Podemos investigar eles usando o macro @which que mostra o método para o qual uma determinada chamada é despachada:"
   ]
  },
  {
   "cell_type": "code",
   "execution_count": 9,
   "metadata": {
    "hide-output": false
   },
   "outputs": [
    {
     "data": {
      "text/html": [
       "+(x::<b>Float64</b>, y::<b>Float64</b>) in Base at <a href=\"https://github.com/JuliaLang/julia/tree/2d5741174ce3e6a394010d2e470e4269ca54607f/base/float.jl#L401\" target=\"_blank\">float.jl:401</a>"
      ],
      "text/plain": [
       "+(x::Float64, y::Float64) in Base at float.jl:401"
      ]
     },
     "execution_count": 9,
     "metadata": {},
     "output_type": "execute_result"
    }
   ],
   "source": [
    "x, y = 1.0, 1.0\n",
    "@which +(x, y)"
   ]
  },
  {
   "cell_type": "markdown",
   "metadata": {},
   "source": [
    "Vemos que a operação é enviada para o método especializado `+`  em adicionar números de ponto flutuante.\n",
    "\n",
    "Aqui está o caso inteiro:"
   ]
  },
  {
   "cell_type": "code",
   "execution_count": 10,
   "metadata": {
    "hide-output": false
   },
   "outputs": [
    {
     "data": {
      "text/html": [
       "+(x::<b>T</b>, y::<b>T</b>)<i> where T<:Union{Int128, Int16, Int32, Int64, Int8, UInt128, UInt16, UInt32, UInt64, UInt8}</i> in Base at <a href=\"https://github.com/JuliaLang/julia/tree/2d5741174ce3e6a394010d2e470e4269ca54607f/base/int.jl#L53\" target=\"_blank\">int.jl:53</a>"
      ],
      "text/plain": [
       "+(x::T, y::T) where T<:Union{Int128, Int16, Int32, Int64, Int8, UInt128, UInt16, UInt32, UInt64, UInt8} in Base at int.jl:53"
      ]
     },
     "execution_count": 10,
     "metadata": {},
     "output_type": "execute_result"
    }
   ],
   "source": [
    "x, y = 1, 1\n",
    "@which +(x, y)"
   ]
  },
  {
   "cell_type": "markdown",
   "metadata": {},
   "source": [
    "Esta saída diz que a chamada foi despachada para o método + responsável pelo tratamento de valores inteiros.\n",
    "\n",
    "Saiba mais sobre os detalhes dessa sintaxe abaixo.\n",
    "\n",
    "Aqui está outro exemplo, com números complexos."
   ]
  },
  {
   "cell_type": "code",
   "execution_count": 11,
   "metadata": {
    "hide-output": false
   },
   "outputs": [
    {
     "data": {
      "text/html": [
       "+(z::<b>Complex</b>, w::<b>Complex</b>) in Base at <a href=\"https://github.com/JuliaLang/julia/tree/2d5741174ce3e6a394010d2e470e4269ca54607f/base/complex.jl#L271\" target=\"_blank\">complex.jl:271</a>"
      ],
      "text/plain": [
       "+(z::Complex, w::Complex) in Base at complex.jl:271"
      ]
     },
     "execution_count": 11,
     "metadata": {},
     "output_type": "execute_result"
    }
   ],
   "source": [
    "x, y = 1.0 + 1.0im, 1.0 + 1.0im\n",
    "@which +(x, y)"
   ]
  },
  {
   "cell_type": "markdown",
   "metadata": {},
   "source": [
    "Novamente, a chamada foi enviada para um método + projetado especificamente para manipular o tipo de dados fornecido."
   ]
  },
  {
   "cell_type": "markdown",
   "metadata": {},
   "source": [
    "#### Adicionando Métodos\n",
    "\n",
    "É simples adicionar métodos às funções existentes.\n",
    "\n",
    "Por exemplo, no momento não podemos adicionar um número inteiro e uma string em Julia (ou seja `100 + \"100\"` , não é uma sintaxe válida).\n",
    "\n",
    "Esse é um comportamento sensato, mas se você quiser mudar, não há nada para impedi-lo."
   ]
  },
  {
   "cell_type": "code",
   "execution_count": 12,
   "metadata": {
    "hide-output": false
   },
   "outputs": [
    {
     "name": "stdout",
     "output_type": "stream",
     "text": [
      "100 + \"100\" = 200\n",
      "100 + \"100\" = 200\n"
     ]
    }
   ],
   "source": [
    "import Base: +  # permite adicionar métodos a função +\n",
    "\n",
    "+(x::Integer, y::String) = x + parse(Int, y)\n",
    "\n",
    "@show +(100, \"100\")\n",
    "@show 100 + \"100\";  # equivalente"
   ]
  },
  {
   "cell_type": "markdown",
   "metadata": {},
   "source": [
    "### Entendendo o Processo de Compilação \n",
    "\n",
    "Agora podemos ser um pouco mais claros sobre o que acontece quando você chama uma função em determinados tipos.\n",
    "\n",
    "Suponha que executemos a chamada de função `f(a, b)` onde `a` e `b`\n",
    "são tipos concretos `S` e `T` respectivamente.\n",
    "\n",
    "O interpretador do Julia primeiro consulta os tipos de `a` e `b` para obter o *tuple* `(S, T)`.\n",
    "\n",
    "Em seguida, analisa a lista de métodos pertencentes a `f`, procurando uma correspondência.\n",
    "\n",
    "Se encontrar um método correspondente `(S, T)`, chama esse método.\n",
    "\n",
    "Caso contrário, ele verifica se o par `(S, T)` corresponde a algum método definido para os tipos *parentes imediato*.\n",
    "\n",
    "Por exemplo, se `S` é `Float64` e `T` é `ComplexF32` então os \n",
    "parentes imediatos são `AbstractFloat` e `Number` respectivamente."
   ]
  },
  {
   "cell_type": "code",
   "execution_count": 13,
   "metadata": {
    "hide-output": false
   },
   "outputs": [
    {
     "data": {
      "text/plain": [
       "AbstractFloat"
      ]
     },
     "execution_count": 13,
     "metadata": {},
     "output_type": "execute_result"
    }
   ],
   "source": [
    "supertype(Float64)"
   ]
  },
  {
   "cell_type": "code",
   "execution_count": 14,
   "metadata": {
    "hide-output": false
   },
   "outputs": [
    {
     "data": {
      "text/plain": [
       "Number"
      ]
     },
     "execution_count": 14,
     "metadata": {},
     "output_type": "execute_result"
    }
   ],
   "source": [
    "supertype(ComplexF32)"
   ]
  },
  {
   "cell_type": "markdown",
   "metadata": {},
   "source": [
    "Portanto, o intérprete procura a seguir um método do formulário`f(x::AbstractFloat, y::Number)`.\n",
    "\n",
    "Se o intérprete não consegue encontrar uma correspondência nos *parentes imediatos* (supertipos), ele prossegue na árvore, observando os *parentes* do último tipo verificado em cada iteração.\n",
    "\n",
    "- Se, eventualmente, encontrar um método correspondente, ele invocará esse método.\n",
    "- Caso contrário, obtemos um erro.  \n",
    "\n",
    "\n",
    "Este é o processo que leva ao seguinte erro (já que adicionamos apenas o `+`para adicionar `Integer`e `String` acima)."
   ]
  },
  {
   "cell_type": "code",
   "execution_count": 16,
   "metadata": {
    "hide-output": false
   },
   "outputs": [
    {
     "name": "stdout",
     "output_type": "stream",
     "text": [
      "(typeof(100.0) <: Integer) == false = true\n"
     ]
    },
    {
     "ename": "MethodError",
     "evalue": "MethodError: no method matching +(::Float64, ::String)\nClosest candidates are:\n  +(::Any, ::Any, !Matched::Any, !Matched::Any...) at operators.jl:529\n  +(::Float64, !Matched::Float64) at float.jl:401\n  +(::AbstractFloat, !Matched::Bool) at bool.jl:106\n  ...",
     "output_type": "error",
     "traceback": [
      "MethodError: no method matching +(::Float64, ::String)\nClosest candidates are:\n  +(::Any, ::Any, !Matched::Any, !Matched::Any...) at operators.jl:529\n  +(::Float64, !Matched::Float64) at float.jl:401\n  +(::AbstractFloat, !Matched::Bool) at bool.jl:106\n  ...",
      "",
      "Stacktrace:",
      " [1] top-level scope at In[16]:2"
     ]
    }
   ],
   "source": [
    "@show (typeof(100.0) <: Integer) == false\n",
    "100.0 + \"100\""
   ]
  },
  {
   "cell_type": "markdown",
   "metadata": {},
   "source": [
    "Como o procedimento de despacho começa a partir de tipos concretos e trabalha para cima, o despacho sempre invoca o método mais específico disponível.\n",
    "\n",
    "Por exemplo, se você tiver métodos para a função`f` que manipula:\n",
    "\n",
    "1. `(Float64, Int64)` pares  \n",
    "1. `(Number, Number)` pares  \n",
    "\n",
    "\n",
    "e você chama `f` com `f(0.5, 1)` em seguida, o primeiro método será invocado.\n",
    "\n",
    "Isso faz sentido (espero) porque o primeiro método seja otimizado para exatamente esse tipo de dados.\n",
    "\n",
    "O segundo método é provavelmente mais um método de \"pegar tudo\" que lida com outros dados de uma maneira menos ideal.\n",
    "\n",
    "Aqui está outro exemplo simples, envolvendo uma função definida pelo usuário."
   ]
  },
  {
   "cell_type": "code",
   "execution_count": 19,
   "metadata": {
    "hide-output": false
   },
   "outputs": [
    {
     "data": {
      "text/plain": [
       "q (generic function with 3 methods)"
      ]
     },
     "execution_count": 19,
     "metadata": {},
     "output_type": "execute_result"
    }
   ],
   "source": [
    "function q(x)  # ou q(x::Any)\n",
    "    println(\"Default (Any) method invoked\")\n",
    "end\n",
    "\n",
    "function q(x::Number)\n",
    "    println(\"Number method invoked\")\n",
    "end\n",
    "\n",
    "function q(x::Integer)\n",
    "    println(\"Integer method invoked\")\n",
    "end"
   ]
  },
  {
   "cell_type": "markdown",
   "metadata": {},
   "source": [
    "Vamos agora executar isso e ver como isso se relaciona com a nossa discussão sobre o envio de métodos acima:"
   ]
  },
  {
   "cell_type": "code",
   "execution_count": 20,
   "metadata": {
    "hide-output": false
   },
   "outputs": [
    {
     "name": "stdout",
     "output_type": "stream",
     "text": [
      "Integer method invoked\n"
     ]
    }
   ],
   "source": [
    "q(3)"
   ]
  },
  {
   "cell_type": "code",
   "execution_count": 21,
   "metadata": {
    "hide-output": false
   },
   "outputs": [
    {
     "name": "stdout",
     "output_type": "stream",
     "text": [
      "Number method invoked\n"
     ]
    }
   ],
   "source": [
    "q(3.0)"
   ]
  },
  {
   "cell_type": "code",
   "execution_count": 22,
   "metadata": {
    "hide-output": false
   },
   "outputs": [
    {
     "name": "stdout",
     "output_type": "stream",
     "text": [
      "Default (Any) method invoked\n"
     ]
    }
   ],
   "source": [
    "q(\"foo\")"
   ]
  },
  {
   "cell_type": "markdown",
   "metadata": {},
   "source": [
    "Desde então `typeof(3) <: Int64 <: Integer <: Number`, a chamada `q(3)` ´prossegue na árvore `Integer` e invoca `q(x::Integer)`.\n",
    "\n",
    "Por outro lado, `3.0` é um `Float64`, que não é um subtipo de `Integer`.\n",
    "\n",
    "Portanto, a chamada `q(3.0)` continua até `q(x::Number)`.\n",
    "\n",
    "Finalmente, `q(\"foo\")` é tratado pela função que está operando `Any`, uma vez que o `String` não é um subtipo de `Number` ou `Integer`."
   ]
  },
  {
   "cell_type": "markdown",
   "metadata": {},
   "source": [
    "### Analisando Função de Retorno de Tipos\n",
    "\n",
    "Na maioria das vezes, o tempo gasto para \"otimizar\" o código Julia para executar mais rapidamente é garantir que o compilador possa deduzir corretamente os tipos para todas as funções.\n",
    "\n",
    "O macro `@code_warntype` nos dar uma dica."
   ]
  },
  {
   "cell_type": "code",
   "execution_count": 23,
   "metadata": {
    "hide-output": false
   },
   "outputs": [
    {
     "name": "stdout",
     "output_type": "stream",
     "text": [
      "Variables\n",
      "  #self#\u001b[36m::Core.Compiler.Const(f, false)\u001b[39m\n",
      "  x\u001b[36m::Array{Int64,1}\u001b[39m\n",
      "\n",
      "Body\u001b[36m::Array{Int64,1}\u001b[39m\n",
      "\u001b[90m1 ─\u001b[39m %1 = (2 * x)\u001b[36m::Array{Int64,1}\u001b[39m\n",
      "\u001b[90m└──\u001b[39m      return %1\n"
     ]
    }
   ],
   "source": [
    "x = [1, 2, 3]\n",
    "f(x) = 2x\n",
    "@code_warntype f(x)"
   ]
  },
  {
   "cell_type": "markdown",
   "metadata": {},
   "source": [
    "O macro `@code_warntype` compila `f(x)` usando o tipo de `x` como um exemplo – isto é, `[1, 2, 3]` é usada como um protótipo para analisar a compilação, em vez de simplesmente calcular o valor.\n",
    "\n",
    "Aqui o, comando `Body::Array{Int64,1}` nos diz tipo que do valor de retorno da função, quando chamado com tipos como `[1, 2, 3]`, é sempre um vetor de números inteiros.\n",
    "\n",
    "Em contraste, considere uma função potencialmente retornando `nothing`, como [nesta aula](https://julia.quantecon.org/getting_started_julia/fundamental_types.html)."
   ]
  },
  {
   "cell_type": "code",
   "execution_count": 24,
   "metadata": {
    "hide-output": false
   },
   "outputs": [
    {
     "name": "stdout",
     "output_type": "stream",
     "text": [
      "Variables\n",
      "  #self#\u001b[36m::Core.Compiler.Const(f, false)\u001b[39m\n",
      "  x\u001b[36m::Int64\u001b[39m\n",
      "\n",
      "Body\u001b[33m\u001b[1m::Union{Nothing, Int64}\u001b[22m\u001b[39m\n",
      "\u001b[90m1 ─\u001b[39m %1 = (x > 0.0)\u001b[36m::Bool\u001b[39m\n",
      "\u001b[90m└──\u001b[39m      goto #3 if not %1\n",
      "\u001b[90m2 ─\u001b[39m      return x\n",
      "\u001b[90m3 ─\u001b[39m      return Main.nothing\n"
     ]
    }
   ],
   "source": [
    "f(x) = x > 0.0 ? x : nothing\n",
    "@code_warntype f(1)"
   ]
  },
  {
   "cell_type": "markdown",
   "metadata": {},
   "source": [
    "Isso indica que o compilador determina o tipo de retorno quando chamado com um número inteiro (como `1`) poderia ser um dos dois tipos diferentes, `Body::Union{Nothing, Int64}`.\n",
    "\n",
    "Um exemplo final é uma variação acima, que retorna o máximo de  `x` e `0`."
   ]
  },
  {
   "cell_type": "code",
   "execution_count": 25,
   "metadata": {
    "hide-output": false
   },
   "outputs": [
    {
     "name": "stdout",
     "output_type": "stream",
     "text": [
      "Variables\n",
      "  #self#\u001b[36m::Core.Compiler.Const(f, false)\u001b[39m\n",
      "  x\u001b[36m::Int64\u001b[39m\n",
      "\n",
      "Body\u001b[91m\u001b[1m::Union{Float64, Int64}\u001b[22m\u001b[39m\n",
      "\u001b[90m1 ─\u001b[39m %1 = (x > 0.0)\u001b[36m::Bool\u001b[39m\n",
      "\u001b[90m└──\u001b[39m      goto #3 if not %1\n",
      "\u001b[90m2 ─\u001b[39m      return x\n",
      "\u001b[90m3 ─\u001b[39m      return 0.0\n"
     ]
    }
   ],
   "source": [
    "f(x) = x > 0.0 ? x : 0.0\n",
    "@code_warntype f(1)"
   ]
  },
  {
   "cell_type": "markdown",
   "metadata": {},
   "source": [
    "O que mostra que, quando chamado com um número inteiro, o tipo pode ser esse número inteiro ou o ponto flutuante `0.0`.\n",
    "\n",
    "Por outro lado, se usarmos alterar a função para retornar  `0` se x <= 0, é instável com ponto flutuante."
   ]
  },
  {
   "cell_type": "code",
   "execution_count": 26,
   "metadata": {
    "hide-output": false
   },
   "outputs": [
    {
     "name": "stdout",
     "output_type": "stream",
     "text": [
      "Variables\n",
      "  #self#\u001b[36m::Core.Compiler.Const(f, false)\u001b[39m\n",
      "  x\u001b[36m::Float64\u001b[39m\n",
      "\n",
      "Body\u001b[91m\u001b[1m::Union{Float64, Int64}\u001b[22m\u001b[39m\n",
      "\u001b[90m1 ─\u001b[39m %1 = (x > 0.0)\u001b[36m::Bool\u001b[39m\n",
      "\u001b[90m└──\u001b[39m      goto #3 if not %1\n",
      "\u001b[90m2 ─\u001b[39m      return x\n",
      "\u001b[90m3 ─\u001b[39m      return 0\n"
     ]
    }
   ],
   "source": [
    "f(x) = x > 0.0 ? x : 0\n",
    "@code_warntype f(1.0)"
   ]
  },
  {
   "cell_type": "markdown",
   "metadata": {},
   "source": [
    "A solução é usar a função `zero(x)` que retorna o elemento de identidade aditivo do tipo `x`.\n",
    "\n",
    "Por outro lado, se mudar a função para retornar  `0` se `x <= 0`, é tipo instável, com ponto flutuante."
   ]
  },
  {
   "cell_type": "code",
   "execution_count": 27,
   "metadata": {
    "hide-output": false
   },
   "outputs": [
    {
     "name": "stdout",
     "output_type": "stream",
     "text": [
      "zero(2.3) = 0.0\n",
      "zero(4) = 0\n",
      "zero(2.0 + 3im) = 0.0 + 0.0im\n",
      "Variables\n",
      "  #self#\u001b[36m::Core.Compiler.Const(f, false)\u001b[39m\n",
      "  x\u001b[36m::Float64\u001b[39m\n",
      "\n",
      "Body\u001b[36m::Float64\u001b[39m\n",
      "\u001b[90m1 ─\u001b[39m %1 = (x > 0.0)\u001b[36m::Bool\u001b[39m\n",
      "\u001b[90m└──\u001b[39m      goto #3 if not %1\n",
      "\u001b[90m2 ─\u001b[39m      return x\n",
      "\u001b[90m3 ─\u001b[39m %4 = Main.zero(x)\u001b[36m::Core.Compiler.Const(0.0, false)\u001b[39m\n",
      "\u001b[90m└──\u001b[39m      return %4\n"
     ]
    }
   ],
   "source": [
    "@show zero(2.3)\n",
    "@show zero(4)\n",
    "@show zero(2.0 + 3im)\n",
    "\n",
    "f(x) = x > 0.0 ? x : zero(x)\n",
    "@code_warntype f(1.0)"
   ]
  },
  {
   "cell_type": "markdown",
   "metadata": {},
   "source": [
    "## Fundações\n",
    "\n",
    "Vamos pensar na rapidez com que o código é executado, considerando:\n",
    "\n",
    "- configuração de hardware.\n",
    "- algoritmo (isto é, conjunto de instruções a serem executadas). \n",
    "\n",
    "\n",
    "Começaremos discutindo os tipos de instruções que as máquinas entendem."
   ]
  },
  {
   "cell_type": "markdown",
   "metadata": {},
   "source": [
    "### Código de Máquina\n",
    "\n",
    "Todas as instruções para computadores acabam como *código de máquina*.\n",
    "\n",
    "Escrever código rápido - expressando um determinado algoritmo para que ele seja executado rapidamente - se resume a produzir código de máquina eficiente.\n",
    "\n",
    "Você pode fazer isso sozinho, à mão, se quiser.\n",
    "\n",
    "Normalmente, isso é feito escrevendo [assembly](https://en.wikipedia.org/wiki/Assembly_language), que é uma representação simbólica do código da máquina.\n",
    "\n",
    "Aqui está um código de montagem implementando uma função que recebe os argumentos  $ a, b $ e retorna $ 2a + 8b $"
   ]
  },
  {
   "cell_type": "markdown",
   "metadata": {
    "hide-output": false
   },
   "source": [
    "```asm\n",
    "    pushq   %rbp\n",
    "    movq    %rsp, %rbp\n",
    "    addq    %rdi, %rdi\n",
    "    leaq    (%rdi,%rsi,8), %rax\n",
    "    popq    %rbp\n",
    "    retq\n",
    "    nopl    (%rax)\n",
    "```\n"
   ]
  },
  {
   "cell_type": "markdown",
   "metadata": {},
   "source": [
    "Observe que esse código é específico para uma peça de hardware específica que usamos - máquinas diferentes requerem código de máquina diferente.\n",
    "\n",
    "Se você se sentir tentado a começar a reescrever seu modelo econômico em montagem, contenha-se.\n",
    "\n",
    "É muito mais sensato dar essas instruções em uma linguagem como Julia, onde elas podem ser facilmente escritas e entendidas."
   ]
  },
  {
   "cell_type": "code",
   "execution_count": 28,
   "metadata": {
    "hide-output": false
   },
   "outputs": [
    {
     "data": {
      "text/plain": [
       "f (generic function with 2 methods)"
      ]
     },
     "execution_count": 28,
     "metadata": {},
     "output_type": "execute_result"
    }
   ],
   "source": [
    "function f(a, b)\n",
    "    y = 2a + 8b\n",
    "    return y\n",
    "end"
   ]
  },
  {
   "cell_type": "markdown",
   "metadata": {},
   "source": [
    "ou Python\n"
   ]
  },
  {
   "cell_type": "markdown",
   "metadata": {
    "hide-output": false
   },
   "source": [
    "```python\n",
    "def f(a, b):\n",
    "    y = 2 * a + 8 * b\n",
    "    return y\n",
    "```\n"
   ]
  },
  {
   "cell_type": "markdown",
   "metadata": {},
   "source": [
    "ou até C"
   ]
  },
  {
   "cell_type": "markdown",
   "metadata": {
    "hide-output": false
   },
   "source": [
    "```c\n",
    "int f(int a, int b) {\n",
    "    int y = 2 * a + 8 * b;\n",
    "    return y;\n",
    "}\n",
    "```\n"
   ]
  },
  {
   "cell_type": "markdown",
   "metadata": {},
   "source": [
    "Em qualquer uma dessas linguagens, acabamos com um código que é muito mais fácil para humanos escrever, ler, compartilhar e depurar.\n",
    "\n",
    "Deixamos para a própria máquina transformar nosso código em código de máquina.\n",
    "\n",
    "Como exatamente isso acontece?"
   ]
  },
  {
   "cell_type": "markdown",
   "metadata": {},
   "source": [
    "### Gerando Código de Máquina\n",
    "\n",
    "O processo para transformar código de alto nível em código de máquina difere entre linguagens.\n",
    "\n",
    "Vejamos algumas das opções e como elas diferem umas das outras."
   ]
  },
  {
   "cell_type": "markdown",
   "metadata": {},
   "source": [
    "#### Linguagens Compiladas ATQ\n",
    "\n",
    "Linguagens compiladas tradicionais como Fortran, C e C ++ são uma opção razoável para escrever código rápido.\n",
    "\n",
    "De fato, a referência padrão de desempenho ainda é C ou Fortran bem escrita.\n",
    "\n",
    "Essas linguagens são compiladas até um código de máquina eficiente, porque os usuários são forçados a fornecer muitos detalhes sobre os tipos de dados e como o código será executado.\n",
    "\n",
    "O compilador, portanto, possui amplas informações para criar antecipadamente o código de máquina correspondente (AOT) de uma maneira que:\n",
    "\n",
    "- organiza os dados de maneira ideal na memória e\n",
    "- implementa operações eficientes conforme necessário para a tarefa em questão.\n",
    "\n",
    "\n",
    "Ao mesmo tempo, a sintaxe e a semântica de C e Fortran são detalhadas e pesadas quando comparadas a algo como Julia.\n",
    "\n",
    "Além disso, essas linguagens de baixo nível carecem da interatividade que é tão crucial para o trabalho científico."
   ]
  },
  {
   "cell_type": "markdown",
   "metadata": {},
   "source": [
    "#### Linguagens Interpretadas\n",
    "\n",
    "Linguagens interpretadas como Python geram código de máquina \"on the fly\", durante a execução do programa.\n",
    "\n",
    "Isso permite que eles sejam flexíveis e interativos.\n",
    "\n",
    "Além disso, os programadores podem deixar muitos detalhes tediosos para o ambiente de tempo de execução, como:\n",
    "\n",
    "- especificando tipos de variáveis. \n",
    "- alocação/desalocação de memória, etc. \n",
    "\n",
    "\n",
    "Por exemplo, considere o que acontece quando o Python adiciona uma longa lista de números.\n",
    "\n",
    "Normalmente, o ambiente de tempo de execução precisa verificar o tipo desses objetos um por um antes de descobrir como adicioná-los.\n",
    "\n",
    "Isso envolve despesas gerais substanciais.\n",
    "\n",
    "Também há custos indiretos significativos associados ao acesso aos próprios valores dos dados, que podem não ser armazenados contiguamente na memória.\n",
    "\n",
    "O código de máquina resultante geralmente é complexo e lento."
   ]
  },
  {
   "cell_type": "markdown",
   "metadata": {},
   "source": [
    "#### Compilação Just-in-Time\n",
    "\n",
    "A compilação Just-in-time (JIT) é uma abordagem alternativa que combina algumas das vantagens da compilação AOT e das linguagens interpretadas.\n",
    "\n",
    "A idéia básica é que funções para tarefas específicas sejam compiladas conforme solicitado.\n",
    "\n",
    "Desde que o compilador tenha informações suficientes sobre o que a função faz, ele pode, em princípio, gerar código de máquina eficiente.\n",
    "\n",
    "Em alguns casos, todas as informações são fornecidas pelo programador.\n",
    "\n",
    "Em outros casos, o compilador tentará inferir informações ausentes rapidamente, com base no uso.\n",
    "\n",
    "Com essa abordagem, os ambientes de computação criados em torno dos compiladores JIT visam:\n",
    "\n",
    "- fornecer todos os benefícios das linguagens de alto nível discutidos acima e, ao mesmo tempo,  \n",
    "- produzir conjuntos de instruções eficientes quando as funções são compiladas no código da máquina."
   ]
  },
  {
   "cell_type": "markdown",
   "metadata": {},
   "source": [
    "## Compilação JIT em Julia\n",
    "\n",
    "A compilação JIT é a abordagem usada por Julia.\n",
    "\n",
    "Em um cenário ideal, todas as informações necessárias para gerar código de máquina nativo eficiente são fornecidas ou inferidas.\n",
    "\n",
    "Nesse cenário, Julia estará em pé de igualdade com o código de máquina de linguagens de baixo nível."
   ]
  },
  {
   "cell_type": "markdown",
   "metadata": {},
   "source": [
    "### Um Exemplo\n",
    "\n",
    "Considere a função:"
   ]
  },
  {
   "cell_type": "code",
   "execution_count": 29,
   "metadata": {
    "hide-output": false
   },
   "outputs": [
    {
     "data": {
      "text/plain": [
       "f (generic function with 2 methods)"
      ]
     },
     "execution_count": 29,
     "metadata": {},
     "output_type": "execute_result"
    }
   ],
   "source": [
    "function f(a, b)\n",
    "    y = (a + 8b)^2\n",
    "    return 7y\n",
    "end"
   ]
  },
  {
   "cell_type": "markdown",
   "metadata": {},
   "source": [
    "Suponha que chamamos `f` com argumentos inteiros (por exemplo, `z = f(1, 2)`).\n",
    "\n",
    "O compilador JIT conhece os tipos de `a` e `b`.\n",
    "\n",
    "Além disso, pode inferir tipos para outras variáveis dentro da função.\n",
    "\n",
    "- por exemplo, `y` também será um número inteiro.\n",
    "\n",
    "Em seguida, compila uma versão especializada da função para manipular números inteiros e armazená-la na memória.\n",
    "\n",
    "Podemos visualizar o código de máquina correspondente usando o macro `@code_native`"
   ]
  },
  {
   "cell_type": "code",
   "execution_count": 30,
   "metadata": {
    "hide-output": false
   },
   "outputs": [
    {
     "name": "stdout",
     "output_type": "stream",
     "text": [
      "\t.text\n",
      "; ┌ @ In[29]:2 within `f'\n",
      "\tpushq\t%rbp\n",
      "\tmovq\t%rsp, %rbp\n",
      "; │┌ @ int.jl:53 within `+'\n",
      "\tleaq\t(%rcx,%rdx,8), %rcx\n",
      "; │└\n",
      "; │┌ @ intfuncs.jl:244 within `literal_pow'\n",
      "; ││┌ @ int.jl:54 within `*'\n",
      "\timulq\t%rcx, %rcx\n",
      "; │└└\n",
      "; │ @ In[29]:3 within `f'\n",
      "; │┌ @ int.jl:54 within `*'\n",
      "\tleaq\t(,%rcx,8), %rax\n",
      "\tsubq\t%rcx, %rax\n",
      "; │└\n",
      "\tpopq\t%rbp\n",
      "\tretq\n",
      "\tnopl\t(%rax)\n",
      "; └\n"
     ]
    }
   ],
   "source": [
    "@code_native f(1, 2)"
   ]
  },
  {
   "cell_type": "markdown",
   "metadata": {},
   "source": [
    "Se agora chamarmos `f` novamente, mas desta vez com argumentos de ponto flutuante, o compilador JIT mais uma vez inferirá tipos para as outras variáveis dentro da função.\n",
    "\n",
    "- por exemplo, `y` será também flutuante.\n",
    "\n",
    "\n",
    "Em seguida, ele compila uma nova versão para lidar com esse tipo de argumento."
   ]
  },
  {
   "cell_type": "code",
   "execution_count": 31,
   "metadata": {
    "hide-output": false
   },
   "outputs": [
    {
     "name": "stdout",
     "output_type": "stream",
     "text": [
      "\t.text\n",
      "; ┌ @ In[29]:2 within `f'\n",
      "\tpushq\t%rbp\n",
      "\tmovq\t%rsp, %rbp\n",
      "\tmovabsq\t$370318600, %rax        # imm = 0x16129D08\n",
      "; │┌ @ promotion.jl:312 within `*' @ float.jl:405\n",
      "\tvmulsd\t(%rax), %xmm1, %xmm1\n",
      "; │└\n",
      "; │┌ @ float.jl:401 within `+'\n",
      "\tvaddsd\t%xmm0, %xmm1, %xmm0\n",
      "; │└\n",
      "; │┌ @ intfuncs.jl:244 within `literal_pow'\n",
      "; ││┌ @ float.jl:405 within `*'\n",
      "\tvmulsd\t%xmm0, %xmm0, %xmm0\n",
      "\tmovabsq\t$370318608, %rax        # imm = 0x16129D10\n",
      "; │└└\n",
      "; │ @ In[29]:3 within `f'\n",
      "; │┌ @ promotion.jl:312 within `*' @ float.jl:405\n",
      "\tvmulsd\t(%rax), %xmm0, %xmm0\n",
      "; │└\n",
      "\tpopq\t%rbp\n",
      "\tretq\n",
      "\tnopw\t(%rax,%rax)\n",
      "; └\n"
     ]
    }
   ],
   "source": [
    "@code_native f(1.0, 2.0)"
   ]
  },
  {
   "cell_type": "markdown",
   "metadata": {},
   "source": [
    "As chamadas subsequentes usando números flutuantes ou números inteiros agora são roteadas para o código compilado apropriado."
   ]
  },
  {
   "cell_type": "markdown",
   "metadata": {},
   "source": [
    "### Problemas Potenciais\n",
    "\n",
    "Em alguns sentidos, o que vimos acima foi o melhor cenário.\n",
    "\n",
    "Às vezes, o compilador JIT produz código de máquina lento e confuso.\n",
    "\n",
    "Isso acontece quando a inferência de tipo falha ou o compilador possui informações insuficientes para otimizar efetivamente.\n",
    "\n",
    "A próxima seção aborda situações em que esses problemas surgem e como contorná-los."
   ]
  },
  {
   "cell_type": "markdown",
   "metadata": {},
   "source": [
    "## Código Rápido e Devagar em Julia\n",
    "\n",
    "Para resumir o que aprendemos até agora, Julia fornece uma plataforma para gerar código de máquina altamente eficiente com relativamente pouco esforço combinando:\n",
    "\n",
    "1. Compilação JIT.  \n",
    "1. Declarações de tipo opcionais e inferência de tipo para identificar os tipos de variáveis e, portanto, compilar código eficiente.\n",
    "1. Envio múltiplo para facilitar a especialização e otimização do código compilado para diferentes tipos de dados. \n",
    "\n",
    "\n",
    "Mas o processo não é perfeito e podem ocorrer alguns *gargalos*.\n",
    "\n",
    "O objetivo desta seção é destacar possíveis problemas e mostrar como contorná-los."
   ]
  },
  {
   "cell_type": "markdown",
   "metadata": {},
   "source": [
    "### BenchmarkTools\n",
    "\n",
    "O principal pacote de Julia para benchmarking é o [BenchmarkTools.jl](https://www.github.com/JuliaCI/BenchmarkTools.jl).\n",
    "\n",
    "Abaixo, usaremos o macro `@btime` que exporta para avaliar o desempenho do código Julia.\n",
    "\n",
    "Como mencionado em uma [aula anterior](https://julia.quantecon.org/more_julia/testing.html), também podemos salvar os resultados de benchmark em um arquivo e proteger contra as regressões de desempenho no código.\n",
    "\n",
    "Para mais, consulte os documentos do pacote."
   ]
  },
  {
   "cell_type": "markdown",
   "metadata": {},
   "source": [
    "### Variáveis Globais\n",
    "\n",
    "Variáveis globais são nomes atribuídos a valores fora de qualquer definição de função ou tipo.\n",
    "\n",
    "Os programadores são convenientes e iniciantes normalmente os usam com abandono.\n",
    "\n",
    "Porém, variáveis globais também são perigosas, especialmente em programas de tamanho médio a grande, pois:\n",
    "\n",
    "- elas podem afetar o que acontece em qualquer parte do seu programa.\n",
    "- elas podem ser alterados por qualquer função. \n",
    "\n",
    "\n",
    "Isso torna muito mais difícil ter certeza sobre o que uma pequena parte de um determinado pedaço de código realmente comanda.\n",
    "\n",
    "Aqui está uma [discussão útil sobre esse tópicos](http://wiki.c2.com/?GlobalVariablesAreBad).\n",
    "\n",
    "Quando se trata de compilação JIT, variáveis globais criam problemas adicionais.\n",
    "\n",
    "O motivo é que o compilador nunca pode ter certeza do tipo da variável global ou mesmo que o tipo permanecerá constante enquanto uma determinada função for executada.\n",
    "\n",
    "Para ilustrar, considere este código, onde  `b` é global."
   ]
  },
  {
   "cell_type": "code",
   "execution_count": 32,
   "metadata": {
    "hide-output": false
   },
   "outputs": [
    {
     "data": {
      "text/plain": [
       "g (generic function with 1 method)"
      ]
     },
     "execution_count": 32,
     "metadata": {},
     "output_type": "execute_result"
    }
   ],
   "source": [
    "b = 1.0\n",
    "function g(a)\n",
    "    global b\n",
    "    for i ∈ 1:1_000_000\n",
    "        tmp = a + b\n",
    "    end\n",
    "end"
   ]
  },
  {
   "cell_type": "markdown",
   "metadata": {},
   "source": [
    "O código é executado de forma relativamente lenta e usa uma quantidade enorme de memória."
   ]
  },
  {
   "cell_type": "code",
   "execution_count": 33,
   "metadata": {
    "hide-output": false
   },
   "outputs": [
    {
     "name": "stderr",
     "output_type": "stream",
     "text": [
      "┌ Info: Precompiling BenchmarkTools [6e4b80f9-dd63-53aa-95a3-0cdb28fa8baf]\n",
      "└ @ Base loading.jl:1273\n"
     ]
    },
    {
     "name": "stdout",
     "output_type": "stream",
     "text": [
      "  19.228 ms (2000000 allocations: 30.52 MiB)\n"
     ]
    }
   ],
   "source": [
    "using BenchmarkTools\n",
    "\n",
    "@btime g(1.0)"
   ]
  },
  {
   "cell_type": "markdown",
   "metadata": {},
   "source": [
    "Se você olhar para o código de máquina correspondente, verá que está uma bagunça."
   ]
  },
  {
   "cell_type": "code",
   "execution_count": 34,
   "metadata": {
    "hide-output": false
   },
   "outputs": [
    {
     "name": "stdout",
     "output_type": "stream",
     "text": [
      "\t.text\n",
      "; ┌ @ In[32]:3 within `g'\n",
      "\tpushq\t%rbp\n",
      "\tmovq\t%rsp, %rbp\n",
      "\tpushq\t%r15\n",
      "\tpushq\t%r14\n",
      "\tpushq\t%r12\n",
      "\tpushq\t%rsi\n",
      "\tpushq\t%rdi\n",
      "\tpushq\t%rbx\n",
      "\tandq\t$-32, %rsp\n",
      "\tsubq\t$96, %rsp\n",
      "\tvmovaps\t%xmm6, -64(%rbp)\n",
      "\tvmovaps\t%xmm0, %xmm6\n",
      "\tvxorps\t%xmm0, %xmm0, %xmm0\n",
      "\tvmovaps\t%ymm0, 32(%rsp)\n",
      "\tmovl\t$jl_get_ptls_states, %eax\n",
      "\tvzeroupper\n",
      "\tcallq\t*%rax\n",
      "\tmovq\t%rax, %rsi\n",
      "\tmovq\t$4, 32(%rsp)\n",
      "\tmovq\t(%rsi), %rax\n",
      "\tmovq\t%rax, 40(%rsp)\n",
      "\tleaq\t32(%rsp), %rax\n",
      "\tmovq\t%rax, (%rsi)\n",
      "\tmovl\t$1000000, %ebx          # imm = 0xF4240\n",
      "\tmovabsq\t$jl_gc_pool_alloc, %r14\n",
      "\tmovabsq\t$jl_apply_generic, %r15\n",
      "\tleaq\t64(%rsp), %r12\n",
      "\tnopl\t(%rax)\n",
      "; │ @ In[32]:5 within `g'\n",
      "L112:\n",
      "\tmovq\t291904136, %rdi\n",
      "\tmovq\t%rdi, 48(%rsp)\n",
      "\tmovl\t$1400, %edx             # imm = 0x578\n",
      "\tmovl\t$16, %r8d\n",
      "\tmovq\t%rsi, %rcx\n",
      "\tcallq\t*%r14\n",
      "\tmovq\t$jl_system_image_data, -8(%rax)\n",
      "\tvmovsd\t%xmm6, (%rax)\n",
      "\tmovq\t%rax, 56(%rsp)\n",
      "\tmovq\t%rax, 64(%rsp)\n",
      "\tmovq\t%rdi, 72(%rsp)\n",
      "\tmovl\t$jl_system_image_data, %ecx\n",
      "\tmovl\t$2, %r8d\n",
      "\tmovq\t%r12, %rdx\n",
      "\tcallq\t*%r15\n",
      "; │┌ @ range.jl:597 within `iterate'\n",
      "; ││┌ @ promotion.jl:401 within `=='\n",
      "\taddq\t$-1, %rbx\n",
      "; │└└\n",
      "\tjne\tL112\n",
      "\tmovq\t40(%rsp), %rax\n",
      "\tmovq\t%rax, (%rsi)\n",
      "; │ @ In[32]:5 within `g'\n",
      "\tvmovaps\t-64(%rbp), %xmm6\n",
      "\tleaq\t-48(%rbp), %rsp\n",
      "\tpopq\t%rbx\n",
      "\tpopq\t%rdi\n",
      "\tpopq\t%rsi\n",
      "\tpopq\t%r12\n",
      "\tpopq\t%r14\n",
      "\tpopq\t%r15\n",
      "\tpopq\t%rbp\n",
      "\tretq\n",
      "\tnopl\t(%rax)\n",
      "; └\n"
     ]
    }
   ],
   "source": [
    "@code_native g(1.0)"
   ]
  },
  {
   "cell_type": "markdown",
   "metadata": {},
   "source": [
    "Se eliminarmos a variável global assim:"
   ]
  },
  {
   "cell_type": "code",
   "execution_count": 35,
   "metadata": {
    "hide-output": false
   },
   "outputs": [
    {
     "data": {
      "text/plain": [
       "g (generic function with 2 methods)"
      ]
     },
     "execution_count": 35,
     "metadata": {},
     "output_type": "execute_result"
    }
   ],
   "source": [
    "function g(a, b)\n",
    "    for i ∈ 1:1_000_000\n",
    "        tmp = a + b\n",
    "    end\n",
    "end"
   ]
  },
  {
   "cell_type": "markdown",
   "metadata": {},
   "source": [
    "então a velocidade de execução melhora drasticamente."
   ]
  },
  {
   "cell_type": "code",
   "execution_count": 36,
   "metadata": {
    "hide-output": false
   },
   "outputs": [
    {
     "name": "stdout",
     "output_type": "stream",
     "text": [
      "  1.299 ns (0 allocations: 0 bytes)\n"
     ]
    }
   ],
   "source": [
    "@btime g(1.0, 1.0)"
   ]
  },
  {
   "cell_type": "markdown",
   "metadata": {},
   "source": [
    "Observe que a segunda execução foi dramaticamente mais rápida que a primeira.\n",
    "\n",
    "Isso ocorre porque a primeira chamada incluiu o tempo para a compilação do JIT.\n",
    "\n",
    "Observe também quão pequena é a pegada de memória da execução.\n",
    "\n",
    "Além disso, o código da máquina é simples e limpo"
   ]
  },
  {
   "cell_type": "code",
   "execution_count": 37,
   "metadata": {
    "hide-output": false
   },
   "outputs": [
    {
     "name": "stdout",
     "output_type": "stream",
     "text": [
      "\t.text\n",
      "; ┌ @ In[35]:2 within `g'\n",
      "\tpushq\t%rbp\n",
      "\tmovq\t%rsp, %rbp\n",
      "; │ @ In[35]:3 within `g'\n",
      "\tpopq\t%rbp\n",
      "\tretq\n",
      "\tnopw\t%cs:(%rax,%rax)\n",
      "; └\n"
     ]
    }
   ],
   "source": [
    "@code_native g(1.0, 1.0)"
   ]
  },
  {
   "cell_type": "markdown",
   "metadata": {},
   "source": [
    "Agora, o compilador tem alguns tipos ao longo da execução da função e, portanto, pode otimizar adequadamente."
   ]
  },
  {
   "cell_type": "markdown",
   "metadata": {},
   "source": [
    "#### A palavra chave `const` \n",
    "\n",
    "Outra maneira de estabilizar o código acima é manter a variável global, mas anexá-la com `const`."
   ]
  },
  {
   "cell_type": "code",
   "execution_count": 38,
   "metadata": {
    "hide-output": false
   },
   "outputs": [
    {
     "data": {
      "text/plain": [
       "g (generic function with 2 methods)"
      ]
     },
     "execution_count": 38,
     "metadata": {},
     "output_type": "execute_result"
    }
   ],
   "source": [
    "const b_const = 1.0\n",
    "function g(a)\n",
    "    global b_const\n",
    "    for i ∈ 1:1_000_000\n",
    "        tmp = a + b_const\n",
    "    end\n",
    "end"
   ]
  },
  {
   "cell_type": "markdown",
   "metadata": {},
   "source": [
    "Agora o compilador pode novamente gerar código de máquina eficiente.\n",
    "\n",
    "Vamos deixar você experimentar."
   ]
  },
  {
   "cell_type": "markdown",
   "metadata": {},
   "source": [
    "### Tipos Compostos  com  Tipos Abstratos de Campos\n",
    "\n",
    "Outro cenário que desativa o compilador JIT é quando os tipos compostos têm campos com tipos abstratos.\n",
    "\n",
    "Nós encontramos esse problema [anteriormente](https://julia.quantecon.org/more_julia/generic_programming.html#spec-field-types), quando discutimos os modelos AR(1).\n",
    "\n",
    "Vamos experimentar, usando, respectivamente,\n",
    "\n",
    "- um campo não digitado.\n",
    "- um campo com tipo abstrato e  \n",
    "- digitação paramétrica.\n",
    "\n",
    "\n",
    "Como veremos, a última opção oferece o melhor desempenho, mantendo uma flexibilidade significativa.\n",
    "\n",
    "Aqui está o caso não digitado:"
   ]
  },
  {
   "cell_type": "code",
   "execution_count": 39,
   "metadata": {
    "hide-output": false
   },
   "outputs": [],
   "source": [
    "struct Foo_generic\n",
    "    a\n",
    "end"
   ]
  },
  {
   "cell_type": "markdown",
   "metadata": {},
   "source": [
    "Aqui está o caso de um tipo abstrato no campo `a`:"
   ]
  },
  {
   "cell_type": "code",
   "execution_count": 40,
   "metadata": {
    "hide-output": false
   },
   "outputs": [],
   "source": [
    "struct Foo_abstract\n",
    "    a::Real\n",
    "end"
   ]
  },
  {
   "cell_type": "markdown",
   "metadata": {},
   "source": [
    "Finalmente, aqui está o caso digitado parametricamente:"
   ]
  },
  {
   "cell_type": "code",
   "execution_count": 41,
   "metadata": {
    "hide-output": false
   },
   "outputs": [],
   "source": [
    "struct Foo_concrete{T <: Real}\n",
    "    a::T\n",
    "end"
   ]
  },
  {
   "cell_type": "markdown",
   "metadata": {},
   "source": [
    "Agora geramos instâncias:"
   ]
  },
  {
   "cell_type": "code",
   "execution_count": 42,
   "metadata": {
    "hide-output": false
   },
   "outputs": [
    {
     "data": {
      "text/plain": [
       "Foo_concrete{Float64}(1.0)"
      ]
     },
     "execution_count": 42,
     "metadata": {},
     "output_type": "execute_result"
    }
   ],
   "source": [
    "fg = Foo_generic(1.0)\n",
    "fa = Foo_abstract(1.0)\n",
    "fc = Foo_concrete(1.0)"
   ]
  },
  {
   "cell_type": "markdown",
   "metadata": {},
   "source": [
    "No último caso, informações concretas do tipo para os campos são incorporadas no objeto."
   ]
  },
  {
   "cell_type": "code",
   "execution_count": 43,
   "metadata": {
    "hide-output": false
   },
   "outputs": [
    {
     "data": {
      "text/plain": [
       "Foo_concrete{Float64}"
      ]
     },
     "execution_count": 43,
     "metadata": {},
     "output_type": "execute_result"
    }
   ],
   "source": [
    "typeof(fc)"
   ]
  },
  {
   "cell_type": "markdown",
   "metadata": {},
   "source": [
    "Isso é significativo porque essas informações são detectadas pelo compilador."
   ]
  },
  {
   "cell_type": "markdown",
   "metadata": {},
   "source": [
    "#### Timing\n",
    "\n",
    "Aqui está uma função que usa o campo `a` de nossos objetos."
   ]
  },
  {
   "cell_type": "code",
   "execution_count": 44,
   "metadata": {
    "hide-output": false
   },
   "outputs": [
    {
     "data": {
      "text/plain": [
       "f (generic function with 2 methods)"
      ]
     },
     "execution_count": 44,
     "metadata": {},
     "output_type": "execute_result"
    }
   ],
   "source": [
    "function f(foo)\n",
    "    for i ∈ 1:1_000_000\n",
    "        tmp = i + foo.a\n",
    "    end\n",
    "end"
   ]
  },
  {
   "cell_type": "markdown",
   "metadata": {},
   "source": [
    "Vamos tentar cronometrar nosso código, começando com o caso genérico:"
   ]
  },
  {
   "cell_type": "code",
   "execution_count": 45,
   "metadata": {
    "hide-output": false
   },
   "outputs": [
    {
     "name": "stdout",
     "output_type": "stream",
     "text": [
      "  24.651 ms (1999489 allocations: 30.51 MiB)\n"
     ]
    }
   ],
   "source": [
    "@btime f($fg)"
   ]
  },
  {
   "cell_type": "markdown",
   "metadata": {},
   "source": [
    "O momento não é muito impressionante.\n",
    "\n",
    "Aqui está o código de máquina desagradável:"
   ]
  },
  {
   "cell_type": "code",
   "execution_count": 46,
   "metadata": {
    "hide-output": false
   },
   "outputs": [
    {
     "name": "stdout",
     "output_type": "stream",
     "text": [
      "\t.text\n",
      "; ┌ @ In[44]:2 within `f'\n",
      "\tpushq\t%rbp\n",
      "\tmovq\t%rsp, %rbp\n",
      "\tpushq\t%r15\n",
      "\tpushq\t%r14\n",
      "\tpushq\t%r13\n",
      "\tpushq\t%r12\n",
      "\tpushq\t%rsi\n",
      "\tpushq\t%rdi\n",
      "\tpushq\t%rbx\n",
      "\tsubq\t$88, %rsp\n",
      "\tvxorps\t%xmm0, %xmm0, %xmm0\n",
      "\tvmovaps\t%xmm0, -80(%rbp)\n",
      "\tmovq\t%rdx, %rdi\n",
      "\tmovq\t$0, -64(%rbp)\n",
      "\tmovq\t%rdi, -104(%rbp)\n",
      "\tmovl\t$jl_get_ptls_states, %eax\n",
      "\tcallq\t*%rax\n",
      "\tmovq\t%rax, %r14\n",
      "\tmovq\t$2, -80(%rbp)\n",
      "\tmovq\t(%r14), %rax\n",
      "\tmovq\t%rax, -72(%rbp)\n",
      "\tleaq\t-80(%rbp), %rax\n",
      "\tmovq\t%rax, (%r14)\n",
      "\tmovq\t(%rdi), %rsi\n",
      "\tmovl\t$1, %edi\n",
      "\tmovabsq\t$jl_box_int64, %r15\n",
      "\tmovabsq\t$jl_apply_generic, %r12\n",
      "\tleaq\t-96(%rbp), %r13\n",
      "\tnopl\t(%rax,%rax)\n",
      "; │ @ In[44]:3 within `f'\n",
      "; │┌ @ Base.jl:20 within `getproperty'\n",
      "L112:\n",
      "\tmovq\t(%rsi), %rbx\n",
      "; │└\n",
      "\tmovq\t%rdi, %rcx\n",
      "\tcallq\t*%r15\n",
      "\tmovq\t%rax, -64(%rbp)\n",
      "\tmovq\t%rax, -96(%rbp)\n",
      "\tmovq\t%rbx, -88(%rbp)\n",
      "\tmovl\t$jl_system_image_data, %ecx\n",
      "\tmovl\t$2, %r8d\n",
      "\tmovq\t%r13, %rdx\n",
      "\tcallq\t*%r12\n",
      "; │┌ @ range.jl:598 within `iterate'\n",
      "; ││┌ @ int.jl:53 within `+'\n",
      "\taddq\t$1, %rdi\n",
      "; │└└\n",
      "; │┌ @ promotion.jl:401 within `iterate'\n",
      "\tcmpq\t$1000001, %rdi          # imm = 0xF4241\n",
      "; │└\n",
      "\tjne\tL112\n",
      "\tmovq\t-72(%rbp), %rax\n",
      "\tmovq\t%rax, (%r14)\n",
      "; │ @ In[44]:3 within `f'\n",
      "\tmovl\t$jl_system_image_data, %eax\n",
      "\taddq\t$88, %rsp\n",
      "\tpopq\t%rbx\n",
      "\tpopq\t%rdi\n",
      "\tpopq\t%rsi\n",
      "\tpopq\t%r12\n",
      "\tpopq\t%r13\n",
      "\tpopq\t%r14\n",
      "\tpopq\t%r15\n",
      "\tpopq\t%rbp\n",
      "\tretq\n",
      "; └\n"
     ]
    }
   ],
   "source": [
    "@code_native f(fg)"
   ]
  },
  {
   "cell_type": "markdown",
   "metadata": {},
   "source": [
    "O caso abstrato é semelhante:"
   ]
  },
  {
   "cell_type": "code",
   "execution_count": 47,
   "metadata": {
    "hide-output": false
   },
   "outputs": [
    {
     "name": "stdout",
     "output_type": "stream",
     "text": [
      "  23.542 ms (1999489 allocations: 30.51 MiB)\n"
     ]
    }
   ],
   "source": [
    "@btime f($fa)"
   ]
  },
  {
   "cell_type": "markdown",
   "metadata": {},
   "source": [
    "Observe a grande área de cobertura da memória.\n",
    "\n",
    "O código da máquina também é longo e complexo, embora omitamos detalhes.\n",
    "\n",
    "Finalmente, vamos olhar para a versão parametricamente digitada:"
   ]
  },
  {
   "cell_type": "code",
   "execution_count": 48,
   "metadata": {
    "hide-output": false
   },
   "outputs": [
    {
     "name": "stdout",
     "output_type": "stream",
     "text": [
      "  1.299 ns (0 allocations: 0 bytes)\n"
     ]
    }
   ],
   "source": [
    "@btime f($fc)"
   ]
  },
  {
   "cell_type": "markdown",
   "metadata": {},
   "source": [
    "Parte desse tempo é a compilação JIT, e mais uma execução nos leva a um ponto.\n",
    "\n",
    "Aqui está o código de máquina correspondente:"
   ]
  },
  {
   "cell_type": "code",
   "execution_count": 49,
   "metadata": {
    "hide-output": false
   },
   "outputs": [
    {
     "name": "stdout",
     "output_type": "stream",
     "text": [
      "\t.text\n",
      "; ┌ @ In[44]:2 within `f'\n",
      "\tpushq\t%rbp\n",
      "\tmovq\t%rsp, %rbp\n",
      "; │ @ In[44]:3 within `f'\n",
      "\tpopq\t%rbp\n",
      "\tretq\n",
      "\tnopw\t%cs:(%rax,%rax)\n",
      "; └\n"
     ]
    }
   ],
   "source": [
    "@code_native f(fc)"
   ]
  },
  {
   "cell_type": "markdown",
   "metadata": {},
   "source": [
    "Muito melhor…"
   ]
  },
  {
   "cell_type": "markdown",
   "metadata": {},
   "source": [
    "### Contêiners Abstratos\n",
    "\n",
    "Outra maneira de encontrar problemas é com tipos abstratos de contêineres.\n",
    "\n",
    "Considere a função a seguir, que basicamente faz o mesmo trabalho que a função `sum()` do Julia, mas atua apenas em dados de ponto flutuante."
   ]
  },
  {
   "cell_type": "code",
   "execution_count": 50,
   "metadata": {
    "hide-output": false
   },
   "outputs": [
    {
     "data": {
      "text/plain": [
       "sum_float_array (generic function with 1 method)"
      ]
     },
     "execution_count": 50,
     "metadata": {},
     "output_type": "execute_result"
    }
   ],
   "source": [
    "function sum_float_array(x::AbstractVector{<:Number})\n",
    "    sum = 0.0\n",
    "    for i ∈ eachindex(x)\n",
    "        sum += x[i]\n",
    "    end\n",
    "    return sum\n",
    "end"
   ]
  },
  {
   "cell_type": "markdown",
   "metadata": {},
   "source": [
    "As chamadas para esta função são executadas muito rapidamente."
   ]
  },
  {
   "cell_type": "code",
   "execution_count": 51,
   "metadata": {
    "hide-output": false
   },
   "outputs": [
    {
     "data": {
      "text/plain": [
       "Array{Float64,1}"
      ]
     },
     "execution_count": 51,
     "metadata": {},
     "output_type": "execute_result"
    }
   ],
   "source": [
    "x = range(0,  1, length = Int(1e6))\n",
    "x = collect(x)\n",
    "typeof(x)"
   ]
  },
  {
   "cell_type": "code",
   "execution_count": 52,
   "metadata": {
    "hide-output": false
   },
   "outputs": [
    {
     "name": "stdout",
     "output_type": "stream",
     "text": [
      "  847.001 μs (0 allocations: 0 bytes)\n"
     ]
    },
    {
     "data": {
      "text/plain": [
       "499999.9999999796"
      ]
     },
     "execution_count": 52,
     "metadata": {},
     "output_type": "execute_result"
    }
   ],
   "source": [
    "@btime sum_float_array($x)"
   ]
  },
  {
   "cell_type": "markdown",
   "metadata": {},
   "source": [
    "Quando Julia compila essa função, sabe que os dados passados como `x` serão uma matriz de flutuadores de 64 bits.\n",
    "\n",
    "Portanto, é sabido pelo compilador que o método relevante `+` é sempre a adição de números de ponto flutuante.\n",
    "\n",
    "Além disso, os dados podem ser organizados em blocos contínuos de memória de 64 bits para simplificar o acesso à memória.\n",
    "\n",
    "Por fim, os tipos de dados são estáveis - por exemplo, a variável local `sum` começa como uma flutuação e permanece flutuante por toda parte."
   ]
  },
  {
   "cell_type": "markdown",
   "metadata": {},
   "source": [
    "#### Inferências de tipo \n",
    "\n",
    "Aqui está a mesma função menos a anotação de tipo na assinatura da função."
   ]
  },
  {
   "cell_type": "code",
   "execution_count": 53,
   "metadata": {
    "hide-output": false
   },
   "outputs": [
    {
     "data": {
      "text/plain": [
       "sum_array (generic function with 1 method)"
      ]
     },
     "execution_count": 53,
     "metadata": {},
     "output_type": "execute_result"
    }
   ],
   "source": [
    "function sum_array(x)\n",
    "    sum = 0.0\n",
    "    for i ∈ eachindex(x)\n",
    "        sum += x[i]\n",
    "    end\n",
    "    return sum\n",
    "end"
   ]
  },
  {
   "cell_type": "markdown",
   "metadata": {},
   "source": [
    "Quando o executamos com a mesma matriz de números de ponto flutuante, ele é executado em uma velocidade semelhante à da função com informações de tipo."
   ]
  },
  {
   "cell_type": "code",
   "execution_count": 54,
   "metadata": {
    "hide-output": false
   },
   "outputs": [
    {
     "name": "stdout",
     "output_type": "stream",
     "text": [
      "  847.400 μs (0 allocations: 0 bytes)\n"
     ]
    },
    {
     "data": {
      "text/plain": [
       "499999.9999999796"
      ]
     },
     "execution_count": 54,
     "metadata": {},
     "output_type": "execute_result"
    }
   ],
   "source": [
    "@btime sum_array($x)"
   ]
  },
  {
   "cell_type": "markdown",
   "metadata": {},
   "source": [
    "O motivo é que, quando `sum_array()` é chamado pela primeira vez em um vetor de um determinado tipo de dados, uma versão recém-compilada da função é produzida para manipular esse tipo.\n",
    "\n",
    "Nesse caso, como estamos chamando a função em um vetor de flutuantes, obtemos uma versão compilada da função com essencialmente a mesma representação interna que `sum_float_array()`."
   ]
  },
  {
   "cell_type": "markdown",
   "metadata": {},
   "source": [
    "#### Um Contêiner Abstrato\n",
    "\n",
    "As coisas ficam mais difíceis para o intérprete quando o tipo de dados na matriz é impreciso.\n",
    "\n",
    "Por exemplo, o seguinte snippet cria uma matriz em que o tipo de elemento é `Any`."
   ]
  },
  {
   "cell_type": "code",
   "execution_count": 55,
   "metadata": {
    "hide-output": false
   },
   "outputs": [],
   "source": [
    "x = Any[ 1/i for i ∈ 1:1e6 ];"
   ]
  },
  {
   "cell_type": "code",
   "execution_count": 56,
   "metadata": {
    "hide-output": false
   },
   "outputs": [
    {
     "data": {
      "text/plain": [
       "Any"
      ]
     },
     "execution_count": 56,
     "metadata": {},
     "output_type": "execute_result"
    }
   ],
   "source": [
    "eltype(x)"
   ]
  },
  {
   "cell_type": "markdown",
   "metadata": {},
   "source": [
    "Agora, a soma é muito mais lenta e o gerenciamento de memória é menos eficiente."
   ]
  },
  {
   "cell_type": "code",
   "execution_count": 57,
   "metadata": {
    "hide-output": false
   },
   "outputs": [
    {
     "name": "stdout",
     "output_type": "stream",
     "text": [
      "  17.316 ms (1000000 allocations: 15.26 MiB)\n"
     ]
    },
    {
     "data": {
      "text/plain": [
       "14.392726722864989"
      ]
     },
     "execution_count": 57,
     "metadata": {},
     "output_type": "execute_result"
    }
   ],
   "source": [
    "@btime sum_array($x)"
   ]
  },
  {
   "cell_type": "markdown",
   "metadata": {},
   "source": [
    "## Mais Comentários\n",
    "\n",
    "Aqui estão alguns comentários finais sobre desempenho."
   ]
  },
  {
   "cell_type": "markdown",
   "metadata": {},
   "source": [
    "### Digitação Explícita\n",
    "\n",
    "Escrever código Julia rápido equivale a escrever Julia a partir do qual o compilador pode gerar código de máquina eficiente.\n",
    "\n",
    "Para isso, Julia precisa saber sobre o tipo de dados que está processando o mais cedo possível.\n",
    "\n",
    "Poderíamos codificar o tipo de todas as variáveis e argumentos de função, mas isso tem um custo.\n",
    "\n",
    "Nosso código se torna mais complicado e menos genérico.\n",
    "\n",
    "Estamos começando a perder as vantagens que nos atraíram para Julia em primeiro lugar.\n",
    "\n",
    "Além disso, digitar explicitamente tudo não é necessário para o desempenho ideal.\n",
    "\n",
    "O compilador Julia é inteligente e geralmente pode inferir tipos perfeitamente, sem nenhum custo de desempenho.\n",
    "\n",
    "O que realmente queremos fazer é:\n",
    "\n",
    "- manter nosso código simples, elegante e genérico.\n",
    "- ajudar o compilador em situações nas quais ele é passível de disparar. "
   ]
  },
  {
   "cell_type": "markdown",
   "metadata": {},
   "source": [
    "### Resumo e Dicas\n",
    "\n",
    "Use funções para segregar operações em blocos logicamente distintos.\n",
    "\n",
    "Os tipos de dados serão determinados nos limites da função.\n",
    "\n",
    "Se os tipos não forem fornecidos, eles serão inferidos.\n",
    "\n",
    "Se os tipos forem estáveis e puderem ser deduzidos efetivamente, suas funções serão executadas rapidamente."
   ]
  },
  {
   "cell_type": "markdown",
   "metadata": {},
   "source": [
    "### Leitura Adicional\n",
    "\n",
    "Uma boa próxima parada para leitura adicional é a [parte relevante](https://docs.julialang.org/en/v1/manual/performance-tips/) da documentação do Julia."
   ]
  }
 ],
 "metadata": {
  "filename": "need_for_speed.rst",
  "kernelspec": {
   "display_name": "Julia 1.3.1",
   "language": "julia",
   "name": "julia-1.3"
  },
  "language_info": {
   "file_extension": ".jl",
   "mimetype": "application/julia",
   "name": "julia",
   "version": "1.3.1"
  },
  "title": "The Need for Speed"
 },
 "nbformat": 4,
 "nbformat_minor": 2
}
