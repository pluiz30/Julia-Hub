{
 "cells": [
  {
   "cell_type": "markdown",
   "metadata": {},
   "source": [
    "\n",
    "<a id='general-packages'></a>\n",
    "<div id=\"qe-notebook-header\" style=\"text-align:right;\">\n",
    "        <a href=\"https://quantecon.org/\" title=\"quantecon.org\">\n",
    "                <img style=\"width:250px;display:inline;\" src=\"https://assets.quantecon.org/img/qe-menubar-logo.svg\" alt=\"QuantEcon\">\n",
    "        </a>\n",
    "</div>"
   ]
  },
  {
   "cell_type": "markdown",
   "metadata": {},
   "source": [
    "# Pacotes de Uso Geral "
   ]
  },
  {
   "cell_type": "markdown",
   "metadata": {},
   "source": [
    "## Conteúdo \n",
    "\n",
    "- [Pacotes de Uso Geral](#Pacote-de-Uso-Geral)  \n",
    "  - [Resumo](#Resumo)  \n",
    "  - [Integração Númerica](#Integração-Númerica)  \n",
    "  - [Interpolação](#Interpolação)  \n",
    "  - [Álgebra Linear](#Álgebra-Linear)  \n",
    "  - [Ferramentas Gerais](#Ferramentas-Gerais)  "
   ]
  },
  {
   "cell_type": "markdown",
   "metadata": {},
   "source": [
    "> *Devidamente traduzido, revisado e adaptado do [QuantEcon](https://quantecon.org/) pelos bolsistas CNPq, Pedro Luiz H. Furtado e Jonas Aragão M. Corpes, sob supervisão do Prof. Christiano Penna, do CAEN/UFC.*"
   ]
  },
  {
   "cell_type": "markdown",
   "metadata": {},
   "source": [
    "## Resumo\n",
    "\n",
    "Julia possui um grande número de bibliotecas úteis e bem escritas e muitas provas de conceito incompletas e mal mantidas.\n",
    "\n",
    "Uma grande vantagem das bibliotecas Julia é que, como o própria Julia é suficientemente rápido, há menos necessidade de misturar em linguagens de baixo nível como C e Fortran.\n",
    "\n",
    "Como resultado, a maioria das bibliotecas Julia é escrita exclusivamente em Julia.\n",
    "\n",
    "Isso não apenas torna as bibliotecas mais portáteis, como também as torna mais fáceis de explorar, ler, aprender e modificar.\n",
    "\n",
    "Nesta aula, apresentamos algumas das bibliotecas Julia que consideramos particularmente úteis para o trabalho quantitativo em economia:\n",
    "\n",
    "Veja também [pacotes estatísticos e de dados](https://lectures.quantecon.org/data_statistical_packages.html), além de [otimização, solução e pacotes relacionados](https://lectures.quantecon.org/optimization_solver_packages.html) para mais pacotes específicos de domínio."
   ]
  },
  {
   "cell_type": "markdown",
   "metadata": {},
   "source": [
    "### Configuração"
   ]
  },
  {
   "cell_type": "code",
   "execution_count": 1,
   "metadata": {
    "hide-output": true
   },
   "outputs": [],
   "source": [
    "using InstantiateFromURL\n",
    "github_project(\"QuantEcon/quantecon-notebooks-julia\", version = \"0.5.0\")\n",
    "# github_project(\"QuantEcon/quantecon-notebooks-julia\", version = \"0.5.0\", instantiate = true) # uncomment to force package installation"
   ]
  },
  {
   "cell_type": "code",
   "execution_count": 2,
   "metadata": {
    "hide-output": true
   },
   "outputs": [],
   "source": [
    "using LinearAlgebra, Statistics\n",
    "using QuantEcon, QuadGK, FastGaussQuadrature, Distributions, Expectations\n",
    "using Interpolations, Plots, LaTeXStrings, ProgressMeter"
   ]
  },
  {
   "cell_type": "markdown",
   "metadata": {},
   "source": [
    "## Integração Númerica\n",
    "\n",
    "Muitas aplicações requerem o cálculo direto de uma derivada numérica e o cálculo de expectativas."
   ]
  },
  {
   "cell_type": "markdown",
   "metadata": {},
   "source": [
    "### Quadratura Adaptativa \n",
    "\n",
    "Uma solução de alta precisão para o cálculo de integrais numéricas é o [QuadGK](https://github.com/JuliaMath/QuadGK.jl)."
   ]
  },
  {
   "cell_type": "code",
   "execution_count": 3,
   "metadata": {
    "hide-output": false
   },
   "outputs": [
    {
     "name": "stdout",
     "output_type": "stream",
     "text": [
      "(value, tol) = quadgk(cos, -2π, 2π) = (-1.5474478810961125e-14, 5.7846097329025695e-24)\n"
     ]
    }
   ],
   "source": [
    "using QuadGK\n",
    "@show value, tol = quadgk(cos, -2π, 2π);"
   ]
  },
  {
   "cell_type": "markdown",
   "metadata": {},
   "source": [
    "Esta é uma técnica de integração adaptativa de Gauss-Kronrod que é relativamente precisa para funções suaves.\n",
    "\n",
    "No entanto, sua implementação adaptativa o torna lento e não é adequado para loops internos."
   ]
  },
  {
   "cell_type": "markdown",
   "metadata": {},
   "source": [
    "### Quadratura Gaussiana\n",
    "\n",
    "Alternativamente, muitas integrais podem ser feitas eficientemente com [quadratura Gaussiana](https://en.wikipedia.org/wiki/Gaussian_quadrature) (não adaptativa).\n",
    "\n",
    "Por exemplo, usando [FastGaussQuadrature.jl](https://github.com/ajt60gaibb/FastGaussQuadrature.jl)."
   ]
  },
  {
   "cell_type": "code",
   "execution_count": 4,
   "metadata": {
    "hide-output": false
   },
   "outputs": [
    {
     "name": "stdout",
     "output_type": "stream",
     "text": [
      "w ⋅ f.(x) = 0.6666666666666667\n"
     ]
    }
   ],
   "source": [
    "using FastGaussQuadrature\n",
    "x, w = gausslegendre( 100_000 ); # ou seja, encontre 100,000 nós\n",
    "\n",
    "# integra f(x) = x^2 de -1 para 1\n",
    "f(x) = x^2\n",
    "@show w ⋅ f.(x); # calcular integral"
   ]
  },
  {
   "cell_type": "markdown",
   "metadata": {},
   "source": [
    "O único problema com o pacote `FastGaussQuadrature` é que você precisará lidar com as transformações afins nos domínios não padrão.\n",
    "\n",
    "Alternativamente, `QuantEcon.jl` possui rotinas para quadratura Gaussina que traduz o domínio."
   ]
  },
  {
   "cell_type": "code",
   "execution_count": 5,
   "metadata": {
    "hide-output": false
   },
   "outputs": [
    {
     "name": "stdout",
     "output_type": "stream",
     "text": [
      "w ⋅ cos.(x) = -3.0064051806277455e-15\n"
     ]
    }
   ],
   "source": [
    "using QuantEcon\n",
    "\n",
    "x, w = qnwlege(65, -2π, 2π);\n",
    "@show w ⋅ cos.(x); # ou seja, no [-2π, 2π] domínio"
   ]
  },
  {
   "cell_type": "markdown",
   "metadata": {},
   "source": [
    "### Expectativas\n",
    "\n",
    "Se os cálculos da integração numérica são simplesmente para calcular expectativas matemáticas de uma distribuição específica, então [Expectations.jl](https://github.com/QuantEcon/Expectations.jl) fornece uma interface conveniente.\n",
    "\n",
    "Em outras palavras, ele encontra o esquema de quadratura Gaussiana apropriado para a distribuição usando `FastGaussQuadrature`."
   ]
  },
  {
   "cell_type": "code",
   "execution_count": 6,
   "metadata": {
    "hide-output": false
   },
   "outputs": [
    {
     "name": "stdout",
     "output_type": "stream",
     "text": [
      "E(f) = -6.991310601309959e-18\n"
     ]
    },
    {
     "data": {
      "text/plain": [
       "true"
      ]
     },
     "execution_count": 6,
     "metadata": {},
     "output_type": "execute_result"
    }
   ],
   "source": [
    "using Distributions, Expectations\n",
    "dist = Normal()\n",
    "E = expectation(dist)\n",
    "f(x) = x\n",
    "@show E(f) #ou seja identidade\n",
    "\n",
    "# Ou usando como um operador linear\n",
    "f(x) = x^2\n",
    "x = nodes(E)\n",
    "w = weights(E)\n",
    "E * f.(x) == f.(x) ⋅ w"
   ]
  },
  {
   "cell_type": "markdown",
   "metadata": {},
   "source": [
    "## Interpolação\n",
    "\n",
    "Em economia, geralmente desejamos interpolar dados discretos (por exemplo, criar funções contínuas que juntam sequências discretas de pontos).\n",
    "\n",
    "O pacote para o qual geralmente nos voltamos é [Interpolations.jl](https://github.com/JuliaMath/Interpolations.jl).\n",
    "\n",
    "Existem várias opções, mas apenas demonstraremos as notações convenientes."
   ]
  },
  {
   "cell_type": "markdown",
   "metadata": {},
   "source": [
    "### Univariada com um *grid* Regular\n",
    "\n",
    "Vamos começar com o caso univariado.\n",
    "\n",
    "Começamos criando alguns pontos de dados, usando uma função *seno*."
   ]
  },
  {
   "cell_type": "code",
   "execution_count": 7,
   "metadata": {
    "hide-output": false
   },
   "outputs": [
    {
     "data": {
      "image/png": "[encoded data removed]"
     },
     "execution_count": 7,
     "metadata": {},
     "output_type": "execute_result"
    }
   ],
   "source": [
    "using Interpolations\n",
    "using Plots\n",
    "gr(fmt=:png);\n",
    "\n",
    "x = -7:7 # pontos x, coase grid\n",
    "y = sin.(x) # pontos y correspondentes\n",
    "\n",
    "xf = -7:0.1:7        # bom grid\n",
    "plot(xf, sin.(xf), label = \"sin function\")\n",
    "scatter!(x, y, label = \"sampled data\", markersize = 4)"
   ]
  },
  {
   "cell_type": "markdown",
   "metadata": {},
   "source": [
    "Implementar interpolação linear e cúbica de [spline](https://en.wikipedia.org/wiki/Spline_%28mathematics%29)."
   ]
  },
  {
   "cell_type": "code",
   "execution_count": 8,
   "metadata": {
    "hide-output": false
   },
   "outputs": [
    {
     "name": "stdout",
     "output_type": "stream",
     "text": [
      "li(0.3) = 0.25244129544236954\n"
     ]
    },
    {
     "data": {
      "image/png": "[encoded data removed]"
     },
     "execution_count": 8,
     "metadata": {},
     "output_type": "execute_result"
    }
   ],
   "source": [
    "li = LinearInterpolation(x, y)\n",
    "li_spline = CubicSplineInterpolation(x, y)\n",
    "\n",
    "@show li(0.3) # avalie em um único ponto\n",
    "\n",
    "scatter(x, y, label = \"sampled data\", markersize = 4)\n",
    "plot!(xf, li.(xf), label = \"linear\")\n",
    "plot!(xf, li_spline.(xf), label = \"spline\")"
   ]
  },
  {
   "cell_type": "markdown",
   "metadata": {},
   "source": [
    "### Univariada com *Grid* Irregular\n",
    "\n",
    "Acima, a função `LinearInterpolation` usa uma função especializada\n",
    "para *grids* regulares pois `x` é um tipo `Range`.\n",
    "\n",
    "Para um arbitrário e irregular *grid*."
   ]
  },
  {
   "cell_type": "code",
   "execution_count": 9,
   "metadata": {
    "hide-output": false
   },
   "outputs": [
    {
     "data": {
      "image/png": "[encoded data removed]"
     },
     "execution_count": 9,
     "metadata": {},
     "output_type": "execute_result"
    }
   ],
   "source": [
    "x = log.(range(1, exp(4), length = 10)) .+ 1  # irregular grid\n",
    "y = log.(x) # pontos y correspondentes\n",
    "\n",
    "interp = LinearInterpolation(x, y)\n",
    "\n",
    "xf = log.(range(1,  exp(4), length = 100)) .+ 1 # melhor grid\n",
    "\n",
    "plot(xf, interp.(xf), label = \"linear\")\n",
    "scatter!(x, y, label = \"sampled data\", markersize = 4, size = (800, 400))"
   ]
  },
  {
   "cell_type": "markdown",
   "metadata": {},
   "source": [
    "Neste ponto, `Interpolations.jl` não tem um suporte para splines cúbicos com *grids* irregulares, mas existem muitos outros pacotes que fazem (por exemplo, [Dierckx.jl](https://github.com/kbarbary/Dierckx.jl)  e [GridInterpolations.jl](https://github.com/sisl/GridInterpolations.jl))."
   ]
  },
  {
   "cell_type": "markdown",
   "metadata": {},
   "source": [
    "### Interpolação Multivariada\n",
    "\n",
    "Interpolar uma função multivariada regular usa a mesma função:"
   ]
  },
  {
   "cell_type": "code",
   "execution_count": 10,
   "metadata": {
    "hide-output": false
   },
   "outputs": [
    {
     "name": "stdout",
     "output_type": "stream",
     "text": [
      "interp_linear(3, 2) = 1.6094379124341003\n",
      "interp_linear(3.1, 2.1) = 1.6484736801441782\n",
      "interp_cubic(3, 2) = 1.6094379124341\n",
      "interp_cubic(3.1, 2.1) = 1.6486586594237707\n"
     ]
    }
   ],
   "source": [
    "f(x,y) = log(x+y)\n",
    "xs = 1:0.2:5\n",
    "ys = 2:0.1:5\n",
    "A = [f(x,y) for x in xs, y in ys]\n",
    "\n",
    "# linear interpolation\n",
    "interp_linear = LinearInterpolation((xs, ys), A)\n",
    "@show interp_linear(3, 2) # exatamente log(3 + 2)\n",
    "@show interp_linear(3.1, 2.1) # aproximadamente log(3.1 + 2.1)\n",
    "\n",
    "# interpolação de spline cúbico\n",
    "interp_cubic = CubicSplineInterpolation((xs, ys), A)\n",
    "@show interp_cubic(3, 2) # exatamente log(3 + 2)\n",
    "@show interp_cubic(3.1, 2.1) # aproximadamente log(3.1 + 2.1);"
   ]
  },
  {
   "cell_type": "markdown",
   "metadata": {},
   "source": [
    "Veja [a documentação de Interpolations.jl](https://github.com/JuliaMath/Interpolations.jl#convenience-notation) para mais detalhes sobre opções e configuração."
   ]
  },
  {
   "cell_type": "markdown",
   "metadata": {},
   "source": [
    "## Álgebra Linear"
   ]
  },
  {
   "cell_type": "markdown",
   "metadata": {},
   "source": [
    "### Biblioteca padrão\n",
    "\n",
    "A biblioteca padrão contém muitas rotinas úteis para álgebra linear, para além das funções convencionais, tais como `det()`, `inv()`, `factorize()`, etc.\n",
    "\n",
    "Rotinas estão disponíveis para:\n",
    "\n",
    "- Fatoração de Cholesky.\n",
    "- Decomposição LU.\n",
    "- Decomposição de valor singular,,  \n",
    "- Fatoração de Schur, etc..  \n",
    "\n",
    "\n",
    "Veja [aqui](https://docs.julialang.org/en/v1/stdlib/LinearAlgebra/) para mais detalhes."
   ]
  },
  {
   "cell_type": "markdown",
   "metadata": {},
   "source": [
    "## Ferramentas Gerais"
   ]
  },
  {
   "cell_type": "markdown",
   "metadata": {},
   "source": [
    "### LaTeXStrings.jl\n",
    "\n",
    "Quando você precisar escapar adequadamente do código de látex (por exemplo, para rótulos de equações), use [LaTeXStrings.jl](https://github.com/stevengj/LaTeXStrings.jl)."
   ]
  },
  {
   "cell_type": "code",
   "execution_count": 11,
   "metadata": {
    "hide-output": false
   },
   "outputs": [
    {
     "data": {
      "text/latex": [
       "an equation: $1 + \\alpha^2$"
      ],
      "text/plain": [
       "L\"an equation: $1 + \\alpha^2$\""
      ]
     },
     "execution_count": 11,
     "metadata": {},
     "output_type": "execute_result"
    }
   ],
   "source": [
    "using LaTeXStrings\n",
    "L\"an equation: $1 + \\alpha^2$\""
   ]
  },
  {
   "cell_type": "markdown",
   "metadata": {},
   "source": [
    "### ProgressMeter.jl\n",
    "\n",
    "Para operações de longa execução, você pode usar o pacote [ProgressMeter.jl](https://github.com/timholy/ProgressMeter.jl) \n",
    "\n",
    "Para usar o pacote, basta colocar um macro na frente dos `for` loops, etc.\n",
    "\n",
    "A partir da documentação:"
   ]
  },
  {
   "cell_type": "code",
   "execution_count": 12,
   "metadata": {
    "hide-output": false
   },
   "outputs": [
    {
     "name": "stderr",
     "output_type": "stream",
     "text": [
      "\u001b[32mComputing...100%|███████████████████████████████████████| Time: 0:00:05\u001b[39m\n"
     ]
    }
   ],
   "source": [
    "using ProgressMeter\n",
    "\n",
    "@showprogress 1 \"Computing...\" for i in 1:50\n",
    "    sleep(0.1) # alguma computação....\n",
    "end"
   ]
  }
 ],
 "metadata": {
  "date": 1580349904.001157,
  "download_nb": 1,
  "download_nb_path": "https://julia.quantecon.org/",
  "filename": "general_packages.rst",
  "filename_with_path": "more_julia/general_packages",
  "kernelspec": {
   "display_name": "Julia 1.3.1",
   "language": "julia",
   "name": "julia-1.3"
  },
  "language_info": {
   "file_extension": ".jl",
   "mimetype": "application/julia",
   "name": "julia",
   "version": "1.3.1"
  },
  "title": "General Purpose Packages"
 },
 "nbformat": 4,
 "nbformat_minor": 2
}
