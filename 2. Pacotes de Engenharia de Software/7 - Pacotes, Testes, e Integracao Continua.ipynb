{
 "cells": [
  {
   "cell_type": "markdown",
   "metadata": {},
   "source": [
    "\n",
    "<a id='testing'></a>\n",
    "<div id=\"qe-notebook-header\" style=\"text-align:right;\">\n",
    "        <a href=\"https://quantecon.org/\" title=\"quantecon.org\">\n",
    "                <img style=\"width:250px;display:inline;\" src=\"https://assets.quantecon.org/img/qe-menubar-logo.svg\" alt=\"QuantEcon\">\n",
    "        </a>\n",
    "</div>"
   ]
  },
  {
   "cell_type": "markdown",
   "metadata": {},
   "source": [
    "# Pacotes, Testes, e Integração Contínua"
   ]
  },
  {
   "cell_type": "markdown",
   "metadata": {},
   "source": [
    "## Conteúdo\n",
    "\n",
    "- [Pacotes, Teste, e Integração Contínua](#Pacotes,-Testes,-e-Integração-Contínua)  \n",
    "  - [Configuração do Projeto](#Configuração-do-Projeto)  \n",
    "  - [Estrutura do Projeto](#Estrutura-do-Projeto)  \n",
    "  - [Fluxo de Trabalho do Projeto](#Fluxo-de-Trabalho-do-Projeto)  \n",
    "  - [Teste de Unidade](#Teste-de-Unidade)  \n",
    "  - [Integração Contínua com Travis](#Integração-Contínua-com-Travis)  \n",
    "  - [Código de Cobertura](#Código-de-Cobertura)  \n",
    "  - [Pull Requests para Projetos Externos do Julia](#Pull-Requests-para-Projetos-Externos-do-Julia)\n",
    "  - [Benchmarking](#Benchmarking)  \n",
    "  - [Notas Adicionais](#Notas-Adicionais)  \n",
    "  - [Revisão](#Revisão)   \n",
    "  - [Exercícios](#Exercícios)  \n",
    "  \n"
   ]
  },
  {
   "cell_type": "markdown",
   "metadata": {},
   "source": [
    "> *Devidamente traduzido, revisado e adaptado do [QuantEcon](https://quantecon.org/) pelos bolsistas CNPq, Pedro Luiz H. Furtado e Jonas Aragão M. Corpes, sob supervisão do Prof. Christiano Penna, do CAEN/UFC.*"
   ]
  },
  {
   "cell_type": "markdown",
   "metadata": {},
   "source": [
    "Um sistema complexo que funciona invariavelmente evoluiu de um sistema simples que funcionou. A proposição inversa também parece ser verdadeira: um sistema complexo projetado do zero nunca funciona e não pode ser feito para funcionar. Você precisa começar de novo, começando com um sistema simples que funciona - [Lei de Gal](https://en.wikipedia.org/wiki/John_Gall_%28author%29#Gall%27s_law)."
   ]
  },
  {
   "cell_type": "markdown",
   "metadata": {},
   "source": [
    "Em co-autoria com Arnav Sood.\n",
    "\n",
    "Esta aula discute a estruturação de um projeto como um módulo Julia e o teste com ferramentas do GitHub.\n",
    "\n",
    "Os benefícios incluem:\n",
    "\n",
    "- Especificar dependências (e suas versões) para que seu projeto funcione nas configurações de Julia e ao longo do tempo. \n",
    "- Ser capaz de carregar as funções do seu projeto de fora sem copiar/colar.  \n",
    "- Escrever testes executados localmente e *automaticamente no servidor GitHub*.  \n",
    "- Tendo o GitHub testando seu projeto em sistemas operacionais, versões Julia, etc. \n",
    "\n",
    "\n",
    "\n",
    "<a id='project-setup'></a>"
   ]
  },
  {
   "cell_type": "markdown",
   "metadata": {},
   "source": [
    "## Configuração do Projeto"
   ]
  },
  {
   "cell_type": "markdown",
   "metadata": {},
   "source": [
    "### Configuração da Conta"
   ]
  },
  {
   "cell_type": "markdown",
   "metadata": {},
   "source": [
    "#### Travis CI\n",
    "\n",
    "Como veremos mais tarde, Travis é um serviço que automaticamente testa seu projeto em um server do GitHub.\n",
    "\n",
    "Primeiro, precisamos ter certeza que sua conta do Github está configurada com Travis CI e Codecov.\n",
    "\n",
    "Lembre-se de que você se inscreveu no GitHub em [Student Developer Pack](https://education.github.com/pack/) ou [Academic Plan](https://help.github.com/articles/applying-for-an-academic-research-discount/) se elegível.\n",
    "\n",
    "Navegue até o [site travis-ci.com](https://travis-ci.com/) e clique “sign up with GitHub” – forneça suas credenciais. \n",
    "\n",
    "Se tiver dificuldades, veja [tutorial do Travis](https://docs.travis-ci.com/user/tutorial/)."
   ]
  },
  {
   "attachments": {},
   "cell_type": "markdown",
   "metadata": {},
   "source": [
    "#### Codecov\n",
    "\n",
    "Codecov é um serviço que informa a abrangência dos seus testes (ou seja, quanto do seu código é realmente testado).\n",
    "\n",
    "Para se inscrever, visite o [site do Codecov](http://codecov.io/), e clique em “sign up”.\n",
    "\n",
    "![1](https://github.com/pluiz30/Julia-Hub/assets/60633407/cb8a74da-9caa-4369-9614-9b695f0fbd1c)",
    "  \n"
   ]
  },
  {
   "attachments": {},
   "cell_type": "markdown",
   "metadata": {},
   "source": [
    "Próximo, clique em “add a repository” e *enable private scope* (isso permite ao Codecov atender seus projetos particulares).\n",
    "\n",
    "O resultado deve ser:\n",
    "\n",
    "![2](https://github.com/pluiz30/Julia-Hub/assets/60633407/acda81b1-23cd-4c56-af1d-59da0824da48)",
    "  \n",
    "Isto é tudo que precisamos por enquanto."
   ]
  },
  {
   "cell_type": "markdown",
   "metadata": {},
   "source": [
    "### Coniguração do Julia"
   ]
  },
  {
   "cell_type": "code",
   "execution_count": 4,
   "metadata": {},
   "outputs": [
    {
     "name": "stdout",
     "output_type": "stream",
     "text": [
      "\u001b[32m\u001b[1mActivated\u001b[0m C:\\Users\\cliente\\Downloads\\Project.toml\u001b[39m\n",
      "\u001b[36m\u001b[1mInfo\u001b[0m quantecon-notebooks-julia 0.4.0 activated, 0.5.0 requested\u001b[39m\n"
     ]
    }
   ],
   "source": [
    "using InstantiateFromURL\n",
    "github_project(\"QuantEcon/quantecon-notebooks-julia\", version = \"0.5.0\", instantiate = true)"
   ]
  },
  {
   "cell_type": "markdown",
   "metadata": {},
   "source": [
    "**Nota:** Antes desses passos, verifique se você concluiu a aula de [controle de versão](https://julia.quantecon.org/more_julia/version_control.html) ou executou:"
   ]
  },
  {
   "cell_type": "markdown",
   "metadata": {
    "hide-output": false
   },
   "source": [
    "```julia\n",
    "git config --global user.name \"Your Name\"\n",
    "```\n"
   ]
  },
  {
   "cell_type": "markdown",
   "metadata": {},
   "source": [
    "**Nota:** Ao longo desta aula, os pontos importantes e as etapas sequenciais do fluxo de trabalho são listados como marcadores.\n",
    "\n",
    "Para configurar um projeto em Julia:\n",
    "\n",
    "- Carregue o pacote [PkgTemplates](https://github.com/invenia/PkgTemplates.jl/)."
   ]
  },
  {
   "cell_type": "markdown",
   "metadata": {
    "hide-output": false
   },
   "source": [
    "```julia\n",
    "using PkgTemplates\n",
    "```\n"
   ]
  },
  {
   "cell_type": "markdown",
   "metadata": {},
   "source": [
    "- Crie um *template* para seu projeto: \n",
    "\n",
    "\n",
    "Isso especifica os metadados como a licença que usaremos (MIT por padrão), o local (`~/.julia/dev` por padrão), etc."
   ]
  },
  {
   "cell_type": "markdown",
   "metadata": {
    "hide-output": false
   },
   "source": [
    "```julia\n",
    "ourTemplate = Template(;user=\"quanteconuser\", plugins = [TravisCI(), Codecov()], manifest = true)\n",
    "```\n"
   ]
  },
  {
   "cell_type": "markdown",
   "metadata": {},
   "source": [
    "**Nota**: Certifique-se de substituir o `quanteconuser` com seu ID do GitHub:\n",
    "\n",
    "- Crie um projeto específico com base neste modelo."
   ]
  },
  {
   "cell_type": "markdown",
   "metadata": {
    "hide-output": false
   },
   "source": [
    "```julia\n",
    "generate(\"ExamplePackage.jl\", ourTemplate)\n",
    "```\n"
   ]
  },
  {
   "attachments": {},
   "cell_type": "markdown",
   "metadata": {},
   "source": [
    "Se navegarmos para o diretório do pacote, veremos algo como o seguinte.\n",
    "\n",
    "![3](https://github.com/pluiz30/Julia-Hub/assets/60633407/dac1aaaf-dc14-4373-af8f-a873e9f3fd87)",
    "\n",
    "  \n",
    "Como lembrete, o local da sua pasta `.julia` pode ser encontrado executando `DEPOT_PATH[1]` em um REPL.\n",
    "\n",
    "**Nota:** No Mac, isso pode estar oculto; você pode iniciar um terminal `cd ~` e então `cd .julia`, ou tornar [arquivos ocultos visíveis](https://ianlunn.co.uk/articles/quickly-showhide-hidden-files-mac-os-x-mavericks/) no Finder."
   ]
  },
  {
   "attachments": {},
   "cell_type": "markdown",
   "metadata": {},
   "source": [
    "### Adicionando um Projeto ao Git\n",
    "\n",
    "O próximo passo é adicionar este projeto ao controle de versão do Git.\n",
    "\n",
    "- Abra a tela do repositório em sua conta, conforme discutido anteriormente.\n",
    "\n",
    "\n",
    "Queremos as seguintes configurações:\n",
    "\n",
    "![4](https://github.com/pluiz30/Julia-Hub/assets/60633407/42018422-6200-46ca-af09-661e353c890e)",
    "  \n",
    "Em particular:\n",
    "\n",
    "- O repo que você criar deve ter o mesmo nome que o projeto que adicionamos.\n",
    "- Devemos deixar as caixas desmarcada para o `README.md`, `LICENSE`, e `.gitignore`, uma vez que estes são tratados pelo `PkgTemplates`.  \n",
    "\n",
    "\n",
    "Então,\n",
    "\n",
    "- Arraste e solte sua pasta do seu diretório `~/.julia/dev` para o GitHub Desktop. \n",
    "- Clique no botão \"publish branch\" para enviar seus arquivos para o GitHub.  \n",
    "\n"
   ]
  },
  {
   "attachments": {},
   "cell_type": "markdown",
   "metadata": {},
   "source": [
    "Se você navegar para o seu repositório git (o nosso está [aqui](https://github.com/quanteconuser/ExamplePackage.jl/)), você deve ver algo como isso:\n",
    "\n",
    "![5](https://github.com/pluiz30/Julia-Hub/assets/60633407/efc7dcdd-4fac-4f86-b345-c6829a87fa78)",
    "  \n",
    "**Nota:** Certifique-se de não clonar separadamente o repositório que você adicionou em outro local (por exemplo, na área de trabalho).\n",
    "\n",
    "Uma observação importante é que você tem algum conjunto de arquivos em sua máquina local (aqui em `~/.julia/dev/ExamplePackage.jl`) e o git está conectado a esses arquivos.\n",
    "\n",
    "Por conveniência, convém criar um atalho para esse local em algum lugar acessível."
   ]
  },
  {
   "cell_type": "markdown",
   "metadata": {},
   "source": [
    "### Adicionando um projeto para o Gerenciador de Pacotes do Julia \n",
    "\n",
    "Também queremos que o gerente de pacotes de Julia esteja ciente do projeto.\n",
    "\n",
    "- Abra um REPL no diretório do projeto recém-criado, observando o caminho expresso acima ou executando o seguinte em um REPL."
   ]
  },
  {
   "cell_type": "markdown",
   "metadata": {
    "hide-output": false
   },
   "source": [
    "```julia\n",
    "cd(joinpath(DEPOT_PATH[1], \"dev\", \"ExamplePackage\"))\n",
    "```\n"
   ]
  },
  {
   "cell_type": "markdown",
   "metadata": {},
   "source": [
    "Observe a falta de `.jl`!\n",
    "\n",
    "- Execute o seguinte:"
   ]
  },
  {
   "cell_type": "markdown",
   "metadata": {
    "hide-output": false
   },
   "source": [
    "```julia\n",
    "] activate\n",
    "```\n"
   ]
  },
  {
   "cell_type": "markdown",
   "metadata": {},
   "source": [
    "para entrar no ambiente principal de Julia (mais sobre ambientes na segunda metade desta aula).\n",
    "\n",
    "- e execute:"
   ]
  },
  {
   "cell_type": "markdown",
   "metadata": {
    "hide-output": false
   },
   "source": [
    "```julia\n",
    "] dev .\n",
    "```\n"
   ]
  },
  {
   "cell_type": "markdown",
   "metadata": {},
   "source": [
    "Para adicionar o pacote.\n",
    "\n",
    "Você pode ver a alteração refletida em nossa lista de pacotes padrão executando:"
   ]
  },
  {
   "cell_type": "markdown",
   "metadata": {
    "hide-output": false
   },
   "source": [
    "```julia\n",
    "] st\n",
    "```\n"
   ]
  },
  {
   "cell_type": "markdown",
   "metadata": {},
   "source": [
    "Para mais informações sobre o modo de pacote, consulte a aula sobre [Ferramentas e Editores](https://julia.quantecon.org/more_julia/tools_editors.html)."
   ]
  },
  {
   "cell_type": "markdown",
   "metadata": {},
   "source": [
    "### Usando o Gerenciador de Pacotes\n",
    "\n",
    "Agora, em qualquer terminal Julia no futuro, podemos executar:"
   ]
  },
  {
   "cell_type": "markdown",
   "metadata": {
    "hide-output": false
   },
   "source": [
    "```text\n",
    "using ExamplePackage\n",
    "```\n"
   ]
  },
  {
   "cell_type": "markdown",
   "metadata": {},
   "source": [
    "Para usar suas funções exportadas.\n",
    "\n",
    "Também podemos encontrar o caminho para isso executando:"
   ]
  },
  {
   "cell_type": "markdown",
   "metadata": {
    "hide-output": false
   },
   "source": [
    "```text\n",
    "using ExamplePackage\n",
    "pathof(ExamplePackage) # returns path to src/ExamplePackage.jl\n",
    "```\n"
   ]
  },
  {
   "cell_type": "markdown",
   "metadata": {},
   "source": [
    "## Estrutura do Projeto\n",
    "\n",
    "Vamos descompactar a estrutura do projeto gerado:\n",
    "\n",
    "- O primeiro diretório `.git`, contém as informações de controle de versão.\n",
    "-  O diretório `src` contém o código-fonte do projeto - ele deve conter apenas um arquivo (`ExamplePackage.jl`), que lê:"
   ]
  },
  {
   "cell_type": "markdown",
   "metadata": {
    "hide-output": false
   },
   "source": [
    "```text\n",
    "module ExamplePackage\n",
    "\n",
    "greet() = print(\"Hello World!\")\n",
    "\n",
    "end # module\n",
    "```\n"
   ]
  },
  {
   "cell_type": "markdown",
   "metadata": {},
   "source": [
    "- Da mesma forma, o diretório `test` deve conter apenas um arquivo (`runtests.jl`), que lê:"
   ]
  },
  {
   "cell_type": "markdown",
   "metadata": {
    "hide-output": false
   },
   "source": [
    "```text\n",
    "using ExamplePackage\n",
    "using Test\n",
    "\n",
    "@testset \"ExamplePackage.jl\" begin\n",
    "    # Write your own tests here.\n",
    "end\n",
    "```\n"
   ]
  },
  {
   "cell_type": "markdown",
   "metadata": {},
   "source": [
    "\n",
    "\n",
    "Em particular, o fluxo de trabalho é exportar objetos que queremos testar(`using ExamplePackage`), e testar eles usando o módulo `Test` do Julia.\n",
    "\n",
    "Os outros arquivos de texto importantes por enquanto são:\n",
    "\n",
    "- `Project.toml` e `Manifest.toml`, que contêm informações de dependência.  \n",
    "\n",
    "\n",
    "Em particular, o `Project.toml` contém uma lista de dependências, e o `Manifest.toml` especifica suas versões e subdependências exatas.\n",
    "\n",
    "- O arquivo `.gitignore` (que pode ser exibido como um arquivo sem título), que contém arquivos e caminhos para o `git` ignorar.  "
   ]
  },
  {
   "cell_type": "markdown",
   "metadata": {},
   "source": [
    "## Fluxo de Trabalho do Projeto"
   ]
  },
  {
   "cell_type": "markdown",
   "metadata": {},
   "source": [
    "### Gerenciamento de Dependências"
   ]
  },
  {
   "cell_type": "markdown",
   "metadata": {},
   "source": [
    "#### Ambientes\n",
    "\n",
    "Como [antes](https://julia.quantecon.org/more_julia/tools_editors.html#jl-packages), o arquivo .toml define um *ambiente* para o nosso projeto, um conjunto de arquivos que representam as informações de dependência.\n",
    "\n",
    "Os arquivos reais são gravados na [Linguagem TOML](https://github.com/toml-lang/toml), que é um formato leve para especificar opções de configuração.\n",
    "\n",
    "Esta informação é o nome de cada pacote em que dependemos, juntamente com as versões exatas desses pacotes.\n",
    "\n",
    "Essas informações (na prática, o resultado das operações do pacote que executamos) serão refletidas no `ExamplePackage.jl` do diretório do TOML, assim que o ambiente for ativado (selecionado).\n",
    "\n",
    "Isso permite compartilhar nosso projeto com outros, que podem reproduzir exatamente o estado usado para construí-lo e testá-lo.\n",
    "\n",
    "Veja o [Pkg3 docs](https://docs.julialang.org/en/v1/stdlib/Pkg/) para mais informações."
   ]
  },
  {
   "cell_type": "markdown",
   "metadata": {},
   "source": [
    "#### Pkg Operações\n",
    "\n",
    "Por enquanto, vamos apenas tentar adicionar uma dependência:\n",
    "\n",
    "- Ative o ambiente do pacote (a ser executado a partir da base `v1.1`)."
   ]
  },
  {
   "cell_type": "markdown",
   "metadata": {
    "hide-output": false
   },
   "source": [
    "```julia\n",
    "] activate ExamplePackage\n",
    "```\n"
   ]
  },
  {
   "cell_type": "markdown",
   "metadata": {},
   "source": [
    "\n",
    "<dl style='margin: 20px 0;'>\n",
    "<dt>Isso diz ao Julia para gravar os resultados das operações do pacote no TOML do `ExampleProject`,</dt>\n",
    "<dd>\n",
    "e usar as versões dos pacotes especificadas lá.\n",
    "\n",
    "</dd>\n",
    "\n",
    "</dl>\n",
    "\n",
    "Observe que o ambiente base não é especial, exceto que é carregado por um notebook REPL ou Jupyter recém-iniciado.\n",
    "\n",
    "- Add a package  "
   ]
  },
  {
   "cell_type": "markdown",
   "metadata": {
    "hide-output": false
   },
   "source": [
    "```julia\n",
    "] add Expectations\n",
    "```\n"
   ]
  },
  {
   "attachments": {},
   "cell_type": "markdown",
   "metadata": {},
   "source": [
    "Podemos acompanhar as alterações no TOML, como antes.\n",
    "\n",
    "Aqui está o  `Manifest.toml`.\n",
    "\n",
    "![6](https://github.com/pluiz30/Julia-Hub/assets/60633407/4dfb5283-db71-497c-964d-abc215a8af29)",
    "\n",
    "  \n",
    "Podemos também executar outras operações, como `] up`, `] precompile`, etc.\n",
    "\n",
    "O pacote de operações está listado em detalhes na aula de [ferramentas e editores](https://julia.quantecon.org/more_julia/tools_editors.html).\n",
    "\n",
    "Lembre-se de que, para sair do ambiente ativo e retornar à base `(v1.1)`, basta executar:"
   ]
  },
  {
   "cell_type": "markdown",
   "metadata": {
    "hide-output": false
   },
   "source": [
    "```julia\n",
    "] activate\n",
    "```\n"
   ]
  },
  {
   "cell_type": "markdown",
   "metadata": {},
   "source": [
    "### Escrevendo o Código\n",
    "\n",
    "A ideia básica é trabalhar em `tests/runtests.jl`, enquanto as funções reproduzíveis devem entrar no `src/ExamplePackage.jl`.\n",
    "\n",
    "Por exemplo, digamos que adicionamos  `Distributions.jl`."
   ]
  },
  {
   "cell_type": "markdown",
   "metadata": {
    "hide-output": false
   },
   "source": [
    "```julia\n",
    "] activate ExamplePackage\n",
    "```\n"
   ]
  },
  {
   "cell_type": "markdown",
   "metadata": {
    "hide-output": false
   },
   "source": [
    "```julia\n",
    "] add Distributions\n",
    "```\n"
   ]
  },
  {
   "cell_type": "markdown",
   "metadata": {},
   "source": [
    "e editamos a fonte (cole-a no próprio arquivo) para ler da seguinte maneira:"
   ]
  },
  {
   "cell_type": "markdown",
   "metadata": {
    "hide-output": false
   },
   "source": [
    "```julia\n",
    "module ExamplePackage\n",
    "\n",
    "greet() = print(\"Hello World!\")\n",
    "\n",
    "using Expectations, Distributions\n",
    "\n",
    "function foo(μ = 1., σ = 2.)\n",
    "    d = Normal(μ, σ)\n",
    "    E = expectation(d)\n",
    "    return E(x -> sin(x))\n",
    "end\n",
    "\n",
    "export foo\n",
    "\n",
    "end # module\n",
    "```\n"
   ]
  },
  {
   "cell_type": "markdown",
   "metadata": {},
   "source": [
    "Vamos tentar chamando isso:"
   ]
  },
  {
   "cell_type": "markdown",
   "metadata": {
    "hide-output": false
   },
   "source": [
    "```julia\n",
    "] activate\n",
    "```\n"
   ]
  },
  {
   "cell_type": "markdown",
   "metadata": {
    "hide-output": false
   },
   "source": [
    "```julia\n",
    "using ExamplePackage\n",
    "ExamplePackage.greet()\n",
    "```\n"
   ]
  },
  {
   "cell_type": "markdown",
   "metadata": {
    "hide-output": false
   },
   "source": [
    "```julia\n",
    "foo() # exportado, portanto, não é necessário qualificar o espaço para nome\n",
    "```\n"
   ]
  },
  {
   "cell_type": "markdown",
   "metadata": {},
   "source": [
    "**Nota:** Se você não seguiu as instruções para adicionar um [arquivo de inicialização](https://julia.quantecon.org/more_julia/tools_editors.html#jl-startup-file), pode ser necessário sair do REPL e carregar o pacote novamente."
   ]
  },
  {
   "attachments": {},
   "cell_type": "markdown",
   "metadata": {},
   "source": [
    "### Fluxo de Trabalho do Jupyter\n",
    "\n",
    "Também podemos trabalhar com o pacote em um notebook Jupyter.\n",
    "\n",
    "Vamos criar um novo diretório de saída em nosso projeto e executar a `jupyter lab` a partir dele.\n",
    "\n",
    "Crie um novo notebook `output.ipynb`.\n",
    "\n",
    "![7](https://github.com/pluiz30/Julia-Hub/assets/60633407/dfb1cb07-3ba9-4dbd-a155-370e3c36056e)",
    "\n",
    "  \n",
    "A partir daqui, podemos usar as funções do nosso pacote como funções de outros pacotes.\n",
    "\n",
    "Isso nos permite produzir documentos de saída organizados, sem colar toda a base de código.\n",
    "\n"
   ]
  },
  {
   "attachments": {},
   "cell_type": "markdown",
   "metadata": {},
   "source": [
    "Também podemos executar operações de pacotes dentro do notebook.\n",
    "\n",
    "![8](https://github.com/pluiz30/Julia-Hub/assets/60633407/244deb84-7bfb-4801-aa73-0945ea1d1572)",
    "\n",
    "  \n",
    "A alteração será refletida no arquivo `Project.toml`. \n",
    "\n",
    "Observe que, como sempre, tivemos que ativar `ExamplePackage` primeiro antes de fazer nossas alterações de dependência."
   ]
  },
  {
   "cell_type": "markdown",
   "metadata": {
    "hide-output": false
   },
   "source": [
    "```julia\n",
    "name = \"ExamplePackage\"\n",
    "uuid = \"f85830d0-e1f0-11e8-2fad-8762162ab251\"\n",
    "authors = [\"QuantEcon User <quanteconuser@gmail.com>\"]\n",
    "version = \"0.1.0\"\n",
    "\n",
    "[deps]\n",
    "Distributions = \"31c24e10-a181-5473-b8eb-7969acd0382f\"\n",
    "Expectations = \"2fe49d83-0758-5602-8f54-1f90ad0d522b\"\n",
    "Parameters = \"d96e819e-fc66-5662-9728-84c9c7592b0a\"\n",
    "\n",
    "[extras]\n",
    "Test = \"8dfed614-e22c-5e08-85e1-65c5234f0b40\"\n",
    "\n",
    "[targets]\n",
    "test = [\"Test\"]\n",
    "```\n"
   ]
  },
  {
   "cell_type": "markdown",
   "metadata": {},
   "source": [
    "Também haverá mudanças no manifesto.\n",
    "\n",
    "Certifique-se de adicionar `output/.ipynb_checkpoints` ao seu arquivo `.gitignore`, para que não seja feito o check-in.\n",
    "Certifique-se de ter ativado o ambiente do projeto  (`] activate ExamplePackage`) antes de tentar propagar as alterações."
   ]
  },
  {
   "cell_type": "markdown",
   "metadata": {},
   "source": [
    "### Trabalho Colaborativo\n",
    "\n",
    "Para alguém obter o pacote, eles simplesmente precisam:\n",
    "\n",
    "- Executar o seguinte comando"
   ]
  },
  {
   "cell_type": "markdown",
   "metadata": {
    "hide-output": false
   },
   "source": [
    "```julia\n",
    "] dev https://github.com/quanteconuser/ExamplePackage.jl.git\n",
    "```\n"
   ]
  },
  {
   "cell_type": "markdown",
   "metadata": {},
   "source": [
    "Isso colocará o repositório dentro de sua pasta `~/.julia/dev`. \n",
    "\n",
    "- Arraste e solte a pasta na área de trabalho do GitHub da maneira usual.\n",
    "\n",
    "\n",
    "Lembre-se de que o caminho para sua pasta `~/.julia` é:"
   ]
  },
  {
   "cell_type": "code",
   "execution_count": 5,
   "metadata": {
    "hide-output": false
   },
   "outputs": [
    {
     "data": {
      "text/plain": [
       "\"C:\\\\Users\\\\cliente\\\\.julia\""
      ]
     },
     "execution_count": 5,
     "metadata": {},
     "output_type": "execute_result"
    }
   ],
   "source": [
    "DEPOT_PATH[1]"
   ]
  },
  {
   "cell_type": "markdown",
   "metadata": {},
   "source": [
    "Eles podem então colaborar como fariam em outros repositórios git.\n",
    "\n",
    "Em particular, eles podem executar:"
   ]
  },
  {
   "cell_type": "markdown",
   "metadata": {
    "hide-output": false
   },
   "source": [
    "```julia\n",
    "] activate ExamplePackage\n",
    "```\n"
   ]
  },
  {
   "cell_type": "markdown",
   "metadata": {},
   "source": [
    "para carregar a lista de dependências e,"
   ]
  },
  {
   "cell_type": "markdown",
   "metadata": {
    "hide-output": false
   },
   "source": [
    "```julia\n",
    "] instantiate\n",
    "```\n"
   ]
  },
  {
   "cell_type": "markdown",
   "metadata": {},
   "source": [
    "para garantir que eles estejam instalados na máquina local."
   ]
  },
  {
   "cell_type": "markdown",
   "metadata": {},
   "source": [
    "## Teste de Unidade\n",
    "\n",
    "É importante garantir que seu código seja bem testado.\n",
    "\n",
    "Existem alguns tipos diferentes de teste, cada um com finalidades diferentes:\n",
    "\n",
    "- *Teste de unidade* garante que partes individuais de um projeto funcionem conforme o esperado. \n",
    "- *Teste de integração* garante que eles se encaixem conforme o esperado.\n",
    "- *Teste de regressão* garante que o comportamento permaneça inalterado ao longo do tempo.\n",
    "\n",
    "\n",
    "Nesta aula, focaremos no teste de unidade:\n",
    "\n",
    "Em geral, testes de unidade bem escritos (que também protegem contra a regressão, por exemplo, comparando a saída da função com valores codificados) são suficientes para a maioria dos projetos pequenos."
   ]
  },
  {
   "cell_type": "markdown",
   "metadata": {},
   "source": [
    "### O Módulo `Test`\n",
    "\n",
    "Julia fornece recursos de teste por meio de um pacote interno chamado `Test`, pelo qual passamos `using Test`.\n",
    "\n",
    "O objeto básico é a macro `@test`."
   ]
  },
  {
   "cell_type": "code",
   "execution_count": 2,
   "metadata": {
    "hide-output": false
   },
   "outputs": [
    {
     "data": {
      "text/plain": [
       "\u001b[32m\u001b[1mTest Passed\u001b[22m\u001b[39m"
      ]
     },
     "execution_count": 2,
     "metadata": {},
     "output_type": "execute_result"
    }
   ],
   "source": [
    "using Test\n",
    "@test 1 == 1\n",
    "@test 1 ≈ 1"
   ]
  },
  {
   "cell_type": "markdown",
   "metadata": {},
   "source": [
    "Os testes serão aprovados se a condição for `true`, ou `fail` caso contrário.\n",
    "\n",
    "Se um teste está falhando, devemos sinalizá-lo `@test_broken` como abaixo:"
   ]
  },
  {
   "cell_type": "code",
   "execution_count": 3,
   "metadata": {
    "hide-output": false
   },
   "outputs": [
    {
     "data": {
      "text/plain": [
       "\u001b[33m\u001b[1mTest Broken\u001b[22m\u001b[39m\n",
       "  Expression: 1 == 2"
      ]
     },
     "execution_count": 3,
     "metadata": {},
     "output_type": "execute_result"
    }
   ],
   "source": [
    "@test_broken 1 == 2"
   ]
  },
  {
   "cell_type": "markdown",
   "metadata": {},
   "source": [
    "Dessa forma, ainda temos acesso a informações sobre o teste, em vez de excluí-lo ou comentá-lo.\n",
    "\n",
    "Existem outras macros de teste, que verificam coisas como tratamento de erros e estabilidade de tipo.\n",
    "\n",
    "Usuários avançados podem verificar os [documentos do Julia](https://docs.julialang.org/en/v1/stdlib/Test/)."
   ]
  },
  {
   "cell_type": "markdown",
   "metadata": {},
   "source": [
    "### Exemplo\n",
    "\n",
    "Vamos adicionar alguns testes de unidade para a função `foo()` que definimos anteriormente.\n",
    "\n",
    "Nosso arquivo `tests/runtests.jl` deve parecer com isso.\n",
    "\n",
    "**Como antes, isso deve ser colado diretamente no arquivo**."
   ]
  },
  {
   "cell_type": "markdown",
   "metadata": {
    "hide-output": false
   },
   "source": [
    "```julia\n",
    "using ExamplePackage\n",
    "using Test\n",
    "\n",
    "@test foo() ≈ 0.11388071406436832\n",
    "@test foo(1, 1.5) ≈ 0.2731856314283442\n",
    "@test_broken foo(1, 0) # diz que isso está quebrado\n",
    "```\n"
   ]
  },
  {
   "cell_type": "markdown",
   "metadata": {},
   "source": [
    "E execute-o digitando `] test` em um REPL ativado (ou seja, um REPL no qual você executou `] activate ExamplePackage`)."
   ]
  },
  {
   "cell_type": "markdown",
   "metadata": {},
   "source": [
    "### Conjuntos de teste\n",
    "\n",
    "Por padrão, a pasta `runtests.jl` começa com um `@testset`.\n",
    "\n",
    "Isso é útil para organizar diferentes lotes de testes, mas por enquanto podemos simplesmente ignorá-lo.\n",
    "\n",
    "Para saber mais sobre conjuntos de testes, consulte [os documentos](https://docs.julialang.org/en/v1/stdlib/Test/index.html#Working-with-Test-Sets-1/)."
   ]
  },
  {
   "cell_type": "markdown",
   "metadata": {},
   "source": [
    "### Executando os Testes\n",
    "\n",
    "Existem algumas maneiras diferentes de executar os testes para o seu pacote:\n",
    "\n",
    "- Execute o real `runtests.jl`, digamos precionando `shift-enter` no Atom.\n",
    "- Em um novo (`v1.1`) REPL, execute `] test ExamplePackage`.  \n",
    "- Em um REPL ativado (`ExamplePackage`), basta executar `] test` (lembre-se de que você pode ativar `] activate ExamplePackage`).  "
   ]
  },
  {
   "cell_type": "markdown",
   "metadata": {},
   "source": [
    "## Integração Contínua com Travis"
   ]
  },
  {
   "attachments": {},
   "cell_type": "markdown",
   "metadata": {},
   "source": [
    "### Configuração\n",
    "\n",
    "Por padrão, Travis deve ter acesso a todos os seus repositórios e implantar automaticamente.\n",
    "\n",
    "Isso inclui repositórios particulares se você estiver em um pacote de desenvolvedores para estudantes ou em um plano acadêmico (o Travis detecta isso automaticamente).\n",
    "\n",
    "Para mudar isso, vá para \"configurações\" no seu perfil do GitHub.\n",
    "\n",
    "![9](https://github.com/pluiz30/Julia-Hub/assets/60633407/cf196ebc-18f3-43b7-8e14-e0c79bd1b998)",
    "\n",
    "  \n",
    "Clique em “Aplicativos”, depois em “Travis CI”, depois em “Configurar” e escolha os repositórios que deseja rastrear."
   ]
  },
  {
   "cell_type": "markdown",
   "metadata": {},
   "source": [
    "### Opções de Compilação\n",
    "\n",
    "Por padrão, o Travis irá compilar e testar seu projeto (ou seja, “construí-lo”) para novos commits e PRs para cada repo rastreado com um arquivo`.travis.yml`. \n",
    "\n",
    "Podemos ver o nosso abrindo-o no Atom:"
   ]
  },
  {
   "cell_type": "markdown",
   "metadata": {
    "hide-output": false
   },
   "source": [
    "```julia\n",
    "# Documentation: http://docs.travis-ci.com/user/languages/julia/\n",
    "language: julia\n",
    "os:\n",
    "- linux\n",
    "- osx\n",
    "julia:\n",
    "- 1.1\n",
    "- nightly\n",
    "matrix:\n",
    "allow_failures:\n",
    "    - julia: nightly\n",
    "fast_finish: true\n",
    "notifications:\n",
    "email: false\n",
    "after_success:\n",
    "- julia -e 'using Pkg; Pkg.add(\"Coverage\"); using Coverage; Codecov.submit(process_folder())'\n",
    "```\n"
   ]
  },
  {
   "cell_type": "markdown",
   "metadata": {},
   "source": [
    "Isso está dizendo a Travis para criar o projeto em Julia, no OSX e Linux, usando Julia v1.1 e a mais recente versão de desenvolvimento.\n",
    "\n",
    "Ele também diz que, se a versão noturna não funcionar, isso não deve ser registrado como uma falha.\n",
    "\n",
    "**Nota**: Você não precisará do OSX, a menos que esteja criando algo específico do Mac, como iOS ou Swift.\n",
    "\n",
    "Você pode excluir essas linhas para acelerar a compilação, da mesma forma para a versão noturna de Julia."
   ]
  },
  {
   "attachments": {},
   "cell_type": "markdown",
   "metadata": {},
   "source": [
    "### Trabalhando com Compilação\n",
    "\n",
    "Como acima, as compilações são acionadas sempre que enviamos alterações ou abrimos uma solicitação de recebimento.\n",
    "\n",
    "Por exemplo, se enviarmos as alterações para o servidor e clicar no selo Travis (aquele que diz \"build\") no README, veremos algo como:\n",
    "\n",
    "![10](https://github.com/pluiz30/Julia-Hub/assets/60633407/555ca7e5-1cb9-481a-b8ae-21967e0b00be)",
    "\n",
    "  \n",
    "Observe que você pode precisar esperar um pouco e/ou atualizar o navegador.\n",
    "\n",
    "Isso nos dá uma visão geral de todas as compilações em execução para esse commit.\n"
   ]
  },
  {
   "attachments": {},
   "cell_type": "markdown",
   "metadata": {},
   "source": [
    "Para inspecionar uma compilação mais de perto (digamos, se ela falhar), podemos clicar nela e expandir as opções de log:\n",
    "\n",
    "![11](https://github.com/pluiz30/Julia-Hub/assets/60633407/9970c91c-12d9-478f-91ab-f68c44cdd1e0)",
    "\n",
    "  \n",
    "Observe que os tempos de compilação aqui não são informativos, porque geralmente não podemos controlar o hardware ao qual nosso trabalho está alocado.\n",
    "\n"
   ]
  },
  {
   "attachments": {},
   "cell_type": "markdown",
   "metadata": {},
   "source": [
    "Também podemos cancelar trabalhos específicos, em suas páginas específicas ou clicando no botão cinza \"x\" no painel.\n",
    "\n",
    "Por fim, podemos acionar compilações manualmente (sem um novo commit ou PR) na visão geral do Travis.\n",
    "\n",
    "![12](https://github.com/pluiz30/Julia-Hub/assets/60633407/e222c9e7-a271-4947-aef8-12eaf5575b82)",
    "\n",
    "Para confirmar sem disparar uma compilação, basta adicionar “[ci skip]” em algum lugar dentro da mensagem de confirmação."
   ]
  },
  {
   "cell_type": "markdown",
   "metadata": {},
   "source": [
    "### Travis e Solicitação de Requerimento\n",
    "\n",
    "Um dos principais recursos do Travis é a capacidade de ver rapidamente se os PRs passam nos testes antes de mesclá-los.\n",
    "\n",
    "Isso acontece automaticamente quando o Travis é ativado em um repositório.\n",
    "\n",
    "Para um exemplo desse recurso, consulte [este PR](https://github.com/QuantEcon/Games.jl/pull/65/) no repositório `Games.jl`."
   ]
  },
  {
   "cell_type": "markdown",
   "metadata": {},
   "source": [
    "## Código de Cobertura\n",
    "\n",
    "Além do sucesso ou fracasso do nosso conjunto de testes, também queremos saber quanto do nosso código os testes cobrem.\n",
    "\n",
    "A ferramenta que usamos para fazer isso é chamada [Codecov](http://codecov.io)."
   ]
  },
  {
   "attachments": {},
   "cell_type": "markdown",
   "metadata": {},
   "source": [
    "### Configuração\n",
    "\n",
    "Você verá que o Codecov é ativado automaticamente para repositórios públicos com Travis.\n",
    "\n",
    "Para particulares, você precisará primeiro obter um token de acesso.\n",
    "\n",
    "Adicione o escopo privado no site do Codecov, assim como fizemos para Travis.\n",
    "\n",
    "Navegue até a página de configurações de reporte (ou seja, `https://codecov.io/gh/quanteconuser/ExamplePackage.jl/settings` para o nosso repositório) e copie o token.\n",
    "\n",
    "Em seguida, vá para as configurações do Travis e adicione uma variável de ambiente como abaixo:\n",
    "\n",
    "![13](https://github.com/pluiz30/Julia-Hub/assets/60633407/5999df4b-5f44-4ecf-89a0-ec9b02d9665c)"
   ]
  },
  {
   "attachments": {},
   "cell_type": "markdown",
   "metadata": {},
   "source": [
    "### Interpretando Resultados\n",
    "\n",
    "Clique no selo Codecov para ver a página de compilação do seu projeto.\n",
    "\n",
    "Isso nos mostra que nossos testes cobrem 50% de nossas funções no `src//`.\n",
    "\n",
    "**Nota:** Para obter uma visão mais detalhada, podemos clicar no `src//` e no nome do arquivo resultante.\n",
    "\n",
    "**Nota:** Codecov pode demorar alguns minutos para ser executado pela primeira vez.\n",
    "\n",
    "![14](https://github.com/pluiz30/Julia-Hub/assets/60633407/0bd82531-fd6d-4531-99c6-bf81eadc106e)",
    "  \n",
    "Isso nos mostra precisamente quais métodos (e partes de métodos) não são testados."
   ]
  },
  {
   "cell_type": "markdown",
   "metadata": {},
   "source": [
    " ## Pull Requests para Projetos Externos do Julia\n",
    "\n",
    "Como mencionado no [controle de versão](https://julia.quantecon.org/more_julia/version_control.html),  às vezes queremos trabalhar em repositórios externos que também são projetos de Julia.\n",
    "\n",
    "`] dev` a URL do git (ou nome do pacote, se o projeto for um pacote Julia registrado), que clonará o repositório git para `~/.julia/dev` e sincronizará com o gerenciador de pacotes Julia. \n",
    "\n",
    "\n",
    "Por Exemplo, execute:"
   ]
  },
  {
   "cell_type": "markdown",
   "metadata": {
    "hide-output": false
   },
   "source": [
    "```julia\n",
    "] dev Expectations\n",
    "```\n"
   ]
  },
  {
   "cell_type": "markdown",
   "metadata": {},
   "source": [
    "Clonará o repositório `https://github.com/quantecon/Expectations.jl` para `~/.julia/dev/Expectations`.\n",
    "\n",
    "Certifique-se de fazer isso no ambiente Julia básico (ou seja, depois de executar `] activate` sem argumentos).\n",
    "\n",
    "Como lembrete, você pode encontrar o local da sua pasta `~/.julia` (chamada de “user depot”), executando:"
   ]
  },
  {
   "cell_type": "code",
   "execution_count": 6,
   "metadata": {
    "hide-output": false
   },
   "outputs": [
    {
     "data": {
      "text/plain": [
       "\"C:\\\\Users\\\\cliente\\\\.julia\""
      ]
     },
     "execution_count": 6,
     "metadata": {},
     "output_type": "execute_result"
    }
   ],
   "source": [
    "DEPOT_PATH[1]"
   ]
  },
  {
   "cell_type": "markdown",
   "metadata": {},
   "source": [
    "O comando `] dev` também adicionará o destino ao gerenciador de pacotes, para que, sempre que executemos `using Expectations`, Julia carregará nossa cópia clonada desse local."
   ]
  },
  {
   "cell_type": "markdown",
   "metadata": {
    "hide-output": false
   },
   "source": [
    "```julia\n",
    "using Expectations\n",
    "pathof(Expectations) #  aponta para o nosso clone git\n",
    "```\n"
   ]
  },
  {
   "attachments": {},
   "cell_type": "markdown",
   "metadata": {},
   "source": [
    "- Arraste essa pasta para o GitHub Desktop. \n",
    "- O próximo passo é transferir o pacote original (externo) do site (por exemplo, `https://github.com/quantecon/Expectations.jl`) para a sua conta (`https://github.com/quanteconuser/Expectations.jl` no nosso caso).\n",
    "  \n",
    "![15](https://github.com/pluiz30/Julia-Hub/assets/60633407/f60f813d-5143-4577-9c12-e098fc1a3bb5)",
    " "
   ]
  },
  {
   "attachments": {},
   "cell_type": "markdown",
   "metadata": {},
   "source": [
    " Edite as configurações no GitHub Desktop (no menu suspenso \"Repositório\") para refletir o novo URL. \n",
    "  \n",
    "![16](https://github.com/pluiz30/Julia-Hub/assets/60633407/c49d9cdd-85b6-44ba-a08d-6f87e0722b5a)",
    "    \n",
    "  Aqui, alteraríamos o texto destacado para leitura `quanteconuser`, ou qualquer que seja o nosso ID do GitHub.\n",
    "  \n",
    "- Se você fizer algumas alterações em um editor de texto e retornar ao GitHub Desktop, verá algo parecido.  \n",
    "\n"
   ]
  },
  {
   "attachments": {},
   "cell_type": "markdown",
   "metadata": {},
   "source": [
    "**Nota:** Como antes, estamos editando os arquivos diretamente `~/.julia/dev`, em vez de clonar o repositório novamente.\n",
    "\n",
    "![17](https://github.com/pluiz30/Julia-Hub/assets/60633407/e1ecd33a-315b-44f9-8b2d-ca03a35a94fb)",
    "\n",
    "  \n",
    "Aqui, por exemplo, estamos revisando o README.\n",
    "\n",
    "- Clicando em \"commit to master\" (lembre-se de que as caixas de seleção ao lado de cada arquivo indicam se deve ser confirmado) e depois pressionar (por exemplo, pressionar \"push\" no menu suspenso \"Repositório\") adicionará as alterações confirmadas à sua conta.\n"
   ]
  },
  {
   "attachments": {},
   "cell_type": "markdown",
   "metadata": {},
   "source": [
    "Para confirmar isso, podemos verificar o histórico em nossa conta [aqui](https://github.com/quanteconuser/Expectations.jl/commits/master); para saber mais sobre como trabalhar com repositórios git, consulte a aula de [controle de versão](https://julia.quantecon.org/more_julia/version_control.html).\n",
    "\n",
    "![18](https://github.com/pluiz30/Julia-Hub/assets/60633407/d06c84d6-76c0-4173-9812-231a5dccfe05)",
    "\n",
    "  \n",
    "A marca de seleção verde indica que os testes do Travis foram aprovados para esse commit.\n",
    "\n",
    "- Clicando em  “new pull request” na guia de pull requests nos mostrará um instantâneo das alterações e criaremos uma solicitação de recebimento para os mantenedores do projeto revisarem e aprovarem.\n",
    "\n"
   ]
  },
  {
   "attachments": {},
   "cell_type": "markdown",
   "metadata": {},
   "source": [
    "\n",
    "![19](https://github.com/pluiz30/Julia-Hub/assets/60633407/8828fb59-0c92-4301-9260-dbc2d1776350)",
    "\n",
    "  \n",
    "Para saber mais sobre PRs, consulte a seção relevante da aula de [controle de versão](https://julia.quantecon.org/more_julia/version_control.html).\n",
    "\n",
    "Para obter mais informações sobre *Forking*, consulte os documentos no [GitHub Desktop](https://help.github.com/desktop/guides/contributing-to-projects/cloning-a-repository-from-github-to-github-desktop/) e  [no site do GitHub](https://guides.github.com/activities/forking/)"
   ]
  },
  {
   "cell_type": "markdown",
   "metadata": {},
   "source": [
    "### Caso com Acesso de Gravação\n",
    "\n",
    "Se você tiver acesso de gravação ao repositório, podemos pular as etapas anteriores sobre *Forking* e alteração do URL.\n",
    "\n",
    "Você pode usar `] dev` em um nome de pacote ou na URL do pacote."
   ]
  },
  {
   "cell_type": "markdown",
   "metadata": {
    "hide-output": false
   },
   "source": [
    "```julia\n",
    "] dev Expectations\n",
    "```\n"
   ]
  },
  {
   "cell_type": "markdown",
   "metadata": {},
   "source": [
    "ou `] dev https://github.com/quanteconuser/Expectations.jl.git` como um exemplo para um pacote não lançado por URL.\n",
    "\n",
    "O qual clonará novamente o repositório `~/.julia/dev`, e o usará como um pacote Julia."
   ]
  },
  {
   "cell_type": "markdown",
   "metadata": {
    "hide-output": false
   },
   "source": [
    "```julia\n",
    "using Expectations\n",
    "pathof(Expectations) # aponta para o nosso clone git\n",
    "```\n"
   ]
  },
  {
   "attachments": {},
   "cell_type": "markdown",
   "metadata": {},
   "source": [
    "Em seguida, arraste essa pasta para o GitHub Desktop como antes.\n",
    "\n",
    "Então, para trabalhar com o pacote localmente, tudo o que precisamos fazer é abrir o `~/.julia/dev/Expectations` em um editor de texto (como Atom)\n",
    "\n",
    "\n",
    "![20](https://github.com/pluiz30/Julia-Hub/assets/60633407/ff4856fe-2c83-4305-a646-1447178bbfbf)",
    "\n",
    "  \n",
    "A partir daqui, podemos editar este pacote exatamente como o criamos e usar o GitHub Desktop para rastrear versões de nossos arquivos de pacote (digamos, depois `] up`, ou editando nosso código fonte, `] add Package`, etc.)"
   ]
  },
  {
   "cell_type": "markdown",
   "metadata": {},
   "source": [
    "### Removendo um Pacote do Julia\n",
    "\n",
    "Para “un-dev” um pacote do Julia (por exemplo, se quisermos usar nosso antigo `Expectations.jl`), você pode simplesmente executar:"
   ]
  },
  {
   "cell_type": "markdown",
   "metadata": {
    "hide-output": false
   },
   "source": [
    "```julia\n",
    "] free Expectations\n",
    "```\n"
   ]
  },
  {
   "cell_type": "markdown",
   "metadata": {},
   "source": [
    "Para deletar inteiramente, execute:"
   ]
  },
  {
   "cell_type": "markdown",
   "metadata": {
    "hide-output": false
   },
   "source": [
    "```julia\n",
    "] rm Expectations\n",
    "```\n"
   ]
  },
  {
   "cell_type": "markdown",
   "metadata": {},
   "source": [
    "Em um REPL em que esse pacote está no ambiente ativo."
   ]
  },
  {
   "cell_type": "markdown",
   "metadata": {},
   "source": [
    "## Benchmarking\n",
    "\n",
    "Outro objetivo do teste é garantir que o código não diminua significativamente de uma versão para a outra.\n",
    "\n",
    "Podemos fazer isso usando as ferramentas fornecidas pelo pacote `BenchmarkTools.jl`.\n",
    "\n",
    "Veja a aula [necessidade de velocidade](https://julia.quantecon.org/more_julia/need_for_speed.html) para mais detalhes."
   ]
  },
  {
   "cell_type": "markdown",
   "metadata": {},
   "source": [
    "## Notas Adicionais \n",
    "\n",
    "- A organização [JuliaCI](https://github.com/JuliaCI/) fornece mais utilidades do Julia para integração contínua e testes."
   ]
  },
  {
   "cell_type": "markdown",
   "metadata": {},
   "source": [
    "## Revisão\n",
    "\n",
    "Revisão do fluxo de trabalho para criação, controle de versão e teste de um novo projeto de ponta a ponta.\n",
    "\n",
    "1. Crie o diretório local do pacote usando o  `PkgTemplates.jl` . \n",
    "\n",
    "1. Adicione esse pacote ao gerenciador de pacotes Julia, abrindo um Julia REPL no `~/.julia/dev/ExamplePackage.jl`, certificando-se de que o ambiente ativo é o padrão `(v1.1)`, e pressionando `] dev .` \n",
    "\n",
    "1. Arraste e solte essa pasta no GitHub Desktop.\n",
    "\n",
    "1. Crie um repositório vazio com o mesmo nome no servidor GitHub. \n",
    "\n",
    "1. Envie do GitHub Desktop para o servidor. \n",
    "\n",
    "1. Abra **a pasta original do projeto** (por exemplo `~/.julia/dev/ExamplePackage.jl`) no Atom.  \n",
    "\n",
    "1. Faça alterações, teste, itere, etc. Como regra geral, funções como devem estar no diretório `src/` assim que estiverem estáveis e você deve exportá-las desse arquivo com `export func1, func2`. Isto irá exportar todos os métodos de `func1`, `func2`, etc.  \n",
    "\n",
    "1. Confirme-os no GitHub Desktop à medida que avança (ou seja, você pode e deve usar o controle de versão para rastrear estados intermediários).  \n",
    "\n",
    "1. Envie para o servidor e veja os resultados do Travis e do Codecov (observe que esses podem levar alguns minutos na primeira vez).  "
   ]
  },
  {
   "cell_type": "markdown",
   "metadata": {},
   "source": [
    "## Exercícios\n"
   ]
  },
  {
   "cell_type": "markdown",
   "metadata": {},
   "source": [
    "### Exercício 1\n",
    "\n",
    "Seguindo as [instruções para um novo projeto](#project-setup), crie um novo pacote na sua conta do github chamado `NewtonsMethod.jl`.\n",
    "\n",
    "Neste pacote, você deve criar um pacote simples para executar o Método de Newton usando o código que você criou no exercício \n",
    "[metódo de Newton](https://julia.quantecon.org/getting_started_julia/julia_by_example.html#jbe-ex8a) em [Exemplos Introdutórios](https://julia.quantecon.org/getting_started_julia/julia_by_example.html).\n",
    "\n",
    "Em particular, dentro do seu pacote, você deve ter duas funções:\n",
    "\n",
    "- `newtonroot(f, f′; x₀, tol = 1E-7, maxiter = 1000)`  \n",
    "- `newtonroot(f; x₀, tol = 1E-7, maxiter = 1000)`  \n",
    "\n",
    "\n",
    "Onde a segunda função usa Diferenciação Automática para chamar a primeira.\n",
    "\n",
    "O pacote deve incluir:\n",
    "\n",
    "- implementações dessas funções no diretório `/src`.\n",
    "- conjunto abrangente de testes.\n",
    "- projetar e manifestar arquivos para replicar seu ambiente de desenvolvimento.\n",
    "- execução automatizada dos testes com o Travis CI no GitHub.\n",
    "\n",
    "\n",
    "Para os testes, você deve ter no mínimo:\n",
    "\n",
    "- uma maneira de lidar com a não convergência (por exemplo, retornar `nothing` como discutido em [tratamento de erros](https://julia.quantecon.org/getting_started_julia/fundamental_types.html#error-handling).  \n",
    "- vários `@test` para a raiz de uma função conhecida, dado `f` e as derivadas  analíticas`f'`.\n",
    "- testes dessas raízes usando a versão de diferenciação automática da função.\n",
    "- teste de encontrar essas raízes com um `BigFloat` e não apenas um `Float64`.  \n",
    "- teste de não convergência para uma função sem raiz (por exemplo,  $ f(x) = 2 + x^2 $ ).  \n",
    "- teste para garantir que o `maxiter` está funcionando (por exemplo, o que acontece se você chamar `maxiter = 5`. \n",
    "- teste para garantir que `tol` está funcionando. \n",
    "\n",
    "\n",
    "E qualquer outra coisa que você possa pensar. Você deve poder executar `] test` do projeto para verificar se o conjunto de testes está em execução e garantir que ele esteja sendo executado automaticamente no Travis CI.\n",
    "\n",
    "Envie uma confirmação ao repositório que interrompe um dos testes e veja o que o CI do Travis relata após executar a compilação."
   ]
  },
  {
   "cell_type": "markdown",
   "metadata": {},
   "source": [
    "### Exercício 2\n",
    "\n",
    "Assista ao vídeo do youtube [Developing Julia Packages](https://www.youtube.com/watch?v=QVmU29rCjaA) do Chris Rackauckas. A demonstração passa por muitos dos mesmos conceitos desta aula, mas com mais experiência no desenvolvimento orientado a testes e fornecendo mais detalhes para projetos de código aberto."
   ]
  }
 ],
 "metadata": {
  "filename": "testing.rst",
  "kernelspec": {
   "display_name": "Julia 1.3.1",
   "language": "julia",
   "name": "julia-1.3"
  },
  "language_info": {
   "file_extension": ".jl",
   "mimetype": "application/julia",
   "name": "julia",
   "version": "1.3.1"
  },
  "title": "Packages, Testing, and Continuous Integration"
 },
 "nbformat": 4,
 "nbformat_minor": 2
}
