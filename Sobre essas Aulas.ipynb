{
 "cells": [
  {
   "cell_type": "markdown",
   "metadata": {},
   "source": [
    "\n",
    "<a id='about'></a>"
   ]
  },
  {
   "cell_type": "markdown",
   "metadata": {},
   "source": [
    "# Sobre essas Aulas\n"
   ]
  },
  {
   "cell_type": "markdown",
   "metadata": {},
   "source": [
    "## Resumo\n",
    "\n",
    "Programação, matemática e estatística são ferramentas poderosas para analisar o funcionamento das economias.\n",
    "\n",
    "Esta série de aulas fornece um manual de instruções prático.\n",
    "\n",
    "Os tópicos incluem:\n",
    "\n",
    "- Algoritimos e métodos numéricos para estudar problemas esconomicos,\n",
    "- conceitos matemáticos e estatísticos relacionados, e  \n",
    "- noções básicas de habilidades de codificação e engenharia de software.  \n",
    "\n",
    "\n",
    "O público-alvo é formado por estudantes de graduação, pós-graduação e pesquisadores em economia, finanças e áreas afins."
   ]
  },
  {
   "cell_type": "markdown",
   "metadata": {},
   "source": [
    "> *Devidamente traduzido, revisado e adaptado do [QuantEcon](https://quantecon.org/) pelos bolsistas CNPq, Pedro Luiz H. Furtado e Jonas Aragão M. Corpes, sob supervisão do Prof. Christiano Penna, do CAEN/UFC.*"
   ]
  },
  {
   "cell_type": "markdown",
   "metadata": {},
   "source": [
    "## Julia\n",
    "\n",
    "A linguagem de codificação para esta série de aulas é Julia.\n",
    "\n",
    "Observe que também há um conjunto relacionado de [aulas em Python](addlinkhere).\n",
    "\n",
    "Em termos das diferenças,\n",
    "\n",
    "- Python é uma linguagem de uso geral que caracteriza uma enorme comunidade de usuários nas ciências e um excelente ecossistema científico e geral.  \n",
    "- Julia é uma linguagem mais focada, usada principalmente na computação técnica e científica, com um ecossistema excepcional para métodos e algoritmos de ponta.\n",
    "\n",
    "\n",
    "Ambos são linguagens modernas, de código aberto e alta produtividade, com todos os principais recursos necessários para a computação de alto desempenho.\n",
    "\n",
    "Embora Julia tenha muitos recursos de uma linguagem de uso geral, sua especialização o torna muito mais próximo do uso de Matlab ou Fortran do que de uma linguagem de uso geral - oferecendo uma vantagem em estar mais próximo da notação matemática e da implementação direta de abstrações matemáticas."
   ]
  },
  {
   "cell_type": "markdown",
   "metadata": {},
   "source": [
    "### Uma Palavra de Cautela\n",
    "\n",
    "A desvantagem da especialização é que Julia tende a ser usada por especialistas em domínio e, consequentemente, o ecossistema e a linguagem para tarefas de computação não matemática / não científica são inferiores ao Python.\n",
    "\n",
    "Outra desvantagem é que, como costuma ser usada por especialistas e está na vanguarda, o ferramental é muito mais frágil e rudimentar que o Matlab.\n",
    "\n",
    "Felizmente, com a versão v1.x de Julia, a fragilidade não se aplica mais ao própria linguagem - agora estável e cuidadosamente gerenciado para [versão de compatibilidade](https://semver.org/).No entanto, usuários casuais não devem esperar que as ferramentas de desenvolvimento sejam tão estáveis ou comparáveis ao Matlab.\n",
    "\n",
    "No entanto, o resultado final será sempre elegante e fundamentado em notações e abstrações matemáticas.\n",
    "\n",
    "Por esses motivos, Julia é mais apropriada no momento para pesquisadores que desejam:\n",
    "\n",
    "1. investir em uma linguagem com probabilidade de amadurecer no prazo de 3-5 anos \n",
    "1. usar um dos muitos pacotes incríveis que Julia possibilita (e são frequentemente impossíveis em outras linguagens)\n",
    "1. escrever algoritmos suficientemente especializados para que as peculiaridades do ambiente sejam muito menos importantes que o resultado final "
   ]
  },
  {
   "cell_type": "markdown",
   "metadata": {},
   "source": [
    "## Vantagens de Julia\n",
    "\n",
    "Apesar dos cuidados de curto prazo, Julia tem vantagens imediatas e de longo prazo.\n",
    "\n",
    "As vantagens do própria linguagem mostram claramente nos pacotes de alta qualidade, como:\n",
    "\n",
    "- Equações Diferenciais: [DifferentialEquations.jl](http://docs.juliadiffeq.org/latest/)  \n",
    "- Aproximação e manipulação de Funções: [ApproxFun.jl](https://github.com/JuliaApproximation/ApproxFun.jl)  \n",
    "- Programação de restrições de intervalo e localização rigorosa de raízes: [IntervalRootFinding.jl](https://github.com/JuliaIntervals/IntervalRootFinding.jl)  \n",
    "- GPUs: [CuArrays.jl](https://github.com/JuliaGPU/CuArrays.jl)  \n",
    "- Álgebra linear para sistemas grandes (por exemplo, matrizes estruturadas, métodos sem matriz, etc.): [IterativeSolvers.jl](https://juliamath.github.io/IterativeSolvers.jl/dev/), [BlockBandedMatrices.jl](https://github.com/JuliaMatrices/BlockBandedMatrices.jl), [InfiniteLinearAlgebra.jl](https://github.com/JuliaMatrices/InfiniteLinearAlgebra.jl), e muitos outros  \n",
    "- Diferenciação automática: [Zygote.jl](https://github.com/FluxML/Zygote.jl) e [ForwardDiff.jl](https://github.com/JuliaDiff/ForwardDiff.jl)  \n",
    "\n",
    "\n",
    "Estes são um complemento aos muitos pacotes mundanos, mas essenciais, disponíveis. Embora existam exemplos desses pacotes em outras linguagens, nenhuma outras linguagens pode obter a combinação de desempenho, notação matemática e composição que Julia fornece.\n",
    "\n",
    "A composição dos pacotes é especialmente importante e é possível graças ao uso de Julia por algo chamado [despacho múltiplo](https://en.wikipedia.org/wiki/Multiple_dispatch).\n",
    "\n",
    "A promessa de Julia é que você escreva um código matemático limpo e que o mesmo código funcione automaticamente com matrizes de diferenciação automática, aritmética com intervalo e GPU - tudo isso pode ser usado em algoritmos de ponta em pacotes e combinado perfeitamente."
   ]
  },
  {
   "cell_type": "markdown",
   "metadata": {},
   "source": [
    "## Código aberto\n",
    "\n",
    "Todos os ambientes de computação com os quais trabalhamos são gratuitos e de código aberto.\n",
    "\n",
    "Isso significa que você, seus co-autores e seus alunos podem instalá-los e suas bibliotecas em todos os seus computadores, sem custos ou preocupações com licenças.\n",
    "\n",
    "Outra vantagem das bibliotecas de código aberto é que você pode lê-las e aprender como elas funcionam.\n",
    "\n",
    "Por exemplo, vamos dizer que você queira saber exatamente como [Distributions.jl](https://github.com/JuliaStats/Distributions.jl) implementa média para uma função exponencial \n",
    "\n",
    "Não há problema: você pode prosseguir e [ler o código](https://github.com/JuliaStats/Distributions.jl/blob/master/src/univariate/continuous/exponential.jl#L56).\n",
    "\n",
    "Isso vai ainda mais longe, pois a maior parte de Julia é escrita em Julia. Por exemplo, você pode ver o código de como a biblioteca padrão calcula os [autovalores de uma matriz triangular](https://github.com/JuliaLang/julia/blob/master/stdlib/LinearAlgebra/src/triangular.jl#L2594)  ou cacular a [média de um intervalo](https://github.com/JuliaLang/julia/blob/master/stdlib/Statistics/src/Statistics.jl#L162)\n",
    "\n",
    "Esses dois exemplos também fornecem exemplos em que o \"despacho múltiplo\" permite a exploração da estrutura de um problema, levando a algoritmos especializados (por exemplo, se o usuário chama  `eigvals` uma matriz triangular, basta retornar a diagonal).\n",
    "\n",
    "Embora mergulhar em bibliotecas de código externas exija um pouco de maturidade em codificação, é muito útil para\n",
    "\n",
    "1. Ajudar você a entender os detalhes de uma implementação específica e  \n",
    "1. Desenvolver suas habilidades de programação mostrando o código escrito por programadores de primeira linha.  \n",
    "\n",
    "\n",
    "Além disso, você pode modificar a biblioteca para atender às suas necessidades: se a funcionalidade fornecida não for exatamente o que você deseja, você poderá alterá-la.\n",
    "\n",
    "Outra vantagem mais filosófica do software de código aberto é que ele está em conformidade com o [ideal científico de reprodutibilidade](https://en.wikipedia.org/wiki/Scientific_method)."
   ]
  },
  {
   "cell_type": "markdown",
   "metadata": {},
   "source": [
    "## E sobre as outras Linguagens?\n",
    "\n",
    "Mas por que você não usa a linguagem XYZ?"
   ]
  },
  {
   "cell_type": "markdown",
   "metadata": {},
   "source": [
    "### MATLAB\n",
    "\n",
    "Embora o MATLAB tenha muitos recursos interessantes, ele está começando a mostrar sua idade.\n",
    "\n",
    "Ele não pode mais corresponder ao Python ou o Julia em termos de desempenho e design.\n",
    "\n",
    "O MATLAB também é proprietário, o que vem com seu próprio conjunto de desvantagens.\n",
    "\n",
    "Em particular, o Calcanhar de Aquiles da Matlab é a falta de um sistema de gerenciamento de pacotes, o que significa que você precisa:\n",
    "1. confiar nos próprios pacotes da Matlab, que são escritos principalmente para engenheiros e não economistas\n",
    "1. escrever o código você mesmo, ou\n",
    "1. usar maneiras manuais e não confiáveis para compartilhar código (por exemplo, email ou download de um zip).\n",
    "\n",
    "Se você é um engenheiro estrutural ou está projetando um microcontrolador, o Matlab fornece um conjunto coerente de pacotes que atende a todas as suas necessidades.\n",
    "\n",
    "Para os economistas, por outro lado, a expansão da complexidade dos métodos numéricos, a necessidade dos pesquisadores colaborarem em código, corrigir bugs, implantar melhorias e ter dependências (ou seja, pacotes que dependem de outros pacotes) aumentou além do que o Matlab pode lidar.\n",
    "\n",
    "Dado o que está disponível agora, é difícil encontrar boas razões para investir no MATLAB.\n",
    "\n",
    "Aliás, se você decidir pular de MATLAB para Julia, [essa página de dicas](http://cheatsheets.quantecon.org/) será útil."
   ]
  },
  {
   "cell_type": "markdown",
   "metadata": {},
   "source": [
    "### R\n",
    "\n",
    "[R](https://cran.r-project.org/) é um ambiente estatístico de código aberto e uma linguagem de programação muito úteis\n",
    "\n",
    "Sua força principal é sua [vasta coleção](https://cran.r-project.org/web/packages) de pacotes de extensão\n",
    "\n",
    "Julia é de propósito mais geral que R e, portanto, se encaixa melhor neste curso"
   ]
  },
  {
   "cell_type": "markdown",
   "metadata": {},
   "source": [
    "### C / C++ / Fortran?\n",
    "\n",
    "Fortran / C / C ++ não é mais rápido que Julia? Nesse caso, deve ser melhor, certo?\n",
    "\n",
    "Para os mesmos algoritmos, como uma linguagem compilada, Julia geralmente pode atingir um nível de desempenho semelhante ao dessas linguagens.\n",
    "\n",
    "Mas mesmo que não aconteça, lembre-se de que a função objetivo correta é minimizar: tempo total = tempo de desenvolvimento + tempo de execução\n",
    "\n",
    "Ao avaliar essa troca, é necessário ter em mente que\n",
    "\n",
    "- Seu tempo é um recurso muito mais valioso que o tempo do computador.  \n",
    "- Linguagens como Julia são muito mais rápidas para escrever e depurar.  \n",
    "- Em qualquer programa, a grande maioria do tempo da CPU será gasta repetindo apenas algumas linhas do seu código.  \n",
    "\n",
    "\n",
    "O outro problema nas três linguagens, como no Matlab, é a falta de um sistema de gerenciamento de pacotes. Colaborar em pacotes em C ++ ou Fortran e distribuir código entre pesquisadores é difícil, e muitas das críticas ao Matlab se aplicam igualmente.\n",
    "\n",
    "Finalmente, a questão de primeira ordem do desempenho é qual algoritmo você está usando e se ele explora a estrutura do problema. O algoritmo certo no Matlab ou Python é tipicamente mais rápido que o algoritmo errado no Fortran - e o algoritmo certo no Fortran e na Julia pode ser feito aproximadamente comparável.\n",
    "\n",
    "Ao considerar as vantagens de desempenho, lembre-se de que o sistema de design e pacote de Julia facilita a experimentação de algoritmos que exploram a estrutura do problema. Investigaremos isso mais nos [Exemplos Introdutórios](https://julia.quantecon.org/getting_started_julia/julia_by_example.html#julia-by-example)"
   ]
  },
  {
   "cell_type": "markdown",
   "metadata": {},
   "source": [
    "#### Última palavra \n",
    "\n",
    "Escrever todo o seu programa no Fortran / C / C ++ é considerado \"otimização prematura\"\n",
    "\n",
    "Sobre este tópico, citamos o *patrono*:\n",
    "\n",
    "> Devemos esquecer as pequenas eficiências, digamos, 97% das vezes: a otimização prematura é a raiz de todo mal. – [Donald Knuth](https://en.wikipedia.org/wiki/Donald_Knuth)\n",
    "\n",
    "\n",
    "Mas, para colocar a parte final da citação\n",
    "\n",
    "> … No entanto, não devemos desperdiçar nossas oportunidades nesses 3% críticos. – [Donald Knuth](https://en.wikipedia.org/wiki/Donald_Knuth)\n",
    "\n",
    "\n",
    "Julia é uma linguagem excelente para atingir esses últimos percentuais, sem ter que recorrer ao código C ou Fortran e misturar linguagens no seu projeto"
   ]
  },
  {
   "cell_type": "markdown",
   "metadata": {},
   "source": [
    "## Créditos\n",
    "\n",
    "Essas aulas se beneficiaram muito com comentários e sugestões de nossos colegas, estudantes e amigos. Agradecimentos especiais são devidos a nossa organização patrocinadora, a Fundação Alfred P. Sloan, e a nossos assistentes de pesquisa, Chase Coleman, Spencer Lyon e Matthew McKay, pelas inúmeras contribuições à biblioteca de códigos e ao funcionamento do site.\n",
    "\n",
    "Nós também agredecemos [Andrij Stachurski](http://drdrij.com/) por suas excelentes habilidades na Web e a muitos outros que contribuíram com sugestões, correções ou melhorias. Eles incluem, entre outros, Anmol Bhandari, Long Bui, Jeong-Hun Choi, David Evans, Xiaojun Guan, Shunsuke Hori, Chenghan Hou, Doc-Jin Jang, Adam Jozefiak, Qingyin Ma, Akira Matsushita, Tomohito Okabe, Daisuke Oyama, David Pugh, Alex Olssen, Nathan Palmer, Pooya Rashidi Ravari, Arnav Sood, Bill Tubbs, Natasha Watkins, Pablo Winant, Kaan Yolsever e Yixiao Zhou."
   ]
  }
 ],
 "metadata": {
  "date": 1570688150.7810748,
  "download_nb": 1,
  "download_nb_path": "https://julia.quantecon.org/",
  "filename": "about_lectures.rst",
  "filename_with_path": "about_lectures",
  "kernelspec": {
   "display_name": "Julia 1.3.1",
   "language": "julia",
   "name": "julia-1.3"
  },
  "language_info": {
   "file_extension": ".jl",
   "mimetype": "application/julia",
   "name": "julia",
   "version": "1.3.1"
  },
  "title": "About these Lectures"
 },
 "nbformat": 4,
 "nbformat_minor": 2
}
