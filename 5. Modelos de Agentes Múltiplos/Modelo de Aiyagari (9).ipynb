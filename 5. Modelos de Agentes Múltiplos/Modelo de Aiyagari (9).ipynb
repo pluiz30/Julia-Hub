{
 "cells": [
  {
   "cell_type": "markdown",
   "metadata": {},
   "source": [
    "\n",
    "<a id='aiyagari'></a>\n",
    "<div id=\"qe-notebook-header\" style=\"text-align:right;\">\n",
    "        <a href=\"https://quantecon.org/\" title=\"quantecon.org\">\n",
    "                <img style=\"width:250px;display:inline;\" src=\"https://assets.quantecon.org/img/qe-menubar-logo.svg\" alt=\"QuantEcon\">\n",
    "        </a>\n",
    "</div>"
   ]
  },
  {
   "cell_type": "markdown",
   "metadata": {},
   "source": [
    "# O Modelo de Aiyagari "
   ]
  },
  {
   "cell_type": "markdown",
   "metadata": {},
   "source": [
    "## Conteúdo\n",
    "\n",
    "- [O Modelo de Aiyagari](#O-Modelo-de-Aiyagari)  \n",
    "  - [Resumo](#Resumo)  \n",
    "  - [A Economia](#A-Economia)  \n",
    "  - [Firmas](#Firmas)  \n",
    "  - [Código](#Código)  "
   ]
  },
  {
   "cell_type": "markdown",
   "metadata": {},
   "source": [
    "> *Devidamente traduzido, revisado e adaptado do [QuantEcon](https://quantecon.org/) pelos bolsistas CNPq Pedro Luiz H. Furtado e Jonas Aragão M. Corpes, sob a supervisão do Prof. Christiano Penna, do CAEN/UFC.*"
   ]
  },
  {
   "cell_type": "markdown",
   "metadata": {},
   "source": [
    "## Resumo\n",
    "\n",
    "Nesta aula, descrevemos a estrutura de uma classe de modelos baseados no trabalho de Truman Bewley [Bew77](https://julia.quantecon.org/../zreferences.html#bewley1977).\n",
    "\n",
    "Começamos discutindo um exemplo de modelo de Bewley devido a <a href=/_static/pdfs/aiyagari_obit.pdf download> Rao Aiyagari </a>.\n",
    "\n",
    "O modelo apresenta\n",
    "\n",
    "- Agentes heterogêneos.\n",
    "- Um único veículo exógeno para empréstimos e empréstimos.\n",
    "- Limites dos valores que os agentes individuais podem emprestar.\n",
    "\n",
    "\n",
    "O modelo de Aiyagari tem sido usado para investigar muitos tópicos, incluindo\n",
    "\n",
    "- Economia de precaução e o efeito de restrições de liquidez [Aiy94](https://julia.quantecon.org/../zreferences.html#aiyagari1994)\n",
    "- Compartilhamento de risco e precificação de ativos [HL96](https://julia.quantecon.org/../zreferences.html#heaton1996)\n",
    "- A forma da distribuição da riqueza [BBZ15](https://julia.quantecon.org/../zreferences.html#benhabib2015)\n",
    "- etc., etc., etc.  "
   ]
  },
  {
   "cell_type": "markdown",
   "metadata": {},
   "source": [
    "### Referências\n",
    "\n",
    "A referência principal para esta aula é [Aiy94](https://julia.quantecon.org/../zreferences.html#aiyagari1994).\n",
    "\n",
    "Um tratamento para livros didáticos está disponível no capítulo 18 de [LS18](https://julia.quantecon.org/../zreferences.html#ljungqvist2012).\n",
    "\n",
    "Uma versão em tempo contínuo do modelo de SeHyoun Ahn e Benjamin Moll pode ser encontrada [aqui](http://nbviewer.jupyter.org/github/QuantEcon/QuantEcon.notebooks/blob/master/aiyagari_continuous_time.ipynb)."
   ]
  },
  {
   "cell_type": "markdown",
   "metadata": {},
   "source": [
    "## A Economia"
   ]
  },
  {
   "cell_type": "markdown",
   "metadata": {},
   "source": [
    "### Famílias\n",
    "\n",
    "Famílias/consumidores com vida infinita enfrentam choques de renda idiossincráticos.\n",
    "\n",
    "Um intervalo unitário de famílias idênticas *ex ante* enfrenta uma restrição comum de empréstimos.\n",
    "\n",
    "O problema de poupança enfrentado por uma família típica é\n",
    "\n",
    "$$\n",
    "\\max \\mathbb E \\sum_{t=0}^{\\infty} \\beta^t u(c_t)\n",
    "$$\n",
    "\n",
    "sujeito à\n",
    "\n",
    "$$\n",
    "a_{t+1} + c_t \\leq w z_t + (1 + r) a_t\n",
    "\\quad\n",
    "c_t \\geq 0,\n",
    "\\quad \\text{e} \\quad\n",
    "a_t \\geq -B\n",
    "$$\n",
    "\n",
    "onde:\n",
    "\n",
    "- $ c_t $ é o consumo corrente  \n",
    "- $ a_t $ são os ativos\n",
    "- $ z_t $ é um componente exógeno da renda do trabalho que captura o risco estocástico de desemprego, etc..  \n",
    "- $ w $ é uma taxa de salários  \n",
    "- $ r $ é uma taxa de juros líquida  \n",
    "- $ B $ é o valor máximo que o agente pode emprestar.  \n",
    "\n",
    "\n",
    "O processo exógeno $ \\{z_t \\} $ segue uma cadeia Markov de estado finito com uma matriz estocástica determinada $ P $.\n",
    "\n",
    "O salário e a taxa de juros são fixados ao longo do tempo.\n",
    "\n",
    "Nesta versão simples do modelo, as famílias fornecem mão-de-obra de forma inelástica porque não valorizam o lazer."
   ]
  },
  {
   "cell_type": "markdown",
   "metadata": {},
   "source": [
    "## Firmas\n",
    "\n",
    "As empresas produzem produtos contratando capital e mão de obra.\n",
    "\n",
    "As empresas agem de forma competitiva e enfrentam retornos constantes de escala.\n",
    "\n",
    "Como os retornos de escala são constantes, o número de empresas não importa.\n",
    "\n",
    "Portanto, podemos considerar uma única firma representativa (mas mesmo assim competitiva).\n",
    "\n",
    "A produção da empresa é\n",
    "\n",
    "$$\n",
    "Y_t = A K_t^{\\alpha} N^{1 - \\alpha}\n",
    "$$\n",
    "\n",
    "onde\n",
    "\n",
    "- $ A $ e $ \\alpha $ são parâmetros com $ A > 0 $ e $ \\alpha \\in (0, 1) $  \n",
    "- $ K_t $ é o capital agregado, e  \n",
    "- $ N $ é a oferta total de trabalho (que é consttante na versão mais simples desse modelo)  \n",
    "\n",
    "\n",
    "O problema da firma é:\n",
    "\n",
    "$$\n",
    "max_{K, N} \\left\\{ A K_t^{\\alpha} N^{1 - \\alpha} - (r + \\delta) K - w N \\right\\}\n",
    "$$\n",
    "\n",
    "O parâmetro $ \\delta $ é a taxa de depreciação.\n",
    "\n",
    "Desde a condição de primeira ordem em relação ao capital, a demanda inversa de capital da empresa é\n",
    "\n",
    "\n",
    "<a id='equation-aiy-rgk'></a>\n",
    "$$\n",
    "r = A \\alpha  \\left( \\frac{N}{K} \\right)^{1 - \\alpha} - \\delta \\tag{1}\n",
    "$$\n",
    "\n",
    "Usando essa expressão e a condição de primeira ordem da empresa para o trabalho, podemos definir\n",
    "a taxa de salário de equilíbrio em função de $ r $ como\n",
    "\n",
    "\n",
    "<a id='equation-aiy-wgr'></a>\n",
    "$$\n",
    "w(r) = A  (1 - \\alpha)  (A \\alpha / (r + \\delta))^{\\alpha / (1 - \\alpha)} \\tag{2}\n",
    "$$"
   ]
  },
  {
   "cell_type": "markdown",
   "metadata": {},
   "source": [
    "\n",
    "### Equilíbrio\n",
    "\n",
    "Construímos um *equilíbrio estacionário de expectativas racionais* (EEER).\n",
    "\n",
    "Nesse equilíbrio\n",
    "\n",
    "- Os preços induzem comportamentos que geram quantidades agregadas consistentes com os preços, e\n",
    "- Quantidades e preços agregados são constantes ao longo do tempo.\n",
    "\n",
    "\n",
    "Mais detalhadamente, um EEER lista um conjunto de preços, políticas de economia e produção, de modo que\n",
    "\n",
    "- As famílias querem escolher as políticas de poupança especificadas, considerando os preços;\n",
    "- As empresas maximizam os lucros com os mesmos preços;\n",
    "- As quantidades agregadas resultantes são consistentes com os preços; em particular, a demanda por capital é igual à oferta, e\n",
    "- Quantidades agregadas (definidas como médias transversais) são constantes.\n",
    "\n",
    "\n",
    "Na prática, uma vez definidos os valores dos parâmetros, podemos verificar um SREE seguindo as etapas a seguir:\n",
    "\n",
    "1. Selecione uma quantidade proposta $ K $ para capital agregado;\n",
    "2. Determine os preços correspondentes, com a taxa de juros $ r $ determinada por [(1)](#equation-aiy-rgk) e uma taxa salarial $ w (r) $ conforme indicado em [(2)](#equation-aiy-wgr);\n",
    "3. Determinar a política ótima de poupança comum das famílias, considerando esses preços, e\n",
    "4. Computar o capital agregado como a média do capital em estado estacionário, dada essa política de poupança.\n",
    "\n",
    "\n",
    "Se essa quantidade final concordar com $ K $, temos um EEER."
   ]
  },
  {
   "cell_type": "markdown",
   "metadata": {},
   "source": [
    "## Código\n",
    "\n",
    "Vamos ver como podemos calcular esse equilíbrio na prática.\n",
    "\n",
    "Para resolver o problema de programação dinâmica da família, usaremos o tipo [DiscreteDP](https://github.com/QuantEcon/QuantEcon.jl/blob/master/src/markov/ddp.jl) do tipo [QuantEcon.jl]( http://quantecon.org/quantecon-jl).\n",
    "\n",
    "Nossa primeira tarefa é a menos empolgante: escrever código que mapeie parâmetros para um problema doméstico nas matrizes `R` e` Q` necessárias para gerar uma instância do `DiscreteDP`.\n",
    "\n",
    "Abaixo está um pedaço de código padrão que faz exatamente isso.\n",
    "\n",
    "Ao ler o código, as seguintes informações serão úteis\n",
    "\n",
    "- `R` precisa ser uma matriz onde` R [s, a] `é a recompensa no estado` s` em ação `a`.\n",
    "- `Q` precisa ser uma matriz tridimensional onde` Q [s, a, s '] `é a probabilidade de fazer a transição para o estado `s'` quando o estado atual é `s` e a ação atual é ` a` .\n",
    "\n",
    "\n",
    "(para uma discussão detalhada do `DiscreteDP`, consulte [esta aula](https://julia.quantecon.org/../dynamic_programming/discrete_dp.html))\n",
    "\n",
    "Aqui consideramos o estado como $ s_t: = (a_t, z_t) $, onde $ a_t $ são ativos e $ z_t $ é o choque.\n",
    "\n",
    "A ação é a escolha do nível do ativo no próximo período $ a_ {t + 1} $.\n",
    "\n",
    "O objeto também inclui um conjunto padrão de parâmetros que adotaremos, a menos que especificado de outra forma."
   ]
  },
  {
   "cell_type": "markdown",
   "metadata": {},
   "source": [
    "### Configuração"
   ]
  },
  {
   "cell_type": "code",
   "execution_count": 1,
   "metadata": {
    "hide-output": true
   },
   "outputs": [],
   "source": [
    "using InstantiateFromURL\n",
    "github_project(\"QuantEcon/quantecon-notebooks-julia\", version = \"0.5.0\")\n",
    "# github_project(\"QuantEcon/quantecon-notebooks-julia\", version = \"0.5.0\", instantiate = true) # uncomment to force package installation"
   ]
  },
  {
   "cell_type": "code",
   "execution_count": 2,
   "metadata": {
    "hide-output": false
   },
   "outputs": [],
   "source": [
    "using LinearAlgebra, Statistics"
   ]
  },
  {
   "cell_type": "code",
   "execution_count": 3,
   "metadata": {
    "hide-output": false
   },
   "outputs": [],
   "source": [
    "using Parameters, Plots, QuantEcon\n",
    "gr(fmt = :png);"
   ]
  },
  {
   "cell_type": "code",
   "execution_count": 4,
   "metadata": {
    "hide-output": false
   },
   "outputs": [
    {
     "data": {
      "text/plain": [
       "setup_R! (generic function with 1 method)"
      ]
     },
     "execution_count": 4,
     "metadata": {},
     "output_type": "execute_result"
    }
   ],
   "source": [
    "Household = @with_kw (r = 0.01,\n",
    "                      w = 1.0,\n",
    "                      σ = 1.0,\n",
    "                      β = 0.96,\n",
    "                      z_chain = MarkovChain([0.9 0.1; 0.1 0.9], [0.1; 1.0]),\n",
    "                      a_min = 1e-10,\n",
    "                      a_max = 18.0,\n",
    "                      a_size = 200,\n",
    "                      a_vals = range(a_min, a_max, length = a_size),\n",
    "                      z_size = length(z_chain.state_values),\n",
    "                      n = a_size * z_size,\n",
    "                      s_vals = gridmake(a_vals, z_chain.state_values),\n",
    "                      s_i_vals = gridmake(1:a_size, 1:z_size),\n",
    "                      u = σ == 1 ? x -> log(x) : x -> (x^(1 - σ) - 1) / (1 - σ),\n",
    "                      R = setup_R!(fill(-Inf, n, a_size), a_vals, s_vals, r, w, u),\n",
    "                      # -Inf é a utilidade de morrer (0 consumo)\n",
    "                      Q = setup_Q!(zeros(n, a_size, n), s_i_vals, z_chain))\n",
    "\n",
    "function setup_Q!(Q, s_i_vals, z_chain)\n",
    "    for next_s_i in 1:size(Q, 3)\n",
    "        for a_i in 1:size(Q, 2)\n",
    "            for s_i in 1:size(Q, 1)\n",
    "                z_i = s_i_vals[s_i, 2]\n",
    "                next_z_i = s_i_vals[next_s_i, 2]\n",
    "                next_a_i = s_i_vals[next_s_i, 1]\n",
    "                if next_a_i == a_i\n",
    "                    Q[s_i, a_i, next_s_i] = z_chain.p[z_i, next_z_i]\n",
    "                end\n",
    "            end\n",
    "        end\n",
    "    end\n",
    "    return Q\n",
    "end\n",
    "\n",
    "function setup_R!(R, a_vals, s_vals, r, w, u)\n",
    "    for new_a_i in 1:size(R, 2)\n",
    "        a_new = a_vals[new_a_i]\n",
    "        for s_i in 1:size(R, 1)\n",
    "            a = s_vals[s_i, 1]\n",
    "            z = s_vals[s_i, 2]\n",
    "            c = w * z + (1 + r) * a - a_new\n",
    "            if c > 0\n",
    "                R[s_i, new_a_i] = u(c)\n",
    "            end\n",
    "        end\n",
    "    end\n",
    "    return R\n",
    "end"
   ]
  },
  {
   "cell_type": "markdown",
   "metadata": {},
   "source": [
    "Como primeiro exemplo do que podemos fazer, vamos calcular e traçar uma política de acumulação ideal a preços fixos."
   ]
  },
  {
   "cell_type": "code",
   "execution_count": 5,
   "metadata": {
    "hide-output": false
   },
   "outputs": [
    {
     "data": {
      "image/png": "[encoded data removed]"
     },
     "execution_count": 5,
     "metadata": {},
     "output_type": "execute_result"
    }
   ],
   "source": [
    "# Crie uma instância do agregado familiar\n",
    "am = Household(a_max = 20.0, r = 0.03, w = 0.956)\n",
    "\n",
    "# Use a instância para criar um programa dinâmico discreto\n",
    "am_ddp = DiscreteDP(am.R, am.Q, am.β)\n",
    "\n",
    "# Resolver usando a iteração da função de política\n",
    "results = solve(am_ddp, PFI)\n",
    "\n",
    "# Simplificar os nomes\n",
    "@unpack z_size, a_size, n, a_vals = am\n",
    "z_vals = am.z_chain.state_values\n",
    "\n",
    "# Obtenha todas as ações ideais em todo o conjunto de\n",
    "# índices com z fixados em cada coluna\n",
    "a_star = reshape([a_vals[results.sigma[s_i]] for s_i in 1:n], a_size, z_size)\n",
    "\n",
    "labels = [\"z = z_vals[1]\", \"z = z_vals[2]\"]\n",
    "plot(a_vals, a_star, label = labels, lw = 2, alpha = 0.6)\n",
    "plot!(a_vals, a_vals, label = \"\", color = :black, linestyle = :dash)\n",
    "plot!(xlabel = \"current assets\", ylabel = \"next period assets\", grid = false)"
   ]
  },
  {
   "cell_type": "markdown",
   "metadata": {},
   "source": [
    "O gráfico mostra políticas de acumulação de ativos em diferentes valores do estado exógeno.\n",
    "\n",
    "Agora queremos calcular o equilíbrio.\n",
    "\n",
    "Vamos fazer isso visualmente como um primeiro passe.\n",
    "\n",
    "O código a seguir desenha curvas agregadas de oferta e demanda.\n",
    "\n",
    "A interseção fornece taxas de juros de equilíbrio e capital."
   ]
  },
  {
   "cell_type": "code",
   "execution_count": 6,
   "metadata": {
    "hide-output": false
   },
   "outputs": [
    {
     "data": {
      "image/png": "[encoded data removed]"
     },
     "execution_count": 6,
     "metadata": {},
     "output_type": "execute_result"
    }
   ],
   "source": [
    "# Parâmetros das firmas\n",
    "const A = 1\n",
    "const N = 1\n",
    "const α = 0.33\n",
    "const β = 0.96\n",
    "const δ = 0.05\n",
    "\n",
    "function r_to_w(r)\n",
    "    return A * (1 - α) * (A * α / (r + δ)) ^ (α / (1 - α))\n",
    "end\n",
    "\n",
    "function rd(K)\n",
    "    return A * α * (N / K) ^ (1 - α) - δ\n",
    "end\n",
    "\n",
    "function prices_to_capital_stock(am, r)\n",
    "\n",
    "    # Configurar problemas\n",
    "    w = r_to_w(r)\n",
    "    @unpack a_vals, s_vals, u = am\n",
    "    setup_R!(am.R, a_vals, s_vals, r, w, u)\n",
    "\n",
    "    aiyagari_ddp = DiscreteDP(am.R, am.Q, am.β)\n",
    "\n",
    "    # Computar a política ótima\n",
    "    results = solve(aiyagari_ddp, PFI)\n",
    "\n",
    "    # Calcular a distribuição estacionária\n",
    "    stationary_probs = stationary_distributions(results.mc)[:, 1][1]\n",
    "\n",
    "    # Voltar a K\n",
    "    return dot(am.s_vals[:, 1], stationary_probs)\n",
    "end\n",
    "\n",
    "# Criar uma instância do agregado familiar\n",
    "am = Household(β = β, a_max = 20.0)\n",
    "\n",
    "# Crie uma grade de r valores para calcular a demanda e a oferta de capital\n",
    "r_vals = range(0.005, 0.04, length = 20)\n",
    "\n",
    "# Computar a oferta de capital\n",
    "k_vals = prices_to_capital_stock.(Ref(am), r_vals)\n",
    "\n",
    "# Traçar contra a demanda de capital por empresas\n",
    "demand = rd.(k_vals)\n",
    "labels =  [\"demand for capital\" \"supply of capital\"]\n",
    "plot(k_vals, [demand r_vals], label = labels, lw = 2, alpha = 0.6)\n",
    "plot!(xlabel = \"capital\", ylabel = \"interest rate\", xlim = (2, 14), ylim = (0.0, 0.1))"
   ]
  }
 ],
 "metadata": {
  "date": 1572312785.6361165,
  "download_nb": 1,
  "download_nb_path": "https://julia.quantecon.org/",
  "filename": "aiyagari.rst",
  "filename_with_path": "multi_agent_models/aiyagari",
  "kernelspec": {
   "display_name": "Julia 1.3.1",
   "language": "julia",
   "name": "julia-1.3"
  },
  "language_info": {
   "file_extension": ".jl",
   "mimetype": "application/julia",
   "name": "julia",
   "version": "1.3.1"
  },
  "title": "The Aiyagari Model"
 },
 "nbformat": 4,
 "nbformat_minor": 4
}
