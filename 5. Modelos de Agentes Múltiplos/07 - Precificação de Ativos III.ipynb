{
 "cells": [
  {
   "cell_type": "markdown",
   "metadata": {},
   "source": [
    "\n",
    "<a id='harrison-kreps'></a>\n",
    "<div id=\"qe-notebook-header\" style=\"text-align:right;\">\n",
    "        <a href=\"https://quantecon.org/\" title=\"quantecon.org\">\n",
    "                <img style=\"width:250px;display:inline;\" src=\"https://assets.quantecon.org/img/qe-menubar-logo.svg\" alt=\"QuantEcon\">\n",
    "        </a>\n",
    "</div>"
   ]
  },
  {
   "cell_type": "markdown",
   "metadata": {},
   "source": [
    "# Precificação de Ativos III: Mercados Incompletos\n",
    "\n",
    "\n",
    "<a id='index-0'></a>"
   ]
  },
  {
   "cell_type": "markdown",
   "metadata": {},
   "source": [
    "## Sumário\n",
    "\n",
    "- [Precificação de Ativos III: Mercados Incompletos](#Precificação-de-Ativos-III:-Mercados-Incompletos)  \n",
    "  - [Resumo](#Resumo)  \n",
    "  - [Estrutura do Modelo](#Estrutura-do-Modelo)  \n",
    "  - [Resolvendo o Modelo](#Resolvendo-o-Modelo)  \n",
    "  - [Exercícios](#Exercícios)  \n",
    "  - [Soluções](#Soluções)  "
   ]
  },
  {
   "cell_type": "markdown",
   "metadata": {},
   "source": [
    "> *Devidamente traduzido, revisado e adaptado do [QuantEcon](https://julia.quantecon.org/) pelos bolsistas CNPq Pedro Luiz H. Furtado e Jonas Aragão M. Corpes, sob a supervisão do Prof. Christiano Penna, do CAEN/UFC.*"
   ]
  },
  {
   "cell_type": "markdown",
   "metadata": {},
   "source": [
    "## Resumo\n",
    "\n",
    "Esta palestra descreve uma versão de um modelo de Harrison e Kreps [HK78](https://julia.quantecon.org/../zreferences.html#harrkreps1978).\n",
    "\n",
    "O modelo determina o preço de um ativo que gera dividendos que é negociado por dois tipos de investidores interessados.\n",
    "\n",
    "O modelo apresenta:\n",
    "\n",
    "- Crenças heterogêneas;\n",
    "- Mercados incompletos\n",
    "- Restrições curtas de vendas e possivelmente $ \\ldots $\n",
    "- (Alavancar) limites à capacidade de um investidor tomar empréstimos para financiar compras de um ativo arriscado  "
   ]
  },
  {
   "cell_type": "markdown",
   "metadata": {},
   "source": [
    "### Referências\n",
    "\n",
    "Antes de ler esta aula, você pode revisar nossas aulas sobre:\n",
    "\n",
    "- [Cadeias de Markov](https://julia.quantecon.org/../tools_and_techniques/finite_markov.html)\n",
    "- [Preços de ativos com espaço de estado finito](https://julia.quantecon.org/markov_asset.html)  "
   ]
  },
  {
   "cell_type": "markdown",
   "metadata": {},
   "source": [
    "### Bolhas\n",
    "\n",
    "Os economistas diferem em como definem uma \"bolha\".\n",
    "\n",
    "O modelo de Harrison-Kreps ilustra a seguinte noção de bolha que atrai muitos economistas:\n",
    "\n",
    "> *Um componente do preço de um ativo pode ser interpretado como uma bolha quando todos os investidores concordam que o preço atual do ativo excede o que eles acreditam que o fluxo de dividendos subjacente do ativo justifica.*"
   ]
  },
  {
   "cell_type": "markdown",
   "metadata": {},
   "source": [
    "### Configuração"
   ]
  },
  {
   "cell_type": "code",
   "execution_count": 1,
   "metadata": {
    "hide-output": true
   },
   "outputs": [],
   "source": [
    "using InstantiateFromURL\n",
    "github_project(\"QuantEcon/quantecon-notebooks-julia\", version = \"0.4.0\")"
   ]
  },
  {
   "cell_type": "code",
   "execution_count": 2,
   "metadata": {
    "hide-output": false
   },
   "outputs": [],
   "source": [
    "using LinearAlgebra, Statistics"
   ]
  },
  {
   "cell_type": "markdown",
   "metadata": {},
   "source": [
    "## Estrutura do Modelo\n",
    "\n",
    "O modelo simplificado ignora alterações na distribuição da riqueza\n",
    "entre investidores com diferentes crenças sobre os fundamentos que determinam\n",
    "pagamentos de ativos.\n",
    "\n",
    "Há um número fixo de $ A $ em ações de um ativo.\n",
    "\n",
    "Cada ação autoriza seu proprietário a um fluxo de dividendos $ \\{d_t \\} $ governados por uma cadeia de Markov definida em um espaço de estado $ S \\in \\{0, 1 \\} $.\n",
    "\n",
    "O dividendo obedece\n",
    "\n",
    "$$\n",
    "d_t =\n",
    "\\begin{cases}\n",
    "    0 & \\text{ se } s_t = 0 \\\\\n",
    "    1 & \\text{ se } s_t = 1\n",
    "\\end{cases}\n",
    "$$\n",
    "\n",
    "O proprietário de uma ação no início do período $ t $ tem direito ao dividendo pago no período $ t $.\n",
    "\n",
    "O proprietário da ação no início do período $ t $ também tem o direito de vender a ação a outro investidor durante o período $ t $.\n",
    "\n",
    "Dois tipos $ h = a, b $ de investidores diferem apenas em suas crenças sobre uma matriz de transição de Markov $ P $ com elemento típico\n",
    "\n",
    "$$\n",
    "P(i,j) = \\mathbb P\\{s_{t+1} = j \\mid s_t = i\\}\n",
    "$$\n",
    "\n",
    "Investidores do tipo $ a $ acreditam na a matriz de transição é:\n",
    "\n",
    "$$\n",
    "P_a =\n",
    "    \\begin{bmatrix}\n",
    "        \\frac{1}{2} & \\frac{1}{2} \\\\\n",
    "        \\frac{2}{3} & \\frac{1}{3}\n",
    "    \\end{bmatrix}\n",
    "$$\n",
    "\n",
    "Já os investidores do tipo $ b $ acham que a matriz de transição é:\n",
    "\n",
    "$$\n",
    "P_b =\n",
    "    \\begin{bmatrix}\n",
    "        \\frac{2}{3} & \\frac{1}{3} \\\\\n",
    "        \\frac{1}{4} & \\frac{3}{4}\n",
    "    \\end{bmatrix}\n",
    "$$\n",
    "\n",
    "As distribuições estacionárias (ou seja, invariantes) dessas duas matrizes podem ser calculadas da seguinte forma:"
   ]
  },
  {
   "cell_type": "code",
   "execution_count": 3,
   "metadata": {
    "hide-output": false
   },
   "outputs": [
    {
     "data": {
      "text/plain": [
       "1-element Array{Array{Float64,1},1}:\n",
       " [0.5714285714285715, 0.4285714285714286]"
      ]
     },
     "execution_count": 3,
     "metadata": {},
     "output_type": "execute_result"
    }
   ],
   "source": [
    "using QuantEcon\n",
    "\n",
    "qa = [1/2 1/2; 2/3 1/3]\n",
    "qb = [2/3 1/3; 1/4 3/4]\n",
    "mcA = MarkovChain(qa)\n",
    "mcB = MarkovChain(qb)\n",
    "stA = stationary_distributions(mcA)"
   ]
  },
  {
   "cell_type": "code",
   "execution_count": 4,
   "metadata": {
    "hide-output": false
   },
   "outputs": [
    {
     "data": {
      "text/plain": [
       "1-element Array{Array{Float64,1},1}:\n",
       " [0.42857142857142855, 0.5714285714285714]"
      ]
     },
     "execution_count": 4,
     "metadata": {},
     "output_type": "execute_result"
    }
   ],
   "source": [
    "stB = stationary_distributions(mcB)"
   ]
  },
  {
   "cell_type": "markdown",
   "metadata": {},
   "source": [
    "A distribuição estacionária de $ P_a $ é aproximadamente $ \\pi_A = \\begin{bmatrix} .57 & .43 \\end{bmatrix} $.\n",
    "\n",
    "A distribuição estacionária de $ P_b $ é aproximadamente $ \\pi_B = \\begin{bmatrix} .43 & .57 \\end{bmatrix} $."
   ]
  },
  {
   "cell_type": "markdown",
   "metadata": {},
   "source": [
    "### Direitos de propriedade\n",
    "\n",
    "Um proprietário do ativo no final do período $ t $ tem direito ao dividendo no período $ t + 1 $ e também tem o direito de vender o ativo no período $ t + 1 $.\n",
    "\n",
    "Ambos os tipos de investidores são neutros ao risco e ambos têm o mesmo fator de desconto fixo $ \\beta \\in (0,1) $.\n",
    "\n",
    "Em nosso exemplo numérico, definiremos $ \\beta = 0,75 $, assim como Harrison e Kreps.\n",
    "\n",
    "Finalmente, estudaremos as consequências de duas suposições diferentes sobre o número de ações $ A $ em relação aos recursos que nossos dois tipos de investidores podem investir nas ações.\n",
    "\n",
    "1. Ambos os tipos de investidores têm recursos suficientes (riqueza ou capacidade de contrair empréstimos) para que possam comprar todo o estoque disponível do ativo <sup><a href=#f1 id=f1-link>[1]</a></sup>.\n",
    "2. Nenhum tipo de investidor possui recursos suficientes para comprar todo o estoque.\n",
    "\n",
    "\n",
    "O caso 1 é o caso estudado em Harrison e Kreps.\n",
    "\n",
    "No caso 2, ambos os tipos de investidor sempre mantêm pelo menos parte do ativo."
   ]
  },
  {
   "cell_type": "markdown",
   "metadata": {},
   "source": [
    "### Proibição de venda à descoberto\n",
    "\n",
    "Não são permitidas vendas a descoberto.\n",
    "\n",
    "Isso importa porque limita os pessimistas de expressar suas opiniões:\n",
    "\n",
    "- Eles podem expressar suas opiniões vendendo suas ações, e\n",
    "- Eles não podem expressar seu pessimismo mais alto com “ações de fabricação” artificialmente - isto é, eles não podem emprestar ações de investidores mais otimistas e vendê-las imediatamente.  "
   ]
  },
  {
   "cell_type": "markdown",
   "metadata": {},
   "source": [
    "### Otimismo e Pessimismo\n",
    "\n",
    "As especificações acima das matrizes de transição percebidas $ P_a $ e $ P_b $, obtidas diretamente de Harrison e Kreps, constroem otimismo e pessimismo temporariamente alternados estocamente.\n",
    "\n",
    "Lembre-se de que o estado $ 1 $ é o estado com altos dividendos.\n",
    "\n",
    "- No estado $ 0 $, um agente do tipo $ a $ é mais otimista quanto aos dividendos do próximo período do que um agente do tipo $ b $.\n",
    "- No estado $ 1 $, um agente do tipo $ b $ é mais otimista sobre o dividendo do próximo período.\n",
    "\n",
    "\n",
    "No entanto, as distribuições estacionárias $ \\pi_A = \\begin {bmatrix} .57 & .43 \\end {bmatrix} $ e $ \\pi_B = \\begin {bmatrix} .43 & .57 \\end {bmatrix} $ nos dizem que um a pessoa do tipo $ B $ é mais otimista em relação ao processo de dividendos a longo prazo do que uma pessoa do tipo A.\n",
    "\n",
    "As matrizes de transição para os investidores temporariamente otimistas e pessimistas são construídas da seguinte forma.\n",
    "\n",
    "Investidores temporariamente otimistas (ou seja, o investidor com mais otimismo\n",
    "crenças em cada estado) acreditam que a matriz de transição\n",
    "\n",
    "$$\n",
    "P_o =\n",
    "    \\begin{bmatrix}\n",
    "        \\frac{1}{2} & \\frac{1}{2} \\\\\n",
    "        \\frac{1}{4} & \\frac{3}{4}\n",
    "    \\end{bmatrix}\n",
    "$$\n",
    "\n",
    "Temporariamente, pessimistas acreditam que a matriz de transição será:\n",
    "\n",
    "$$\n",
    "P_p =\n",
    "    \\begin{bmatrix}\n",
    "        \\frac{1}{2} & \\frac{1}{2} \\\\\n",
    "        \\frac{1}{4} & \\frac{3}{4}\n",
    "    \\end{bmatrix}\n",
    "$$\n",
    "\n",
    "Voltaremos a essas matrizes e sua importância no exercício."
   ]
  },
  {
   "cell_type": "markdown",
   "metadata": {},
   "source": [
    "### Informação\n",
    "\n",
    "Os investidores conhecem uma função de preço que mapeia o estado $ s_t $ em $ t $ para o preço de equilíbrio $ p (s_t) $ que prevalece nesse estado.\n",
    "\n",
    "Essa função de preço é endógena e deve ser determinada abaixo.\n",
    "\n",
    "Quando os investidores escolhem comprar ou vender o ativo por US $ t $, eles também sabem $ s_t $.\n"
   ]
  },
  {
   "cell_type": "markdown",
   "metadata": {},
   "source": [
    "## Resolvendo o Modelo\n",
    "\n",
    "Agora vamos resolver o modelo.\n",
    "\n",
    "Isso equivale a determinar os preços de equilíbrio sob as diferentes especificações possíveis de crenças e restrições listadas acima.\n",
    "\n",
    "Em particular, comparamos as funções de preço de equilíbrio sob a seguinte alternativa\n",
    "suposições sobre crenças:\n",
    "\n",
    "1. Existe apenas um tipo de agente, $ a $ ou $ b $.\n",
    "1. Existem dois tipos de agentes diferenciados apenas por suas crenças. Cada tipo de agente tem recursos suficientes para comprar todo o ativo (configuração de Harrison e Kreps).\n",
    "1. Existem dois tipos de agentes com crenças diferentes, mas devido à riqueza limitada e/ou alavancagem limitada, ambos os tipos de investidores mantêm o ativo a cada período.  "
   ]
  },
  {
   "cell_type": "markdown",
   "metadata": {},
   "source": [
    "### Tabeka de resumo\n",
    "\n",
    "A tabela a seguir apresenta um resumo dos resultados obtidos no restante da palestra\n",
    "(você será solicitado a recriar a tabela em um exercício).\n",
    "\n",
    "Ele registra implicações das especificações de Harrison e Kreps de $ P_a, P_b, \\beta $.\n",
    "\n",
    "|$ s_t $|0|1|\n",
    "|:---------------------:|:----:|:----:|\n",
    "|$ p_a $|1.33|1.22|\n",
    "|$ p_b $|1.45|1.91|\n",
    "|$ p_o $|1.85|2.08|\n",
    "|$ p_p $|1|1|\n",
    "|$ \\hat{p}_a $|1.85|1.69|\n",
    "|$ \\hat{p}_b $|1.69|2.08|\n",
    "\n",
    "Aqui:\n",
    "\n",
    "- $ p_a $ é a função de preço de equilíbrio sob crenças homogêneas $ P_a $;\n",
    "- $ p_b $ é a função de preço de equilíbrio sob crenças homogêneas $ P_b $;\n",
    "- $ p_o $ é a função de preço de equilíbrio sob crenças heterogêneas com investidores marginais otimistas;\n",
    "- $ p_p $ é a função de preço de equilíbrio sob crenças heterogêneas com investidores marginais pessimistas;\n",
    "- $ \\hat {p} _a $ é o tipo de valor $ a $ que os investidores estão dispostos a pagar pelo ativo, e\n",
    "- $ \\hat {p} _b $ é o tipo de valor $ b $ que os investidores estão dispostos a pagar pelo ativo.  \n",
    "\n",
    "\n",
    "Explicaremos esses valores e como eles são calculados uma linha por vez."
   ]
  },
  {
   "cell_type": "markdown",
   "metadata": {},
   "source": [
    "### Preços de crença simples\n",
    "\n",
    "Começaremos por precificar o ativo de acordo com crenças homogêneas.\n",
    "\n",
    "(Este é o caso tratado [na aula](https://julia.quantecon.org/markov_asset.html) sobre preços de ativos com estados finitos de Markov)\n",
    "\n",
    "Suponha que exista apenas um tipo de investidor, do tipo $ a $ ou $ b $, e que esse investidor sempre “precifica o ativo”.\n",
    "\n",
    "Seja $ p_h = \\begin {bmatrix} p_h (0) \\cr p_h (1) \\end {bmatrix} $ seja o vetor de preço de equilíbrio quando todos os investidores forem do tipo $ h $.\n",
    "\n",
    "O preço hoje é igual ao valor descontado esperado dos dividendos de amanhã e ao preço do ativo de amanhã:\n",
    "\n",
    "$$\n",
    "p_h(s) = \\beta \\left( P_h(s,0) (0 + p_h(0)) + P_h(s,1) ( 1 + p_h(1)) \\right), \\quad s = 0, 1\n",
    "$$\n",
    "\n",
    "Essas equações implicam que o vetor de preço de equilíbrio é\n",
    "\n",
    "\n",
    "<a id='equation-harrkrep1'></a>\n",
    "$$\n",
    "\\begin{bmatrix} p_h(0) \\cr p_h(1) \\end{bmatrix}\n",
    "= \\beta [I - \\beta P_h]^{-1} P_h \\begin{bmatrix} 0 \\cr 1 \\end{bmatrix} \\tag{1}\n",
    "$$\n",
    "\n",
    "As duas primeiras linhas da tabela relatam $ p_a (s) $ e $ p_b (s) $.\n",
    "\n",
    "Aqui está uma função que pode ser usada para calcular esses valores:"
   ]
  },
  {
   "cell_type": "code",
   "execution_count": 5,
   "metadata": {
    "hide-output": false
   },
   "outputs": [
    {
     "data": {
      "text/plain": [
       "price_single_beliefs (generic function with 1 method)"
      ]
     },
     "execution_count": 5,
     "metadata": {},
     "output_type": "execute_result"
    }
   ],
   "source": [
    "using LinearAlgebra\n",
    "\n",
    "function price_single_beliefs(transition, dividend_payoff;\n",
    "                            β=.75)\n",
    "    # Primeiro, computar as perças inversas\n",
    "    imbq_inv = inv(I - β * transition)\n",
    "\n",
    "    # Depois, computar os preços\n",
    "    prices = β * ((imbq_inv * transition) * dividend_payoff)\n",
    "\n",
    "    return prices\n",
    "end"
   ]
  },
  {
   "cell_type": "markdown",
   "metadata": {},
   "source": [
    "#### Crença em preços simples como referências\n",
    "\n",
    "Esses preços de equilíbrio sob crenças homogêneas são marcos importantes para a análise subsequente.\n",
    "\n",
    "- $ p_h (s) $ diz o que o investidor $ h $ pensa ser o \"valor fundamental\" do ativo.\n",
    "- Aqui \"valor fundamental\" significa o valor presente descontado esperado de dividendos futuros.\n",
    "\n",
    "\n",
    "Compararemos esses valores fundamentais do ativo com os valores de equilíbrio quando os traders tiverem crenças diferentes."
   ]
  },
  {
   "cell_type": "markdown",
   "metadata": {},
   "source": [
    "### Precificação sob crenças heterogêneas\n",
    "\n",
    "Existem vários casos a considerar.\n",
    "\n",
    "A primeira é quando os dois tipos de agente têm riqueza suficiente para comprar todo o ativo.\n",
    "\n",
    "Nesse caso, o investidor marginal que precifica o ativo é do tipo mais otimista, de modo que o preço de equilíbrio $ \\bar p $ satisfaz a equação principal de Harrison e Kreps:\n",
    "\n",
    "\n",
    "<a id='equation-hakr2'></a>\n",
    "$$\n",
    "\\bar p(s) =\n",
    "\\beta\n",
    "\\max\n",
    "\\left\\{\n",
    "        P_a(s,0) \\bar p(0) + P_a(s,1) ( 1 +  \\bar p(1))\n",
    "        ,\\;\n",
    "        P_b(s,0) \\bar p(0) + P_b(s,1) ( 1 +  \\bar p(1))\n",
    "\\right\\} \\tag{2}\n",
    "$$\n",
    "\n",
    "for $ s=0,1 $.\n",
    "\n",
    "O investidor marginal que precifica o ativo no estado $ s $ é do tipo $ a $ se:\n",
    "\n",
    "$$\n",
    "P_a(s,0)  \\bar p(0) + P_a(s,1) ( 1 +  \\bar p(1)) >\n",
    "P_b(s,0)  \\bar p(0) + P_b(s,1) ( 1 +  \\bar p(1))\n",
    "$$\n",
    "\n",
    "O investidor marginal é do tipo $ b $ se:\n",
    "\n",
    "$$\n",
    "P_a(s,1)  \\bar p(0) + P_a(s,1) ( 1 +  \\bar  p(1)) <\n",
    "P_b(s,1)  \\bar p(0) + P_b(s,1) ( 1 +  \\bar  p(1))\n",
    "$$\n",
    "\n",
    "**Assim, o investidor marginal é do tipo otimista (temporariamente)**.\n",
    "\n",
    "A equação [(2)](#equation-hakr2) é uma equação funcional que, como uma equação de Bellman, pode ser resolvida por\n",
    "\n",
    "- Começar com um palpite para o vetor de preço $ \\bar p $, e\n",
    "- Ir iterando para a convergência no operador que mapeia um palpite $ \\bar p ^ j $ em um palpite atualizado\n",
    "   $ \\bar p ^ {j + 1} $ definido pelo lado direito de [(2)](#equation-hakr2), a saber  \n",
    "\n",
    "\n",
    "\n",
    "<a id='equation-harrkrep3'></a>\n",
    "$$\n",
    "\\bar  p^{j+1}(s)\n",
    " = \\beta \\max\n",
    " \\left\\{\n",
    "        P_a(s,0) \\bar p^j(0) + P_a(s,1) ( 1 + \\bar p^j(1))\n",
    "        ,\\;\n",
    "        P_b(s,0) \\bar p^j(0) + P_b(s,1) ( 1 + \\bar p^j(1))\n",
    "\\right\\} \\tag{3}\n",
    "$$\n",
    "\n",
    "for $ s=0,1 $.\n",
    "\n",
    "A terceira linha da tabela relata preços de equilíbrio que resolvem a equação funcional quando $ \\beta = 0,75 $.\n",
    "\n",
    "Aqui, o tipo otimista de $ s_ {t + 1} $ precifica o ativo no estado $ s_t $.\n",
    "\n",
    "É instrutivo comparar esses preços com os preços de equilíbrio das economias de crenças homogêneas que resolvem sob as crenças $ P_a $ e $ P_b $.\n",
    "\n",
    "Os preços de equilíbrio $ \\bar p $ na economia de crenças heterogêneas excedem o que qualquer investidor em potencial considera como o valor fundamental do ativo em cada estado possível.\n",
    "\n",
    "No entanto, a economia visita recorrentemente um estado que faz com que cada investidor deseje\n",
    "comprar o ativo por mais do que ele acredita que seus dividendos futuros sejam\n",
    "que vale a pena.\n",
    "\n",
    "O motivo é que ele espera ter a opção de vender o ativo posteriormente para outro investidor que valorize o ativo mais do que ele.\n",
    "\n",
    "- Investidores do tipo $ a $ estão dispostos a pagar o seguinte preço pelo ativo  \n",
    "\n",
    "\n",
    "$$\n",
    "\\hat p_a(s) =\n",
    "\\begin{cases}\n",
    "\\bar p(0)  & \\text{ if } s_t = 0 \\\\\n",
    "\\beta(P_a(1,0) \\bar p(0) + P_a(1,1) ( 1 +  \\bar p(1))) & \\text{ if } s_t = 1\n",
    "\\end{cases}\n",
    "$$\n",
    "\n",
    "- Investidores do tipo $ b $ estão dispostos a pagar o seguinte preço pelo ativo\n",
    "\n",
    "\n",
    "$$\n",
    "\\hat p_b(s) =\n",
    "\\begin{cases}\n",
    "    \\beta(P_b(0,0) \\bar p(0) + P_b (0,1) ( 1 +  \\bar p(1)))  & \\text{ if } s_t = 0 \\\\\n",
    "    \\bar p(1)  & \\text{ if } s_t =1\n",
    "\\end{cases}\n",
    "$$\n",
    "\n",
    "Evidentemente, $ \\hat p_a (1) <\\bar p (1) $ e $ \\hat p_b (0) <\\bar p (0) $.\n",
    "\n",
    "Investidores do tipo $ a $ desejam vender o ativo no estado $ 1 $ enquanto investidores do tipo $ b $ desejam vendê-lo no estado $ 0 $.\n",
    "\n",
    "- O ativo muda de mãos sempre que o estado muda de $ 0 $ para $ 1 $ ou de $ 1 $ para $ 0 $.\n",
    "- As avaliações $ \\hat p_a (s) $ e $ \\hat p_b (s) $ são exibidas na quarta e quinta linhas da tabela.\n",
    "- Até os investidores pessimistas que não compram o ativo acham que vale mais do que pensam que os dividendos futuros valem.\n",
    "\n",
    "\n",
    "Aqui está o código para resolver $ \\bar p $, $ \\hat p_a $ e $ \\hat p_b $ usando o método iterativo descrito acima:"
   ]
  },
  {
   "cell_type": "code",
   "execution_count": 6,
   "metadata": {
    "hide-output": false
   },
   "outputs": [
    {
     "data": {
      "text/plain": [
       "price_optimistic_beliefs (generic function with 1 method)"
      ]
     },
     "execution_count": 6,
     "metadata": {},
     "output_type": "execute_result"
    }
   ],
   "source": [
    "function price_optimistic_beliefs(transitions,\n",
    "                                  dividend_payoff;\n",
    "                                  β=.75, max_iter=50000,\n",
    "                                  tol=1e-16)\n",
    "\n",
    "    # Vamos adivinhar um vetor de preço inicial de [0, 0]\n",
    "    p_new = [0,0]\n",
    "    p_old = [10.0,10.0]\n",
    "\n",
    "    # Sabemos que este é um mapeamento de contração, para que possamos iterar para\n",
    "    for i ∈ 1:max_iter\n",
    "        p_old = p_new\n",
    "        temp = [maximum((q * p_old) + (q * dividend_payoff))\n",
    "                            for q in transitions]\n",
    "        p_new = β * temp\n",
    "\n",
    "        # Se conseguirmos convergir, saia do loop para\n",
    "        if maximum(sqrt, ((p_new - p_old).^2)) < 1e-12\n",
    "            break\n",
    "        end\n",
    "    end\n",
    "\n",
    "    temp=[minimum((q * p_old) + (q * dividend_payoff)) for q in transitions]\n",
    "    ptwiddle = β * temp\n",
    "\n",
    "    phat_a = [p_new[1], ptwiddle[2]]\n",
    "    phat_b = [ptwiddle[1], p_new[2]]\n",
    "\n",
    "    return p_new, phat_a, phat_b\n",
    "end"
   ]
  },
  {
   "cell_type": "markdown",
   "metadata": {},
   "source": [
    "### Fundos insufucientes\n",
    "\n",
    "Os resultados diferem quando o tipo mais otimista de investidor possui riqueza insuficiente - ou capacidade insuficiente para emprestar o suficiente - para manter todo o estoque do ativo.\n",
    "\n",
    "Nesse caso, o preço do ativo deve ser ajustado para atrair investidores pessimistas.\n",
    "\n",
    "Em vez da equação [(2)](#equation-hakr2), o preço de equilíbrio satisfaz\n",
    "\n",
    "\n",
    "<a id='equation-harrkrep4'></a>\n",
    "$$\n",
    "\\check p(s)\n",
    "= \\beta \\min\n",
    "\\left\\{\n",
    "    P_a(s,1)  \\check  p(0) + P_a(s,1) ( 1 +   \\check  p(1)) ,\\;\n",
    "    P_b(s,1)  \\check p(0) + P_b(s,1) ( 1 + \\check p(1))\n",
    "\\right\\} \\tag{4}\n",
    "$$\n",
    "\n",
    "e o investidor marginal que precifica o ativo é sempre aquele que o valoriza *menos* do que o outro tipo.\n",
    "\n",
    "Agora, o investidor marginal é sempre do tipo (temporariamente) pessimista.\n",
    "\n",
    "Observe na sexta linha que o preço pessimista $ \\underline  p $ é menor que os preços homogêneos de crença $ p_a $ e $ p_b $ nos dois estados.\n",
    "\n",
    "Quando investidores pessimistas precificam o ativo de acordo com [(4)](#equation-harrkrep4), investidores otimistas pensam que o ativo está subvalorizado.\n",
    "\n",
    "Se pudessem, investidores otimistas emprestariam de bom grado a taxa de juros bruta de um período $ \\beta ^ {- 1} $ para comprar mais ativos.\n",
    "\n",
    "Restrições implícitas à alavancagem os proíbem de fazê-lo.\n",
    "\n",
    "Quando investidores otimistas precificam o ativo como na equação [(2)](#equation-hakr2), investidores pessimistas pensam que o ativo está supervalorizado e gostaria de vendê-lo a descoberto.\n",
    "\n",
    "Restrições às vendas a descoberto impedem isso.\n",
    "\n",
    "Aqui está o código para resolver $ \\check p $ usando a iteração:"
   ]
  },
  {
   "cell_type": "code",
   "execution_count": 7,
   "metadata": {
    "hide-output": false
   },
   "outputs": [
    {
     "data": {
      "text/plain": [
       "price_pessimistic_beliefs (generic function with 1 method)"
      ]
     },
     "execution_count": 7,
     "metadata": {},
     "output_type": "execute_result"
    }
   ],
   "source": [
    "function price_pessimistic_beliefs(transitions,\n",
    "                                   dividend_payoff;\n",
    "                                   β=.75, max_iter=50000,\n",
    "                                   tol=1e-16)\n",
    "    # Vamos adivinhar um vetor de preço inicial de [0, 0]\n",
    "    p_new = [0, 0]\n",
    "    p_old = [10.0, 10.0]\n",
    "\n",
    "    # Sabemos que este é um mapeamento de contração, para que possamos iterar para\n",
    "    for i ∈ 1:max_iter\n",
    "        p_old = p_new\n",
    "        temp=[minimum((q * p_old) + (q* dividend_payoff)) for q in transitions]\n",
    "        p_new = β * temp\n",
    "\n",
    "        # Se conseguirmos convergir, saia do loop for\n",
    "        if maximum(sqrt, ((p_new - p_old).^2)) < 1e-12\n",
    "            break\n",
    "        end\n",
    "    end\n",
    "\n",
    "    return p_new\n",
    "end"
   ]
  },
  {
   "cell_type": "markdown",
   "metadata": {},
   "source": [
    "### Interpretação adicional\n",
    "\n",
    "[Sch14](https://julia.quantecon.org/../zreferences.html#scheinkman2014) interpreta o modelo de Harrison-Kreps como um modelo de bolha - uma situação em que o preço de um ativo excede o que todo investidor pensa é merecido pelo fluxo de dividendos subjacente do ativo.\n",
    "\n",
    "Scheinkman enfatiza esses recursos do modelo Harrison-Kreps:\n",
    "\n",
    "- Em comparação com a configuração de crenças homogêneas que leva à fórmula de preços, ocorre um alto volume quando a fórmula de preços da Harrison-Kreps prevalece.\n",
    "\n",
    "\n",
    "Os investidores do tipo $ a $ vendem todo o estoque do ativo para o tipo $ b $ de investidores sempre que o estado passar de $ s_t = 0 $ para $ s_t = 1 $.\n",
    "\n",
    "Digite $ b $ investidores para vender o ativo para digitar $ a $ investidores sempre que o estado passar de $ s_t = 1 $ para $ s_t = 0 $.\n",
    "\n",
    "Scheinkman toma isso como uma força do modelo, porque ele observa alto volume durante *bolhas famosas*.\n",
    "\n",
    "- Se a *oferta* do ativo é aumentada suficientemente, tanto fisicamente (mais \"casas\" são construídas) ou artificialmente (formas são inventadas para vender \"casas\" a descoberto), as bolhas terminam quando a oferta cresce o suficiente para superar os recursos otimistas dos investidores para comprar o ativo.\n",
    "- Se investidores otimistas financiarem compras por meio de empréstimos, o aperto nas restrições de alavancagem pode extinguir uma bolha.\n",
    "\n",
    "\n",
    "Scheinkman extrai informações sobre os efeitos dos regulamentos financeiros nas bolhas.\n",
    "\n",
    "Ele enfatiza como limitar as vendas a descoberto e alavancar a limitação têm efeitos opostos."
   ]
  },
  {
   "cell_type": "markdown",
   "metadata": {},
   "source": [
    "## Exercícios"
   ]
  },
  {
   "cell_type": "markdown",
   "metadata": {},
   "source": [
    "### Exercício 1\n",
    "\n",
    "Recrie a tabela de resumo usando as funções que criamos acima.\n",
    "\n",
    "|$ s_t $|0|1|\n",
    "|:---------------------:|:----:|:----:|\n",
    "|$ p_a $|1.33|1.22|\n",
    "|$ p_b $|1.45|1.91|\n",
    "|$ p_o $|1.85|2.08|\n",
    "|$ p_p $|1|1|\n",
    "|$ \\hat{p}_a $|1.85|1.69|\n",
    "|$ \\hat{p}_b $|1.69|2.08|\n",
    "\n",
    "Primeiro, você precisará definir as matrizes de transição e o vetor de pagamento de dividendos."
   ]
  },
  {
   "cell_type": "markdown",
   "metadata": {},
   "source": [
    "## Soluções"
   ]
  },
  {
   "cell_type": "markdown",
   "metadata": {},
   "source": [
    "### Exercício 1\n",
    "\n",
    "Primeiro, obteremos vetores de preços de equilíbrio com crenças homogêneas, inclusive quando todos\n",
    "investidores são otimistas ou pessimistas:"
   ]
  },
  {
   "cell_type": "code",
   "execution_count": 8,
   "metadata": {
    "hide-output": false
   },
   "outputs": [
    {
     "name": "stdout",
     "output_type": "stream",
     "text": [
      "p_a\n",
      "====================\n",
      "State 0: 1.33\n",
      "State 1: 1.22\n",
      "--------------------\n",
      "p_b\n",
      "====================\n",
      "State 0: 1.45\n",
      "State 1: 1.91\n",
      "--------------------\n",
      "p_optimistic\n",
      "====================\n",
      "State 0: 1.85\n",
      "State 1: 2.08\n",
      "--------------------\n",
      "p_pessimistic\n",
      "====================\n",
      "State 0: 1.0\n",
      "State 1: 1.0\n",
      "--------------------\n"
     ]
    }
   ],
   "source": [
    "qa = [1/2 1/2; 2/3 1/3]     # Escreva matriz de transição a\n",
    "qb = [2/3 1/3; 1/4 3/4]     # Escreva matriz de transição b\n",
    "qopt = [1/2 1/2; 1/4 3/4]   # Matriz de transição do investidor otimista\n",
    "qpess = [2/3 1/3; 2/3 1/3]  # Matriz de transição do investidor pessimista\n",
    "\n",
    "dividendreturn = [0; 1]\n",
    "\n",
    "transitions = [qa, qb, qopt, qpess]\n",
    "labels = [\"p_a\", \"p_b\", \"p_optimistic\", \"p_pessimistic\"]\n",
    "\n",
    "for (transition, label) in zip(transitions, labels)\n",
    "    println(label)\n",
    "    println(repeat(\"=\", 20))\n",
    "    s0, s1 = round.(price_single_beliefs(transition, dividendreturn), digits=2)\n",
    "    println(\"State 0: $s0\")\n",
    "    println(\"State 1: $s1\")\n",
    "    println(repeat(\"-\", 20))\n",
    "end"
   ]
  },
  {
   "cell_type": "markdown",
   "metadata": {},
   "source": [
    "Usaremos a função price_optimistic_beliefs para encontrar o preço em\n",
    "crenças heterogêneas."
   ]
  },
  {
   "cell_type": "code",
   "execution_count": 9,
   "metadata": {
    "hide-output": false
   },
   "outputs": [
    {
     "name": "stdout",
     "output_type": "stream",
     "text": [
      "p_optimistic\n",
      "====================\n",
      "State 0: 1.85\n",
      "State 1: 2.08\n",
      "--------------------\n",
      "p_hat_a\n",
      "====================\n",
      "State 0: 1.85\n",
      "State 1: 1.69\n",
      "--------------------\n",
      "p_hat_b\n",
      "====================\n",
      "State 0: 1.69\n",
      "State 1: 2.08\n",
      "--------------------\n"
     ]
    }
   ],
   "source": [
    "opt_beliefs = price_optimistic_beliefs([qa, qb], dividendreturn)\n",
    "labels = [\"p_optimistic\", \"p_hat_a\", \"p_hat_b\"]\n",
    "\n",
    "for (p, label) ∈ zip(opt_beliefs, labels)\n",
    "    println(label)\n",
    "    println(repeat(\"=\", 20))\n",
    "    s0, s1 = round.(p, digits = 2)\n",
    "    println(\"State 0: $s0\")\n",
    "    println(\"State 1: $s1\")\n",
    "    println(repeat(\"-\", 20))\n",
    "end"
   ]
  },
  {
   "cell_type": "markdown",
   "metadata": {},
   "source": [
    "Observe que o preço de equilíbrio com crenças heterogêneas é igual ao preço sob crenças únicas\n",
    "com investidores otimistas - isso ocorre porque o investidor marginal é do tipo temporariamente otimista."
   ]
  },
  {
   "cell_type": "markdown",
   "metadata": {},
   "source": [
    "**Notas de rodapé**\n",
    "\n",
    "<p><a id=f1 href=#f1-link><strong>[1]</strong> </a> Supondo que os dois tipos de agente sempre tenham \"bolsos suficientemente profundos\" para comprar todo o ativo, o modelo tira a dinâmica da riqueza da mesa. O modelo Harrison-Kreps gera alto volume de negociação quando o estado muda de 0 para 1 ou de 1 para 0."
   ]
  }
 ],
 "metadata": {
  "date": 1572312786.006423,
  "download_nb": 1,
  "download_nb_path": "https://julia.quantecon.org/",
  "filename": "harrison_kreps.rst",
  "filename_with_path": "multi_agent_models/harrison_kreps",
  "kernelspec": {
   "display_name": "Julia 1.3.1",
   "language": "julia",
   "name": "julia-1.3"
  },
  "language_info": {
   "file_extension": ".jl",
   "mimetype": "application/julia",
   "name": "julia",
   "version": "1.3.1"
  },
  "title": "Asset Pricing III:  Incomplete Markets"
 },
 "nbformat": 4,
 "nbformat_minor": 2
}
