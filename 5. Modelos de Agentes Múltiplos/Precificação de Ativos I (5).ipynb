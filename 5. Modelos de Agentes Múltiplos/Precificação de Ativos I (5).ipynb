{
 "cells": [
  {
   "cell_type": "markdown",
   "metadata": {},
   "source": [
    "\n",
    "<a id='mass'></a>\n",
    "<div id=\"qe-notebook-header\" style=\"text-align:right;\">\n",
    "        <a href=\"https://quantecon.org/\" title=\"quantecon.org\">\n",
    "                <img style=\"width:250px;display:inline;\" src=\"https://assets.quantecon.org/img/qe-menubar-logo.svg\" alt=\"QuantEcon\">\n",
    "        </a>\n",
    "</div>"
   ]
  },
  {
   "cell_type": "markdown",
   "metadata": {},
   "source": [
    "# Precificação de Ativos I: Modelos de Estado Finito\n",
    "\n",
    "\n",
    "<a id='index-1'></a>"
   ]
  },
  {
   "cell_type": "markdown",
   "metadata": {},
   "source": [
    "## Conteúdo\n",
    "\n",
    "- [Precificação de Ativos I: Modelos de Estado Finito](#Precificação-de-Ativos-I:-Modelos-de-Estado-Finito)  \n",
    "  - [Resumo](#Resumo)  \n",
    "  - [Modelos de Precificação](#Modelos-de-Precificação)  \n",
    "  - [Preços em Caso de Risco Neutro](#Preços-em-Caso-de-Risco-Neutro)  \n",
    "  - [Preços de Ativos sob Aversão ao Risco](#Preços-de-Ativos-sob-Aversão-ao-Risco)  \n",
    "  - [Exercícios](#Exercícios)  \n",
    "  - [Soluções](#Soluções)  "
   ]
  },
  {
   "cell_type": "markdown",
   "metadata": {},
   "source": [
    "> *Devidamente traduzido, revisado e adaptado do [QuantEcon](https://quantecon.org/) pelos bolsistas CNPq Pedro Luiz H. Furtado e Jonas Aragão M. Corpes, sob a supervisão do Prof. Christiano Penna, do CAEN/UFC."
   ]
  },
  {
   "cell_type": "markdown",
   "metadata": {},
   "source": [
    ">> \"Um pouco de conhecimento de séries geométricas ajuda bastante\" - Robert E. Lucas, Jr.\n",
    "\n",
    ">>\"O preço dos ativos tem tudo a ver com covariâncias\" - Lars Peter Hansen"
   ]
  },
  {
   "cell_type": "markdown",
   "metadata": {},
   "source": [
    "## Resumo\n",
    "\n",
    "\n",
    "<a id='index-2'></a>\n",
    "Um ativo é uma reivindicação de um ou mais pagamentos futuros.\n",
    "\n",
    "O preço à vista de um ativo depende principalmente:\n",
    "\n",
    "- Da dinâmica prevista para o fluxo de renda acumulado para os proprietários;\n",
    "- Das atitudes em relação ao risco, e\n",
    "- Das taxas de preferência temporal.\n",
    "\n",
    "\n",
    "Nesta aula, consideramos alguns modelos de preços padrão e especificações de fluxo de dividendos.\n",
    "\n",
    "Estudamos como os preços e os índices de dividendos respondem nesses diferentes cenários.\n",
    "\n",
    "Também analisamos a criação e a precificação de ativos derivativos reembalando os fluxos de renda.\n",
    "\n",
    "As principais ferramentas para a aula são:\n",
    "\n",
    "- Fórmulas para prever valores futuros de funções de um estado de Markov, e\n",
    "- Uma fórmula para prever a soma descontada de valores futuros de um estado de Markov.  "
   ]
  },
  {
   "cell_type": "markdown",
   "metadata": {},
   "source": [
    "## Modelos de Precificação\n",
    "\n",
    "\n",
    "<a id='index-4'></a>\n",
    "No que segue, $ \\{d_t \\} _ {t \\geq 0} $ seja um fluxo de dividendos.\n",
    "\n",
    "- Um ativo de $ t $ **dividendos cumulativos** é uma reivindicação do fluxo $ d_t, d_ {t + 1}, \\ldots $.\n",
    "- Um ativo de $ t $ **ex-dividendo** é uma reivindicação ao fluxo $ d_ {t + 1}, d_ {t + 2}, \\ldots $.\n",
    "\n",
    "\n",
    "Vejamos algumas equações que esperamos manter para preços de ativos sob contratos ex-dividendos\n",
    "(consideraremos o preço de dividendos cumulativos nos exercícios)."
   ]
  },
  {
   "cell_type": "markdown",
   "metadata": {},
   "source": [
    "### Precificação com risco neutro\n",
    "\n",
    "\n",
    "<a id='index-5'></a>\n",
    "Nosso primeiro cenário é preço neutro ao risco.\n",
    "\n",
    "Seja $ \\beta = 1 / (1+ \\rho) $ um fator de desconto intertemporal, em que\n",
    "$ \\rho $ é a taxa pela qual os agentes descontam o futuro.\n",
    "\n",
    "A equação básica de precificação de ativos neutros a risco para precificar uma unidade de um ativo ex-dividendo é:\n",
    "\n",
    "\n",
    "<a id='mass-pra'></a>\n",
    "\n",
    "<a id='equation-rnapex'></a>\n",
    "$$\n",
    "p_t = \\beta {\\mathbb E}_t [d_{t+1} + p_{t+1}] \\tag{1}\n",
    "$$\n",
    "\n",
    "Essa é uma relação simples de “custo igual a benefício esperado”.\n",
    "\n",
    "Aqui $ {\\mathbb E} _t [y] $ indica a melhor previsão de $ y $, condicionada às informações disponíveis no momento $ t $."
   ]
  },
  {
   "cell_type": "markdown",
   "metadata": {},
   "source": [
    "### Precificação com fator de desconto aleatório\n",
    "\n",
    "\n",
    "<a id='index-6'></a>\n",
    "O que acontece se, por algum motivo, os traders descontarem os pagamentos de maneira diferente, dependendo do estado do mundo?\n",
    "\n",
    "Michael Harrison e David Kreps [HK79](https://julia.quantecon.org/../zreferences.html#harrisonkreps1979) e Lars Peter Hansen\n",
    "e Scott Richard [HR87](https://julia.quantecon.org/../zreferences.html#hansenrichard1987) mostraram que, em geral,\n",
    "a definição de um preço de ativo ex-dividendo obedece\n",
    "\n",
    "\n",
    "<a id='equation-lteeqs0'></a>\n",
    "$$\n",
    "p_t = {\\mathbb E}_t \\left[ m_{t+1}  ( d_{t+1} + p_{t+1} ) \\right] \\tag{2}\n",
    "$$\n",
    "\n",
    "para algum **fator de desconto estocástico** $ m_ {t + 1} $.\n",
    "\n",
    "O fator de desconto fixo $ \\beta $ em [(1)](#equation-rnapex) foi substituído pela variável aleatória $ m_ {t + 1} $.\n",
    "\n",
    "A maneira como os pagamentos futuros previstos são avaliados agora pode depender de vários resultados aleatórios.\n",
    "\n",
    "Um exemplo dessa idéia é que os ativos que tendem a ter bons resultados em estados ruins do mundo podem ser considerados mais valiosos.\n",
    "\n",
    "Isso ocorre porque eles pagam bem quando os fundos são mais urgentemente necessários.\n",
    "\n",
    "A seguir, exemplos de como o fator de desconto estocástico foi modelado."
   ]
  },
  {
   "cell_type": "markdown",
   "metadata": {},
   "source": [
    "### Precificação de ativos e covariâncias\n",
    "\n",
    "Lembre-se de que, a partir da definição de uma covariância condicional $ {\\rm cov} _t (x_ {t + 1}, y_ {t + 1}) $, temos\n",
    "\n",
    "\n",
    "<a id='equation-lteeqs101'></a>\n",
    "$$\n",
    "{\\mathbb E}_t (x_{t+1} y_{t+1}) = {\\rm cov}_t (x_{t+1}, y_{t+1}) + {\\mathbb E}_t x_{t+1} {\\mathbb E}_t y_{t+1} \\tag{3}\n",
    "$$\n",
    "\n",
    "Se aplicarmos essa definição à equação de precificação de ativos [(2)](#equation-lteeqs0), obteremos\n",
    "\n",
    "\n",
    "<a id='equation-lteeqs102'></a>\n",
    "$$\n",
    "p_t = {\\mathbb E}_t m_{t+1} {\\mathbb E}_t (d_{t+1} + p_{t+1}) + {\\rm cov}_t (m_{t+1}, d_{t+1}+ p_{t+1}) \\tag{4}\n",
    "$$\n",
    "\n",
    "É útil considerar a equação [(4)](#equation-lteeqs102) como uma generalização da equação [(1)](#equation-rnapex).\n",
    "\n",
    "- Na equação [(1)](#equation-rnapex), o fator de desconto estocástico $ m_ {t + 1} = \\beta $, uma constante.\n",
    "- Na equação [(1)](#equation-rnapex), o termo de covariância $ {\\rm cov} _t (m_ {t + 1}, d_ {t + 1} + p_ {t + 1}) $ é zero porque $ m_ {t + 1} = \\beta $.\n",
    "\n",
    "\n",
    "A equação [(4)](#equation-lteeqs102) afirma que a covariância do fator de desconto estocástico com o pagamento de um período $ d_ {t + 1} + p_ {t + 1} $ é um determinante importante do preço $ p_t $.\n",
    "\n",
    "Damos exemplos de alguns modelos de fatores de desconto estocásticos que foram propostos posteriormente nesta palestra e também em uma [aula posterior](https://julia.quantecon.org/lucas_model.html)."
   ]
  },
  {
   "cell_type": "markdown",
   "metadata": {},
   "source": [
    "### A razão preço-dividendo\n",
    "\n",
    "Além dos preços, outra variável de interesse é a **relação preço-dividendo** $ v_t: = p_t / d_t $.\n",
    "\n",
    "Vamos escrever uma expressão que essa proporção deve satisfazer.\n",
    "\n",
    "Podemos dividir os dois lados de [(2)](#equation-lteeqs0) por $ d_t $ para obter\n",
    "\n",
    "\n",
    "<a id='equation-pdex'></a>\n",
    "$$\n",
    "v_t = {\\mathbb E}_t \\left[ m_{t+1} \\frac{d_{t+1}}{d_t} (1 + v_{t+1}) \\right] \\tag{5}\n",
    "$$\n",
    "\n",
    "Discutiremos abaixo a implicação dessa equação."
   ]
  },
  {
   "cell_type": "markdown",
   "metadata": {},
   "source": [
    "## Preços em Caso de Risco Neutro\n",
    "\n",
    "O que podemos dizer sobre a dinâmica dos preços com base nos modelos descritos acima?\n",
    "\n",
    "A resposta a esta pergunta depende de:\n",
    "\n",
    "1. o processo que especificamos para dividendos.\n",
    "1. o fator estocástico de desconto e como ele se correlaciona com os dividendos.\n",
    "\n",
    "\n",
    "Por enquanto, vamos nos concentrar no caso neutro ao risco, onde o fator de desconto estocástico é constante, e estudar como os preços dependem do processo de dividendos."
   ]
  },
  {
   "cell_type": "markdown",
   "metadata": {},
   "source": [
    "### Exemplo 1: Dividendos constantes\n",
    "\n",
    "O caso mais simples é o preço neutro ao risco diante de um fluxo de dividendos constante e não aleatório $ d_t = d> 0 $.\n",
    "\n",
    "A remoção da expectativa de [(1)](#equation-rnapex) e a iteração para a frente fornecem\n",
    "\n",
    "$$\n",
    "\\begin{aligned}\n",
    "    p_t & = \\beta (d + p_{t+1})\n",
    "        \\\\\n",
    "        & = \\beta (d + \\beta(d + p_{t+2}))\n",
    "        \\\\\n",
    "        & \\quad \\vdots\n",
    "        \\\\\n",
    "        & = \\beta (d + \\beta d + \\beta^2 d +  \\cdots + \\beta^{k-2} d + \\beta^{k-1} p_{t+k})\n",
    "\\end{aligned}\n",
    "$$\n",
    "\n",
    "A menos que os preços explodam no futuro, essa sequência converge para\n",
    "\n",
    "\n",
    "<a id='equation-ddet'></a>\n",
    "$$\n",
    "\\bar p := \\frac{\\beta d}{1-\\beta} \\tag{6}\n",
    "$$\n",
    "\n",
    "Esse preço é o preço de equilíbrio no caso de dividendos constantes.\n",
    "\n",
    "De fato, uma álgebra simples mostra que definir $ p_t = \\bar p $ para todos os $ t $\n",
    "satisfaz a condição de equilíbrio $ p_t = \\beta (d + p_ {t + 1}) $."
   ]
  },
  {
   "cell_type": "markdown",
   "metadata": {},
   "source": [
    "### Exemplo 2: Dividendos com caminhos determinísticos de crescimento\n",
    "\n",
    "Considere um processo crescente e não aleatório de dividendos $ d_ {t + 1} = g d_t $\n",
    "onde $ 0 <g \\beta <1 $.\n",
    "\n",
    "Embora os preços geralmente não sejam constantes quando os dividendos crescem ao longo do tempo, o preço\n",
    "proporção de dividendos pode ser.\n",
    "\n",
    "Se adivinharmos isso, substituindo $ v_t = v $ por [(5)](#equation-pdex) e também por nossa\n",
    "outras suposições, obtemos $ v = \\beta g (1 + v) $.\n",
    "\n",
    "Desde $ \\beta g <1 $, temos uma solução positiva única:\n",
    "\n",
    "$$\n",
    "v = \\frac{\\beta g}{1 - \\beta g }\n",
    "$$\n",
    "\n",
    "O preço, então, é\n",
    "\n",
    "$$\n",
    "p_t = \\frac{\\beta g}{1 - \\beta g } d_t\n",
    "$$\n",
    "\n",
    "Se, neste exemplo, pegarmos $ g = 1+ \\kappa $ e deixarmos\n",
    "$ \\rho: = 1 / \\beta - 1 $, então o preço se torna\n",
    "\n",
    "$$\n",
    "p_t = \\frac{1 + \\kappa}{ \\rho - \\kappa} d_t\n",
    "$$\n",
    "\n",
    "Isso é chamado de *fórmula de Gordon*.\n",
    "\n",
    "\n",
    "<a id='mass-mg'></a>"
   ]
  },
  {
   "cell_type": "markdown",
   "metadata": {},
   "source": [
    "### Exemplo 3: crescimento de Markov, precificação com risco neutro\n",
    "\n",
    "Agora nós iremos considerar um processo de dividendos\n",
    "\n",
    "\n",
    "<a id='equation-mass-fmce'></a>\n",
    "\n",
    "$$\n",
    "d_{t+1} = g_{t+1} d_t \\tag{7}\n",
    "$$\n",
    "\n",
    "\n",
    "O fator de crescimento estocástico $ \\{g_t\\} $ é dado por\n",
    "\n",
    "$$\n",
    "g_t = g(X_t), \\quad t = 1, 2, \\ldots\n",
    "$$\n",
    "\n",
    "onde\n",
    "\n",
    "1. $ \\{X_t \\} $ é uma cadeia de Markov finita com espaço de estado $ S $ e\n",
    "   probabilidades de transição  \n",
    "\n",
    "\n",
    "$$\n",
    "P(x, y) := \\mathbb P \\{ X_{t+1} = y \\,|\\, X_t = x \\}\n",
    "\\qquad (x, y \\in S)\n",
    "$$\n",
    "\n",
    "1. $ g $ é uma função dada em $ S $ assumindo valores positivos\n",
    "\n",
    "\n",
    "Você pode pensar em\n",
    "\n",
    "- $ S $ como $ n $ possíveis \"estados do mundo\" e $ X_t $ como o\n",
    "   Estado atual\n",
    "- $ g $ como uma função que mapeia um determinado estado $ X_t $ em um crescimento\n",
    "   fator $ g_t = g (X_t) $ para a doação\n",
    "- $ \\ln g_t = \\ln (d_ {t + 1} / d_t) $ é a taxa de crescimento dos dividendos\n",
    "\n",
    "\n",
    "(Para uma atualização sobre notação e teoria para cadeias finitas de Markov, consulte [essa aula](https://julia.quantecon.org/../tools_and_techniques/finite_markov.html)).\n",
    "\n",
    "A próxima figura mostra uma simulação, onde\n",
    "\n",
    "- $ \\{X_t \\} $ evolui como um processo AR1 discreto produzido usando o [método de Tauchen](https://julia.quantecon.org/../tools_and_techniques/finite_markov.html#mc-ex3), e\n",
    "- $ g_t = \\exp (X_t) $, para que $ \\ln g_t = X_t $ seja a taxa de crescimento.  "
   ]
  },
  {
   "cell_type": "markdown",
   "metadata": {},
   "source": [
    "### Configuração"
   ]
  },
  {
   "cell_type": "code",
   "execution_count": 1,
   "metadata": {
    "hide-output": true
   },
   "outputs": [],
   "source": [
    "using InstantiateFromURL\n",
    "github_project(\"QuantEcon/quantecon-notebooks-julia\", version = \"0.5.0\")\n",
    "# github_project(\"QuantEcon/quantecon-notebooks-julia\", version = \"0.5.0\", instantiate = true) # uncomment to force package installation"
   ]
  },
  {
   "cell_type": "code",
   "execution_count": 2,
   "metadata": {
    "hide-output": false
   },
   "outputs": [],
   "source": [
    "using LinearAlgebra, Statistics\n",
    "using Parameters, Plots, QuantEcon\n",
    "gr(fmt = :png);"
   ]
  },
  {
   "cell_type": "code",
   "execution_count": 3,
   "metadata": {
    "hide-output": false
   },
   "outputs": [
    {
     "data": {
      "image/png": "[encoded data removed]"
     },
     "execution_count": 3,
     "metadata": {},
     "output_type": "execute_result"
    }
   ],
   "source": [
    "n = 25\n",
    "mc = tauchen(n, 0.96, 0.25)\n",
    "sim_length = 80\n",
    "\n",
    "x_series = simulate(mc, sim_length; init = round(Int, n / 2))\n",
    "g_series = exp.(x_series)\n",
    "d_series = cumprod(g_series) # assume que d_0 = 1\n",
    "\n",
    "series = [x_series g_series d_series log.(d_series)]\n",
    "labels = [\"X_t\" \"g_t\" \"d_t\" \"ln(d_t)\"]\n",
    "plot(series, layout = 4, labels = labels)"
   ]
  },
  {
   "cell_type": "markdown",
   "metadata": {},
   "source": [
    "#### Precificação\n",
    "\n",
    "Para obter preços de ativos nessa configuração, vamos adaptar nossa análise ao caso do crescimento determinístico.\n",
    "\n",
    "Nesse caso, descobrimos que $ v $ é constante.\n",
    "\n",
    "Isso nos encoraja a supor que, no caso atual, $ v_t $ seja constante, dado o estado $ X_t $.\n",
    "\n",
    "Em outras palavras, estamos procurando uma função fixa $ v $ de forma que a relação preço-dividendo satisfaça $ v_t = v (X_t) $.\n",
    "\n",
    "Podemos substituir esse palpite em [(5)](#equation-pdex) para obter\n",
    "\n",
    "$$\n",
    "v(X_t) = \\beta {\\mathbb E}_t [ g(X_{t+1}) (1 + v(X_{t+1})) ]\n",
    "$$\n",
    "\n",
    "Se nossa condição em $ X_t = x $, isso se torna\n",
    "\n",
    "$$\n",
    "v(x) = \\beta \\sum_{y \\in S}  g(y) (1 + v(y)) P(x, y)\n",
    "$$\n",
    "\n",
    "ou\n",
    "\n",
    "\n",
    "<a id='equation-pstack'></a>\n",
    "$$\n",
    "v(x) = \\beta \\sum_{y \\in S}   K(x, y) (1 + v(y))\n",
    "\\quad \\text{onde} \\quad\n",
    "K(x, y) := g(y) P(x, y) \\tag{8}\n",
    "$$\n",
    "\n",
    "Suponha que existam $ n $ estados possíveis $ x_1, \\ldots, x_n $.\n",
    "\n",
    "Podemos então pensar em [(8)](#equation-pstack) como $ n $ equações empilhadas, uma para cada estado, e escrevê-la na forma de matriz como\n",
    "\n",
    "\n",
    "<a id='equation-vcumrn'></a>\n",
    "$$\n",
    "v = \\beta K (\\mathbb 1 + v) \\tag{9}\n",
    "$$\n",
    "\n",
    "Aqui\n",
    "\n",
    "- $ v $ é entendido como o vetor da coluna $ (v (x_1), \\ldots, v (x_n)) '$\n",
    "- $ K $ é a matriz $ (K (x_i, x_j)) _ {1 \\leq i, j \\leq n} $\n",
    "- $ {\\mathbb 1} $ é um vetor de coluna uns\n",
    "\n",
    "\n",
    "Quando é que [(9)](#equation-vcumrn) tem uma solução única?\n",
    "\n",
    "Do [lema da série de Neumann](https://julia.quantecon.org/../tools_and_techniques/linear_algebra.html#la-neumann) e da fórmula de Gelfand, este será o caso se $ \\beta K $ tiver um raio espectral estritamente menos de um.\n",
    "\n",
    "Em outras palavras, exigimos que os valores próprios de $ K $ sejam estritamente menores que $ \\beta ^ {- 1} $ no módulo.\n",
    "\n",
    "A solução é então\n",
    "\n",
    "\n",
    "<a id='equation-rned'></a>\n",
    "$$\n",
    "v = (I - \\beta K)^{-1} \\beta K{\\mathbb 1} \\tag{10}\n",
    "$$"
   ]
  },
  {
   "cell_type": "markdown",
   "metadata": {},
   "source": [
    "### Código\n",
    "\n",
    "Vamos calcular e plotar a relação preço-dividendo em um conjunto de parâmetros.\n",
    "\n",
    "Como antes, geraremos $ \\{X_t \\} $ como um [processo AR1 discreto](https://julia.quantecon.org/../tools_and_techniques/finite_markov.html#mc-ex3) e definiremos $ g_t = \\exp (X_t) $.\n",
    "\n",
    "Aqui está o código, incluindo um teste da condição do raio espectral:"
   ]
  },
  {
   "cell_type": "code",
   "execution_count": 4,
   "metadata": {
    "hide-output": false
   },
   "outputs": [
    {
     "data": {
      "image/png": "[encoded data removed]"
     },
     "execution_count": 4,
     "metadata": {},
     "output_type": "execute_result"
    }
   ],
   "source": [
    "n = 25  # tamanho do espaço de estado\n",
    "β = 0.9\n",
    "mc = tauchen(n, 0.96, 0.02)\n",
    "\n",
    "K = mc.p .* exp.(mc.state_values)'\n",
    "\n",
    "v = (I - β * K) \\  (β * K * ones(n, 1))\n",
    "\n",
    "plot(mc.state_values,\n",
    "     v,\n",
    "     lw = 2,\n",
    "     ylabel = \"price-dividend ratio\",\n",
    "     xlabel = \"state\",\n",
    "     alpha = 0.7,\n",
    "     label = \"v\")"
   ]
  },
  {
   "cell_type": "markdown",
   "metadata": {},
   "source": [
    "Por que a relação preço-dividendo aumenta com o estado?\n",
    "\n",
    "A razão é que esse processo de Markov está positivamente correlacionado, tão alto\n",
    "estados atuais sugerem altos estados futuros.\n",
    "\n",
    "Além disso, o crescimento de dividendos está aumentando no estado.\n",
    "\n",
    "Antecipação de alto crescimento futuro de dividendos leva a uma alta relação preço-dividendo."
   ]
  },
  {
   "cell_type": "markdown",
   "metadata": {},
   "source": [
    "## Preços de Ativos sob Aversão ao Risco\n",
    "\n",
    "Agora vamos ao caso em que os agentes são avessos ao risco.\n",
    "\n",
    "Precificaremos vários ativos distintos, incluindo\n",
    "\n",
    "- O preço de um fluxo de doação.\n",
    "- Um console (uma variedade de títulos emitidos pelo governo do Reino Unido no século XIX).\n",
    "- Opções de chamada em um console.  "
   ]
  },
  {
   "cell_type": "markdown",
   "metadata": {},
   "source": [
    "### Precificando uma árvore de Lucas\n",
    "\n",
    "\n",
    "<a id='index-7'></a>\n",
    "Vamos começar com uma versão do famoso modelo de precificação de ativos de Robert E. Lucas, Jr. [Luc78](https://julia.quantecon.org/../zreferences.html#lucas1978).\n",
    "\n",
    "Como em [Luc78](https://julia.quantecon.org/../zreferences.html#lucas1978), suponha que o fator de desconto estocástico assuma a forma\n",
    "\n",
    "\n",
    "<a id='equation-lucsdf'></a>\n",
    "$$\n",
    "m_{t+1} = \\beta \\frac{u'(c_{t+1})}{u'(c_t)} \\tag{11}\n",
    "$$\n",
    "\n",
    "onde $ u $ é uma função de utilidade côncava e $ c_t $ é o tempo de consumo de $ t $ de um consumidor representativo.\n",
    "\n",
    "(Uma derivação dessa expressão é dada em uma [aula posterior](https://julia.quantecon.org/lucas_model.html))\n",
    "\n",
    "Suponha a existência de uma investidura que segue [(7)](#equation-mass-fmce).\n",
    "\n",
    "O preço do ativo é uma reivindicação no processo de doação.\n",
    "\n",
    "Seguindo [Luc78](https://julia.quantecon.org/../zreferences.html#lucas1978), suponha ainda que, em equilíbrio, o consumo\n",
    "é igual à doação, de modo que $ d_t = c_t $ para todos os $ t $.\n",
    "\n",
    "Por utilidade, assumiremos a ** constante aversão ao risco relativo ** (CRRA)\n",
    "especificação\n",
    "\n",
    "\n",
    "<a id='equation-eqcrra'></a>\n",
    "$$\n",
    "u(c) = \\frac{c^{1-\\gamma}}{1 - \\gamma} \\ {\\rm with} \\ \\gamma > 0 \\tag{12}\n",
    "$$\n",
    "\n",
    "Quando $ \\gamma =1 $ assumimos que $ u(c) = \\ln c $.\n",
    "\n",
    "Inserir a especificação CRRA em [(11)](#equation-lucsdf) e usar $ c_t = d_t $ fornece\n",
    "\n",
    "\n",
    "<a id='equation-lucsdf2'></a>\n",
    "$$\n",
    "m_{t+1}\n",
    "= \\beta \\left(\\frac{c_{t+1}}{c_t}\\right)^{-\\gamma}\n",
    "= \\beta g_{t+1}^{-\\gamma} \\tag{13}\n",
    "$$\n",
    "\n",
    "Substituindo isso em [(5)](#equation-pdex), obtém-se a fórmula da relação preço-dividendo\n",
    "\n",
    "\n",
    "$$\n",
    "v(X_t)\n",
    "= \\beta {\\mathbb E}_t\n",
    "\\left[\n",
    "    g(X_{t+1})^{1-\\gamma} (1 + v(X_{t+1}) )\n",
    "\\right]\n",
    "$$\n",
    "\n",
    "Condicionando à $ X_t = x $, podemos escrever isso como\n",
    "\n",
    "$$\n",
    "v(x)\n",
    "= \\beta \\sum_{y \\in S} g(y)^{1-\\gamma} (1 + v(y) ) P(x, y)\n",
    "$$\n",
    "\n",
    "Se deixarmos\n",
    "\n",
    "$$\n",
    "J(x, y) := g(y)^{1-\\gamma}  P(x, y)\n",
    "$$\n",
    "\n",
    "então podemos escrever na forma vetorial como\n",
    "\n",
    "$$\n",
    "v = \\beta J ({\\mathbb 1} + v )\n",
    "$$\n",
    "\n",
    "Supondo que o raio espectral de $ J $ seja estritamente menor que $ \\beta ^ {- 1} $, essa equação tem a solução exclusiva\n",
    "\n",
    "\n",
    "<a id='equation-resolvent2'></a>\n",
    "$$\n",
    "v = (I - \\beta J)^{-1} \\beta  J {\\mathbb 1} \\tag{14}\n",
    "$$\n",
    "\n",
    "Definiremos uma função tree_price para resolver $ v \\ $ dados parâmetros armazenados em\n",
    "os objetos do modelo de precificação de ativos."
   ]
  },
  {
   "cell_type": "code",
   "execution_count": 5,
   "metadata": {
    "hide-output": false
   },
   "outputs": [
    {
     "data": {
      "text/plain": [
       "tree_price (generic function with 1 method)"
      ]
     },
     "execution_count": 5,
     "metadata": {},
     "output_type": "execute_result"
    }
   ],
   "source": [
    "# Uma cadeia de Markov padrão para os processos de estado\n",
    "ρ = 0.9\n",
    "σ = 0.02\n",
    "n = 25\n",
    "default_mc = tauchen(n, ρ, σ)\n",
    "\n",
    "AssetPriceModel = @with_kw (β = 0.96,\n",
    "                            γ = 2.0,\n",
    "                            mc = default_mc,\n",
    "                            n = size(mc.p)[1],\n",
    "                            g = exp)\n",
    "\n",
    "# testar a estabilidade da matriz Q\n",
    "function test_stability(ap, Q)\n",
    "    sr = maximum(abs, eigvals(Q))\n",
    "    if sr ≥ 1 / ap.β\n",
    "        msg = \"Spectral radius condition failed with radius = $sr\"\n",
    "        throw(ArgumentError(msg))\n",
    "    end\n",
    "end\n",
    "\n",
    "# razão preço/dividendos da árvore de Lucas\n",
    "function tree_price(ap; γ = ap.γ)\n",
    "    # simpificar nomes, configurar matrizes\n",
    "    @unpack β, mc = ap\n",
    "    P, y = mc.p, mc.state_values\n",
    "    y = reshape(y, 1, ap.n)\n",
    "    J = P .* ap.g.(y).^(1 - γ)\n",
    "\n",
    "    # Esteja certo que há uma solução única\n",
    "    test_stability(ap, J)\n",
    "\n",
    "    # Computar v\n",
    "    v = (I - β * J) \\ sum(β * J, dims = 2)\n",
    "\n",
    "    return v\n",
    "end"
   ]
  },
  {
   "cell_type": "markdown",
   "metadata": {},
   "source": [
    "Aqui está um gráfico de $ v $ em função do estado para vários valores de $ \\gamma $,\n",
    "com um processo Markov correlacionado positivamente e $ g (x) = \\exp (x) $"
   ]
  },
  {
   "cell_type": "code",
   "execution_count": 6,
   "metadata": {
    "hide-output": false
   },
   "outputs": [
    {
     "data": {
      "image/png": "[encoded data removed]"
     },
     "execution_count": 6,
     "metadata": {},
     "output_type": "execute_result"
    }
   ],
   "source": [
    "γs = [1.2, 1.4, 1.6, 1.8, 2.0]\n",
    "ap = AssetPriceModel()\n",
    "states = ap.mc.state_values\n",
    "\n",
    "lines = []\n",
    "labels = []\n",
    "\n",
    "for γ in γs\n",
    "    v = tree_price(ap, γ = γ)\n",
    "    label = \"gamma = $γ\"\n",
    "    push!(labels, label)\n",
    "    push!(lines, v)\n",
    "end\n",
    "\n",
    "plot(lines,\n",
    "     labels = reshape(labels, 1, length(labels)),\n",
    "     title = \"Price-dividend ratio as a function of the state\",\n",
    "     ylabel = \"price-dividend ratio\",\n",
    "     xlabel = \"state\")"
   ]
  },
  {
   "cell_type": "markdown",
   "metadata": {},
   "source": [
    "Observe que $ v $ está diminuindo em cada caso.\n",
    "\n",
    "Isso ocorre porque, com um processo de estado correlacionado positivamente, estados mais altos sugerem maior crescimento futuro do consumo.\n",
    "\n",
    "No fator estocástico de desconto [(13)](#equation-lucsdf2), maior crescimento diminui a\n",
    "fator de desconto, diminuindo o peso dos retornos futuros."
   ]
  },
  {
   "cell_type": "markdown",
   "metadata": {},
   "source": [
    "#### Casos especiais\n",
    "\n",
    "No caso especial $ \\gamma = 1 $, temos $ J = P $.\n",
    "\n",
    "Lembrando que $ P ^ i {\\mathbb 1} = {\\mathbb 1} $ para todos os $ i $ e aplicando o [lema da série geométrica de Neumann](https://julia.quantecon.org/../tools_and_techniques/linear_algebra.html#la-neumann), somos levados a\n",
    "\n",
    "$$\n",
    "v = \\beta(I-\\beta P)^{-1} {\\mathbb 1}\n",
    "= \\beta \\sum_{i=0}^{\\infty} \\beta^i P^i {\\mathbb 1}\n",
    "= \\beta \\frac{1}{1 - \\beta} {\\mathbb 1}\n",
    "$$\n",
    "\n",
    "Assim, com as preferências de log, a relação preço-dividendo para uma árvore de Lucas é constante.\n",
    "\n",
    "Como alternativa, se $ \\gamma = 0 $, $ J = K $ e recuperaremos o\n",
    "solução neutra ao risco [(10)](#equation-rned).\n",
    "\n",
    "\n",
    "Isso é o esperado, uma vez que $ \\gamma = 0 $ implica $ u (c) = c $ (e, portanto, os agentes são neutros ao risco)."
   ]
  },
  {
   "cell_type": "markdown",
   "metadata": {},
   "source": [
    "### Um console livre de risco\n",
    "\n",
    "Considere a mesma economia de agente representativo de troca pura.\n",
    "\n",
    "Um consolo sem risco promete pagar uma quantia constante de $ \\zeta> 0 $ a cada período.\n",
    "\n",
    "Notação de reciclagem, agora $ p_t $ seja o preço de uma reivindicação de ex-cupom para o console.\n",
    "\n",
    "Uma reivindicação ex-cupom para o consolo dá ao proprietário, no final do período, $ t $ a\n",
    "\n",
    "- $ \\zeta $ no período $ t + 1 $, mais\n",
    "- o direito de vender a reivindicação por $ p_ {t + 1} $ no próximo período  \n",
    "\n",
    "\n",
    "O preço satisfaz [(2)](#equation-lteeqs0) com $ d_t = \\zeta $ ou\n",
    "\n",
    "$$\n",
    "p_t = {\\mathbb E}_t \\left[ m_{t+1}  ( \\zeta + p_{t+1} ) \\right]\n",
    "$$\n",
    "\n",
    "Mantemos o fator de desconto estocástico [(13)](#equation-lucsdf2), para que isso se torne\n",
    "\n",
    "\n",
    "<a id='equation-consolguess1'></a>\n",
    "$$\n",
    "p_t\n",
    "= {\\mathbb E}_t \\left[ \\beta g_{t+1}^{-\\gamma}  ( \\zeta + p_{t+1} ) \\right] \\tag{15}\n",
    "$$\n",
    "\n",
    "Adivinhando uma solução da forma $ p_t = p (X_t) $ e condicionando\n",
    "$ X_t = x $, obtemos\n",
    "\n",
    "$$\n",
    "p(x)\n",
    "= \\beta \\sum_{y \\in S}  g(y)^{-\\gamma} (\\zeta + p(y)) P(x, y)\n",
    "$$\n",
    "\n",
    "Deixando $ M (x, y) = P (x, y) g (y) ^ {-\\gamma} $ e reescrevendo em notação vetorial\n",
    "temos a solução\n",
    "\n",
    "\n",
    "<a id='equation-consol-price'></a>\n",
    "$$\n",
    "p = (I - \\beta M)^{-1} \\beta M \\zeta {\\mathbb 1} \\tag{16}\n",
    "$$\n",
    "\n",
    "O resultado acima é implementado na função consol_price."
   ]
  },
  {
   "cell_type": "code",
   "execution_count": 7,
   "metadata": {
    "hide-output": false
   },
   "outputs": [
    {
     "data": {
      "text/plain": [
       "consol_price (generic function with 1 method)"
      ]
     },
     "execution_count": 7,
     "metadata": {},
     "output_type": "execute_result"
    }
   ],
   "source": [
    "function consol_price(ap, ζ)\n",
    "    # Simplificar nomes, configurar matrizes\n",
    "    @unpack β, γ, mc, g, n = ap\n",
    "    P, y = mc.p, mc.state_values\n",
    "    y = reshape(y, 1, n)\n",
    "    M = P .* g.(y).^(-γ)\n",
    "\n",
    "    # Ter certeza de que há uma solução única\n",
    "    test_stability(ap, M)\n",
    "\n",
    "    # Computar os preços\n",
    "    return (I - β * M) \\ sum(β * ζ * M, dims = 2)\n",
    "end"
   ]
  },
  {
   "cell_type": "markdown",
   "metadata": {},
   "source": [
    "### Precificando uma opção para comprar um console\n",
    "\n",
    "Vamos agora opções de preço com vencimento variável que dão o direito de comprar um consol a um preço $ p_S $."
   ]
  },
  {
   "cell_type": "markdown",
   "metadata": {},
   "source": [
    "#### Uma opção de chamada com horizonte infinito\n",
    "\n",
    "Queremos precificar uma opção de horizonte infinito para comprar um console a um preço $ p_S $.\n",
    "\n",
    "A opção autoriza o proprietário no início de um período a\n",
    "\n",
    "1. Adquira o título pelo preço $ p_S $ agora, ou\n",
    "2. Não exercer a opção agora, mas reter o direito de exercê-la mais tarde\n",
    "\n",
    "\n",
    "Assim, o proprietário *exerce* a opção agora ou escolhe *não se exercitar* e espera até o próximo período.\n",
    "\n",
    "Isso é denominado uma opção de compra com *horizonte infinito* com *preço de exercício* $ p_S $.\n",
    "\n",
    "O proprietário da opção tem o direito de comprar o consol pelo preço $ p_S $ no início de qualquer período, após o pagamento do cupom ao proprietário anterior do título.\n",
    "\n",
    "Os fundamentos da economia são idênticos aos acima, incluindo o fator estocástico de desconto e o processo de consumo.\n",
    "\n",
    "Seja $ w (X_t, p_S) $ o valor da opção quando o tempo de crescimento $ t $ for conhecido como $ X_t $, mas *antes* o proprietário tenha decidido se deve ou não exercer a opção\n",
    "no momento $ t $ (ou seja, hoje).\n",
    "\n",
    "Lembrando que $ p (X_t) $ é o valor do consol quando o estado de crescimento inicial é $ X_t $, o valor da opção satisfaz\n",
    "\n",
    "$$\n",
    "w(X_t, p_S)\n",
    "= \\max \\left\\{\n",
    "    \\beta \\, {\\mathbb E}_t \\frac{u'(c_{t+1})}{u'(c_t)} w(X_{t+1}, p_S), \\;\n",
    "         p(X_t) - p_S\n",
    "\\right\\}\n",
    "$$\n",
    "\n",
    "O primeiro termo à direita é o valor da espera, enquanto o segundo é o valor do exercício agora.\n",
    "\n",
    "Também podemos escrever isso como\n",
    "\n",
    "\n",
    "<a id='equation-feoption0'></a>\n",
    "$$\n",
    "w(x, p_S)\n",
    "= \\max \\left\\{\n",
    "    \\beta \\sum_{y \\in S} P(x, y) g(y)^{-\\gamma}\n",
    "    w (y, p_S), \\;\n",
    "    p(x) - p_S\n",
    "\\right\\} \\tag{17}\n",
    "$$\n",
    "\n",
    "Com $ M (x, y) = P (x, y) g (y) ^ {-\\gamma} $ e $ w $ como o vetor de\n",
    "valores $ (w (x_i), p_S) _ {i = 1} ^ n $, podemos expressar [(17)](#equation-feoption0) como a equação vetorial não linear\n",
    "\n",
    "\n",
    "<a id='equation-feoption'></a>\n",
    "$$\n",
    "w = \\max \\{ \\beta M w, \\; p - p_S {\\mathbb 1} \\} \\tag{18}\n",
    "$$\n",
    "\n",
    "Para resolver [(18)](#equation-feoption), forme o operador vetor de mapeamento $ T $ $ w $\n",
    "no vetor $ Tw $ via\n",
    "\n",
    "$$\n",
    "T w\n",
    "= \\max \\{ \\beta M w,\\; p - p_S {\\mathbb 1} \\}\n",
    "$$\n",
    "\n",
    "Comece com alguns $ w $ iniciais e itere para convergência com $ T $.\n",
    "\n",
    "Podemos encontrar a solução com a seguinte função call_option:"
   ]
  },
  {
   "cell_type": "code",
   "execution_count": 8,
   "metadata": {
    "hide-output": false
   },
   "outputs": [
    {
     "data": {
      "text/plain": [
       "call_option (generic function with 2 methods)"
      ]
     },
     "execution_count": 8,
     "metadata": {},
     "output_type": "execute_result"
    }
   ],
   "source": [
    "# preço da chamada perpétua no bônus do console\n",
    "function call_option(ap, ζ, p_s, ϵ = 1e-7)\n",
    "\n",
    "    # Simplificar nomes, configurar matrizes\n",
    "    @unpack β, γ, mc, g, n = ap\n",
    "    P, y = mc.p, mc.state_values\n",
    "    y = reshape(y, 1, n)\n",
    "    M = P .* g.(y).^(-γ)\n",
    "\n",
    "    # Ter certeza de que há uma solução única\n",
    "    test_stability(ap, M)\n",
    "\n",
    "    # Computar preço da opção\n",
    "    p = consol_price(ap, ζ)\n",
    "    w = zeros(ap.n, 1)\n",
    "    error = ϵ + 1\n",
    "    while (error > ϵ)\n",
    "        # Maximizar nas colunas\n",
    "        w_new = max.(β * M * w, p .- p_s)\n",
    "        # Encontre a diferença máxima de cada componente e atualize\n",
    "        error = maximum(abs, w - w_new)\n",
    "        w = w_new\n",
    "    end\n",
    "\n",
    "    return w\n",
    "end"
   ]
  },
  {
   "cell_type": "markdown",
   "metadata": {},
   "source": [
    "Aqui está um gráfico de $ w $ comparado ao preço do console quando $ P S = 40 $."
   ]
  },
  {
   "cell_type": "code",
   "execution_count": 9,
   "metadata": {
    "hide-output": false
   },
   "outputs": [
    {
     "data": {
      "image/png": "[encoded data removed]"
     },
     "execution_count": 9,
     "metadata": {},
     "output_type": "execute_result"
    }
   ],
   "source": [
    "ap = AssetPriceModel(β=0.9)\n",
    "ζ = 1.0\n",
    "strike_price = 40.0\n",
    "\n",
    "x = ap.mc.state_values\n",
    "p = consol_price(ap, ζ)\n",
    "w = call_option(ap, ζ, strike_price)\n",
    "\n",
    "plot(x, p, color = \"blue\", lw = 2, xlabel = \"state\", label = \"consol price\")\n",
    "plot!(x, w, color = \"green\", lw = 2, label = \"value of call option\")"
   ]
  },
  {
   "cell_type": "markdown",
   "metadata": {},
   "source": [
    "Nos estados grandes, o valor da opção é próximo de zero.\n",
    "\n",
    "Isso apesar do fato de a cadeia de Markov ser irredutível e de estados baixos -\n",
    "onde os preços do consol são altos - serão eventualmente visitados.\n",
    "\n",
    "O motivo é que $ \\beta = 0,9 $, para que o futuro seja descontado relativamente rápido."
   ]
  },
  {
   "cell_type": "markdown",
   "metadata": {},
   "source": [
    "### Taxas livres de risco\n",
    "\n",
    "Vamos analisar as taxas de juros sem risco em diferentes períodos."
   ]
  },
  {
   "cell_type": "markdown",
   "metadata": {},
   "source": [
    "#### Taxa de juros livre de risco para um período\n",
    "\n",
    "Como antes, o fator de desconto estocástico é $ m_ {t + 1} = \\beta g_ {t + 1} ^ {-\\gamma} $.\n",
    "\n",
    "Conclui-se que o $ R_t ^ {- 1} $ recíproco da taxa de juros bruta sem risco $ R_t $ no estado $ x $ é\n",
    "\n",
    "$$\n",
    "{\\mathbb E}_t m_{t+1} = \\beta \\sum_{y \\in S} P(x, y) g(y)^{-\\gamma}\n",
    "$$\n",
    "\n",
    "Podemos escrever isso como:\n",
    "\n",
    "$$\n",
    "m_1 = \\beta M {\\mathbb 1}\n",
    "$$\n",
    "\n",
    "onde o $ i $ -ésimo elemento de $ m_1 $ é o inverso da taxa bruta de juros bruta de um período no estado $ x_i $."
   ]
  },
  {
   "cell_type": "markdown",
   "metadata": {},
   "source": [
    "#### Outros termos\n",
    "\n",
    "Seja $ m_j $ um vetor $ n \\times 1 $ cujo componente $ i $ é o recíproco da taxa de juros bruta sem risco de período $ j $ no estado $ x_i $.\n",
    "\n",
    "Então $ m_1 = \\beta M $ e $ m_ {j + 1} = M m_j $ para $ j \\geq 1 $."
   ]
  },
  {
   "cell_type": "markdown",
   "metadata": {},
   "source": [
    "## Exercícios"
   ]
  },
  {
   "cell_type": "markdown",
   "metadata": {},
   "source": [
    "### Exercício 1\n",
    "\n",
    "Na palestra, consideramos **ex-dividendo ativo**.\n",
    "\n",
    "Um ativo de **dividendos cumulativos** é uma reivindicação para o fluxo $ d_t, d_ {t + 1}, \\ldots $.\n",
    "\n",
    "Seguindo [(1)](#equation-rnapex), encontre a equação de precificação de ativos neutro em risco para\n",
    "uma unidade de um ativo com dividendos cumulativos.\n",
    "\n",
    "Com um fluxo de dividendos constante e não aleatório $ d_t = d> 0 $, qual é o equilíbrio\n",
    "preço de um ativo com dividendos cumulativos?\n",
    "\n",
    "Com um processo de dividendo crescente e não aleatório $ d_t = g d_t $ em que $ 0 <g \\beta <1 $,\n",
    "qual é o preço de equilíbrio de um ativo com dividendos cumulativos?"
   ]
  },
  {
   "cell_type": "markdown",
   "metadata": {},
   "source": [
    "### Exercício 2\n",
    "\n",
    "Considere as seguintes premissas:"
   ]
  },
  {
   "cell_type": "code",
   "execution_count": 10,
   "metadata": {
    "hide-output": false
   },
   "outputs": [
    {
     "data": {
      "text/plain": [
       "1.0"
      ]
     },
     "execution_count": 10,
     "metadata": {},
     "output_type": "execute_result"
    }
   ],
   "source": [
    "n = 5\n",
    "P = fill(0.0125, n, n) + (0.95 - 0.0125)I\n",
    "s = [1.05, 1.025, 1.0, 0.975, 0.95]\n",
    "γ = 2.0\n",
    "β = 0.94\n",
    "ζ = 1.0"
   ]
  },
  {
   "cell_type": "markdown",
   "metadata": {},
   "source": [
    "Seja $ g $ definido por $ g (x) = x $ (ou seja, $ g $ é o mapa de identidade).\n",
    "\n",
    "Calcule o preço da árvore de Lucas.\n",
    "\n",
    "Faça o mesmo para\n",
    "\n",
    "- O preço do console sem risco quando $ \\zeta = 1 $, e\n",
    "- A opção de compra no consol quando $ \\zeta = 1 $ e $ p_S = 150,0 $."
   ]
  },
  {
   "cell_type": "markdown",
   "metadata": {},
   "source": [
    "### Exercício 3\n",
    "\n",
    "Vamos considerar opções de compra com horizonte finito, que são mais comuns do que as\n",
    "variedade de horizonte infinito.\n",
    "\n",
    "As opções de horizonte finito obedecem a equações funcionais intimamente relacionadas a [(17)](#equation-feoption0).\n",
    "\n",
    "Uma opção de período de $ k $ expira após períodos de $ k $.\n",
    "\n",
    "Se considerarmos hoje a data zero, uma opção de período de $ k $ dará ao proprietário o direito de exercer a opção de comprar o console sem risco pelo preço de exercício $ p_S $ nas datas $ 0, 1, \\ldots, k-1 $.\n",
    "\n",
    "A opção expira no momento $ k $.\n",
    "\n",
    "Assim, para $ k = 1, 2, \\ldots $, seja $ w (x, k) $ o valor de uma opção de período $ k $.\n",
    "\n",
    "Obedece\n",
    "\n",
    "$$\n",
    "w(x, k)\n",
    "= \\max \\left\\{\n",
    "    \\beta \\sum_{y \\in S} P(x, y) g(y)^{-\\gamma}\n",
    "    w (y, k-1), \\;\n",
    "    p(x) - p_S\n",
    "\\right\\}\n",
    "$$\n",
    "\n",
    "onde $ w(x, 0) = 0 $ para todo $ x $.\n",
    "\n",
    "Podemos expressar o precedente como a sequência de equações vetoriais não lineares:\n",
    "\n",
    "$$\n",
    "w_k = \\max \\{ \\beta M w_{k-1}, \\; p - p_S {\\mathbb 1} \\}\n",
    "  \\quad k =1, 2, \\ldots\n",
    "  \\quad \\text{with } w_0 = 0\n",
    "$$\n",
    "\n",
    "Escreva uma função que calcule $ w_k $ para qualquer $ k $ fornecido.\n",
    "\n",
    "Calcule o valor da opção com `k = 5` e` k = 25` usando valores de parâmetro como no Exercício 1.\n",
    "\n",
    "Um é mais alto que o outro? Você pode dar intuição?"
   ]
  },
  {
   "cell_type": "markdown",
   "metadata": {},
   "source": [
    "## Soluções"
   ]
  },
  {
   "cell_type": "markdown",
   "metadata": {},
   "source": [
    "### Exercício 2"
   ]
  },
  {
   "cell_type": "code",
   "execution_count": 11,
   "metadata": {
    "hide-output": false
   },
   "outputs": [
    {
     "data": {
      "text/plain": [
       "150.0"
      ]
     },
     "execution_count": 11,
     "metadata": {},
     "output_type": "execute_result"
    }
   ],
   "source": [
    "n = 5\n",
    "P = fill(0.0125, n, n) + (0.95 - 0.0125)I\n",
    "s = [0.95, 0.975, 1.0, 1.025, 1.05]  # state values\n",
    "mc = MarkovChain(P, s)\n",
    "\n",
    "γ = 2.0\n",
    "β = 0.94\n",
    "ζ = 1.0\n",
    "p_s = 150.0"
   ]
  },
  {
   "cell_type": "markdown",
   "metadata": {},
   "source": [
    "Em seguida, criaremos uma instância do modelo de precificação de ativos para alimentar as funções."
   ]
  },
  {
   "cell_type": "code",
   "execution_count": 12,
   "metadata": {
    "hide-output": false
   },
   "outputs": [
    {
     "data": {
      "text/plain": [
       "(β = 0.94, γ = 2.0, mc = Discrete Markov Chain\n",
       "stochastic matrix of type Array{Float64,2}:\n",
       "[0.95 0.0125 … 0.0125 0.0125; 0.0125 0.95 … 0.0125 0.0125; … ; 0.0125 0.0125 … 0.95 0.0125; 0.0125 0.0125 … 0.0125 0.95], n = 5, g = getfield(Main, Symbol(\"##7#8\"))())"
      ]
     },
     "execution_count": 12,
     "metadata": {},
     "output_type": "execute_result"
    }
   ],
   "source": [
    "ap = AssetPriceModel(β = β, mc = mc, γ = γ, g = x -> x)"
   ]
  },
  {
   "cell_type": "code",
   "execution_count": 13,
   "metadata": {
    "hide-output": false
   },
   "outputs": [
    {
     "name": "stdout",
     "output_type": "stream",
     "text": [
      "Lucas Tree Prices: [29.474015777145; 21.935706611219704; 17.571422357262904; 14.725150017725884; 12.722217630644252]\n",
      "\n"
     ]
    }
   ],
   "source": [
    "v = tree_price(ap)\n",
    "println(\"Lucas Tree Prices: $v\\n\")"
   ]
  },
  {
   "cell_type": "code",
   "execution_count": 14,
   "metadata": {
    "hide-output": false
   },
   "outputs": [
    {
     "name": "stdout",
     "output_type": "stream",
     "text": [
      "Consol Bond Prices: [753.8710047641987; 242.55144081989457; 148.67554548466478; 109.25108965024712; 87.56860138531121]\n",
      "\n"
     ]
    }
   ],
   "source": [
    "v_consol = consol_price(ap, 1.0)\n",
    "println(\"Consol Bond Prices: $(v_consol)\\n\")"
   ]
  },
  {
   "cell_type": "code",
   "execution_count": 15,
   "metadata": {
    "hide-output": false
   },
   "outputs": [
    {
     "data": {
      "text/plain": [
       "5×1 Array{Float64,2}:\n",
       " 603.8710047641987 \n",
       " 176.839334301913  \n",
       " 108.67734499337003\n",
       "  80.05179254233045\n",
       "  64.30843748377002"
      ]
     },
     "execution_count": 15,
     "metadata": {},
     "output_type": "execute_result"
    }
   ],
   "source": [
    "w = call_option(ap, ζ, p_s)"
   ]
  },
  {
   "cell_type": "markdown",
   "metadata": {},
   "source": [
    "### Exercício 3\n",
    "\n",
    "Aqui está uma função adequada:"
   ]
  },
  {
   "cell_type": "code",
   "execution_count": 16,
   "metadata": {
    "hide-output": false
   },
   "outputs": [
    {
     "data": {
      "text/plain": [
       "finite_horizon_call_option (generic function with 1 method)"
      ]
     },
     "execution_count": 16,
     "metadata": {},
     "output_type": "execute_result"
    }
   ],
   "source": [
    "function finite_horizon_call_option(ap, ζ, p_s, k)\n",
    "\n",
    "    # Simplificar nomes, configurar matrizes\n",
    "    @unpack β, γ, mc = ap\n",
    "    P, y = mc.p, mc.state_values\n",
    "    y = y'\n",
    "    M = P .* ap.g.(y).^(- γ)\n",
    "\n",
    "    # Tenha certeza de que existe uma solução única\n",
    "    test_stability(ap, M)\n",
    "\n",
    "    # Computar o preço da opção\n",
    "    p = consol_price(ap, ζ)\n",
    "    w = zeros(ap.n, 1)\n",
    "    for i in 1:k\n",
    "        # Maximizar as colunas \n",
    "        w = max.(β * M * w, p .- p_s)\n",
    "    end\n",
    "\n",
    "    return w\n",
    "end"
   ]
  },
  {
   "cell_type": "code",
   "execution_count": 17,
   "metadata": {
    "hide-output": false
   },
   "outputs": [
    {
     "data": {
      "image/png": "[encoded data removed]"
     },
     "execution_count": 17,
     "metadata": {},
     "output_type": "execute_result"
    }
   ],
   "source": [
    "lines = []\n",
    "labels = []\n",
    "for k in [5, 25]\n",
    "    w = finite_horizon_call_option(ap, ζ, p_s, k)\n",
    "    push!(lines, w)\n",
    "    push!(labels, \"k = $k\")\n",
    "end\n",
    "plot(lines, labels = reshape(labels, 1, length(labels)))"
   ]
  },
  {
   "cell_type": "markdown",
   "metadata": {},
   "source": [
    "Não é de surpreender que a opção tenha maior valor com $ k $ maiores.\n",
    "Isso ocorre porque o proprietário tem um horizonte de tempo mais longo sobre o qual ele ou ela\n",
    "pode exercer a opção."
   ]
  }
 ],
 "metadata": {
  "date": 1572312786.5763974,
  "download_nb": 1,
  "download_nb_path": "https://julia.quantecon.org/",
  "filename": "markov_asset.rst",
  "filename_with_path": "multi_agent_models/markov_asset",
  "kernelspec": {
   "display_name": "Julia 1.3.1",
   "language": "julia",
   "name": "julia-1.3"
  },
  "language_info": {
   "file_extension": ".jl",
   "mimetype": "application/julia",
   "name": "julia",
   "version": "1.3.1"
  },
  "title": "Asset Pricing I: Finite State Models"
 },
 "nbformat": 4,
 "nbformat_minor": 4
}
