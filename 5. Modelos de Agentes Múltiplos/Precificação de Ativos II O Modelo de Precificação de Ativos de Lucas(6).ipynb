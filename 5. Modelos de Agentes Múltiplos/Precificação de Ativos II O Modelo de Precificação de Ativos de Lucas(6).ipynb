{
 "cells": [
  {
   "cell_type": "markdown",
   "metadata": {},
   "source": [
    "\n",
    "<a id='lucas-asset'></a>\n",
    "<div id=\"qe-notebook-header\" style=\"text-align:right;\">\n",
    "        <a href=\"https://quantecon.org/\" title=\"quantecon.org\">\n",
    "                <img style=\"width:250px;display:inline;\" src=\"https://assets.quantecon.org/img/qe-menubar-logo.svg\" alt=\"QuantEcon\">\n",
    "        </a>\n",
    "</div>"
   ]
  },
  {
   "cell_type": "markdown",
   "metadata": {},
   "source": [
    "# Precificação de Ativos II: O Modelo de Precificação de Ativos de Lucas\n",
    "\n",
    "\n",
    "<a id='index-0'></a>"
   ]
  },
  {
   "cell_type": "markdown",
   "metadata": {},
   "source": [
    "## Contéudo\n",
    "\n",
    "- [Precificação de Ativos II: O Modelo de Precificação de Ativos de Lucas](#Precificação-de-Ativos-II:-O-Modelo-de-Precificação-de-Ativos-de-Lucas)  \n",
    "  - [Resumo](#Resumo)  \n",
    "  - [O Modelo de Lucas](#O-Modelo-de-Lucas)  \n",
    "  - [Exercícos](#Exercícios)  \n",
    "  - [Soluções](#Soluções)  "
   ]
  },
  {
   "cell_type": "markdown",
   "metadata": {},
   "source": [
    "> *Devidamente traduzido, revisado e adaptado do [QuantEcon](https://quantecon.org/) pelos bolsistas CNPq Pedro Luiz H. Furtado e Jonas Aragão M. Corpes, sob a supervisão do Prof. Christiano Penna, do CAEN/UFC."
   ]
  },
  {
   "cell_type": "markdown",
   "metadata": {},
   "source": [
    "## Resumo\n",
    "\n",
    "Como afirmado em uma [aula anterior](https://julia.quantecon.org/markov_asset.html), um ativo é uma direito sobre um fluxo de pagamentos em potencial.\n",
    "\n",
    "Qual é o preço correto a pagar por tal direito?\n",
    "\n",
    "O modelo elegante de precificação de ativos de Lucas [[Luc78]](https://julia.quantecon.org/../zreferences.html#lucas1978) tenta responder a essa pergunta em um ambiente de equilíbrio com agentes avessos ao risco.\n",
    "\n",
    "Embora tenhamos mencionado algumas consequências do modelo de Lucas [anteriormente](https://julia.quantecon.org/markov_asset.html#mass-pra), é hora de trabalhar o modelo com mais cuidado e tentar entender de onde vem a equação fundamental de precificação de ativos.\n",
    "\n",
    "Um benefício colateral do estudo do modelo de Lucas é que ele fornece uma bela ilustração da construção de modelos em geral e da precificação de equilíbrio em modelos competitivos em particular.\n",
    "\n",
    "Outra diferença em nossa [primeira aula de precificação de ativos](https://julia.quantecon.org/markov_asset.html) é que o espaço de estado e o choque serão contínuos e não discretos."
   ]
  },
  {
   "cell_type": "markdown",
   "metadata": {},
   "source": [
    "## O Modelo de Lucas\n",
    "\n",
    "\n",
    "<a id='index-1'></a>\n",
    "Lucas estudou uma economia de troca pura com um consumidor representativo (ou família), onde:\n",
    "\n",
    "- *Troca pura* significa que todas as dotações são exógenas.  \n",
    "- Consumidor *representavo* significa que:\n",
    "  \n",
    "  - existe um único consumidor (às vezes também chamado de família), ou \n",
    "  - todos os consumidores têm dotações e preferências idênticas \n",
    "  \n",
    "\n",
    "\n",
    "De qualquer maneira, a suposição de um agente representativo significa que os preços se ajustam para erradicar os desejos de comércio.\n",
    "\n",
    "Isso facilita a computação de preços de equilíbrio competitivo."
   ]
  },
  {
   "cell_type": "markdown",
   "metadata": {},
   "source": [
    "### Configuração Básica\n",
    "\n",
    "Vamos revisar a configuração."
   ]
  },
  {
   "cell_type": "markdown",
   "metadata": {},
   "source": [
    "#### Ativos\n",
    "\n",
    "\n",
    "<a id='index-2'></a>\n",
    "Existe uma única “unidade produtiva” que gera uma sequência sem custo de bens de consumo  $ \\{y_t\\}_{t=0}^{\\infty} $.\n",
    "\n",
    "Outra maneira de ver $ \\{y_t\\}_{t=0}^{\\infty} $ é como uma *dotação de consumo* para essa economia.\n",
    "\n",
    "Assumiremos que essa dotação é Markoviana, seguindo o processo exógeno:\n",
    "\n",
    "$$\n",
    "y_{t+1} = G(y_t, \\xi_{t+1})\n",
    "$$\n",
    "\n",
    "Aqui $ \\{ \\xi_t \\} $ é um sequência de choque iid com distribuição conhecida $ \\phi $ e $ y_t \\geq 0 $.\n",
    "\n",
    "Um ativo é um direito de todo ou parte desse fluxo de dotação.\n",
    "\n",
    "Os bens de consumo $ \\{y_t\\}_{t=0}^{\\infty} $ não são estocáveis, portanto, manter ativos é a única maneira de transferir riqueza para o futuro.\n",
    "\n",
    "Para fins de intuição, é comum pensar na unidade produtiva como uma “árvore” que produz frutos.\n",
    "\n",
    "Com base nessa idéia, uma “árvore de Lucas” é um direito sobre a dotação de consumo."
   ]
  },
  {
   "cell_type": "markdown",
   "metadata": {},
   "source": [
    "#### Consumidores\n",
    "\n",
    "\n",
    "<a id='index-3'></a>\n",
    "Um consumidor representativo classifica os fluxos de consumo $ \\{c_t\\} $ de acordo com a utilidade funcional separável no tempo\n",
    "\n",
    "\n",
    "<a id='equation-lt-uf'></a>\n",
    "$$\n",
    "\\mathbb{E} \\sum_{t=0}^\\infty \\beta^t u(c_t) \\tag{1}\n",
    "$$\n",
    "\n",
    "aqui:\n",
    "\n",
    "- $ \\beta \\in (0,1) $ é um fator de desconto fixado\n",
    "- $ u $ é estritamente crescente, estritamente côncava, função de utilidade de período continuamente diferenciável \n",
    "- $ \\mathbb{E} $ é uma expectativa matemática"
   ]
  },
  {
   "cell_type": "markdown",
   "metadata": {},
   "source": [
    "### Precificando uma Árvore de Lucas\n",
    "\n",
    "\n",
    "<a id='index-4'></a>\n",
    "Qual é o preço adequado para um direito sobre a dotação de consumo?\n",
    "\n",
    "Precificaremos o direito como *ex dividend*, significando que:\n",
    "\n",
    "- o vendedor retém o dividendo deste período\n",
    "- O comprador paga $ p_t $ hoje, para comprar o direito em:  \n",
    "  \n",
    "  - $ y_{t+1} $ e  \n",
    "  - o direito de vender a ativo amanhã a preço $ p_{t+1} $  \n",
    "  \n",
    "\n",
    "\n",
    "Por se tratar de um modelo competitivo, o primeiro passo é definir o comportamento do consumidor, considerando os preços.\n",
    "\n",
    "Em seguida, imporemos restrições de equilíbrio e tentaremos voltar atrás.\n",
    "\n",
    "No problema do consumidor, a variável de controle do consumidor é o compartilhamento $ \\pi_t $ do direito realizada em cada período.\n",
    "\n",
    "Assim, o problema do consumidor é maximizar [(1)](#equation-lt-uf) sujeito a:\n",
    "\n",
    "$$\n",
    "c_t + \\pi_{t+1} p_t \\leq \\pi_t y_t + \\pi_t p_t\n",
    "$$\n",
    "\n",
    "junto com $ c_t \\geq 0 $ e $ 0 \\leq \\pi_t \\leq 1 $ em cada $ t $.\n",
    "\n",
    "A decisão de manter a ação $ \\pi_t $ é realmente feito no momento  $ t-1 $.\n",
    "\n",
    "Mas esse valor é herdado como uma variável de estado no tempo $ t $, o que explica a escolha do subscrito."
   ]
  },
  {
   "cell_type": "markdown",
   "metadata": {},
   "source": [
    "#### A programação dinâmica\n",
    "\n",
    "\n",
    "<a id='index-5'></a>\n",
    "Podemos escrever o problema do consumidor como um problema de programação dinâmica.\n",
    "\n",
    "Nossa primeira observação é que os preços dependem das informações atuais, e as informações atuais são realmente apenas o processo de dotação até o período atual.\n",
    "\n",
    "De fato, o processo de dotação é markoviano, de modo que a única informação relevante é o estado atual $ y \\in \\mathbb R_+ $ (descartando o tempo no subscrito).\n",
    "\n",
    "Isso nos leva a supor um equilíbrio em que o preço é uma função $ p $ de $ y $.\n",
    "\n",
    "Comentários sobre o método da solução:\n",
    "\n",
    "- Como este é um modelo competitivo (leia: tomada de preço), o consumidor assumirá essa função $ p $ como.  \n",
    "- Dessa maneira podemos determinar o comportamento do consumidor dado $ p $ e então usar as condições de equilíbrio para recuperar $ p $.  \n",
    "- Essa é a maneira padrão para resolver problemas que envolvem modelos de equilíbrio competitivo.\n",
    "\n",
    "\n",
    "Usando a suposição de que preço é uma função dada $ p $ de $ y $, escrevemos a função de valor e a restrição como:\n",
    "\n",
    "$$\n",
    "v(\\pi, y) = \\max_{c, \\pi'}\n",
    "    \\left\\{\n",
    "        u(c) + \\beta \\int v(\\pi', G(y, z)) \\phi(dz)\n",
    "    \\right\\}\n",
    "$$\n",
    "\n",
    "sujeito a\n",
    "\n",
    "\n",
    "<a id='equation-preltbe'></a>\n",
    "$$\n",
    "c + \\pi' p(y) \\leq \\pi y + \\pi p(y) \\tag{2}\n",
    "$$\n",
    "\n",
    "Podemos invocar o fato de que a utilidade está aumentando para reivindicar igualdade em [(2)](#equation-preltbe) e, portanto, eliminar a restrição, obtendo\n",
    "\n",
    "\n",
    "<a id='equation-ltbe'></a>\n",
    "$$\n",
    "v(\\pi, y) = \\max_{\\pi'}\n",
    "    \\left\\{\n",
    "        u[\\pi (y + p(y)) - \\pi' p(y) ] + \\beta \\int v(\\pi', G(y, z)) \\phi(dz)\n",
    "    \\right\\} \\tag{3}\n",
    "$$\n",
    "\n",
    "A solução para esse problema de programação dinâmica é uma política ótima que expressa $ \\pi' $ ou $ c $ como uma função do estado $ (\\pi, y) $.\n",
    "\n",
    "- Cada uma determina a outra, de modo que $ c(\\pi, y) = \\pi (y + p(y))- \\pi' (\\pi, y) p(y) $.  "
   ]
  },
  {
   "cell_type": "markdown",
   "metadata": {},
   "source": [
    "#### Próximos pasos\n",
    "\n",
    "O que precisamos fazer agora é determinar os preços de equilíbrio.\n",
    "\n",
    "Parece que, para obtê-los, teremos que:\n",
    "\n",
    "1. Resolver esse problema de programação dinâmica bidimensional para a política ideal.  \n",
    "1. Impor restrições de equilíbrio..  \n",
    "1. Resolver a função preço $ p(y) $ diretamente.  \n",
    "\n",
    "\n",
    "No entanto, como mostrado por Lucas, existe uma maneira relatada mas mais certa para fazer isso."
   ]
  },
  {
   "cell_type": "markdown",
   "metadata": {},
   "source": [
    "#### Restrições de equilibrio\n",
    "\n",
    "\n",
    "<a id='index-6'></a>\n",
    "Como o bem de consumo não é armazenável, em equilíbrio, devemos ter $ c_t = y_t $ para todos $ t $.\n",
    "\n",
    "Além disso, como existe um consumidor representativo (como todos os consumidores são idênticos), não deve haver comércio em equilíbrio.\n",
    "\n",
    "Em particular, o consumidor representativo possui a árvore inteira em todos os períodos, então $ \\pi_t = 1 $ para $ t $.\n",
    "\n",
    "Os preços devem se ajustar para satisfazer essas duas restrições."
   ]
  },
  {
   "cell_type": "markdown",
   "metadata": {},
   "source": [
    "#### A função de preço de equilíbrio\n",
    "\n",
    "\n",
    "<a id='index-7'></a>\n",
    "Agora observe que as condições de primeira ordem para [(3)](#equation-ltbe) podem ser escritas como:\n",
    "\n",
    "$$\n",
    "u'(c)  p(y) = \\beta \\int v_1'(\\pi', G(y, z)) \\phi(dz)\n",
    "$$\n",
    "\n",
    "onde $ v'_1 $ é a derivada de $ v $ com respeito a seu primeiro argumento.\n",
    "\n",
    "Para obter $ v'_1 $ podemos simplesmente diferenciar o lado direito de\n",
    "[(3)](#equation-ltbe) com respeito a $ \\pi $, produzindo\n",
    "\n",
    "$$\n",
    "v'_1(\\pi, y) = u'(c) (y + p(y))\n",
    "$$\n",
    "\n",
    "Após isso impomos as restrições de equilíbrio  ao combinar as duas últimas equações para obter:\n",
    "\n",
    "\n",
    "<a id='equation-lteeq'></a>\n",
    "$$\n",
    "p(y)  = \\beta \\int \\frac{u'[G(y, z)]}{u'(y)} [G(y, z) + p(G(y, z))]  \\phi(dz) \\tag{4}\n",
    "$$\n",
    "\n",
    "Em notação sequencial e não funcional, também podemos escrever isso como:\n",
    "\n",
    "\n",
    "<a id='equation-lteeqs'></a>\n",
    "$$\n",
    "p_t = \\mathbb{E}_t \\left[ \\beta \\frac{u'(c_{t+1})}{u'(c_t)} ( y_{t+1} + p_{t+1} ) \\right] \\tag{5}\n",
    "$$\n",
    "\n",
    "Esta é a famosa equação de precificação de ativos baseada no consumo.\n",
    "\n",
    "Antes de discutir mais, queremos resolver os preços."
   ]
  },
  {
   "cell_type": "markdown",
   "metadata": {},
   "source": [
    "### Resolvendo o Modelo\n",
    "\n",
    "\n",
    "<a id='index-8'></a>\n",
    "A equação [(4)](#equation-lteeq) é uma *equação funcional* em uma função desconhecida $ p $.\n",
    "\n",
    "A solução é uma função de preço de equílibiro $ p^* $.\n",
    "\n",
    "Vamos ver como obtê-la."
   ]
  },
  {
   "cell_type": "markdown",
   "metadata": {},
   "source": [
    "#### Configurando o problema\n",
    "\n",
    "Em vez de resolver diretamente, seguiremos a abordagem indireta de Lucas, primeiro:\n",
    "\n",
    "\n",
    "<a id='equation-ltffp'></a>\n",
    "$$\n",
    "f(y) := u'(y) p(y) \\tag{6}\n",
    "$$\n",
    "\n",
    "para que [(4)](#equation-lteeq) se torne\n",
    "\n",
    "\n",
    "<a id='equation-lteeq2'></a>\n",
    "$$\n",
    "f(y) = h(y) + \\beta \\int f[G(y, z)] \\phi(dz) \\tag{7}\n",
    "$$\n",
    "\n",
    "Aqui $ h(y) := \\beta \\int u'[G(y, z)] G(y, z)  \\phi(dz) $ é uma função que depende apenas das primitivas.\n",
    "\n",
    "A equação [(7)](#equation-lteeq2) é uma equação funcional em $ f $.\n",
    "\n",
    "O plano é resolver para $ f $ e converter de volta para $ p $ via [(6)](#equation-ltffp).\n",
    "\n",
    "Para resolver [(7)](#equation-lteeq2) usaremos um método padrão: converta-o em um problema de ponto fixo.\n",
    "\n",
    "Primeiro introduzimos o operador $ T $ mapeando $ f $ para $ Tf $ como definido por:\n",
    "\n",
    "\n",
    "<a id='equation-lteeqt'></a>\n",
    "$$\n",
    "(Tf)(y) = h(y) + \\beta \\int f[G(y, z)] \\phi(dz) \\tag{8}\n",
    "$$\n",
    "\n",
    "A razão pela qual fazemos isso é que uma solução para [(7)](#equation-lteeq2) agora corresponde a função $ f^* $ satisfazendo $ (Tf^*)(y) = f^*(y) $ para todo $ y $.\n",
    "\n",
    "Em outras palavras, uma solução é um *ponto fixo* de $ T $.\n",
    "\n",
    "Isso significa que podemos usar a teoria do ponto fixo para obter e calcular a solução."
   ]
  },
  {
   "cell_type": "markdown",
   "metadata": {},
   "source": [
    "#### Um pouco de teoria do ponto fixo\n",
    "\n",
    "\n",
    "<a id='index-9'></a>\n",
    "Seja $ cb\\mathbb{R}_+ $ seja o conjunto de funções limitadas contínuas $ f \\colon \\mathbb{R}_+ \\to \\mathbb{R}_+ $.\n",
    "\n",
    "Agora mostramos que:\n",
    "\n",
    "1. $ T $ tem exatamente um ponto fixo $ f^* $ em $ cb\\mathbb{R}_+ $.  \n",
    "1. Para qualquer $ f \\in cb\\mathbb{R}_+ $, a sequência $ T^k f $ converge uniformemente a  $ f^* $.  \n",
    "\n",
    "\n",
    "(Note: Se você achar que a matemática é pesada, pode pegar 1–2 conforme indicado e pular para a [próxima seção](#lt-comp-eg))\n",
    "\n",
    "Lembre-se do [teorema do mapeamento da contração de Banach](https://en.wikipedia.org/wiki/Banach_fixed-point_theorem).\n",
    "\n",
    "Diz-nos que as afirmações anteriores serão verdadeiras se pudermos encontrar um \n",
    "$ \\alpha < 1 $ de modo que:\n",
    "\n",
    "\n",
    "<a id='equation-ltbc'></a>\n",
    "$$\n",
    "\\| Tf - Tg \\| \\leq \\alpha \\| f - g \\|,\n",
    "\\qquad \\forall \\, f, g \\in cb\\mathbb{R}_+ \\tag{9}\n",
    "$$\n",
    "\n",
    "Aqui $ \\|h\\| := \\sup_{x \\in \\mathbb{R}_+} |h(x)| $.\n",
    "\n",
    "Para ver que [(9)](#equation-ltbc) é válido, escolha qualquer $ f,g \\in cb\\mathbb{R}_+ $ e qualquer $ y \\in \\mathbb{R}_+ $.\n",
    "\n",
    "Observe que, integrais aumentam quando os valores absolutos são movidos para o interior,\n",
    "\n",
    "$$\n",
    "\\begin{aligned}\n",
    "    |Tf(y) - Tg(y)|\n",
    "    & = \\left| \\beta \\int f[G(y, z)] \\phi(dz)\n",
    "        -  \\beta \\int g[G(y, z)] \\phi(dz) \\right|\n",
    "    \\\\\n",
    "    & \\leq \\beta \\int \\left| f[G(y, z)] -  g[G(y, z)] \\right| \\phi(dz)\n",
    "    \\\\\n",
    "    & \\leq \\beta \\int \\| f -  g \\| \\phi(dz)\n",
    "    \\\\\n",
    "    & = \\beta  \\| f -  g \\|\n",
    "\\end{aligned}\n",
    "$$\n",
    "\n",
    "De modo que o lado direito é um limite superior, assumindo o sup sobre todos os $ y $\n",
    "no lado esquerdo temos [(9)](#equation-ltbc) com $ \\alpha := \\beta $.\n",
    "\n",
    "\n",
    "<a id='lt-comp-eg'></a>"
   ]
  },
  {
   "cell_type": "markdown",
   "metadata": {},
   "source": [
    "### Computação – Um exemplo\n",
    "\n",
    "\n",
    "<a id='index-10'></a>\n",
    "A discussão anterior diz que podemos calcular $ f^* $ escolhendo qualquer  $ f \\in cb\\mathbb{R}_+ $ e então iterando com $ T $.\n",
    "\n",
    "A função preço de equilíbrio $ p^* $ pode ser recuperada por $ p^*(y) = f^*(y) / u'(y) $.\n",
    "\n",
    "Vamos tentar isso quando $ \\ln y_{t+1} = \\alpha \\ln y_t + \\sigma \\epsilon_{t+1} $ onde $ \\{\\epsilon_t\\} $ é iid e padrão normal.\n",
    "\n",
    "A utilidade assumirá a forma isoelástica  $ u(c) = c^{1-\\gamma}/(1-\\gamma) $, onde $ \\gamma > 0 $ é o coeficiente de aversão ao risco relativa.\n",
    "\n",
    "Alguns códigos para implementar o procedimento computacional iterativo podem ser encontrados abaixo:"
   ]
  },
  {
   "cell_type": "markdown",
   "metadata": {},
   "source": [
    "### Configuração"
   ]
  },
  {
   "cell_type": "code",
   "execution_count": 1,
   "metadata": {
    "hide-output": true
   },
   "outputs": [],
   "source": [
    "using InstantiateFromURL\n",
    "github_project(\"QuantEcon/quantecon-notebooks-julia\", version = \"0.5.0\")\n",
    "# github_project(\"QuantEcon/quantecon-notebooks-julia\", version = \"0.5.0\", instantiate = true) # uncomment to force package installation"
   ]
  },
  {
   "cell_type": "code",
   "execution_count": 2,
   "metadata": {
    "hide-output": false
   },
   "outputs": [],
   "source": [
    "using LinearAlgebra, Statistics\n",
    "using Distributions, Interpolations, Parameters, Plots, QuantEcon, Random\n",
    "gr(fmt = :png);"
   ]
  },
  {
   "cell_type": "code",
   "execution_count": 3,
   "metadata": {
    "hide-output": false
   },
   "outputs": [
    {
     "data": {
      "text/plain": [
       "solve_lucas_model (generic function with 1 method)"
      ]
     },
     "execution_count": 3,
     "metadata": {},
     "output_type": "execute_result"
    }
   ],
   "source": [
    "# modelo\n",
    "function LucasTree(;γ = 2.0,\n",
    "                    β = 0.95,\n",
    "                    α = 0.9,\n",
    "                    σ = 0.1,\n",
    "                    grid_size = 100)\n",
    "\n",
    "    ϕ = LogNormal(0.0, σ)\n",
    "    shocks = rand(ϕ, 500)\n",
    "\n",
    "    # construa um grid com massa em torno da distribuição estacionária \n",
    "    ssd = σ / sqrt(1 - α^2)\n",
    "    grid_min, grid_max = exp(-4ssd), exp(4ssd)\n",
    "    grid = range(grid_min, grid_max, length = grid_size)\n",
    "\n",
    "    # defina h(y) = β * int u'(G(y,z)) G(y,z) ϕ(dz)\n",
    "    h = similar(grid)\n",
    "    for (i, y) in enumerate(grid)\n",
    "        h[i] = β * mean((y^α .* shocks).^(1 - γ))\n",
    "    end\n",
    "\n",
    "    return (γ = γ, β = β, α = α, σ = σ, ϕ = ϕ, grid = grid, shocks = shocks, h = h)\n",
    "end\n",
    "\n",
    "# aproxima o operador de Lucas, que retorna a função atualizada Tf na \n",
    "function lucas_operator(lt, f)\n",
    "\n",
    "    # unpack entrada\n",
    "    @unpack grid, α, β, h = lt\n",
    "    z = lt.shocks\n",
    "\n",
    "    Af = LinearInterpolation(grid, f, extrapolation_bc=Line())\n",
    "\n",
    "    Tf = [ h[i] + β * mean(Af.(grid[i]^α .* z)) for i in 1:length(grid) ]\n",
    "    return Tf\n",
    "end\n",
    "\n",
    "# obtendo o preço de equilíbrio para a árvore de lucas\n",
    "function solve_lucas_model(lt;\n",
    "                           tol = 1e-6,\n",
    "                           max_iter = 500)\n",
    "\n",
    "    @unpack grid, γ = lt\n",
    "\n",
    "    i = 0\n",
    "    f = zero(grid)  # Subosição inicial de f\n",
    "    error = tol + 1\n",
    "\n",
    "    while (error > tol) && (i < max_iter)\n",
    "        f_new = lucas_operator(lt, f)\n",
    "        error = maximum(abs, f_new - f)\n",
    "        f = f_new\n",
    "        i += 1\n",
    "    end\n",
    "\n",
    "    # p(y) = f(y) * y ^ γ\n",
    "    price = f .* grid.^γ\n",
    "\n",
    "    return price\n",
    "end"
   ]
  },
  {
   "cell_type": "markdown",
   "metadata": {},
   "source": [
    "Um exemplo de uso é fornecido na documentação e repetido aqui."
   ]
  },
  {
   "cell_type": "code",
   "execution_count": 4,
   "metadata": {
    "hide-output": false
   },
   "outputs": [],
   "source": [
    "Random.seed!(42) # Para resultados reproduzíveis.\n",
    "\n",
    "tree = LucasTree(γ = 2.0, β = 0.95, α = 0.90, σ = 0.1)\n",
    "price_vals = solve_lucas_model(tree);"
   ]
  },
  {
   "cell_type": "markdown",
   "metadata": {},
   "source": [
    "Aqui está o resultado da função preço."
   ]
  },
  {
   "cell_type": "code",
   "execution_count": 5,
   "metadata": {
    "hide-output": false
   },
   "outputs": [
    {
     "data": {
      "image/png": "[encoded data removed]"
     },
     "execution_count": 5,
     "metadata": {},
     "output_type": "execute_result"
    }
   ],
   "source": [
    "plot(tree.grid, price_vals, lw = 2, label = \"p*(y)\")\n",
    "plot!(xlabel = \"y\", ylabel = \"price\", legend = :topleft)"
   ]
  },
  {
   "attachments": {},
   "cell_type": "markdown",
   "metadata": {},
   "source": [
    "O preço está aumentando, mesmo se removermos toda a correlação serial do processo de dotação.\n",
    "\n",
    "A razão é que uma maior dotação atual reduz a utilidade marginal atual.\n",
    "\n",
    "Portanto, o preço deve subir para induzir a família a consumir toda a dotação (e, portanto, satisfazer a restrição de recursos).\n",
    "\n",
    "O que acontece com um consumidor mais paciente?\n",
    "\n",
    "Aqui a linha laranja corresponde aos parâmetros anteriores e a linha verde é o preço quando  $ \\beta = 0.98 $.\n",
    "\n",
    "<a id='mass-lt-cb'></a>\n",
    "\n",
    "<img src=\"https://julia.quantecon.org/multi_agent_models/_static/figures/solution_mass_ex2.png\" style=\"width:70%;\">\n",
    "\n",
    "  \n",
    "Vemos que, quando os consumidores são mais pacientes, o ativo se torna mais valioso e o preço da árvore de Lucas aumenta.\n",
    "\n",
    "O Exercício 1 pede para você replicar esta figura."
   ]
  },
  {
   "cell_type": "markdown",
   "metadata": {},
   "source": [
    "## Exercícios\n",
    "\n",
    "<a id='lucas-asset-ex1'></a>"
   ]
  },
  {
   "cell_type": "markdown",
   "metadata": {},
   "source": [
    "### Exercício 1\n",
    "\n",
    "Replique [a figura](#mass-lt-cb) para mostrar como as taxas de desconto afetam os preços."
   ]
  },
  {
   "cell_type": "markdown",
   "metadata": {},
   "source": [
    "## Soluções"
   ]
  },
  {
   "cell_type": "code",
   "execution_count": 6,
   "metadata": {
    "hide-output": false
   },
   "outputs": [
    {
     "data": {
      "image/png": "[encoded data removed]"
     },
     "execution_count": 6,
     "metadata": {},
     "output_type": "execute_result"
    }
   ],
   "source": [
    "plot()\n",
    "for β in (.95, 0.98)\n",
    "    tree = LucasTree(;β = β)\n",
    "    grid = tree.grid\n",
    "    price_vals = solve_lucas_model(tree)\n",
    "    plot!(grid, price_vals, lw = 2, label = \"beta = beta_var\")\n",
    "end\n",
    "\n",
    "plot!(xlabel = \"y\", ylabel = \"price\", legend = :topleft)"
   ]
  }
 ],
 "metadata": {
  "date": 1572312786.4306061,
  "download_nb": 1,
  "download_nb_path": "https://julia.quantecon.org/",
  "filename": "lucas_model.rst",
  "filename_with_path": "multi_agent_models/lucas_model",
  "kernelspec": {
   "display_name": "Julia 1.3.1",
   "language": "julia",
   "name": "julia-1.3"
  },
  "language_info": {
   "file_extension": ".jl",
   "mimetype": "application/julia",
   "name": "julia",
   "version": "1.3.1"
  },
  "title": "Asset Pricing II: The Lucas Asset Pricing Model"
 },
 "nbformat": 4,
 "nbformat_minor": 4
}
