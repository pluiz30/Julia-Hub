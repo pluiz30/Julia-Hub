{
 "cells": [
  {
   "cell_type": "markdown",
   "metadata": {},
   "source": [
    "\n",
    "<a id='markov-perf'></a>\n",
    "<div id=\"qe-notebook-header\" style=\"text-align:right;\">\n",
    "        <a href=\"https://quantecon.org/\" title=\"quantecon.org\">\n",
    "                <img style=\"width:250px;display:inline;\" src=\"https://assets.quantecon.org/img/qe-menubar-logo.svg\" alt=\"QuantEcon\">\n",
    "        </a>\n",
    "</div>"
   ]
  },
  {
   "cell_type": "markdown",
   "metadata": {},
   "source": [
    "# Equilíbrio Perfeito de Markov\n",
    "\n",
    "\n",
    "<a id='index-0'></a>"
   ]
  },
  {
   "cell_type": "markdown",
   "metadata": {},
   "source": [
    "## Conteúdo\n",
    "\n",
    "- [Equilíbrio Perfeito de Markov](#Equilíbrio-Perfeito-de-Markov)  \n",
    "  - [Resumo](#Resumo)  \n",
    "  - [Base](#Base)  \n",
    "  - [Equilíbrio Perfeito Linear de Markov](#Equilíbrio-Perfeito-Linear-de-Markov)  \n",
    "  - [Aplicação](#Aplicação)  \n",
    "  - [Exercícios](#Exercícios)  \n",
    "  - [Soluções](#Soluções)  "
   ]
  },
  {
   "cell_type": "markdown",
   "metadata": {},
   "source": [
    "> *Devidamente traduzido, revisado e adaptado do [QuantEcon](https://quantecon.org/) pelos bolsistas CNPq Pedro Luiz H. Furtado e Jonas Aragão M. Corpes, sob a supervisão do Prof. Christiano Penna, do CAEN/UFC."
   ]
  },
  {
   "cell_type": "markdown",
   "metadata": {},
   "source": [
    "## Resumo\n",
    "\n",
    "\n",
    "<a id='index-1'></a>\n",
    "Essa aula descreve o conceito de equilíbrio perfeito de Markov.\n",
    "\n",
    "O equilíbrio perfeito de Markov é uma noção chave para análises de problemas econômicos que envolvem interação estratégica dinâmica, e uma pedra angular da teoria dos jogos aplicada.\n",
    "\n",
    "Nesta aula, ensinamos o equilíbrio perfeito de Markov por exemplo.\n",
    "\n",
    "Vamos nos concentrar nas configurações com:\n",
    "\n",
    "- dois jogadores  \n",
    "- funções quadráticas de *payoffs*  \n",
    "- egras de transição lineares para o estado \n",
    "\n",
    "\n",
    "Outras referências incluem o capítulo 7 de [[LS18]](https://julia.quantecon.org/../zreferences.html#ljungqvist2012)."
   ]
  },
  {
   "cell_type": "markdown",
   "metadata": {},
   "source": [
    "### Configuração"
   ]
  },
  {
   "cell_type": "code",
   "execution_count": 1,
   "metadata": {
    "hide-output": true
   },
   "outputs": [],
   "source": [
    "using InstantiateFromURL\n",
    "github_project(\"QuantEcon/quantecon-notebooks-julia\", version = \"0.5.0\")\n",
    "# github_project(\"QuantEcon/quantecon-notebooks-julia\", version = \"0.5.0\", instantiate = true) # uncomment to force package installation"
   ]
  },
  {
   "cell_type": "code",
   "execution_count": 2,
   "metadata": {
    "hide-output": false
   },
   "outputs": [],
   "source": [
    "using LinearAlgebra, Statistics, QuantEcon"
   ]
  },
  {
   "cell_type": "markdown",
   "metadata": {},
   "source": [
    "## Base\n",
    "\n",
    "\n",
    "<a id='index-2'></a>\n",
    "O equilíbrio perfeito de Markov é um refinamento do conceito de equilíbrio de Nash.\n",
    "\n",
    "É usado para estudar configurações nas quais vários tomadores de decisão interagem de maneira não cooperativa ao longo do tempo, cada um buscando seu próprio objetivo.\n",
    "\n",
    "Os agentes no modelo enfrentam um vetor de estado comum, cuja trajetória temporal é influenciada por - e influencia - suas decisões.\n",
    "\n",
    "Em particular, a lei de transição para o estado que confronta cada agente é afetada pelas regras de decisão de outros agentes.\n",
    "\n",
    "A maximização do *payoff* individual exige que cada agente resolva um problema de programação dinâmica que inclua essa lei de transição.\n",
    "\n",
    "O equilíbrio perfeito de Markov prevalece quando nenhum agente deseja revisar sua política, considerando as políticas de todos os outros agentes.\n",
    "\n",
    "Exemplos bem conhecidos incluem:\n",
    "\n",
    "- Escolha de preço, produto, locação ou capacidade das firmas em uma indústria (por exemplo, [[EP95]](https://julia.quantecon.org/../zreferences.html#ericson1995markov), [[Rya12]](https://julia.quantecon.org/../zreferences.html#ryan2012costs), [[DS10]](https://julia.quantecon.org/../zreferences.html#doraszelski2010computable)).  \n",
    "- Taxa de extração de um recurso natural compartilhado, como uma pescaria (por exemplo, [[LM80]](https://julia.quantecon.org/../zreferences.html#levhari1980great), [[VL11]](https://julia.quantecon.org/../zreferences.html#van2011dynamic)).  \n",
    "\n",
    "\n",
    "Vamos examinar um modelo do primeiro tipo."
   ]
  },
  {
   "cell_type": "markdown",
   "metadata": {},
   "source": [
    "### Exemplo:  Um modelo de duopólio\n",
    "\n",
    "Duas empresas são os únicos produtores de um bem, cuja demanda é governada por uma função de demanda inversa linear:\n",
    "\n",
    "\n",
    "<a id='equation-game2'></a>\n",
    "$$\n",
    "p = a_0 - a_1 (q_1 +  q_2) \\tag{1}\n",
    "$$\n",
    "\n",
    "Aqui $ p = p_t $ é o preço do bem, $ q_i = q_{it} $ é o produto da firma $ i=1,2 $ no período $ t $ e $ a_0 > 0, a_1 >0 $.\n",
    "\n",
    "Em [(1)](#equation-game2) e no seguinte,\n",
    "\n",
    "- o subscrito tempo é suprimido, quando possível, para simplificar a notação  \n",
    "- $ \\hat x $ denota um valor do próximo período da variável $ x $  \n",
    "\n",
    "\n",
    "Cada empresa reconhece que sua produção afeta a produção total e, portanto, o preço de mercado.\n",
    "\n",
    "A função de pagamento de um período da empresa $ i $ é o preço vezes a quantidade menos custos de ajuste:\n",
    "\n",
    "<a id='equation-game1'></a>\n",
    "$$\n",
    "\\pi_i = p q_i - \\gamma (\\hat q_i - q_i)^2, \\quad \\gamma > 0 , \\tag{2}\n",
    "$$\n",
    "\n",
    "Substituindo a curva de demanda inversa [(1)](#equation-game2) em [(2)](#equation-game1) permite expressar o *payoff* de um período como:\n",
    "\n",
    "\n",
    "<a id='equation-game3'></a>\n",
    "$$\n",
    "\\pi_i(q_i, q_{-i}, \\hat q_i) = a_0 q_i - a_1 q_i^2 - a_1 q_i q_{-i} - \\gamma (\\hat q_i - q_i)^2 , \\tag{3}\n",
    "$$\n",
    "\n",
    "onde $ q_{-i} $ denota a produção da firma que não seja $ i $.\n",
    "\n",
    "O objetivo da firma é maximizar $ \\sum_{t=0}^\\infty \\beta^t \\pi_{it} $.\n",
    "\n",
    "A firma $ i $ escolhe uma regra de decisão que define a quantidade para o próximo período $ \\hat q_i $ como uma função $ f_i $ do estado atual $ (q_i, q_{-i}) $.\n",
    "\n",
    "Um aspecto essencial de um equilíbrio perfeito de Markov é que cada empresa adota a regra de decisão da outra empresa como conhecida e dada.\n",
    "\n",
    "Dado $ f_{-i} $, a equação de Bellman da firma $ i $ é:\n",
    "\n",
    "\n",
    "<a id='equation-game4'></a>\n",
    "$$\n",
    "v_i(q_i, q_{-i}) = \\max_{\\hat q_i}\n",
    "   \\left\\{\\pi_i (q_i, q_{-i}, \\hat q_i) + \\beta v_i(\\hat q_i, f_{-i}(q_{-i}, q_i)) \\right\\} \\tag{4}\n",
    "$$\n",
    "\n",
    "**Definição**  Um *equilíbrio perfeito de Markov* de um modelo de duopólio é um par das funções de valor $ (v_1, v_2) $ e um par das funções de políticas $ (f_1, f_2) $ de modo que, para cada $ i \\in \\{1, 2\\} $ e cada possível estado,\n",
    "\n",
    "- A função de valor $ v_i $ satisfaz a equação de Bellman [(4)](#equation-game4).  \n",
    "- O maximizador do lado direito de [(4)](#equation-game4) é igual a $ f_i(q_i, q_{-i}) $.  \n",
    "\n",
    "\n",
    "O adjetivo “Markov” indica que as regras de decisão de equilíbrio dependem apenas dos valores atuais das variáveis de estado, e não de outras partes de seu histórico.\n",
    "\n",
    "“Perfeito” significa completo, no sentido de que o equilíbrio é construído por indução reversa e, portanto, se baseia na otimização do comportamento de cada empresa em todos os possíveis estados futuros.\n",
    "\n",
    "> - Isso inclui muitos estados que não serão alcançados quando avançarmos no par de estratégias de equilíbrio $ f_i $ partir de um determinado estado inicial.  "
   ]
  },
  {
   "cell_type": "markdown",
   "metadata": {},
   "source": [
    "### Computação\n",
    "\n",
    "Uma estratégia para calcular um equilíbrio perfeito de Markov é iterar para a convergência em pares de equações de Bellman e regras de decisão.\n",
    "\n",
    "Em particular, seja $ v_i^j,f_i^j $ a função de valor e uma função de política da firma $ i $ na $ j $-ésima iteração.\n",
    "\n",
    "Imagine construir as iterações:\n",
    "\n",
    "\n",
    "<a id='equation-game6'></a>\n",
    "$$\n",
    "v_i^{j+1}(q_i, q_{-i}) = \\max_{\\hat q_i}\n",
    "   \\left\\{\\pi_i (q_i, q_{-i}, \\hat q_i) + \\beta v^j_i(\\hat q_i, f_{-i}(q_{-i}, q_i)) \\right\\} \\tag{5}\n",
    "$$\n",
    "\n",
    "Essas iterações podem ser difíceis de implementar computacionalmente.\n",
    "\n",
    "No entanto, eles simplificam para o caso em que as funções de *payoff* de um período são quadráticas e as leis de transição são lineares - o que nos leva ao próximo tópico."
   ]
  },
  {
   "cell_type": "markdown",
   "metadata": {},
   "source": [
    "## Equilíbrio Perfeito Linear de Markov \n",
    "\n",
    "\n",
    "<a id='index-3'></a>\n",
    "Como vimos no exemplo de duopólio, o estudo do equilíbrio de Markov em jogoas com dois jogadores nos leva a um par interrelacionado de equações de Bellman.\n",
    "\n",
    "Nos jogos dinâmicos quadráticos lineares, essas \"equações de Bellman empilhadas\" se tornam \"equações de Riccati empilhadas\" com uma estrutura matemática tratável.\n",
    "\n",
    "Organizaremos essa estrutura em uma configuração geral e depois a aplicaremos a alguns problemas simples."
   ]
  },
  {
   "cell_type": "markdown",
   "metadata": {},
   "source": [
    "### Problemas do regulador linear acoplado\n",
    "\n",
    "Consideramos um jogo de regulador linear quadrático geral com dois jogadores.\n",
    "\n",
    "Por conveniência, iniciaremos com uma formulação de horizonte finito, onde $ t_0 $ é o período incial e $ t_1 $ é o período final.\n",
    "\n",
    "O jogador $ i $ toma $ \\{u_{-it}\\} $ como dado e minimiza:\n",
    "\n",
    "<a id='equation-orig-1'></a>\n",
    "$$\n",
    "\\sum_{t=t_0}^{t_1 - 1}\n",
    "\\beta^{t - t_0}\n",
    "\\left\\{\n",
    "    x_t' R_i x_t +\n",
    "    u_{it}' Q_i u_{it} +\n",
    "    u_{-it}' S_i u_{-it} +\n",
    "    2 x_t' W_i u_{it} +\n",
    "    2 u_{-it}' M_i u_{it}\n",
    "\\right\\} \\tag{6}\n",
    "$$\n",
    "\n",
    "enquanto o estado evolui de acordo com:\n",
    "\n",
    "\n",
    "<a id='equation-orig-0'></a>\n",
    "$$\n",
    "x_{t+1} = A x_t + B_1 u_{1t} + B_2 u_{2t} \\tag{7}\n",
    "$$\n",
    "\n",
    "Aqui:\n",
    "\n",
    "- $ x_t $ é um vetor estado $ n \\times 1 $ e $ u_{it} $ é um vetor de controles $ k_i \\times 1 $ para o jogador $ i $  \n",
    "- $ R_i $ é $ n \\times n $  \n",
    "- $ S_i $ é $ k_{-i} \\times k_{-i} $  \n",
    "- $ Q_i $ é $ k_i \\times k_i $  \n",
    "- $ W_i $ é $ n \\times k_i $  \n",
    "- $ M_i $ é $ k_{-i} \\times k_i $  \n",
    "- $ A $ é $ n \\times n $  \n",
    "- $ B_i $ é $ n \\times k_i $  "
   ]
  },
  {
   "cell_type": "markdown",
   "metadata": {},
   "source": [
    "### Computando o Equilíbrio\n",
    "\n",
    "Formulamos um equilíbrio perfeito linear de Markov como o seguinte:\n",
    "\n",
    "O jogador $ i $ emprega regras de decisões lineares $ u_{it} = - F_{it} x_t $, onde $ F_{it} $ é uma matriz $ k_i \\times n $.\n",
    "\n",
    "Um equilíbrio perfeito de Markov é um par de sequências $ \\{F_{1t}, F_{2t}\\} $ sobre $ t = t_0, \\ldots, t_1 - 1 $ de modo que:\n",
    "\n",
    "- $ \\{F_{1t}\\} $ resolve o problema do jogador 1, tomando $ \\{F_{2t}\\} $ como dado, e  \n",
    "- $ \\{F_{2t}\\} $ resolve o problema do jogador 2, tomando $ \\{F_{1t}\\} $ como dado\n",
    "\n",
    "\n",
    "Se tomamos $ u_{2t} = - F_{2t} x_t $ e subistituirmos em [(6)](#equation-orig-1) e [(7)](#equation-orig-0), então o problema do jogador 1 torna-se uma minimização de:\n",
    "\n",
    "\n",
    "<a id='equation-eq-mpe-p1p'></a>\n",
    "$$\n",
    "\\sum_{t=t_0}^{t_1 - 1}\n",
    "\\beta^{t - t_0}\n",
    "    \\left\\{\n",
    "    x_t' \\Pi_{1t} x_t +\n",
    "    u_{1t}' Q_1 u_{1t} +\n",
    "    2 u_{1t}' \\Gamma_{1t} x_t\n",
    "    \\right\\} \\tag{8}\n",
    "$$\n",
    "\n",
    "sujeito a:\n",
    "\n",
    "\n",
    "<a id='equation-eq-mpe-p1d'></a>\n",
    "$$\n",
    "x_{t+1} = \\Lambda_{1t} x_t + B_1 u_{1t}, \\tag{9}\n",
    "$$\n",
    "\n",
    "onde:\n",
    "\n",
    "- $ \\Lambda_{it} := A - B_{-i} F_{-it} $  \n",
    "- $ \\Pi_{it} := R_i + F_{-it}' S_i F_{-it} $  \n",
    "- $ \\Gamma_{it} := W_i' - M_i' F_{-it} $  \n",
    "\n",
    "\n",
    "Isso é um problema de programação dinâmica QL que pode ser resolvido se caminhar em sentido inverso.\n",
    "\n",
    "A regra da política que resolve o problema é:\n",
    "\n",
    "\n",
    "<a id='equation-orig-3'></a>\n",
    "$$\n",
    "F_{1t}\n",
    "= (Q_1 + \\beta B_1' P_{1t+1} B_1)^{-1}\n",
    "(\\beta B_1' P_{1t+1} \\Lambda_{1t} + \\Gamma_{1t}) \\tag{10}\n",
    "$$\n",
    "\n",
    "onde $ P_{1t} $ resolve a equação da diferença de Riccati da matriz\n",
    "\n",
    "\n",
    "<a id='equation-orig-4'></a>\n",
    "$$\n",
    "P_{1t} =\n",
    "\\Pi_{1t} -\n",
    "(\\beta B_1' P_{1t+1} \\Lambda_{1t} + \\Gamma_{1t})' (Q_1 + \\beta B_1' P_{1t+1} B_1)^{-1}\n",
    "(\\beta B_1' P_{1t+1} \\Lambda_{1t} + \\Gamma_{1t}) +\n",
    "\\beta \\Lambda_{1t}' P_{1t+1} \\Lambda_{1t} \\tag{11}\n",
    "$$\n",
    "\n",
    "Similarmente, a política que resolve o problema do jogador 2 é:\n",
    "\n",
    "\n",
    "<a id='equation-orig-5'></a>\n",
    "$$\n",
    "F_{2t} =\n",
    "(Q_2 + \\beta B_2' P_{2t+1} B_2)^{-1}\n",
    "(\\beta B_2' P_{2t+1} \\Lambda_{2t} + \\Gamma_{2t}) \\tag{12}\n",
    "$$\n",
    "\n",
    "onde $ P_{2t} $ resolve:\n",
    "\n",
    "\n",
    "<a id='equation-orig-6'></a>\n",
    "$$\n",
    "P_{2t} =\n",
    "\\Pi_{2t} - (\\beta B_2' P_{2t+1} \\Lambda_{2t} + \\Gamma_{2t})' (Q_2 + \\beta B_2' P_{2t+1} B_2)^{-1}\n",
    "(\\beta B_2' P_{2t+1} \\Lambda_{2t} + \\Gamma_{2t}) +\n",
    "\\beta \\Lambda_{2t}' P_{2t+1} \\Lambda_{2t} \\tag{13}\n",
    "$$\n",
    "\n",
    "Aqui em todos os casos $ t = t_0, \\ldots, t_1 - 1 $ e as condições finais são $ P_{it_1} = 0 $.\n",
    "\n",
    "O procedimento de solução é usar as equações [(10)](#equation-orig-3), [(11)](#equation-orig-4), [(12)](#equation-orig-5), e [(13)](#equation-orig-6), e “retroceder” a partir do período $ t_1 - 1 $.\n",
    "\n",
    "Desde que estamos retrocedento, $ P_{1t+1} $ e $ P_{2t+1} $ são tomados como dados em cada estado.\n",
    "\n",
    "Além disso, visto que:\n",
    "\n",
    "- alguns termos no lado direito de [(10)](#equation-orig-3) contém $ F_{2t} $  \n",
    "- alguns termos no lado direito de [(12)](#equation-orig-5) contém $ F_{1t} $  \n",
    "\n",
    "\n",
    "precisamos resolver essas equações $ k_1 + k_2 $ simultâneamente."
   ]
  },
  {
   "cell_type": "markdown",
   "metadata": {},
   "source": [
    "#### Informações importantes\n",
    "\n",
    "Um *insight* importante é que as equações [(10)](#equation-orig-3) e [(12)](#equation-orig-5) são lineares em $ F_{1t} $ e $ F_{2t} $.\n",
    "\n",
    "Depois de resolvidas essas equações, podemos obter, $ F_{it} $ e resolver para $ P_{it} $ em [(11)](#equation-orig-4) e[(13)](#equation-orig-6)."
   ]
  },
  {
   "cell_type": "markdown",
   "metadata": {},
   "source": [
    "#### Horizonte Infinito\n",
    "\n",
    "Muitas vezes queremos calcular as soluções de tais jogos para horizontes infinitos, na esperança de que as regras de decisões $ F_{it} $ se estabeleçam invariantes no tempo $ t_1 \\rightarrow +\\infty $.\n",
    "\n",
    "Na prática, geralmente fixamos $ t_1 $ e computamos o equilíbrio de um jogo de horizonte infinito se dirigindo $ t_0 \\rightarrow - \\infty $.\n",
    "\n",
    "Essa é uma abordagem que adotamos na próxima seção."
   ]
  },
  {
   "cell_type": "markdown",
   "metadata": {},
   "source": [
    "### Implementação\n",
    "\n",
    "Usando a função [nnash](https://github.com/QuantEcon/QuantEcon.jl/blob/master/src/lqnash.jl) disponivel em [QuantEcon.jl](http://quantecon.org/quantecon-jl) que computa um equilíbrio perfeito de Markov de horizonte infinito de um jogo quadrático linear dinâmico na maneira descrita acima."
   ]
  },
  {
   "cell_type": "markdown",
   "metadata": {},
   "source": [
    "## Aplicação\n",
    "\n",
    "\n",
    "<a id='index-4'></a>\n",
    "Vamos usar esses procedimentos para tratar alguns aplicativos, começando com o modelo de duopólio."
   ]
  },
  {
   "cell_type": "markdown",
   "metadata": {},
   "source": [
    "### Um modelo de duopólio\n",
    "\n",
    "Para mapear o modelo de duopólio em problemas de programação dinâmica linear-quadrática acoplada, defina o estado e os controles como:\n",
    "\n",
    "$$\n",
    "x_t :=\n",
    "\\begin{bmatrix}\n",
    "    1 \\\\\n",
    "    q_{1t} \\\\\n",
    "    q_{2t}\n",
    "\\end{bmatrix}\n",
    "\\quad \\text{e} \\quad\n",
    "u_{it} :=\n",
    "q_{i,t+1} - q_{it}, \\quad i=1,2\n",
    "$$\n",
    "\n",
    "Se escrevermos:\n",
    "\n",
    "$$\n",
    "x_t' R_i x_t + u_{it}' Q_i u_{it}\n",
    "$$\n",
    "\n",
    "onde $ Q_1 = Q_2 = \\gamma $,\n",
    "\n",
    "$$\n",
    "R_1 :=\n",
    "\\begin{bmatrix}\n",
    "   0              & -\\frac{a_0}{2}  & 0 \\\\\n",
    "   -\\frac{a_0}{2} &  a_1            &  \\frac{a_1}{2} \\\\\n",
    "   0              &   \\frac{a_1}{2} & 0\n",
    "\\end{bmatrix}\n",
    "\\quad \\text{and} \\quad\n",
    "R_2 :=\n",
    "\\begin{bmatrix}\n",
    "   0              & 0             & -\\frac{a_0}{2} \\\\\n",
    "   0              & 0             & \\frac{a_1}{2} \\\\\n",
    "   -\\frac{a_0}{2} & \\frac{a_1}{2} & a_1\n",
    "\\end{bmatrix}\n",
    "$$\n",
    "\n",
    "então recuperamos os *payoffs* de um período na expressão [(3)](#equation-game3).\n",
    "\n",
    "A lei de movimento para o estado $ x_t $ é $ x_{t+1} = A x_t + B_1 u_{1t} + B_2 u_{2t} $ onde:\n",
    "\n",
    "$$\n",
    "A :=\n",
    "\\begin{bmatrix}\n",
    "   1 & 0 & 0 \\\\\n",
    "   0 & 1 & 0 \\\\\n",
    "   0 & 0 & 1\n",
    "\\end{bmatrix},\n",
    "\\quad\n",
    "B_1 :=\n",
    "\\begin{bmatrix}\n",
    "       0 \\\\\n",
    "       1 \\\\\n",
    "       0\n",
    "\\end{bmatrix},\n",
    "\\quad\n",
    "B_2 :=\n",
    "\\begin{bmatrix}\n",
    "            0 \\\\\n",
    "            0 \\\\\n",
    "            1\n",
    "\\end{bmatrix}\n",
    "$$\n",
    "\n",
    "A regra de decisão ótima da firma $ i $ tomará a forma $ u_{it} = - F_i x_t $, induzindo sistema de circuito fechado para a evolução de $ x $ no equilíbiro perfeito de Markov:\n",
    "\n",
    "\n",
    "<a id='equation-eq-mpe-cle'></a>\n",
    "$$\n",
    "x_{t+1} = (A - B_1 F_1 -B_1 F_2 ) x_t \\tag{14}\n",
    "$$"
   ]
  },
  {
   "cell_type": "markdown",
   "metadata": {},
   "source": [
    "### Parâmetros e Soluções\n",
    "\n",
    "Considere o modelo de duopólio apresentado anteriormente com valores de parâmetro de:\n",
    "\n",
    "- $ a_0 = 10 $  \n",
    "- $ a_1 = 2 $  \n",
    "- $ \\beta = 0.96 $  \n",
    "- $ \\gamma = 12 $  \n",
    "\n",
    "\n",
    "A partir disso, calculamos o MPE de horizonte infinito usando o seguinte código."
   ]
  },
  {
   "cell_type": "code",
   "execution_count": 3,
   "metadata": {
    "hide-output": false
   },
   "outputs": [
    {
     "name": "stdout",
     "output_type": "stream",
     "text": [
      "Computed policies for firm 1 and firm 2:\n",
      "F1 = [-0.6684661455442794 0.295124817744414 0.07584666305807419]\n",
      "F2 = [-0.6684661455442794 0.07584666305807419 0.295124817744414]\n"
     ]
    }
   ],
   "source": [
    "using QuantEcon, LinearAlgebra\n",
    "\n",
    "# parâmetros\n",
    "a0 = 10.0\n",
    "a1 = 2.0\n",
    "β = 0.96\n",
    "γ = 12.0\n",
    "\n",
    "# na forma QL\n",
    "A  = I + zeros(3, 3)\n",
    "B1 = [0.0, 1.0, 0.0]\n",
    "B2 = [0.0, 0.0, 1.0]\n",
    "\n",
    "R1 = [      0.0   -a0 / 2.0          0.0;\n",
    "    -a0 / 2.0          a1     a1 / 2.0;\n",
    "            0.0    a1 / 2.0          0.0]\n",
    "\n",
    "R2 = [      0.0          0.0      -a0 / 2.0;\n",
    "            0.0          0.0       a1 / 2.0;\n",
    "    -a0 / 2.0     a1 / 2.0             a1]\n",
    "\n",
    "Q1 = Q2 = γ\n",
    "S1 = S2 = W1 = W2 = M1 = M2 = 0.0\n",
    "\n",
    "# resolvendo usando a função de Nash disponivel em QE\n",
    "F1, F2, P1, P2 = nnash(A, B1, B2, R1, R2, Q1, Q2, S1, S2, W1, W2, M1, M2,\n",
    "                       beta=β)\n",
    "\n",
    "# exibir políticas\n",
    "println(\"Computed policies for firm 1 and firm 2:\")\n",
    "println(\"F1 = $F1\")\n",
    "println(\"F2 = $F2\")"
   ]
  },
  {
   "cell_type": "markdown",
   "metadata": {},
   "source": [
    "A execução do código produz o seguinte resultado.\n",
    "\n",
    "Uma maneira de ver $ F_i $ é realmente ideal para a firma $ i $ tomando $ F_2 $ como dado é indicado usar o tipo LQ do [QuantEcon.jl](http://quantecon.org/quantecon-jl).\n",
    "\n",
    "Em particular, vamos tomar F2 como computado acima, conectá-lo a [(8)](#equation-eq-mpe-p1p) e [(9)](#equation-eq-mpe-p1d) para obter o problema da empresa 1 e resolvê-lo usando LQ.\n",
    "\n",
    "Esperamos que a política resultante concorde com F1, conforme calculado acima."
   ]
  },
  {
   "cell_type": "code",
   "execution_count": 4,
   "metadata": {
    "hide-output": false
   },
   "outputs": [
    {
     "data": {
      "text/plain": [
       "1×3 Array{Float64,2}:\n",
       " -0.668466  0.295125  0.0758467"
      ]
     },
     "execution_count": 4,
     "metadata": {},
     "output_type": "execute_result"
    }
   ],
   "source": [
    "Λ1 = A - (B2 * F2)\n",
    "lq1 = QuantEcon.LQ(Q1, R1, Λ1, B1, bet=β)\n",
    "P1_ih, F1_ih, d = stationary_values(lq1)\n",
    "F1_ih"
   ]
  },
  {
   "cell_type": "markdown",
   "metadata": {},
   "source": [
    "*Isso é próximo o suficiente para o rock and roll*, como dizem no comércio.\n",
    "\n",
    "De fato, `isapprox` concorda com nossa avaliação "
   ]
  },
  {
   "cell_type": "code",
   "execution_count": 5,
   "metadata": {
    "hide-output": false
   },
   "outputs": [
    {
     "data": {
      "text/plain": [
       "true"
      ]
     },
     "execution_count": 5,
     "metadata": {},
     "output_type": "execute_result"
    }
   ],
   "source": [
    "isapprox(F1, F1_ih, atol=1e-7)"
   ]
  },
  {
   "cell_type": "markdown",
   "metadata": {},
   "source": [
    "### Dinâmica\n",
    "\n",
    "Vamos agora investigar a dinâmica do preço e da produção nesse modelo simples de duopólio sob as políticas do MPE.\n",
    "\n",
    "Dadas nossas políticas ótimas $ F1 $ e $ F2 $, o estado evolui de acordo com [(14)](#equation-eq-mpe-cle).\n",
    "\n",
    "O seguinte programa:\n",
    "\n",
    "- importa $ F1 $ e $ F2 $ a partir de um programa anterior junto com todos os parâmetros\n",
    "- computa a evolução de $ x_t $ usando [(14)](#equation-eq-mpe-cle)  \n",
    "- extrai e plota a produção da indústria $ q_t = q_{1t} + q_{2t} $ e o preço $ p_t = a_0 - a_1 q_t $  "
   ]
  },
  {
   "cell_type": "code",
   "execution_count": 6,
   "metadata": {
    "hide-output": false
   },
   "outputs": [
    {
     "data": {
      "image/png": "[encoded data removed]"
     },
     "execution_count": 6,
     "metadata": {},
     "output_type": "execute_result"
    }
   ],
   "source": [
    "using Plots\n",
    "gr(fmt=:png);\n",
    "\n",
    "AF = A - B1 * F1 - B2 * F2\n",
    "n = 20\n",
    "x = zeros(3, n)\n",
    "x[:, 1] = [1 1 1]\n",
    "for t in 1:n-1\n",
    "    x[:, t+1] = AF * x[:, t]\n",
    "end\n",
    "q1 = x[2, :]\n",
    "q2 = x[3, :]\n",
    "q = q1 + q2         # produto total, MPE\n",
    "p = a0 .- a1 * q     # preço, MPE\n",
    "\n",
    "plt = plot(q, color=:blue, lw=2, alpha=0.75, label=\"total output\")\n",
    "plot!(plt, p, color=:green, lw=2, alpha=0.75, label=\"price\")\n",
    "plot!(plt, title=\"Output and prices, duopoly MPE\")"
   ]
  },
  {
   "attachments": {},
   "cell_type": "markdown",
   "metadata": {},
   "source": [
    "Observe que a condição inicial foi definida como  $ q_{10} = q_{20} = 1.0 $.\n",
    "\n",
    "Para ganhar alguma perspectiva, podemos comparar isso com o que acontece no caso do monopólio.\n",
    "\n",
    "O primeiro painel da figura a seguir compara a produção monopolista e industrial sob o MPE, em função do tempo.\n",
    "\n",
    "O segundo painel mostra curvas análogas para preço:\n",
    "\n",
    "\n",
    "<img src=\"https://julia.quantecon.org/multi_agent_models/_static/figures/mpe_vs_monopolist.png\" style=\"width:70%;\">\n",
    "\n",
    "  \n",
    "Aqui, os parâmetros são os mesmos para as soluções MPE e monopólio.\n",
    "\n",
    "A condição inicial do monopolista é  $ q_0 = 2.0 $ para imitar a condição inicial da indústria $ q_{10} = q_{20} = 1.0 $ no caso do MPE.\n",
    "\n",
    "Como esperado, a produção é mais alta e os preços são mais baixos em duopólio do que em monopólio."
   ]
  },
  {
   "cell_type": "markdown",
   "metadata": {},
   "source": [
    "## Exercícios"
   ]
  },
  {
   "cell_type": "markdown",
   "metadata": {},
   "source": [
    "### Exercício 1\n",
    "\n",
    "Replique [o par de figuras](#mpe-vs-monopolist) que  mostram a comparação da produção e dos preços do monopolista e do duopólio sob MPE.\n",
    "\n",
    "Os parâmetros são como duopoly_mpe.jl e você pode usar esse código para calcular políticas MPE sob duopólio.\n",
    "\n",
    "A política ideal no caso monopolista pode ser calculada usando o tipo LQ do [QuantEcon.jl](http://quantecon.org/quantecon-jl)."
   ]
  },
  {
   "cell_type": "markdown",
   "metadata": {},
   "source": [
    "### Exercício  2\n",
    "\n",
    "Neste exercício, consideramos um problema de duopólio um pouco mais sofisticado.\n",
    "\n",
    "Ele assume a forma de jogo quadrático linear de horizonte infinito proposto por Judd [[Jud90]](https://julia.quantecon.org/../zreferences.html#judd1990).\n",
    "\n",
    "Duas empresas estabelecem preços e quantidades de dois bens inter-relacionados através de suas curvas de demanda.\n",
    "\n",
    "Variáveis relevantes são definidas da seguinte maneira:\n",
    "\n",
    "- $ I_{it} $ = inventários da firma $ i $ no começo do período $ t $  \n",
    "- $ q_{it} $ = produção da firma $ i $ durnate o período $ t $  \n",
    "- $ p_{it} $ = preço cobrado pela firma $ i $ durante o perído $ t $  \n",
    "- $ S_{it} $ = vendas feitas pela firma $ i $ durante o perído $ t $  \n",
    "- $ E_{it} $ = custos de produção da firma $ i $ durante o perído $ t $  \n",
    "- $ C_{it} $ = custos de manutenção de estoques da firma $ i $ durante o perído $ t $  \n",
    "\n",
    "\n",
    "Os custos da firma são:\n",
    "\n",
    "- $ C_{it} = c_{i1} + c_{i2} I_{it} + 0.5 c_{i3} I_{it}^2 $  \n",
    "- $ E_{it} = e_{i1} + e_{i2}q_{it} + 0.5 e_{i3} q_{it}^2 $ onde $ e_{ij}, c_{ij} $ são escalares positivos.\n",
    "\n",
    "\n",
    "Os estoques obedecem às leis do movimento\n",
    "\n",
    "$$\n",
    "I_{i,t+1} = (1 - \\delta)  I_{it} + q_{it} - S_{it}\n",
    "$$\n",
    "\n",
    "A demanda é regida pelo cronograma linear\n",
    "\n",
    "$$\n",
    "S_t = D p_{it} + b\n",
    "$$\n",
    "\n",
    "onde\n",
    "\n",
    "- $ S_t = \\begin{bmatrix} S_{1t} & S_{2t} \\end{bmatrix}' $  \n",
    "- $ D $ é uma matriz negativa definida $ 2\\times 2 $ e\n",
    "- $ b $ é um vetor de constantes  \n",
    "\n",
    "\n",
    "A firma $ i $ maximiza a soma não descontada:\n",
    "\n",
    "$$\n",
    "\\lim_{T \\to \\infty}\\ {1 \\over T}\\   \\sum^T_{t=0}\\   \\left( p_{it} S_{it} - E_{it} - C_{it} \\right)\n",
    "$$\n",
    "\n",
    "Podemos converter isso em um problema quadrático linear tomando:\n",
    "\n",
    "$$\n",
    "u_{it} =\n",
    "\\begin{bmatrix}\n",
    "    p_{it} \\\\\n",
    "    q_{it}\n",
    "\\end{bmatrix}\n",
    "\\quad \\text{e} \\quad\n",
    "x_t =\n",
    "\\begin{bmatrix}\n",
    "    I_{1t} \\\\\n",
    "    I_{2t} \\\\\n",
    "    1\n",
    "\\end{bmatrix}\n",
    "$$\n",
    "\n",
    "As regras de decisão para preço e quantidade assumem a forma $ u_{it} = -F_i  x_t $.\n",
    "\n",
    "O equilíbrio perfeito de Markov do modelo de Judd pode ser calculado preenchendo as matrizes adequadamente.\n",
    "\n",
    "O exercício é calcular essas matrizes e calcular as seguintes figuras.\n",
    "\n",
    "A primeira figura mostra a dinâmica dos estoques para cada empresa quando os parâmetros são:"
   ]
  },
  {
   "cell_type": "code",
   "execution_count": 7,
   "metadata": {
    "hide-output": false
   },
   "outputs": [
    {
     "data": {
      "text/plain": [
       "3-element Array{Int64,1}:\n",
       " 10\n",
       " 10\n",
       "  3"
      ]
     },
     "execution_count": 7,
     "metadata": {},
     "output_type": "execute_result"
    }
   ],
   "source": [
    "δ = 0.02\n",
    "D = [ -1  0.5;\n",
    "     0.5   -1]\n",
    "b = [25, 25]\n",
    "c1 = c2 = [1, -2, 1]\n",
    "e1 = e2 = [10, 10, 3]"
   ]
  },
  {
   "attachments": {},
   "cell_type": "markdown",
   "metadata": {},
   "source": [
    "<img src=\"https://julia.quantecon.org/multi_agent_models/_static/figures/judd_fig2.png\" style=\"width:70%;\">\n",
    "\n"
   ]
  },
  {
   "attachments": {},
   "cell_type": "markdown",
   "metadata": {},
   "source": [
    "Os estoques tendem a um estado estacionário comum.\n",
    "\n",
    "Se aumentarmos a taxa de depreciação para $ \\delta = 0.05 $, esperamos que os estoques em estado estacionário caiam..\n",
    "\n",
    "Este é realmente o caso, como a próxima figura mostra:\n",
    "\n",
    "<img src=\"https://julia.quantecon.org/multi_agent_models/_static/figures/judd_fig1.png\" style=\"width:70%;\">\n"
   ]
  },
  {
   "cell_type": "markdown",
   "metadata": {},
   "source": [
    "## Soluções"
   ]
  },
  {
   "cell_type": "markdown",
   "metadata": {},
   "source": [
    "### Exercise 1\n",
    "\n",
    "Primeiro vamos calcular o MPE do duopólio sob os parâmetros declarados."
   ]
  },
  {
   "cell_type": "code",
   "execution_count": 8,
   "metadata": {
    "hide-output": false
   },
   "outputs": [
    {
     "data": {
      "text/plain": [
       "([-0.6684661455442794 0.295124817744414 0.07584666305807419], [-0.6684661455442794 0.07584666305807419 0.295124817744414], [-100.74013291681779 -13.28370101134053 2.435873888234418; -13.283701011340526 5.441368457863284 1.9305445296892967; 2.4358738882344166 1.9305445296892967 -0.18944247543524873], [-100.74013291681771 2.435873888234418 -13.283701011340526; 2.435873888234417 -0.18944247543524873 1.9305445296892967; -13.283701011340526 1.9305445296892967 5.441368457863284])"
      ]
     },
     "execution_count": 8,
     "metadata": {},
     "output_type": "execute_result"
    }
   ],
   "source": [
    "# parâmetros\n",
    "a0 = 10.0\n",
    "a1 = 2.0\n",
    "β = 0.96\n",
    "γ = 12.0\n",
    "\n",
    "# na forma LQ\n",
    "A = I + zeros(3, 3)\n",
    "B1 = [0.0, 1.0, 0.0]\n",
    "B2 = [0.0, 0.0, 1.0]\n",
    "\n",
    "R1 = [      0.0   -a0 / 2.0         0.0;\n",
    "      -a0 / 2.0          a1    a1 / 2.0;\n",
    "            0.0    a1 / 2.0         0.0]\n",
    "\n",
    "R2 = [      0.0        0.0    -a0 / 2.0;\n",
    "            0.0        0.0     a1 / 2.0;\n",
    "      -a0 / 2.0   a1 / 2.0           a1]\n",
    "\n",
    "Q1 = Q2 = γ\n",
    "S1 = S2 = W1 = W2 = M1 = M2 = 0.0\n",
    "\n",
    "# resolva usando a função de Nash disponível no QE\n",
    "F1, F2, P1, P2 = nnash(A, B1, B2, R1, R2, Q1, Q2, S1, S2, W1, W2, M1, M2,\n",
    "                       beta=β)"
   ]
  },
  {
   "cell_type": "markdown",
   "metadata": {},
   "source": [
    "Agora, avaliamos o tempo de produção e os preços fornecidos pelo setor\n",
    "condição inicial $ q_{10} = q_{20} = 1 $"
   ]
  },
  {
   "cell_type": "code",
   "execution_count": 9,
   "metadata": {
    "hide-output": true
   },
   "outputs": [],
   "source": [
    "AF = A - B1 * F1 - B2 * F2\n",
    "n = 20\n",
    "x = zeros(3, n)\n",
    "x[:, 1] = [1  1  1]\n",
    "for t in 1:(n-1)\n",
    "    x[:, t+1] = AF * x[:, t]\n",
    "end\n",
    "q1 = x[2, :]\n",
    "q2 = x[3, :]\n",
    "q = q1 + q2       # produção total, MPE\n",
    "p = a0 .- a1 * q   # preço, MPE"
   ]
  },
  {
   "cell_type": "markdown",
   "metadata": {},
   "source": [
    "A seguir, vamos dar uma olhada na solução de monopólio.\n",
    "\n",
    "Pelo estado e controle que tomamos:\n",
    "\n",
    "$$\n",
    "x_t = q_t - \\bar q\n",
    "\\quad \\text{e} \\quad\n",
    "u_t = q_{t+1} - q_t\n",
    "$$\n",
    "\n",
    "Para converter para um problema de LQ, definimos:\n",
    "\n",
    "$$\n",
    "R = a_1\n",
    "\\quad \\text{and} \\quad\n",
    "Q = \\gamma\n",
    "$$\n",
    "\n",
    "na função de *payoff* $ x_t' R x_t + u_t' Q u_t $ e\n",
    "\n",
    "$$\n",
    "A = B = 1\n",
    "$$\n",
    "\n",
    "na lei de movimento $ x_{t+1} = A x_t + B u_t $.\n",
    "\n",
    "Resolvemos para a política ótima $ u_t = - Fx_t $ e acompanhamos a dinâmica resultante de { $ \\{q_t\\} $, iniciando em $ q_0 = 2.0 $."
   ]
  },
  {
   "cell_type": "code",
   "execution_count": 10,
   "metadata": {
    "hide-output": true
   },
   "outputs": [],
   "source": [
    "R = a1\n",
    "Q = γ\n",
    "A = B = 1\n",
    "lq_alt = QuantEcon.LQ(Q, R, A, B, bet=β)\n",
    "P, F, d = stationary_values(lq_alt)\n",
    "q̄ = a0 / (2.0 * a1)\n",
    "qm = zeros(n)\n",
    "qm[1] = 2\n",
    "x0 = qm[1]-q̄\n",
    "x = x0\n",
    "for i in 2:n\n",
    "    x = A * x - B * F[1] * x\n",
    "    qm[i] = float(x) + q̄\n",
    "end\n",
    "pm = a0 .- a1 * qm"
   ]
  },
  {
   "cell_type": "markdown",
   "metadata": {},
   "source": [
    "Vamos dar uma olhada nos diferentes caminhos de tempo."
   ]
  },
  {
   "cell_type": "code",
   "execution_count": 11,
   "metadata": {
    "hide-output": false
   },
   "outputs": [
    {
     "data": {
      "image/png": "[encoded data removed]"
     },
     "execution_count": 11,
     "metadata": {},
     "output_type": "execute_result"
    }
   ],
   "source": [
    "plt_q = plot(qm, color=:blue, lw=2, alpha=0.75, label=\"monopolist output\")\n",
    "plot!(plt_q, q, color=:green, lw=2, alpha=0.75, label=\"MPE total output\")\n",
    "plot!(plt_q, xlabel=\"time\", ylabel=\"output\", ylim=(2,4),legend=:topright)\n",
    "\n",
    "plt_p = plot(pm, color=:blue, lw=2, alpha=0.75, label=\"monopolist price\")\n",
    "plot!(plt_p, p, color=:green, lw=2, alpha=0.75, label=\"MPE price\")\n",
    "plot!(plt_p, xlabel=\"time\", ylabel=\"price\",legend=:topright)\n",
    "\n",
    "plot(plt_q, plt_p, layout=(2,1), size=(700,600))"
   ]
  },
  {
   "cell_type": "markdown",
   "metadata": {},
   "source": [
    "### Exercício 2\n",
    "Tratamos o caso $ \\delta = 0.02 $"
   ]
  },
  {
   "cell_type": "code",
   "execution_count": 12,
   "metadata": {
    "hide-output": false
   },
   "outputs": [
    {
     "data": {
      "text/plain": [
       "0.98"
      ]
     },
     "execution_count": 12,
     "metadata": {},
     "output_type": "execute_result"
    }
   ],
   "source": [
    "δ = 0.02\n",
    "D = [-1  0.5;\n",
    "     0.5 -1]\n",
    "b = [25, 25]\n",
    "c1 = c2 = [1, -2, 1]\n",
    "e1 = e2 = [10, 10, 3]\n",
    "δ_1 = 1-δ"
   ]
  },
  {
   "cell_type": "markdown",
   "metadata": {},
   "source": [
    "Lembre-se que o estado e controle são:\n",
    "\n",
    "$$\n",
    "u_{it} =\n",
    "\\begin{bmatrix}\n",
    "    p_{it} \\\\\n",
    "    q_{it}\n",
    "\\end{bmatrix}\n",
    "\\quad \\text{e} \\quad\n",
    "x_t =\n",
    "\\begin{bmatrix}\n",
    "    I_{1t} \\\\\n",
    "    I_{2t} \\\\\n",
    "    1\n",
    "\\end{bmatrix}\n",
    "$$\n",
    "\n",
    "definimos as matrizes da seguinte maneira"
   ]
  },
  {
   "cell_type": "code",
   "execution_count": 13,
   "metadata": {
    "hide-output": false
   },
   "outputs": [
    {
     "data": {
      "text/plain": [
       "2×2 Array{Float64,2}:\n",
       " 0.0  0.0 \n",
       " 0.0  0.25"
      ]
     },
     "execution_count": 13,
     "metadata": {},
     "output_type": "execute_result"
    }
   ],
   "source": [
    "# cria matrizes necessárias para calcular o equilíbrio de realimentação de Nash \n",
    "A = [δ_1     0   -δ_1 * b[1];\n",
    "       0   δ_1   -δ_1 * b[2];\n",
    "       0     0             1]\n",
    "\n",
    "B1 = δ_1 * [1 -D[1, 1];\n",
    "            0 -D[2, 1];\n",
    "            0        0]\n",
    "B2 = δ_1 * [0 -D[1, 2];\n",
    "            1 -D[2, 2];\n",
    "            0        0]\n",
    "\n",
    "R1 = -[0.5 * c1[3]   0    0.5 * c1[2];\n",
    "                 0   0              0;\n",
    "       0.5 * c1[2]   0          c1[1]]\n",
    "\n",
    "R2 = -[0             0              0;\n",
    "       0   0.5 * c2[3]      0.5*c2[2];\n",
    "       0   0.5 * c2[2]          c2[1]]\n",
    "\n",
    "Q1 = [-0.5*e1[3]          0;\n",
    "               0    D[1, 1]]\n",
    "Q2 = [-0.5*e2[3]          0;\n",
    "               0    D[2, 2]]\n",
    "\n",
    "S1 = zeros(2, 2)\n",
    "S2 = copy(S1)\n",
    "\n",
    "W1 = [         0.0           0.0;\n",
    "               0.0           0.0;\n",
    "      -0.5 * e1[2]    b[1] / 2.0]\n",
    "W2 = [         0.0           0.0;\n",
    "               0.0           0.0;\n",
    "      -0.5 * e2[2]    b[2] / 2.0]\n",
    "\n",
    "M1 = [0.0            0.0;\n",
    "      0.0  D[1, 2] / 2.0]\n",
    "M2 = copy(M1)"
   ]
  },
  {
   "cell_type": "markdown",
   "metadata": {},
   "source": [
    "Agora podemos computar o equilíbrio usando `qe.nnash`"
   ]
  },
  {
   "cell_type": "code",
   "execution_count": 14,
   "metadata": {
    "hide-output": false
   },
   "outputs": [
    {
     "name": "stdout",
     "output_type": "stream",
     "text": [
      "\n",
      "Firm 1's feedback rule:\n",
      "\n",
      "[0.24366658220856505 0.02723606266195122 -6.827882926030329; 0.3923707338756386 0.13969645088599783 -37.734107288592014]\n",
      "\n",
      "Firm 2's feedback rule:\n",
      "\n",
      "[0.027236062661951208 0.243666582208565 -6.827882926030323; 0.1396964508859978 0.39237073387563864 -37.73410728859201]\n"
     ]
    }
   ],
   "source": [
    "F1, F2, P1, P2 = nnash(A, B1, B2, R1, R2, Q1, Q2, S1, S2, W1, W2, M1, M2)\n",
    "\n",
    "println(\"\\nFirm 1's feedback rule:\\n\")\n",
    "println(F1)\n",
    "\n",
    "println(\"\\nFirm 2's feedback rule:\\n\")\n",
    "println(F2)"
   ]
  },
  {
   "cell_type": "markdown",
   "metadata": {},
   "source": [
    "Agora, vamos examinar a dinâmica dos estoques e reproduzir o gráfico correspondente a  $ \\delta = 0.02 $"
   ]
  },
  {
   "cell_type": "code",
   "execution_count": 15,
   "metadata": {
    "hide-output": false
   },
   "outputs": [
    {
     "data": {
      "image/png": "[encoded data removed]"
     },
     "execution_count": 15,
     "metadata": {},
     "output_type": "execute_result"
    }
   ],
   "source": [
    "AF = A - B1 * F1 - B2 * F2\n",
    "n = 25\n",
    "x = zeros(3, n)\n",
    "x[:, 1] = [2  0  1]\n",
    "for t in 1:(n-1)\n",
    "    x[:, t+1] = AF * x[:, t]\n",
    "end\n",
    "I1 = x[1, :]\n",
    "I2 = x[2, :]\n",
    "\n",
    "plot(I1, color=:blue, lw=2, alpha=0.75, label=\"inventories, firm 1\")\n",
    "plot!(I2, color=:green, lw=2, alpha=0.75, label=\"inventories, firm 2\")\n",
    "plot!(title=\"delta = 0.02\")"
   ]
  }
 ],
 "metadata": {
  "date": 1572312786.9060624,
  "download_nb": 1,
  "download_nb_path": "https://julia.quantecon.org/",
  "filename": "markov_perf.rst",
  "filename_with_path": "multi_agent_models/markov_perf",
  "kernelspec": {
   "display_name": "Julia 1.3.1",
   "language": "julia",
   "name": "julia-1.3"
  },
  "language_info": {
   "file_extension": ".jl",
   "mimetype": "application/julia",
   "name": "julia",
   "version": "1.3.1"
  },
  "title": "Markov Perfect Equilibrium"
 },
 "nbformat": 4,
 "nbformat_minor": 4
}
