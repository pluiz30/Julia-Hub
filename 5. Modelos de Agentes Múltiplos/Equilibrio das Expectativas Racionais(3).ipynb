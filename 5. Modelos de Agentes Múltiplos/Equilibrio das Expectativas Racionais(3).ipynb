{
 "cells": [
  {
   "cell_type": "markdown",
   "metadata": {},
   "source": [
    "\n",
    "<a id='ree'></a>\n",
    "<div id=\"qe-notebook-header\" style=\"text-align:right;\">\n",
    "        <a href=\"https://quantecon.org/\" title=\"quantecon.org\">\n",
    "                <img style=\"width:250px;display:inline;\" src=\"https://assets.quantecon.org/img/qe-menubar-logo.svg\" alt=\"QuantEcon\">\n",
    "        </a>\n",
    "</div>"
   ]
  },
  {
   "cell_type": "markdown",
   "metadata": {},
   "source": [
    "# Equilíbrio das Expectativas Racionais"
   ]
  },
  {
   "cell_type": "markdown",
   "metadata": {},
   "source": [
    "## Conteúdo\n",
    "\n",
    "- [Equilíbrio das Expectativas Racionais](#Equilíbrio-das-Expectativas-Racionais)  \n",
    "  - [Resumo](#Resumo)  \n",
    "  - [Definindo o Equilíbrio das Expectativas Racionais](#Definindo-o-Equilíbrio-das-Expectativas-Racionais)  \n",
    "  - [Computando um Equilíbrio](#Computando-um-Equilíbrio)  \n",
    "  - [Exercícios](#Exercícios)  \n",
    "  - [Soluções](#Soluções)  "
   ]
  },
  {
   "cell_type": "markdown",
   "metadata": {},
   "source": [
    "> *Devidamente traduzido, revisado e adaptado do [QuantEcon](https://quantecon.org/) pelos bolsistas CNPq Pedro Luiz H. Furtado e Jonas Aragão M. Corpes, sob a supervisão do Prof. Christiano Penna, do CAEN/UFC."
   ]
  },
  {
   "cell_type": "markdown",
   "metadata": {},
   "source": [
    "> \"Se você é tão inteligente, por que não é rico?\""
   ]
  },
  {
   "cell_type": "markdown",
   "metadata": {},
   "source": [
    "## Resumo\n",
    "\n",
    "Essa aula introduz o conceito de *equilíbrio das expectativas racionais*.\n",
    "\n",
    "Para ilustrar, descrevemos uma versão quadrática linear de um modelo famoso e importante devido a Lucas e Prescott [[LP71]](https://julia.quantecon.org/../zreferences.html#lucasprescott1971).\n",
    "\n",
    "Este artigo de 1971 é um de um pequeno número de artigos de pesquisa que iniciaram um *revolução nas expectativas racionais*.\n",
    "\n",
    "Seguimos Lucas e Prescott empregando uma configuração que é prontamente \"Bellmanizada\" (ou seja, capaz de ser formulada em termos de problemas de programação dinâmica).\n",
    "\n",
    "Como usamos configurações quadráticas lineares para demanda e custos, podemos adaptar as técnicas de programação LQ descritas [nessa aula](https://julia.quantecon.org/../dynamic_programming/lqcontrol.html).\n",
    "\n",
    "Aprenderemos como o problema de um agente representativo difere do problema de um planejador e como um problema de planejamento pode ser usado para calcular quantidades de expectativas racionais.\n",
    "\n",
    "Também aprenderemos sobre como um equilíbrio de expectativas racionais pode ser caracterizado como um [ponto fixo](https://en.wikipedia.org/wiki/Fixed_point_%28mathematics%29) de um mapeamento a partir de uma *lei do movimento percebido* para uma *lei do movimento real*.\n",
    "\n",
    "A igualdade entre uma lei do movimento percebido e uma lei real para objetos endógenos, e que em todo o mercado captura em poucas palavras o que é o conceito de equilíbrio das expectativas racionais.\n",
    "\n",
    "Finalmente, vamos aprender sobre o importante “truque grande $ K $, pequeno $ k $”, em um dispositivo de modelagem amplamente usado em macroeconomia.\n",
    "\n",
    "Exceto que para nós:\n",
    "\n",
    "- Em vez de “grande $ K $” será “grande $ Y $”  \n",
    "- Em vez de “pequeno $ k $” será “pequeno $ y $”  "
   ]
  },
  {
   "cell_type": "markdown",
   "metadata": {},
   "source": [
    "### O Truque: Grande $ Y $, Pequeno $ y $ \n",
    "\n",
    "Esse método amplamente usado se aplica em contextos em que uma “empresa representativa” ou agente é um “tomador de preço” operando dentro de um equilíbrio competitivo.\n",
    "\n",
    "Queremos impor isso:\n",
    "\n",
    "- A empresa representativa ou indivíduo toma o *agregado* $ Y $ como dado quando escolhe  $ y $, mas $ \\ldots $.  \n",
    "- No fim do dia, $ Y = y $, para que a firma representativa seja realmente representativa.\n",
    "\n",
    "\n",
    "O truque do grande $ Y $, pequeno $ y $ realiza esses dois objetivos por:\n",
    "\n",
    "- Tomando $ Y $ além do controle ao apresentar o problema de escolha de quem escolhe $ y $;  mas $ \\ldots $.  \n",
    "- Impondo $ Y = y $  *depois* de ter resolvido o problema de otimização individual.  \n",
    "\n",
    "\n",
    "Por favor, observe como essa estratégia é aplicada à medida que a aula se desenrola.\n",
    "\n",
    "Começamos aplicando o truque do grande $ Y $, pequeno $ y $ em um contexto estático muito simples."
   ]
  },
  {
   "cell_type": "markdown",
   "metadata": {},
   "source": [
    "#### Um exemplo estático muito simples do truque  Grande $ Y $, Pequeno $ y $ \n",
    "\n",
    "Considere um modelo estático no qual uma coleção de $ n $ produzem um bem homogêneo  que é vendido em um mercado competitivo.\n",
    "\n",
    "Cada uma dessas $ n $ firmas vendem o produto $ y $.\n",
    "\n",
    "O preço $ p $ do bem está em uma curva de demanda inversa\n",
    "\n",
    "\n",
    "<a id='equation-ree-comp3d-static'></a>\n",
    "$$\n",
    "p = a_0 - a_1 Y \\tag{1}\n",
    "$$\n",
    "\n",
    "onde\n",
    "\n",
    "- $ a_i > 0 $ para $ i = 0, 1 $  \n",
    "- $ Y = n y $ o nível de produção em todo o mercado\n",
    "\n",
    "\n",
    "Cada firma tem a função de custo total:\n",
    "\n",
    "$$\n",
    "c(y) = c_1 y + 0.5 c_2 y^2,\n",
    "\\qquad c_i > 0 \\text{ para } i = 1,2\n",
    "$$\n",
    "\n",
    "Os lucros de uma firma representativa são $ p y - c(y) $.\n",
    "\n",
    "Usando [(1)](#equation-ree-comp3d-static), podemos expressar o problema da firma representativa como:\n",
    "\n",
    "\n",
    "<a id='equation-max-problem-static'></a>\n",
    "$$\n",
    "\\max_{y} \\Bigl[ (a_0 - a_1 Y) y - c_1 y - 0.5 c_2 y^2 \\Bigr] \\tag{2}\n",
    "$$\n",
    "\n",
    "Ao colocar o problema [(2)](#equation-max-problem-static), queremos que a firma seja uma *tomadora de preços*.\n",
    "\n",
    "Fazemos isso em relação a $ p $ e portanto $ Y $ é exógeno para a firma.\n",
    "\n",
    "A essência do truque do grande $ Y $, pequeno $ y $ *não* é definir $ Y = n y $ *antes de* tomar a condição de primeira ordem em relação $ y $ no problema [(2)](#equation-max-problem-static).\n",
    "\n",
    "Isso garante que a empresa seja uma tomadora de preço.\n",
    "\n",
    "A condição de primeira ordem para o problema [(2)](#equation-max-problem-static) é:\n",
    "\n",
    "\n",
    "<a id='equation-bigysimplefonc'></a>\n",
    "$$\n",
    "a_0 - a_1 Y - c_1 - c_2 y = 0 \\tag{3}\n",
    "$$\n",
    "\n",
    "Neste ponto, *mas não antes*, substituimos $ Y = ny $ dentro [(3)](#equation-bigysimplefonc)\n",
    "para obter a seguinte equação linear:\n",
    "\n",
    "\n",
    "<a id='equation-staticy'></a>\n",
    "$$\n",
    "a_0 - c_1 - (a_1 + n^{-1} c_2) Y = 0 \\tag{4}\n",
    "$$\n",
    "\n",
    "a ser resolvido para o produto do equilíbrio competitivo do mercado amplo $ Y $.\n",
    "\n",
    "Depois de resolver para $ Y $, podemos computar o preço de equilíbrio competitivo $ p $ a partir de uma curva de demanda inversa [(1)](#equation-ree-comp3d-static)."
   ]
  },
  {
   "cell_type": "markdown",
   "metadata": {},
   "source": [
    "### Leitura Adicional\n",
    "\n",
    "As referências para essa aula incluem:\n",
    "\n",
    "- [[LP71]](https://julia.quantecon.org/../zreferences.html#lucasprescott1971)  \n",
    "- [[Sar87]](https://julia.quantecon.org/../zreferences.html#sargent1987), capítulo 14  \n",
    "- [[LS18]](https://julia.quantecon.org/../zreferences.html#ljungqvist2012), capítulo 7  "
   ]
  },
  {
   "cell_type": "markdown",
   "metadata": {},
   "source": [
    "### Configuração"
   ]
  },
  {
   "cell_type": "code",
   "execution_count": 1,
   "metadata": {
    "hide-output": true
   },
   "outputs": [],
   "source": [
    "using InstantiateFromURL\n",
    "github_project(\"QuantEcon/quantecon-notebooks-julia\", version = \"0.5.0\")\n",
    "# github_project(\"QuantEcon/quantecon-notebooks-julia\", version = \"0.5.0\", instantiate = true) # uncomment to force package installation"
   ]
  },
  {
   "cell_type": "code",
   "execution_count": 2,
   "metadata": {
    "hide-output": false
   },
   "outputs": [],
   "source": [
    "using LinearAlgebra, Statistics"
   ]
  },
  {
   "cell_type": "markdown",
   "metadata": {},
   "source": [
    "## Definindo o Equilíbrio das Expectativas Racionais\n",
    "\n",
    "\n",
    "<a id='index-1'></a>\n",
    "Nossa primeira ilustração de um equilíbrio racional de expectativas envolve um mercado com $ n $ firmas, cada uma delas buscando maximizar o valor presente descontado dos lucros em face o ajustamento dos custos.\n",
    "\n",
    "O ajustamento dos custos induzem as empresas a fazer ajustes graduais, o que, por sua vez, requer consideração de preços futuros.\n",
    "\n",
    "As empresas individuais entendem que, através da curva de demanda inversa, o preço é determinado pelos valores fornecidos por outras empresas.\n",
    "\n",
    "Portanto, cada empresa deseja prever os futuros suprimentos totais da indústria.\n",
    "\n",
    "Em nosso contexto, uma previsão é gerada por uma crença sobre a lei do movimento para o estado agregado.\n",
    "\n",
    "O equilíbrio das expectativas racionais prevalece quando essa crença coincide com a lei real do movimento gerada pelas escolhas de produção induzidas por essa crença.\n",
    "\n",
    "Formulamos um equilíbrio racional de expectativas em termos de um ponto fixo de um operador que mapeia crenças em crenças ideais.\n",
    "\n",
    "<a id='ree-ce'></a>"
   ]
  },
  {
   "cell_type": "markdown",
   "metadata": {},
   "source": [
    "### Equilíbrio Competitivo com Ajustamento de Custos\n",
    "\n",
    "\n",
    "<a id='index-2'></a>\n",
    "Para ilustrar, considere uma coleção de $ n $ firmas produzindo um bem homogêneo que é vendido em um mercado competitivo.\n",
    "\n",
    "Cada uma dessas $ n $ vendem o produto $ y_t $.\n",
    "\n",
    "O preço $ p_t $ do bem está sobre uma curva de demanda inversa\n",
    "\n",
    "\n",
    "<a id='equation-ree-comp3d'></a>\n",
    "$$\n",
    "p_t = a_0 - a_1 Y_t \\tag{5}\n",
    "$$\n",
    "\n",
    "onde\n",
    "\n",
    "- $ a_i > 0 $ para $ i = 0, 1 $  \n",
    "- $ Y_t = n y_t $ é o nível de produção em todo o mercado.\n",
    "\n",
    "\n",
    "\n",
    "<a id='ree-fp'></a>"
   ]
  },
  {
   "cell_type": "markdown",
   "metadata": {},
   "source": [
    "#### O Problema da Firma\n",
    "\n",
    "Cada firma é uma tomadora de preços.\n",
    "\n",
    "Embora não exista incerteza, enfrentam os ajustamentos de custos.\n",
    "\n",
    "Em particular, a firma escolhe um plano de produção para maximizar:\n",
    "\n",
    "<a id='equation-ree-obj'></a>\n",
    "$$\n",
    "\\sum_{t=0}^\\infty \\beta^t r_t \\tag{6}\n",
    "$$\n",
    "\n",
    "onde\n",
    "\n",
    "\n",
    "<a id='equation-ree-comp2'></a>\n",
    "$$\n",
    "r_t := p_t y_t - \\frac{ \\gamma (y_{t+1} - y_t )^2 }{2},\n",
    "\\qquad  y_0 \\text{ dado} \\tag{7}\n",
    "$$\n",
    "\n",
    "Em relação aos parâmetros,\n",
    "\n",
    "- $ \\beta \\in (0,1) $ é o fator de desconto\n",
    "- $ \\gamma > 0 $ mede a taxa de ajustamento de custos do produto  \n",
    "\n",
    "\n",
    "Em relação ao tempo, a firma observa $ p_t $ e $ y_t $ quando escolhe $ y_{t+1} $ no momento $ t $.\n",
    "\n",
    "Para afirmar completamente o problema de otimização da empresa, exige que especifiquemos a dinâmica de todas as variáveis de estado.\n",
    "\n",
    "Isso inclui aquelas com os quais a empresa se preocupa, mas não controla como  $ p_t $.\n",
    "\n",
    "Agora nos voltamos para esse problema."
   ]
  },
  {
   "cell_type": "markdown",
   "metadata": {},
   "source": [
    "#### Preços e Produto Agregado\n",
    "\n",
    "Em vista de [(5)](#equation-ree-comp3d), o incentivo da firma para prever o preço de mercado se traduz em um incentivo para prever a produção agregada $ Y_t $.\n",
    "\n",
    "A produção agregada depende da escolha das outras firmas.\n",
    "\n",
    "Assumimos que $ n $ é um número tão grande que a produção de uma única empresa tem um efeito insignificante na produção agregada.\n",
    "\n",
    "Isso justifica que as empresas consideram que suas previsões de produção agregada não são afetadas por suas próprias decisões de produção."
   ]
  },
  {
   "cell_type": "markdown",
   "metadata": {},
   "source": [
    "#### A Crença da Firma\n",
    "\n",
    "Supomos que a firma acredita que a produção em todo o mercado $ Y_t $ segue a lei de movimento\n",
    "\n",
    "\n",
    "<a id='equation-ree-hlom'></a>\n",
    "$$\n",
    "Y_{t+1} =  H(Y_t) \\tag{8}\n",
    "$$\n",
    "\n",
    "onde $ Y_0 $ é uma condição inicial conhecida.\n",
    "\n",
    "A *função de crença* $ H $ é um objeto de equilíbrio e, portanto, ainda precisa ser determinado."
   ]
  },
  {
   "cell_type": "markdown",
   "metadata": {},
   "source": [
    "#### Comportamento Ótimo diante das Crenças\n",
    "\n",
    "Agora vamos considerar uma crença específica $ H $ em [(8)](#equation-ree-hlom) e investigar a resposta da firma a isso.\n",
    "\n",
    "Se $ v $ é a função de valor ótimo para o problema da firma dado $ H $.\n",
    "\n",
    "A função de valor satisfaz a equação de Bellman\n",
    "\n",
    "\n",
    "<a id='equation-comp4'></a>\n",
    "$$\n",
    "v(y,Y) = \\max_{y'} \\left\\{ a_0 y - a_1 y Y - \\frac{ \\gamma (y' - y)^2}{2}   + \\beta v(y', H(Y))\\right\\} \\tag{9}\n",
    "$$\n",
    "\n",
    "Vamos denotar a função política ótima da firma por $ h $, de modo a:\n",
    "\n",
    "\n",
    "<a id='equation-comp9'></a>\n",
    "$$\n",
    "y_{t+1} = h(y_t, Y_t) \\tag{10}\n",
    "$$\n",
    "\n",
    "onde\n",
    "\n",
    "\n",
    "<a id='equation-ree-opbe'></a>\n",
    "$$\n",
    "h(y, Y) := \\mathop{\\mathrm{arg\\,max}}_{y'}\n",
    "\\left\\{ a_0 y - a_1 y Y - \\frac{ \\gamma (y' - y)^2}{2}   + \\beta v(y', H(Y))\\right\\} \\tag{11}\n",
    "$$\n",
    "\n",
    "Evidentemente $ v $ e $ h $ ambos dependem de $ H $."
   ]
  },
  {
   "cell_type": "markdown",
   "metadata": {},
   "source": [
    "#### Caracterização de Primeira Ordem de $ h $\n",
    "\n",
    "A seguir, será útil ter uma segunda caracterização de $ h $, baseada nas condições de primeira ordem.\n",
    "\n",
    "A condição de primeira ordem necessária para escolher $ y' $ é:\n",
    "\n",
    "\n",
    "<a id='equation-comp5'></a>\n",
    "$$\n",
    "-\\gamma (y' - y) + \\beta v_y(y',H(Y)) =0 \\tag{12}\n",
    "$$\n",
    "\n",
    "Um resultado importante usual do envelope de Benveniste-Scheinkman  [[BS79]](https://julia.quantecon.org/../zreferences.html#benvenistescheinkman1979) implica que\n",
    "diferenciar $ v $ com respeito a $ y $ podemos ingenuamente diferenciar o lado direito de [(9)](#equation-comp4), dado:\n",
    "\n",
    "$$\n",
    "v_y(y,Y) = a_0 - a_1 Y + \\gamma (y' - y)\n",
    "$$\n",
    "\n",
    "Substituindo essa equação em [(12)](#equation-comp5) dá a *equação de Euler*\n",
    "\n",
    "\n",
    "<a id='equation-ree-comp7'></a>\n",
    "$$\n",
    "-\\gamma (y_{t+1} - y_t) + \\beta [a_0 - a_1 Y_{t+1} + \\gamma (y_{t+2} - y_{t+1} )] =0 \\tag{13}\n",
    "$$\n",
    "\n",
    "A firma otimiza um caminho de produção que satisfaça[(13)](#equation-ree-comp7), tomando [(8)](#equation-ree-hlom) como dado, e sujeito a:\n",
    "\n",
    "- as condições iniciais para $ (y_0, Y_0) $  \n",
    "- a condição terminal $ \\lim_{t \\rightarrow \\infty } \\beta^t y_t v_y(y_{t}, Y_t) = 0 $  \n",
    "\n",
    "\n",
    "A última condição é chamada de *condição de transversalidade*, e atua como uma condição de primeira ordem necessária  “no infinito”.\n",
    "\n",
    "A regra de decisão da firma resolve a equação da diferença [(13)](#equation-ree-comp7) sujeito à condição incial dada $ y_0 $ e a condição de transversalidade.\n",
    "\n",
    "Observe que resolvendo a equação de Bellman [(9)](#equation-comp4) para $ v $ e então $ h $ em [(11)](#equation-ree-opbe)produz uma regra de decisão que impõe automaticamente a equação de Euler [(13)](#equation-ree-comp7) e a condição de transversalidade."
   ]
  },
  {
   "cell_type": "markdown",
   "metadata": {},
   "source": [
    "#### A Lei do Movimento Atual para $ \\{Y_t\\} $\n",
    "\n",
    "Como visto, uma determinada crença se traduz em uma regra de decisão específica $ h $.\n",
    "\n",
    "Lembrando que $ Y_t = ny_t $, a *lei de movimento atual* para a produção em todo o mercado é então:\n",
    "\n",
    "\n",
    "<a id='equation-ree-comp9a'></a>\n",
    "$$\n",
    "Y_{t+1} = n h(Y_t/n, Y_t) \\tag{14}\n",
    "$$\n",
    "\n",
    "Então, quando a firma acredita que a lei de movimento para o produto de todo o mercado é [(8)](#equation-ree-hlom), seu comportamento otimizador torna a lei do movimento real [(14)](#equation-ree-comp9a).\n",
    "\n",
    "\n",
    "<a id='ree-def'></a>"
   ]
  },
  {
   "cell_type": "markdown",
   "metadata": {},
   "source": [
    "### Definição doEquilíbrio das Expectativas Racionais\n",
    "\n",
    "Um *equilíbrio de expectativas racionais* ou *equilíbrio competitivo recursivo* do modelo com ajsutamento de custos é uma regra de decisão $ h $ e uma lei de movimento agregado $ H $ de modo que:\n",
    "\n",
    "1. Dado a crença $ H $, o mapa $ h $ é a função de política ótima da firma.  \n",
    "1. A lei de movimento $ H $ satisfaz $ H(Y)= nh(Y/n,Y) $ para todo.\n",
    "  $ Y $  \n",
    "\n",
    "\n",
    "Então, um equilíbrio das expectativas racionais iguala as leis de movimento percebidas e atuais [(8)](#equation-ree-hlom) e [(14)](#equation-ree-comp9a)."
   ]
  },
  {
   "cell_type": "markdown",
   "metadata": {},
   "source": [
    "#### Caracterização do Ponto Fixo\n",
    "\n",
    "Como vimos, o problema ótimo da empresa induz um mapeamento $ \\Phi $ a partir de uma lei de movimento percebida $ H $ para a produção em todo o mercado de acordo com uma lei de movimento atual $ \\Phi(H) $.\n",
    "\n",
    "O mapeamento $ \\Phi $ é um composição de duas operações, levando uma lei de movimento percebida para uma regra de decisão via [(9)](#equation-comp4)–[(11)](#equation-ree-opbe), e uma regra de decisão para a lei atual via [(14)](#equation-ree-comp9a).\n",
    "\n",
    "O componente $ H $ de um equilíbrio das expectativas racionais é um ponto fixo de $ \\Phi $."
   ]
  },
  {
   "cell_type": "markdown",
   "metadata": {},
   "source": [
    "## Computando um Equilíbrio\n",
    "\n",
    "\n",
    "<a id='index-3'></a>\n",
    "Agora vamos considerar o problema do cálculo do equilibrio das expectativas racionais."
   ]
  },
  {
   "cell_type": "markdown",
   "metadata": {},
   "source": [
    "### Comportamento Inadequado de $ \\Phi $\n",
    "\n",
    "Os leitores acostumados a argumentos de programação dinâmica podem tentar resolver esse problema escolhendo alguma hipótese $ H_0 $ para agregar a lei do movimento e então iterar com $ \\Phi $.\n",
    "\n",
    "Infelizmente, o mapeamento  $ \\Phi $ não é uma contração.\n",
    "\n",
    "Em particular, não há garantias que iterações diretas em $ \\Phi $ convergem <sup><a href=#fn-im id=fn-im-link>[1]</a></sup>.\n",
    "\n",
    "Felizmente,  existe outro método que funciona aqui.\n",
    "\n",
    "O método explora uma conexão geral entre equilíbrio e ótimo de Pareto expressado nos teoremas fundamentais da economia do bem-estar (veja, por exemplo, [[MCWG95]](https://julia.quantecon.org/../zreferences.html#mcwg1995)).\n",
    "\n",
    "Lucas e Prescott [[LP71]](https://julia.quantecon.org/../zreferences.html#lucasprescott1971)usaram esse método para construir um equilíbrio das expectativas racionais.\n",
    "\n",
    "Os detalhes a seguir.\n",
    "\n",
    "\n",
    "<a id='ree-pp'></a>"
   ]
  },
  {
   "cell_type": "markdown",
   "metadata": {},
   "source": [
    "### Uma Abordagem do Problema do Planejador\n",
    "\n",
    "\n",
    "<a id='index-4'></a>\n",
    "Nosso plano de ataque é combinar as equações de Euler do problema de mercado com as de um problema de escolha de agente único.\n",
    "\n",
    "Como veremos, esse problema de planejadot pode ser resolvido pelo controle LQ ([o regulador linear](https://julia.quantecon.org/../dynamic_programming/lqcontrol.html)).\n",
    "\n",
    "As quantidades ótimas do problema de planejador são as quantidades do equilíbrio das expectativas racionais.\n",
    "\n",
    "O preço de equilíbrio das expectativas racionais pode ser obtido como um preço mínimo no problema de planejador.\n",
    "\n",
    "Por conveniência, nesta seção, definimos $ n=1 $.\n",
    "\n",
    "Primeiro calculamos uma soma do excedente do consumidor e do produtor no momento $ t $\n",
    "\n",
    "\n",
    "<a id='equation-comp10'></a>\n",
    "$$\n",
    "s(Y_t, Y_{t+1})\n",
    ":= \\int_0^{Y_t} (a_0 - a_1 x) \\, dx - \\frac{ \\gamma (Y_{t+1} - Y_t)^2}{2} \\tag{15}\n",
    "$$\n",
    "\n",
    "O primeiro termo é a área sob a curva de demanda, enquanto o segundo mede os custos sociais da mudança de produção.\n",
    "\n",
    "O *problema do planejador* é escolher um plano de produção $ \\{Y_t\\} $ para maximizar:\n",
    "\n",
    "$$\n",
    "\\sum_{t=0}^\\infty \\beta^t s(Y_t, Y_{t+1})\n",
    "$$\n",
    "\n",
    "sujeito a uma condição inicial para $ Y_0 $."
   ]
  },
  {
   "cell_type": "markdown",
   "metadata": {},
   "source": [
    "### Solução para o Problema do Planejador\n",
    "\n",
    "Avaliando a integral em [(15)](#equation-comp10) produz a forma quadrática $ a_0\n",
    "Y_t - a_1 Y_t^2 / 2 $.\n",
    "\n",
    "Como um resultado, a equação de Bellman para um problema de planejador é:\n",
    "\n",
    "\n",
    "<a id='equation-comp12'></a>\n",
    "$$\n",
    "V(Y) = \\max_{Y'}\n",
    "\\left\\{a_0  Y - {a_1 \\over 2} Y^2 - \\frac{ \\gamma (Y' - Y)^2}{2} + \\beta V(Y') \\right\\} \\tag{16}\n",
    "$$\n",
    "\n",
    "A condição de primeira ordem associada é:\n",
    "\n",
    "\n",
    "<a id='equation-comp14'></a>\n",
    "$$\n",
    "-\\gamma (Y' - Y) + \\beta V'(Y') = 0 \\tag{17}\n",
    "$$\n",
    "\n",
    "Aplicando a mesma fórmula de Benveniste-Scheinkman temos:\n",
    "\n",
    "$$\n",
    "V'(Y) = a_0 - a_1 Y + \\gamma (Y' - Y)\n",
    "$$\n",
    "\n",
    "Substituindo isso na equação [(17)](#equation-comp14) e reorganizando leva à equação de Euler\n",
    "\n",
    "\n",
    "<a id='equation-comp16'></a>\n",
    "$$\n",
    "\\beta a_0 + \\gamma Y_t - [\\beta a_1 + \\gamma (1+ \\beta)]Y_{t+1} + \\gamma \\beta Y_{t+2} =0 \\tag{18}\n",
    "$$"
   ]
  },
  {
   "cell_type": "markdown",
   "metadata": {},
   "source": [
    "### O *Insight* principal\n",
    "\n",
    "Retorne a equação [(13)](#equation-ree-comp7) e defina $ y_t = Y_t $ para todo $ t $.\n",
    "\n",
    "(lembre-se que para essa seção definimos $ n=1 $ para simplificar os cálculos)\n",
    "\n",
    "Uma pequena quantidade de álgebra o convencerá de que quando $ y_t=Y_t $, as equações [(18)](#equation-comp16) e [(13)](#equation-ree-comp7) são idênticas.\n",
    "\n",
    "Assim, a equação de Euler para o problema de planejamento corresponde à equação da diferença de segunda ordem que derivamos por:\n",
    "\n",
    "1. Encontrando a equação de Euler da firma representativa, e \n",
    "2. substituindo nela a expressão  $ Y_t = n y_t $ que “faz a firma representativa ser representativa”.  \n",
    "\n",
    "\n",
    "Se for apropriado aplicar as mesmas condições terminais para essas duas equações diferenciais, que é, então verificamos que uma solução do problema de planejamento também é uma sequência de quantidades do equilíbrio das expectativas racionais.\n",
    "\n",
    "Segue-se que, para este exemplo, podemos calcular quantidades de equilíbrio formando o problema ótimo do regulador linear correspondente à equação de Bellman [(16)](#equation-comp12).\n",
    "\n",
    "A função de política ótima para o problema de planejamento é a lei de movimento agregada\n",
    "$ H $ que a empresa representativa enfrenta dentro de um equilíbrio das expectativas racionais."
   ]
  },
  {
   "cell_type": "markdown",
   "metadata": {},
   "source": [
    "#### Estrutura da Lei de Movimento\n",
    "\n",
    "Como você é solicitado a mostrar nos exercícios, o fato de o problema do planejador ser um problema de LQ implica uma política ideal - e, portanto, lei agregada do movimento - assume a forma:\n",
    "\n",
    "\n",
    "<a id='equation-ree-hlom2'></a>\n",
    "$$\n",
    "Y_{t+1}\n",
    "= \\kappa_0 + \\kappa_1 Y_t \\tag{19}\n",
    "$$\n",
    "\n",
    "para algum par de parâmetros $ \\kappa_0, \\kappa_1 $.\n",
    "\n",
    "Agora que sabemos que a lei agregada do movimento é linear, podemos ver pela equação de Bellman da firma [(9)](#equation-comp4) que o problema da firma também pode ser enquadrado como um problema de LQ.\n",
    "\n",
    "Como você é solicitado a mostrar nos exercícios, a formulação LQ do problema da empresa implica uma lei do movimento que se parece com a seguinte:\n",
    "\n",
    "\n",
    "<a id='equation-ree-ex5'></a>\n",
    "$$\n",
    "y_{t+1} = h_0 + h_1 y_t + h_2 Y_t \\tag{20}\n",
    "$$\n",
    "\n",
    "Portando o equilíbrio das expectativas racionais será definido pelos parâmetros\n",
    "$ (\\kappa_0, \\kappa_1, h_0, h_1, h_2) $ em [(19)](#equation-ree-hlom2)–[(20)](#equation-ree-ex5)."
   ]
  },
  {
   "cell_type": "markdown",
   "metadata": {},
   "source": [
    "## Exercícios\n",
    "\n",
    "\n",
    "<a id='ree-ex1'></a>"
   ]
  },
  {
   "cell_type": "markdown",
   "metadata": {},
   "source": [
    "### Exercício 1\n",
    "\n",
    "Considere o problema da firma [descrito acima](#ree-fp).\n",
    "\n",
    "Seja a função de crença da firma $ H $ como dada em [(19)](#equation-ree-hlom2).\n",
    "\n",
    "Formule o problema da firma como um problema regulador linear ótimo com desconto, tomando cuidado para descrever todos os objetos necessários.\n",
    "\n",
    "Use o tipo `LQ` disponível no pacote [QuantEcon.jl](http://quantecon.org/quantecon-jl) para resolver o problema da empresa para os seguintes valores de parâmetro:\n",
    "\n",
    "$$\n",
    "a_0= 100, a_1= 0.05, \\beta = 0.95, \\gamma=10, \\kappa_0 = 95.5, \\kappa_1 = 0.95\n",
    "$$\n",
    "\n",
    "Expresse a solução do problema da empresa na forma [(20)](#equation-ree-ex5) e forneça os valores para cada $ h_j $.\n",
    "\n",
    "Se houvesse $ n $ empresas concorrentes idênticas, todas se comportando de acordo com [(20)](#equation-ree-ex5), o que [(20)](#equation-ree-ex5) implicaria a lei de movimento *real* [(8)](#equation-ree-hlom) para a oferta de mercado.\n",
    "\n",
    "\n",
    "<a id='ree-ex2'></a>"
   ]
  },
  {
   "cell_type": "markdown",
   "metadata": {},
   "source": [
    "### Exercício 2 \n",
    "\n",
    "Considere os seguintes pares $ \\kappa_0, \\kappa_1 $ como candidatos ao componente da lei do movimento agregado de um equilíbrio das expectativas racionais (veja\n",
    "[(19)](#equation-ree-hlom2)).\n",
    "\n",
    "Estendendo o programa que você escreveu para o exercício 1, determine quais deles satisfazem [a definição](#ree-def) de um equilíbrio das expectativas racionais\n",
    "\n",
    "- (94.0886298678, 0.923409232937)  \n",
    "- (93.2119845412, 0.984323478873)  \n",
    "- (95.0818452486, 0.952459076301)  \n",
    "\n",
    "\n",
    "Descreva um algoritmo iterativo que usa o programa que você escreveu para o exercício 1 para calcular um equilíbrio das expectativas racionais.\n",
    "\n",
    "(Na verdade, você não está sendo solicitado a usar o algoritmo que está sugerindo)\n",
    "\n",
    "\n",
    "<a id='ree-ex3'></a>"
   ]
  },
  {
   "cell_type": "markdown",
   "metadata": {},
   "source": [
    "### Exercício 3\n",
    "\n",
    "Lembre-se do problema do planejador [descrito acima](#ree-pp)\n",
    "\n",
    "1. Formule o problema do planejador como um problema de LQ.\n",
    "1. Resolva-o usando os mesmos valores de parâmetro no exercício 1: \n",
    "  \n",
    "  - $ a_0= 100, a_1= 0.05, \\beta = 0.95, \\gamma=10 $  \n",
    "  \n",
    "1. Represente a solução na forma $ Y_{t+1} = \\kappa_0 + \\kappa_1 Y_t $.  \n",
    "1. Compare suas respostas com os resultado do exercício 2.  \n",
    "\n",
    "\n",
    "\n",
    "<a id='ree-ex4'></a>"
   ]
  },
  {
   "cell_type": "markdown",
   "metadata": {},
   "source": [
    "### Exercício 4\n",
    "\n",
    "Um monopolista enfrenta a curva de demanda da indústria [(5)](#equation-ree-comp3d) e escolhe $ \\{Y_t\\} $ para maximizar $ \\sum_{t=0}^{\\infty} \\beta^t r_t $ onde\n",
    "\n",
    "$$\n",
    "r_t = p_t Y_t - \\frac{\\gamma (Y_{t+1} - Y_t)^2 }{2}\n",
    "$$\n",
    "\n",
    "Formule esse problema como um problema de LQ.\n",
    "\n",
    "Calcule a política ideal usando os mesmos parâmetros do exercício anterior.\n",
    "\n",
    "Em particular, resolva os parâmetros em:\n",
    "\n",
    "$$\n",
    "Y_{t+1} = m_0 + m_1 Y_t\n",
    "$$\n",
    "\n",
    "Compare seus resultados com o exercício anterior. Comente."
   ]
  },
  {
   "cell_type": "markdown",
   "metadata": {},
   "source": [
    "## Soluções"
   ]
  },
  {
   "cell_type": "markdown",
   "metadata": {},
   "source": [
    "### Exercício 1"
   ]
  },
  {
   "cell_type": "code",
   "execution_count": 3,
   "metadata": {
    "hide-output": false
   },
   "outputs": [],
   "source": [
    "using QuantEcon, Printf, LinearAlgebra"
   ]
  },
  {
   "cell_type": "markdown",
   "metadata": {},
   "source": [
    "Para mapear um problema em um [problema de controle linear com desconto](http://quant-econ.net/jl/lqcontrol.html), precisamos definir:\n",
    "\n",
    "- o vetor de estado $ x_t $ e o vetor de controle $ u_t $  \n",
    "- as matrizes $ A, B, Q, R $ que definem as preferências e a lei de movimento para o estado \n",
    "\n",
    "\n",
    "Para os vetores de estado e controle escolhemos:\n",
    "\n",
    "$$\n",
    "x_t = \\begin{bmatrix} y_t \\\\ Y_t \\\\ 1 \\end{bmatrix},\n",
    "\\qquad\n",
    "u_t = y_{t+1} - y_{t}\n",
    "$$\n",
    "\n",
    "Para $ , B, Q, R $ definimos:\n",
    "\n",
    "$$\n",
    "A =\n",
    "\\begin{bmatrix}\n",
    "    1 & 0 & 0 \\\\\n",
    "    0 & \\kappa_1 & \\kappa_0 \\\\\n",
    "    0 & 0 & 1\n",
    "\\end{bmatrix},\n",
    "\\quad\n",
    "B = \\begin{bmatrix} 1 \\\\ 0 \\\\ 0 \\end{bmatrix} ,\n",
    "\\quad\n",
    "R =\n",
    "\\begin{bmatrix}\n",
    "    0 & a_1/2 & -a_0/2 \\\\\n",
    "    a_1/2 & 0 & 0 \\\\\n",
    "    -a_0/2 & 0 & 0\n",
    "\\end{bmatrix},\n",
    "\\quad\n",
    "Q = \\gamma / 2\n",
    "$$\n",
    "\n",
    "Ao multiplicar, você pode confirmar que:\n",
    "\n",
    "- $ x_t' R x_t + u_t' Q u_t = - r_t $  \n",
    "- $ x_{t+1} = A x_t + B u_t $  \n",
    "\n",
    "\n",
    "Usaremos o módulo  `lqcontrol.jl` para resolver o problema da firma nos valores de parâmetros para o estado.\n",
    "\n",
    "Isso retornará uma política LQ $ F $ com a interpretação:\n",
    "$ u_t = - F x_t $, ou\n",
    "\n",
    "$$\n",
    "y_{t+1} - y_t = - F_0 y_t - F_1 Y_t - F_2\n",
    "$$\n",
    "\n",
    "Correspondência de parâmetros com  $ y_{t+1} = h_0 + h_1 y_t + h_2 Y_t $ leva a:\n",
    "\n",
    "$$\n",
    "h_0 = -F_2, \\quad h_1 = 1 - F_0, \\quad h_2 = -F_1\n",
    "$$\n",
    "\n",
    "Aqui está a nossa solução."
   ]
  },
  {
   "cell_type": "code",
   "execution_count": 4,
   "metadata": {
    "hide-output": false,
    "scrolled": true
   },
   "outputs": [
    {
     "name": "stdout",
     "output_type": "stream",
     "text": [
      "F = [-0.000, 0.046, -96.949]\n",
      "(h0, h1, h2) = [96.949, 1.000, -0.046]\n"
     ]
    }
   ],
   "source": [
    "# modelo parâmetros\n",
    "a0 = 100\n",
    "a1 = 0.05\n",
    "β = 0.95\n",
    "γ = 10.0\n",
    "\n",
    "# crenças\n",
    "κ0 = 95.5\n",
    "κ1 = 0.95\n",
    "\n",
    "# formulando o problema LQ\n",
    "A = [1  0  0\n",
    "     0 κ1 κ0\n",
    "     0  0  1]\n",
    "\n",
    "B = [1.0, 0.0, 0.0]\n",
    "\n",
    "R = [    0   a1/2 -a0/2\n",
    "      a1/2      0     0\n",
    "     -a0/2      0     0]\n",
    "\n",
    "Q = 0.5 * γ\n",
    "\n",
    "# resolver para a política ótima\n",
    "lq = QuantEcon.LQ(Q, R, A, B; bet = β)\n",
    "P, F, d = stationary_values(lq)\n",
    "\n",
    "hh = h0, h1, h2 = -F[3], 1 - F[1], -F[2]\n",
    "\n",
    "@printf(\"F = [%.3f, %.3f, %.3f]\\n\", F[1], F[2], F[3])\n",
    "@printf(\"(h0, h1, h2) = [%.3f, %.3f, %.3f]\\n\", h0, h1, h2)"
   ]
  },
  {
   "cell_type": "markdown",
   "metadata": {},
   "source": [
    "A implicação é que\n",
    "\n",
    "$$\n",
    "y_{t+1} = 96.949 + y_t - 0.046 \\, Y_t\n",
    "$$\n",
    "\n",
    "Para o caso $ n > 1 $, lembre-se que $ Y_t = n y_t $, que,\n",
    "combinado com a equação anterior, produz:\n",
    "$$\n",
    "Y_{t+1}\n",
    "= n \\left( 96.949 + y_t - 0.046 \\, Y_t \\right)\n",
    "= n 96.949 + (1 - n 0.046) Y_t\n",
    "$$"
   ]
  },
  {
   "cell_type": "markdown",
   "metadata": {},
   "source": [
    "### Exercício 2\n",
    "\n",
    "Para determinar se um par $ \\kappa_0, \\kappa_1 $ forma a componente lei do movimento agregado de um equilíbrio das expectativas racionais, podemos proceder da seguinte forma:\n",
    "\n",
    "- Determine a lei de movimento correspondente:\n",
    "  $ y_{t+1} = h_0 + h_1 y_t + h_2 Y_t $.  \n",
    "- Teste se a lei agregada associada:\n",
    "  :$ Y_{t+1} = n h(Y_t/n, Y_t) $ avalia para\n",
    "  $ Y_{t+1} = \\kappa_0 + \\kappa_1 Y_t $.  \n",
    "\n",
    "\n",
    "No segundo passo podemos usar $ Y_t = n y_t = y_t $, para que\n",
    "$ Y_{t+1} = n h(Y_t/n, Y_t) $ se torne:\n",
    "\n",
    "$$\n",
    "Y_{t+1} = h(Y_t, Y_t) = h_0 + (h_1 + h_2) Y_t\n",
    "$$\n",
    "\n",
    "Portanto para testar o segundo passo podemos testar $ \\kappa_0 = h_0 $ e\n",
    "$ \\kappa_1 = h_1 + h_2 $.\n",
    "\n",
    "O código seguinte implementa esse teste."
   ]
  },
  {
   "cell_type": "code",
   "execution_count": 5,
   "metadata": {
    "hide-output": false
   },
   "outputs": [
    {
     "name": "stdout",
     "output_type": "stream",
     "text": [
      "Equilibrium pair = (95.081845, 0.952459)\n",
      "(h0, h1, h2) = [95.081891, 1.000000, -0.047541]\n"
     ]
    }
   ],
   "source": [
    "candidates = ([94.0886298678, 0.923409232937],\n",
    "              [93.2119845412, 0.984323478873],\n",
    "              [95.0818452486, 0.952459076301])\n",
    "\n",
    "for (k0, k1) in candidates\n",
    "    A = [1  0  0\n",
    "         0 k1 k0\n",
    "         0  0  1]\n",
    "    lq = QuantEcon.LQ(Q, R, A, B; bet=β)\n",
    "    P, F, d = stationary_values(lq)\n",
    "    hh = h0, h1, h2 = -F[3], 1 - F[1], -F[2]\n",
    "\n",
    "    if isapprox(k0, h0; atol = 1e-4) && isapprox(k1, h1 + h2; atol = 1e-4)\n",
    "        @printf(\"Equilibrium pair = (%.6f, %.6f)\\n\", k0, k1)\n",
    "        @printf(\"(h0, h1, h2) = [%.6f, %.6f, %.6f]\\n\", h0, h1, h2)\n",
    "    end\n",
    "end"
   ]
  },
  {
   "cell_type": "markdown",
   "metadata": {},
   "source": [
    "A resultado nos diz que a resposta é o par (iii), que implica\n",
    "$ (h_0, h_1, h_2) = (95.0819, 1.0000, -.0475) $.\n",
    "\n",
    "(Observe que usamos `isapprox` para testar a igualdade de números de ponto flutuante, pois a igualdade exata é muito rigorosa)\n",
    "\n",
    "Em relação ao algoritmo iterativo, pode-se fazer um loop de um dado par\n",
    "$ (\\kappa_0, \\kappa_1) $ para a lei da firma associada e então para um novo $ (\\kappa_0, \\kappa_1) $.\n",
    "\n",
    "Isso equivale à implementação do operador  $ \\Phi $ descrito na aula.\n",
    "\n",
    "(Em geral, não há garantia de que esse processo iterativo convirja para um equilíbrio racional de expectativas)"
   ]
  },
  {
   "cell_type": "markdown",
   "metadata": {},
   "source": [
    "### Exercício 3\n",
    "\n",
    "Somos solicitados a escrever o problema do planejador como um problema de LQ.\n",
    "\n",
    "Para os vetores de estado e controle escolhemos:\n",
    "\n",
    "$$\n",
    "x_t = \\begin{bmatrix} Y_t \\\\ 1 \\end{bmatrix},\n",
    "\\quad\n",
    "u_t = Y_{t+1} - Y_{t}\n",
    "$$\n",
    "\n",
    "Para as matrizes LQ definimos:\n",
    "\n",
    "$$\n",
    "A = \\begin{bmatrix} 1 & 0 \\\\ 0 & 1 \\end{bmatrix},\n",
    "\\quad\n",
    "B = \\begin{bmatrix} 1 \\\\ 0 \\end{bmatrix},\n",
    "\\quad\n",
    "R = \\begin{bmatrix} a_1/2 & -a_0/2 \\\\ -a_0/2 & 0 \\end{bmatrix},\n",
    "\\quad\n",
    "Q = \\gamma / 2\n",
    "$$\n",
    "\n",
    "Ao multiplicar, você pode confirmar que\n",
    "\n",
    "- $ x_t' R x_t + u_t' Q u_t = - s(Y_t, Y_{t+1}) $  \n",
    "- $ x_{t+1} = A x_t + B u_t $  \n",
    "\n",
    "\n",
    "Obtendo a política ótima e usando $ u_t = - F x_t $ ou\n",
    "\n",
    "$$\n",
    "Y_{t+1} - Y_t = -F_0 Y_t - F_1\n",
    "$$\n",
    "\n",
    "podemos obter a lei agregada implícita do movimento via\n",
    "$ \\kappa_0 = -F_1 $ and $ \\kappa_1 = 1-F_0 $"
   ]
  },
  {
   "cell_type": "code",
   "execution_count": 6,
   "metadata": {
    "hide-output": false
   },
   "outputs": [
    {
     "name": "stdout",
     "output_type": "stream",
     "text": [
      "κ0=95.08187459215002\tκ1=0.9524590627039248\n"
     ]
    }
   ],
   "source": [
    "# Formule o problema do planejador LQ\n",
    "A = I + zeros(2, 2)\n",
    "B = [1.0, 0.0]\n",
    "\n",
    "R = [ a1 / 2.0  -a0 / 2.0\n",
    "     -a0 / 2.0        0.0]\n",
    "\n",
    "Q = γ / 2.0\n",
    "\n",
    "# resolva para a política ótima\n",
    "lq = QuantEcon.LQ(Q, R, A, B; bet=β)\n",
    "P, F, d = stationary_values(lq)\n",
    "\n",
    "# imprima os resultados\n",
    "κ0, κ1 = -F[2], 1 - F[1]\n",
    "println(\"κ0=$κ0\\tκ1=$κ1\")"
   ]
  },
  {
   "cell_type": "markdown",
   "metadata": {},
   "source": [
    "O resultado produz o mesmo $ (\\kappa_0, \\kappa_1) $ par obtido como um equilíbrio do exercício anterior."
   ]
  },
  {
   "cell_type": "markdown",
   "metadata": {},
   "source": [
    "### Exercício 4\n",
    "\n",
    "O problema do monopolista LQ é quase idêntico ao problema do planejador\n",
    "do exercício anterior, exceto que\n",
    "\n",
    "$$\n",
    "R = \\begin{bmatrix}\n",
    "    a_1 & -a_0/2 \\\\\n",
    "    -a_0/2 & 0\n",
    "\\end{bmatrix}\n",
    "$$\n",
    "\n",
    "O problema pode ser resolvido como o seguinte"
   ]
  },
  {
   "cell_type": "code",
   "execution_count": 7,
   "metadata": {
    "hide-output": false
   },
   "outputs": [
    {
     "name": "stdout",
     "output_type": "stream",
     "text": [
      "m0=73.47294403502833\tm1=0.9265270559649701\n"
     ]
    }
   ],
   "source": [
    "# formule o problema do monopolista LQ\n",
    "A = I + zeros(2, 2)\n",
    "B = [1.0, 0.0]\n",
    "\n",
    "R = [       a1   -a0 / 2.0\n",
    "     -a0 / 2.0         0.0]\n",
    "\n",
    "Q = γ / 2.0\n",
    "\n",
    "# Resolva para a política ótima\n",
    "lq = QuantEcon.LQ(Q, R, A, B; bet=β)\n",
    "P, F, d = stationary_values(lq)\n",
    "\n",
    "# Imprima os resultados\n",
    "m0, m1 = -F[2], 1 - F[1]\n",
    "println(\"m0=$m0\\tm1=$m1\")"
   ]
  },
  {
   "cell_type": "markdown",
   "metadata": {},
   "source": [
    "Vemos que a lei de movimento para o monopolista é aproximadamente \n",
    "$ Y_{t+1} = 73.4729 + 0.9265 Y_t $.\n",
    "\n",
    "No caso das expectativas racionais, a lei do movimento era aproximadamente \n",
    "$ Y_{t+1} = 95.0819 + 0.9525 Y_t $.\n",
    "\n",
    "Uma maneira de comparar essas duas leis do movimento é por seus pontos fixos, que fornecem um produto de equilíbrio a longo prazo em cada caso.\n",
    "\n",
    "Para leis de forma $ Y_{t+1} = c_0 + c_1 Y_t $, o ponto fixo é:\n",
    "$ c_0 / (1 - c_1) $.\n",
    "\n",
    "Se você analisar os números, verá que o monopolista adota uma quantidade menor a longo prazo do que a obtida pelo mercado competitivo, implicando um preço de mercado mais alto.\n",
    "\n",
    "Isso é análogo aos resultados elementares de casos estáticos."
   ]
  },
  {
   "cell_type": "markdown",
   "metadata": {},
   "source": [
    "**Notas de Rodapé**\n",
    "\n",
    "<p><a id=fn-im href=#fn-im-link><strong>[1]</strong></a> Um literatura que estuda se os modelos povoadas com agentes que aprendem, podem convergir aos equilíbrios das expectativas racionais apresenta iterações em uma modificação do mapeamento $ \\Phi $ que pode ser aproximada como $ \\gamma \\Phi + (1-\\gamma)I $. Aqui $ I $ é o operador identidade e $ \\gamma \\in (0,1) $ é um *parâmetro de relaxamento*.\n",
    "Veja [MS89](https://julia.quantecon.org/../zreferences.html#marcetsargent1989) e [[EH01]](https://julia.quantecon.org/../zreferences.html#evanshonkapohja2001) para declarações e aplicações desta abordagem para estabelecer condições sob as quais coleções de agentes adaptativos que usam o aprendizado de mínimos quadrados convergem para um equilíbrio das expectatívas racionais."
   ]
  }
 ],
 "metadata": {
  "celltoolbar": "Raw Cell Format",
  "date": 1572312787.1777787,
  "download_nb": 1,
  "download_nb_path": "https://julia.quantecon.org/",
  "filename": "rational_expectations.rst",
  "filename_with_path": "multi_agent_models/rational_expectations",
  "kernelspec": {
   "display_name": "Julia 1.3.1",
   "language": "julia",
   "name": "julia-1.3"
  },
  "language_info": {
   "file_extension": ".jl",
   "mimetype": "application/julia",
   "name": "julia",
   "version": "1.3.1"
  },
  "title": "Rational Expectations Equilibrium"
 },
 "nbformat": 4,
 "nbformat_minor": 4
}
