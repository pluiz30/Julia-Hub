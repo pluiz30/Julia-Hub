{
 "cells": [
  {
   "cell_type": "markdown",
   "metadata": {},
   "source": [
    "\n",
    "<a id='mccall'></a>\n",
    "<div id=\"qe-notebook-header\" style=\"text-align:right;\">\n",
    "        <a href=\"https://quantecon.org/\" title=\"quantecon.org\">\n",
    "                <img style=\"width:250px;display:inline;\" src=\"https://assets.quantecon.org/img/qe-menubar-logo.svg\" alt=\"QuantEcon\">\n",
    "        </a>\n",
    "</div>"
   ]
  },
  {
   "cell_type": "markdown",
   "metadata": {},
   "source": [
    "# Pesquisa de Emprego I: O Modelo de Pesquisa de McCall"
   ]
  },
  {
   "cell_type": "markdown",
   "metadata": {},
   "source": [
    "## Conteúdo\n",
    "\n",
    "- [Pesquisa de Emprego I: O Modelo de Pesquisa de McCall](#Pesquisa-de-Emprego-I:-O-Modelo-de-Pesquisa-de-McCall)  \n",
    "  - [Resumo](#Resumo)  \n",
    "  - [O Modelo de McCall](#O-Modelo-de-McCall)  \n",
    "  - [Computando a Política Ótima: Parte 1](#Computando-a-Política-Ótima:-Parte-1)  \n",
    "  - [Computando a Política Ótima: Parte 2](#Computando-a-Política-Ótima:-Parte-2)  \n",
    "  - [Exercícios](#Exercícios)  \n",
    "  - [Soluções](#Soluções)  "
   ]
  },
  {
   "cell_type": "markdown",
   "metadata": {},
   "source": [
    "> *Devidamente traduzido, revisado e adaptado do [QuantEcon](https://quantecon.org/) pelos bolsistas CNPq, Pedro Luiz H. Furtado e Jonas Aragão M. Corpes, sob supervisão do Prof. Christiano Penna, do CAEN/UFC.*"
   ]
  },
  {
   "cell_type": "markdown",
   "metadata": {},
   "source": [
    ">> \"Questionar um funcionário da McCall é como ter uma conversa com um amigo desempregado: 'Talvez você esteja exagerando', ou 'Por que você deixou o seu emprego antes de ter um novo?' Esta é uma ciência social real: uma tentativa de modelar, entender o comportamento humano, visualizando a situação em que as pessoas se encontram, as opções que enfrentam e os prós e contras como elas mesmas as veem.” – Robert E. Lucas, Jr."
   ]
  },
  {
   "cell_type": "markdown",
   "metadata": {},
   "source": [
    "## Resumo\n",
    "\n",
    "O modelo de pesquisa de McCall [[McC70]](https://julia.quantecon.org/../zreferences.html#mccall1970) ajudou a transformar a maneira de pensar dos economistas sobre o mercado de trabalho.\n",
    "\n",
    "Para esclarecer noções vagas, como o desemprego \"involuntário\", McCall modelou o problema de decisão dos agentes desempregados diretamente, em termos de fatores como:\n",
    "\n",
    "- Atuais e prováveis salários futuros.  \n",
    "- Impaciência.\n",
    "- seguro desemprego, \n",
    "\n",
    "\n",
    "Para resolver o problema de decisão ele usou programação dinâmica.\n",
    "\n",
    "Aqui, configuramos o modelo de McCall e adotamos o mesmo método de solução.\n",
    "\n",
    "Como veremos, o modelo de McCall não é apenas interessante por si só, mas também um excelente veículo para o aprendizado de programação dinâmica."
   ]
  },
  {
   "cell_type": "markdown",
   "metadata": {},
   "source": [
    "## O Modelo de McCall\n",
    "\n",
    "\n",
    "<a id='index-0'></a>\n",
    "Um trabalhador desempregado recebe em cada período uma oferta de emprego com salário $ W_t $.\n",
    "\n",
    "No momento $ t $, nosso trabalhador tem duas escolhas:\n",
    "\n",
    "1. Aceitar a oferta e trabalhar permanentemente com um salário constante $ W_t $.  \n",
    "1. Rejeitar a oferta, receber o seguro desemprego $ c $, e reconsiderar o próximo período.  \n",
    "\n",
    "\n",
    "A sequência salarial $ \\{W_t\\} $ é assumida a ser iid com função densidade de probabilidade $ p_1, \\ldots, p_n $.\n",
    "\n",
    "Aqui $ p_i $ é a probabilidade de obeservar a oferta de trabalho $ W_t = w_i $ no conjuto $ w_1, \\ldots, w_n $.\n",
    "\n",
    "O trabalhador tem vida infinita e tem como objetivo maximizar a soma esperada dos ganhos com desconto.\n",
    "\n",
    "$$\n",
    "\\mathbb{E} \\sum_{t=0}^{\\infty} \\beta^t Y_t\n",
    "$$\n",
    "\n",
    "A constante $ \\beta $ está entre $ (0, 1) $ e é chamada de **fator de desconto**.\n",
    "\n",
    "Quanto menor é $ \\beta $, mais o trabalhador desconta a utilidade do futuro em relação a utilidade atual.\n",
    "\n",
    "A variável $ Y_t $ é a renda, igual a:\n",
    "\n",
    "- Seu salário $ W_t $ quando empregado.  \n",
    "- Seguro desemprego $ c $ quando desempregado. "
   ]
  },
  {
   "cell_type": "markdown",
   "metadata": {},
   "source": [
    "### Um Trade Off\n",
    "\n",
    "O trabalhador enfrenta um trade-off:\n",
    "\n",
    "- Esperar demais por uma boa oferta é caro, pois o futuro é descontado.\n",
    "- Aceitar muito cedo é caro, pois melhores ofertas podem chegar no futuro.  \n",
    "\n",
    "Para decidir da melhor maneira possível diante dessa troca, usamos a programação dinâmica.\n",
    "\n",
    "A programação dinâmica pode ser pensada como um procedimento de duas etapas que:\n",
    "\n",
    "1. primeiro atribui valores a “estados” e,  \n",
    "1. então deduz as ações ideais, dados esses valores. \n",
    "\n",
    "\n",
    "Seguiremos essas etapas sucessivamente."
   ]
  },
  {
   "cell_type": "markdown",
   "metadata": {},
   "source": [
    "### A Função de Valor\n",
    "\n",
    "Para otimizar as recompensas atuais e futuras, precisamos pensar em duas coisas:\n",
    "\n",
    "1. Os pagamentos atuais que recebemos de diferentes opções.\n",
    "1. Os diferentes estados que essas escolhas levarão ao próximo período (nesse caso, emprego ou desemprego). \n",
    "\n",
    "\n",
    "Para ponderar esses dois aspectos do problema de decisão, precisamos atribuir *valores* a estados.\n",
    "\n",
    "Para esse fim, se $ V(w) $ o *valor* total da vida útil acumulado para um trabalhador desempregado que entra no período atual desempregado, mas com oferta de salário $ w $ nas mãos.\n",
    "\n",
    "Mais precisamente, $ V(w) $ denota o valor de uma função objetivo [(1)](https://julia.quantecon.org/mccall_model_with_separation.html#equation-objective) quando um agente nessa situação faz decisões *ótimas* agora e em todos os momentos do futuro.\n",
    "\n",
    "Claro que $ V(w) $ não é trivial para calcular porque ainda não conhecemos quais decisões são ótimas e quais não são!\n",
    "\n",
    "Mas pense em $ V $ como uma função que atribui a cada salário possível $ w $ o valor máximo da vida útil que pode ser obtido com essa oferta em mãos.\n",
    "\n",
    "Uma observação crucial é que essa função $ V $ deve satisfazer:\n",
    "\n",
    "\n",
    "<a id='equation-odu-pv'></a>\n",
    "$$\n",
    "V(w)\n",
    "= \\max \\left\\{\n",
    "        \\frac{w}{1 - \\beta}, \\, c + \\beta \\sum_{i=1}^n V(w_i) p_i\n",
    "    \\right\\} \\tag{1}\n",
    "$$\n",
    "\n",
    "para todo possível $ w_i $  em $ w_1, \\ldots, w_n $.\n",
    "\n",
    "Essa importante equação é uma versão importante da **equação de Bellman**,  que é onipresente na dinâmica econômica e em outros campos que envolvem planejamento ao longo do tempo.\n",
    "\n",
    "A intuição por trás disso é a seguinte:\n",
    "\n",
    "- o primeiro termo dentro da operação máxima é o retorno vitalício da aceitação da oferta atual $ w $, desde:  \n",
    "\n",
    "\n",
    "$$\n",
    "w + \\beta w + \\beta^2 w + \\cdots = \\frac{w}{1 - \\beta}\n",
    "$$\n",
    "\n",
    "- o segundo termo dentro da operação  de máximização é o **valor de continuação**, que é a recompensa vitalícia por rejeitar a oferta atual e depois se comportar de maneira ideal em todos os períodos subsequentes.\n",
    "\n",
    "\n",
    "Se otimizarmos e escolhermos o melhor dessas duas opções, obteremos o valor máximo da vida útil a partir de hoje, dada a oferta atual $ V(w) $, que é o l.h.s. de [(1)](#equation-odu-pv)."
   ]
  },
  {
   "cell_type": "markdown",
   "metadata": {},
   "source": [
    "### A Política Ideal\n",
    "\n",
    "Suponha que, por enquanto, possamos resolver [(1)](#equation-odu-pv) a função desconhecida $ V $.\n",
    "\n",
    "Uma vez que tenhamos essa função em mãos, podemos nos comportar de maneira ideal (ou seja, fazer a escolha certa entre aceitar e rejeitar).\n",
    "\n",
    "Tudo o que precisamos fazer é selecionar a opção máxima no r.h.s de [(1)](#equation-odu-pv).\n",
    "\n",
    "A ação ideal é melhor pensada como uma  **política**, que é, em geral, um mapa de estados para ações.\n",
    "\n",
    "No nosso caso, o estado é a oferta de salário atual $ w $.\n",
    "\n",
    "Dado que para *qualquer* $ w $, podemos ler como a melhor opção correspondente (aceitar ou rejeitar) escolhendo o máximo no r.h.s de [(1)](#equation-odu-pv).\n",
    "\n",
    "Então, temos um mapa de $ \\mathbb{R} $ para $ \\{0, 1\\} $, com 1 significando aceitar e zero significando rejeitar.\n",
    "\n",
    "Podemos escrever a política como a seguinte:\n",
    "\n",
    "$$\n",
    "\\sigma(w) := \\mathbf{1}\n",
    "    \\left\\{\n",
    "        \\frac{w}{1 - \\beta} \\geq c + \\beta \\sum_{i=1}^n V(w_i) p_i\n",
    "    \\right\\}\n",
    "$$\n",
    "\n",
    "Aqui $ \\mathbf{1}\\{ P \\} = 1 $ se $ P $ é verdadeiro e igual a zero caso contrário.\n",
    "\n",
    "Podemos também escrever isso como:\n",
    "\n",
    "$$\n",
    "\\sigma(w) := \\mathbf{1} \\{ w \\geq \\bar w \\}\n",
    "$$\n",
    "\n",
    "onde:\n",
    "\n",
    "\n",
    "<a id='equation-odu-barw'></a>\n",
    "$$\n",
    "\\bar w := (1 - \\beta) \\left\\{ c + \\beta \\sum_{i=1}^n V(w_i) p_i \\right\\} \\tag{2}\n",
    "$$\n",
    "\n",
    "Aqui $ \\bar w $ é uma constante dependendo de $ \\beta, c $ e a distribuição do salário, chamada de *salário de reserva*.\n",
    "\n",
    "O agente deve aceitar se e somente se a oferta de salário atual exceder o salário de reserva.\n",
    "\n",
    "Claramente, podemos computar esse salário de reserva se pudermos computar a função de valor."
   ]
  },
  {
   "cell_type": "markdown",
   "metadata": {},
   "source": [
    "## Computando a Política Ótima: Parte 1\n",
    "\n",
    "Para colocar as idéias acima em ação, precisamos computar a função de valor nos pontos $ w_1, \\ldots, w_n $.\n",
    "\n",
    "Ao fazer isso, podemos identificar esses valores como o vetor $ v = (v_i) $ onde $ v_i := V(w_i) $.\n",
    "\n",
    "Em vista de [(1)](#equation-odu-pv), este vetor satisfaz o sistema de equações não-lineares:\n",
    "\n",
    "\n",
    "<a id='equation-odu-pv2'></a>\n",
    "$$\n",
    "v_i\n",
    "= \\max \\left\\{\n",
    "        \\frac{w_i}{1 - \\beta}, \\, c + \\beta \\sum_{i=1}^n v_i p_i\n",
    "    \\right\\}\n",
    "\\quad\n",
    "\\text{for } i = 1, \\ldots, n \\tag{3}\n",
    "$$\n",
    "\n",
    "Acontece que existe exatamente um vetor $ v := (v_i)_{i=1}^n $ em\n",
    "$ \\mathbb R^n $ que satisfaz essa equação."
   ]
  },
  {
   "cell_type": "markdown",
   "metadata": {},
   "source": [
    "### O Algoritmo\n",
    "\n",
    "Para computar esse vetor, procedemos da seguinte maneira:\n",
    "\n",
    "Passo 1: escolha uma suposição inicial arbitrária  $ v \\in \\mathbb R^n $.\n",
    "\n",
    "Passo 2: compute um novo vetor $ v' \\in \\mathbb R^n $ via\n",
    "\n",
    "\n",
    "<a id='equation-odu-pv2p'></a>\n",
    "$$\n",
    "v'_i\n",
    "= \\max \\left\\{\n",
    "        \\frac{w_i}{1 - \\beta}, \\, c + \\beta \\sum_{i=1}^n v_i p_i\n",
    "    \\right\\}\n",
    "\\quad\n",
    "\\text{for } i = 1, \\ldots, n \\tag{4}\n",
    "$$\n",
    "\n",
    "Passo 3: calcule uma medida de desvio entre $ v $ e $ v' $, tal como $ \\max_i |v_i - v_i'| $.\n",
    "\n",
    "Passo 4: se o desvio for maior que alguma tolerância fixa, defina $ v = v' $ e vá para o passo 2, caso contrário continue.\n",
    "\n",
    "Passo 5: retorne $ v $.\n",
    "\n",
    "Esse algoritmo retorna uma aproximação arbitrariamente boa da solução verdadeira para [(3)](#equation-odu-pv2), que representa a função de valor.\n",
    "\n",
    "(Arbitrariamente bom aqui significa que a aproximação converge para a solução verdadeira à medida que a tolerância chega a zero)"
   ]
  },
  {
   "cell_type": "markdown",
   "metadata": {},
   "source": [
    "### A Teoria do Ponto Fixo\n",
    "\n",
    "Qual é a matemática por trás dessas idéias?\n",
    "\n",
    "Primeiro, define-se um mapeamento $ T $ de $ \\mathbb R^n $ para si mesmo via:\n",
    "\n",
    "\n",
    "<a id='equation-odu-pv3'></a>\n",
    "$$\n",
    "Tv_i\n",
    "= \\max \\left\\{\n",
    "        \\frac{w_i}{1 - \\beta}, \\, c + \\beta \\sum_{i=1}^n v_i p_i\n",
    "    \\right\\}\n",
    "\\quad\n",
    "\\text{para } i = 1, \\ldots, n \\tag{5}\n",
    "$$\n",
    "\n",
    "(Um novo vetor $ Tv $ é obtido a partir de um dado vetor $ v $ avaliando os r.h.s em cada $ i $)\n",
    "\n",
    "Pode-se mostrar que as condições do teorema do mapeamento da contração de Banach são satisfeitas por $ T $ como um auto-mapeamento no $ \\mathbb{R}^n $.\n",
    "\n",
    "Uma implicação é que $ T $ tem um único ponto fixo no $ \\mathbb R^n $.\n",
    "\n",
    "Além disso, é imediato a partir da definição de $ T $ que esse ponto fixo é precisamente a função de valor.\n",
    "\n",
    "O algoritmo iterativo apresentado acima corresponde à iteração com\n",
    "$ T $ a partir de alguma suposição inicial $ v $.\n",
    "\n",
    "O teorema do mapeamento da contração de Banach nos diz que esse processo iterativo gera uma sequência que converge para o ponto fixo."
   ]
  },
  {
   "cell_type": "markdown",
   "metadata": {},
   "source": [
    "### Implementação"
   ]
  },
  {
   "cell_type": "markdown",
   "metadata": {},
   "source": [
    "### Configuração"
   ]
  },
  {
   "cell_type": "code",
   "execution_count": 1,
   "metadata": {
    "hide-output": true
   },
   "outputs": [],
   "source": [
    "using InstantiateFromURL\n",
    "github_project(\"QuantEcon/quantecon-notebooks-julia\", version = \"0.5.0\")\n",
    "# github_project(\"QuantEcon/quantecon-notebooks-julia\", version = \"0.5.0\", instantiate = true)"
   ]
  },
  {
   "cell_type": "code",
   "execution_count": 2,
   "metadata": {
    "hide-output": true
   },
   "outputs": [],
   "source": [
    "using LinearAlgebra, Statistics\n",
    "using Distributions, Expectations, NLsolve, Roots, Random, Plots, Parameters"
   ]
  },
  {
   "cell_type": "code",
   "execution_count": 3,
   "metadata": {
    "hide-output": false
   },
   "outputs": [],
   "source": [
    "gr(fmt = :png);;"
   ]
  },
  {
   "cell_type": "markdown",
   "metadata": {},
   "source": [
    "Aqui está a distribuição de ofertas salariais com as quais trabalharemos."
   ]
  },
  {
   "cell_type": "code",
   "execution_count": 4,
   "metadata": {
    "hide-output": false
   },
   "outputs": [
    {
     "name": "stdout",
     "output_type": "stream",
     "text": [
      "support(dist) = 0:50\n"
     ]
    },
    {
     "data": {
      "image/png": "[encoded data removed]"
     },
     "execution_count": 4,
     "metadata": {},
     "output_type": "execute_result"
    }
   ],
   "source": [
    "n = 50\n",
    "dist = BetaBinomial(n, 200, 100) #distribuição de probabilidade\n",
    "@show support(dist)\n",
    "w = range(10.0, 60.0, length = n+1) # linearmente espaço de salários\n",
    "\n",
    "using StatsPlots\n",
    "plt = plot(w, dist, xlabel = \"wages\", ylabel = \"probabilities\", legend = false)"
   ]
  },
  {
   "cell_type": "markdown",
   "metadata": {},
   "source": [
    "Podemos explorar assumindo expectativas em relação a essa distribuição"
   ]
  },
  {
   "cell_type": "code",
   "execution_count": 5,
   "metadata": {
    "hide-output": false
   },
   "outputs": [
    {
     "name": "stdout",
     "output_type": "stream",
     "text": [
      "(E_w, E_w_2) = (43.333333333335695, 12.919896640724573)\n",
      "E * w = 43.3333333333357\n",
      "dot(pdf.(dist, support(dist)), w) = 43.3333333333357\n"
     ]
    }
   ],
   "source": [
    "E = expectation(dist) # operador expectativa\n",
    "\n",
    "# explorando as propriedades do operador\n",
    "wage(i) = w[i+1] # +1 para mapear a partir do suporte de 0\n",
    "E_w = E(wage)\n",
    "E_w_2 = E(i -> wage(i)^2) - E_w^2 # variância\n",
    "@show E_w, E_w_2\n",
    "\n",
    "# use o operador com multiplicação à esquerda\n",
    "@show E * w # Os `w` são valores atribuidos para estados discretos\n",
    "@show dot(pdf.(dist, support(dist)), w); # cálculo idêntico"
   ]
  },
  {
   "cell_type": "markdown",
   "metadata": {},
   "source": [
    "Para implementar nosso algoritmo, vamos dar uma olhada na sequência de funções de valor aproximado que esse algoritmo de ponto fixo gera.\n",
    "\n",
    "Os valores padrão dos parâmetros são incorporados na função.\n",
    "\n",
    "Nossa suposição inicial é que $ v $ é o valor de aceitar cada salário."
   ]
  },
  {
   "cell_type": "code",
   "execution_count": 6,
   "metadata": {
    "hide-output": false
   },
   "outputs": [
    {
     "data": {
      "image/png": "[encoded data removed]"
     },
     "execution_count": 6,
     "metadata": {},
     "output_type": "execute_result"
    }
   ],
   "source": [
    "# parâmetros e objetos constantes\n",
    "\n",
    "c = 25\n",
    "β = 0.99\n",
    "num_plots = 6\n",
    "\n",
    "# Operador\n",
    "T(v) = max.(w/(1 - β), c + β * E*v) # (5) transmite sobre w, corrige v\n",
    "# alternativamente, T(v) = [max(wval/(1 - β), c + β * E*v) para wval em w]\n",
    "\n",
    "# preenche a matriz de vs\n",
    "vs = zeros(n + 1, 6) # dados para preencher\n",
    "vs[:, 1] .= w / (1-β) # suposição inicial de \"aceitar tudo\"\n",
    "\n",
    "# manualmente aplicando o operador\n",
    "for col in 2:num_plots\n",
    "    v_last = vs[:, col - 1]\n",
    "    vs[:, col] .= T(v_last)  # aplique o operador\n",
    "end\n",
    "plot(vs)"
   ]
  },
  {
   "cell_type": "markdown",
   "metadata": {},
   "source": [
    "Uma abordagem para resolver o modelo é implementar diretamente esse tipo de iteração e continuar até que o desvio medido entre iterações sucessivas esteja abaixo de tol."
   ]
  },
  {
   "cell_type": "code",
   "execution_count": 7,
   "metadata": {
    "hide-output": false
   },
   "outputs": [
    {
     "data": {
      "text/plain": [
       "compute_reservation_wage_direct (generic function with 1 method)"
      ]
     },
     "execution_count": 7,
     "metadata": {},
     "output_type": "execute_result"
    }
   ],
   "source": [
    "function compute_reservation_wage_direct(params; v_iv = collect(w ./(1-β)), max_iter = 500,\n",
    "                                         tol = 1e-6)\n",
    "    @unpack c, β, w = params\n",
    "\n",
    "    # crie um fechamento para o operador \n",
    "    T(v) = max.(w/(1 - β), c + β * E*v) # (5) fixando os valores dos parâmetros\n",
    "\n",
    "    v = copy(v_iv) # inicia no valor inicial.  \"copy' para evitar v_iv modificação\n",
    "    v_next = similar(v)\n",
    "    i = 0\n",
    "    error = Inf\n",
    "    while i < max_iter && error > tol\n",
    "        v_next .= T(v) # (4)\n",
    "        error = norm(v_next - v)\n",
    "        i += 1\n",
    "        v .= v_next  # copia o conteúdo para v.  Também poderia ser usado v[:] = v_next\n",
    "    end\n",
    "    # agora compute o salário de reserva\n",
    "    return (1 - β) * (c + β * E*v) # (2)\n",
    "end"
   ]
  },
  {
   "cell_type": "markdown",
   "metadata": {},
   "source": [
    "No exposto, usamos `v = copy(v_iv)` mais do que apenas `v_iv = v`.\n",
    "\n",
    "Para entender porquê, primeiro lembre-se que `v_iv` é uma função argumento – por padrão, com o valor fornecido ou passado para a função.\n",
    "\n",
    "> - Se tivessemos ido `v = v_iv`, então ela simplesmente criaria um novo nome `v` que se liga ao que estiver localizado em `v_iv`.  \n",
    "- Uma vez que nós usamos mais tarde `v .= v_next` no algoritmo, os valores nele serão modificados.  \n",
    "- Portanto, estariamos modificando o vetor `v_iv` em que passamos, o que pode não ser o que o chamador da função requerida. \n",
    "- O grande problema que isso cria são os \"efeitos colaterais\", nos quais você pode chamar uma função e coisas estranhas podem acontecer fora da função que você não esperava.\n",
    "- Se você pretende que a modificação ocorra potencialmente, o guia de estilo da Julia diz que devemos chamar a função `compute_reservation_wage_direct!` para tornar claros os possíveis efeitos colaterais. \n",
    "\n",
    "\n",
    "\n",
    "Como de costume, é melhor usar um pacote, que pode fornecer um algoritmo melhor e provavelmente menos propenso a erros.\n",
    "\n",
    "Nesse caso, podemos usar o algoritmo `fixedpoint` discutido em [em nossa aula Julia by Example](https://julia.quantecon.org/../getting_started_julia/julia_by_example.html) para encontrar o ponto fixo do operador $ T $."
   ]
  },
  {
   "cell_type": "code",
   "execution_count": 8,
   "metadata": {
    "hide-output": false
   },
   "outputs": [
    {
     "data": {
      "text/plain": [
       "compute_reservation_wage (generic function with 1 method)"
      ]
     },
     "execution_count": 8,
     "metadata": {},
     "output_type": "execute_result"
    }
   ],
   "source": [
    "function compute_reservation_wage(params; v_iv = collect(w ./(1-β)), iterations = 500,\n",
    "                                  ftol = 1e-6, m = 6)\n",
    "    @unpack c, β, w = params\n",
    "    T(v) = max.(w/(1 - β), c + β * E*v) # (5) fixando os valores dos parâmetros\n",
    "\n",
    "    v_star = fixedpoint(T, v_iv, iterations = iterations, ftol = ftol,\n",
    "                        m = 6).zero # (5)\n",
    "    return (1 - β) * (c + β * E*v_star) # (3)\n",
    "end"
   ]
  },
  {
   "cell_type": "markdown",
   "metadata": {},
   "source": [
    "Vamos computar o salário de reserva nos parâmetros padrão."
   ]
  },
  {
   "cell_type": "code",
   "execution_count": 9,
   "metadata": {
    "hide-output": false
   },
   "outputs": [
    {
     "data": {
      "text/plain": [
       "47.316499766546215"
      ]
     },
     "execution_count": 9,
     "metadata": {},
     "output_type": "execute_result"
    }
   ],
   "source": [
    "mcm = @with_kw (c=25.0, β=0.99, w=w) # tuples nomeadas\n",
    "\n",
    "compute_reservation_wage(mcm()) # chamada com parâmetros padrão"
   ]
  },
  {
   "cell_type": "markdown",
   "metadata": {},
   "source": [
    "### Estática Comparativa\n",
    "\n",
    "Agora que sabemos como calcular o salário de reserva, vamos ver como isso varia com os parâmetros.\n",
    "\n",
    "Em particular, vamos ver o que acontece quando mudamos $ \\beta $ e\n",
    "$ c $."
   ]
  },
  {
   "cell_type": "code",
   "execution_count": 10,
   "metadata": {
    "hide-output": false
   },
   "outputs": [],
   "source": [
    "grid_size = 25\n",
    "R = rand(grid_size, grid_size)\n",
    "\n",
    "c_vals = range(10.0, 30.0, length = grid_size)\n",
    "β_vals = range(0.9, 0.99, length = grid_size)\n",
    "\n",
    "for (i, c) in enumerate(c_vals)\n",
    "    for (j, β) in enumerate(β_vals)\n",
    "        R[i, j] = compute_reservation_wage(mcm(c=c, β=β)) # mudança de padrões\n",
    "    end\n",
    "end"
   ]
  },
  {
   "cell_type": "code",
   "execution_count": 11,
   "metadata": {
    "hide-output": false
   },
   "outputs": [
    {
     "data": {
      "image/png": "[encoded data removed]"
     },
     "execution_count": 11,
     "metadata": {},
     "output_type": "execute_result"
    }
   ],
   "source": [
    "contour(c_vals, β_vals, R',\n",
    "        title = \"Reservation Wage\",\n",
    "        xlabel = \"c\",\n",
    "        ylabel = \"beta\",\n",
    "        fill = true)"
   ]
  },
  {
   "cell_type": "markdown",
   "metadata": {},
   "source": [
    "Como esperado, o salário de reserva aumenta com paciência e com a indenização por desemprego."
   ]
  },
  {
   "cell_type": "markdown",
   "metadata": {},
   "source": [
    "## Computando a Política Ótima: Parte 2\n",
    "\n",
    "A abordagem para a programação dinâmica descrita acima é muito padrão e amplamente aplicável.\n",
    "\n",
    "Para esse problema em particular, há também uma maneira mais fácil, que contorna a necessidade de calcular a função de valor.\n",
    "\n",
    "Se $ \\psi $ denota o valor de não aceitar um emprego nesse período, mas depois se comportar de maneira ideal em todos os períodos subsequentes.\n",
    "\n",
    "Isso é,\n",
    "\n",
    "\n",
    "<a id='equation-j1'></a>\n",
    "$$\n",
    "\\psi\n",
    "= c + \\beta\n",
    "    \\sum_{i=1}^n V(w_i) p_i \\tag{6}\n",
    "$$\n",
    "\n",
    "onde $ V $ é a função de valor.\n",
    "\n",
    "Pela equação de Bellman, então temos:\n",
    "\n",
    "$$\n",
    "V(w_i)\n",
    "= \\max \\left\\{ \\frac{w_i}{1 - \\beta}, \\, \\psi \\right\\}\n",
    "$$\n",
    "\n",
    "Substituindo essa última equação em [(6)](#equation-j1) dá.\n",
    "\n",
    "\n",
    "<a id='equation-j2'></a>\n",
    "$$\n",
    "\\psi\n",
    "= c + \\beta\n",
    "    \\sum_{i=1}^n\n",
    "    \\max \\left\\{\n",
    "        \\frac{w_i}{1 - \\beta}, \\psi\n",
    "    \\right\\}  p_i \\tag{7}\n",
    "$$\n",
    "\n",
    "Que também poderiamos escrever como $ \\psi = T_{\\psi}(\\psi) $ para o operdador apropriado.\n",
    "\n",
    "Esta é uma equação não-linear que podemos resolver por $ \\psi $.\n",
    "\n",
    "Um método de solução para esse tipo de equação não-linear é iterativo.\n",
    "\n",
    "Isso é,\n",
    "\n",
    "Passo 1: escolha uma suposição inicial $ \\psi $.\n",
    "\n",
    "Passo 2: compute a atualização $ \\psi' $ via.\n",
    "\n",
    "\n",
    "<a id='equation-j3'></a>\n",
    "$$\n",
    "\\psi'\n",
    "= c + \\beta\n",
    "    \\sum_{i=1}^n\n",
    "    \\max \\left\\{\n",
    "        \\frac{w_i}{1 - \\beta}, \\psi\n",
    "    \\right\\}  p_i \\tag{8}\n",
    "$$\n",
    "\n",
    "Passo 3: calcule o desvio $ |\\psi - \\psi'| $.\n",
    "\n",
    "Step 4: se o desvio for maior que alguma tolerância fixa, defina  $ \\psi = \\psi' $ e vá para o passo 2, caso contrário continue.\n",
    "\n",
    "Passo 5: retorna $ \\psi $.\n",
    "\n",
    "Mais uma vez, pode-se usar o teorema do mapeamento de contração de Banach para mostrar que esse processo sempre converge.\n",
    "\n",
    "A grande diferença aqui, no entanto, é que estamos iterando em um único número, em vez de um  vetor $ n $.\n",
    "\n",
    "Aqui está uma implementação:"
   ]
  },
  {
   "cell_type": "code",
   "execution_count": 12,
   "metadata": {
    "hide-output": false
   },
   "outputs": [
    {
     "data": {
      "text/plain": [
       "47.31649976654615"
      ]
     },
     "execution_count": 12,
     "metadata": {},
     "output_type": "execute_result"
    }
   ],
   "source": [
    "function compute_reservation_wage_ψ(c, β; ψ_iv = E * w ./ (1 - β), max_iter = 500,\n",
    "                                    tol = 1e-5)\n",
    "    T_ψ(ψ) = [c + β * E*max.((w ./ (1 - β)), ψ[1])] # (7)\n",
    "    # usando vetores, pois o ponto fixo não suporta escalar \n",
    "    ψ_star = fixedpoint(T_ψ, [ψ_iv]).zero[1]\n",
    "    return (1 - β) * ψ_star # (2)\n",
    "end\n",
    "compute_reservation_wage_ψ(c, β)"
   ]
  },
  {
   "cell_type": "markdown",
   "metadata": {},
   "source": [
    "Você pode usar esse código para resolver o exercício abaixo.\n",
    "\n",
    "Outra opção é resolver a raiz da equação  $ T_{\\psi}(\\psi) - \\psi $."
   ]
  },
  {
   "cell_type": "code",
   "execution_count": 13,
   "metadata": {
    "hide-output": false
   },
   "outputs": [
    {
     "data": {
      "text/plain": [
       "47.316499766546194"
      ]
     },
     "execution_count": 13,
     "metadata": {},
     "output_type": "execute_result"
    }
   ],
   "source": [
    "function compute_reservation_wage_ψ2(c, β; ψ_iv = E * w ./ (1 - β), max_iter = 500,\n",
    "                                     tol = 1e-5)\n",
    "    root_ψ(ψ) = c + β * E*max.((w ./ (1 - β)), ψ) - ψ # (7)\n",
    "    ψ_star = find_zero(root_ψ, ψ_iv)\n",
    "    return (1 - β) * ψ_star # (2)\n",
    "end\n",
    "compute_reservation_wage_ψ2(c, β)"
   ]
  },
  {
   "cell_type": "markdown",
   "metadata": {},
   "source": [
    "## Exercícios"
   ]
  },
  {
   "cell_type": "markdown",
   "metadata": {},
   "source": [
    "### Exercício 1\n",
    "\n",
    "Calcule a duração média do desemprego quando $ \\beta=0.99 $ e\n",
    "$ c $ toma os seguintes valores:\n",
    "\n",
    "> `c_vals = range(10, 40, length = 25)`\n",
    "\n",
    "\n",
    "Ou seja, comece o agente como desempregado, calculado o salário de reserva de acordo com os parâmetros e depois simule para ver quanto tempo leva para aceitar.\n",
    "\n",
    "Repita um grande número de vezes e faça a média.\n",
    "\n",
    "Traçe a duração média do desemprego em função de $ c $ em `c_vals`."
   ]
  },
  {
   "cell_type": "markdown",
   "metadata": {},
   "source": [
    "## Soluções\n"
   ]
  },
  {
   "cell_type": "markdown",
   "metadata": {},
   "source": [
    "### Exercício 1\n",
    "\n",
    "Aqui está uma solução:"
   ]
  },
  {
   "cell_type": "code",
   "execution_count": 14,
   "metadata": {
    "hide-output": false
   },
   "outputs": [
    {
     "data": {
      "image/png": "[encoded data removed]"
     },
     "execution_count": 14,
     "metadata": {},
     "output_type": "execute_result"
    }
   ],
   "source": [
    "function compute_stopping_time(w̄; seed=1234)\n",
    "    Random.seed!(seed)\n",
    "    stopping_time = 0\n",
    "    t = 1\n",
    "    # certifique-se a restrição às vezes é obrigatório \n",
    "    @assert length(w) - 1 ∈ support(dist) && w̄ <= w[end]\n",
    "    while true\n",
    "        # Gerar um salário extraido\n",
    "        w_val = w[rand(dist)] # o salário dist configurado anteriormente\n",
    "        if w_val ≥ w̄\n",
    "            stopping_time = t\n",
    "            break\n",
    "        else\n",
    "            t += 1\n",
    "        end\n",
    "    end\n",
    "    return stopping_time\n",
    "end\n",
    "\n",
    "compute_mean_stopping_time(w̄, num_reps=10000) = mean(i ->\n",
    "                                                         compute_stopping_time(w̄,\n",
    "                                                         seed = i), 1:num_reps)\n",
    "c_vals = range(10,  40, length = 25)\n",
    "stop_times = similar(c_vals)\n",
    "\n",
    "beta = 0.99\n",
    "for (i, c) in enumerate(c_vals)\n",
    "    w̄ = compute_reservation_wage_ψ(c, beta)\n",
    "    stop_times[i] = compute_mean_stopping_time(w̄)\n",
    "end\n",
    "\n",
    "plot(c_vals, stop_times, label = \"mean unemployment duration\",\n",
    "     xlabel = \"unemployment compensation\", ylabel = \"months\")"
   ]
  }
 ],
 "metadata": {
  "date": 1572312776.5821939,
  "download_nb": 1,
  "download_nb_path": "https://julia.quantecon.org/",
  "filename": "mccall_model.rst",
  "filename_with_path": "dynamic_programming/mccall_model",
  "kernelspec": {
   "display_name": "Julia 1.3.1",
   "language": "julia",
   "name": "julia-1.3"
  },
  "language_info": {
   "file_extension": ".jl",
   "mimetype": "application/julia",
   "name": "julia",
   "version": "1.3.1"
  },
  "title": "Job Search I: The McCall Search Model"
 },
 "nbformat": 4,
 "nbformat_minor": 4
}
