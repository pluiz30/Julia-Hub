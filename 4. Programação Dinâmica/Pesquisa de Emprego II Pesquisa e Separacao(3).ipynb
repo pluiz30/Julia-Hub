{
 "cells": [
  {
   "cell_type": "markdown",
   "metadata": {},
   "source": [
    "\n",
    "<a id='mccall-with-sep'></a>\n",
    "<div id=\"qe-notebook-header\" style=\"text-align:right;\">\n",
    "        <a href=\"https://quantecon.org/\" title=\"quantecon.org\">\n",
    "                <img style=\"width:250px;display:inline;\" src=\"https://assets.quantecon.org/img/qe-menubar-logo.svg\" alt=\"QuantEcon\">\n",
    "        </a>\n",
    "</div>"
   ]
  },
  {
   "cell_type": "markdown",
   "metadata": {},
   "source": [
    "# Pesquisa de Emprego II: Pesquisa e Separação\n",
    "\n",
    "\n",
    "<a id='index-0'></a>"
   ]
  },
  {
   "cell_type": "markdown",
   "metadata": {},
   "source": [
    "## Conteúdo\n",
    "\n",
    "- [Pesquisa de Emprego II: Pesquisa e Separação](#Pesquisa-de-Emprego-II:-Pesquisa-e-Separação)  \n",
    "  - [Resumo](#Resumo)  \n",
    "  - [O Modelo](#O-Modelo)  \n",
    "  - [Resolvendo o Modelo Usando Programação Dinâmica](#Resolvendo-o-Modelo-Usando-Programação-Dinâmica)  \n",
    "  - [Implementação](#Implementação)  \n",
    "  - [O Salário de Reserva](#O-Salário-de-Reserva)  \n",
    "  - [Exercícios](#Exercícios)  \n",
    "  - [Soluções](#Soluções)  "
   ]
  },
  {
   "cell_type": "markdown",
   "metadata": {},
   "source": [
    "> *Devidamente traduzido, revisado e adaptado do [QuantEcon](https://quantecon.org/) pelos bolsistas CNPq, Pedro Luiz H. Furtado e Jonas Aragão M. Corpes, sob supervisão do Prof. Christiano Penna, do CAEN/UFC.*\n"
   ]
  },
  {
   "cell_type": "markdown",
   "metadata": {},
   "source": [
    "## Resumo\n",
    "\n",
    "Anteriormente [vimos](https://julia.quantecon.org/mccall_model.html) o modelo de pesquisa de emprego de McCall [[McC70]](https://julia.quantecon.org/../zreferences.html#mccall1970) como uma maneira de entender o desemprego e as decisões dos trabalhadores.\n",
    "\n",
    "Uma característica irreal do modelo é que todo trabalho é permanente.\n",
    "\n",
    "Nesta aula, estendemos o modelo McCall introduzindo a separação de tarefas.\n",
    "\n",
    "Depois que a separação entra em cena, o agente passa a ver:\n",
    "\n",
    "- a perda de um emprego como uma perda de capital, e  \n",
    "- um período de desemprego como um *investimento* na busca de um emprego aceitável."
   ]
  },
  {
   "cell_type": "markdown",
   "metadata": {},
   "source": [
    "### Configuração"
   ]
  },
  {
   "cell_type": "code",
   "execution_count": 1,
   "metadata": {
    "hide-output": true
   },
   "outputs": [],
   "source": [
    "using InstantiateFromURL\n",
    "github_project(\"QuantEcon/quantecon-notebooks-julia\", version = \"0.5.0\")\n",
    "# github_project(\"QuantEcon/quantecon-notebooks-julia\", version = \"0.5.0\", instantiate = true) # uncomment to force package installation"
   ]
  },
  {
   "cell_type": "code",
   "execution_count": 2,
   "metadata": {
    "hide-output": true
   },
   "outputs": [],
   "source": [
    "using LinearAlgebra, Statistics\n",
    "using Distributions, Expectations, Parameters, NLsolve, Plots"
   ]
  },
  {
   "cell_type": "markdown",
   "metadata": {},
   "source": [
    "## O Modelo\n",
    "\n",
    "O modelo diz respeito à vida de um trabalhador como vida infinita e,\n",
    "\n",
    "- as oportunidades que ele ou ela (vamos dizer ele para manter um personagem) tem que trabalhar com diferentes salários. \n",
    "- eventos exógenos destroem seu emprego atual. \n",
    "- seu processo de tomada de decisão enquanto desempregado.\n",
    "\n",
    "\n",
    "O trabalhador pode estar em um desses dois estados: empregado ou desempregado.\n",
    "\n",
    "Ele quer maximizar:\n",
    "\n",
    "\n",
    "<a id='equation-objective'></a>\n",
    "$$\n",
    "{\\mathbb E} \\sum_{t=0}^\\infty \\beta^t u(Y_t) \\tag{1}\n",
    "$$\n",
    "\n",
    "A única diferença do [modelo básico](https://julia.quantecon.org/mccall_model.html) é que adicionamos alguma flexibilidade sobre as preferências, introduzindo uma função de utilidade $ u $.\n",
    "\n",
    "E satisfaz $ u'> 0 $ e $ u'' < 0 $."
   ]
  },
  {
   "cell_type": "markdown",
   "metadata": {},
   "source": [
    "### *Timing* e Decisões\n",
    "\n",
    "Aqui está o que acontece no início de um determinado período em nosso modelo, com pesquisa e separação.\n",
    "\n",
    "Se atualmente *empregado*, o trabalhador consome seu salário $ w $, recebendo a utilidade $ u(w) $.\n",
    "\n",
    "Se atualmente *desempregado*, ele:\n",
    "\n",
    "- recebe e consome o seguro desemprego $ c $  \n",
    "- recebe uma oferta para começar a trabalhar no *próximo período* com um salário $ w' $ extraido de uma distribuição conhecida $ p_1, \\ldots, p_n $  \n",
    "\n",
    "\n",
    "Ele pode aceitar ou rejeitar a oferta.\n",
    "\n",
    "Se ele aceitar a oferta, ele entra no próximo período empregado com salário $ w' $.\n",
    "\n",
    "Se ele rejeitar a oferta, ele entra no próximo período desempregado.\n",
    "\n",
    "Quando empregado, o agente enfrenta uma probabilidade constante $ \\alpha $ de ficar desempregado no final do período.\n",
    "\n",
    "(Nota: não permitimos busca de emprego enquanto empregado - esse tópico será abordado em uma [aula posterior](https://julia.quantecon.org/jv.html))"
   ]
  },
  {
   "cell_type": "markdown",
   "metadata": {},
   "source": [
    "## Resolvendo o Modelo Usando Programação Dinâmica\n",
    "\n",
    "Seja:\n",
    "\n",
    "- $ V(w) $ o valor total da vida útil acumulado para um trabalhador que entra no período atual *empregado* com salário $ w $.  \n",
    "- $ U $ o valor total da vida útil acumulado para um trabalhador que está *desempregado* nesse período.  \n",
    "\n",
    "\n",
    "Aqui *valor* significa o valor da função objetivo [(1)](#equation-objective) quando o trabalhador toma decisões ótimas em todos os momentos futuros.\n",
    "\n",
    "Suponha, por enquanto, que o trabalhador possa calcular a função $ V $ e a constante $ U $ e usá-los em sua tomada de decisão.\n",
    "\n",
    "Então $ V $ e $ U $ deve satisfazer:\n",
    "\n",
    "\n",
    "<a id='equation-bell1-mccall'></a>\n",
    "$$\n",
    "V(w) = u(w) + \\beta [(1-\\alpha)V(w) + \\alpha U ] \\tag{2}\n",
    "$$\n",
    "\n",
    "and\n",
    "\n",
    "\n",
    "<a id='equation-bell2-mccall'></a>\n",
    "$$\n",
    "U = u(c) + \\beta \\sum_i \\max \\left\\{ U, V(w_i) \\right\\} p_i \\tag{3}\n",
    "$$\n",
    "\n",
    "Vamos interpretar essas duas equações à luz do fato de que hoje amanhã é amanhã hoje.\n",
    "\n",
    "- O lado esquerdo das equações [(2)](#equation-bell1-mccall) e [(3)](#equation-bell2-mccall)são os valores de um trabalhador em uma situação particular *hoje*.  \n",
    "- Os lados direitos das equações são valores esperados descontados (por $ \\beta $) das possíveis situações em que o trabalhador poderá estar *amanhã*.  \n",
    "- Mas *amanhã* o trabalhador poderá estar em apenas uma das situações cujos valores *hoje* estão no lado esquerdo de nossas duas equações.  \n",
    "\n",
    "\n",
    "A equação [(3)](#equation-bell2-mccall) incorpora o fato que um trabalhador atualmente desempregado irá maximizar seu próprio bem-estar.\n",
    "\n",
    "Em particular, se sua oferta salarial no próximo período for $ w' $, ele escolherá permanecer desempregado, a menos que $ U < V(w') $.\n",
    "\n",
    "As equações [(2)](#equation-bell1-mccall) e [(3)](#equation-bell2-mccall) são as Equações de Bellman para esse modelo.\n",
    "As equações [(2)](#equation-bell1-mccall) e [(3)](#equation-bell2-mccall) fornecem informações suficientes para resolver os ambos $ V $ e $ U $.\n",
    "\n",
    "Antes de discutir isso, no entanto, vamos fazer uma pequena extensão para o modelo."
   ]
  },
  {
   "cell_type": "markdown",
   "metadata": {},
   "source": [
    "### Ofertas Estocásticas\n",
    "\n",
    "Vamos supor agora que os trabalhadores desempregados nem sempre recebem ofertas de emprego.\n",
    "\n",
    "Em vez disso, vamos supor que os trabalhadores desempregados recebam apenas uma oferta com probabilidade $ \\gamma $.\n",
    "\n",
    "Se nosso trabalhador recebe uma oferta, a oferta salarial é retirada de $ p $ como antes.\n",
    "\n",
    "Ele aceita ou rejeita a oferta.\n",
    "\n",
    "Caso contrário, o modelo é o mesmo.\n",
    "\n",
    "Com algum pensamento, você será capaz de se convencer de que $ V $ e $ U $ devem agora satisfazer:\n",
    "\n",
    "\n",
    "<a id='equation-bell01-mccall'></a>\n",
    "$$\n",
    "V(w) = u(w) + \\beta [(1-\\alpha)V(w) + \\alpha U ] \\tag{4}\n",
    "$$\n",
    "\n",
    "                                                                   e\n",
    "\n",
    "\n",
    "<a id='equation-bell02-mccall'></a>\n",
    "$$\n",
    "U = u(c) +\n",
    "  \\beta (1 - \\gamma) U +\n",
    "  \\beta \\gamma \\sum_i \\max \\left\\{ U, V(w_i) \\right\\} p_i \\tag{5}\n",
    "$$"
   ]
  },
  {
   "cell_type": "markdown",
   "metadata": {},
   "source": [
    "### Resolvendo as Equações de Bellman\n",
    "\n",
    "Usaremos a mesma abordagem iterativa para resolver as equações de Bellman que adotamos na [primeira aula de pesquisa de emprego](https://julia.quantecon.org/mccall_model.html).\n",
    "\n",
    "Aqui isso equivale a:\n",
    "\n",
    "1. faça suposições para $ U $ e $ V $.  \n",
    "1. conecte essas suposições nos lados direito de [(4)](#equation-bell01-mccall) e [(5)](#equation-bell02-mccall).  \n",
    "1. atualize os lados esquerdos desta regra e repita.  \n",
    "\n",
    "\n",
    "Em outra palavras, estamos iterando usando as regras,\n",
    "\n",
    "\n",
    "<a id='equation-bell1001'></a>\n",
    "$$\n",
    "V_{n+1} (w_i) = u(w_i) + \\beta [(1-\\alpha)V_n (w_i) + \\alpha U_n ] \\tag{6}\n",
    "$$\n",
    "\n",
    "e\n",
    "\n",
    "\n",
    "<a id='equation-bell2001'></a>\n",
    "$$\n",
    "U_{n+1} = u(c) +\n",
    "    \\beta (1 - \\gamma) U_n +\n",
    "    \\beta \\gamma \\sum_i \\max \\{ U_n, V_n(w_i) \\} p_i \\tag{7}\n",
    "$$\n",
    "\n",
    "partindo de algumas condições iniciais $ U_0, V_0 $.\n",
    "\n",
    "Formalmente, podemos definir um “operador de Bellman” T que mapeia:\n",
    "\n",
    "\n",
    "<a id='equation-bellman-operator'></a>\n",
    "$$\n",
    "TV(\\cdot) = u(\\cdot) + \\beta  (1-\\alpha)V(\\cdot) + \\alpha U \\tag{8}\n",
    "$$\n",
    "\n",
    "Nesse caso, estamos procurando um ponto fixo:\n",
    "\n",
    "\n",
    "<a id='equation-bellman-operator-fp'></a>\n",
    "$$\n",
    "TV^{*} = V^* \\tag{9}\n",
    "$$\n",
    "\n",
    "Como anteriormente, o sistema sempre converge para as soluções verdadeiras - nesse caso, o $ V $ e $ U $ que resolvem [(4)](#equation-bell01-mccall) e [(5)](#equation-bell02-mccall).\n",
    "\n",
    "Uma prova pode ser obtida através do teorema do mapeamento de contração de Banach."
   ]
  },
  {
   "cell_type": "markdown",
   "metadata": {},
   "source": [
    "## Implementação\n",
    "\n",
    "Vamos implementar esse processo iterativo."
   ]
  },
  {
   "cell_type": "code",
   "execution_count": 3,
   "metadata": {
    "hide-output": false
   },
   "outputs": [
    {
     "data": {
      "text/plain": [
       "solve_mccall_model (generic function with 1 method)"
      ]
     },
     "execution_count": 3,
     "metadata": {},
     "output_type": "execute_result"
    }
   ],
   "source": [
    "using Distributions, LinearAlgebra, Expectations, Parameters, NLsolve, Plots\n",
    "\n",
    "function solve_mccall_model(mcm; U_iv = 1.0, V_iv = ones(length(mcm.w)), tol = 1e-5,\n",
    "                            iter = 2_000)\n",
    "    # α, β, σ, c, γ, w = mcm.α, mcm.β, mcm.σ, mcm.c, mcm.γ, mcm.w\n",
    "    @unpack α, β, σ, c, γ, w, dist, u = mcm\n",
    "\n",
    "    # parâmetro de validação\n",
    "    @assert c > 0.0\n",
    "    @assert minimum(w) > 0.0 # talvez não seja estritamente necessário, mas útil aqui\n",
    "\n",
    "    # objetos necessários\n",
    "    u_w = u.(w, σ)\n",
    "    u_c = u(c, σ)\n",
    "    E = expectation(dist) # operador de expectativa para distribuição salarial\n",
    "\n",
    "    # Operador Bellman T. O ponto fixo é x* s.t. T(x*) = x*\n",
    "    function T(x)\n",
    "        V = x[1:end-1]\n",
    "        U = x[end]\n",
    "        [u_w + β * ((1 - α) * V .+ α * U); u_c + β * (1 - γ) * U + β * γ * E * max.(U, V)]\n",
    "    end\n",
    "\n",
    "    # função de valor iteração\n",
    "    x_iv = [V_iv; U_iv] # inicial x val\n",
    "    xstar = fixedpoint(T, x_iv, iterations = iter, xtol = tol).zero\n",
    "    V = xstar[1:end-1]\n",
    "    U = xstar[end]\n",
    "\n",
    "    # computar o salário de reserva\n",
    "    wbarindex = searchsortedfirst(V .- U, 0.0)\n",
    "    if wbarindex >= length(w) # se isso é verdade, você nunca desejará aceitar\n",
    "        w̄ = Inf\n",
    "    else\n",
    "        w̄ = w[wbarindex] # caso contrário, retorna o número\n",
    "    end\n",
    "\n",
    "    # retorna uma Tupla Nomeada, então podemos selecionar os valores por nomes\n",
    "    return (V = V, U = U, w̄ = w̄)\n",
    "end"
   ]
  },
  {
   "cell_type": "markdown",
   "metadata": {},
   "source": [
    "A abordagem é iterar até que as iterações sucessivas estejam mais próximas do que um pequeno nível de tolerância.\n",
    "\n",
    "Em seguida, retornamos a iteração atual como uma solução aproximada.\n",
    "\n",
    "Vamos traçar as soluções aproximadas $ U $ e $ V $ para ver com o que elas parecem.\n",
    "\n",
    "Usaremos as parametrizações padrão encontradas no código acima."
   ]
  },
  {
   "cell_type": "code",
   "execution_count": 4,
   "metadata": {
    "hide-output": false
   },
   "outputs": [
    {
     "data": {
      "text/plain": [
       "#5 (generic function with 2 methods)"
      ]
     },
     "execution_count": 4,
     "metadata": {},
     "output_type": "execute_result"
    }
   ],
   "source": [
    "# uma função de utilidade padrão\n",
    "u(c, σ) = (c^(1 - σ) - 1) / (1 - σ)\n",
    "\n",
    "# construir o modelor\n",
    "McCallModel = @with_kw (α = 0.2,\n",
    "    β = 0.98, # taxa de desconto\n",
    "    γ = 0.7,\n",
    "    c = 6.0, # seguro desemprego\n",
    "    σ = 2.0,\n",
    "    u = u, # função de utilidade\n",
    "    w = range(10, 20, length = 60), # valores salariais\n",
    "    dist = BetaBinomial(59, 600, 400)) # distribuição sobre os valores salariais"
   ]
  },
  {
   "cell_type": "code",
   "execution_count": 5,
   "metadata": {
    "hide-output": false
   },
   "outputs": [
    {
     "data": {
      "image/png": "[encoded data removed]"
     },
     "execution_count": 5,
     "metadata": {},
     "output_type": "execute_result"
    }
   ],
   "source": [
    "# confirguração de plotagem\n",
    "gr(fmt=:png);\n",
    "\n",
    "mcm = McCallModel()\n",
    "@unpack V, U = solve_mccall_model(mcm)\n",
    "U_vec = fill(U, length(mcm.w))\n",
    "\n",
    "plot(mcm.w, [V U_vec], lw = 2, α = 0.7, label = [\"V\" \"U\"])"
   ]
  },
  {
   "cell_type": "markdown",
   "metadata": {},
   "source": [
    "O valor $ V $ está aumentando pois quanto maior $ w $ gera um fluxo salarial mais alto, dependendo de permanecer empregado.\n",
    "\n",
    "Nesse ponto, é natural perguntar como o modelo responderia se perturbássemos os parâmetros.\n",
    "\n",
    "Esses cálculos, chamados de estática comparativa, são realizados na próxima seção."
   ]
  },
  {
   "cell_type": "markdown",
   "metadata": {},
   "source": [
    "## O Salário de Reserva\n",
    "\n",
    "Uma vez que $ V $ e $ U $ são conhecidos, o agente pode usá-los para tomar decisões diante de uma determinada oferta salarial.\n",
    "\n",
    "Se $ V(w) > U $, então o salário de está trabalhando $ w $ é preferível ao desemprego.\n",
    "\n",
    "Se $ V(w) < U $, permanecer desempregado gerará maior valor de vida útil.\n",
    "\n",
    "Suponha, em particular, que $ V $ cruza $ U $ (como na figura anterior).\n",
    "\n",
    "Então, de modo que $ V $ esta aumentando, não há um único menor $ w $ no conjunto de salários possíveis, de modo que $ V(w) \\geq U $.\n",
    "\n",
    "Denotamos esse salário de $ \\bar w $ e chamamos-o de salário de reserva.\n",
    "\n",
    "O comportamento ideal para o trabalhador é caracterizado por $ \\bar w $.\n",
    "\n",
    "- se a oferta de salário $ w $ em mãos é maior ou igual a  $ \\bar w $, então o trabalhador aceita. \n",
    "- se a oferta de salário $ w $ em mãos é menor ou igual a $ \\bar w $, então o trabalhador rejeita. \n",
    "\n",
    "\n",
    "Se $ V(w) < U $ para todo $ w $, então a função retornará np.inf.\n",
    "\n",
    "Vamos usá-lo para ver como o salário de reserva varia de acordo com os parâmetros.\n",
    "\n",
    "Em cada instância abaixo, mostraremos uma figura e, em seguida, solicitaremos que você a reproduza nos exercícios."
   ]
  },
  {
   "attachments": {},
   "cell_type": "markdown",
   "metadata": {},
   "source": [
    "### Salário de Reserva e Seguro Desemprego\n",
    "\n",
    "Primeiro, vamos ver como $ \\bar w $ varia de acordo com a remuneração do desemprego.\n",
    "\n",
    "Na figura abaixo, usamos os parâmetros padrão na tupla McCallModel, além de c (que leva os valores dados no eixo horizontal).\n",
    "\n",
    "<img src=\"https://julia.quantecon.org/dynamic_programming/_static/figures/mccall_resw_c.png\" style=\"width:70%;\">\n",
    "  \n",
    "Como esperado, uma maior remuneração do desemprego faz com que o trabalhador aguente salários mais altos.\n",
    "\n",
    "Com efeito, o custo da busca contínua de emprego é reduzido."
   ]
  },
  {
   "attachments": {},
   "cell_type": "markdown",
   "metadata": {},
   "source": [
    "### O Salário de Reserva e Desconto\n",
    "\n",
    "Em seguida, vamos investigar como $ \\bar w $ varia com a taxa de desconto.\n",
    "\n",
    "A figura a seguir mostra o salário de reserva associado a diferentes valores de\n",
    "$ \\beta $\n",
    "\n",
    "<img src=\"https://julia.quantecon.org/dynamic_programming/_static/figures/mccall_resw_beta.png\" style=\"width:70%;\">\n",
    "\n",
    "  \n",
    "Novamente, os resultados são intuitivos: mais trabalhadores pacientes aguentam salários mais altos."
   ]
  },
  {
   "attachments": {},
   "cell_type": "markdown",
   "metadata": {},
   "source": [
    "### O Salário de Reserva e a Distribuição de Emprego\n",
    "\n",
    "Finalmente, vamos ver como $ \\bar w $ varia de acordo com a taxa de separação do trabalho $ \\alpha $.\n",
    "\n",
    "Quanto mais alto $ \\alpha $ traduz a uma maior chance de um trabalhador enfrentar rescisão em cada período em que estiver empregado.\n",
    "\n",
    "<img src=\"https://julia.quantecon.org/dynamic_programming/_static/figures/mccall_resw_alpha.png\" style=\"width:70%;\">\n",
    "  \n",
    "Mais uma vez, os resultados estão alinhados com a nossa intuição.\n",
    "\n",
    "Se a taxa de separação for alta, o benefício de manter um salário mais alto cai.\n",
    "\n",
    "Portanto, o salário de reserva é menor."
   ]
  },
  {
   "cell_type": "markdown",
   "metadata": {},
   "source": [
    "## Exercícios"
   ]
  },
  {
   "cell_type": "markdown",
   "metadata": {},
   "source": [
    "### Exercício 1\n",
    "\n",
    "Reproduza todas as figuras dos salários de reserva mostradas acima."
   ]
  },
  {
   "cell_type": "markdown",
   "metadata": {},
   "source": [
    "### Exercício 2\n",
    "\n",
    "Plote o salário de reserva contra a taxa de oferta de trabalho $ \\gamma $.\n",
    "\n",
    "Use:"
   ]
  },
  {
   "cell_type": "code",
   "execution_count": 6,
   "metadata": {
    "hide-output": false
   },
   "outputs": [
    {
     "data": {
      "text/plain": [
       "0.05:0.0375:0.95"
      ]
     },
     "execution_count": 6,
     "metadata": {},
     "output_type": "execute_result"
    }
   ],
   "source": [
    "γ_vals = range(0.05,  0.95, length = 25)"
   ]
  },
  {
   "cell_type": "markdown",
   "metadata": {},
   "source": [
    "Interprete seus resultados."
   ]
  },
  {
   "cell_type": "markdown",
   "metadata": {},
   "source": [
    "## Soluções"
   ]
  },
  {
   "cell_type": "markdown",
   "metadata": {},
   "source": [
    "### Exercício 1\n",
    "\n",
    "Usando a função `solve_mccall_model` mencionada anteriomente na aula,\n",
    "podemos criar uma matriz para os salários de reserva para diferentes valores de $ c $,\n",
    "$ \\beta $ e $ \\alpha $ e plotar os resultados assim:"
   ]
  },
  {
   "cell_type": "code",
   "execution_count": 7,
   "metadata": {
    "hide-output": false
   },
   "outputs": [
    {
     "data": {
      "image/png": "[encoded data removed]"
     },
     "execution_count": 7,
     "metadata": {},
     "output_type": "execute_result"
    }
   ],
   "source": [
    "c_vals = range(2,  12, length = 25)\n",
    "\n",
    "models = [McCallModel(c = cval) for cval in c_vals]\n",
    "sols = solve_mccall_model.(models)\n",
    "w̄_vals = [sol.w̄ for sol in sols]\n",
    "\n",
    "plot(c_vals,\n",
    "    w̄_vals,\n",
    "    lw = 2,\n",
    "    α = 0.7,\n",
    "    xlabel = \"unemployment compensation\",\n",
    "    ylabel = \"reservation wage\",\n",
    "    label = \"w̄ as a function of c\")"
   ]
  },
  {
   "cell_type": "markdown",
   "metadata": {},
   "source": [
    "Observe que poderíamos ter feito caso acima em um passo (o que seria importante se, por exemplo, o espaço do parâmetro fosse muito grande)."
   ]
  },
  {
   "cell_type": "code",
   "execution_count": 8,
   "metadata": {
    "hide-output": false
   },
   "outputs": [],
   "source": [
    "w̄_vals = [solve_mccall_model(McCallModel(c = cval)).w̄ for cval in c_vals];\n",
    "# não aloca novas matrizes para modelos e soluções"
   ]
  },
  {
   "cell_type": "markdown",
   "metadata": {},
   "source": [
    "### Exercício 2\n",
    "\n",
    "Similar ao acima, podemos plotar $ \\bar w $ contra $ \\gamma $ da seguinte maneira:"
   ]
  },
  {
   "cell_type": "code",
   "execution_count": 9,
   "metadata": {
    "hide-output": false
   },
   "outputs": [
    {
     "data": {
      "image/png": "[encoded data removed]"
     },
     "execution_count": 9,
     "metadata": {},
     "output_type": "execute_result"
    }
   ],
   "source": [
    "γ_vals = range(0.05,  0.95, length = 25)\n",
    "\n",
    "models = [McCallModel(γ = γval) for γval in γ_vals]\n",
    "sols = solve_mccall_model.(models)\n",
    "w̄_vals = [sol.w̄ for sol in sols]\n",
    "\n",
    "plot(γ_vals, w̄_vals, lw = 2, α = 0.7, xlabel = \"job offer rate\",\n",
    "     ylabel = \"reservation wage\", label = \"w̄ as a function of gamma\")"
   ]
  },
  {
   "cell_type": "markdown",
   "metadata": {},
   "source": [
    "Como esperado, o salário de reserva aumenta em $ \\gamma $.\n",
    "\n",
    "Isso é porque quanto maior $ \\gamma $ se traduz em um ambiente de busca de emprego mais favorável.\n",
    "\n",
    "Portanto, os trabalhadores estão menos dispostos a aceitar ofertas mais baixas."
   ]
  }
 ],
 "metadata": {
  "date": 1572312776.7481804,
  "download_nb": 1,
  "download_nb_path": "https://julia.quantecon.org/",
  "filename": "mccall_model_with_separation.rst",
  "filename_with_path": "dynamic_programming/mccall_model_with_separation",
  "kernelspec": {
   "display_name": "Julia 1.3.1",
   "language": "julia",
   "name": "julia-1.3"
  },
  "language_info": {
   "file_extension": ".jl",
   "mimetype": "application/julia",
   "name": "julia",
   "version": "1.3.1"
  },
  "title": "Job Search II: Search and Separation"
 },
 "nbformat": 4,
 "nbformat_minor": 4
}
