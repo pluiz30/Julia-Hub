{
 "cells": [
  {
   "cell_type": "markdown",
   "metadata": {},
   "source": [
    "\n",
    "<a id='coleman-policy-iter'></a>\n",
    "<div id=\"qe-notebook-header\" style=\"text-align:right;\">\n",
    "        <a href=\"https://quantecon.org/\" title=\"quantecon.org\">\n",
    "                <img style=\"width:250px;display:inline;\" src=\"https://assets.quantecon.org/img/qe-menubar-logo.svg\" alt=\"QuantEcon\">\n",
    "        </a>\n",
    "</div>"
   ]
  },
  {
   "cell_type": "markdown",
   "metadata": {},
   "source": [
    "# Crescimento Ótimo II: Iteração no Tempo"
   ]
  },
  {
   "cell_type": "markdown",
   "metadata": {},
   "source": [
    "## Conteúdo\n",
    "\n",
    "- [Crescimento Ótimo II: Iteração no Tempo](#Crescimento-Ótimo-II:-Iteração-no-Tempo)  \n",
    "  - [Resumo](#Resumo)  \n",
    "  - [A Equação de Euler](#A-Equação-de-Euler)  \n",
    "  - [Comparação com a Função de Valor Iteração](#Comparação-com-a-Função-de-Valor-Iteração)  \n",
    "  - [Implementação](#Implementação)  \n",
    "  - [Exercícios](#Exercícios)  \n",
    "  - [Soluções](#Soluções)  "
   ]
  },
  {
   "cell_type": "markdown",
   "metadata": {},
   "source": [
    "> *Devidamente traduzido, revisado e adaptado do [QuantEcon](https://quantecon.org/) pelos bolsistas CNPq, Pedro Luiz H. Furtado e Jonas Aragão M. Corpes, sob supervisão do Prof. Christiano Penna, do CAEN/UFC.*"
   ]
  },
  {
   "cell_type": "markdown",
   "metadata": {},
   "source": [
    "## Resumo\n",
    "\n",
    "Nessa aula continuaremos nosso [estudo anterior](https://julia.quantecon.org/optgrowth.html) do modelo de crescimento ótimo estocástico.\n",
    "\n",
    "Nessa aula, resolvemos o problema de programação dinâmica com desconto associado usando a iteração da função de valor.\n",
    "\n",
    "A beleza dessa técnica é sua ampla aplicabilidade.\n",
    "\n",
    "No entanto, com problemas numéricos, geralmente podemos obter maior eficiência em aplicações específicas, derivando métodos cuidadosamente adaptados a aplicação em questão.\n",
    "\n",
    "O modelo de crescimento ótimo estocástico tem uma estrutura considerável para abordar esse fim, principalmente quando adotamos algumas premissas de concavidade e suavidade em relação as primitivas.\n",
    "\n",
    "Usaremos essa estrutura para obter um método baseado na **equação de Euler** que seja mais eficiente do que a iteração da função de valor para este e algumas outras aplicações intimamente relacionados.\n",
    "\n",
    "Em uma [aula subsequênte](https://julia.quantecon.org/egm_policy_iter.html) veremos que parte da implementação numérica do método da equação de Euler pode ser ajustada ainda mais para obter ainda mais eficiência."
   ]
  },
  {
   "cell_type": "markdown",
   "metadata": {},
   "source": [
    "## A Equação de Euler\n",
    "\n",
    "Vamos pegar o modelo estabelecido na [aula do modelo de crescimento estocástico](https://julia.quantecon.org/optgrowth.html) e adicionar as suposições que:\n",
    "\n",
    "1. $ u $ e $ f $ são contínuamente diferênciáveis e estritamente côncavas. \n",
    "1. $ f(0) = 0 $  \n",
    "1. $ \\lim_{c \\to 0} u'(c) = \\infty $ e $ \\lim_{c \\to \\infty} u'(c) = 0 $  \n",
    "1. $ \\lim_{k \\to 0} f'(k) = \\infty $ e $ \\lim_{k \\to \\infty} f'(k) = 0 $  \n",
    "\n",
    "\n",
    "As duas últimas condições são usualmente chamadas de **Condições de Inada**.\n",
    "\n",
    "Lembre-se da equação de Bellman:\n",
    "\n",
    "\n",
    "<a id='equation-cpi-fpb30'></a>\n",
    "$$\n",
    "v^*(y) = \\max_{0 \\leq c \\leq y}\n",
    "    \\left\\{\n",
    "        u(c) + \\beta \\int v^*(f(y - c) z) \\phi(dz)\n",
    "    \\right\\}\n",
    "\\quad \\text{para todo} \\quad\n",
    "y \\in \\mathbb R_+ \\tag{1}\n",
    "$$\n",
    "\n",
    "Deixe que a política de consumo ótimo seja denotada por $ c^* $.\n",
    "\n",
    "Sabemos que $ c^* $ é uma política ganaciosa $ v^* $, para que $ c^*(y) $ seja o maximizador em [(1)](#equation-cpi-fpb30).\n",
    "\n",
    "As condições acima implicam que:\n",
    "\n",
    "- $ c^* $ é a única política ótima para o modelo de crescimento ótimo estocástico.\n",
    "- a política ótima é contínua, estritamente crescente e também **interior**, no sentido de que $ 0 < c^*(y) < y $ para todo $ y $ estritamente positivo, e \n",
    "- a função de valor é estritamente côncava e continuamente diferenciável, com: \n",
    "\n",
    "\n",
    "\n",
    "<a id='equation-cpi-env'></a>\n",
    "$$\n",
    "(v^*)'(y) = u' (c^*(y) ) := (u' \\circ c^*)(y) \\tag{2}\n",
    "$$\n",
    "\n",
    "O último resultado é chamado de **condição de envelope** devido a sua relação com o [teorema do envelope](https://en.wikipedia.org/wiki/Envelope_theorem).\n",
    "\n",
    "Para ver o porquê [(2)](#equation-cpi-env) deve ser valido, escreva a equação de Bellman na forma equivalente:\n",
    "\n",
    "$$\n",
    "v^*(y) = \\max_{0 \\leq k \\leq y}\n",
    "    \\left\\{\n",
    "        u(y-k) + \\beta \\int v^*(f(k) z) \\phi(dz)\n",
    "    \\right\\},\n",
    "$$\n",
    "\n",
    "diferêncie ingênuamente com respeito a $ y $, e então avalie o ótimo.\n",
    "\n",
    "A Seção 12.1 de [EDTC](http://johnstachurski.net/edtc.html) contém provas completas desses resultados, e discussões estreitamente relacionadas podem ser encontradas em muitos outros textos.\n",
    "\n",
    "A diferenciabilidade da função de valor e a iterioridade da política ótima implicam que o consumo ideal satisfaz a condição de primeira ordem associada a [(1)](#equation-cpi-fpb30), que é:\n",
    "\n",
    "\n",
    "<a id='equation-cpi-foc'></a>\n",
    "$$\n",
    "u'(c^*(y)) = \\beta \\int (v^*)'(f(y - c^*(y)) z) f'(y - c^*(y)) z \\phi(dz) \\tag{3}\n",
    "$$\n",
    "\n",
    "Combinando [(2)](#equation-cpi-env) e a condição de primeira ordem [(3)](#equation-cpi-foc) temos a famosa **Equação de Euler**.\n",
    "\n",
    "\n",
    "<a id='equation-cpi-euler'></a>\n",
    "$$\n",
    "(u'\\circ c^*)(y)\n",
    "= \\beta \\int (u'\\circ c^*)(f(y - c^*(y)) z) f'(y - c^*(y)) z \\phi(dz) \\tag{4}\n",
    "$$\n",
    "\n",
    "Podemos pensar na equação de Euler como uma equação funcional:\n",
    "\n",
    "\n",
    "<a id='equation-cpi-euler-func'></a>\n",
    "$$\n",
    "(u'\\circ \\sigma)(y)\n",
    "= \\beta \\int (u'\\circ \\sigma)(f(y - \\sigma(y)) z) f'(y - \\sigma(y)) z \\phi(dz) \\tag{5}\n",
    "$$\n",
    "\n",
    "sobre políticas de consumo interior $ \\sigma $, uma solução da qual é a política ideal  $ c^* $.\n",
    "\n",
    "Nosso objetivo é resolver a equação funcional [(5)](#equation-cpi-euler-func) e portanto obter $ c^* $."
   ]
  },
  {
   "cell_type": "markdown",
   "metadata": {},
   "source": [
    "### O Operador de Coleman\n",
    "\n",
    "Lembre-se do operador de Bellman\n",
    "\n",
    "\n",
    "<a id='equation-fcbell20-coleman'></a>\n",
    "$$\n",
    "Tw(y) := \\max_{0 \\leq c \\leq y}\n",
    "\\left\\{\n",
    "    u(c) + \\beta \\int w(f(y - c) z) \\phi(dz)\n",
    "\\right\\} \\tag{6}\n",
    "$$\n",
    "\n",
    "Assim como introduzimos o operador Bellman para resolver a equação de Bellman, agora apresentaremos um operador sobre políticas para nos ajudar a resolver a equação de Euler.\n",
    "\n",
    "Este operador $ K $ atuará no conjunto de todos $ \\sigma \\in \\Sigma $\n",
    "que são contínuos, estritamente crescentes e interiores (ou seja, $ 0 < \\sigma(y) < y $ para todo $ y $ estritamente positivo).\n",
    "\n",
    "Doravante, denotamos esse conjunto de políticas por $ \\mathscr P $\n",
    "\n",
    "1. O operador $ K $ toma como seu argumento um $ \\sigma \\in \\mathscr P $ e  \n",
    "1. retorna uma nova função $ K\\sigma $, onde $ K\\sigma(y) $ é o $ c \\in (0, y) $ que resolve:\n",
    "\n",
    "\n",
    "\n",
    "<a id='equation-cpi-coledef'></a>\n",
    "$$\n",
    "u'(c)\n",
    "= \\beta \\int (u' \\circ \\sigma) (f(y - c) z ) f'(y - c) z \\phi(dz) \\tag{7}\n",
    "$$\n",
    "\n",
    "Chamamos esse operador de **operador de Coleman** dando créditos ao trabalho de [[Col90]](https://julia.quantecon.org/../zreferences.html#coleman1990)(embora muitas pessoas tenham estudado essa e outras técnicas iterativas intimamente relacionadas.)\n",
    "\n",
    "Em essência, $ K\\sigma $ é a política de consumo que a equação de Euler diz para você escolher hoje quando sua política de consumo futuro é $ \\sigma $.\n",
    "\n",
    "A coisa importante a notar sobre $ K $ é que, por construção, seus pontos fixos coincidem como os pontos fixos da equação funcional [(5)](#equation-cpi-euler-func).\n",
    "\n",
    "Em particular, a política ótima $ c^* $ é um ponto fixo.\n",
    "\n",
    "De fato, para fixado $ y $, o valor $ Kc^*(y) $ é o $ c $ que resolve:\n",
    "\n",
    "$$\n",
    "u'(c)\n",
    "= \\beta \\int (u' \\circ c^*) (f(y - c) z ) f'(y - c) z \\phi(dz)\n",
    "$$\n",
    "\n",
    "Em vista da equação de Euler, isso é exatamente $ c^*(y) $."
   ]
  },
  {
   "cell_type": "markdown",
   "metadata": {},
   "source": [
    "### O operador de Coleman é bem definido?\n",
    "\n",
    "Em particular, sempre existe um $ c \\in (0, y) $ que resolve\n",
    "[(7)](#equation-cpi-coledef)?\n",
    "\n",
    "A resposta é sim, de acordo com nossas suposições.\n",
    "\n",
    "Para qualquer $ \\sigma \\in \\mathscr P $, do lado direito de [(7)](#equation-cpi-coledef).\n",
    "\n",
    "- é contínuo e estritamente crescente em $ c $ e em $ (0, y) $  \n",
    "- diverge para $ +\\infty $ como $ c \\uparrow y $  \n",
    "\n",
    "\n",
    "O lado esquerdo de [(7)](#equation-cpi-coledef):\n",
    "\n",
    "- é contínuo e estritamente decrescente em $ c $ e em $ (0, y) $  \n",
    "- diverge para $ +\\infty $ como $ c \\downarrow 0 $  \n",
    "\n",
    "\n",
    "Esboçar essas curvas e usar as informações acima o convencerá de que elas se cruzam exatamente uma vez como $ c $ varia sobre $ (0, y) $.\n",
    "\n",
    "Com um pouco mais de análise, pode-se mostrar, além disso, que $ K \\sigma \\in \\mathscr P $\n",
    "sempre que $ \\sigma \\in \\mathscr P $."
   ]
  },
  {
   "cell_type": "markdown",
   "metadata": {},
   "source": [
    "## Comparação com a Função de Valor Iteração\n",
    "\n",
    "Como a iteração no tempo da equação de Euler se compara à iteração da função de valor?\n",
    "\n",
    "Ambos podem ser usados para calcular a política ideal, mas é mais rápido ou mais preciso?\n",
    "\n",
    "Existem duas partes nessa história.\n",
    "\n",
    "Primeiro, em um nível teórico, os dois métodos são essencialmente isomórficos.\n",
    "\n",
    "Em particular, eles convergem na mesma taxa.\n",
    "\n",
    "Vamos provar isso apenas em um momento.\n",
    "\n",
    "O outro lado da história é a velocidade da implementação numérica.\n",
    "\n",
    "Acontece que, uma vez que realmente implementamos essas duas rotinas, a iteração de tempo é mais rápida e precisa do que a iteração de função de valor.\n",
    "\n",
    "Mais sobre isso abaixo."
   ]
  },
  {
   "attachments": {},
   "cell_type": "markdown",
   "metadata": {},
   "source": [
    "### Dinâmica Equivalente\n",
    "\n",
    "Vamos falar sobre a teoria primeiro.\n",
    "\n",
    "Para explicar a conexão entre os dois algoritmos, nos ajuda a entender a noção da dinâmica equivalente.\n",
    "\n",
    "(Esse conceito também é muito útil em muitos outros contextos).\n",
    "\n",
    "Suponha que tenhamos uma função $ g \\colon X \\to X $ onde $ X $ é um dado conjunto.\n",
    "\n",
    "O par $ (X, g) $ é às vezes chamado de **sistema dinâmico** e o associamos a trajetórias da forma:\n",
    "\n",
    "$$\n",
    "x_{t+1} = g(x_t), \\qquad x_0 \\text{ given}\n",
    "$$\n",
    "\n",
    "Equaivalentemente, $ x_t = g^t(x_0) $, onde $ g $ é a $ t $-ésima composição de $ g $ consigo mesmo.\n",
    "\n",
    "Aqui está a foto.\n",
    "\n",
    "![1](https://github.com/pluiz30/Julia-Hub/assets/60633407/1f2bffe5-b573-466f-a81e-86f045ca55db)",
    "\n",
    "  \n",
    "Agora seja outra função $ h \\colon Y \\to Y $ onde $ Y $ é outro conjunto.\n",
    "\n",
    "Suponha ainda que:\n",
    "\n",
    "- existe uma bijeção $ \\tau $ de $ X $ para $ Y $  \n",
    "- as duas funções **comutam** sob $ \\tau $, o que quer dizer que\n",
    "  $ \\tau(g(x)) = h (\\tau(x)) $ para todo $ x \\in X $  \n",
    "\n",
    "\n",
    "A última afirmação pode ser escrita mais simplesmente como:\n",
    "\n",
    "$$\n",
    "\\tau \\circ g = h \\circ \\tau\n",
    "$$\n",
    "\n",
    "ou, aplicando $ \\tau^{-1} $ de ambos os lados:\n",
    "\n",
    "\n",
    "<a id='equation-cpi-ghcom'></a>\n",
    "$$\n",
    "g = \\tau^{-1} \\circ h \\circ \\tau \\tag{8}\n",
    "$$\n"
   ]
  },
  {
   "attachments": {},
   "cell_type": "markdown",
   "metadata": {},
   "source": [
    "Aqui está um diagrama comutativo que ilustra:\n",
    "\n",
    "![2](https://github.com/pluiz30/Julia-Hub/assets/60633407/83f91176-b803-48e8-8a8e-2fc21c413c49)"
   ]
  },
  {
   "attachments": {},
   "cell_type": "markdown",
   "metadata": {},
   "source": [
    "  \n",
    "Aqui está uma figura semelhante que rastreia a ação dos mapas em um ponto\n",
    "$ x \\in X $.\n",
    "\n",
    "![3](https://github.com/pluiz30/Julia-Hub/assets/60633407/702ea439-70ea-4e8f-8834-781e3019be19)",
    "\n",
    "  \n",
    "Agora, é fácil checar a partir de [(8)](#equation-cpi-ghcom) que $ g^2 = \\tau^{-1} \\circ h^2 \\circ \\tau $ se mantem.\n",
    "\n",
    "De fato, se você gosta de provas por indução, não terá problemas para mostrar que:\n",
    "\n",
    "$$\n",
    "g^n = \\tau^{-1} \\circ h^n \\circ \\tau\n",
    "$$\n",
    "\n",
    "é valido para todo $ n $.\n",
    "\n",
    "O que isso nos diz?\n",
    "\n",
    "Diz-nos que as afirmações seguintes são equivalentes:\n",
    "\n",
    "- iterar $ n $ vezes com $ g $, começando em $ x $.  \n",
    "- mudar $ x $ para $ Y $ usando $ \\tau $,  itera $ n $ vezes com $ h $ começando em $ \\tau(x) $, e muda o resultado $ h^n(\\tau(x)) $ de volta a $ X $ usando $ \\tau^{-1} $  \n",
    "\n",
    "\n",
    "Acabamos exatamente com o mesmo objeto."
   ]
  },
  {
   "cell_type": "markdown",
   "metadata": {},
   "source": [
    "### Volta para Economia\n",
    "\n",
    "Você já adivinhou para onde isso está levando?\n",
    "\n",
    "O que vamos mostrar agora é que os operadores $ T $ e $ K $\n",
    "comutam sob uma certa bijeção.\n",
    "\n",
    "A implicação é que eles têm a mesma taxa de convegência.\n",
    "\n",
    "Para tornar a vida um pouco mais fácil, assumiremos na análise a seguir (embora nem sempre em nossos apliações) que $ u(0) = 0 $."
   ]
  },
  {
   "cell_type": "markdown",
   "metadata": {},
   "source": [
    "#### Uma Bijeção\n",
    "\n",
    "Seja $ \\mathscr V $ todas funções estritamente côncavas, continuamente diferenciaveis $ v $ mapeando $ \\mathbb R_+ $ para sí mesmo e satisfazendo $ v(0) = 0 $ e $ v'(y) > u'(y) $ para todo $ y $ positivo.\n",
    "\n",
    "Para $ v \\in \\mathscr V $ seja\n",
    "\n",
    "$$\n",
    "M v := h \\circ v' \\qquad \\text{onde } h := (u')^{-1}\n",
    "$$\n",
    "\n",
    "Embora omitamos detalhes, $ \\sigma := M v $ é na verdade a única política\n",
    "$ v $-gananciosa.\n",
    "\n",
    "- Veja a proposição 12.1.18 de [EDTC](http://johnstachurski.net/edtc.html)  \n",
    "\n",
    "\n",
    "Acontece que $ M $ é uma bijeção de $ \\mathscr V $ para $ \\mathscr P $.\n",
    "\n",
    "Um exercício (resolvido) abaixo pede para você confirmar isso."
   ]
  },
  {
   "cell_type": "markdown",
   "metadata": {},
   "source": [
    "#### Operadores Comutativos\n",
    "\n",
    "É um exercício resolvido adicional (veja abaixo) para mostrar que $ T $ e $ K $ comutam sobre $ M $, no sentido de que:\n",
    "\n",
    "\n",
    "<a id='equation-cpi-ed-tk'></a>\n",
    "$$\n",
    "M \\circ T = K \\circ M \\tag{9}\n",
    "$$\n",
    "\n",
    "Em vista da discussão anterior, isso implica que:\n",
    "\n",
    "$$\n",
    "T^n = M^{-1} \\circ K^n \\circ M\n",
    "$$\n",
    "\n",
    "Portanto, $ T $ e $ K $ convergem exatamente na mesma taxa!"
   ]
  },
  {
   "cell_type": "markdown",
   "metadata": {},
   "source": [
    "## Implementação\n",
    "\n",
    "Acabamos de mostrar que os operadores $ T $ e $ K $ têm a mesma taxa de convergência.\n",
    "\n",
    "No entanto, verifica-se que, uma vez que a aproximação numérica é levada em consideração, surgem diferenças significativas.\n",
    "\n",
    "Em particular, a imagem das funções de políticas sob $ K $ podem ser calculadas mais rápidas e com maior precisão que a imagem da função de valor sobre $ T $.\n",
    "\n",
    "Nossa intuição para esse resultado é que:\n",
    "\n",
    "- o operador Coleman explora mais informações porque usa condições de primeira ordem e envelope.  \n",
    "- funções de política geralmente têm menos curvatura que funções de valor e, portanto, admitem aproximações mais precisas com base nas informações do ponto do grid.  "
   ]
  },
  {
   "cell_type": "markdown",
   "metadata": {},
   "source": [
    "### O Operador\n",
    "\n",
    "Aqui está um código que implementa o operador Coleman."
   ]
  },
  {
   "cell_type": "markdown",
   "metadata": {},
   "source": [
    "### Configuração"
   ]
  },
  {
   "cell_type": "code",
   "execution_count": 1,
   "metadata": {
    "hide-output": true
   },
   "outputs": [],
   "source": [
    "using InstantiateFromURL\n",
    "github_project(\"QuantEcon/quantecon-notebooks-julia\", version = \"0.5.0\")\n",
    "# github_project(\"QuantEcon/quantecon-notebooks-julia\", version = \"0.5.0\", instantiate = true) # uncomment to force package installation"
   ]
  },
  {
   "cell_type": "code",
   "execution_count": 2,
   "metadata": {
    "hide-output": true
   },
   "outputs": [],
   "source": [
    "using LinearAlgebra, Statistics\n",
    "using BenchmarkTools, Interpolations, Parameters, Plots, QuantEcon, Roots\n",
    "using Optim, Random"
   ]
  },
  {
   "cell_type": "code",
   "execution_count": 3,
   "metadata": {
    "hide-output": false
   },
   "outputs": [],
   "source": [
    "using BenchmarkTools, Interpolations, Parameters, Plots, QuantEcon, Roots\n",
    "\n",
    "gr(fmt = :png);"
   ]
  },
  {
   "cell_type": "code",
   "execution_count": 4,
   "metadata": {
    "hide-output": false
   },
   "outputs": [
    {
     "data": {
      "text/plain": [
       "K (generic function with 1 method)"
      ]
     },
     "execution_count": 4,
     "metadata": {},
     "output_type": "execute_result"
    }
   ],
   "source": [
    "function K!(Kg, g, grid, β, ∂u∂c, f, f′, shocks)\n",
    "# Esta função requer o contêiner do valor do produto como argumento Kg\n",
    "\n",
    "    # Construa o objeto de interpolação linear\n",
    "    g_func = LinearInterpolation(grid, g, extrapolation_bc=Line())\n",
    "\n",
    "    # Resolva para o valor de consumo de atualização \n",
    "    for (i, y) in enumerate(grid)\n",
    "        function h(c)\n",
    "            vals = ∂u∂c.(g_func.(f(y - c) * shocks)) .* f′(y - c) .* shocks\n",
    "            return ∂u∂c(c) - β * mean(vals)\n",
    "        end\n",
    "        Kg[i] = find_zero(h, (1e-10, y - 1e-10))\n",
    "    end\n",
    "    return Kg\n",
    "end\n",
    "\n",
    "# A função a seguir NÃO requer o contêiner do valor do produto como argumento \n",
    "K(g, grid, β, ∂u∂c, f, f′, shocks) =\n",
    "    K!(similar(g), g, grid, β, ∂u∂c, f, f′, shocks)"
   ]
  },
  {
   "cell_type": "markdown",
   "metadata": {},
   "source": [
    "Ele tem algumas semelhanças com o código para o operador Bellman  visto em nossa [aula de crescimento ótimo](https://julia.quantecon.org/optgrowth.html).\n",
    "\n",
    "Por exemplo, avalia integrais de Monte Carlo e aproxima funções usando interpolação linear.\n",
    "\n",
    "Aqui está o código do operador Bellman novamente, que precisa ser executado, porque nós o usaremos em alguns testes abaixo."
   ]
  },
  {
   "cell_type": "code",
   "execution_count": 5,
   "metadata": {
    "hide-output": false
   },
   "outputs": [
    {
     "data": {
      "text/plain": [
       "T (generic function with 2 methods)"
      ]
     },
     "execution_count": 5,
     "metadata": {},
     "output_type": "execute_result"
    }
   ],
   "source": [
    "using Optim\n",
    "\n",
    "function T(w, grid, β, u, f, shocks, Tw = similar(w);\n",
    "                          compute_policy = false)\n",
    "\n",
    "    # aplicar a interpolação linear para w\n",
    "    w_func = LinearInterpolation(grid, w, extrapolation_bc=Line())\n",
    "\n",
    "    if compute_policy\n",
    "        σ = similar(w)\n",
    "    end\n",
    "\n",
    "    # conjunto Tw[i] = max_c { u(c) + β E w(f(y  - c) z)}\n",
    "    for (i, y) in enumerate(grid)\n",
    "        objective(c) =  u(c) + β * mean(w_func.(f(y - c) .* shocks))\n",
    "        res = maximize(objective, 1e-10, y)\n",
    "\n",
    "        if compute_policy\n",
    "            σ[i] = Optim.maximizer(res)\n",
    "        end\n",
    "        Tw[i] = Optim.maximum(res)\n",
    "    end\n",
    "\n",
    "    if compute_policy\n",
    "        return Tw, σ\n",
    "    else\n",
    "        return Tw\n",
    "    end\n",
    "end"
   ]
  },
  {
   "cell_type": "markdown",
   "metadata": {},
   "source": [
    "### Testando no caso Log / Cobb–Douglas\n",
    "\n",
    "Como fizemos [na iteração da função de valor](https://julia.quantecon.org/optgrowth.html), vamos começar testando nosso método na presença de um modelo que possui uma solução analítica.\n",
    "\n",
    "Aqui está um objeto que contém dados do modelo de crescimento log-linear que usamos na [aula de função de valor iteração](https://julia.quantecon.org/optgrowth.html)."
   ]
  },
  {
   "cell_type": "code",
   "execution_count": 6,
   "metadata": {
    "hide-output": false
   },
   "outputs": [
    {
     "data": {
      "text/plain": [
       "#6 (generic function with 2 methods)"
      ]
     },
     "execution_count": 6,
     "metadata": {},
     "output_type": "execute_result"
    }
   ],
   "source": [
    "isoelastic(c, γ) = isone(γ) ? log(c) : (c^(1 - γ) - 1) / (1 - γ)\n",
    "Model = @with_kw (α = 0.65,                            # Parâmetro de produtividade\n",
    "                  β = 0.95,                            # Fator de desconto\n",
    "                  γ = 1.0,                             # Aversão ao risco\n",
    "                  μ = 0.0,                             # Primeiro parâmetro em lognorm(μ, σ)\n",
    "                  s = 0.1,                             # Segundo parâmetro em lognorm(μ, σ)\n",
    "                  grid = range(1e-6, 4, length = 200), # Grid\n",
    "                  grid_min = 1e-6,                     # Menor ponto do grid\n",
    "                  grid_max = 4.0,                      # Maior ponto do grid\n",
    "                  grid_size = 200,                     # Números de pontos do grid\n",
    "                  u = (c, γ = γ) -> isoelastic(c, γ),  # função utilidade\n",
    "                  ∂u∂c = c -> c^(-γ),                  # u′\n",
    "                  f = k -> k^α,                        # função de produção\n",
    "                  f′ = k -> α * k^(α - 1),             # f′\n",
    "                  )"
   ]
  },
  {
   "cell_type": "markdown",
   "metadata": {},
   "source": [
    "Em seguida, geramos uma instância."
   ]
  },
  {
   "cell_type": "code",
   "execution_count": 7,
   "metadata": {
    "hide-output": false
   },
   "outputs": [],
   "source": [
    "m = Model();"
   ]
  },
  {
   "cell_type": "markdown",
   "metadata": {},
   "source": [
    "Também precisamos de alguns choques para a integração de Monte Carlo."
   ]
  },
  {
   "cell_type": "code",
   "execution_count": 8,
   "metadata": {
    "hide-output": false
   },
   "outputs": [],
   "source": [
    "using Random\n",
    "Random.seed!(42) # para resultados reprodutíveis.\n",
    "\n",
    "shock_size = 250 # números de choques na integral de Monte Carlo\n",
    "shocks = collect(exp.(m.μ .+ m.s * randn(shock_size))); # gerar choques"
   ]
  },
  {
   "cell_type": "markdown",
   "metadata": {},
   "source": [
    "Como um teste preliminar, vamos ver se $ K c^* = c^* $, como está implícito na teoria."
   ]
  },
  {
   "cell_type": "code",
   "execution_count": 9,
   "metadata": {
    "hide-output": false
   },
   "outputs": [
    {
     "data": {
      "text/plain": [
       "verify_true_policy (generic function with 1 method)"
      ]
     },
     "execution_count": 9,
     "metadata": {},
     "output_type": "execute_result"
    }
   ],
   "source": [
    "function verify_true_policy(m, shocks, c_star)\n",
    "    # computar (Kc_star)\n",
    "    @unpack grid, β, ∂u∂c, f, f′ = m\n",
    "    c_star_new = K(c_star, grid, β, ∂u∂c, f, f′, shocks)\n",
    "\n",
    "    # plotar c_star e Kc_star\n",
    "    plot(grid, c_star, label = \"optimal policy cc_star\")\n",
    "    plot!(grid, c_star_new, label = \"Kc_star\")\n",
    "    plot!(legend = :topleft)\n",
    "end"
   ]
  },
  {
   "cell_type": "code",
   "execution_count": 10,
   "metadata": {
    "hide-output": false
   },
   "outputs": [
    {
     "data": {
      "image/png": "[encoded data removed]"
     },
     "execution_count": 10,
     "metadata": {},
     "output_type": "execute_result"
    }
   ],
   "source": [
    "c_star = (1 - m.α * m.β) * m.grid # verdadeira política (c_star)\n",
    "verify_true_policy(m, shocks, c_star)"
   ]
  },
  {
   "cell_type": "markdown",
   "metadata": {},
   "source": [
    "Não podemos realmente distinguir claramente as duas parcelas, por isso estamos com boa aparência, pelo menos para este teste.\n",
    "\n",
    "Em seguida, vamos tentar iterar a partir de uma condição inicial arbitrária e ver se convergimos para $ c^* $.\n",
    "\n",
    "A condição inicial que usaremos é a que detém toda a parcela: $ c(y) = y $"
   ]
  },
  {
   "cell_type": "code",
   "execution_count": 11,
   "metadata": {
    "hide-output": false
   },
   "outputs": [
    {
     "data": {
      "text/plain": [
       "check_convergence (generic function with 1 method)"
      ]
     },
     "execution_count": 11,
     "metadata": {},
     "output_type": "execute_result"
    }
   ],
   "source": [
    "function check_convergence(m, shocks, c_star, g_init; n_iter = 15)\n",
    "    @unpack grid, β, ∂u∂c, f, f′ = m\n",
    "    g = g_init;\n",
    "    plot(m.grid, g, lw = 2, alpha = 0.6, label = \"intial condition c(y) = y\")\n",
    "    for i in 1:n_iter\n",
    "        new_g = K(g, grid, β, ∂u∂c, f, f′, shocks)\n",
    "        g = new_g\n",
    "        plot!(grid, g, lw = 2, alpha = 0.6, label = \"\")\n",
    "    end\n",
    "    plot!(grid, c_star, color = :black, lw = 2, alpha = 0.8,\n",
    "          label = \"true policy function c_star\")\n",
    "    plot!(legend = :topleft)\n",
    "end"
   ]
  },
  {
   "cell_type": "code",
   "execution_count": 12,
   "metadata": {
    "hide-output": false
   },
   "outputs": [
    {
     "data": {
      "image/png": "[encoded data removed]"
     },
     "execution_count": 12,
     "metadata": {},
     "output_type": "execute_result"
    }
   ],
   "source": [
    "check_convergence(m, shocks, c_star, m.grid, n_iter = 15)"
   ]
  },
  {
   "cell_type": "markdown",
   "metadata": {},
   "source": [
    "Vemos que a política convergiu muito bem, em apenas algumas etapas.\n",
    "\n",
    "Agora vamos comparar a precisão da iteração usando os operadores Coleman e Bellman.\n",
    "\n",
    "Nós vamos gerar:\n",
    "\n",
    "1. $ K^n c $ onde $ c(y) = y $  \n",
    "1. $ (M \\circ T^n \\circ M^{-1}) c $ onde $ c(y) = y $  \n",
    "\n",
    "\n",
    "Em cada caso, compararemos a política resultante com $ c^* $.\n",
    "\n",
    "A teoria da dinâmica equivalente diz que obteremos a mesma função de política e, portanto, os mesmos erros.\n",
    "\n",
    "Mas, de fato, esperamos que o primeiro método seja mais preciso pelas razões discutidas acima."
   ]
  },
  {
   "cell_type": "code",
   "execution_count": 13,
   "metadata": {
    "hide-output": false
   },
   "outputs": [
    {
     "data": {
      "text/plain": [
       "compare_error (generic function with 1 method)"
      ]
     },
     "execution_count": 13,
     "metadata": {},
     "output_type": "execute_result"
    }
   ],
   "source": [
    "function iterate_updating(func, arg_init; sim_length = 20)\n",
    "    arg = arg_init;\n",
    "    for i in 1:sim_length\n",
    "        new_arg = func(arg)\n",
    "        arg = new_arg\n",
    "    end\n",
    "    return arg\n",
    "end\n",
    "\n",
    "function compare_error(m, shocks, g_init, w_init; sim_length = 20)\n",
    "    @unpack grid, β, u, ∂u∂c, f, f′ = m\n",
    "    g, w = g_init, w_init\n",
    "\n",
    "    # duas funções para simplificação\n",
    "    bellman_single_arg(w) = T(w, grid, β, u, f, shocks)\n",
    "    coleman_single_arg(g) = K(g, grid, β, ∂u∂c, f, f′, shocks)\n",
    "\n",
    "    g = iterate_updating(coleman_single_arg, grid, sim_length = 20)\n",
    "    w = iterate_updating(bellman_single_arg, u.(grid), sim_length = 20)\n",
    "    new_w, vf_g = T(w, grid, β, u, f, shocks, compute_policy = true)\n",
    "\n",
    "    pf_error = c_star - g\n",
    "    vf_error = c_star - vf_g\n",
    "\n",
    "    plot(grid, zero(grid), color = :black, lw = 1)\n",
    "    plot!(grid, pf_error, lw = 2, alpha = 0.6, label = \"policy iteration error\")\n",
    "    plot!(grid, vf_error, lw = 2, alpha = 0.6, label = \"value iteration error\")\n",
    "    plot!(legend = :bottomleft)\n",
    "end"
   ]
  },
  {
   "cell_type": "code",
   "execution_count": 14,
   "metadata": {
    "hide-output": false
   },
   "outputs": [
    {
     "data": {
      "image/png": "[encoded data removed]"
     },
     "execution_count": 14,
     "metadata": {},
     "output_type": "execute_result"
    }
   ],
   "source": [
    "compare_error(m, shocks, m.grid, m.u.(m.grid), sim_length=20)"
   ]
  },
  {
   "cell_type": "markdown",
   "metadata": {},
   "source": [
    "Como você pode ver, a iteração de tempo é muito mais precisa para um determinado número de iterações."
   ]
  },
  {
   "cell_type": "markdown",
   "metadata": {},
   "source": [
    "## Exercícios"
   ]
  },
  {
   "cell_type": "markdown",
   "metadata": {},
   "source": [
    "### Exercício 1\n",
    "\n",
    "Mostre que [(9)](#equation-cpi-ed-tk) é válido. Em particular:\n",
    "\n",
    "- Seja $ v $ estritamente côncavo e continuamente diferenciável em  $ (0, \\infty) $  \n",
    "- Fixe $ y \\in (0, \\infty) $ e mostre que $ MTv(y) = KMv(y) $  "
   ]
  },
  {
   "cell_type": "markdown",
   "metadata": {},
   "source": [
    "### Exercício 2\n",
    "\n",
    "Mostre que $ M $ é uma bijeção de $ \\mathscr V $ para $ \\mathscr P $."
   ]
  },
  {
   "cell_type": "markdown",
   "metadata": {},
   "source": [
    "### Exercício 3\n",
    "\n",
    "Considere o mesmo modelo acima, mas com a função de utilidade CRRA;\n",
    "\n",
    "\n",
    "$$\n",
    "u(c) = \\frac{c^{1 - \\gamma} - 1}{1 - \\gamma}\n",
    "$$\n",
    "\n",
    "Itere 20  vezes com iteração de Bellman e iteração de tempo da equação de Euler:\n",
    "\n",
    "- comece as iterações de tempo de $ c(y) = y $  \n",
    "- comece a iteração de valor de $ v(y) = u(y) $  \n",
    "- defina $ \\gamma = 1.5 $  \n",
    "\n",
    "\n",
    "Compare as políticas resultantes e verifique se elas estão próximas."
   ]
  },
  {
   "cell_type": "markdown",
   "metadata": {},
   "source": [
    "### Exercício 4\n",
    "\n",
    "Faça o mesmo exercício, mas agora, em vez de plotar resultados, compare as duas abordagens com 20 iterações."
   ]
  },
  {
   "cell_type": "markdown",
   "metadata": {},
   "source": [
    "## Soluções"
   ]
  },
  {
   "cell_type": "markdown",
   "metadata": {},
   "source": [
    "### Soluções para o Exercício 1\n",
    "\n",
    "Seja $ T, K, M, v $ e $ y $ conforme afirmado no exercício.\n",
    "\n",
    "Usando o teorema do envelope, podemos mostrar que $ (Tv)'(y) = u'(c(y)) $\n",
    "onde $ c(y) $ resolve:\n",
    "\n",
    "\n",
    "<a id='equation-cpi-foo'></a>\n",
    "$$\n",
    "u'(c(y))\n",
    "= \\beta \\int v' (f(y - c(y)) z ) f'(y - c(y)) z \\phi(dz) \\tag{10}\n",
    "$$\n",
    "\n",
    "Portanto $ MTv(y) = (u')^{-1} (u'(c(y))) = c(y) $.\n",
    "\n",
    "Por outro lado, $ KMv(y) $ é o $ c(y) $ que resolve:\n",
    "\n",
    "$$\n",
    "\\begin{aligned}\n",
    "    u'(c(y))\n",
    "    & = \\beta \\int (u' \\circ (Mv)) (f(y - c(y)) z ) f'(y - c(y)) z \\phi(dz)\n",
    "    \\\\\n",
    "    & = \\beta \\int (u' \\circ ((u')^{-1} \\circ v'))\n",
    "        (f(y - c(y)) z ) f'(y - c(y)) z \\phi(dz)\n",
    "    \\\\\n",
    "    & = \\beta \\int v'(f(y - c(y)) z ) f'(y - c(y)) z \\phi(dz)\n",
    "\\end{aligned}\n",
    "$$\n",
    "\n",
    "Vemos que $ c(y) $ é o mesmo em cada caso."
   ]
  },
  {
   "cell_type": "markdown",
   "metadata": {},
   "source": [
    "### Soluções para o Exercício 2\n",
    "\n",
    "Precisamos mostrar que $ M $ é uma bijeção de $ \\mathscr V $ para $ \\mathscr P $.\n",
    "\n",
    "Para ver isso, primeiro observe que, em vista de nossas suposições acima, $ u' $ é uma bijeção contínua estritamente decrescente de $ (0,\\infty) $ sí mesmo.\n",
    "\n",
    "[Segue](https://math.stackexchange.com/questions/672174/continuity-of-an-inverse-function) que $ h $ tem as mesmas propriedades.\n",
    "\n",
    "Além disso, para pontos fixos $ v \\in \\mathscr V $, a derivada $ v' $ é uma função contínua e estritamente decrescente.\n",
    "\n",
    "Portanto, para $ v \\in \\mathscr V $ fixo, o mapa $ M v = h \\circ v' $\n",
    "é estritamente crescente e contínuo, assumindo valores em $ (0, \\infty) $.\n",
    "\n",
    "Além disso, interioridade é válida porque $ v' $ domina estritamente $ u' $, implicando que:\n",
    "\n",
    "$$\n",
    "(M v)(y) = h(v'(y)) < h(u'(y)) = y\n",
    "$$\n",
    "\n",
    "Em particular, $ \\sigma(y) := (Mv)(y) $ é um elemento de $ \\mathscr\n",
    "P $.\n",
    "\n",
    "Para ver que cada $ \\sigma \\in \\mathscr P $ tem uma pré-imagem $ v \\in \\mathscr V $ com $ Mv = \\sigma $, estabelecido qualquer $ \\sigma \\in \\mathscr P $.\n",
    "\n",
    "Seja $ v(y) := \\int_0^y u'(\\sigma(x)) dx $ com $ v(0) = 0 $.\n",
    "\n",
    "Com um pequeno esforço, você será capaz de mostrar que $ v \\in \\mathscr V $ e $ Mv = \\sigma $.\n",
    "\n",
    "Também é verdade que $ M $ é individual em $ \\mathscr V $.\n",
    "\n",
    "Para ver isso, suponha que $ v $ e $ w $ são elementos de $ \\mathscr V $\n",
    "satisfazendo $ Mv = Mw $.\n",
    "\n",
    "Então $ v(0) = w(0) = 0 $ e $ v' = w' $ em $ (0, \\infty) $.\n",
    "\n",
    "O teorema fundamental do cálculo implica que $ v = w $ nos $ \\mathbb R_+ $."
   ]
  },
  {
   "cell_type": "markdown",
   "metadata": {},
   "source": [
    "### Solução para o Exercício 3\n",
    "\n",
    "Aqui está o código, que será executado se você executou todo o código acima:"
   ]
  },
  {
   "cell_type": "code",
   "execution_count": 15,
   "metadata": {
    "hide-output": false
   },
   "outputs": [],
   "source": [
    "# Instância do modelo com aversão ao risco = 1,5 \n",
    "# outras são iguais à instância anterior \n",
    "m_ex = Model(γ = 1.5);"
   ]
  },
  {
   "cell_type": "code",
   "execution_count": 16,
   "metadata": {
    "hide-output": false
   },
   "outputs": [
    {
     "data": {
      "text/plain": [
       "exercise2 (generic function with 3 methods)"
      ]
     },
     "execution_count": 16,
     "metadata": {},
     "output_type": "execute_result"
    }
   ],
   "source": [
    "function exercise2(m, shocks, g_init = m.grid, w_init = m.u.(m.grid); sim_length = 20)\n",
    "\n",
    "    @unpack grid, β, u, ∂u∂c, f, f′ = m\n",
    "    # política e valor iniciais\n",
    "    g, w = g_init, w_init\n",
    "    # iteração\n",
    "    bellman_single_arg(w) = T(w, grid, β, u, f, shocks)\n",
    "    coleman_single_arg(g) = K(g, grid, β, ∂u∂c, f, f′, shocks)\n",
    "\n",
    "    g = iterate_updating(coleman_single_arg, grid, sim_length = 20)\n",
    "    w = iterate_updating(bellman_single_arg, u.(m.grid), sim_length = 20)\n",
    "    new_w, vf_g = T(w, grid, β, u, f, shocks, compute_policy = true)\n",
    "\n",
    "    plot(grid, g, lw = 2, alpha = 0.6, label = \"policy iteration\")\n",
    "    plot!(grid, vf_g, lw = 2, alpha = 0.6, label = \"value iteration\")\n",
    "    return plot!(legend = :topleft)\n",
    "end"
   ]
  },
  {
   "cell_type": "code",
   "execution_count": 17,
   "metadata": {
    "hide-output": false
   },
   "outputs": [
    {
     "data": {
      "image/png": "[encoded data removed]"
     },
     "execution_count": 17,
     "metadata": {},
     "output_type": "execute_result"
    }
   ],
   "source": [
    "exercise2(m_ex, shocks, m.grid, m.u.(m.grid), sim_length=20)"
   ]
  },
  {
   "cell_type": "markdown",
   "metadata": {},
   "source": [
    "As políticas de fato estão próximas."
   ]
  },
  {
   "cell_type": "markdown",
   "metadata": {},
   "source": [
    "### Solução para o Exercício 4\n",
    "\n",
    "Aqui está o código.\n",
    "\n",
    "Parte do princípio que você acabou de executar o código do exercício anterior."
   ]
  },
  {
   "cell_type": "code",
   "execution_count": 18,
   "metadata": {
    "hide-output": false
   },
   "outputs": [
    {
     "data": {
      "text/plain": [
       "coleman (generic function with 1 method)"
      ]
     },
     "execution_count": 18,
     "metadata": {},
     "output_type": "execute_result"
    }
   ],
   "source": [
    "function bellman(m, shocks)\n",
    "    @unpack grid, β, u, ∂u∂c, f, f′ = m\n",
    "    bellman_single_arg(w) = T(w, grid, β, u, f, shocks)\n",
    "    iterate_updating(bellman_single_arg, u.(grid), sim_length = 20)\n",
    "end\n",
    "function coleman(m, shocks)\n",
    "    @unpack grid, β, ∂u∂c, f, f′ = m\n",
    "    coleman_single_arg(g) = K(g, grid, β, ∂u∂c, f, f′, shocks)\n",
    "    iterate_updating(coleman_single_arg, grid, sim_length = 20)\n",
    "end"
   ]
  },
  {
   "cell_type": "code",
   "execution_count": 19,
   "metadata": {
    "hide-output": false
   },
   "outputs": [
    {
     "data": {
      "text/plain": [
       "BenchmarkTools.Trial: \n",
       "  memory estimate:  155.94 MiB\n",
       "  allocs estimate:  90741\n",
       "  --------------\n",
       "  minimum time:     653.071 ms (3.50% GC)\n",
       "  median time:      668.087 ms (3.45% GC)\n",
       "  mean time:        668.634 ms (3.51% GC)\n",
       "  maximum time:     681.606 ms (3.39% GC)\n",
       "  --------------\n",
       "  samples:          8\n",
       "  evals/sample:     1"
      ]
     },
     "execution_count": 19,
     "metadata": {},
     "output_type": "execute_result"
    }
   ],
   "source": [
    "@benchmark bellman(m_ex, shocks)"
   ]
  },
  {
   "cell_type": "code",
   "execution_count": 20,
   "metadata": {
    "hide-output": false
   },
   "outputs": [
    {
     "data": {
      "text/plain": [
       "BenchmarkTools.Trial: \n",
       "  memory estimate:  155.94 MiB\n",
       "  allocs estimate:  90741\n",
       "  --------------\n",
       "  minimum time:     651.615 ms (3.53% GC)\n",
       "  median time:      665.492 ms (3.49% GC)\n",
       "  mean time:        664.885 ms (3.55% GC)\n",
       "  maximum time:     676.551 ms (3.45% GC)\n",
       "  --------------\n",
       "  samples:          8\n",
       "  evals/sample:     1"
      ]
     },
     "execution_count": 20,
     "metadata": {},
     "output_type": "execute_result"
    }
   ],
   "source": [
    "@benchmark bellman(m_ex, shocks)"
   ]
  }
 ],
 "metadata": {
  "date": 1572312774.8284676,
  "download_nb": 1,
  "download_nb_path": "https://julia.quantecon.org/",
  "filename": "coleman_policy_iter.rst",
  "filename_with_path": "dynamic_programming/coleman_policy_iter",
  "kernelspec": {
   "display_name": "Julia 1.3.1",
   "language": "julia",
   "name": "julia-1.3"
  },
  "language_info": {
   "file_extension": ".jl",
   "mimetype": "application/julia",
   "name": "julia",
   "version": "1.3.1"
  },
  "title": "Optimal Growth II: Time Iteration"
 },
 "nbformat": 4,
 "nbformat_minor": 4
}
