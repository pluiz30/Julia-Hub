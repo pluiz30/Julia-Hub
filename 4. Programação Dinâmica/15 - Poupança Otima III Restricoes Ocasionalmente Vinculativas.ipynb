{
 "cells": [
  {
   "cell_type": "markdown",
   "metadata": {},
   "source": [
    "\n",
    "<a id='ifp'></a>\n",
    "<div id=\"qe-notebook-header\" style=\"text-align:right;\">\n",
    "        <a href=\"https://quantecon.org/\" title=\"quantecon.org\">\n",
    "                <img style=\"width:250px;display:inline;\" src=\"https://assets.quantecon.org/img/qe-menubar-logo.svg\" alt=\"QuantEcon\">\n",
    "        </a>\n",
    "</div>"
   ]
  },
  {
   "cell_type": "markdown",
   "metadata": {},
   "source": [
    "# Poupança Ótima III: Restrições Ocasionalmente Vinculativas"
   ]
  },
  {
   "cell_type": "markdown",
   "metadata": {},
   "source": [
    "## Conteúdo\n",
    "\n",
    "- [Poupança Ótima III: Restrições Ocasionalmente Vinculativas](#Poupança-Ótima-III:-Restrições-Ocasionalmente-Vinculativas)  \n",
    "  - [Resumo](#Resumo)  \n",
    "  - [O Problema da Poupança Ótima](#O-Problema-da-Poupança-Ótima)  \n",
    "  - [Computação](#Computação)  \n",
    "  - [Exercícios](#Exercícios)  \n",
    "  - [Soluções](#Soluções)  "
   ]
  },
  {
   "cell_type": "markdown",
   "metadata": {},
   "source": [
    "> *Devidamente traduzido, revisado e adaptado do [QuantEcon](https://quantecon.org/) pelos bolsistas CNPq, Pedro Luiz H. Furtado e Jonas Aragão M. Corpes, sob supervisão do Prof. Christiano Penna, do CAEN/UFC.*"
   ]
  },
  {
   "cell_type": "markdown",
   "metadata": {},
   "source": [
    "## Resumo\n",
    "\n",
    "Em seguida, estudaremos um problema de poupança ótima para um consumidor que vive infinitamente — o “ancestral comum” descrito em [[LS18]](https://julia.quantecon.org/../zreferences.html#ljungqvist2012), seção 1.3.\n",
    "\n",
    "Esse é um subproblema essencial para muitos modelos macroeconômicos representativos:\n",
    "\n",
    "- [[Aiy94]](https://julia.quantecon.org/../zreferences.html#aiyagari1994)  \n",
    "- [[Hug93]](https://julia.quantecon.org/../zreferences.html#huggett1993)  \n",
    "- etc.  \n",
    "\n",
    "\n",
    "Está relacionado ao problema de decisão no [modelo de crescimento ótimo estocástico](https://julia.quantecon.org/optgrowth.html) e ainda difere em aspectos importantes.\n",
    "\n",
    "Por exemplo, o problema de escolha do agente inclui um termo de renda aditiva que leva a uma restrição ocasionalmente vinculativa.\n",
    "\n",
    "Nossa apresentação do modelo será relativamente breve;\n",
    "\n",
    "- Para mais detalhes sobre intuição econômica, implicação e modelos, consulte [[LS18]](https://julia.quantecon.org/../zreferences.html#ljungqvist2012)  \n",
    "- As provas de todos os resultados matemáticos declarados abaixo podem ser encontradas <a href=/_static/pdfs/pi2.pdf download>nesse documento</a>  \n",
    "\n",
    "\n",
    "Para resolver o modelo, usaremos a iteração de tempo baseada na equação de Euler, semelhante a [essa aula](https://julia.quantecon.org/coleman_policy_iter.html).\n",
    "\n",
    "Esse método acaba sendo:\n",
    "\n",
    "- Globalmente convergente sob suposições suaves, mesmo quando a utilidade é ilimitada (acima e abaixo).\n",
    "- Mais eficiênte numericamente que a função de valor iteração.  "
   ]
  },
  {
   "cell_type": "markdown",
   "metadata": {},
   "source": [
    "### Referências\n",
    "\n",
    "Outras referências usuais incluem [[Dea91]](https://julia.quantecon.org/../zreferences.html#deaton1991), [[DH10]](https://julia.quantecon.org/../zreferences.html#denhaan2010), [[Kuh13]](https://julia.quantecon.org/../zreferences.html#kuhn2013), [[Rab02]](https://julia.quantecon.org/../zreferences.html#rabault2002),  [[Rei09]](https://julia.quantecon.org/../zreferences.html#reiter2009)  e [[SE77]](https://julia.quantecon.org/../zreferences.html#schechtmanescudero1977)."
   ]
  },
  {
   "cell_type": "markdown",
   "metadata": {},
   "source": [
    "## O Problema da Poupança Ótima\n",
    "\n",
    "<a id='index-1'></a>\n",
    "Vamos escrever o modelo e depois dicutir como resolvê-lo."
   ]
  },
  {
   "cell_type": "markdown",
   "metadata": {},
   "source": [
    "### Configuração\n",
    "\n",
    "Considere uma família que escolhe um plano de consumo contingente $ \\{c_t\\}_{t \\geq 0} $ para maximizar:\n",
    "\n",
    "$$\n",
    "\\mathbb{E} \\, \\sum_{t=0}^{\\infty} \\beta^t u(c_t)\n",
    "$$\n",
    "\n",
    "sujeito a:\n",
    "\n",
    "<a id='equation-eqst'></a>\n",
    "$$\n",
    "c_t + a_{t+1} \\leq  Ra_t  + z_t,\n",
    "\\qquad c_t \\geq 0,\n",
    "\\qquad a_t \\geq -b\n",
    "\\qquad t = 0, 1, \\ldots \\tag{1}\n",
    "$$\n",
    "\n",
    "Aqui:\n",
    "\n",
    "- $ \\beta \\in (0,1) $ é o fator de desconto.\n",
    "- $ a_t $ é a detenção de ativos no momento $ t $, com isso a restrição de emprésticos é $ a_t \\geq -b $.  \n",
    "- $ c_t $ é o consumo.\n",
    "- $ z_t $ é renda não-capital (salários, seguro desemprego, etc.)  \n",
    "- $ R := 1 + r $, onde $ r > 0 $ é a taxa de juros da poupança.\n",
    "\n",
    "\n",
    "A renda não-capital $ \\{z_t\\} $ é assumida ser um processo de Markov com valores em $ Z\\subset (0,\\infty) $ com núcleo estocástico $ \\Pi $.\n",
    "\n",
    "Isso significa que $ \\Pi(z, B) $ é a probabilidade de que $ z_{t+1} \\in\n",
    "B $ dado $ z_t = z $.\n",
    "\n",
    "A expectativa de $ f(z_{t+1}) $ dado $ z_t = z $ é escrita como:\n",
    "\n",
    "$$\n",
    "\\int f( \\acute z) \\, \\Pi(z, d \\acute z)\n",
    "$$\n",
    "\n",
    "Também assumimos que:\n",
    "\n",
    "1. $ r > 0 $ e $ \\beta R < 1 $.  \n",
    "1. $ u $ é suave, estritamente crescente e estritamente côncavo com $ \\lim_{c \\to 0} u'(c) = \\infty $ e $ \\lim_{c \\to \\infty} u'(c) = 0 $  \n",
    "\n",
    "\n",
    "O espaço do ativo é $ [-b, \\infty) $ e o estado é o par $ (a,z) \\in S := [-b,\\infty) \\times Z $.\n",
    "\n",
    "Um *caminho de consumo factível* a partir de $ (a,z) \\in S $ é uma sequência de consumo $ \\{c_t\\} $ de modo que $ \\{c_t\\} $ e seu caminho de consumo induzido $ \\{a_t\\} $ satisfaça:\n",
    "\n",
    "1. $ (a_0, z_0) = (a, z) $  \n",
    "1. as restrições de viabilidade em [(1)](#equation-eqst), e  \n",
    "1. a mensurabilidade $ c_t $ w.r.t. a filtragem gerada por $ \\{z_1, \\ldots, z_t\\} $  \n",
    "\n",
    "\n",
    "O significado do terceiro ponto é justamente esse consumo no momento $ t $ só pode ser uma função de resultados que já foram observados."
   ]
  },
  {
   "cell_type": "markdown",
   "metadata": {},
   "source": [
    "### A Função de Valor e a Equação de Euler\n",
    "\n",
    "A *função de valor* $ V \\colon S \\to \\mathbb{R} $ é definida por:\n",
    "\n",
    "\n",
    "<a id='equation-eqvf'></a>\n",
    "$$\n",
    "V(a, z) := \\sup \\, \\mathbb{E}\n",
    "\\left\\{\n",
    "\\sum_{t=0}^{\\infty} \\beta^t u(c_t)\n",
    "\\right\\} \\tag{2}\n",
    "$$\n",
    "\n",
    "onde o *supremo* está sobre todos os caminhos viáveis de consumo de $ (a,z) $.\n",
    "Um *caminho de consumo ótimo* a partir de $ (a,z) $ é um caminho de consumo viável a partir de $ (a,z) $ que atinge o *supremo* em [(2)](#equation-eqvf).\n",
    "\n",
    "Para definir esses caminhos, podemos usar uma versão da equação de Euler, que na configuração atual é:\n",
    "\n",
    "\n",
    "<a id='equation-ee00'></a>\n",
    "$$\n",
    "u' (c_t)\n",
    "\\geq \\beta R \\,  \\mathbb{E}_t [ u'(c_{t+1}) ] \\tag{3}\n",
    "$$\n",
    "\n",
    "e\n",
    "\n",
    "\n",
    "<a id='equation-ee01'></a>\n",
    "$$\n",
    "u' (c_t) = \\beta R \\,  \\mathbb{E}_t [ u'(c_{t+1}) ]\n",
    "\\quad \\text{sempre que }\n",
    "c_t < Ra_t + z_t + b \\tag{4}\n",
    "$$\n",
    "\n",
    "Em essência, isso diz que a relação natural de “arbitragem” $ u' (c_t) = \\beta R \\,  \\mathbb{E}_t [ u'(c_{t+1}) ] $ é válida quando a escolha de consumo atual é interior.\n",
    "\n",
    "Interioridade significa que $ c_t $ é estritamente menor que seu limite superior $ Ra_t + z_t + b $.\n",
    "\n",
    "(O caso do limite inferior de $ c_t = 0 $ nunca surge no ótimo porque\n",
    "$ u'(0) = \\infty $)\n",
    "\n",
    "Quando $ c_t $ atinge o limite superior $ Ra_t + z_t + b $, a desigualdade estrita $ u' (c_t) > \\beta R \\,  \\mathbb{E}_t [ u'(c_{t+1}) ] $\n",
    "pode ocorrer pois $ c_t $ não pode crescer suficientemente para atingir a igualdade.\n",
    "\n",
    "Com algum pensamento e esforço, pode-se mostrar que [(3)](#equation-ee00) e [(4)](#equation-ee01) são equivalentes a:\n",
    "\n",
    "\n",
    "<a id='equation-eqeul0'></a>\n",
    "$$\n",
    "u' (c_t)\n",
    "= \\max \\left\\{\n",
    "\\beta R \\,  \\mathbb{E}_t [ u'(c_{t+1}) ] \\,,\\;  u'(Ra_t + z_t + b)\n",
    "\\right\\} \\tag{5}\n",
    "$$"
   ]
  },
  {
   "cell_type": "markdown",
   "metadata": {},
   "source": [
    "### Resultados de Otimização\n",
    "\n",
    "Dados as nossas suposições, é <a href=/_static/pdfs/pi2.pdf download>sabido</a> que:\n",
    "\n",
    "1. Para cada $ (a,z) \\in S $, existe um único caminho possível a partir de $ (a,z) $.  \n",
    "1. Esse caminho é o único caminho factível a partir de $ (a,z) $ satisfazendo a igualdade de Euler [(5)](#equation-eqeul0) e a condição de transversalidade.\n",
    "\n",
    "\n",
    "\n",
    "<a id='equation-eqtv'></a>\n",
    "$$\n",
    "\\lim_{t \\to \\infty} \\beta^t \\, \\mathbb{E} \\, [ u'(c_t) a_{t+1} ] = 0. \\tag{6}\n",
    "$$\n",
    "\n",
    "Além disso, existe uma *função de consumo ótimo* $ c^* \\colon S \\to [0, \\infty) $ de modo que o caminho a partir de  $ (a,z) $ é gerado por:\n",
    "\n",
    "$$\n",
    "(a_0, z_0) = (a, z),\n",
    "\\quad\n",
    "z_{t+1} \\sim \\Pi(z_t, dy),\n",
    "\\quad\n",
    "c_t = c^*(a_t, z_t)\n",
    "\\quad \\text{e} \\quad\n",
    "a_{t+1} = R a_t + z_t - c_t\n",
    "$$\n",
    "\n",
    "satisfazendo ambos [(5)](#equation-eqeul0) e [(6)](#equation-eqtv), e é portanto o único caminho ótimo a partir de $ (a,z) $.\n",
    "\n",
    "Em resumo, para resolver o problema de otimização, precisamos computar $ c^* $.\n",
    "\n",
    "\n",
    "<a id='ifp-computation'></a>"
   ]
  },
  {
   "cell_type": "markdown",
   "metadata": {},
   "source": [
    "## Computação\n",
    "\n",
    "<a id='index-2'></a>\n",
    "Existem duas maneiras padrão de resolver $ c^* $.\n",
    "\n",
    "1. Iteração no Tempo (TI) usando a igualdade de Euler.  \n",
    "1. Função de Valor Iteração (VFI)  \n",
    "\n",
    "\n",
    "Vamos ver isso por sua vez."
   ]
  },
  {
   "cell_type": "markdown",
   "metadata": {},
   "source": [
    "### Iteração no Tempo\n",
    "\n",
    "Podemos reescrever [(5)](#equation-eqeul0) para torná-la uma declaração sobre funções, em vez de variáveis ​​aleatórias.\n",
    "\n",
    "Em particular, considere a equação funcional:\n",
    "\n",
    "\n",
    "<a id='equation-eqeul1'></a>\n",
    "$$\n",
    "u' \\circ c \\, (a, z)\n",
    "= \\max \\left\\{\n",
    "\\gamma \\int u' \\circ c \\, \\{R a + z - c(a, z), \\, \\acute z\\}\n",
    "\\, \\Pi(z,d \\acute z)\n",
    "\\, , \\;\n",
    "     u'(Ra + z + b)\n",
    "     \\right\\} \\tag{7}\n",
    "$$\n",
    "\n",
    "onde $ \\gamma := \\beta R $ e $ u' \\circ c(s) := u'(c(s)) $.\n",
    "\n",
    "A equação [(7)](#equation-eqeul1) é uma equação funcional em $ c $.\n",
    "\n",
    "Para identificar uma solução, faça $ \\mathscr{C} $ ser o conjunto de funções de consumo candidatas $ c \\colon S \\to \\mathbb R $ de modo que:\n",
    "\n",
    "- cada $ c \\in \\mathscr{C} $ é contínuo e (fracamente) crescente. \n",
    "- $ \\min Z \\leq c(a,z) \\leq Ra + z + b $ para todo $ (a,z) \\in S $.  \n",
    "\n",
    "\n",
    "Além disso, faça $ K \\colon \\mathscr{C} \\to \\mathscr{C} $ ser definido da seguinte forma.\n",
    "\n",
    "Para um dado $ c\\in \\mathscr{C} $, o valor $ Kc(a,z) $ é o único $ t \\in J(a,z) $ que resolve:\n",
    "\n",
    "\n",
    "<a id='equation-eqsifc'></a>\n",
    "$$\n",
    "u'(t)\n",
    "= \\max \\left\\{\n",
    "\\gamma \\int u' \\circ c \\, \\{R a + z - t, \\, \\acute z\\}\n",
    "\\, \\Pi(z,d \\acute z)\n",
    "\\, , \\;\n",
    "     u'(Ra + z + b)\n",
    "     \\right\\} \\tag{8}\n",
    "$$\n",
    "\n",
    "onde\n",
    "\n",
    "\n",
    "<a id='equation-eqbos'></a>\n",
    "$$\n",
    "J(a,z) := \\{t \\in \\mathbb{R} \\,:\\, \\min Z \\leq t \\leq Ra+ z + b\\} \\tag{9}\n",
    "$$\n",
    "\n",
    "Referimos a $ K $ como operador de função política de Coleman [[Col90]](https://julia.quantecon.org/../zreferences.html#coleman1990).\n",
    "\n",
    "É <a href=/_static/pdfs/pi2.pdf download>sabido</a> que:\n",
    "\n",
    "- $ K $ é um mapeamento de contração em $ \\mathscr{C} $ sob a métrica. \n",
    "\n",
    "\n",
    "$$\n",
    "\\rho(c, d) := \\| \\, u' \\circ c - u' \\circ d \\, \\|\n",
    "    := \\sup_{s \\in S} | \\, u'(c(s))  - u'(d(s)) \\, |\n",
    " \\qquad \\quad (c, d \\in \\mathscr{C})\n",
    "$$\n",
    "\n",
    "- A métrica $ \\rho $ é completa em $ \\mathscr{C} $  \n",
    "- A Convergência em $ \\rho $ implica convergência uniforme em compactos.\n",
    "\n",
    "\n",
    "Em consequência, $ K $ tem um único ponto fixo $ c^* \\in \\mathscr{C} $\n",
    "e $ K^n c \\to c^* $ como $ n \\to \\infty $ para qualquer $ c \\in \\mathscr{C} $.\n",
    "\n",
    "Pela definição de $ K $, os pontos fixos de $ K $ em $ \\mathscr{C} $ coincidem com as soluções para [(7)](#equation-eqeul1) em $ \\mathscr{C} $.\n",
    "\n",
    "Em particular, <a href=/_static/pdfs/pi2.pdf download>pode ser mostrado</a> que o caminho $ \\{c_t\\} $\n",
    "gerado a partir de $ (a_0,z_0) \\in S $ usando a função de política $ c^* $ é o único caminho ótimo a partir de $ (a_0,z_0) \\in S $.\n",
    "\n",
    "**TL;DR** A política ideal única pode ser calculada escolhendo qualquer \n",
    "$ c \\in \\mathscr{C} $ e iterando com o operador $ K $ definido em [(8)](#equation-eqsifc)."
   ]
  },
  {
   "cell_type": "markdown",
   "metadata": {},
   "source": [
    "### Função de Valor Iteração\n",
    "\n",
    "O operador de Bellman para esse problema é dado por:\n",
    "\n",
    "\n",
    "<a id='equation-eqbop'></a>\n",
    "$$\n",
    "Tv(a, z)\n",
    "= \\max_{0 \\leq c \\leq Ra + z + b}\n",
    "\\left\\{\n",
    "    u(c) + \\beta \\int v(Ra + z - c, \\acute z) \\Pi(z, d \\acute z)\n",
    "\\right\\} \\tag{10}\n",
    "$$\n",
    "\n",
    "Temos que ter cuidado com a VFI (ou seja, iterando com\n",
    "$ T $) nesse cenário pois $ u $ não é assumido como limitado\n",
    "\n",
    "- De fato, tipicamente ilimitado acima e abaixo - por exemplo, $ u(c) = \\log c $.  \n",
    "- Nesse caso, a teoria DP padrão não se aplica.\n",
    "- $ T^n v $ não é garantido que convirja para a função de valor para limites arbitrários contínuos $ v $.  \n",
    "\n",
    "\n",
    "No entanto, sempre podemos tentar a estratégia popular \"iterar e ter esperança\".\n",
    "\n",
    "Podemos então verificar o resultado comparando com o produzido pela TI.\n",
    "\n",
    "Sabe-se que este último converge, como descrito acima."
   ]
  },
  {
   "cell_type": "markdown",
   "metadata": {},
   "source": [
    "### Implementação\n",
    "\n",
    "\n",
    "<a id='index-3'></a>\n",
    "Aqui está o código para o construtor de um tupla nomeada chamada de `ConsumerProblem` que armazena as primitivas, assim como:\n",
    "\n",
    "- uma função `T`, que implementa o operador de Bellman $ T $ especificado acima.\n",
    "- uma função `K`, que implementa o operador de Colleman $ K $ especificado acima.\n",
    "- Um `initialize`, que gera condições iniciais adequadas para iteração."
   ]
  },
  {
   "cell_type": "markdown",
   "metadata": {},
   "source": [
    "### Configuração"
   ]
  },
  {
   "cell_type": "code",
   "execution_count": 1,
   "metadata": {
    "hide-output": true
   },
   "outputs": [],
   "source": [
    "using InstantiateFromURL\n",
    "github_project(\"QuantEcon/quantecon-notebooks-julia\", version = \"0.5.0\")\n",
    "# github_project(\"QuantEcon/quantecon-notebooks-julia\", version = \"0.5.0\", instantiate = true) # uncomment to force package installation"
   ]
  },
  {
   "cell_type": "code",
   "execution_count": 2,
   "metadata": {
    "hide-output": false
   },
   "outputs": [],
   "source": [
    "using LinearAlgebra, Statistics\n",
    "using BenchmarkTools, Optim, Parameters, Plots, QuantEcon, Random\n",
    "using Optim: converged, maximum, maximizer, minimizer, iterations\n",
    "gr(fmt = :png);"
   ]
  },
  {
   "cell_type": "code",
   "execution_count": 3,
   "metadata": {
    "hide-output": false
   },
   "outputs": [
    {
     "data": {
      "text/plain": [
       "initialize (generic function with 1 method)"
      ]
     },
     "execution_count": 3,
     "metadata": {},
     "output_type": "execute_result"
    }
   ],
   "source": [
    "# função de utilidade e utilidade marginal\n",
    "u(x) = log(x)\n",
    "du(x) = 1 / x\n",
    "\n",
    "# modelo\n",
    "function ConsumerProblem(;r = 0.01,\n",
    "                         β = 0.96,\n",
    "                         Π = [0.6 0.4; 0.05 0.95],\n",
    "                         z_vals = [0.5, 1.0],\n",
    "                         b = 0.0,\n",
    "                         grid_max = 16,\n",
    "                         grid_size = 50)\n",
    "    R = 1 + r\n",
    "    asset_grid = range(-b, grid_max, length = grid_size)\n",
    "\n",
    "    return (r = r, R = R, β = β, b = b, Π = Π, z_vals = z_vals, asset_grid = asset_grid)\n",
    "end\n",
    "\n",
    "function T!(cp, V, out; ret_policy = false)\n",
    "\n",
    "    # descompata, configuração de matrizes\n",
    "    @unpack R, Π, β, b, asset_grid, z_vals = cp\n",
    "    z_idx = 1:length(z_vals)\n",
    "\n",
    "    # função de valor quando o índice de choque é z_i\n",
    "    vf = interp(asset_grid, V)\n",
    "\n",
    "    opt_lb = 1e-8\n",
    "\n",
    "    # resolve para RHS da euqação de Bellman\n",
    "    for (i_z, z) in enumerate(z_vals)\n",
    "        for (i_a, a) in enumerate(asset_grid)\n",
    "\n",
    "            function obj(c)\n",
    "                EV = dot(vf.(R * a + z - c, z_idx), Π[i_z, :]) # computa a expectativa\n",
    "                return u(c) +  β * EV\n",
    "            end\n",
    "            res = maximize(obj, opt_lb, R .* a .+ z .+ b)\n",
    "            converged(res) || error(\"Didn't converge\") # importante para verificar\n",
    "\n",
    "            if ret_policy\n",
    "                out[i_a, i_z] = maximizer(res)\n",
    "            else\n",
    "                out[i_a, i_z] = maximum(res)\n",
    "            end\n",
    "\n",
    "        end\n",
    "    end\n",
    "    out\n",
    "end\n",
    "\n",
    "T(cp, V; ret_policy = false) =\n",
    "    T!(cp, V, similar(V); ret_policy = ret_policy)\n",
    "\n",
    "get_greedy!(cp, V, out) =\n",
    "    update_bellman!(cp, V, out, ret_policy = true)\n",
    "\n",
    "get_greedy(cp, V) =\n",
    "    update_bellman(cp, V, ret_policy = true)\n",
    "\n",
    "function K!(cp, c, out)\n",
    "    # simplifique nomes, configure matrizes\n",
    "    @unpack R, Π, β, b, asset_grid, z_vals = cp\n",
    "    z_idx = 1:length(z_vals)\n",
    "    gam = R * β\n",
    "\n",
    "    # função de política quando o índice de choque é z_i\n",
    "    cf = interp(asset_grid, c)\n",
    "\n",
    "    # computa lower_bound para a otimização\n",
    "    opt_lb = 1e-8\n",
    "\n",
    "    for (i_z, z) in enumerate(z_vals)\n",
    "        for (i_a, a) in enumerate(asset_grid)\n",
    "            function h(t)\n",
    "                cps = cf.(R * a + z - t, z_idx) # c' para cada z'\n",
    "                expectation = dot(du.(cps), Π[i_z, :])\n",
    "                return abs(du(t) - max(gam * expectation, du(R * a + z + b)))\n",
    "            end\n",
    "            opt_ub = R*a + z + b  # aborda a questão #8 no github\n",
    "            res = optimize(h, min(opt_lb, opt_ub - 1e-2), opt_ub,\n",
    "                           method = Optim.Brent())\n",
    "            out[i_a, i_z] = minimizer(res)\n",
    "        end\n",
    "    end\n",
    "    return out\n",
    "end\n",
    "\n",
    "K(cp, c) = K!(cp, c, similar(c))\n",
    "\n",
    "function initialize(cp)\n",
    "    # simplifique os nomes, configure matrizes\n",
    "    @unpack R, β, b, asset_grid, z_vals = cp\n",
    "    shape = length(asset_grid), length(z_vals)\n",
    "    V, c = zeros(shape...), zeros(shape...)\n",
    "\n",
    "    # preenche V e c\n",
    "    for (i_z, z) in enumerate(z_vals)\n",
    "        for (i_a, a) in enumerate(asset_grid)\n",
    "            c_max = R * a + z + b\n",
    "            c[i_a, i_z] = c_max\n",
    "            V[i_a, i_z] = u(c_max) / (1 - β)\n",
    "        end\n",
    "    end\n",
    "\n",
    "    return V, c\n",
    "end"
   ]
  },
  {
   "cell_type": "markdown",
   "metadata": {},
   "source": [
    "Ambos `T` e `K` usam interpolação linear ao longo do *grid* ativo que harmoniza as funções de valor e de consumo.\n",
    "\n",
    "Os exercícios a seguir orientam você em várias aplicações em que as funções de política são computadas.\n",
    "\n",
    "No exercício 1, você verá que, embora VFI e TI produzam resultados semelhantes, o último é muito mais rápido.\n",
    "\n",
    "A intuição por trás desse fato foi fornecida em [uma aula anterior sobre iteração no tempo](https://julia.quantecon.org/coleman_policy_iter.html)."
   ]
  },
  {
   "cell_type": "markdown",
   "metadata": {},
   "source": [
    "## Exercícios\n",
    "\n",
    "\n",
    "<a id='ifp-ex1'></a>"
   ]
  },
  {
   "attachments": {},
   "cell_type": "markdown",
   "metadata": {},
   "source": [
    "### Exercício 1\n",
    "\n",
    "O primeiro exercício é replicar a figura a seguir, que compara TI e VFI como métodos de solução.\n",
    "\n",
    "![1](https://github.com/pluiz30/Julia-Hub/assets/60633407/caf89a38-5b0c-4856-8831-fb8d02e49aee)",
    "\n",
    "  \n",
    "A figura mostra políticas de consumo calculadas pela iteração de $ K $ e $ T $ respectivamente.\n",
    "\n",
    "- No caso da iteração com $ T $, a função de valor final é usada para calcular a política observada.\n",
    "\n",
    "\n",
    "O consumo é mostrado em função dos ativos com receita $ z $ mantido fixo em seu menor valor.\n",
    "\n",
    "Os seguintes detalhes são necessários para replicar a figura:\n",
    "\n",
    "- Os parâmetros são os parâmetros padrão na definição de `consumerProblem`.  \n",
    "- As condições iniciais são as padrão de `initialize(cp)`.  \n",
    "- Ambos os operadores são iterados 80 vezes.\n",
    "\n",
    "\n",
    "Ao executar seu código, você observará essa iteração com  $ K $ é mais rápida do que a iteração com $ T $.\n",
    "\n",
    "No console Julia, uma comparação dos operadores pode ser feita da seguinte maneira:"
   ]
  },
  {
   "cell_type": "code",
   "execution_count": 4,
   "metadata": {
    "hide-output": false
   },
   "outputs": [
    {
     "data": {
      "text/plain": [
       "([-17.328679513998615 0.0; -4.664387247760648 7.125637140580436; … ; 69.82541010621486 70.57937835479346; 70.32526591846735 71.06452735149534], [0.5 1.0; 0.8297959183673469 1.329795918367347; … ; 16.33020408163265 16.83020408163265; 16.66 17.16])"
      ]
     },
     "execution_count": 4,
     "metadata": {},
     "output_type": "execute_result"
    }
   ],
   "source": [
    "cp = ConsumerProblem()\n",
    "v, c, = initialize(cp)"
   ]
  },
  {
   "cell_type": "code",
   "execution_count": 5,
   "metadata": {
    "hide-output": false
   },
   "outputs": [
    {
     "name": "stdout",
     "output_type": "stream",
     "text": [
      "  478.959 μs (4676 allocations: 428.20 KiB)\n"
     ]
    }
   ],
   "source": [
    "@btime T(cp, v);"
   ]
  },
  {
   "cell_type": "code",
   "execution_count": 6,
   "metadata": {
    "hide-output": false
   },
   "outputs": [
    {
     "name": "stdout",
     "output_type": "stream",
     "text": [
      "  666.756 μs (7925 allocations: 742.17 KiB)\n"
     ]
    }
   ],
   "source": [
    "@btime K(cp, c);"
   ]
  },
  {
   "cell_type": "markdown",
   "metadata": {},
   "source": [
    "\n",
    "<a id='ifp-ex2'></a>"
   ]
  },
  {
   "attachments": {},
   "cell_type": "markdown",
   "metadata": {},
   "source": [
    "### Exercício 2\n",
    "\n",
    "A seguir, vamos considerar como a taxa de juros afeta o consumo.\n",
    "\n",
    "Reproduza a figura a seguir, que mostra (aproximadamente) políticas ótimas de consumo para diferentes taxas de juros.\n",
    "\n",
    "![2](https://github.com/pluiz30/Julia-Hub/assets/60633407/fb85252a-29e3-44cf-a1bd-5fd1383b4e85)",
    "\n",
    "  \n",
    "- Além de r, todos os parâmetros estão com seus valores padrão.\n",
    "- r passa pelo intervalo (0; 0,04; comprimento = 4).\n",
    "- O consumo é plotado contra ativos para choque de renda fixado no menor valor.\n",
    "\n",
    "A figura mostra que taxas de juros mais altas aumentam a poupança e, portanto, suprimem o consumo.\n",
    "\n",
    "<a id='ifp-ex3'></a>"
   ]
  },
  {
   "cell_type": "markdown",
   "metadata": {},
   "source": [
    "### Exercício 3\n",
    "\n",
    "Agora, vamos considerar os níveis de ativos de longo prazo mantidos pelas famílias.\n",
    "\n",
    "Tomaremos r = 0,03 e usaremos os parâmetros padrão.\n",
    "\n",
    "A figura a seguir é um diagrama de 45 graus que mostra a lei do movimento de ativos quando o consumo é ideal."
   ]
  },
  {
   "cell_type": "code",
   "execution_count": 7,
   "metadata": {
    "hide-output": false
   },
   "outputs": [
    {
     "data": {
      "image/png": "[encoded data removed]"
     },
     "execution_count": 7,
     "metadata": {},
     "output_type": "execute_result"
    }
   ],
   "source": [
    "# resolva para o consumo ótimo\n",
    "m = ConsumerProblem(r = 0.03, grid_max = 4)\n",
    "v_init, c_init = initialize(m)\n",
    "\n",
    "c = compute_fixed_point(c -> K(m, c),\n",
    "                        c_init,\n",
    "                        max_iter = 150,\n",
    "                        verbose = false)\n",
    "a = m.asset_grid\n",
    "R, z_vals = m.R, m.z_vals\n",
    "\n",
    "# gera o gráfico da poupança\n",
    "plot(a, R * a .+ z_vals[1] - c[:, 1], label = \"Low income\")\n",
    "plot!(xlabel = \"Current assets\", ylabel = \"Next period assets\")\n",
    "plot!(a, R * a .+ z_vals[2] - c[:, 2], label = \"High income\")\n",
    "plot!(xlabel = \"Current assets\", ylabel = \"Next period assets\")\n",
    "plot!(a, a, linestyle = :dash, color = \"black\", label = \"\")\n",
    "plot!(xlabel = \"Current assets\", ylabel = \"Next period assets\")\n",
    "plot!(legend = :topleft)"
   ]
  },
  {
   "attachments": {},
   "cell_type": "markdown",
   "metadata": {},
   "source": [
    "A linha azul e a laranja representam a função:\n",
    "\n",
    "$$\n",
    "a' = h(a, z) := R a + z - c^*(a, z)\n",
    "$$\n",
    "\n",
    "quando a renda $ z $ assume valores alto e baixo, respectivamente.\n",
    "\n",
    "A linha tracejada é a linha de 45 graus.\n",
    "\n",
    "Podemos ver pela figura que a dinâmica será estável - os ativos não divergem.\n",
    "\n",
    "De fato, existe uma distribuição estacionária única de ativos que podemos calcular por simulação.\n",
    "\n",
    "- Pode ser comprovado através do teorema 2 de [[HP92]](https://julia.quantecon.org/../zreferences.html#hopenhaynprescott1992).  \n",
    "- Representa a dispersão de ativos a longo prazo entre as famílias, quando elas sofrem choques idiossincráticos.\n",
    "\n",
    "\n",
    "A ergodicidade é válida aqui, portanto, as probabilidades estacionárias podem ser calculadas calculando a média de uma única série longa.\n",
    "\n",
    "- Portanto, para aproximar a distribuição estacionária, podemos simular uma longa série temporal para ativos e histograma, como na figura a seguir\n",
    "\n",
    "\n",
    "![3](https://github.com/pluiz30/Julia-Hub/assets/60633407/b1c38572-b625-41e4-a207-fa5d65c75f65)",
    "\n",
    "Sua tarefa é replicar a figura.\n",
    "\n",
    "- Os parâmetros são como discutidos acima.\n",
    "- O histograma na figura usou uma única série temporal $ \\{a_t\\} $ de comprimento 500,000. \n",
    "- Dada o comprimento dessa série temporal, a condição inicial  $ (a_0, z_0) $ não importa.\n",
    "- Você pode achar útil usar o tipo `MarkovChain` desenvolvido por `quantecon`.  \n",
    "\n",
    "\n",
    "\n",
    "<a id='ifp-ex4'></a>"
   ]
  },
  {
   "attachments": {},
   "cell_type": "markdown",
   "metadata": {},
   "source": [
    "### Exercise 4\n",
    "\n",
    "Seguindo os exercícios 2 e 3, vamos ver como as poupanças e os ativos agregados variam com a taxa de juros.\n",
    "\n",
    "- Nota: [[LS18]](https://julia.quantecon.org/../zreferences.html#ljungqvist2012) seção 18.6 pode ser consultada para obter mais informações sobre o tópico tratado neste exercício.\n",
    "\n",
    "Para uma dada parametrização do modelo, a média da distribuição estacionária pode ser interpretada como o capital agregado em uma economia com uma massa unitária de famílias idênticas *ex-ante* choques idiossincráticos.\n",
    "\n",
    "Vejamos como essa medida de capital agregado varia com a taxa de juros e a restrição de empréstimos.\n",
    "\n",
    "A figura a seguir plota o capital agregado com a taxa de juros de b em (1, 3).\n",
    "\n",
    "![4](https://github.com/pluiz30/Julia-Hub/assets/60633407/5bd55e18-8f19-481d-83cc-7835bd08a02c)",
    "  \n",
    "Como é tradicional, o preço (taxa de juros) está no eixo vertical.\n",
    "\n",
    "O eixo horizontal é o capital agregado calculado como a média da distribuição estacionária.\n",
    "\n",
    "O Exercício 4 é replicar a figura, usando o código dos exercícios anteriores.\n",
    "\n",
    "Tente explicar por que a medida do capital agregado é igual a $ -b $\n",
    "quando $ r=0 $ para ambos os casos mostrados aqui."
   ]
  },
  {
   "cell_type": "markdown",
   "metadata": {},
   "source": [
    "## Soluções"
   ]
  },
  {
   "cell_type": "markdown",
   "metadata": {},
   "source": [
    "### Exercício 1"
   ]
  },
  {
   "cell_type": "code",
   "execution_count": 8,
   "metadata": {
    "hide-output": false
   },
   "outputs": [
    {
     "name": "stdout",
     "output_type": "stream",
     "text": [
      "Starting value function iteration\n",
      "Starting policy function iteration\n"
     ]
    },
    {
     "data": {
      "image/png": "[encoded data removed]"
     },
     "execution_count": 8,
     "metadata": {},
     "output_type": "execute_result"
    }
   ],
   "source": [
    "cp = ConsumerProblem()\n",
    "N = 80\n",
    "\n",
    "V, c = initialize(cp)\n",
    "println(\"Starting value function iteration\")\n",
    "for i in 1:N\n",
    "    V = T(cp, V)\n",
    "end\n",
    "c1 = T(cp, V, ret_policy=true)\n",
    "\n",
    "V2, c2 = initialize(cp)\n",
    "println(\"Starting policy function iteration\")\n",
    "for i in 1:N\n",
    "    c2 = K(cp, c2)\n",
    "end\n",
    "\n",
    "plot(cp.asset_grid, c1[:, 1], label = \"value function iteration\")\n",
    "plot!(cp.asset_grid, c2[:, 1], label = \"policy function iteration\")\n",
    "plot!(xlabel = \"asset level\", ylabel = \"Consumption (low income)\")\n",
    "plot!(legend = :topleft)"
   ]
  },
  {
   "cell_type": "markdown",
   "metadata": {},
   "source": [
    "### Exercício 2"
   ]
  },
  {
   "cell_type": "code",
   "execution_count": 9,
   "metadata": {
    "hide-output": false
   },
   "outputs": [
    {
     "data": {
      "image/png": "[encoded data removed]"
     },
     "execution_count": 9,
     "metadata": {},
     "output_type": "execute_result"
    }
   ],
   "source": [
    "r_vals = range(0, 0.04, length = 4)\n",
    "traces = []\n",
    "legends = []\n",
    "\n",
    "for r_val in r_vals\n",
    "    cp = ConsumerProblem(r = r_val)\n",
    "    v_init, c_init = initialize(cp)\n",
    "    c = compute_fixed_point(x -> K(cp, x),\n",
    "                            c_init,\n",
    "                            max_iter = 150,\n",
    "                            verbose = false)\n",
    "    traces = push!(traces, c[:, 1])\n",
    "    legends = push!(legends, \"r = $(round(r_val, digits = 3))\")\n",
    "end\n",
    "\n",
    "plot(traces, label = reshape(legends, 1, length(legends)))\n",
    "plot!(xlabel = \"asset level\", ylabel = \"Consumption (low income)\")\n",
    "plot!(legend = :topleft)"
   ]
  },
  {
   "cell_type": "markdown",
   "metadata": {},
   "source": [
    "### Exercício 3"
   ]
  },
  {
   "cell_type": "code",
   "execution_count": 10,
   "metadata": {
    "hide-output": false
   },
   "outputs": [
    {
     "data": {
      "image/png": "[encoded data removed]"
     },
     "execution_count": 10,
     "metadata": {},
     "output_type": "execute_result"
    }
   ],
   "source": [
    "function compute_asset_series(cp, T = 500_000; verbose = false)\n",
    "    @unpack Π, z_vals, R = cp  # simplify names\n",
    "    z_idx = 1:length(z_vals)\n",
    "    v_init, c_init = initialize(cp)\n",
    "    c = compute_fixed_point(x -> K(cp, x), c_init,\n",
    "                            max_iter = 150, verbose = false)\n",
    "\n",
    "    cf = interp(cp.asset_grid, c)\n",
    "\n",
    "    a = zeros(T + 1)\n",
    "    z_seq = simulate(MarkovChain(Π), T)\n",
    "    for t in 1:T\n",
    "        i_z = z_seq[t]\n",
    "        a[t+1] = R * a[t] + z_vals[i_z] - cf(a[t], i_z)\n",
    "    end\n",
    "    return a\n",
    "end\n",
    "\n",
    "cp = ConsumerProblem(r = 0.03, grid_max = 4)\n",
    "Random.seed!(42) # for reproducibility\n",
    "a = compute_asset_series(cp)\n",
    "histogram(a, nbins = 20, leg = false, normed = true, xlabel = \"assets\")"
   ]
  },
  {
   "cell_type": "markdown",
   "metadata": {},
   "source": [
    "### Exercício  4"
   ]
  },
  {
   "cell_type": "code",
   "execution_count": 11,
   "metadata": {
    "hide-output": false
   },
   "outputs": [
    {
     "name": "stdout",
     "output_type": "stream",
     "text": [
      "Finished iteration b = 1.0\n",
      "Finished iteration b = 3.0\n"
     ]
    },
    {
     "data": {
      "image/png": "[encoded data removed]"
     },
     "execution_count": 11,
     "metadata": {},
     "output_type": "execute_result"
    }
   ],
   "source": [
    "M = 25\n",
    "r_vals = range(0, 0.04, length = M)\n",
    "\n",
    "xs = []\n",
    "ys = []\n",
    "legends = []\n",
    "for b in [1.0, 3.0]\n",
    "    asset_mean = zeros(M)\n",
    "    for (i, r_val) in enumerate(r_vals)\n",
    "        cp = ConsumerProblem(r = r_val, b = b)\n",
    "        the_mean = mean(compute_asset_series(cp, 250_000))\n",
    "        asset_mean[i] = the_mean\n",
    "    end\n",
    "    xs = push!(xs, asset_mean)\n",
    "    ys = push!(ys, r_vals)\n",
    "    legends = push!(legends, \"b = $b\")\n",
    "    println(\"Finished iteration b = $b\")\n",
    "end\n",
    "plot(xs, ys, label = reshape(legends, 1, length(legends)))\n",
    "plot!(xlabel = \"capital\", ylabel = \"interest rate\", yticks = ([0, 0.045]))\n",
    "plot!(legend = :bottomright)"
   ]
  }
 ],
 "metadata": {
  "date": 1572312775.6706715,
  "download_nb": 1,
  "download_nb_path": "https://julia.quantecon.org/",
  "filename": "ifp.rst",
  "filename_with_path": "dynamic_programming/ifp",
  "kernelspec": {
   "display_name": "Julia 1.3.1",
   "language": "julia",
   "name": "julia-1.3"
  },
  "language_info": {
   "file_extension": ".jl",
   "mimetype": "application/julia",
   "name": "julia",
   "version": "1.3.1"
  },
  "title": "Optimal Savings III: Occasionally Binding Constraints"
 },
 "nbformat": 4,
 "nbformat_minor": 4
}
