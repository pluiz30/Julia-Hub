{
 "cells": [
  {
   "cell_type": "markdown",
   "metadata": {},
   "source": [
    "\n",
    "<a id='egm-policy-iter'></a>\n",
    "<div id=\"qe-notebook-header\" style=\"text-align:right;\">\n",
    "        <a href=\"https://quantecon.org/\" title=\"quantecon.org\">\n",
    "                <img style=\"width:250px;display:inline;\" src=\"https://assets.quantecon.org/img/qe-menubar-logo.svg\" alt=\"QuantEcon\">\n",
    "        </a>\n",
    "</div>"
   ]
  },
  {
   "cell_type": "markdown",
   "metadata": {},
   "source": [
    "# Crescimento Ótimo III: O Método do *Grid* Endógeno"
   ]
  },
  {
   "cell_type": "markdown",
   "metadata": {},
   "source": [
    "## Conteúdo\n",
    "\n",
    "- [Crescimento Ótimo III: O Método do Grid Endógeno](#Crescimento-Ótimo-III:-O-Método-do-Grid-Endógeno)  \n",
    "  - [Resumo](#Resumo)  \n",
    "  - [A Idéia Chave](#A-Idéia-Chave)  \n",
    "  - [Implementação](#Implementação)  \n",
    "  - [Velocidade](#Velocidade)  "
   ]
  },
  {
   "cell_type": "markdown",
   "metadata": {},
   "source": [
    "> *Devidamente traduzido, revisado e adaptado do [QuantEcon](https://quantecon.org/) pelos bolsistas CNPq, Pedro Luiz H. Furtado e Jonas Aragão M. Corpes, sob supervisão do Prof. Christiano Penna, do CAEN/UFC.*"
   ]
  },
  {
   "cell_type": "markdown",
   "metadata": {},
   "source": [
    "## Resumo\n",
    "\n",
    "Resolvemos o modelo estocástico de crescimento ótimo usando:\n",
    "\n",
    "1. [A função de valor iteração](https://julia.quantecon.org/optgrowth.html).  \n",
    "1. [A equação de Euler baseada nas iterações de tempo](https://julia.quantecon.org/coleman_policy_iter.html).  \n",
    "\n",
    "\n",
    "Descobrimos que a iteração de tempo é significativamente mais precisa a cada etapa.\n",
    "\n",
    "Nesta aula, veremos uma reviravolta engenhosa na técnica de iteração no tempo chamada **método do *grid* endógeno** (EGM).\n",
    "\n",
    "EGM é um método numérico para implementar a iteração de políticas, inventada por [Chris Carroll](http://www.econ2.jhu.edu/people/ccarroll/).\n",
    "\n",
    "É um bom exemplo de como um algoritmo inteligente pode economizar uma quantidade enorme de tempo no computador.\n",
    "\n",
    "(Massivo quando multiplicamos os ciclos de CPU salvos em cada implementação vezes o número de implementações em todo o mundo)\n",
    "\n",
    "A referência original é [[Car06]](https://julia.quantecon.org/../zreferences.html#carroll2006)."
   ]
  },
  {
   "cell_type": "markdown",
   "metadata": {},
   "source": [
    "## A Idéia Chave\n",
    "\n",
    "Vamos começar lembrando a teoria e depois ver como os números se encaixam."
   ]
  },
  {
   "cell_type": "markdown",
   "metadata": {},
   "source": [
    "### Teoria\n",
    "\n",
    "Pegue o modelo estabelecido na [aula de iteração de tempo](https://julia.quantecon.org/coleman_policy_iter.html), seguindo a mesma terminologia e notação.\n",
    "\n",
    "A equação de Euler é:\n",
    "\n",
    "\n",
    "<a id='equation-egm-euler'></a>\n",
    "$$\n",
    "(u'\\circ c^*)(y)\n",
    "= \\beta \\int (u'\\circ c^*)(f(y - c^*(y)) z) f'(y - c^*(y)) z \\phi(dz) \\tag{1}\n",
    "$$\n",
    "\n",
    "Como vimos, o operador Coleman é um operador não linear $ K $ projetado para que $ c^* $ seja um ponto fixo de $ K $.\n",
    "\n",
    "Tomando como seu argumento uma política de consumo estritamente crescente e contínua $ g \\in \\Sigma $.\n",
    "\n",
    "Isso retorna uma nova função $ Kg $, onde $ (Kg)(y) $ é o $ c \\in (0, \\infty) $ que resolve:\n",
    "\n",
    "\n",
    "<a id='equation-egm-coledef'></a>\n",
    "$$\n",
    "u'(c)\n",
    "= \\beta \\int (u' \\circ g) (f(y - c) z ) f'(y - c) z \\phi(dz) \\tag{2}\n",
    "$$"
   ]
  },
  {
   "cell_type": "markdown",
   "metadata": {},
   "source": [
    "### *Grid* Exógeno\n",
    "\n",
    "Conforme discutido na [aula de iteração de tempo](https://julia.quantecon.org/coleman_policy_iter.html), para implementar o método em um computador, precisamos da aproximação numérica.\n",
    "\n",
    "Em particular, representamos uma função de política por um conjunto de valores em um *grid* finito.\n",
    "\n",
    "A função em si é reconstruída a partir dessa representação quando necessário, usando interpolação ou algum outro método.\n",
    "\n",
    "[Anteriormente](https://julia.quantecon.org/coleman_policy_iter.html), para obtermos uma representação finita de uma política de consumo atualizada faziamos,\n",
    "\n",
    "- fixavamos um *grid* de pontos de renda $ \\{y_i\\} $  \n",
    "- calculavamos o valor do consumo $ c_i $ correspondente para cada\n",
    "  $ y_i $ usando [(2)](#equation-egm-coledef) e uma rotina de localização de raiz.\n",
    "\n",
    "\n",
    "Cada $ c_i $ é então interpretada como o valor da função $ K g $ em $ y_i $.\n",
    "\n",
    "Então, com os pontos $ \\{y_i, c_i\\} $ em mãos, podemos reconstruir $ Kg $ via aproximação.\n",
    "\n",
    "A iteração então continua…"
   ]
  },
  {
   "cell_type": "markdown",
   "metadata": {},
   "source": [
    "### *Grid* Endógeno\n",
    "\n",
    "O método discutido acima requer uma rotina de localização de raiz para encontrar o\n",
    "$ c_i $ correspondente a um dado valor de renda $ y_i $.\n",
    "\n",
    "A localização da raiz é custosa, pois geralmente envolve um número significativo de avaliações de funções.\n",
    "\n",
    "Conforme apontado por [[Car06]](https://julia.quantecon.org/../zreferences.html#carroll2006), podemos evitar isso se \n",
    "$ y_i $ for escolhido endogenamente.\n",
    "\n",
    "A única suposição requerida é que $ u' $ é invertível em $ (0, \\infty) $.\n",
    "\n",
    "A idéia é essa:\n",
    "\n",
    "Primeiro fixamos um *grid* exógeno $ \\{k_i\\} $ para capital ($ k = y - c $).\n",
    "\n",
    "Então obtemos $ c_i $ via:\n",
    "\n",
    "\n",
    "<a id='equation-egm-getc'></a>\n",
    "$$\n",
    "c_i =\n",
    "(u')^{-1}\n",
    "\\left\\{\n",
    "    \\beta \\int (u' \\circ g) (f(k_i) z ) \\, f'(k_i) \\, z \\, \\phi(dz)\n",
    "\\right\\} \\tag{3}\n",
    "$$\n",
    "\n",
    "onde $ (u')^{-1} $ é a função inversa de $ u' $.\n",
    "\n",
    "Finalmente, para cada $ c_i $ definimos $ y_i = c_i + k_i $.\n",
    "\n",
    "É claro que cada par construído $ (y_i, c_i) $ dessa maneira satisfaz [(2)](#equation-egm-coledef).\n",
    "\n",
    "Com os pontos $ \\{y_i, c_i\\} $ em mãos, podemos reconstruir $ Kg $ por aproximação como antes.\n",
    "\n",
    "O nome EGM vem do fato de que o *grid* $ \\{y_i\\} $ é **endogenamente** determinado."
   ]
  },
  {
   "cell_type": "markdown",
   "metadata": {},
   "source": [
    "## Implementação\n",
    "\n",
    "Vamos implementar esta versão do operador Coleman e ver como ele funciona."
   ]
  },
  {
   "cell_type": "markdown",
   "metadata": {},
   "source": [
    "### O Operador\n",
    "\n",
    "Aqui está uma implementação de $ K $ usando EGM como descrito acima."
   ]
  },
  {
   "cell_type": "markdown",
   "metadata": {},
   "source": [
    "### Configuração"
   ]
  },
  {
   "cell_type": "code",
   "execution_count": 1,
   "metadata": {
    "hide-output": true
   },
   "outputs": [],
   "source": [
    "using InstantiateFromURL\n",
    "github_project(\"QuantEcon/quantecon-notebooks-julia\", version = \"0.5.0\")\n",
    "# github_project(\"QuantEcon/quantecon-notebooks-julia\", version = \"0.5.0\", instantiate = true) # uncomment to force package installation"
   ]
  },
  {
   "cell_type": "code",
   "execution_count": 2,
   "metadata": {
    "hide-output": false
   },
   "outputs": [],
   "source": [
    "using LinearAlgebra, Statistics\n",
    "using BenchmarkTools, Interpolations, Parameters, Plots, QuantEcon, Random, Roots\n",
    "gr(fmt = :png);"
   ]
  },
  {
   "cell_type": "code",
   "execution_count": 3,
   "metadata": {
    "hide-output": false
   },
   "outputs": [
    {
     "data": {
      "text/plain": [
       "coleman_egm (generic function with 1 method)"
      ]
     },
     "execution_count": 3,
     "metadata": {},
     "output_type": "execute_result"
    }
   ],
   "source": [
    "function coleman_egm(g, k_grid, β, u′, u′_inv, f, f′, shocks)\n",
    "\n",
    "    # Aloca memória para o valor do consumo em pontos do grid endógenos \n",
    "    c = similar(k_grid)\n",
    "\n",
    "    # Resolve para o valor do consumo atualizado\n",
    "    for (i, k) in enumerate(k_grid)\n",
    "        vals = u′.(g.(f(k) * shocks)) .* f′(k) .* shocks\n",
    "        c[i] = u′_inv(β * mean(vals))\n",
    "    end\n",
    "\n",
    "    # Determina endogenamente o grid\n",
    "    y = k_grid + c  # y_i = k_i + c_i\n",
    "\n",
    "    # Atualiza a função de política e retorna\n",
    "    Kg = LinearInterpolation(y,c, extrapolation_bc=Line())\n",
    "    Kg_f(x) = Kg(x)\n",
    "    return Kg_f\n",
    "end"
   ]
  },
  {
   "cell_type": "markdown",
   "metadata": {},
   "source": [
    "Observe a falta de qualquer algoritmo de localização raiz.\n",
    "\n",
    "Também executaremos nossa implementação original, que usa um *grid* exógeno e requer descoberta de raiz, para que possamos realizar algumas comparações."
   ]
  },
  {
   "cell_type": "code",
   "execution_count": 4,
   "metadata": {
    "hide-output": false
   },
   "outputs": [
    {
     "data": {
      "text/plain": [
       "K (generic function with 1 method)"
      ]
     },
     "execution_count": 4,
     "metadata": {},
     "output_type": "execute_result"
    }
   ],
   "source": [
    "function K!(Kg, g, grid, β, u′, f, f′, shocks)\n",
    "\n",
    "    # Esta função requer o contêiner do valor do produto como argumento Kg\n",
    "\n",
    "    # Constroi um objeto de interpolação linear \n",
    "    g_func = LinearInterpolation(grid, g, extrapolation_bc = Line())\n",
    "\n",
    "    # Resolve para o valor de consumo atualizado #\n",
    "    for (i, y) in enumerate(grid)\n",
    "        function h(c)\n",
    "            vals = u′.(g_func.(f(y - c) * shocks)) .* f′(y - c) .* shocks\n",
    "            return u′(c) - β * mean(vals)\n",
    "        end\n",
    "        Kg[i] = find_zero(h, (1e-10, y - 1e-10))\n",
    "    end\n",
    "    return Kg\n",
    "end\n",
    "\n",
    "# A função a seguir NÃO requer o contêiner do valor do produto como argumento \n",
    "K(g, grid, β, u′, f, f′, shocks) =\n",
    "    K!(similar(g), g, grid, β, u′, f, f′, shocks)"
   ]
  },
  {
   "cell_type": "markdown",
   "metadata": {},
   "source": [
    "Vamos testar o código acima em alguns exemplos de parametrizações, após as seguintes importações."
   ]
  },
  {
   "cell_type": "markdown",
   "metadata": {},
   "source": [
    "### Testando no Caso Log / Cobb–Douglas\n",
    "\n",
    "Como fizemos [para a função de valor iteração](https://julia.quantecon.org/optgrowth.html) e [iteração no tempo](https://julia.quantecon.org/coleman_policy_iter.html), vamos começar testando nosso método com o benchmark log-linear .\n",
    "\n",
    "O primeiro passo é trazer o modelo que usamos na [iteração da função da política de Coleman](https://julia.quantecon.org/coleman_policy_iter.html)."
   ]
  },
  {
   "cell_type": "code",
   "execution_count": 5,
   "metadata": {
    "hide-output": false
   },
   "outputs": [
    {
     "data": {
      "text/plain": [
       "#5 (generic function with 2 methods)"
      ]
     },
     "execution_count": 5,
     "metadata": {},
     "output_type": "execute_result"
    }
   ],
   "source": [
    "# O modelo\n",
    "\n",
    "Model = @with_kw (α = 0.65, # parâmetro de produtividade\n",
    "                  β = 0.95, # fator de desconto\n",
    "                  γ = 1.0,  # aversão ao risco\n",
    "                  μ = 0.0,  # lognorm(μ, σ)\n",
    "                  s = 0.1,  # lognorm(μ, σ)\n",
    "                  grid_min = 1e-6, # menor ponto do grid\n",
    "                  grid_max = 4.0,  # maior ponto do grid\n",
    "                  grid_size = 200, # tamanho do grid\n",
    "                  u = γ == 1 ? log : c->(c^(1-γ)-1)/(1-γ), # função utilidade\n",
    "                  u′ = c-> c^(-γ), # u'\n",
    "                  f = k-> k^α, # função de produção\n",
    "                  f′ = k -> α*k^(α-1), # f'\n",
    "                  grid = range(grid_min, grid_max, length = grid_size)) # grid"
   ]
  },
  {
   "cell_type": "markdown",
   "metadata": {},
   "source": [
    "Em seguida, geramos uma instância."
   ]
  },
  {
   "cell_type": "code",
   "execution_count": 6,
   "metadata": {
    "hide-output": false
   },
   "outputs": [],
   "source": [
    "mlog = Model(); # modelo Log Linear "
   ]
  },
  {
   "cell_type": "markdown",
   "metadata": {},
   "source": [
    "Também precisamos de alguns choques para a integração de Monte Carlo."
   ]
  },
  {
   "cell_type": "code",
   "execution_count": 7,
   "metadata": {
    "hide-output": false
   },
   "outputs": [],
   "source": [
    "Random.seed!(42); # Para comportamento reproduzível.\n",
    "\n",
    "shock_size = 250     # Número de choques na integração de Monte Carlo\n",
    "shocks = exp.(mlog.μ .+ mlog.s * randn(shock_size));"
   ]
  },
  {
   "cell_type": "markdown",
   "metadata": {},
   "source": [
    "Como teste preliminar, vamos ver se $ K c^* = c^* $, como está implícito na teoria."
   ]
  },
  {
   "cell_type": "code",
   "execution_count": 8,
   "metadata": {
    "hide-output": false
   },
   "outputs": [
    {
     "data": {
      "text/plain": [
       "v_star (generic function with 1 method)"
      ]
     },
     "execution_count": 8,
     "metadata": {},
     "output_type": "execute_result"
    }
   ],
   "source": [
    "c_star(y) = (1 - mlog.α * mlog.β) * y\n",
    "\n",
    "# algumas constantes usuais\n",
    "ab = mlog.α * mlog.β\n",
    "c1 = log(1 - ab) / (1 - mlog.β)\n",
    "c2 = (mlog.μ + mlog.α * log(ab)) / (1 - mlog.α)\n",
    "c3 = 1 / (1 - mlog.β)\n",
    "c4 = 1 / (1 - ab)\n",
    "\n",
    "v_star(y) = c1 + c2 * (c3 - c4) + c4 * log(y)"
   ]
  },
  {
   "cell_type": "code",
   "execution_count": 9,
   "metadata": {
    "hide-output": false
   },
   "outputs": [
    {
     "data": {
      "text/plain": [
       "verify_true_policy (generic function with 1 method)"
      ]
     },
     "execution_count": 9,
     "metadata": {},
     "output_type": "execute_result"
    }
   ],
   "source": [
    "function verify_true_policy(m, shocks, c_star)\n",
    "    k_grid = m.grid\n",
    "    c_star_new = coleman_egm(c_star, k_grid, m.β, m.u′, m.u′, m.f, m.f′, shocks)\n",
    "\n",
    "    plt = plot()\n",
    "    plot!(plt, k_grid, c_star.(k_grid), lw = 2, label = \"optimal policy c*\")\n",
    "    plot!(plt, k_grid, c_star_new.(k_grid), lw = 2, label = \"Kc*\")\n",
    "    plot!(plt, legend = :topleft)\n",
    "end"
   ]
  },
  {
   "cell_type": "code",
   "execution_count": 10,
   "metadata": {
    "hide-output": false
   },
   "outputs": [
    {
     "data": {
      "image/png": "[encoded data removed]"
     },
     "execution_count": 10,
     "metadata": {},
     "output_type": "execute_result"
    }
   ],
   "source": [
    "verify_true_policy(mlog, shocks, c_star)"
   ]
  },
  {
   "cell_type": "markdown",
   "metadata": {},
   "source": [
    "Perceba que estamos passando u′ para coleman_egm duas vezes.\n",
    "\n",
    "A razão é que, no caso da utilidade log, $ u'(c) = (u')^{-1}(c) = 1/c $.\n",
    "\n",
    "Portanto u′ e u′_inv são os mesmos.\n",
    "\n",
    "Não podemos realmente distinguir as duas parcelas.\n",
    "\n",
    "De fato, é fácil ver que a diferença é essencialmente zero:"
   ]
  },
  {
   "cell_type": "code",
   "execution_count": 11,
   "metadata": {
    "hide-output": false
   },
   "outputs": [
    {
     "data": {
      "text/plain": [
       "1.3322676295501878e-15"
      ]
     },
     "execution_count": 11,
     "metadata": {},
     "output_type": "execute_result"
    }
   ],
   "source": [
    "c_star_new = coleman_egm(c_star, mlog.grid, mlog.β, mlog.u′,\n",
    "                         mlog.u′, mlog.f, mlog.f′, shocks)\n",
    "maximum(abs(c_star_new(g) - c_star(g)) for g in mlog.grid)"
   ]
  },
  {
   "cell_type": "markdown",
   "metadata": {},
   "source": [
    "Em seguida, vamos tentar iterar a partir de uma condição inicial arbitrária e ver se convergimos para $ c^* $.\n",
    "\n",
    "Vamos começar com a política de consumo que pega toda a parcela: $ c(y) = y $"
   ]
  },
  {
   "cell_type": "code",
   "execution_count": 12,
   "metadata": {
    "hide-output": false
   },
   "outputs": [
    {
     "data": {
      "text/plain": [
       "check_convergence (generic function with 1 method)"
      ]
     },
     "execution_count": 12,
     "metadata": {},
     "output_type": "execute_result"
    }
   ],
   "source": [
    "n = 15\n",
    "function check_convergence(m, shocks, c_star, g_init, n_iter)\n",
    "    k_grid = m.grid\n",
    "    g = g_init\n",
    "    plt = plot()\n",
    "    plot!(plt, m.grid, g.(m.grid),\n",
    "          color = RGBA(0,0,0,1), lw = 2, alpha = 0.6, label = \"initial condition c(y) = y\")\n",
    "    for i in 1:n_iter\n",
    "        new_g = coleman_egm(g, k_grid, m.β, m.u′, m.u′, m.f, m.f′, shocks)\n",
    "        g = new_g\n",
    "        plot!(plt, k_grid, new_g.(k_grid), alpha = 0.6, color = RGBA(0,0,(i / n_iter), 1),\n",
    "              lw = 2, label = \"\")\n",
    "    end\n",
    "\n",
    "    plot!(plt, k_grid, c_star.(k_grid),\n",
    "          color = :black, lw = 2, alpha = 0.8, label = \"true policy function c*\")\n",
    "    plot!(plt, legend = :topleft)\n",
    "end"
   ]
  },
  {
   "cell_type": "code",
   "execution_count": 13,
   "metadata": {
    "hide-output": false
   },
   "outputs": [
    {
     "data": {
      "image/png": "[encoded data removed]"
     },
     "execution_count": 13,
     "metadata": {},
     "output_type": "execute_result"
    }
   ],
   "source": [
    "check_convergence(mlog, shocks, c_star, identity, n)"
   ]
  },
  {
   "cell_type": "markdown",
   "metadata": {},
   "source": [
    "Vemos que a política convergiu muito bem, em apenas algumas etapas."
   ]
  },
  {
   "cell_type": "markdown",
   "metadata": {},
   "source": [
    "## Velocidade\n",
    "\n",
    "Agora vamos comparar o tempo do relógio por iteração para o operador Coleman padrão (com grid exógeno) e a versão EGM.\n",
    "\n",
    "Faremos isso usando o modelo CRRA adotado nos exercícios da [aula de iteração no tempo da equação de Euler](https://julia.quantecon.org/coleman_policy_iter.html).\n",
    "\n",
    "Aqui está o modelo e algumas funções convenientes."
   ]
  },
  {
   "cell_type": "code",
   "execution_count": 14,
   "metadata": {
    "hide-output": false
   },
   "outputs": [
    {
     "data": {
      "text/plain": [
       "u′_inv (generic function with 1 method)"
      ]
     },
     "execution_count": 14,
     "metadata": {},
     "output_type": "execute_result"
    }
   ],
   "source": [
    "mcrra = Model(α = 0.65, β = 0.95, γ = 1.5)\n",
    "u′_inv(c) = c^(-1 / mcrra.γ)"
   ]
  },
  {
   "cell_type": "markdown",
   "metadata": {},
   "source": [
    "Aqui está o resultado."
   ]
  },
  {
   "cell_type": "code",
   "execution_count": 15,
   "metadata": {
    "hide-output": false
   },
   "outputs": [
    {
     "data": {
      "text/plain": [
       "egm (generic function with 3 methods)"
      ]
     },
     "execution_count": 15,
     "metadata": {},
     "output_type": "execute_result"
    }
   ],
   "source": [
    "crra_coleman(g, m, shocks) = K(g, m.grid, m.β, m.u′, m.f, m.f′, shocks)\n",
    "crra_coleman_egm(g, m, shocks) = coleman_egm(g, m.grid, m.β, m.u′,\n",
    "                                             u′_inv, m.f, m.f′, shocks)\n",
    "function coleman(m = m, shocks = shocks; sim_length = 20)\n",
    "    g = m.grid\n",
    "    for i in 1:sim_length\n",
    "        g = crra_coleman(g, m, shocks)\n",
    "    end\n",
    "    return g\n",
    "end\n",
    "function egm(m, g = identity, shocks = shocks; sim_length = 20)\n",
    "    for i in 1:sim_length\n",
    "        g = crra_coleman_egm(g, m, shocks)\n",
    "    end\n",
    "    return g.(m.grid)\n",
    "end"
   ]
  },
  {
   "cell_type": "code",
   "execution_count": 16,
   "metadata": {
    "hide-output": false
   },
   "outputs": [
    {
     "data": {
      "text/plain": [
       "BenchmarkTools.Trial: \n",
       "  memory estimate:  1.03 GiB\n",
       "  allocs estimate:  615012\n",
       "  --------------\n",
       "  minimum time:     8.715 s (1.80% GC)\n",
       "  median time:      8.715 s (1.80% GC)\n",
       "  mean time:        8.715 s (1.80% GC)\n",
       "  maximum time:     8.715 s (1.80% GC)\n",
       "  --------------\n",
       "  samples:          1\n",
       "  evals/sample:     1"
      ]
     },
     "execution_count": 16,
     "metadata": {},
     "output_type": "execute_result"
    }
   ],
   "source": [
    "@benchmark coleman($mcrra)"
   ]
  },
  {
   "cell_type": "code",
   "execution_count": 17,
   "metadata": {
    "hide-output": false
   },
   "outputs": [
    {
     "data": {
      "text/plain": [
       "BenchmarkTools.Trial: \n",
       "  memory estimate:  17.90 MiB\n",
       "  allocs estimate:  72246\n",
       "  --------------\n",
       "  minimum time:     170.137 ms (0.00% GC)\n",
       "  median time:      177.031 ms (1.95% GC)\n",
       "  mean time:        176.988 ms (1.56% GC)\n",
       "  maximum time:     181.908 ms (1.98% GC)\n",
       "  --------------\n",
       "  samples:          29\n",
       "  evals/sample:     1"
      ]
     },
     "execution_count": 17,
     "metadata": {},
     "output_type": "execute_result"
    }
   ],
   "source": [
    "@benchmark egm($mcrra)"
   ]
  },
  {
   "cell_type": "markdown",
   "metadata": {},
   "source": [
    "Vemos que a versão EGM é cerca de 30 vezes mais rápida.\n",
    "\n",
    "Ao mesmo tempo, a ausência de localização da raiz numérica significa que ela também é tipicamente mais precisa em cada etapa."
   ]
  }
 ],
 "metadata": {
  "date": 1572312775.4779282,
  "download_nb": 1,
  "download_nb_path": "https://julia.quantecon.org/",
  "filename": "egm_policy_iter.rst",
  "filename_with_path": "dynamic_programming/egm_policy_iter",
  "kernelspec": {
   "display_name": "Julia 1.3.1",
   "language": "julia",
   "name": "julia-1.3"
  },
  "language_info": {
   "file_extension": ".jl",
   "mimetype": "application/julia",
   "name": "julia",
   "version": "1.3.1"
  },
  "title": "Optimal Growth III: The Endogenous Grid Method"
 },
 "nbformat": 4,
 "nbformat_minor": 4
}
