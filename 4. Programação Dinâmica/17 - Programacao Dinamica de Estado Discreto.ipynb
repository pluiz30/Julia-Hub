{
 "cells": [
  {
   "cell_type": "markdown",
   "metadata": {},
   "source": [
    "\n",
    "<a id='discrete-dp'></a>\n",
    "<div id=\"qe-notebook-header\" style=\"text-align:right;\">\n",
    "        <a href=\"https://quantecon.org/\" title=\"quantecon.org\">\n",
    "                <img style=\"width:250px;display:inline;\" src=\"https://assets.quantecon.org/img/qe-menubar-logo.svg\" alt=\"QuantEcon\">\n",
    "        </a>\n",
    "</div>"
   ]
  },
  {
   "cell_type": "markdown",
   "metadata": {},
   "source": [
    "# Programação Dinâmica de Estado Discreto"
   ]
  },
  {
   "cell_type": "markdown",
   "metadata": {},
   "source": [
    "## Conteúdo\n",
    "\n",
    "- [Programação Dinâmica de Estado Discreto](#Programação-Dinâmica-de-Estado-Discreto)  \n",
    "  - [Resumo](#Resumo)  \n",
    "  - [PDs Discreta](#PDs-Discreta)  \n",
    "  - [Resolvendo PDs Discreta](#Resolvendo-PDs-Discreta)  \n",
    "  - [Exemplo: Um Modelo de Crescimento](#Exemplo:-Um-Modelo-de-Crescimento)  \n",
    "  - [Exercícios](#Exercícios)  \n",
    "  - [Soluções](#Soluções)  \n",
    "  - [Apêndice: Algoritmos](#Apêndice:-Algoritmos)  "
   ]
  },
  {
   "cell_type": "markdown",
   "metadata": {},
   "source": [
    "> *Devidamente traduzido, revisado e adaptado do [QuantEcon](https://quantecon.org/) pelos bolsistas CNPq, Pedro Luiz H. Furtado e Jonas Aragão M. Corpes, sob supervisão do Prof. Christiano Penna, do CAEN/UFC.*"
   ]
  },
  {
   "cell_type": "markdown",
   "metadata": {},
   "source": [
    "## Resumo\n",
    "\n",
    "Nesta aula, discutiremos uma família de problemas de programação dinâmica com os seguintes recursos:\n",
    "\n",
    "1. um espaço de estado e escolhas discretas (ações).\n",
    "1. um horizonte infinito. \n",
    "1. recompensas com desconto.\n",
    "1. trasições do estado de Markov. \n",
    "\n",
    "\n",
    "Chamamos esses problemas de programas dinâmicos discretos ou PDs discretos.\n",
    "\n",
    "PDs discretos são os pilares da economia quantitativa moderna, incluindo:\n",
    "\n",
    "- economia monetária.  \n",
    "- pesquisa e economia do trabalho.\n",
    "- teoria das poupanças e consumo das famílias.\n",
    "- teoria do investimento.\n",
    "- precificação de ativos.\n",
    "- organização industrial, etc.\n",
    "\n",
    "\n",
    "Quando um determinado modelo não é inerentemente discreto, é comum substituí-lo por uma versão discreta para usar técnicas de PD discretas.\n",
    "\n",
    "Esta aula aborda:\n",
    "\n",
    "- a teoria da programação dinâmica em um ambiente discreto, além de exemplos e aplicações.\n",
    "\n",
    "- um poderoso conjunto de rotinas para resolver PDs discretos a partir da [biblioteca de códigos do QuantEcon](http://quantecon.org/quantecon-jl)  "
   ]
  },
  {
   "cell_type": "markdown",
   "metadata": {},
   "source": [
    "### Como ler esta aula?\n",
    "\n",
    "Utilizamos programação dinâmica em muitas aulas aplicadas, como:\n",
    "\n",
    "- A [aula do caminho mais curtos](https://julia.quantecon.org/short_path.html).  \n",
    "- A [aula do modelo de pesquisa de McCall](https://julia.quantecon.org/mccall_model.html).  \n",
    "- A [aula de crescimento ótimo](https://julia.quantecon.org/optgrowth.html).  \n",
    "\n",
    "O objetivo desta aula é fornecer um tratamento mais sistemático e teórico, incluindo algoritmos e implementação, enquanto se concentra no caso discreto."
   ]
  },
  {
   "cell_type": "markdown",
   "metadata": {},
   "source": [
    "### Referências\n",
    "\n",
    "Para leitura em segundo plano sobre programação dinâmica e aplicações adicionais, consulte, por exemplo,\n",
    "\n",
    "- [[LS18]](https://julia.quantecon.org/../zreferences.html#ljungqvist2012)  \n",
    "- [[HLL96]](https://julia.quantecon.org/../zreferences.html#hernandezlermalasserre1996), seção 3.5  \n",
    "- [[Put05]](https://julia.quantecon.org/../zreferences.html#puterman2005)  \n",
    "- [[SLP89]](https://julia.quantecon.org/../zreferences.html#stokeylucas1989)  \n",
    "- [[Rus96]](https://julia.quantecon.org/../zreferences.html#rust1996)  \n",
    "- [[MF02]](https://julia.quantecon.org/../zreferences.html#mirandafackler2002)  \n",
    "- [EDTC](http://johnstachurski.net/edtc.html), capítulo 5.  \n",
    "\n",
    "\n",
    "\n",
    "<a id='discrete-dps'></a>"
   ]
  },
  {
   "cell_type": "markdown",
   "metadata": {},
   "source": [
    "## PDs Discreta\n",
    "\n",
    "Em termos gerais, uma PD discreta é um problema de maximização com uma função objetiva da forma:\n",
    "\n",
    "\n",
    "<a id='equation-dp-objective'></a>\n",
    "$$\n",
    "\\mathbb{E}\n",
    "\\sum_{t = 0}^{\\infty} \\beta^t r(s_t, a_t) \\tag{1}\n",
    "$$\n",
    "\n",
    "onde\n",
    "\n",
    "- $ s_t $ é a variável de estado.  \n",
    "- $ a_t $ é a ação. \n",
    "- $ \\beta $ é um fator de desconto.  \n",
    "- $ r(s_t, a_t) $ é interpretado como uma recompensa atual quando o estado é $ s_t $ e a ação escolhida é $ a_t $.  \n",
    "\n",
    "\n",
    "Cada par $ (s_t, a_t) $ fixa as probabilidade de transição $ Q(s_t, a_t, s_{t+1}) $ para o período do próximo estado $ s_{t+1} $.\n",
    "\n",
    "Então, as ações influenciam não apenas as recompensas atuais, mas também a trajetória futura do estado.\n",
    "\n",
    "A essência dos problemas de programação dinâmica é negociar as recompensas atuais *versus* o posicionamento favorável do estado futuro (aleatoriedade do módulo).\n",
    "\n",
    "Exemplos:\n",
    "\n",
    "- consumir hoje vs. poupar e acumular ativos.\n",
    "- aceitar uma oferta de emprego hoje vs. procurar uma melhor no futuro.\n",
    "- exercitar uma opção agora vs. esperar.  "
   ]
  },
  {
   "cell_type": "markdown",
   "metadata": {},
   "source": [
    "### Políticas\n",
    "\n",
    "A maneira mais proveitosa de pensar em soluções para problemas discretos de PD's é comparar *políticas*.\n",
    "\n",
    "Em geral, uma política é um mapa aleatório de ações e estados passados para ação atual.\n",
    "\n",
    "No cenário formalizado abaixo, basta considerar as chamadas *políticas estacionárias de Markov*, que consideram apenas o estado atual.\n",
    "\n",
    "Em particular, uma política estacionária de Markov é uma mapa $ \\sigma $ de estados para ações.\n",
    "\n",
    "- $ a_t = \\sigma(s_t) $ indica que $ a_t $ é a ação a ser tomada no estado  $ s_t $  \n",
    "\n",
    "\n",
    "É conhecido que, para qualquer política arbitrária, existe uma política estacionária de Markov que a domina pelo menos fracamente.\n",
    "\n",
    "- Veja a seção 5.5 de [[Put05]](https://julia.quantecon.org/../zreferences.html#puterman2005) para uma discursão e provas.  \n",
    "\n",
    "\n",
    "No que segue, as políticas estacionárias de Markov são chamadas simplesmente de políticas.\n",
    "\n",
    "O objetivo é encontrar uma política ótima, no sentido de uma que maximize [(1)](#equation-dp-objective).\n",
    "\n",
    "Vamos agora percorrer essas idéias com mais cuidado."
   ]
  },
  {
   "cell_type": "markdown",
   "metadata": {},
   "source": [
    "### Definição formal\n",
    "\n",
    "Formalmente, uma programação dinâmica discreta consiste nos seguintes componentes:\n",
    "\n",
    "1. Um conjunto finito de *estados* $ S = \\{0, \\ldots, n-1\\} $.  \n",
    "1. Um conjunto finito de *ações factíveis* $ A(s) $ para cada estado $ s \\in S $, e um conjunto correspondente de *pares de ação e estado viáveis.*  \n",
    "  \n",
    "  $$\n",
    "  \\mathit{SA} := \\{(s, a) \\mid s \\in S, \\; a \\in A(s)\\}\n",
    "  $$\n",
    "  \n",
    "1. Uma *função recompensa* $ r\\colon \\mathit{SA} \\to \\mathbb{R} $.  \n",
    "1. Uma *função de probabilidade de transição* $ Q\\colon \\mathit{SA} \\to \\Delta(S) $, onde $ \\Delta(S) $ é o conjunto de distribuições de probabilidade sobre $ S $. \n",
    "1. Um *fator de desconto* $ \\beta \\in [0, 1) $.  \n",
    "\n",
    "\n",
    "Podemos também usar a notação $ A := \\bigcup_{s \\in S} A(s) = \\{0, \\ldots, m-1\\} $ e chamar esse conjunto de *espaço de ação*.\n",
    "\n",
    "Uma *política* é uma função $ \\sigma\\colon S \\to A $.\n",
    "\n",
    "Uma política é chamda de *factível* se satisfazer $ \\sigma(s) \\in A(s) $ para todo $ s \\in S $.\n",
    "\n",
    "Indica o conjunto de todas as políticas possíveis por $ \\Sigma $.\n",
    "\n",
    "Se um tomador de decisão usa uma política $ \\sigma \\in \\Sigma $, então:\n",
    "\n",
    "- a recompensa atual no período $ t $ é $ r(s_t, \\sigma(s_t)) $.  \n",
    "- a probabilidade de que $ s_{t+1} = s' $ é $ Q(s_t, \\sigma(s_t), s') $.  \n",
    "\n",
    "\n",
    "Para cada $ \\sigma \\in \\Sigma $, defina:\n",
    "\n",
    "- $ r_{\\sigma} $ por $ r_{\\sigma}(s) := r(s, \\sigma(s)) $)  \n",
    "- $ Q_{\\sigma} $ por $ Q_{\\sigma}(s, s') := Q(s, \\sigma(s), s') $  \n",
    "\n",
    "\n",
    "Observe que $ Q_\\sigma $ é uma [matriz estocástica](https://julia.quantecon.org/../tools_and_techniques/finite_markov.html#finite-dp-stoch-mat) em $ S $.\n",
    "\n",
    "Dando as probabilidades de transição da *cadeia controlada* quando seguimos a política $ \\sigma $.\n",
    "\n",
    "Se pensarmos em $ r_\\sigma $ como um vetor coluna, então $ Q_\\sigma^t r_\\sigma $, e o $ s $-ésimo linha deste último tem a interpretação:\n",
    "\n",
    "<a id='equation-ddp-expec'></a>\n",
    "$$\n",
    "(Q_\\sigma^t r_\\sigma)(s) = \\mathbb E [ r(s_t, \\sigma(s_t)) \\mid s_0 = s ]\n",
    "\\quad \\text{quando } \\{s_t\\} \\sim Q_\\sigma \\tag{2}\n",
    "$$\n",
    "\n",
    "Comentários:\n",
    "\n",
    "- $ \\{s_t\\} \\sim Q_\\sigma $ significa que o estado é gerado por uma matriz estocástica $ Q_\\sigma $.  \n",
    "- Veja [essa discursão](https://julia.quantecon.org/../tools_and_techniques/finite_markov.html#finite-mc-expec) sobre a computação de expectativas das cadeias de Markov para uma explicação da expressão em [(2)](#equation-ddp-expec). \n",
    "\n",
    "\n",
    "Observe que não estamos realmente distinguindo entre funções de $ S $ para $ \\mathbb R $ e vetores em $ \\mathbb R^n $.\n",
    "\n",
    "Isso é natural porque eles estão em uma correspondência individual."
   ]
  },
  {
   "cell_type": "markdown",
   "metadata": {},
   "source": [
    "### Valor e Otimização\n",
    "\n",
    "Se $ v_{\\sigma}(s) $ denota a soma descontada dos fluxos de recompensa esperados da política $ \\sigma $\n",
    "quando o estado inicial é $ s $.\n",
    "\n",
    "Para calcular essa quantidade, passamos a expectativa pela soma de\n",
    "[(1)](#equation-dp-objective) e usamos [(2)](#equation-ddp-expec) para obter:\n",
    "\n",
    "$$\n",
    "v_{\\sigma}(s) = \\sum_{t=0}^{\\infty} \\beta^t (Q_{\\sigma}^t r_{\\sigma})(s)\n",
    "\\qquad (s \\in S)\n",
    "$$\n",
    "\n",
    "Essa função é chamada de *função de valor de política* para a política $ \\sigma $.\n",
    "\n",
    "A *função de valor ótimo*, ou simplesmente a *função de valor*, é a função $ v^*\\colon S \\to \\mathbb{R} $ definida por:\n",
    "\n",
    "$$\n",
    "v^*(s) = \\max_{\\sigma \\in \\Sigma} v_{\\sigma}(s)\n",
    "\\qquad (s \\in S)\n",
    "$$\n",
    "\n",
    "(Podemos usar *max* em vez de *sup* aqui, porque o domínio é um conjunto finito)\n",
    "\n",
    "Uma política $ \\sigma \\in \\Sigma $ é chamada de *ótima* se $ v_{\\sigma}(s) = v^*(s) $ para todo $ s \\in S $.\n",
    "\n",
    "Dado qualquer $ w \\colon S \\to \\mathbb R $, uma política $ \\sigma \\in \\Sigma $ é chamada de $ w $-ganancioso se:\n",
    "\n",
    "$$\n",
    "\\sigma(s) \\in \\operatorname*{arg\\,max}_{a \\in A(s)}\n",
    "\\left\\{\n",
    "    r(s, a) +\n",
    "    \\beta \\sum_{s' \\in S} w(s') Q(s, a, s')\n",
    "\\right\\}\n",
    "\\qquad (s \\in S)\n",
    "$$\n",
    "\n",
    "Como discutido em detalhes abaixo, políticas ótimas são precisamente aquelas que são $ v^* $-gananciosas."
   ]
  },
  {
   "cell_type": "markdown",
   "metadata": {},
   "source": [
    "### Dois Operadores\n",
    "\n",
    "É usual definir os seguintes operadores:\n",
    "\n",
    "- O *operador de Bellman* $ T\\colon \\mathbb{R}^S \\to \\mathbb{R}^S $ é definido por:\n",
    "\n",
    "\n",
    "$$\n",
    "(T v)(s) = \\max_{a \\in A(s)}\n",
    "\\left\\{\n",
    "    r(s, a) + \\beta \\sum_{s' \\in S} v(s') Q(s, a, s')\n",
    "\\right\\}\n",
    "\\qquad (s \\in S)\n",
    "$$\n",
    "\n",
    "- Para qualquer função de política $ \\sigma \\in \\Sigma $, o operador $ T_{\\sigma}\\colon \\mathbb{R}^S \\to \\mathbb{R}^S $ é definido por:\n",
    "\n",
    "\n",
    "$$\n",
    "(T_{\\sigma} v)(s) = r(s, \\sigma(s)) +\n",
    "    \\beta \\sum_{s' \\in S} v(s') Q(s, \\sigma(s), s')\n",
    "\\qquad (s \\in S)\n",
    "$$\n",
    "\n",
    "Isso pode ser escrito de forma mais sucinta na notação do operador, como:\n",
    "\n",
    "$$\n",
    "T_{\\sigma} v = r_{\\sigma} + \\beta Q_{\\sigma} v\n",
    "$$\n",
    "\n",
    "Ambos os operadores são monotónos.\n",
    "\n",
    "- $ v \\leq w $  implica $ Tv \\leq Tw $ pontual em $ S $, e similarmente para $ T_\\sigma $.\n",
    "\n",
    "\n",
    "Eles também são contracção mapeamentos com módulos $ \\beta $.\n",
    "\n",
    "- $ \\lVert Tv - Tw \\rVert \\leq \\beta \\lVert v - w \\rVert $ e similarmente para $ T_\\sigma $, onde $ \\lVert \\cdot\\rVert $ é norma máxima.\n",
    "\n",
    "\n",
    "Para qualquer política $ \\sigma $, seu valor $ v_{\\sigma} $ é um único ponto fixo de $ T_{\\sigma} $.\n",
    "\n",
    "Para provas desses resultados e dos da próxima seção, consulte, por exemplo, [EDTC](http://johnstachurski.net/edtc.html), capítulo 10."
   ]
  },
  {
   "cell_type": "markdown",
   "metadata": {},
   "source": [
    "### A Equação de Bellman e o Princípio da Otimização\n",
    "\n",
    "O principal princípio da teoria da programação dinâmica é que:\n",
    "\n",
    "- a função de valor ideal  $ v^* $ é uma única solução para a *equação de Bellman*,  \n",
    "  \n",
    "  $$\n",
    "  v(s) = \\max_{a \\in A(s)} \\left\\{ r(s, a) + \\beta \\sum_{s' \\in S} v(s') Q(s, a, s') \\right\\} \\qquad (s \\in S),\n",
    "  $$\n",
    "  \n",
    "  ou em outras palavras, $ v^* $ é o único ponto fixo de $ T $, e  \n",
    "- $ \\sigma^* $ é uma função de política ideal se e somente se for $ v^* $-ganacioso. \n",
    "\n",
    "\n",
    "Pela definição de políticas gananciosas dadas acima, isso significa que:\n",
    "\n",
    "$$\n",
    "\\sigma^*(s) \\in \\operatorname*{arg\\,max}_{a \\in A(s)}\n",
    "    \\left\\{\n",
    "    r(s, a) + \\beta \\sum_{s' \\in S} v^*(s') Q(s, \\sigma(s), s')\n",
    "    \\right\\}\n",
    "\\qquad (s \\in S)\n",
    "$$"
   ]
  },
  {
   "cell_type": "markdown",
   "metadata": {},
   "source": [
    "## Resolvendo PDs Discreta\n",
    "\n",
    "Agora que a teoria foi apresentada, vamos aos métodos de solução.\n",
    "\n",
    "O código para resolver PDs discretas está disponível em [ddp.jl](https://github.com/QuantEcon/QuantEcon.jl/blob/master/src/markov/ddp.jl) a partir da biblioteca de código [QuantEcon.jl](http://quantecon.org/quantecon-jl).\n",
    "\n",
    "Implementando os três métodos de solução mais importantes para programas dinâmicos discretos, isso é:\n",
    "\n",
    "- função de valor iteração.\n",
    "- função de iteração de política.  \n",
    "- função de iteração de política modificada.\n",
    "\n",
    "\n",
    "Vamos revisar brevemente esses algoritmos e sua implementação."
   ]
  },
  {
   "cell_type": "markdown",
   "metadata": {},
   "source": [
    "### Função de Valor Iteração\n",
    "\n",
    "Talvez o método mais familiar para resolver todos os tipos de programas dinâmicos seja a iteração da função de valor.\n",
    "\n",
    "Esse algoritmo usa o fato de que o operador Bellman $ T $ é um mapeamento de contração com ponto fixo $ v^* $.\n",
    "\n",
    "Portanto, a aplicação iterativa de $ T $ para qualquer função inicial $ v^0 \\colon S \\to \\mathbb R $ converge para $ v^* $.\n",
    "\n",
    "Os detalhes do algoritmo podem ser encontrados no [apêndice](#ddp-algorithms)."
   ]
  },
  {
   "cell_type": "markdown",
   "metadata": {},
   "source": [
    "### Função de Iteração de Política\n",
    "\n",
    "Essa rotina, também é conhecida como algoritmo de aprimoramento de políticas de Howard, pois explora mais de perto a estrutura específica de um problema discreto de PD.\n",
    "\n",
    "Cada iteração consiste em:\n",
    "\n",
    "1. Uma etapa de avaliação de política que calcula o valor $ v_{\\sigma} $ de uma política $ \\sigma $ resolvendo a equação linear $ v = T_{\\sigma} v $.  \n",
    "1. Uma etapa de aprimoramento de política que calcula uma política $ v_{\\sigma} $-ganancioso.  \n",
    "\n",
    "\n",
    "Na configuração atual, a iteração de política calcula uma política ideal exata em muitas iterações.\n",
    "\n",
    "- Veja o teorema 10.2.6 de [EDTC](http://johnstachurski.net/edtc.html) para uma prova.\n",
    "\n",
    "Os detalhes do algoritmo podem ser encontrados no [apêndice](#ddp-algorithms)."
   ]
  },
  {
   "cell_type": "markdown",
   "metadata": {},
   "source": [
    "### Função de Iteração de Política Modificada\n",
    "\n",
    "A iteração de política modificada substitui a etapa de avaliação de política na iteração de política por \"avaliação parcial de política\".\n",
    "\n",
    "Este último calcula uma aproximação ao valor de uma política $ \\sigma $ iterando $ T_{\\sigma} $ para um número especificado de vezes.\n",
    "\n",
    "Essa abordagem pode ser útil quando o espaço de estados é muito grande e o sistema linear na etapa de avaliação de políticas da iteração de políticas é correspondentemente difícil de resolver.\n",
    "\n",
    "Os detalhes do algoritmo podem ser encontrados no [apêndice](#ddp-algorithms).\n",
    "\n",
    "\n",
    "<a id='ddp-eg-gm'></a>"
   ]
  },
  {
   "cell_type": "markdown",
   "metadata": {},
   "source": [
    "## Exemplo: Um Modelo de Crescimento\n",
    "\n",
    "Vamos considerar um simples modelo de consumo-poupança.\n",
    "\n",
    "Uma única família consome ou armazena sua própria produção de um único bem de consumo.\n",
    "\n",
    "A família começa cada período com o estoque atual $ s $.\n",
    "\n",
    "Em seguida, a família escolhe uma quantidade $ a $ para armazenar e consumir $ c = s - a $\n",
    "\n",
    "- O armazenamento é limitado por um limite superior global $ M $  \n",
    "- O fluxo de utilidade é $ u(c) = c^{\\alpha} $  \n",
    "\n",
    "\n",
    "O produto é obtido de uma distribuição uniforme discreta em $ \\{0, \\ldots, B\\} $.\n",
    "\n",
    "O estoque do próximo período é, portanto,\n",
    "\n",
    "$$\n",
    "s' = a + U\n",
    "\\quad \\text{onde} \\quad\n",
    "U \\sim U[0, \\ldots, B]\n",
    "$$\n",
    "\n",
    "O fator de desconto é $ \\beta \\in [0, 1) $."
   ]
  },
  {
   "cell_type": "markdown",
   "metadata": {},
   "source": [
    "### A Representação Discreta de PD\n",
    "\n",
    "Queremos representar esse modelo no formato de um programa dinâmico discreto.\n",
    "\n",
    "Para este fim, tomamos:\n",
    "\n",
    "- a variável de estado para ser o estoque $ s $  \n",
    "- o espaço de estado a ser $ S = \\{0, \\ldots, M + B\\} $  \n",
    "  \n",
    "  - portanto $ n = M + B + 1 $  \n",
    "  \n",
    "- a ação para ser a quantidade armazenada $ a $  \n",
    "- o conjunto de ações factíveis em $ s $ sendo $ A(s) = \\{0, \\ldots, \\min\\{s, M\\}\\} $  \n",
    "  \n",
    "  - portanto $ A = \\{0, \\ldots, M\\} $ e $ m = M + 1 $  \n",
    "  \n",
    "- a função de recompensa sendo $ r(s, a) = u(s - a) $  \n",
    "- as probabilidades de transições sendo:\n",
    "\n",
    "\n",
    "\n",
    "<a id='equation-ddp-def-ogq'></a>\n",
    "$$\n",
    "Q(s, a, s')\n",
    ":=\n",
    "\\begin{cases}\n",
    "    \\frac{1}{B + 1} & \\text{se } a \\leq s' \\leq a + B\n",
    "    \\\\\n",
    "     0 & \\text{ caso contrário}\n",
    "\\end{cases} \\tag{3}\n",
    "$$"
   ]
  },
  {
   "cell_type": "markdown",
   "metadata": {},
   "source": [
    "### Definindo uma Instância de PD Discreta\n",
    "\n",
    "Esta informação será usada para criar uma instância de PD Discreta passando as seguintes informações:\n",
    "\n",
    "1. Uma matriz de recompensa $ n \\times m $ - $ R $.  \n",
    "1. Uma matriz de probabilidade de transição $ n \\times m \\times n $ - $ Q $. \n",
    "1. Um fator de desconto $ \\beta $.  \n",
    "\n",
    "\n",
    "Para $ R $ definimos $ R[s, a] = u(s - a) $ se $ a \\leq s $ e $ -\\infty $ caso contrário.\n",
    "\n",
    "Para $ Q $ seguimos a regra em [(3)](#equation-ddp-def-ogq).\n",
    "\n",
    "Observe que:\n",
    "\n",
    "- A restrição de viabilidade está incorporada em $ R $ configurando $ R[s, a] = -\\infty $ para $ a \\notin A(s) $.  \n",
    "- As distribuições de probabilidades $ (s, a) $ com $ a \\notin A(s) $ podem ser arbitrárias.  \n",
    "\n",
    "\n",
    "O código a seguir configura esses objetos para nós."
   ]
  },
  {
   "cell_type": "markdown",
   "metadata": {},
   "source": [
    "### Configuração"
   ]
  },
  {
   "cell_type": "code",
   "execution_count": 1,
   "metadata": {
    "hide-output": true
   },
   "outputs": [],
   "source": [
    "using InstantiateFromURL\n",
    "github_project(\"QuantEcon/quantecon-notebooks-julia\", version = \"0.5.0\")\n",
    "# github_project(\"QuantEcon/quantecon-notebooks-julia\", version = \"0.5.0\", instantiate = true) # uncomment to force package installation"
   ]
  },
  {
   "cell_type": "code",
   "execution_count": 2,
   "metadata": {
    "hide-output": true
   },
   "outputs": [],
   "source": [
    "using LinearAlgebra, Statistics, BenchmarkTools, Plots, QuantEcon\n",
    "using SparseArrays"
   ]
  },
  {
   "cell_type": "code",
   "execution_count": 3,
   "metadata": {
    "hide-output": false
   },
   "outputs": [],
   "source": [
    "using BenchmarkTools, Plots, QuantEcon, Parameters\n",
    "gr(fmt = :png);"
   ]
  },
  {
   "cell_type": "code",
   "execution_count": 4,
   "metadata": {
    "hide-output": false
   },
   "outputs": [
    {
     "data": {
      "text/plain": [
       "transition_matrices (generic function with 1 method)"
      ]
     },
     "execution_count": 4,
     "metadata": {},
     "output_type": "execute_result"
    }
   ],
   "source": [
    "SimpleOG = @with_kw (B = 10, M = 5, α = 0.5, β = 0.9)\n",
    "\n",
    "function transition_matrices(g)\n",
    "    @unpack B, M, α, β = g\n",
    "    u(c) = c^α\n",
    "    n = B + M + 1\n",
    "    m = M + 1\n",
    "\n",
    "    R = zeros(n, m)\n",
    "    Q = zeros(n, m, n)\n",
    "\n",
    "    for a in 0:M\n",
    "        Q[:, a + 1, (a:(a + B)) .+ 1] .= 1 / (B + 1)\n",
    "        for s in 0:(B + M)\n",
    "            R[s + 1, a + 1] = (a≤s ? u(s - a) : -Inf)\n",
    "        end\n",
    "    end\n",
    "\n",
    "    return (Q = Q, R = R)\n",
    "end"
   ]
  },
  {
   "cell_type": "markdown",
   "metadata": {},
   "source": [
    "Vamos executar esse código e criar uma instância de `SimpleOG`"
   ]
  },
  {
   "cell_type": "code",
   "execution_count": 5,
   "metadata": {
    "hide-output": false
   },
   "outputs": [],
   "source": [
    "g = SimpleOG();\n",
    "Q, R = transition_matrices(g);"
   ]
  },
  {
   "cell_type": "markdown",
   "metadata": {},
   "source": [
    "Caso o código anterior seja muito conciso, podemos ver uma forma mais detalhada."
   ]
  },
  {
   "cell_type": "code",
   "execution_count": 6,
   "metadata": {
    "hide-output": false,
    "html-class": "collapse"
   },
   "outputs": [
    {
     "data": {
      "text/plain": [
       "verbose_matrices (generic function with 1 method)"
      ]
     },
     "execution_count": 6,
     "metadata": {},
     "output_type": "execute_result"
    }
   ],
   "source": [
    "function verbose_matrices(g)\n",
    "    @unpack B, M, α, β = g\n",
    "    u(c) = c^α\n",
    "\n",
    "    #Dimensões da Matriz. O +1 é devido ao estado 0.\n",
    "    n = B + M + 1\n",
    "    m = M + 1\n",
    "\n",
    "    R = fill(-Inf, n, m) #começe assumindo que nada é factível\n",
    "    Q = zeros(n,m,n) #Assuma 0 por padrão\n",
    "    \n",
    "    #Crie a Matriz R\n",
    "    #Nota: a indexação em uma matriz é complicada, pois o Julia inicia a indexação em 1 em vez de 0 \n",
    "    #mas o estado s e a escolha podem ser 0\n",
    "    for a in 0:M\n",
    "         for s in 0:(B + M)\n",
    "            if a <= s #se é viável\n",
    "                R[s + 1, a + 1] = u(s - a)\n",
    "            end\n",
    "        end\n",
    "    end\n",
    "\n",
    "    #Crie o multi-array Q \n",
    "    for s in 0:(B+M) #Para cada estado\n",
    "        for a in 0:M #Para cada ação\n",
    "            for sp in 0:(B+M) #Para cada estado no próximo período\n",
    "                if( sp >= a && sp <= a + B) # O suporte de todas as realizações \n",
    "                    Q[s + 1, a + 1, sp + 1] = 1 / (B + 1) # a mesma prob para todos\n",
    "                end\n",
    "            end\n",
    "            @assert sum(Q[s + 1, a + 1, :]) ≈ 1 #verificação opcional que a matriz é estocástica\n",
    "         end\n",
    "    end\n",
    "    return (Q = Q, R = R)\n",
    "end"
   ]
  },
  {
   "cell_type": "markdown",
   "metadata": {},
   "source": [
    "As instâncias `DiscreteDP` são criadas usando a assinatura `DiscreteDP(R, Q, β)`.\n",
    "\n",
    "Vamos criar uma instância usando os objetos armazenados em `g`"
   ]
  },
  {
   "cell_type": "code",
   "execution_count": 7,
   "metadata": {
    "hide-output": false
   },
   "outputs": [],
   "source": [
    "ddp = DiscreteDP(R, Q, g.β);"
   ]
  },
  {
   "cell_type": "markdown",
   "metadata": {},
   "source": [
    "Agora que temos uma instância `ddp` de `DiscreteDP` podemos resolver isso da seguinte maneira."
   ]
  },
  {
   "cell_type": "code",
   "execution_count": 8,
   "metadata": {
    "hide-output": false
   },
   "outputs": [
    {
     "data": {
      "text/plain": [
       "QuantEcon.DPSolveResult{PFI,Float64}([19.01740221695992, 20.017402216959916, 20.431615779333015, 20.749453024528794, 21.040780991093488, 21.30873018352461, 21.544798161024403, 21.76928181079986, 21.982703576083246, 22.1882432282385, 22.384504796519916, 22.578077363861723, 22.761091269771118, 22.943767083452716, 23.115339958706524, 23.277617618874903], [19.01740221695992, 20.01740221695992, 20.431615779333015, 20.749453024528798, 21.040780991093488, 21.30873018352461, 21.5447981610244, 21.769281810799864, 21.982703576083253, 22.1882432282385, 22.38450479651991, 22.578077363861723, 22.761091269771114, 22.943767083452716, 23.115339958706524, 23.277617618874903], 3, [1, 1, 1, 1, 2, 2, 2, 3, 3, 4, 4, 5, 6, 6, 6, 6], Discrete Markov Chain\n",
       "stochastic matrix of type Adjoint{Float64,Array{Float64,2}}:\n",
       "[0.09090909090909091 0.09090909090909091 … 0.0 0.0; 0.09090909090909091 0.09090909090909091 … 0.0 0.0; … ; 0.0 0.0 … 0.09090909090909091 0.09090909090909091; 0.0 0.0 … 0.09090909090909091 0.09090909090909091])"
      ]
     },
     "execution_count": 8,
     "metadata": {},
     "output_type": "execute_result"
    }
   ],
   "source": [
    "results = solve(ddp, PFI)"
   ]
  },
  {
   "cell_type": "markdown",
   "metadata": {},
   "source": [
    "Vamos ver o que temos aqui."
   ]
  },
  {
   "cell_type": "code",
   "execution_count": 9,
   "metadata": {
    "hide-output": false
   },
   "outputs": [
    {
     "data": {
      "text/plain": [
       "(:v, :Tv, :num_iter, :sigma, :mc)"
      ]
     },
     "execution_count": 9,
     "metadata": {},
     "output_type": "execute_result"
    }
   ],
   "source": [
    "fieldnames(typeof(results))"
   ]
  },
  {
   "cell_type": "markdown",
   "metadata": {},
   "source": [
    "Os atributos mais importantes são `v`, a função de valor, e `σ`, a política ótima."
   ]
  },
  {
   "cell_type": "code",
   "execution_count": 10,
   "metadata": {
    "hide-output": false
   },
   "outputs": [
    {
     "data": {
      "text/plain": [
       "16-element Array{Float64,1}:\n",
       " 19.01740221695992 \n",
       " 20.017402216959916\n",
       " 20.431615779333015\n",
       " 20.749453024528794\n",
       " 21.040780991093488\n",
       " 21.30873018352461 \n",
       " 21.544798161024403\n",
       " 21.76928181079986 \n",
       " 21.982703576083246\n",
       " 22.1882432282385  \n",
       " 22.384504796519916\n",
       " 22.578077363861723\n",
       " 22.761091269771118\n",
       " 22.943767083452716\n",
       " 23.115339958706524\n",
       " 23.277617618874903"
      ]
     },
     "execution_count": 10,
     "metadata": {},
     "output_type": "execute_result"
    }
   ],
   "source": [
    "results.v"
   ]
  },
  {
   "cell_type": "code",
   "execution_count": 11,
   "metadata": {
    "hide-output": false
   },
   "outputs": [
    {
     "data": {
      "text/plain": [
       "16-element Array{Int64,1}:\n",
       " 0\n",
       " 0\n",
       " 0\n",
       " 0\n",
       " 1\n",
       " 1\n",
       " 1\n",
       " 2\n",
       " 2\n",
       " 3\n",
       " 3\n",
       " 4\n",
       " 5\n",
       " 5\n",
       " 5\n",
       " 5"
      ]
     },
     "execution_count": 11,
     "metadata": {},
     "output_type": "execute_result"
    }
   ],
   "source": [
    "results.sigma .- 1"
   ]
  },
  {
   "cell_type": "markdown",
   "metadata": {},
   "source": [
    "Aqui 1 é subtraido de `results.sigma` porque adicionamos 1 a cada estado e ação para criar índices válidos.\n",
    "\n",
    "Como usamos a iteração de política, esses resultados serão exatos, a menos que atinjam o limite da iteração `max_iter`.\n",
    "\n",
    "Vamos garantir que isso não aconteceu."
   ]
  },
  {
   "cell_type": "code",
   "execution_count": 12,
   "metadata": {
    "hide-output": false
   },
   "outputs": [
    {
     "data": {
      "text/plain": [
       "3"
      ]
     },
     "execution_count": 12,
     "metadata": {},
     "output_type": "execute_result"
    }
   ],
   "source": [
    "results.num_iter"
   ]
  },
  {
   "cell_type": "markdown",
   "metadata": {},
   "source": [
    "Nesse caso, convergimos em apenas 3 iterações.\n",
    "\n",
    "Outro objeto interessante é `results.mc`, que é a cadeia controlada definida por $ Q_{\\sigma^*} $, onde $ \\sigma^* $ é a política ótima. \n",
    "\n",
    "Em outras palavras, é fornecido a dinâmica do estado quando o agente segue a política ótima.\n",
    "\n",
    "De modo que esse objeto é uma instância da Cadeia de Markov `MarkovChain` disponível em [QuantEcon.jl](http://quantecon.org/quantecon-jl) (veja [essa aula](https://julia.quantecon.org/../tools_and_techniques/finite_markov.html) para mais discursões), podemos fácilmente simular isso, calcular sua distribuição estacionária e assim por diante."
   ]
  },
  {
   "cell_type": "code",
   "execution_count": 13,
   "metadata": {
    "hide-output": false
   },
   "outputs": [
    {
     "data": {
      "text/plain": [
       "16-element Array{Float64,1}:\n",
       " 0.01732186732186732 \n",
       " 0.041210632119723034\n",
       " 0.05773955773955773 \n",
       " 0.07426848335939244 \n",
       " 0.08095823095823096 \n",
       " 0.09090909090909091 \n",
       " 0.0909090909090909  \n",
       " 0.0909090909090909  \n",
       " 0.09090909090909093 \n",
       " 0.09090909090909091 \n",
       " 0.09090909090909091 \n",
       " 0.0735872235872236  \n",
       " 0.049698458789367884\n",
       " 0.033169533169533166\n",
       " 0.016640607549698462\n",
       " 0.009950859950859951"
      ]
     },
     "execution_count": 13,
     "metadata": {},
     "output_type": "execute_result"
    }
   ],
   "source": [
    "stationary_distributions(results.mc)[1]"
   ]
  },
  {
   "cell_type": "markdown",
   "metadata": {},
   "source": [
    "Aqui estão as mesmas informações em um gráfico de barras:\n",
    "\n",
    "![1](https://github.com/pluiz30/Julia-Hub/assets/60633407/9b6f5413-feb3-4ea7-b40f-c4e8662d9440)",
    "  \n",
    "O que acontece se agente for mais paciente?"
   ]
  },
  {
   "cell_type": "code",
   "execution_count": 14,
   "metadata": {
    "hide-output": false
   },
   "outputs": [
    {
     "data": {
      "text/plain": [
       "16-element Array{Float64,1}:\n",
       " 0.005469129800680602\n",
       " 0.023213417598444343\n",
       " 0.03147788040836169 \n",
       " 0.04800680602819641 \n",
       " 0.056271268838113765\n",
       " 0.09090909090909091 \n",
       " 0.09090909090909093 \n",
       " 0.09090909090909093 \n",
       " 0.09090909090909094 \n",
       " 0.09090909090909093 \n",
       " 0.09090909090909094 \n",
       " 0.0854399611084103  \n",
       " 0.06769567331064659 \n",
       " 0.059431210500729234\n",
       " 0.042902284880894495\n",
       " 0.03463782207097716 "
      ]
     },
     "execution_count": 14,
     "metadata": {},
     "output_type": "execute_result"
    }
   ],
   "source": [
    "g_2 = SimpleOG(β=0.99);\n",
    "Q_2, R_2 = transition_matrices(g_2);\n",
    "\n",
    "ddp_2 = DiscreteDP(R_2, Q_2, g_2.β)\n",
    "\n",
    "results_2 = solve(ddp_2, PFI)\n",
    "\n",
    "std_2 = stationary_distributions(results_2.mc)[1]"
   ]
  },
  {
   "cell_type": "code",
   "execution_count": 15,
   "metadata": {
    "hide-output": false
   },
   "outputs": [
    {
     "data": {
      "image/png": "[encoded data removed]"
     },
     "execution_count": 15,
     "metadata": {},
     "output_type": "execute_result"
    }
   ],
   "source": [
    "bar(std_2, label = \"stationary dist\")"
   ]
  },
  {
   "cell_type": "markdown",
   "metadata": {},
   "source": [
    "Podemos ver a mudança para a direita na massa de probabilidade."
   ]
  },
  {
   "cell_type": "markdown",
   "metadata": {},
   "source": [
    "### Formulação do Par do Estado de Ação\n",
    "\n",
    "O tipo `DiscreteDP` de fato fornece uma segunda interface para configurar uma instância.\n",
    "\n",
    "Uma das vantagens dessa configuração alternativa é que ela permite o uso de uma matriz esparsa `Q`.\n",
    "\n",
    "(Um exemplo de uso de matrizes esparsas é dado nos exercícios abaixo)\n",
    "\n",
    "A chamada assinatura da segunda formulação é `DiscreteDP(R, Q, β, s_indices, a_indices)` onde:\n",
    "\n",
    "- `s_indices` e `a_indices` são matrizes de comprimento igual a `L` enumerando todos os pares possíveis do estado de ação.\n",
    "- `R` é uma matriz de comprimento `L` dando recompensas correspondentes.  \n",
    "- `Q` é uma matriz de probabilidade de transção `L x n`.\n",
    "\n",
    "Veja como podemos configurar esses objetos para o exemplo anterior."
   ]
  },
  {
   "cell_type": "code",
   "execution_count": 16,
   "metadata": {
    "hide-output": false
   },
   "outputs": [
    {
     "data": {
      "text/plain": [
       "QuantEcon.DPSolveResult{PFI,Float64}([19.01740221695992, 20.017402216959916, 20.431615779333015, 20.749453024528794, 21.040780991093488, 21.30873018352461, 21.544798161024403, 21.76928181079986, 21.982703576083246, 22.1882432282385, 22.384504796519916, 22.578077363861723, 22.761091269771118, 22.943767083452716, 23.115339958706524, 23.277617618874903], [19.01740221695992, 20.01740221695992, 20.431615779333015, 20.749453024528798, 21.040780991093488, 21.30873018352461, 21.5447981610244, 21.769281810799864, 21.982703576083253, 22.1882432282385, 22.38450479651991, 22.578077363861723, 22.761091269771114, 22.943767083452716, 23.115339958706524, 23.277617618874903], 3, [1, 1, 1, 1, 2, 2, 2, 3, 3, 4, 4, 5, 6, 6, 6, 6], Discrete Markov Chain\n",
       "stochastic matrix of type Array{Float64,2}:\n",
       "[0.09090909090909091 0.09090909090909091 … 0.0 0.0; 0.09090909090909091 0.09090909090909091 … 0.0 0.0; … ; 0.0 0.0 … 0.09090909090909091 0.09090909090909091; 0.0 0.0 … 0.09090909090909091 0.09090909090909091])"
      ]
     },
     "execution_count": 16,
     "metadata": {},
     "output_type": "execute_result"
    }
   ],
   "source": [
    "B = 10\n",
    "M = 5\n",
    "α = 0.5\n",
    "β = 0.9\n",
    "u(c) = c^α\n",
    "n = B + M + 1\n",
    "m = M + 1\n",
    "\n",
    "s_indices = Int64[]\n",
    "a_indices = Int64[]\n",
    "Q = zeros(0, n)\n",
    "R = zeros(0)\n",
    "\n",
    "b = 1 / (B + 1)\n",
    "\n",
    "for s in 0:(M + B)\n",
    "    for a in 0:min(M, s)\n",
    "        s_indices = [s_indices; s + 1]\n",
    "        a_indices = [a_indices; a + 1]\n",
    "        q = zeros(1, n)\n",
    "        q[(a + 1):((a + B) + 1)] .= b\n",
    "        Q = [Q; q]\n",
    "        R = [R; u(s-a)]\n",
    "    end\n",
    "end\n",
    "\n",
    "ddp = DiscreteDP(R, Q, β, s_indices, a_indices);\n",
    "results = solve(ddp, PFI)"
   ]
  },
  {
   "cell_type": "markdown",
   "metadata": {},
   "source": [
    "## Exercícios\n",
    "\n",
    "Na aula de crescimento ótimo estocástico, [aula de programação dinâmica](https://julia.quantecon.org/optgrowth.html), resolvemos um\n",
    "[modelo de benchmark](https://julia.quantecon.org/optgrowth.html#benchmark-growth-mod) que possui uma solução analítica para verificar se podemos replicá-lo numericamente.\n",
    "\n",
    "O exercício é replicar esta solução usando `DiscreteDP`."
   ]
  },
  {
   "cell_type": "markdown",
   "metadata": {},
   "source": [
    "## Soluções\n",
    "\n",
    "Essas foram escritos em conjunto por Max Huber e Daisuke Oyama."
   ]
  },
  {
   "cell_type": "markdown",
   "metadata": {},
   "source": [
    "### Configuração\n",
    "\n",
    "Detalhes do modelo podem ser encontrados na [aula](http://quant-econ.net/jl/optgrowth.html). Como na aula, definimos $ f(k) = k^{\\alpha} $ com $ \\alpha = 0.65 $,\n",
    "$ u(c) = \\log c $, e $ \\beta = 0.95 $."
   ]
  },
  {
   "cell_type": "code",
   "execution_count": 17,
   "metadata": {
    "hide-output": false
   },
   "outputs": [
    {
     "data": {
      "text/plain": [
       "0.95"
      ]
     },
     "execution_count": 17,
     "metadata": {},
     "output_type": "execute_result"
    }
   ],
   "source": [
    "α = 0.65\n",
    "f(k) = k.^α\n",
    "u_log(x) = log(x)\n",
    "β = 0.95"
   ]
  },
  {
   "cell_type": "markdown",
   "metadata": {},
   "source": [
    "Aqui, queremos resolver uma versão de estado finito do modelo de estado contínuo acima. Nós discretizamos o espaço de estados em um *grid* de tamanho\n",
    "`grid_size = 500`, de $ 10^{-6} $ a `grid_max=2`."
   ]
  },
  {
   "cell_type": "code",
   "execution_count": 18,
   "metadata": {
    "hide-output": false
   },
   "outputs": [
    {
     "data": {
      "text/plain": [
       "1.0e-6:0.004008014028056112:2.0"
      ]
     },
     "execution_count": 18,
     "metadata": {},
     "output_type": "execute_result"
    }
   ],
   "source": [
    "grid_max = 2\n",
    "grid_size = 500\n",
    "grid = range(1e-6, grid_max, length = grid_size)"
   ]
  },
  {
   "cell_type": "markdown",
   "metadata": {},
   "source": [
    "Escolhemos a ação como a quantidade de capital a ser poupada no próximo período (o estado é o estoque de capital no início do período). Assim, os índices de estado e os índices de ação são ambos `1`, …,\n",
    "`grid_size`.  A ação (indexada por) `a` é possível no estado (indexada por) `s` se e somente se `grid[a] < f([grid[s])` (consumo zero não é permitido devido a utilidade em Log)\n",
    "\n",
    "Então a equação de Bellman é:\n",
    "\n",
    "$$\n",
    "v(k) = \\max_{0 < k' < f(k)} u(f(k) - k') + \\beta v(k'),\n",
    "$$\n",
    "\n",
    "onde $ k^{\\prime} $ é o capital social no próximo período.\n",
    "\n",
    "A matriz de probabilidade de transição `Q` será altamente esparsa (na verdade, é degenerada conforme o modelo é determinístico); portanto, formulamos o problema com pares estado-ação, para representar `Q` no formato de matriz esparsa.\n",
    "\n",
    "Primeiro construímos índices para pares de estado-ação:"
   ]
  },
  {
   "cell_type": "code",
   "execution_count": 19,
   "metadata": {
    "hide-output": false
   },
   "outputs": [
    {
     "data": {
      "text/plain": [
       "118841"
      ]
     },
     "execution_count": 19,
     "metadata": {},
     "output_type": "execute_result"
    }
   ],
   "source": [
    "C = f.(grid) .- grid'\n",
    "coord = repeat(collect(1:grid_size), 1, grid_size) #coordenar matriz\n",
    "s_indices = coord[C .> 0]\n",
    "a_indices = transpose(coord)[C .> 0]\n",
    "L = length(a_indices)"
   ]
  },
  {
   "cell_type": "markdown",
   "metadata": {},
   "source": [
    "Agora vamos configurar $ R $ e $ Q $"
   ]
  },
  {
   "cell_type": "code",
   "execution_count": 20,
   "metadata": {
    "hide-output": false
   },
   "outputs": [],
   "source": [
    "R = u_log.(C[C.>0]);"
   ]
  },
  {
   "cell_type": "code",
   "execution_count": 21,
   "metadata": {
    "hide-output": false
   },
   "outputs": [],
   "source": [
    "using SparseArrays\n",
    "\n",
    "Q = spzeros(L, grid_size) # Anteriormente spzeros\n",
    "\n",
    "for i in 1:L\n",
    "    Q[i, a_indices[i]] = 1\n",
    "end"
   ]
  },
  {
   "cell_type": "markdown",
   "metadata": {},
   "source": [
    "Agora estamos numa posição de criar uma instância de `DiscreteDP`\n",
    "correspondente ao modelo de crescimento."
   ]
  },
  {
   "cell_type": "code",
   "execution_count": 22,
   "metadata": {
    "hide-output": false
   },
   "outputs": [],
   "source": [
    "ddp = DiscreteDP(R, Q, β, s_indices, a_indices);"
   ]
  },
  {
   "cell_type": "markdown",
   "metadata": {},
   "source": [
    "### Resolvendo o Modelo"
   ]
  },
  {
   "cell_type": "code",
   "execution_count": 23,
   "metadata": {
    "hide-output": false
   },
   "outputs": [
    {
     "data": {
      "text/plain": [
       "10"
      ]
     },
     "execution_count": 23,
     "metadata": {},
     "output_type": "execute_result"
    }
   ],
   "source": [
    "results = solve(ddp, PFI)\n",
    "v, σ, num_iter = results.v, results.sigma, results.num_iter\n",
    "num_iter"
   ]
  },
  {
   "cell_type": "markdown",
   "metadata": {},
   "source": [
    "Vamos comparar a solução do modelo discreto com a solução exata do modelo contínuo original. Aqui está a solução exata:"
   ]
  },
  {
   "cell_type": "code",
   "execution_count": 24,
   "metadata": {
    "hide-output": false
   },
   "outputs": [
    {
     "data": {
      "text/plain": [
       "c_star (generic function with 1 method)"
      ]
     },
     "execution_count": 24,
     "metadata": {},
     "output_type": "execute_result"
    }
   ],
   "source": [
    "c = f(grid) - grid[σ]\n",
    "\n",
    "ab = α * β\n",
    "c1 = (log(1 - α * β) + log(α * β) * α * β / (1 - α * β)) / (1 - β)\n",
    "c2 = α / (1 - α * β)\n",
    "\n",
    "v_star(k) = c1 + c2 * log(k)\n",
    "c_star(k) = (1 - α * β) * k.^α"
   ]
  },
  {
   "cell_type": "markdown",
   "metadata": {},
   "source": [
    "Vamos plotar as funções de valor"
   ]
  },
  {
   "cell_type": "code",
   "execution_count": 25,
   "metadata": {
    "hide-output": false
   },
   "outputs": [
    {
     "data": {
      "image/png": "[encoded data removed]"
     },
     "execution_count": 25,
     "metadata": {},
     "output_type": "execute_result"
    }
   ],
   "source": [
    "plot(grid, [v v_star.(grid)], ylim = (-40, -32), lw = 2, label = [\"discrete\" \"continuous\"])"
   ]
  },
  {
   "cell_type": "markdown",
   "metadata": {},
   "source": [
    "Eles são dificilmente distinguíveis (embora você possa ver a diferença se aumentar o zoom).\n",
    "\n",
    "Agora, vejamos as funções políticas discretas e exatas para consumo."
   ]
  },
  {
   "cell_type": "code",
   "execution_count": 26,
   "metadata": {
    "hide-output": false
   },
   "outputs": [
    {
     "data": {
      "image/png": "[encoded data removed]"
     },
     "execution_count": 26,
     "metadata": {},
     "output_type": "execute_result"
    }
   ],
   "source": [
    "plot(grid, [c c_star.(grid)], lw = 2, label = [\"discrete\" \"continuous\"], legend = :topleft)"
   ]
  },
  {
   "cell_type": "markdown",
   "metadata": {},
   "source": [
    "Essas funções estão novamente próximas, embora alguma diferença seja visível e se torne mais óbvia à medida que você aumenta o zoom. Aqui estão algumas estatísticas:\n"
   ]
  },
  {
   "cell_type": "code",
   "execution_count": 27,
   "metadata": {
    "hide-output": false
   },
   "outputs": [
    {
     "data": {
      "text/plain": [
       "121.49819147053378"
      ]
     },
     "execution_count": 27,
     "metadata": {},
     "output_type": "execute_result"
    }
   ],
   "source": [
    "maximum(abs(x - v_star(y)) for (x, y) in zip(v, grid))"
   ]
  },
  {
   "cell_type": "markdown",
   "metadata": {},
   "source": [
    "Isso é um grande erro, mas a maior parte do erro ocorre no nível mais baixo\n",
    "dos pontos do grid. Caso contrário, o ajuste é razoável:"
   ]
  },
  {
   "cell_type": "code",
   "execution_count": 28,
   "metadata": {
    "hide-output": false
   },
   "outputs": [
    {
     "data": {
      "text/plain": [
       "0.012681735127500815"
      ]
     },
     "execution_count": 28,
     "metadata": {},
     "output_type": "execute_result"
    }
   ],
   "source": [
    "maximum(abs(v[idx] - v_star(grid[idx])) for idx in 2:lastindex(v))"
   ]
  },
  {
   "cell_type": "markdown",
   "metadata": {},
   "source": [
    "A função de valor é monótona, como esperado."
   ]
  },
  {
   "cell_type": "code",
   "execution_count": 29,
   "metadata": {
    "hide-output": false
   },
   "outputs": [
    {
     "data": {
      "text/plain": [
       "true"
      ]
     },
     "execution_count": 29,
     "metadata": {},
     "output_type": "execute_result"
    }
   ],
   "source": [
    "all(x -> x ≥ 0, diff(v))"
   ]
  },
  {
   "cell_type": "markdown",
   "metadata": {},
   "source": [
    "### Comparação dos Métodos de Solução\n",
    "\n",
    "Vamos tentar diferentes métodos de solução. Os resultados abaixo mostram que a função de iteração de política e a função de iteração de política modificada são muito mais rápidas que a função de iteração de valor."
   ]
  },
  {
   "cell_type": "code",
   "execution_count": 30,
   "metadata": {
    "hide-output": false
   },
   "outputs": [],
   "source": [
    "@benchmark results = solve(ddp, PFI)\n",
    "results = solve(ddp, PFI);"
   ]
  },
  {
   "cell_type": "code",
   "execution_count": 31,
   "metadata": {
    "hide-output": false
   },
   "outputs": [],
   "source": [
    "@benchmark res1 = solve(ddp, VFI, max_iter = 500, epsilon = 1e-4)\n",
    "res1 = solve(ddp, VFI, max_iter = 500, epsilon = 1e-4);"
   ]
  },
  {
   "cell_type": "code",
   "execution_count": 32,
   "metadata": {
    "hide-output": false
   },
   "outputs": [
    {
     "data": {
      "text/plain": [
       "294"
      ]
     },
     "execution_count": 32,
     "metadata": {},
     "output_type": "execute_result"
    }
   ],
   "source": [
    "res1.num_iter"
   ]
  },
  {
   "cell_type": "code",
   "execution_count": 33,
   "metadata": {
    "hide-output": false
   },
   "outputs": [
    {
     "data": {
      "text/plain": [
       "true"
      ]
     },
     "execution_count": 33,
     "metadata": {},
     "output_type": "execute_result"
    }
   ],
   "source": [
    "σ == res1.sigma"
   ]
  },
  {
   "cell_type": "code",
   "execution_count": 34,
   "metadata": {
    "hide-output": false
   },
   "outputs": [],
   "source": [
    "@benchmark res2 = solve(ddp, MPFI, max_iter = 500, epsilon = 1e-4)\n",
    "res2 = solve(ddp, MPFI, max_iter = 500, epsilon = 1e-4);"
   ]
  },
  {
   "cell_type": "code",
   "execution_count": 35,
   "metadata": {
    "hide-output": false
   },
   "outputs": [
    {
     "data": {
      "text/plain": [
       "16"
      ]
     },
     "execution_count": 35,
     "metadata": {},
     "output_type": "execute_result"
    }
   ],
   "source": [
    "res2.num_iter"
   ]
  },
  {
   "cell_type": "code",
   "execution_count": 36,
   "metadata": {
    "hide-output": false
   },
   "outputs": [
    {
     "data": {
      "text/plain": [
       "true"
      ]
     },
     "execution_count": 36,
     "metadata": {},
     "output_type": "execute_result"
    }
   ],
   "source": [
    "σ == res2.sigma"
   ]
  },
  {
   "cell_type": "markdown",
   "metadata": {},
   "source": [
    "### Replicação das figuras\n",
    "\n",
    "Vamos visualizar a convergência da iteração da função de valor, como na aula."
   ]
  },
  {
   "cell_type": "code",
   "execution_count": 37,
   "metadata": {
    "hide-output": false
   },
   "outputs": [
    {
     "data": {
      "image/png": "[encoded data removed]"
     },
     "execution_count": 37,
     "metadata": {},
     "output_type": "execute_result"
    }
   ],
   "source": [
    "w_init = 5log.(grid) .- 25  # condição inicial\n",
    "n = 50\n",
    "\n",
    "ws = []\n",
    "colors = []\n",
    "w = w_init\n",
    "for i in 0:n-1\n",
    "    w = bellman_operator(ddp, w)\n",
    "    push!(ws, w)\n",
    "    push!(colors, RGBA(0, 0, 0, i/n))\n",
    "end\n",
    "\n",
    "plot(grid,\n",
    "     w_init,\n",
    "     ylims = (-40, -20),\n",
    "     lw = 2,\n",
    "     xlims = extrema(grid),\n",
    "     label = \"initial condition\")\n",
    "\n",
    "plot!(grid, ws,  label = \"\", color = reshape(colors, 1, length(colors)), lw = 2)\n",
    "plot!(grid, v_star.(grid), label = \"true value function\", color = :red, lw = 2)"
   ]
  },
  {
   "cell_type": "markdown",
   "metadata": {},
   "source": [
    "A seguir, plotamos as políticas de consumo ao longo da iteração de valor. Primeiro, escrevemos uma função para gerar e registrar as políticas em determinados estágios da iteração."
   ]
  },
  {
   "cell_type": "code",
   "execution_count": 38,
   "metadata": {
    "hide-output": false
   },
   "outputs": [
    {
     "data": {
      "text/plain": [
       "compute_policies (generic function with 1 method)"
      ]
     },
     "execution_count": 38,
     "metadata": {},
     "output_type": "execute_result"
    }
   ],
   "source": [
    "function compute_policies(n_vals...)\n",
    "    c_policies = []\n",
    "    w = w_init\n",
    "    for n in 1:maximum(n_vals)\n",
    "        w = bellman_operator(ddp, w)\n",
    "        if n in n_vals\n",
    "            σ = compute_greedy(ddp, w)\n",
    "            c_policy = f(grid) - grid[σ]\n",
    "            push!(c_policies, c_policy)\n",
    "        end\n",
    "    end\n",
    "    return c_policies\n",
    "end"
   ]
  },
  {
   "cell_type": "markdown",
   "metadata": {},
   "source": [
    "Agora vamos gerar os plots."
   ]
  },
  {
   "cell_type": "code",
   "execution_count": 39,
   "metadata": {
    "hide-output": false
   },
   "outputs": [
    {
     "data": {
      "image/png": "[encoded data removed]"
     },
     "execution_count": 39,
     "metadata": {},
     "output_type": "execute_result"
    }
   ],
   "source": [
    "true_c = c_star.(grid)\n",
    "c_policies = compute_policies(2, 4, 6)\n",
    "plot_vecs = [c_policies[1] c_policies[2] c_policies[3] true_c true_c true_c]\n",
    "l1 = \"approximate optimal policy\"\n",
    "l2 = \"optimal consumption policy\"\n",
    "labels = [l1 l1 l1 l2 l2 l2]\n",
    "plot(grid,\n",
    "     plot_vecs,\n",
    "     xlim = (0, 2),\n",
    "     ylim = (0, 1),\n",
    "     layout = (3, 1),\n",
    "     lw = 2,\n",
    "     label = labels,\n",
    "     size = (600, 800),\n",
    "     title = [\"2 iterations\" \"4 iterations\" \"6 iterations\"])"
   ]
  },
  {
   "cell_type": "markdown",
   "metadata": {},
   "source": [
    "### Dinâmica do Estoque de Capital\n",
    "\n",
    "Finalmente, vamos trabalhar no [Exercício\n",
    "2](https://julia.quantecon.org/dynamic_programming/optgrowth.html#Exercise-1), onde traçamos as trajetórias do estoque de capital para três fatores de desconto diferentes, $ 0.9 $, $ 0.94 $, e $ 0.98 $, com a condição inicial $ k_0 = 0.1 $."
   ]
  },
  {
   "cell_type": "code",
   "execution_count": 40,
   "metadata": {
    "hide-output": false
   },
   "outputs": [
    {
     "data": {
      "image/png": "[encoded data removed]"
     },
     "execution_count": 40,
     "metadata": {},
     "output_type": "execute_result"
    }
   ],
   "source": [
    "discount_factors = (0.9, 0.94, 0.98)\n",
    "k_init = 0.1\n",
    "\n",
    "k_init_ind = findfirst(collect(grid) .≥ k_init)\n",
    "\n",
    "sample_size = 25\n",
    "\n",
    "ddp0 = DiscreteDP(R, Q, β, s_indices, a_indices)\n",
    "k_paths = []\n",
    "labels = []\n",
    "\n",
    "for β in discount_factors\n",
    "    ddp0.beta = β\n",
    "    res0 = solve(ddp0, PFI)\n",
    "    k_path_ind = simulate(res0.mc, sample_size, init=k_init_ind)\n",
    "    k_path = grid[k_path_ind.+1]\n",
    "    push!(k_paths, k_path)\n",
    "    push!(labels, \"β = $β\")\n",
    "end\n",
    "\n",
    "plot(k_paths,\n",
    "     xlabel = \"time\",\n",
    "     ylabel = \"capital\",\n",
    "     ylim = (0.1, 0.3),\n",
    "     lw = 2,\n",
    "     markershape = :circle,\n",
    "     label = reshape(labels, 1, length(labels)))"
   ]
  },
  {
   "cell_type": "markdown",
   "metadata": {},
   "source": [
    "\n",
    "<a id='ddp-algorithms'></a>"
   ]
  },
  {
   "cell_type": "markdown",
   "metadata": {},
   "source": [
    "## Apêndice: Algoritmos\n",
    "\n",
    "Este apêndice cobre os detalhes dos algoritmos de solução implementados para `DiscreteDP`.\n",
    "\n",
    "Usaremos as seguintes noções de otimização aproximada:\n",
    "\n",
    "- Para $ \\varepsilon > 0 $, $ v $ é chamada  $ \\varepsilon $-aproximação de $ v^* $ se $ \\lVert v - v^*\\rVert < \\varepsilon $  \n",
    "- Uma política $ \\sigma \\in \\Sigma $ é chamada $ \\varepsilon $-ótima se $ v_{\\sigma} $ é uma $ \\varepsilon $-aproximação de $ v^* $  "
   ]
  },
  {
   "cell_type": "markdown",
   "metadata": {},
   "source": [
    "### Valor Iteração\n",
    "\n",
    "O método de valor iteração `DiscreteDP` implementa a função de valor iteração da seguinte maneira:\n",
    "\n",
    "1. Escolha qualquer $ v^0 \\in \\mathbb{R}^n $, e especifique $ \\varepsilon > 0 $; defina $ i = 0 $.  \n",
    "1. Compute $ v^{i+1} = T v^i $.  \n",
    "1. Se $ \\lVert v^{i+1} - v^i\\rVert <  [(1 - \\beta) / (2\\beta)] \\varepsilon $,\n",
    " então vá para o passo 4; caso contrário, defina $ i = i + 1 $ e vá para o passo 2.  \n",
    "1. Compute uma política $ v^{i+1} $-ganaciosa $ \\sigma $, e retorne $ v^{i+1} $ e $ \\sigma $.  \n",
    "\n",
    "\n",
    "Dado $ \\varepsilon > 0 $, o algorítimo de valor iteração:\n",
    "\n",
    "- termina em um número finito de iterações  \n",
    "- retorna um $ \\varepsilon/2 $-aproximação da função de valor ótimo e um $ \\varepsilon $-ótimo da função de política ótima (a menos que `iter_max` seja alcançado)  \n",
    "\n",
    "\n",
    "(Embora não explícito, na implementação real, cada algoritmo é finalizado se o número de iterações atingir `iter_max`)"
   ]
  },
  {
   "cell_type": "markdown",
   "metadata": {},
   "source": [
    "### Iteração de Política\n",
    "\n",
    "O método de política de iteração `DiscreteDP` é executado da seguinte maneira:\n",
    "\n",
    "1. Escolha qualquer $ v^0 \\in \\mathbb{R}^n $ e compute uma política $ v^0 $-gananciosa $ \\sigma^0 $; defina $ i = 0 $.  \n",
    "1. Compute o valor $ v_{\\sigma^i} $ resolvendo\n",
    "  a equação $ v = T_{\\sigma^i} v $.  \n",
    "1. Compute uma política $ v_{\\sigma^i} $-gananciosa\n",
    "  $ \\sigma^{i+1} $; Faça $ \\sigma^{i+1} = \\sigma^i $ se possível\n",
    "1. Se $ \\sigma^{i+1} = \\sigma^i $, então retorne $ v_{\\sigma^i} $\n",
    "  e $ \\sigma^{i+1} $; caso contrário, defina $ i = i + 1 $ e vá para o passo 2.  \n",
    "\n",
    "\n",
    "O algoritmo de iteração de política termina em um número finito de iterações.\n",
    "\n",
    "Ele retorna uma função de valor ideal e uma função de política ideal (a menos que `iter_max` seja atingido)."
   ]
  },
  {
   "cell_type": "markdown",
   "metadata": {},
   "source": [
    "### Iteração de Política Modificada\n",
    "O método de iteração de política modificada `DiscreteDP` é executado da seguinte maneira:\n",
    "\n",
    "1. Escolha qualquer $ v^0 \\in \\mathbb{R}^n $, e especifique $ \\varepsilon > 0 $ e $ k \\geq 0 $; defina $ i = 0 $.  \n",
    "1. Compute uma política $ v^i $-gananciosa $ \\sigma^{i+1} $; Faça $ \\sigma^{i+1} = \\sigma^i $ se possível (para $ i \\geq 1 $).  \n",
    "1. Compute $ u = T v^i $ ($ = T_{\\sigma^{i+1}} v^i $). Se $ \\mathrm{span}(u - v^i) < [(1 - \\beta) / \\beta] \\varepsilon $, então vá para o passo 5; caso contrário vá para o passo 4.  \n",
    "  - O período é definido por $ \\mathrm{período}(z) = \\max(z) - \\min(z) $  \n",
    "1. Compute $ v^{i+1} = (T_{\\sigma^{i+1}})^k u $ ($ = (T_{\\sigma^{i+1}})^{k+1} v^i $); defina $ i = i + 1 $ e vá para o passo 2.  \n",
    "1. Retorne $ v = u + [\\beta / (1 - \\beta)] [(\\min(u - v^i) + \\max(u - v^i)) / 2] \\mathbf{1} $ e $ \\sigma_{i+1} $.  \n",
    "\n",
    "\n",
    "Dado $ \\varepsilon > 0 $, desde que $ v^0 $ é tal que\n",
    "$ T v^0 \\geq v^0 $, o algoritmo de iteração de política modificado termina em um número finito de iterações.\n",
    "\n",
    "Ele retorna uma $ \\varepsilon/2 $-aproximação da função de valor ótimo e uma $ \\varepsilon $-função de política ótima (a menos que `iter_max` seja atingido)\n",
    "\n",
    "Veja também a documetação para `DiscreteDP`."
   ]
  }
 ],
 "metadata": {
  "date": 1572312775.1684413,
  "download_nb": 1,
  "download_nb_path": "https://julia.quantecon.org/",
  "filename": "discrete_dp.rst",
  "filename_with_path": "dynamic_programming/discrete_dp",
  "kernelspec": {
   "display_name": "Julia 1.3.1",
   "language": "julia",
   "name": "julia-1.3"
  },
  "language_info": {
   "file_extension": ".jl",
   "mimetype": "application/julia",
   "name": "julia",
   "version": "1.3.1"
  },
  "title": "Discrete State Dynamic Programming"
 },
 "nbformat": 4,
 "nbformat_minor": 4
}
