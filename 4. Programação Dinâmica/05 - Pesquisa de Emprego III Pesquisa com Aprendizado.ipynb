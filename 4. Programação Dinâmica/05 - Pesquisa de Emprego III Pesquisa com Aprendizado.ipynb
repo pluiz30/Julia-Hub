{
 "cells": [
  {
   "cell_type": "markdown",
   "metadata": {},
   "source": [
    "\n",
    "<a id='odu'></a>\n",
    "<div id=\"qe-notebook-header\" style=\"text-align:right;\">\n",
    "        <a href=\"https://quantecon.org/\" title=\"quantecon.org\">\n",
    "                <img style=\"width:250px;display:inline;\" src=\"https://assets.quantecon.org/img/qe-menubar-logo.svg\" alt=\"QuantEcon\">\n",
    "        </a>\n",
    "</div>"
   ]
  },
  {
   "cell_type": "markdown",
   "metadata": {},
   "source": [
    "# Pesquisa de Emprego III: Pesquisa com Aprendizado"
   ]
  },
  {
   "cell_type": "markdown",
   "metadata": {},
   "source": [
    "## Conteúdo\n",
    "\n",
    "- [Pesquisa de Emprego III: Pesquisa com Aprendizado](#Pesquisa-de-Emprego-III:-Pesquisa-com-Aprendizado)  \n",
    "  - [Resumo](#Resumo)  \n",
    "  - [O Modelo](#O-Modelo)  \n",
    "  - [Passo 1: Solução por VFI](#Passo-1:-Solução-por-VFI)  \n",
    "  - [Passo 2: Um Método Mais Eficiente](#Passo-2:-Um-Método-Mais-Eficiente)  \n",
    "  - [Exercícios](#Exercícios)  \n",
    "  - [Soluções](#Soluções)  "
   ]
  },
  {
   "cell_type": "markdown",
   "metadata": {},
   "source": [
    "> *Devidamente traduzido, revisado e adaptado do [QuantEcon](https://quantecon.org/) pelos bolsistas CNPq, Pedro Luiz H. Furtado e Jonas Aragão M. Corpes, sob supervisão do Prof. Christiano Penna, do CAEN/UFC.*"
   ]
  },
  {
   "cell_type": "markdown",
   "metadata": {},
   "source": [
    "## Resumo \n",
    "\n",
    "Nesta aula, consideramos uma extensão do modelo de pesquisa de emprego [estudado anteriormente](https://julia.quantecon.org/mccall_model.html) de McCall [[McC70]](https://julia.quantecon.org/../zreferences.html#mccall1970).\n",
    "\n",
    "No modelo de McCall, um trabalhador desempregado decide quando aceitar uma posição permanente com um salário especificado, dado:\n",
    "\n",
    "- Sua taxa de desconto.  \n",
    "- O nível do seguro desemprego. \n",
    "- A distribuição a partir da qual ofertas salariais são retiradas. \n",
    "\n",
    "\n",
    "Na versão considerada abaixo, a distribuição salarial é desconhecida e deve ser aprendida.\n",
    "\n",
    "- O seguinte é baseado na apresentação em [[LS18]](https://julia.quantecon.org/../zreferences.html#ljungqvist2012), seção 6.6.  "
   ]
  },
  {
   "cell_type": "markdown",
   "metadata": {},
   "source": [
    "### Recursos do Modelo\n",
    "\n",
    "- Programação dinâmica de horizonte infinito com dois estados e um controle binário. \n",
    "- Atualização bayesiana para aprender a distribuição desconhecida. "
   ]
  },
  {
   "cell_type": "markdown",
   "metadata": {},
   "source": [
    "### Confiuguração"
   ]
  },
  {
   "cell_type": "code",
   "execution_count": 1,
   "metadata": {
    "hide-output": true
   },
   "outputs": [],
   "source": [
    "using InstantiateFromURL\n",
    "github_project(\"QuantEcon/quantecon-notebooks-julia\", version = \"0.5.0\")\n",
    "# github_project(\"QuantEcon/quantecon-notebooks-julia\", version = \"0.5.0\", instantiate = true) # uncomment to force package installation"
   ]
  },
  {
   "cell_type": "markdown",
   "metadata": {},
   "source": [
    "## O Modelo\n",
    "\n",
    "\n",
    "<a id='index-0'></a>\n",
    "Vamos primeiro revisar o modelo básico de McCall [[McC70]](https://julia.quantecon.org/../zreferences.html#mccall1970) e depois adicionar a variação que queremos considerar."
   ]
  },
  {
   "cell_type": "markdown",
   "metadata": {},
   "source": [
    "### O Modelo Básico de McCall\n",
    "\n",
    "\n",
    "<a id='index-1'></a>\n",
    "Lembre-se que, [na linha de base do modelo](https://julia.quantecon.org/mccall_model.html), um trabalhador desempregado é apresentado em cada período com uma oferta de emprego permanente com o salário $ W_t $.\n",
    "\n",
    "No período $ t $, nosso trabalhador também:\n",
    "\n",
    "1. Aceita a oferta e trabalha permanentemente com salário constante  $ W_t $. \n",
    "1. Rejeita a oferta, recebe indenização por desemprego $ c $ e reconsidera o próximo período.\n",
    "\n",
    "\n",
    "A sequência salárial $ \\{W_t\\} $ é *iid* e gerada a partir de uma densidade conhecida $ h $.\n",
    "\n",
    "O trabalhador tem como objetivo maximizar a soma esperada descontada dos ganhos $ \\mathbb{E} \\sum_{t=0}^{\\infty} \\beta^t y_t $.\n",
    "A função $ V $ satisfaz a recursão:\n",
    "\n",
    "\n",
    "<a id='equation-odu-odu-pv'></a>\n",
    "$$\n",
    "V(w)\n",
    "= \\max \\left\\{\n",
    "\\frac{w}{1 - \\beta}, \\, c + \\beta \\int V(w')h(w') dw'\n",
    "\\right\\} \\tag{1}\n",
    "$$\n",
    "\n",
    "A política ótima tem a forma $ \\mathbf{1}\\{w \\geq \\bar w\\} $, onde\n",
    "$ \\bar w $ é uma constante dependendo do chamado *salário de reserva*."
   ]
  },
  {
   "cell_type": "markdown",
   "metadata": {},
   "source": [
    "### Distribuição de Oferta Desconhecida\n",
    "\n",
    "Agora vamos estender o modelo considerando a variação apresentada em [[LS18]](https://julia.quantecon.org/../zreferences.html#ljungqvist2012), seção 6.6.\n",
    "\n",
    "O modelo é como acima, além do fato de que:\n",
    "\n",
    "- A densidade $ h $ é desconhecida.\n",
    "- O trabalhador aprende sobre $ h $ começando com uma prévia e atualizando com base nas ofertas salariais que ele/ela observa.\n",
    "\n",
    "O trabalhador sabe que existem duas distribuições possíveis $ F $ e $ G $ — com densidades $ f $ e $ g $.\n",
    "\n",
    "No inicio do período, a “natureza” seleciona $ h $ a ser $ f $ ou\n",
    "$ g $ — a distribuição salarial a partir da qual toda a sequência $ \\{W_t\\} $ será extraida.\n",
    "\n",
    "Essa escolha não é observada pelo trabalhador, que coloca a probabilidade anterior $ \\pi_0 $ em $ f $ sendo escolhido.\n",
    "\n",
    "Regra de atualização: o tempo $ t $ do trabalhador estimado da distribuição é $ \\pi_t f + (1 - \\pi_t) g $, onde $ \\pi_t $ atualiza via: \n",
    "\n",
    "\n",
    "<a id='equation-odu-pi-rec'></a>\n",
    "$$\n",
    "\\pi_{t+1}\n",
    "= \\frac{\\pi_t f(w_{t+1})}{\\pi_t f(w_{t+1}) + (1 - \\pi_t) g(w_{t+1})} \\tag{2}\n",
    "$$\n",
    "\n",
    "Essa última expressão segue a regra de Bayes, que nos diz que:\n",
    "\n",
    "$$\n",
    "\\mathbb{P}\\{h = f \\,|\\, W = w\\}\n",
    "= \\frac{\\mathbb{P}\\{W = w \\,|\\, h = f\\}\\mathbb{P}\\{h = f\\}}\n",
    "{\\mathbb{P}\\{W = w\\}}\n",
    "\\quad \\text{and} \\quad\n",
    "\\mathbb{P}\\{W = w\\} = \\sum_{\\psi \\in \\{f, g\\}} \\mathbb{P}\\{W = w \\,|\\, h = \\psi\\} \\mathbb{P}\\{h = \\psi\\}\n",
    "$$\n",
    "\n",
    "O fato de [(2)](#equation-odu-pi-rec) ser recursivo nos permite avançar para um método de solução recursiva.\n",
    "\n",
    "fazendo,\n",
    "\n",
    "$$\n",
    "h_{\\pi}(w) := \\pi f(w) + (1 - \\pi) g(w)\n",
    "\\quad \\text{e} \\quad\n",
    "q(w, \\pi) := \\frac{\\pi f(w)}{\\pi f(w) + (1 - \\pi) g(w)}\n",
    "$$\n",
    "\n",
    "podemos expressar recursivamente a função de valor para o trabalhador desempregado da seguinte maneira:\n",
    "\n",
    "\n",
    "<a id='equation-odu-mvf'></a>\n",
    "$$\n",
    "V(w, \\pi)\n",
    "= \\max \\left\\{\n",
    "\\frac{w}{1 - \\beta}, \\, c + \\beta \\int V(w', \\pi') \\, h_{\\pi}(w') \\, dw'\n",
    "\\right\\}\n",
    "\\quad \\text{where} \\quad\n",
    "\\pi' = q(w', \\pi) \\tag{3}\n",
    "$$\n",
    "\n",
    "Observe que a suposição atual $ \\pi $ é um estado variável, pois afeta a percepção das probabilidades do trabalhador em relação a recompensas futuras."
   ]
  },
  {
   "cell_type": "markdown",
   "metadata": {},
   "source": [
    "### Parametrização\n",
    "Seguindo a seção 6.6 de [[LS18]](https://julia.quantecon.org/../zreferences.html#ljungqvist2012), nossa linha de base para parametrização será:\n",
    "\n",
    "- $ f $ é $ \\operatorname{Beta}(1, 1) $ escalado (ou seja, as extrações são multiplicadas por) algum fator $ w_m $. \n",
    "- $ g $ é $ \\operatorname{Beta}(3, 1.2) $ escalado (ou seja, as extrações são multiplicadas por) o mesmo fator $ w_m $.\n",
    "- $ \\beta = 0.95 $ e $ c = 0.6 $. \n",
    "\n",
    "\n",
    "Com $ w_m = 2 $, as densidades $ f $ e $ g $ possuem o seguinte formato:"
   ]
  },
  {
   "cell_type": "code",
   "execution_count": 2,
   "metadata": {
    "hide-output": false
   },
   "outputs": [
    {
     "data": {
      "image/png": "[encoded data removed]"
     },
     "execution_count": 2,
     "metadata": {},
     "output_type": "execute_result"
    }
   ],
   "source": [
    "using LinearAlgebra, Statistics\n",
    "using Distributions, Plots, QuantEcon, Interpolations, Parameters\n",
    "\n",
    "gr(fmt=:png);\n",
    "\n",
    "w_max = 2\n",
    "x = range(0,  w_max, length = 200)\n",
    "\n",
    "G = Beta(3, 1.6)\n",
    "F = Beta(1, 1)\n",
    "plot(x, pdf.(G, x/w_max)/w_max, label=\"g\")\n",
    "plot!(x, pdf.(F, x/w_max)/w_max, label=\"f\")"
   ]
  },
  {
   "cell_type": "markdown",
   "metadata": {},
   "source": [
    "\n",
    "<a id='looking-forward'></a>"
   ]
  },
  {
   "cell_type": "markdown",
   "metadata": {},
   "source": [
    "### Olhando para Frente\n",
    "\n",
    "Que tipo de política ideal pode resultar de [(3)](#equation-odu-mvf) e a parametrização especificada acima?\n",
    "\n",
    "Intuitivamente, se aceitarmos que $ w_a $ e $ w_a \\leq w_b $, então — com todas as outras coisas sendo dadas - também devemos aceitar em $ w_b $.\n",
    "\n",
    "Isto sugere uma política de aceitar sempre que $ w $ exceder algum valor de limite $ \\bar w $.\n",
    "\n",
    "Mas $ \\bar w $ deve depender de $ \\pi $ — de fato, deveria estar diminuindo em $ \\pi $ porque:\n",
    "\n",
    "- $ f $ é uma distribuição de oferta menos atraente que $ g $.\n",
    "- quão maior $ \\pi $ significa mais peso em $ f $ e menos em $ g $. \n",
    "\n",
    "\n",
    "Então quão maior $ \\pi $ deprime a avaliação das perspectivas futuras do trabalhador e as ofertas atuais relativamente baixas tornam-se mais atraentes.\n",
    "\n",
    "**Resumo:** conjecturamos que a política ideal é da forma\n",
    "$ \\mathbb 1 \\{w \\geq \\bar w(\\pi) \\} $ para alguma função decrescente\n",
    "$ \\bar w $."
   ]
  },
  {
   "cell_type": "markdown",
   "metadata": {},
   "source": [
    "## Passo 1: Solução por VFI\n",
    "\n",
    "Vamos começar a resolver o modelo e ver como nossos resultados correspondem à nossa intuição.\n",
    "\n",
    "Começamos resolvendo por meio da iteração de função de valor (VFI), que é natural, mas acaba sendo a segunda melhor.\n",
    "\n",
    "O código é o seguinte:\n",
    "\n",
    "\n",
    "<a id='odu-vfi-code'></a>"
   ]
  },
  {
   "cell_type": "code",
   "execution_count": 3,
   "metadata": {
    "hide-output": false
   },
   "outputs": [
    {
     "data": {
      "text/plain": [
       "res_wage_operator (generic function with 1 method)"
      ]
     },
     "execution_count": 3,
     "metadata": {},
     "output_type": "execute_result"
    }
   ],
   "source": [
    "# use a palavra chave argument\n",
    "function SearchProblem(;β = 0.95, c = 0.6, F_a = 1, F_b = 1,\n",
    "                       G_a = 3, G_b = 1.2, w_max = 2.0,\n",
    "                       w_grid_size = 40, π_grid_size = 40)\n",
    "\n",
    "    F = Beta(F_a, F_b)\n",
    "    G = Beta(G_a, G_b)\n",
    "\n",
    "    # fdps escaladas\n",
    "    f(x) = pdf.(F, x/w_max)/w_max\n",
    "    g(x) = pdf.(G, x/w_max)/w_max\n",
    "\n",
    "    π_min = 1e-3  # evita instabilidade\n",
    "    π_max = 1 - π_min\n",
    "\n",
    "    w_grid = range(0,  w_max, length = w_grid_size)\n",
    "    π_grid = range(π_min,  π_max, length = π_grid_size)\n",
    "\n",
    "    nodes, weights = qnwlege(21, 0.0, w_max)\n",
    "\n",
    "    return (β = β, c = c, F = F, G = G, f = f,\n",
    "            g = g, n_w = w_grid_size, w_max = w_max,\n",
    "            w_grid = w_grid, n_π = π_grid_size, π_min = π_min,\n",
    "            π_max = π_max, π_grid = π_grid, quad_nodes = nodes,\n",
    "            quad_weights = weights)\n",
    "end\n",
    "\n",
    "function q(sp, w, π_val)\n",
    "    new_π = 1.0 / (1 + ((1 - π_val) * sp.g(w)) / (π_val * sp.f(w)))\n",
    "\n",
    "    # Retorna new_π quando [π_min, π_max] e pontos fixos\n",
    "    return clamp(new_π, sp.π_min, sp.π_max)\n",
    "end\n",
    "\n",
    "function T!(sp, v, out;\n",
    "                           ret_policy = false)\n",
    "    # simplificando os nomes\n",
    "    @unpack f, g, β, c = sp\n",
    "    nodes, weights = sp.quad_nodes, sp.quad_weights\n",
    "\n",
    "    vf = extrapolate(interpolate((sp.w_grid, sp.π_grid), v,\n",
    "                    Gridded(Linear())), Flat())\n",
    "\n",
    "    # configurar a quadratura nodes/weights\n",
    "    # q_nodes, q_weights = qnwlege(21, 0.0, sp.w_max)\n",
    "\n",
    "    for (w_i, w) in enumerate(sp.w_grid)\n",
    "        # calcular v1\n",
    "        v1 = w / (1 - β)\n",
    "\n",
    "        for (π_j, _π) in enumerate(sp.π_grid)\n",
    "            # calcular v2\n",
    "            integrand(m) = [vf(m[i], q.(Ref(sp), m[i], _π)) *\n",
    "                        (_π * f(m[i]) + (1 - _π) * g(m[i])) for i in 1:length(m)]\n",
    "            integral = do_quad(integrand, nodes, weights)\n",
    "            # integral = do_quad(integrand, q_nodes, q_weights)\n",
    "            v2 = c + β * integral\n",
    "\n",
    "            # returna a política se pedido, caso contrário retorna máximo dos valores \n",
    "            out[w_i, π_j] = ret_policy ? v1 > v2 : max(v1, v2)\n",
    "        end\n",
    "    end\n",
    "    return out\n",
    "end\n",
    "\n",
    "function T(sp, v;\n",
    "                          ret_policy = false)\n",
    "    out_type = ret_policy ? Bool : Float64\n",
    "    out = zeros(out_type, sp.n_w, sp.n_π)\n",
    "    T!(sp, v, out, ret_policy=ret_policy)\n",
    "end\n",
    "\n",
    "\n",
    "get_greedy!(sp, v, out) = T!(sp, v, out, ret_policy = true)\n",
    "\n",
    "get_greedy(sp, v) = T(sp, v, ret_policy = true)\n",
    "\n",
    "function res_wage_operator!(sp, ϕ, out)\n",
    "    # simplificando os nomes\n",
    "    @unpack f, g, β, c = sp\n",
    "\n",
    "    # Construindo o interpolador sobre π_grid, dado ϕ \n",
    "    ϕ_f = LinearInterpolation(sp.π_grid, ϕ, extrapolation_bc = Line())\n",
    "\n",
    "    # configuração da quadratura nodes/weights\n",
    "    q_nodes, q_weights = qnwlege(7, 0.0, sp.w_max)\n",
    "\n",
    "    for (i, _π) in enumerate(sp.π_grid)\n",
    "        integrand(x) = max.(x, ϕ_f.(q.(Ref(sp), x, _π))) .* (_π * f(x) + (1 - _π) * g(x))\n",
    "        integral = do_quad(integrand, q_nodes, q_weights)\n",
    "        out[i] = (1 - β) * c + β * integral\n",
    "    end\n",
    "end\n",
    "\n",
    "function res_wage_operator(sp, ϕ)\n",
    "    out = similar(ϕ)\n",
    "    res_wage_operator!(sp, ϕ, out)\n",
    "    return out\n",
    "end"
   ]
  },
  {
   "cell_type": "markdown",
   "metadata": {},
   "source": [
    "O tipo `SearchProblem` é usado para armazenar parâmetros e métodos necessários para calcular as ações ideais.\n",
    "\n",
    "O operador Bellman é implementado como o método `T()`, enquanto `get_greedy()`\n",
    "calcula uma política ótima aproximada a partir de uma estimativa `v` da função de valor.\n",
    "\n",
    "Omitiremos uma discussão detalhada do código porque existe um método de solução mais eficiente.\n",
    "\n",
    "Essas idéias são implementadas no método `.res_wage_operator()`.\n",
    "\n",
    "Antes de explicá-lo, vamos olhar para as soluções calculadas a partir da iteração da função de valor.\n",
    "\n",
    "Aqui está a função de valor:"
   ]
  },
  {
   "cell_type": "code",
   "execution_count": 4,
   "metadata": {
    "hide-output": false
   },
   "outputs": [
    {
     "name": "stdout",
     "output_type": "stream",
     "text": [
      "Compute iterate 10 with error 0.19801710153283736\n",
      "Compute iterate 20 with error 0.007608221868107279\n",
      "Compute iterate 30 with error 0.0002901698734376623\n",
      "Converged in 34 steps\n"
     ]
    },
    {
     "data": {
      "image/png": "[encoded data removed]"
     },
     "execution_count": 4,
     "metadata": {},
     "output_type": "execute_result"
    }
   ],
   "source": [
    "# Configure o problema e a suposição inicial, resolva por VFI \n",
    "sp = SearchProblem(;w_grid_size=100, π_grid_size=100)\n",
    "v_init = fill(sp.c / (1 - sp.β), sp.n_w, sp.n_π)\n",
    "f(x) = T(sp, x)\n",
    "v = compute_fixed_point(f, v_init)\n",
    "policy = get_greedy(sp, v)\n",
    "\n",
    "# faça funções para os interpolantes lineares destes \n",
    "vf = extrapolate(interpolate((sp.w_grid, sp.π_grid), v, Gridded(Linear())),\n",
    "                Flat())\n",
    "pf = extrapolate(interpolate((sp.w_grid, sp.π_grid), policy,\n",
    "                Gridded(Linear())), Flat())\n",
    "\n",
    "function plot_value_function(;w_plot_grid_size = 100,\n",
    "                            π_plot_grid_size = 100)\n",
    "  π_plot_grid = range(0.001,  0.99, length =  π_plot_grid_size)\n",
    "  w_plot_grid = range(0,  sp.w_max, length = w_plot_grid_size)\n",
    "  Z = [vf(w_plot_grid[j], π_plot_grid[i])\n",
    "          for j in 1:w_plot_grid_size, i in 1:π_plot_grid_size]\n",
    "  p = contour(π_plot_grid, w_plot_grid, Z, levels=15, alpha=0.6,\n",
    "              fill=true, size=(400, 400), c=:lightrainbow)\n",
    "  plot!(xlabel=\"pi\", ylabel=\"w\", xguidefont=font(12))\n",
    "  return p\n",
    "end\n",
    "\n",
    "plot_value_function()"
   ]
  },
  {
   "cell_type": "markdown",
   "metadata": {},
   "source": [
    "\n",
    "<a id='odu-pol-vfi'></a>\n",
    "A política ótima:"
   ]
  },
  {
   "cell_type": "code",
   "execution_count": 5,
   "metadata": {
    "hide-output": false
   },
   "outputs": [
    {
     "data": {
      "image/png": "[encoded data removed]"
     },
     "execution_count": 5,
     "metadata": {},
     "output_type": "execute_result"
    }
   ],
   "source": [
    "function plot_policy_function(;w_plot_grid_size = 100,\n",
    "                              π_plot_grid_size = 100)\n",
    "    π_plot_grid = range(0.001,  0.99, length = π_plot_grid_size)\n",
    "    w_plot_grid = range(0,  sp.w_max, length = w_plot_grid_size)\n",
    "    Z = [pf(w_plot_grid[j], π_plot_grid[i])\n",
    "            for j in 1:w_plot_grid_size, i in 1:π_plot_grid_size]\n",
    "    p = contour(π_plot_grid, w_plot_grid, Z, levels=1, alpha=0.6, fill=true,\n",
    "                size=(400, 400), c=:coolwarm)\n",
    "    plot!(xlabel=\"pi\", ylabel=\"wage\", xguidefont=font(12), cbar=false)\n",
    "    annotate!(0.4, 1.0, \"reject\")\n",
    "    annotate!(0.7, 1.8, \"accept\")\n",
    "    return p\n",
    "end\n",
    "\n",
    "plot_policy_function()"
   ]
  },
  {
   "cell_type": "markdown",
   "metadata": {},
   "source": [
    "O código leva vários minutos para ser executado.\n",
    "\n",
    "Os resultados se encaixam bem com a nossa intuição da seção [Olhando para Frente](#looking-forward).\n",
    "\n",
    "- A linha preta na figura acima corresponde à função  $ \\bar w(\\pi) $ introduzida lá.  \n",
    "- Está diminuindo conforme o esperado. "
   ]
  },
  {
   "cell_type": "markdown",
   "metadata": {},
   "source": [
    "## Passo 2: Um Método Mais Eficiente\n",
    "\n",
    "Nossa implementação do VFI pode ser otimizada até certo ponto.\n",
    "\n",
    "Mas, em vez de buscar isso, vamos considerar outro método para resolver a política ideal.\n",
    "\n",
    "Usaremos a iteração com um operador que tenha a mesma taxa de contração do operador Bellman, mas:\n",
    "\n",
    "- unidimensional em vez de bidimensional.\n",
    "- nenhuma etapa de maximização.\n",
    "\n",
    "\n",
    "Como consequência, o algoritmo é de ordens de magnitude mais rápidas que o VFI.\n",
    "\n",
    "Esta seção ilustra o ponto em que, quando se trata de programação, um pouco de análise matemática é bastante útil."
   ]
  },
  {
   "cell_type": "markdown",
   "metadata": {},
   "source": [
    "### Outra Equação Funcional\n",
    "\n",
    "Para começar, note que quando $ w = \\bar w(\\pi) $, o trabalhador é indiferente entre aceitar e rejeitar.\n",
    "\n",
    "Portanto, as duas opções no lado direito de [(3)](#equation-odu-mvf) tem valores iguais:\n",
    "\n",
    "\n",
    "<a id='equation-odu-mvf2'></a>\n",
    "$$\n",
    "\\frac{\\bar w(\\pi)}{1 - \\beta}\n",
    "= c + \\beta \\int V(w', \\pi') \\, h_{\\pi}(w') \\, dw' \\tag{4}\n",
    "$$\n",
    "\n",
    "Juntos, [(3)](#equation-odu-mvf) e [(4)](#equation-odu-mvf2) dão,\n",
    "\n",
    "\n",
    "<a id='equation-odu-mvf3'></a>\n",
    "$$\n",
    "V(w, \\pi) =\n",
    "\\max\n",
    "\\left\\{\n",
    "    \\frac{w}{1 - \\beta} ,\\, \\frac{\\bar w(\\pi)}{1 - \\beta}\n",
    "\\right\\} \\tag{5}\n",
    "$$\n",
    "\n",
    "Combinando [(4)](#equation-odu-mvf2) e [(5)](#equation-odu-mvf3), obtemos:\n",
    "\n",
    "$$\n",
    "\\frac{\\bar w(\\pi)}{1 - \\beta}\n",
    "= c + \\beta \\int \\max \\left\\{\n",
    "    \\frac{w'}{1 - \\beta} ,\\, \\frac{\\bar w(\\pi')}{1 - \\beta}\n",
    "\\right\\}\n",
    "\\, h_{\\pi}(w') \\, dw'\n",
    "$$\n",
    "\n",
    "Multiplicando por $ 1 - \\beta $, substituindo em $ \\pi' = q(w', \\pi) $ e usando $ \\circ $ para compor as funções, tem-se:\n",
    "\n",
    "\n",
    "<a id='equation-odu-mvf4'></a>\n",
    "$$\n",
    "\\bar w(\\pi)\n",
    "= (1 - \\beta) c +\n",
    "\\beta \\int \\max \\left\\{ w', \\bar w \\circ q(w', \\pi) \\right\\} \\, h_{\\pi}(w') \\, dw' \\tag{6}\n",
    "$$\n",
    "\n",
    "A equação [(6)](#equation-odu-mvf4) pode ser entendida como uma equação funcional, onde $ \\bar w $ é uma função desconhecida.\n",
    "\n",
    "- Vamos chamá-lo de *equação funcional do salário de reserva* (RWFE).  \n",
    "- A solução $ \\bar w $ para o RWFE é o objetivo que desejamos computar.  "
   ]
  },
  {
   "cell_type": "markdown",
   "metadata": {},
   "source": [
    "### Resolvendo o RWFE\n",
    "\n",
    "Para resolver o RWFE, primeiro mostraremos que sua solução é o ponto fixo de um [mapeamento de contração](https://en.wikipedia.org/wiki/Contraction_mapping).\n",
    "\n",
    "Para esse fim, fazemos:\n",
    "\n",
    "- $ b[0,1] $ sejam as funções de valor real delimitadas por $ [0,1] $.\n",
    "- $ \\| \\psi \\| := \\sup_{x \\in [0,1]} | \\psi(x) | $ \n",
    "\n",
    "\n",
    "Considere o operador $ Q $ mapeando $ \\psi \\in b[0,1] $ em $ Q\\psi \\in b[0,1] $ via:\n",
    "\n",
    "\n",
    "<a id='equation-odu-dq'></a>\n",
    "$$\n",
    "(Q \\psi)(\\pi)\n",
    "= (1 - \\beta) c +\n",
    "\\beta \\int \\max \\left\\{ w', \\psi \\circ q(w', \\pi) \\right\\} \\, h_{\\pi}(w') \\, dw' \\tag{7}\n",
    "$$\n",
    "\n",
    "Comparando [(6)](#equation-odu-mvf4) e [(7)](#equation-odu-dq), vemos que o conjunto de pontos fixos de $ Q $ exatamente coincide com o conjunto de soluções do RWFE.\n",
    "\n",
    "- Se $ Q \\bar w = \\bar w $ então $ \\bar w $ resolve [(6)](#equation-odu-mvf4) e vice-versa.  \n",
    "\n",
    "\n",
    "Além disso, para qualquer $ \\psi, \\phi \\in b[0,1] $, a álgebra básica e a desigualdade de triângulo para integrais nos dizem que:\n",
    "\n",
    "\n",
    "<a id='equation-odu-nt'></a>\n",
    "$$\n",
    "|(Q \\psi)(\\pi) - (Q \\phi)(\\pi)|\n",
    "\\leq \\beta \\int\n",
    "\\left|\n",
    "\\max \\left\\{w', \\psi \\circ q(w', \\pi) \\right\\} -\n",
    "\\max \\left\\{w', \\phi \\circ q(w', \\pi) \\right\\}\n",
    "\\right|\n",
    "\\, h_{\\pi}(w') \\, dw' \\tag{8}\n",
    "$$\n",
    "\n",
    "Trabalhando caso por caso, é fácil verificar que para números reais $ a, b, c $ sempre temos,\n",
    "\n",
    "\n",
    "<a id='equation-odu-nt2'></a>\n",
    "$$\n",
    "| \\max\\{a, b\\} - \\max\\{a, c\\}| \\leq | b - c| \\tag{9}\n",
    "$$\n",
    "\n",
    "Combinando [(8)](#equation-odu-nt) e [(9)](#equation-odu-nt2) produz:\n",
    "\n",
    "\n",
    "<a id='equation-odu-nt3'></a>\n",
    "$$\n",
    "|(Q \\psi)(\\pi) - (Q \\phi)(\\pi)|\n",
    "\\leq \\beta \\int\n",
    "\\left| \\psi \\circ q(w', \\pi) -  \\phi \\circ q(w', \\pi) \\right|\n",
    "\\, h_{\\pi}(w') \\, dw'\n",
    "\\leq \\beta \\| \\psi - \\phi \\| \\tag{10}\n",
    "$$\n",
    "\n",
    "Tomando o supremo sobre $ \\pi $ agora nos dá,\n",
    "\n",
    "\n",
    "<a id='equation-odu-rwc'></a>\n",
    "$$\n",
    "\\|Q \\psi - Q \\phi\\|\n",
    "\\leq \\beta \\| \\psi - \\phi \\| \\tag{11}\n",
    "$$\n",
    "\n",
    "Em outras palavras, $ Q $ é uma contração do módulo $ \\beta $ no espaço métrico completo $ (b[0,1], \\| \\cdot \\|) $.\n",
    "\n",
    "Portando:\n",
    "\n",
    "- Uma única solução $ \\bar w $ para o RWFE existe em $ b[0,1] $.  \n",
    "- $ Q^k \\psi \\to \\bar w $ uniformemente como $ k \\to \\infty $, para qualquer $ \\psi \\in b[0,1] $.  "
   ]
  },
  {
   "cell_type": "markdown",
   "metadata": {},
   "source": [
    "#### Implementatição\n",
    "\n",
    "Essas idéias são implementadas no método `.res_wage_operator()` do `odu.jl` como mostrado acima.\n",
    "\n",
    "O método corresponde à ação do operador $ Q $.\n",
    "\n",
    "O exercício a seguir solicita que você explore esses fatos para calcular uma aproximação de $ \\bar w $."
   ]
  },
  {
   "cell_type": "markdown",
   "metadata": {},
   "source": [
    "## Exercícios\n",
    "\n",
    "\n",
    "<a id='odu-ex1'></a>"
   ]
  },
  {
   "cell_type": "markdown",
   "metadata": {},
   "source": [
    "### Exercício 1\n",
    "\n",
    "Use os parâmetros padrão e o método `.res_wage_operator()` para computar uma política ótima.\n",
    "\n",
    "Seu resultado deve coincidir com o valor da política ideal [mostrado acima](#odu-pol-vfi).\n",
    "\n",
    "Tente experimentar diferentes parâmetros e confirme se a alteração na política ideal coincide com a sua intuição."
   ]
  },
  {
   "cell_type": "markdown",
   "metadata": {},
   "source": [
    "## Soluções"
   ]
  },
  {
   "cell_type": "markdown",
   "metadata": {},
   "source": [
    "### Exercício 1\n",
    "\n",
    "Esse código resolve o modelo \"Distribuição desconhecida da oferta\" repetindo uma suposição da função de salário de reserva. Você deve achar que o tempo de execução é muito menor que o da abordagem da função de valor\n",
    "`examples/odu_vfi_plots.jl`."
   ]
  },
  {
   "cell_type": "code",
   "execution_count": 6,
   "metadata": {
    "hide-output": false
   },
   "outputs": [
    {
     "name": "stdout",
     "output_type": "stream",
     "text": [
      "Compute iterate 10 with error 0.007194437603255555\n",
      "Compute iterate 20 with error 0.0004348703417873523\n",
      "Converged in 26 steps\n"
     ]
    },
    {
     "data": {
      "image/png": "[encoded data removed]"
     },
     "execution_count": 6,
     "metadata": {},
     "output_type": "execute_result"
    }
   ],
   "source": [
    "sp = SearchProblem(π_grid_size = 50)\n",
    "\n",
    "ϕ_init = ones(sp.n_π)\n",
    "f_ex1(x) = res_wage_operator(sp, x)\n",
    "w̄ = compute_fixed_point(f_ex1, ϕ_init)\n",
    "\n",
    "plot(sp.π_grid, w̄, linewidth = 2, color=:black,\n",
    "     fillrange = 0, fillalpha = 0.15, fillcolor = :blue)\n",
    "plot!(sp.π_grid, 2 * ones(length(w̄)), linewidth = 0, fillrange = w̄,\n",
    "      fillalpha = 0.12, fillcolor = :green, legend = :none)\n",
    "plot!(ylims = (0, 2), annotations = [(0.42, 1.2, \"reject\"),\n",
    "                                     (0.7, 1.8, \"accept\")])"
   ]
  },
  {
   "cell_type": "markdown",
   "metadata": {},
   "source": [
    "O próximo trecho de código não é um dos exercícios do QuantEcon - é apenas uma simulação divertida para ver qual é o efeito de uma mudança na distribuição subjacente na taxa de desemprego.\n",
    "\n",
    "Em um ponto da simulação, a distribuição se torna significativamente pior. Demora um tempo para os agentes aprenderem isso e, enquanto isso, eles são otimistas demais e recusam muitos empregos. Como resultado, a taxa de desemprego aumenta.\n",
    "\n",
    "O código leva alguns minutos para ser executado."
   ]
  },
  {
   "cell_type": "code",
   "execution_count": 7,
   "metadata": {
    "hide-output": false
   },
   "outputs": [
    {
     "name": "stdout",
     "output_type": "stream",
     "text": [
      "Compute iterate 10 with error 0.007194437603255555\n",
      "Compute iterate 20 with error 0.0004348703417873523\n",
      "Converged in 26 steps\n",
      "date = 20\n",
      "date = 40\n",
      "date = 60\n",
      "date = 80\n",
      "date = 100\n",
      "date = 120\n",
      "date = 140\n",
      "date = 160\n",
      "date = 180\n",
      "date = 200\n",
      "date = 220\n",
      "date = 240\n",
      "date = 260\n",
      "date = 280\n",
      "date = 300\n",
      "date = 320\n",
      "date = 340\n",
      "date = 360\n",
      "date = 380\n",
      "date = 400\n",
      "date = 420\n",
      "date = 440\n",
      "date = 460\n",
      "date = 480\n",
      "date = 500\n",
      "date = 520\n",
      "date = 540\n",
      "date = 560\n",
      "date = 580\n",
      "date = 600\n"
     ]
    },
    {
     "data": {
      "image/png": "[encoded data removed]"
     },
     "execution_count": 7,
     "metadata": {},
     "output_type": "execute_result"
    }
   ],
   "source": [
    "# Determinismo e objetos aleatórios.\n",
    "using Random\n",
    "Random.seed!(42)\n",
    "\n",
    "# Configure o modelo e calcule a função w̄\n",
    "sp = SearchProblem(π_grid_size = 50, F_a = 1, F_b = 1)\n",
    "ϕ_init = ones(sp.n_π)\n",
    "g(x) = res_wage_operator(sp, x)\n",
    "w̄_vals = compute_fixed_point(g, ϕ_init)\n",
    "w̄ = extrapolate(interpolate((sp.π_grid, ), w̄_vals,\n",
    "                    Gridded(Linear())), Flat())\n",
    "\n",
    "# Mantém o estado de emprego e crenças de um agente individual. \n",
    "mutable struct Agent{TF <: AbstractFloat, TI <: Integer}\n",
    "    _π::TF\n",
    "    employed::TI\n",
    "end\n",
    "\n",
    "Agent(_π=1e-3) = Agent(_π, 1)\n",
    "\n",
    "function update!(ag, H)\n",
    "    if ag.employed == 0\n",
    "        w = rand(H) * 2   # explica a escala em julia\n",
    "        if w ≥ w̄(ag._π)\n",
    "            ag.employed = 1\n",
    "        else\n",
    "            ag._π = 1.0 ./ (1 .+ ((1 - ag._π) .* sp.g(w)) ./ (ag._π * sp.f(w)))\n",
    "        end\n",
    "    end\n",
    "    nothing\n",
    "end\n",
    "\n",
    "num_agents = 5000\n",
    "separation_rate = 0.025  # Fração de postos de trabalho que terminam em cada período\n",
    "separation_num = round(Int, num_agents * separation_rate)\n",
    "agent_indices = collect(1:num_agents)\n",
    "agents = [Agent() for i=1:num_agents]\n",
    "sim_length = 600\n",
    "H = sp.G                 # Começa com a distribuição G\n",
    "change_date = 200        # Altere para F depois de muitos períodos \n",
    "unempl_rate = zeros(sim_length)\n",
    "\n",
    "for i in 1:sim_length\n",
    "    if i % 20 == 0\n",
    "        println(\"date = $i\")\n",
    "    end\n",
    "\n",
    "    if i == change_date\n",
    "        H = sp.F\n",
    "    end\n",
    "\n",
    "    # Selecione aleatoriamente agentes de separation_num e defina o status de emprego como 0 \n",
    "    shuffle!(agent_indices)\n",
    "    separation_list = agent_indices[1:separation_num]\n",
    "\n",
    "    for agent in agents[separation_list]\n",
    "        agent.employed = 0\n",
    "    end\n",
    "\n",
    "    # atualize os agentes\n",
    "    for agent in agents\n",
    "        update!(agent, H)\n",
    "    end\n",
    "    employed = Int[agent.employed for agent in agents]\n",
    "    unempl_rate[i] = 1.0 - mean(employed)\n",
    "end\n",
    "\n",
    "plot(unempl_rate, linewidth = 2, label = \"unemployment rate\")\n",
    "vline!([change_date], color = :red, label = \"\")"
   ]
  }
 ],
 "metadata": {
  "date": 1572312776.8985734,
  "download_nb": 1,
  "download_nb_path": "https://julia.quantecon.org/",
  "filename": "odu.rst",
  "filename_with_path": "dynamic_programming/odu",
  "kernelspec": {
   "display_name": "Julia 1.3.1",
   "language": "julia",
   "name": "julia-1.3"
  },
  "language_info": {
   "file_extension": ".jl",
   "mimetype": "application/julia",
   "name": "julia",
   "version": "1.3.1"
  },
  "title": "Job Search III: Search with Learning"
 },
 "nbformat": 4,
 "nbformat_minor": 4
}
