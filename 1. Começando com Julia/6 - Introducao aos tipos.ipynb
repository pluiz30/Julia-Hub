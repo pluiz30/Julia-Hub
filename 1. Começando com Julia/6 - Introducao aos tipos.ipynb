{
 "cells": [
  {
   "cell_type": "markdown",
   "metadata": {},
   "source": [
    "\n",
    "<a id='introduction-to-types'></a>\n",
    "<div id=\"qe-notebook-header\" style=\"text-align:right;\">\n",
    "        <a href=\"https://quantecon.org/\" title=\"quantecon.org\">\n",
    "                <img style=\"width:250px;display:inline;\" src=\"https://assets.quantecon.org/img/qe-menubar-logo.svg\" alt=\"QuantEcon\">\n",
    "        </a>\n",
    "</div>"
   ]
  },
  {
   "cell_type": "markdown",
   "metadata": {},
   "source": [
    "# Introdução a Tipos e Programação Genérica"
   ]
  },
  {
   "cell_type": "markdown",
   "metadata": {},
   "source": [
    "## Conteúdo\n",
    "\n",
    "- [Introdução a Tipos e Programação Genérica](#Introdução-a-Tipos-e-Programação-Genérica)  \n",
    "  - [Resumo](#Resumo)  \n",
    "  - [Encontrando e Interpretando os Tipos](#Encontrando-e-Interpretando-os-Tipos)  \n",
    "  - [A Hierarquia de Tipos](#A-Hierarquia-de-Tipos)  \n",
    "  - [Tipos de Dedução e Declaração](#Tipos-de-Dedução-e-Declaração)  \n",
    "  - [Criando Novos Tipos](#Criando-Novos-Tipos)  \n",
    "  - [Introdução ao Despacho Múltiplo](#Introdução-ao-Despacho-Múltiplo)  \n",
    "  - [Exercícios](#Exercícios)  "
   ]
  },
  {
   "cell_type": "markdown",
   "metadata": {},
   "source": [
    "> *Devidamente traduzido, revisado e adaptado do [QuantEcon](https://quantecon.org/) pelos bolsistas CNPq, Pedro Luiz H. Furtado e Jonas Aragão M. Corpes, sob supervisão do Prof. Christiano Penna, do CAEN/UFC.*"
   ]
  },
  {
   "cell_type": "markdown",
   "metadata": {},
   "source": [
    "## Resumo\n",
    "\n",
    "Em Julia, matrizes e tuples são o tipo de dados mais importante para trabalhar com dados numéricos.\n",
    "\n",
    "Nesta aula, damos mais detalhes sobre:\n",
    "\n",
    "- Tipos de Declaração.  \n",
    "- Tipos Abstratos.\n",
    "- Motoviação para Programação Genérica.  \n",
    "- Despacho Múltiplo.\n",
    "- Construindo Tipos Construidos pelo Usuário.  "
   ]
  },
  {
   "cell_type": "markdown",
   "metadata": {},
   "source": [
    "### Configuração"
   ]
  },
  {
   "cell_type": "code",
   "execution_count": 1,
   "metadata": {
    "hide-output": true
   },
   "outputs": [],
   "source": [
    "using InstantiateFromURL\n",
    "github_project(\"QuantEcon/quantecon-notebooks-julia\", version = \"0.5.0\")\n",
    "# github_project(\"QuantEcon/quantecon-notebooks-julia\", version = \"0.5.0\", instantiate = true) # uncomment to force package installation"
   ]
  },
  {
   "cell_type": "code",
   "execution_count": 2,
   "metadata": {
    "hide-output": false
   },
   "outputs": [],
   "source": [
    "using LinearAlgebra, Statistics"
   ]
  },
  {
   "cell_type": "markdown",
   "metadata": {},
   "source": [
    "## Encontrando e Interpretando os Tipos"
   ]
  },
  {
   "cell_type": "markdown",
   "metadata": {},
   "source": [
    "### Encontrando o Tipo\n",
    "\n",
    "Como vimos nas aulas anteriores, em Julia todos os valores têm um tipo, que pode ser consultado usando a função `typeof`."
   ]
  },
  {
   "cell_type": "code",
   "execution_count": 3,
   "metadata": {
    "hide-output": false
   },
   "outputs": [
    {
     "name": "stdout",
     "output_type": "stream",
     "text": [
      "typeof(1) = Int64\n",
      "typeof(1.0) = Float64\n"
     ]
    }
   ],
   "source": [
    "@show typeof(1)\n",
    "@show typeof(1.0);"
   ]
  },
  {
   "cell_type": "markdown",
   "metadata": {},
   "source": [
    "Os valores codificados `1` e `1.0` são chamados literais em uma linguagem de programação, e o compilador deduz seus tipos ( `Int64`e `Float64` respectivamente no exemplo acima).\n",
    "\n",
    "Você também pode consultar o tipo de um valor."
   ]
  },
  {
   "cell_type": "code",
   "execution_count": 4,
   "metadata": {
    "hide-output": false
   },
   "outputs": [
    {
     "data": {
      "text/plain": [
       "Int64"
      ]
     },
     "execution_count": 4,
     "metadata": {},
     "output_type": "execute_result"
    }
   ],
   "source": [
    "x = 1\n",
    "typeof(x)"
   ]
  },
  {
   "cell_type": "markdown",
   "metadata": {},
   "source": [
    "O nome `x` liga ao valor `1`, criando como um literal."
   ]
  },
  {
   "cell_type": "markdown",
   "metadata": {},
   "source": [
    "### Tipos Paramétricos\n",
    "\n",
    "(Veja [a documentação de tipos paramétricos](https://docs.julialang.org/en/v1/manual/types/#Parametric-Types-1))\n",
    "\n",
    "Os próximos dois tipos usam a notação de colchete para expressar o fato de serem *paramétricos*."
   ]
  },
  {
   "cell_type": "code",
   "execution_count": 5,
   "metadata": {
    "hide-output": false
   },
   "outputs": [
    {
     "name": "stdout",
     "output_type": "stream",
     "text": [
      "typeof(1.0 + 1im) = Complex{Float64}\n",
      "typeof(ones(2, 2)) = Array{Float64,2}\n"
     ]
    }
   ],
   "source": [
    "@show typeof(1.0 + 1im)\n",
    "@show typeof(ones(2, 2));"
   ]
  },
  {
   "cell_type": "markdown",
   "metadata": {},
   "source": [
    "Iremos aprender mais detalhes sobre [programação genérica](https://lectures.quantecon.org/more_julia/generic_programming.html) mais tarde, mas a chave é interpretar os colchetes como parâmetros trocáveis para um determinado tipo.\n",
    "\n",
    "Por exemplo, `Array{Float64, 2}` pode ser lido como:\n",
    "\n",
    "1. `Array` é um tipo paramétrico que representa uma matriz densa, em que o primeiro parâmetro é o tipo armazenado e o segundo é o número de dimensões.\n",
    "1. `Float64` é um tipo concreto que declara que os dados armazenados terão um tamanho específico de ponto flutuante.\n",
    "1. `2` é o número de dimensões dessa matriz. \n",
    "\n",
    "\n",
    "Um tipo concreto é aquele em que os valores podem ser criados pelo compilador (equivalentemente, um que pode ser o resultado de`typeof(x)` para algum objeto `x`).\n",
    "\n",
    "Valores de um **tipo paramétrico** não podem ser construídos concretamente, a menos que todos os parâmetros sejam fornecidos (eles próprios com tipos de concreto).\n",
    "\n",
    "No caso de `Complex{Float64}`\n",
    "\n",
    "1. `Complex`  é um tipo de número complexo abstrato.\n",
    "1. `Float64` é um tipo concreto que declara o que o tipo das partes reais e imaginárias do valor deve armazenar. \n",
    "\n",
    "\n",
    "Outro tipo para considerar é o `Tuple` e `NamedTuple`."
   ]
  },
  {
   "cell_type": "code",
   "execution_count": 6,
   "metadata": {
    "hide-output": false
   },
   "outputs": [
    {
     "name": "stdout",
     "output_type": "stream",
     "text": [
      "typeof(x) = Tuple{Int64,Float64,String}\n"
     ]
    },
    {
     "data": {
      "text/plain": [
       "Tuple{Int64,Float64,String}"
      ]
     },
     "execution_count": 6,
     "metadata": {},
     "output_type": "execute_result"
    }
   ],
   "source": [
    "x = (1, 2.0, \"test\")\n",
    "@show typeof(x)"
   ]
  },
  {
   "cell_type": "markdown",
   "metadata": {},
   "source": [
    "Nesse caso, `Tuple` é o tipo paramétrico e os três parâmetros são uma lista dos tipos de cada valor.\n",
    "\n",
    "Para um `Named Tuple`:"
   ]
  },
  {
   "cell_type": "code",
   "execution_count": 7,
   "metadata": {
    "hide-output": false
   },
   "outputs": [
    {
     "name": "stdout",
     "output_type": "stream",
     "text": [
      "typeof(x) = NamedTuple{(:a, :b, :c),Tuple{Int64,Float64,String}}\n"
     ]
    },
    {
     "data": {
      "text/plain": [
       "NamedTuple{(:a, :b, :c),Tuple{Int64,Float64,String}}"
      ]
     },
     "execution_count": 7,
     "metadata": {},
     "output_type": "execute_result"
    }
   ],
   "source": [
    "x = (a = 1, b = 2.0, c = \"test\")\n",
    "@show typeof(x)"
   ]
  },
  {
   "cell_type": "markdown",
   "metadata": {},
   "source": [
    "O tipo paramétrico `NamedTuple` contém dois parâmetros: primeiro uma lista de nomes para cada campo do tuple e depois o tipo subjacente `Tuple`  para armazenar os valores.\n",
    "\n",
    "Sempre que um valor é prefixado por dois pontos, como `:a` acima, o tipo leva a `Symbol`- um tipo especial de sequência usada pelo compilador."
   ]
  },
  {
   "cell_type": "code",
   "execution_count": 8,
   "metadata": {
    "hide-output": false
   },
   "outputs": [
    {
     "data": {
      "text/plain": [
       "Symbol"
      ]
     },
     "execution_count": 8,
     "metadata": {},
     "output_type": "execute_result"
    }
   ],
   "source": [
    "typeof(:a)"
   ]
  },
  {
   "cell_type": "markdown",
   "metadata": {},
   "source": [
    "**Nota**: Note que, por convenção, nomes de tipo usar CamelCase - `Array`, `AbstractArray`, etc."
   ]
  },
  {
   "cell_type": "markdown",
   "metadata": {},
   "source": [
    "### Variáveis, Tipos, e Valores\n",
    "\n",
    "Como variáveis e funções são minúsculas por convenção, isso pode ser usado para identificar facilmente tipos ao ler código e saídas.\n",
    "\n",
    "Depois de atribuir um nome de variável a um valor, podemos consultar o tipo do valor por meio do nome."
   ]
  },
  {
   "cell_type": "code",
   "execution_count": 9,
   "metadata": {
    "hide-output": false
   },
   "outputs": [
    {
     "name": "stdout",
     "output_type": "stream",
     "text": [
      "typeof(x) = Int64\n"
     ]
    }
   ],
   "source": [
    "x = 42\n",
    "@show typeof(x);"
   ]
  },
  {
   "cell_type": "markdown",
   "metadata": {},
   "source": [
    "Assim, `x` é apenas um símbolo vinculado a um valor do tipo `Int64`.\n",
    "\n",
    "Podemos *religar* o símbolo `x` a qualquer outro valor, do mesmo tipo ou de outra forma."
   ]
  },
  {
   "cell_type": "code",
   "execution_count": 10,
   "metadata": {
    "hide-output": false
   },
   "outputs": [
    {
     "data": {
      "text/plain": [
       "42.0"
      ]
     },
     "execution_count": 10,
     "metadata": {},
     "output_type": "execute_result"
    }
   ],
   "source": [
    "x = 42.0"
   ]
  },
  {
   "cell_type": "markdown",
   "metadata": {},
   "source": [
    "Agora `x` \"aponta para\" outro valor, do tipo `Float64`."
   ]
  },
  {
   "cell_type": "code",
   "execution_count": 11,
   "metadata": {
    "hide-output": false
   },
   "outputs": [
    {
     "data": {
      "text/plain": [
       "Float64"
      ]
     },
     "execution_count": 11,
     "metadata": {},
     "output_type": "execute_result"
    }
   ],
   "source": [
    "typeof(x)"
   ]
  },
  {
   "cell_type": "markdown",
   "metadata": {},
   "source": [
    "No entanto, além de algumas exceções notáveis (por exemplo,`nothing` usadas no [tratamento de erros](https://lectures.quantecon.org/fundamental_types.html#error-handling)),\n",
    "geralmente é um sintoma de código mal organizado e dificulta a \n",
    "[interferência de tipos](#type-inference) para o compilador."
   ]
  },
  {
   "cell_type": "markdown",
   "metadata": {},
   "source": [
    "## A Hierarquia de Tipos\n",
    "\n",
    "Vamos discutir como os tipos são organizados."
   ]
  },
  {
   "cell_type": "markdown",
   "metadata": {},
   "source": [
    "### Abstratos vs Tipos Concretos\n",
    "\n",
    "(Veja a [documentação dos tipos abstratos](https://docs.julialang.org/en/v1/manual/types/#Abstract-Types-1)).\n",
    "\n",
    "Até este ponto, a maioria dos tipos com os quais trabalhamos (por exemplo, `Float64`, `Int64`) são exemplos de **tipos concretos**.\n",
    "\n",
    "Tipos concretos são tipos que podemos *instanciar* - isto é, emparelhar com dados na memória.\n",
    "\n",
    "Vamos agora examinar **tipos abstratos** que não pode ser instanciado (por exemplo, `Real`, `AbstractFloat`).\n",
    "\n",
    "Por exemplo, embora você nunca tenha um `Real` número diretamente na memória, os tipos abstratos nos ajudam a organizar e trabalhar com tipos concretos relacionados."
   ]
  },
  {
   "cell_type": "markdown",
   "metadata": {},
   "source": [
    "### Subtipos e Supertipos \n",
    "\n",
    "Como exatamente os tipos abstratos organizam ou relacionam diferentes tipos concretos?\n",
    "\n",
    "Na especificação da linguagem Julia, os tipos formam uma hierarquia.\n",
    "\n",
    "Você pode verificar se um tipo é um subtipo de outro com o `<:` operador."
   ]
  },
  {
   "cell_type": "code",
   "execution_count": 12,
   "metadata": {
    "hide-output": false
   },
   "outputs": [
    {
     "name": "stdout",
     "output_type": "stream",
     "text": [
      "Float64 <: Real = true\n",
      "Int64 <: Real = true\n",
      "Complex{Float64} <: Real = false\n",
      "Array <: Real = false\n"
     ]
    }
   ],
   "source": [
    "@show Float64 <: Real\n",
    "@show Int64 <: Real\n",
    "@show Complex{Float64} <: Real\n",
    "@show Array <: Real;"
   ]
  },
  {
   "cell_type": "markdown",
   "metadata": {},
   "source": [
    "Acima, ambos `Float64` e `Int64` são **subtipos** de `Real`, enquanto os números `Complexos` não são.\n",
    "\n",
    "Eles são, no entanto, todos os subtipos de `Number`."
   ]
  },
  {
   "cell_type": "code",
   "execution_count": 13,
   "metadata": {
    "hide-output": false
   },
   "outputs": [
    {
     "name": "stdout",
     "output_type": "stream",
     "text": [
      "Real <: Number = true\n",
      "Float64 <: Number = true\n",
      "Int64 <: Number = true\n",
      "Complex{Float64} <: Number = true\n"
     ]
    }
   ],
   "source": [
    "@show Real <: Number\n",
    "@show Float64 <: Number\n",
    "@show Int64 <: Number\n",
    "@show Complex{Float64} <: Number;"
   ]
  },
  {
   "cell_type": "markdown",
   "metadata": {},
   "source": [
    "`Number` por sua vez, é um subtipo de `Any`, que é o pai de todos os tipos."
   ]
  },
  {
   "cell_type": "code",
   "execution_count": 14,
   "metadata": {
    "hide-output": false
   },
   "outputs": [
    {
     "data": {
      "text/plain": [
       "true"
      ]
     },
     "execution_count": 14,
     "metadata": {},
     "output_type": "execute_result"
    }
   ],
   "source": [
    "Number <: Any"
   ]
  },
  {
   "cell_type": "markdown",
   "metadata": {},
   "source": [
    "Em particular, a árvore de tipos é organizada `Any` no topo e os tipos concretos na parte inferior.\n",
    "\n",
    "Na verdade, nunca vemos *instâncias* de tipos abstratos (ou seja, `typeof(x)` nunca retorna um tipo abstrato).\n",
    "\n",
    "O objetivo dos tipos abstratos é categorizar os tipos concretos, bem como outros tipos abstratos que ficam abaixo deles na hierarquia.\n",
    "\n",
    "Existem algumas funções adicionais para ajudá-lo a explorar a hierarquia de tipos, como a `show_supertypes` que sobe na árvore de tipos `Any` para um determinado tipo."
   ]
  },
  {
   "cell_type": "code",
   "execution_count": 15,
   "metadata": {
    "hide-output": false
   },
   "outputs": [
    {
     "name": "stdout",
     "output_type": "stream",
     "text": [
      "Int64 <: Signed <: Integer <: Real <: Number <: Any"
     ]
    }
   ],
   "source": [
    "using Base: show_supertypes  # importa a função do pacote `Base`\n",
    "\n",
    "show_supertypes(Int64)"
   ]
  },
  {
   "cell_type": "markdown",
   "metadata": {},
   "source": [
    "E o `subtypes` que fornece uma lista dos subtipos disponíveis para qualquer pacote ou código atualmente carregado."
   ]
  },
  {
   "cell_type": "code",
   "execution_count": 16,
   "metadata": {
    "hide-output": false
   },
   "outputs": [
    {
     "name": "stdout",
     "output_type": "stream",
     "text": [
      "subtypes(Real) = Any[AbstractFloat, AbstractIrrational, Integer, Rational]\n",
      "subtypes(AbstractFloat) = Any[BigFloat, Float16, Float32, Float64]\n"
     ]
    }
   ],
   "source": [
    "@show subtypes(Real)\n",
    "@show subtypes(AbstractFloat);"
   ]
  },
  {
   "cell_type": "markdown",
   "metadata": {},
   "source": [
    "\n",
    "<a id='type-inference'></a>"
   ]
  },
  {
   "cell_type": "markdown",
   "metadata": {},
   "source": [
    "## Tipos de Dedução e Declaração\n",
    "\n",
    "Discutiremos isso em detalhes em [programação genérica](https://lectures.quantecon.org/more_julia/generic_programming.html),\n",
    "mas muitos dos ganhos de desempenho e generalidade de notação de Julia vêm de seu sistema de tipos.\n",
    "\n",
    "Por exemplo:"
   ]
  },
  {
   "cell_type": "code",
   "execution_count": 17,
   "metadata": {
    "hide-output": false
   },
   "outputs": [
    {
     "name": "stdout",
     "output_type": "stream",
     "text": [
      "typeof(x1) = Array{Int64,1}\n",
      "typeof(x2) = Array{Float64,1}\n"
     ]
    },
    {
     "data": {
      "text/plain": [
       "Array{Float64,1}"
      ]
     },
     "execution_count": 17,
     "metadata": {},
     "output_type": "execute_result"
    }
   ],
   "source": [
    "x1 = [1, 2, 3]\n",
    "x2 = [1.0, 2.0, 3.0]\n",
    "\n",
    "@show typeof(x1)\n",
    "@show typeof(x2)"
   ]
  },
  {
   "cell_type": "markdown",
   "metadata": {},
   "source": [
    "Eles retornam `Array{Int64,1}` e `Array{Float64,1}`, respectivamente, que o compilador é capaz de deduzir do lado direito das expressões.\n",
    "\n",
    "Dadas as informações sobre o tipo, o compilador pode trabalhar com a sequência de expressões para inferir outros tipos."
   ]
  },
  {
   "cell_type": "code",
   "execution_count": 18,
   "metadata": {
    "hide-output": false
   },
   "outputs": [
    {
     "data": {
      "text/plain": [
       "3-element Array{Int64,1}:\n",
       " 2\n",
       " 4\n",
       " 6"
      ]
     },
     "execution_count": 18,
     "metadata": {},
     "output_type": "execute_result"
    }
   ],
   "source": [
    "f(y) = 2y # define alguma função\n",
    "\n",
    "\n",
    "x = [1, 2, 3]\n",
    "z = f(x) # chama com uma matriz inteira - o compilador deduz o tipo"
   ]
  },
  {
   "cell_type": "markdown",
   "metadata": {},
   "source": [
    "### Boas práticas para funções e tipos de variáveis \n",
    "\n",
    "Para manter muitos dos benefícios de Julia, às vezes você deseja garantir que o compilador sempre possa deduzir um único tipo de qualquer função ou expressão.\n",
    "\n",
    "Um exemplo de má prática é usar uma matriz para armazenar tipos não relacionados."
   ]
  },
  {
   "cell_type": "code",
   "execution_count": 19,
   "metadata": {
    "hide-output": false
   },
   "outputs": [
    {
     "data": {
      "text/plain": [
       "3-element Array{Any,1}:\n",
       " 1.0    \n",
       "  \"test\"\n",
       " 1      "
      ]
     },
     "execution_count": 19,
     "metadata": {},
     "output_type": "execute_result"
    }
   ],
   "source": [
    "x = [1.0, \"test\", 1]  # estilo tipicamente ruim"
   ]
  },
  {
   "cell_type": "markdown",
   "metadata": {},
   "source": [
    "O tipo dessa matriz é `Array{Any,1}`, onde `Any` significa que o compilador determinou que qualquer tipo em Julia válido pode ser adicionado à matriz.\n",
    "\n",
    "Embora ocasionalmente útil, isso deve ser evitado sempre que possível em código sensível ao desempenho.\n",
    "\n",
    "O outro lugar em que isso pode surgir é na declaração de funções.\n",
    "\n",
    "Como exemplo, considere uma função que retorne tipos diferentes, dependendo dos argumentos."
   ]
  },
  {
   "cell_type": "code",
   "execution_count": 20,
   "metadata": {
    "hide-output": false
   },
   "outputs": [
    {
     "name": "stdout",
     "output_type": "stream",
     "text": [
      "f(1) = 1.0\n",
      "f(-1) = 0\n"
     ]
    }
   ],
   "source": [
    "function f(x)\n",
    "    if x > 0\n",
    "        return 1.0\n",
    "    else\n",
    "        return 0  # provavelmente significa `0.0`\n",
    "    end\n",
    "end\n",
    "\n",
    "@show f(1)\n",
    "@show f(-1);"
   ]
  },
  {
   "cell_type": "markdown",
   "metadata": {},
   "source": [
    "A questão aqui é relativamente sutil: `1.0` é um ponto flutuante, enquanto `0` é um número inteiro.\n",
    "\n",
    "Consequentemente, dado o tipo de `x`, o compilador geralmente não pode determinar qual tipo a função retornará.\n",
    "\n",
    "Esse problema, chamado **estabilidade de tipo**, está no centro da maioria das considerações de desempenho de Julia.\n",
    "\n",
    "Felizmente, tentar garantir que as funções retornem os mesmos tipos também é geralmente consistente com código simples e claro."
   ]
  },
  {
   "cell_type": "markdown",
   "metadata": {},
   "source": [
    "### Declaração Manual de Funções e Tipos de Variáveis\n",
    "\n",
    "(Veja [a documentação das declarações de tipos](https://docs.julialang.org/en/v1/manual/types/#Type-Declarations-1)).\n",
    "\n",
    "Você notará que nas notas da aula nunca declaramos nenhum tipo diretamente.\n",
    "\n",
    "Isso é intencional tanto para exposição quanto como uma prática recomendada para o uso de pacotes (em vez de escrever novos pacotes, onde declarar esses tipos é muito importante).\n",
    "\n",
    "Isso também contrasta com alguns dos códigos de exemplo que você verá em outras fontes de Julia, que você precisará ler.\n",
    "\n",
    "Para dar um exemplo da declaração de tipos, os seguintes são equivalentes:"
   ]
  },
  {
   "cell_type": "code",
   "execution_count": 21,
   "metadata": {
    "hide-output": false
   },
   "outputs": [
    {
     "data": {
      "text/plain": [
       "2-element Array{Float64,1}:\n",
       "  9.1\n",
       " 14.3"
      ]
     },
     "execution_count": 21,
     "metadata": {},
     "output_type": "execute_result"
    }
   ],
   "source": [
    "function f(x, A)\n",
    "    b = [5.0, 6.0]\n",
    "    return A * x .+ b\n",
    "end\n",
    "\n",
    "val = f([0.1, 2.0], [1.0 2.0; 3.0 4.0])"
   ]
  },
  {
   "cell_type": "code",
   "execution_count": 22,
   "metadata": {
    "hide-output": false
   },
   "outputs": [
    {
     "data": {
      "text/plain": [
       "2-element Array{Float64,1}:\n",
       "  9.1\n",
       " 14.3"
      ]
     },
     "execution_count": 22,
     "metadata": {},
     "output_type": "execute_result"
    }
   ],
   "source": [
    "function f2(x::Vector{Float64}, A::Matrix{Float64})::Vector{Float64}\n",
    "    # argumentos e tipos de retorno\n",
    "    b::Vector{Float64} = [5.0, 6.0]\n",
    "    return A * x .+ b\n",
    "end\n",
    "\n",
    "val = f2([0.1; 2.0], [1.0 2.0; 3.0 4.0])"
   ]
  },
  {
   "cell_type": "markdown",
   "metadata": {},
   "source": [
    "Embora declarar os tipos seja detalhado, ele geraria um código mais rápido?\n",
    "\n",
    "A resposta é quase nunca.\n",
    "\n",
    "Além disso, pode levar a confusão e ineficiência, pois muitas coisas que se comportam como vetores e matrizes não são `Matrix{Float64}` e `Vector{Float64}`.\n",
    "\n",
    "Aqui, a primeira linha funciona e a segunda linha falha:"
   ]
  },
  {
   "cell_type": "code",
   "execution_count": 23,
   "metadata": {
    "hide-output": false
   },
   "outputs": [
    {
     "name": "stdout",
     "output_type": "stream",
     "text": [
      "f([0.1; 2.0], [1 2; 3 4]) = [9.1, 14.3]\n",
      "f([0.1; 2.0], Diagonal([1.0, 2.0])) = [5.1, 10.0]\n"
     ]
    },
    {
     "data": {
      "text/plain": [
       "2-element Array{Float64,1}:\n",
       "  5.1\n",
       " 10.0"
      ]
     },
     "execution_count": 23,
     "metadata": {},
     "output_type": "execute_result"
    }
   ],
   "source": [
    "@show f([0.1; 2.0], [1 2; 3 4])\n",
    "@show f([0.1; 2.0], Diagonal([1.0, 2.0]))\n",
    "\n",
    "# f2([0.1; 2.0], [1 2; 3 4]) # não é um `Float64`\n",
    "# f2([0.1; 2.0], Diagonal([1.0, 2.0])) # não é um `Matrix{Float64}`"
   ]
  },
  {
   "cell_type": "markdown",
   "metadata": {},
   "source": [
    "## Criando Novos Tipos\n",
    "\n",
    "(Veja [a documentação de declaração de tipos](https://docs.julialang.org/en/v1/manual/types/#Type-Declarations-1)).\n",
    "\n",
    "Até agora, usamos `NamedTuple` para coletar conjuntos de parâmetros para nossos modelos e exemplos.\n",
    "\n",
    "Eles são úteis para manter valores para os parâmetros do modelo, mas você precisará usar o código que cria seus próprios tipos."
   ]
  },
  {
   "cell_type": "markdown",
   "metadata": {},
   "source": [
    "### Sintaxe Para Criar Tipos Concretos\n",
    "\n",
    "(Veja a [documentação dos tipos compostos](https://docs.julialang.org/en/v1/manual/types/#Composite-Types-1)).\n",
    "\n",
    "Embora existam outros tipos de tipos, quase sempre usamos a palavra-chave `struct`, que é para criação de tipos de dados compostos.\n",
    "\n",
    "- “Composto” refere-se ao fato de que os tipos de dados em questão podem ser usados como coleção de campos nomeados.\n",
    "- A terminologia `struct` é usada em várias linguagens de programação para se referir a tipos de dados compostos.  \n",
    "\n",
    "\n",
    "Vamos começar com um exemplo trivial em que o `struct` que construímos tem campos nomeados `a, b, c,` não digitados."
   ]
  },
  {
   "cell_type": "code",
   "execution_count": 24,
   "metadata": {
    "hide-output": false
   },
   "outputs": [],
   "source": [
    "struct FooNotTyped  # imutável por padrão, use `mutable struct` caso contrário, \n",
    "    a \n",
    "    b\n",
    "    c\n",
    "end"
   ]
  },
  {
   "cell_type": "markdown",
   "metadata": {},
   "source": [
    "E outro onde os tipos de campos são escolhidos."
   ]
  },
  {
   "cell_type": "code",
   "execution_count": 25,
   "metadata": {
    "hide-output": false
   },
   "outputs": [],
   "source": [
    "struct Foo\n",
    "    a::Float64\n",
    "    b::Int64\n",
    "    c::Vector{Float64}\n",
    "end"
   ]
  },
  {
   "cell_type": "markdown",
   "metadata": {},
   "source": [
    "Nos dois casos, o compilador gera uma função para criar novos valores do tipo de dados, chamado de \"construtor\".\n",
    "\n",
    "Tem o mesmo nome que o tipo de dados, mas usa a noção de chamada de função."
   ]
  },
  {
   "cell_type": "code",
   "execution_count": 26,
   "metadata": {
    "hide-output": false
   },
   "outputs": [
    {
     "name": "stdout",
     "output_type": "stream",
     "text": [
      "typeof(foo) = Foo\n",
      "foo.a = 2.0\n",
      "foo.b = 3\n",
      "foo.c = [1.0, 2.0, 3.0]\n"
     ]
    }
   ],
   "source": [
    "foo_nt = FooNotTyped(2.0, 3, [1.0, 2.0, 3.0])  # novo `FooNotTyped`\n",
    "foo = Foo(2.0, 3, [1.0, 2.0, 3.0]) # cria um novo `Foo`\n",
    "\n",
    "@show typeof(foo)\n",
    "@show foo.a       #  obtém o valor de um campo \n",
    "@show foo.b\n",
    "@show foo.c;\n",
    "\n",
    "# foo.a = 2.0     # falha porque é imutável"
   ]
  },
  {
   "cell_type": "markdown",
   "metadata": {},
   "source": [
    "Você observará duas diferenças acima para a criação de um `struct` em comparação com o uso de `NamedTuple`.\n",
    "\n",
    "- Tipos são declarados para os campos, em vez de inferidos pelo compilador.\n",
    "- A construção de uma nova instância não possui parâmetros nomeados para evitar uso indevido acidental se a ordem errada for escolhida."
   ]
  },
  {
   "cell_type": "markdown",
   "metadata": {},
   "source": [
    "### Problemas com Declaração de Tipos\n",
    "\n",
    "Foi necessário declarar manualmente os tipos `a::Float64` na estrutura acima?\n",
    "\n",
    "A resposta em prática, geralmente é sim.\n",
    "\n",
    "Sem uma declaração de tipo, o compilador é incapaz de gerar um código eficiente, e o uso de um `struct` declarado sem tipos pode diminuir o desempenho em ordem de magnitude.\n",
    "\n",
    "Além disso, é muito fácil usar o tipo errado ou restringir desnecessariamente os tipos.\n",
    "\n",
    "O primeiro exemplo, que geralmente é de tão baixo desempenho quanto nenhuma declaração de tipos, é declarar acidentalmente com um tipo abstrato."
   ]
  },
  {
   "cell_type": "code",
   "execution_count": 27,
   "metadata": {
    "hide-output": false
   },
   "outputs": [],
   "source": [
    "struct Foo2\n",
    "    a::Float64\n",
    "    b::Integer  # Ruim! não é um tipo concreto\n",
    "    c::Vector{Real}  # Ruim! não é um tipo concreto\n",
    "end"
   ]
  },
  {
   "cell_type": "markdown",
   "metadata": {},
   "source": [
    "O segundo problema é que, ao escolher um tipo (como no `Foo` acima), você pode restringir desnecessariamente o que é permitido."
   ]
  },
  {
   "cell_type": "code",
   "execution_count": 28,
   "metadata": {
    "hide-output": false
   },
   "outputs": [
    {
     "name": "stdout",
     "output_type": "stream",
     "text": [
      "f(foo) = 11.0\n",
      "f(foo_nt) = 11.0\n"
     ]
    }
   ],
   "source": [
    "f(x) = x.a + x.b + sum(x.c) # use o tipo\n",
    "a = 2.0\n",
    "b = 3\n",
    "c = [1.0, 2.0, 3.0]\n",
    "foo = Foo(a, b, c)\n",
    "@show f(foo)   # chamar com o foo, sem problema\n",
    "\n",
    "# algum outro digitado para os valores\n",
    "a = 2   # não é um ponto flutuante mas `f()` funcionaria\n",
    "b = 3\n",
    "c = [1.0, 2.0, 3.0]'   # transpose is not a `Vector` but `f()` would work\n",
    "# foo = Foo(a, b, c)   # falha para compilar\n",
    "\n",
    "# trabalha com a versão `NotTyped`, com baixo desempenho\n",
    "foo_nt = FooNotTyped(a, b, c)\n",
    "@show f(foo_nt);"
   ]
  },
  {
   "cell_type": "markdown",
   "metadata": {},
   "source": [
    "### Declarando Tipos Paramétricos (Avançado)\n",
    "\n",
    "(veja [a documentação dos tipos paramétricos](https://docs.julialang.org/en/v1/manual/types/#Parametric-Types-1)).\n",
    "\n",
    "Motivado pelo acima, podemos criar um tipo que pode se adaptar a conter campos de diferentes tipos."
   ]
  },
  {
   "cell_type": "code",
   "execution_count": 29,
   "metadata": {
    "hide-output": false
   },
   "outputs": [
    {
     "name": "stdout",
     "output_type": "stream",
     "text": [
      "typeof(foo) = Foo3{Int64,Int64,Adjoint{Float64,Array{Float64,1}}}\n"
     ]
    },
    {
     "data": {
      "text/plain": [
       "11.0"
      ]
     },
     "execution_count": 29,
     "metadata": {},
     "output_type": "execute_result"
    }
   ],
   "source": [
    "struct Foo3{T1, T2, T3}\n",
    "    a::T1   # pode ser algum tipo\n",
    "    b::T2\n",
    "    c::T3\n",
    "end\n",
    "\n",
    "# funciona bem\n",
    "a = 2\n",
    "b = 3\n",
    "c = [1.0, 2.0, 3.0]'    # transposta não é `Vetor` mas `f()` funcionaria\n",
    "foo = Foo3(a, b, c)\n",
    "@show typeof(foo)\n",
    "f(foo)"
   ]
  },
  {
   "cell_type": "markdown",
   "metadata": {},
   "source": [
    "Obviamente, isso provavelmente é muito flexível e a função `f` pode não funcionar em um conjunto arbitrário de `a, b, c`.\n",
    "\n",
    "Você pode restringir os tipos com base no tipo abstrato usando o operador `<:`."
   ]
  },
  {
   "cell_type": "code",
   "execution_count": 30,
   "metadata": {
    "hide-output": false
   },
   "outputs": [
    {
     "name": "stdout",
     "output_type": "stream",
     "text": [
      "typeof(foo) = Foo4{Int64,Int64,Adjoint{Float64,Array{Float64,1}}}\n"
     ]
    },
    {
     "data": {
      "text/plain": [
       "11.0"
      ]
     },
     "execution_count": 30,
     "metadata": {},
     "output_type": "execute_result"
    }
   ],
   "source": [
    "struct Foo4{T1 <: Real, T2 <: Real, T3 <: AbstractVecOrMat{<:Real}}\n",
    "    a::T1\n",
    "    b::T2\n",
    "    c::T3  # deve verificar as dimensões e \n",
    "end\n",
    "foo = Foo4(a, b, c)  # sem problema, e alta performance\n",
    "@show typeof(foo)\n",
    "f(foo)"
   ]
  },
  {
   "cell_type": "markdown",
   "metadata": {},
   "source": [
    "Isso garante que:\n",
    "\n",
    "- `a` e `b` são subtipos de `Real`, e `+` na definição de `f` funciona. \n",
    "- `c` é uma matriz abstrata unidimensional de valores `Real`.\n",
    "\n",
    "\n",
    "O código funciona e tem desempenho equivalente a um `NamedTuple`, mas é mais detalhado e propenso a erros."
   ]
  },
  {
   "cell_type": "markdown",
   "metadata": {},
   "source": [
    "### Construtores de Argumentos de Palavras-Chave (avançado)\n",
    "\n",
    "Não há como evitar o aprendizado de tipos paramétricos para obter código de alto desempenho.\n",
    "\n",
    "No entanto, o outro problema em que os argumentos do construtor são propensos a erros, pode ser corrigido com `Parameters.jl` da biblioteca."
   ]
  },
  {
   "cell_type": "code",
   "execution_count": 31,
   "metadata": {
    "hide-output": false
   },
   "outputs": [
    {
     "name": "stdout",
     "output_type": "stream",
     "text": [
      "foo = Foo5\n",
      "  a: Float64 0.1\n",
      "  b: Int64 2\n",
      "  c: Array{Float64}((3,)) [1.0, 2.0, 3.0]\n",
      "\n",
      "foo2 = Foo5\n",
      "  a: Float64 2.0\n",
      "  b: Int64 2\n",
      "  c: Array{Float64}((3,)) [1.0, 2.0, 3.0]\n",
      "\n"
     ]
    },
    {
     "data": {
      "text/plain": [
       "8.1"
      ]
     },
     "execution_count": 31,
     "metadata": {},
     "output_type": "execute_result"
    }
   ],
   "source": [
    "using Parameters\n",
    "\n",
    "@with_kw  struct Foo5\n",
    "    a::Float64 = 2.0     # adiciona valor padrão \n",
    "    b::Int64\n",
    "    c::Vector{Float64}\n",
    "end\n",
    "\n",
    "foo = Foo5(a = 0.1, b = 2, c = [1.0, 2.0, 3.0])\n",
    "foo2 = Foo5(c = [1.0, 2.0, 3.0], b = 2)  #  reorganizar a ordem, usa valores padrão\n",
    "\n",
    "@show foo\n",
    "@show foo2\n",
    "\n",
    "function f(x)\n",
    "    @unpack a, b, c = x     # pode usar `@ unpack 'em qualquer estrutura\n",
    "    return a + b + sum(c)\n",
    "end\n",
    "\n",
    "f(foo)"
   ]
  },
  {
   "cell_type": "markdown",
   "metadata": {},
   "source": [
    "\n",
    "<a id='generic-tips-tricks'></a>"
   ]
  },
  {
   "cell_type": "markdown",
   "metadata": {},
   "source": [
    "### Dicas e truques para escrever funções genéricas\n",
    "\n",
    "Conforme discutido nas seções anteriores, há uma grande vantagem em nunca declarar um tipo, a menos que seja absolutamente necessário.\n",
    "\n",
    "O principal local onde é necessário é designar o código em torno de [múltiplos despachos](#intro-multiple-dispatch).\n",
    "\n",
    "Se você for cuidadoso ao escrever código que não assuma desnecessariamente tipos, obterá um desempenho mais alto e permitirá o uso contínuo de vários pacotes da bibliotecas poderosos, como:\n",
    "[diferenciação automática](https://github.com/JuliaDiff/ForwardDiff.jl),\n",
    "[matrizes estáticas](https://github.com/JuliaArrays/StaticArrays.jl),\n",
    "[GPUs](https://github.com/JuliaGPU/CuArrays.jl),\n",
    "[aritimética de intervalo e localização de raiz](https://github.com/JuliaIntervals/IntervalRootFinding.jl),\n",
    "[números de precisão arbitrária](https://docs.julialang.org/en/v1/manual/integers-and-floating-point-numbers/index.html#Arbitrary-Precision-Arithmetic-1),\n",
    "e muitos mais pacotes - incluindo aqueles que ainda nem foram escritos.\n",
    "\n",
    "Alguns padrões simples de programação garantem que isso seja possível.\n",
    "\n",
    "- Não declare tipos ao declarar variáveis ou funções, a menos que necessário."
   ]
  },
  {
   "cell_type": "code",
   "execution_count": 32,
   "metadata": {
    "hide-output": false
   },
   "outputs": [
    {
     "data": {
      "text/plain": [
       "3-element Array{Float64,1}:\n",
       " 6.0\n",
       " 7.0\n",
       " 3.1"
      ]
     },
     "execution_count": 32,
     "metadata": {},
     "output_type": "execute_result"
    }
   ],
   "source": [
    "# Ruim\n",
    "x = [5.0, 6.0, 2.1]\n",
    "\n",
    "function g(x::Array{Float64, 1})   # não é genérico!\n",
    "    y = zeros(length(x))   # não é genérico, ponto flutuante oculto!\n",
    "    z = Diagonal(ones(length(x)))  # não é genérico, ponto flutuante oculto!\n",
    "    q = ones(length(x))\n",
    "    y .= z * x + q\n",
    "    return y\n",
    "end\n",
    "\n",
    "g(x)\n",
    "\n",
    "# bom\n",
    "function g2(x)  # ou `x::AbstractVector`\n",
    "    y = similar(x)\n",
    "    z = I\n",
    "    q = ones(eltype(x), length(x))  # ou `fill(one(x), length(x))`\n",
    "    y .= z * x + q\n",
    "    return y\n",
    "end\n",
    "\n",
    "g2(x)"
   ]
  },
  {
   "cell_type": "markdown",
   "metadata": {},
   "source": [
    "\n",
    "- Pré-aloque vetores relacionados com, `similar` sempre que possível, e use `eltype` ou `typeof`. Isso é importante ao usar o Despacho Múltiplo, considerando os diferentes tipos de entrada que a função pode chamar."
   ]
  },
  {
   "cell_type": "code",
   "execution_count": 33,
   "metadata": {
    "hide-output": false
   },
   "outputs": [
    {
     "data": {
      "text/plain": [
       "2-element Array{BigInt,1}:\n",
       " 1\n",
       " 4"
      ]
     },
     "execution_count": 33,
     "metadata": {},
     "output_type": "execute_result"
    }
   ],
   "source": [
    "function g(x)\n",
    "    y = similar(x)\n",
    "    for i in eachindex(x)\n",
    "        y[i] = x[i]^2      # poderia transmitir\n",
    "    end\n",
    "    return y\n",
    "end\n",
    "\n",
    "g([BigInt(1), BigInt(2)])"
   ]
  },
  {
   "cell_type": "markdown",
   "metadata": {},
   "source": [
    "\n",
    "- Use `typeof` ou `eltype`  para declarar um tipo."
   ]
  },
  {
   "cell_type": "code",
   "execution_count": 34,
   "metadata": {
    "hide-output": false
   },
   "outputs": [
    {
     "name": "stdout",
     "output_type": "stream",
     "text": [
      "typeof([1.0, 2.0, 3.0]) = Array{Float64,1}\n",
      "eltype([1.0, 2.0, 3.0]) = Float64\n"
     ]
    }
   ],
   "source": [
    "@show typeof([1.0, 2.0, 3.0])\n",
    "@show eltype([1.0, 2.0, 3.0]);"
   ]
  },
  {
   "cell_type": "markdown",
   "metadata": {},
   "source": [
    "\n",
    "- Cuidado com pontos flutuantes ocultos."
   ]
  },
  {
   "cell_type": "code",
   "execution_count": 35,
   "metadata": {
    "hide-output": false
   },
   "outputs": [
    {
     "name": "stdout",
     "output_type": "stream",
     "text": [
      "typeof(ones(3)) = Array{Float64,1}\n",
      "typeof(ones(Int64, 3)) = Array{Int64,1}\n",
      "typeof(zeros(3)) = Array{Float64,1}\n",
      "typeof(zeros(Int64, 3)) = Array{Int64,1}\n"
     ]
    }
   ],
   "source": [
    "@show typeof(ones(3))\n",
    "@show typeof(ones(Int64, 3))\n",
    "@show typeof(zeros(3))\n",
    "@show typeof(zeros(Int64, 3));"
   ]
  },
  {
   "cell_type": "markdown",
   "metadata": {},
   "source": [
    "\n",
    "- Use `one` e `zero` para escrever código genérico."
   ]
  },
  {
   "cell_type": "code",
   "execution_count": 36,
   "metadata": {
    "hide-output": false
   },
   "outputs": [
    {
     "name": "stdout",
     "output_type": "stream",
     "text": [
      "typeof(1) = Int64\n",
      "typeof(1.0) = Float64\n",
      "typeof(BigFloat(1.0)) = BigFloat\n",
      "typeof(one(BigFloat)) = BigFloat\n",
      "typeof(zero(BigFloat)) = BigFloat\n",
      "typeof(one(x)) = BigFloat\n",
      "typeof(zero(x)) = BigFloat\n"
     ]
    }
   ],
   "source": [
    "@show typeof(1)\n",
    "@show typeof(1.0)\n",
    "@show typeof(BigFloat(1.0))\n",
    "@show typeof(one(BigFloat))  # obtém identidade multiplicativa, passando no tipo \n",
    "@show typeof(zero(BigFloat))\n",
    "\n",
    "x = BigFloat(2)\n",
    "\n",
    "@show typeof(one(x))  # pode chamar com uma variável por conveniência \n",
    "@show typeof(zero(x));"
   ]
  },
  {
   "cell_type": "markdown",
   "metadata": {},
   "source": [
    "\n",
    "\n",
    "Este é o último exemplo sutíl, devido a algo chamado [promoção do tipo](https://docs.julialang.org/en/v1/manual/conversion-and-promotion/#Promotion-1).\n",
    "\n",
    "- Suponha que exista promoção de tipo razoável para tipos numéricos."
   ]
  },
  {
   "cell_type": "code",
   "execution_count": 37,
   "metadata": {
    "hide-output": false
   },
   "outputs": [
    {
     "name": "stdout",
     "output_type": "stream",
     "text": [
      "typeof(g(x)) = BigFloat\n"
     ]
    }
   ],
   "source": [
    "# Aceitável\n",
    "function g(x::AbstractFloat)\n",
    "    return x + 1.0   # Suponha que  `1.0` pode ser convertido em algo compativel com `typeof(x)`\n",
    "end\n",
    "\n",
    "x = BigFloat(1.0)\n",
    "\n",
    "@show typeof(g(x));  # isso \"promoveu\" o `1.0` para um `BigFloat`"
   ]
  },
  {
   "cell_type": "markdown",
   "metadata": {},
   "source": [
    "Mas às vezes supor promoção não é suficiente."
   ]
  },
  {
   "cell_type": "code",
   "execution_count": 38,
   "metadata": {
    "hide-output": false
   },
   "outputs": [
    {
     "name": "stdout",
     "output_type": "stream",
     "text": [
      "typeof(g2(x)) = BigFloat\n",
      "typeof(g2(x2)) = Nothing\n",
      "typeof(g3(x)) = BigFloat\n",
      "typeof(g3(x2)) = Nothing\n"
     ]
    }
   ],
   "source": [
    "# ruim\n",
    "function g2(x::AbstractFloat)\n",
    "    if x > 0.0   # não posso eficientemente chamar  com `x::Integer`\n",
    "        return x + 1.0   # OK - suponha que você pode promover `Float64` para `AbstractFloat`\n",
    "    otherwise\n",
    "        return 0   # ruim! retorna um `Int64`\n",
    "    end\n",
    "end\n",
    "\n",
    "x = BigFloat(1.0)\n",
    "x2 = BigFloat(-1.0)\n",
    "\n",
    "@show typeof(g2(x))\n",
    "@show typeof(g2(x2))  # tipo instável\n",
    "\n",
    "# Bom\n",
    "function g3(x) \n",
    "    if x > zero(x)   # qualquer tipo com uma identidade aditiva\n",
    "        return x + one(x)  # mais geral, mas menos importante de uma mudança\n",
    "    otherwise\n",
    "        return zero(x)\n",
    "    end\n",
    "end\n",
    "\n",
    "@show typeof(g3(x))\n",
    "@show typeof(g3(x2));  # tipo estável"
   ]
  },
  {
   "cell_type": "markdown",
   "metadata": {},
   "source": [
    "\n",
    "\n",
    "Esses padrões são relativamente diretos, mas a programação genérica pode ser pensada como uma função de produção Leontief: se *alguma* das funções que você escreve ou chama não for precisa o suficiente, poderá quebrar a cadeia.\n",
    "\n",
    "Esse é mais um motivo para explorar pacotes cuidadosamente projetados, em vez de \"faça você mesmo\"."
   ]
  },
  {
   "cell_type": "markdown",
   "metadata": {},
   "source": [
    "### Uma Digressão sobre Estilo e Nomeação\n",
    "\n",
    "A seção anterior ajuda a estabelecer alguns dos motivos por trás das opções de estilo nessas aulas: \"esteja ciente dos tipos, mas evite declará-los\".\n",
    "\n",
    "O objetivo disso é triplo:\n",
    "\n",
    "- Forneça código de fácil leitura com o mínimo de \"ruído sintático\" e uma correspondência clara com a matemática.\n",
    "- Verifique se o código é genérico o suficiente para explorar outros pacotes e tipos.\n",
    "- Evite erros comuns e degradações desnecessárias no desempenho.\n",
    "\n",
    "\n",
    "Essa é apenas uma das muitas decisões e padrões para garantir que seu código seja consistente e claro.\n",
    "\n",
    "O melhor recurso é ler cuidadosamente o código de outras pessoas, algumas fontes para revisar são:\n",
    "\n",
    "- [Julia Style Guide](https://docs.julialang.org/en/v1/manual/style-guide/).  \n",
    "- [Julia Praxis Naming Guides](https://github.com/JuliaPraxis/Naming/tree/master/guides).  \n",
    "- [QuantEcon Style Guide](https://github.com/QuantEcon/lecture-source-jl/blob/master/style.md) used in these lectures. \n",
    "\n",
    "\n",
    "Agora, por que enfatizaríamos o nome e o estilo como uma parte crucial das aulas?\n",
    "\n",
    "Porque é uma ferramenta essencial para criar pesquisas **reproduzíveis** e [**corretas**](https://en.wikipedia.org/wiki/Correctness_%28computer_science%29).\n",
    "\n",
    "Algumas maneiras úteis de pensar sobre isso são:\n",
    "\n",
    "- **O código claramente escrito é mais fácil de analisar quanto a erros**: a preocupação de primeira ordem de qualquer código é que ele implemente corretamente a matemática do quadro negro.\n",
    "- **O código é lido muitas vezes mais do que está escrito**: salvar algumas teclas ao digitar um nome de variável nunca vale a pena, nem divergir da notação matemática em que um único símbolo para um nome de variável seria mapeado melhor para o modelo.\n",
    "- **Escreva o código a ser lido no futuro, não hoje**: se você não tiver certeza de que mais alguém lerá o código, escreva-o para uma versão futura ignorante de si mesmo, que pode ter esquecido tudo e provavelmente usará o código incorretamente.  \n",
    "- **Mantenha a correspondência entre a matemática do quadro negro e o código**:\n",
    "  por exemplo, se você alterar a notação no seu modelo, atualize imediatamente todas as variáveis no código para refleti-lo."
   ]
  },
  {
   "cell_type": "markdown",
   "metadata": {},
   "source": [
    "#### Comentando o Código\n",
    "\n",
    "Um erro comum que as pessoas cometem ao tentar aplicar essas metas é adicionar um grande número de comentários.\n",
    "\n",
    "Ao longo dos anos, os desenvolvedores descobriram que comentários em excesso no código (e especialmente grandes cabeçalhos de comentários usados antes de cada declaração de função) podem dificultar a leitura do código.\n",
    "\n",
    "A questão é de ruído sintático: se a maioria dos comentários é redundante, devido a nomes claros de variáveis e funções, os comentários tornam mais difícil analisar e ler mentalmente o código.\n",
    "\n",
    "Se você examinar o código Julia nos pacotes e na linguagem principal, verá uma grande quantidade de cuidado nos nomes de funções e variáveis, e comentários serão adicionados apenas quando útil.\n",
    "\n",
    "Para criar pacotes que você pretende que outros usem, em vez de um cabeçalho de comentário, você deve usar [docstrings](https://docs.julialang.org/en/v1/manual/documentation/index.html#Syntax-Guide-1).\n",
    "\n",
    "\n",
    "<a id='intro-multiple-dispatch'></a>"
   ]
  },
  {
   "cell_type": "markdown",
   "metadata": {},
   "source": [
    "## Introdução ao Despacho Múltiplo\n",
    "\n",
    "Um dos recursos que definem Julia é o **envio múltiplo** (Despacho Múltiplo), pelo qual o mesmo nome de função pode fazer coisas diferentes, dependendo dos tipos subjacentes.\n",
    "\n",
    "Sem perceber, em quase todas as chamadas de função nos pacotes ou na biblioteca padrão, você utilizou esse recurso.\n",
    "\n",
    "Para ver isso em ação, considere a função de valor absoluto `abs`."
   ]
  },
  {
   "cell_type": "code",
   "execution_count": 39,
   "metadata": {
    "hide-output": false
   },
   "outputs": [
    {
     "name": "stdout",
     "output_type": "stream",
     "text": [
      "abs(-1) = 1\n",
      "abs(-1.0) = 1.0\n",
      "abs(0.0 - 1.0im) = 1.0\n"
     ]
    }
   ],
   "source": [
    "@show abs(-1)   # `Int64`\n",
    "@show abs(-1.0)  # `Float64`\n",
    "@show abs(0.0 - 1.0im);  # `Complex{Float64}`"
   ]
  },
  {
   "cell_type": "markdown",
   "metadata": {},
   "source": [
    "Em todos esses casos, a função `abs` possui código especializado, dependendo do tipo passado.\n",
    "\n",
    "Para fazer isso, uma função especifica diferentes métodos que operam em um conjunto específico de tipos.\n",
    "\n",
    "Diferentemente da maioria dos casos que vimos antes, isso requer uma anotação de tipo.\n",
    "\n",
    "Para reescrever a função `abs`."
   ]
  },
  {
   "cell_type": "code",
   "execution_count": 40,
   "metadata": {
    "hide-output": false
   },
   "outputs": [
    {
     "name": "stdout",
     "output_type": "stream",
     "text": [
      "ourabs(-1) = 1\n",
      "ourabs(-1.0) = 1.0\n",
      "ourabs(1.0 - 2.0im) = 2.23606797749979\n"
     ]
    }
   ],
   "source": [
    "function ourabs(x::Real)\n",
    "    if x > zero(x)   # note, não 0!\n",
    "        return x\n",
    "    else\n",
    "        return -x\n",
    "    end\n",
    "end\n",
    "\n",
    "function ourabs(x::Complex)\n",
    "    sqrt(real(x)^2 + imag(x)^2)\n",
    "end\n",
    "\n",
    "@show ourabs(-1)   # `Int64`\n",
    "@show ourabs(-1.0) # `Float64`\n",
    "@show ourabs(1.0 - 2.0im);  # `Complex{Float64}`"
   ]
  },
  {
   "cell_type": "markdown",
   "metadata": {},
   "source": [
    "Note que no exemplo acima, `x` funciona para qualquer tipo de Real, inclusive `Int64`, `Float64` e que você pode não ter percebido existir."
   ]
  },
  {
   "cell_type": "code",
   "execution_count": 41,
   "metadata": {
    "hide-output": false
   },
   "outputs": [
    {
     "name": "stdout",
     "output_type": "stream",
     "text": [
      "typeof(x) = Rational{Int64}\n",
      "ourabs(x) = 2//3\n"
     ]
    }
   ],
   "source": [
    "x = -2//3  # número `Rational` , -2/3\n",
    "@show typeof(x)\n",
    "@show ourabs(x);"
   ]
  },
  {
   "cell_type": "markdown",
   "metadata": {},
   "source": [
    "Você também observará que usamos um tipo abstrato `Real`, e um tipo paramétrico incompleto `Complex`, ao definir as funções acima.\n",
    "\n",
    "Ao contrário da criação de campos de `struct`, não há penalidade no uso de tipos abstratos ao definir parâmetros de função, pois eles são usados exclusivamente para determinar qual versão de uma função usar."
   ]
  },
  {
   "cell_type": "markdown",
   "metadata": {},
   "source": [
    "### Despacho Múltiplos em Algorítimos (Avançado)\n",
    "\n",
    "Se você deseja que um algoritmo tenha versões especializadas quando recebe diferentes tipos de entrada, precisa declarar os tipos para as entradas de função\n",
    "\n",
    "Como um exemplo em que isso pode surgir, suponha que tenhamos um *grid* `x` de valores, os resultados de uma função `f` aplicada a esses valores, e desejamos calcular uma derivada aproximada usando diferenças futuras.\n",
    "\n",
    "Nesse caso, dado $ x_n, x_{n+1}, f(x_n) $ e $ f(x_{n+1}) $,  a aproximação das diferenças diretas da derivada é:\n",
    "\n",
    "$$\n",
    "f'(x_n) \\approx \\frac{f(x_{n+1}) - f(x_n)}{x_{n+1} - x_n}\n",
    "$$\n",
    "\n",
    "Para implementar esse cálculo para um vetor de entradas, notamos que existe uma implementação especializada se o *grid* for uniforme.\n",
    "\n",
    "O *grid* uniforme pode ser implementado usando `AbstractRange`, que podemos analizar com\n",
    "`typeof`, `supertype` e `show_supertypes`."
   ]
  },
  {
   "cell_type": "code",
   "execution_count": 42,
   "metadata": {
    "hide-output": false
   },
   "outputs": [
    {
     "name": "stdout",
     "output_type": "stream",
     "text": [
      "typeof(x) = StepRangeLen{Float64,Base.TwicePrecision{Float64},Base.TwicePrecision{Float64}}\n",
      "typeof(x_2) = StepRange{Int64,Int64}\n",
      "supertype(typeof(x)) = AbstractRange{Float64}\n"
     ]
    },
    {
     "data": {
      "text/plain": [
       "AbstractRange{Float64}"
      ]
     },
     "execution_count": 42,
     "metadata": {},
     "output_type": "execute_result"
    }
   ],
   "source": [
    "x = range(0.0, 1.0, length = 20)\n",
    "x_2 = 1:1:20   # se inteiro\n",
    "\n",
    "@show typeof(x)\n",
    "@show typeof(x_2)\n",
    "@show supertype(typeof(x))"
   ]
  },
  {
   "cell_type": "markdown",
   "metadata": {},
   "source": [
    "Para ver a árvore inteira sobre um tipo específico, use `show_supertypes`."
   ]
  },
  {
   "cell_type": "code",
   "execution_count": 43,
   "metadata": {
    "hide-output": false
   },
   "outputs": [
    {
     "name": "stdout",
     "output_type": "stream",
     "text": [
      "StepRangeLen{Float64,Base.TwicePrecision{Float64},Base.TwicePrecision{Float64}} <: AbstractRange{Float64} <: AbstractArray{Float64,1} <: Any"
     ]
    }
   ],
   "source": [
    "show_supertypes(typeof(x))  # or typeof(x) |> show_supertypes"
   ]
  },
  {
   "cell_type": "code",
   "execution_count": 44,
   "metadata": {
    "hide-output": false
   },
   "outputs": [
    {
     "name": "stdout",
     "output_type": "stream",
     "text": [
      "StepRange{Int64,Int64} <: OrdinalRange{Int64,Int64} <: AbstractRange{Int64} <: AbstractArray{Int64,1} <: Any"
     ]
    }
   ],
   "source": [
    "show_supertypes(typeof(x_2))"
   ]
  },
  {
   "cell_type": "markdown",
   "metadata": {},
   "source": [
    "Os tipos de objetos de intervalo podem ser muito complicados, mas são ambos os subtipos de `AbstractRange`."
   ]
  },
  {
   "cell_type": "code",
   "execution_count": 45,
   "metadata": {
    "hide-output": false
   },
   "outputs": [
    {
     "name": "stdout",
     "output_type": "stream",
     "text": [
      "typeof(x) <: AbstractRange = true\n",
      "typeof(x_2) <: AbstractRange = true\n"
     ]
    }
   ],
   "source": [
    "@show typeof(x) <: AbstractRange\n",
    "@show typeof(x_2) <: AbstractRange;"
   ]
  },
  {
   "cell_type": "markdown",
   "metadata": {},
   "source": [
    "Embora você não saiba exatamente o tipo concreto, qualquer `AbstractRange` tem um conjunto informal de operações disponíveis."
   ]
  },
  {
   "cell_type": "code",
   "execution_count": 46,
   "metadata": {
    "hide-output": false
   },
   "outputs": [
    {
     "name": "stdout",
     "output_type": "stream",
     "text": [
      "minimum(x) = 0.0\n",
      "maximum(x) = 1.0\n",
      "length(x) = 20\n",
      "step(x) = 0.05263157894736842\n"
     ]
    }
   ],
   "source": [
    "@show minimum(x)\n",
    "@show maximum(x)\n",
    "@show length(x)\n",
    "@show step(x);"
   ]
  },
  {
   "cell_type": "markdown",
   "metadata": {},
   "source": [
    "Similarmente, há um número de informações disponívies para qualquer `AbstractVector`, como `length`."
   ]
  },
  {
   "cell_type": "code",
   "execution_count": 47,
   "metadata": {
    "hide-output": false
   },
   "outputs": [
    {
     "name": "stdout",
     "output_type": "stream",
     "text": [
      "typeof(f_x) = Array{Float64,1}\n",
      "supertype(typeof(f_x)) = DenseArray{Float64,1}\n",
      "supertype(supertype(typeof(f_x))) = AbstractArray{Float64,1}\n",
      "length(f_x) = 20\n"
     ]
    }
   ],
   "source": [
    "f(x) = x^2\n",
    "f_x = f.(x)  # calculando os valores do intervalo\n",
    "\n",
    "@show typeof(f_x)\n",
    "@show supertype(typeof(f_x))\n",
    "@show supertype(supertype(typeof(f_x)))  # sobe na arvore de novo\n",
    "@show length(f_x);   # e muito mais"
   ]
  },
  {
   "cell_type": "code",
   "execution_count": 48,
   "metadata": {
    "hide-output": false
   },
   "outputs": [
    {
     "name": "stdout",
     "output_type": "stream",
     "text": [
      "Array{Float64,1} <: DenseArray{Float64,1} <: AbstractArray{Float64,1} <: Any"
     ]
    }
   ],
   "source": [
    "show_supertypes(typeof(f_x))"
   ]
  },
  {
   "cell_type": "markdown",
   "metadata": {},
   "source": [
    "Existem também muitas funções que podem usar qualquer `AbstractArray`, como `diff`."
   ]
  },
  {
   "cell_type": "markdown",
   "metadata": {
    "hide-output": false
   },
   "source": [
    "```julia\n",
    "?diff\n",
    "\n",
    "search: diff symdiff setdiff symdiff! setdiff! Cptrdiff_t\n",
    "\n",
    "diff(A::AbstractVector) # operador de diferença finita da matriz ou vetor A\n",
    "\n",
    "# se A for uma matriz, especifique a dimensão sobre a qual operar com o argumento da palavra-chave dims \n",
    "diff(A::AbstractMatrix; dims::Integer)\n",
    "```\n"
   ]
  },
  {
   "cell_type": "markdown",
   "metadata": {},
   "source": [
    "Portanto, podemos chamar essa função para qualquer coisa do tipo `AbstractVector`.\n",
    "\n",
    "Finalmente, podemos fazer uma especialização de alto desempenho para qualquer `AbstractVector` e `AbstractRange`."
   ]
  },
  {
   "cell_type": "code",
   "execution_count": 49,
   "metadata": {
    "hide-output": false
   },
   "outputs": [
    {
     "data": {
      "text/plain": [
       "slopes (generic function with 1 method)"
      ]
     },
     "execution_count": 49,
     "metadata": {},
     "output_type": "execute_result"
    }
   ],
   "source": [
    "slopes(f_x::AbstractVector, x::AbstractRange) = diff(f_x) / step(x)"
   ]
  },
  {
   "cell_type": "markdown",
   "metadata": {},
   "source": [
    "Podemos usar a diferenciação automática para comparar os resultados."
   ]
  },
  {
   "cell_type": "code",
   "execution_count": 50,
   "metadata": {
    "hide-output": false
   },
   "outputs": [
    {
     "data": {
      "image/svg+xml": [
       "<?xml version=\"1.0\" encoding=\"utf-8\"?>\n",
       "<svg xmlns=\"http://www.w3.org/2000/svg\" xmlns:xlink=\"http://www.w3.org/1999/xlink\" width=\"600\" height=\"400\" viewBox=\"0 0 2400 1600\">\n",
       "<defs>\n",
       "  <clipPath id=\"clip2000\">\n",
       "    <rect x=\"0\" y=\"0\" width=\"2400\" height=\"1600\"/>\n",
       "  </clipPath>\n",
       "</defs>\n",
       "<polygon clip-path=\"url(#clip2000)\" points=\"\n",
       "0,1600 2400,1600 2400,0 0,0 \n",
       "  \" fill=\"#ffffff\" fill-rule=\"evenodd\" fill-opacity=\"1\"/>\n",
       "<defs>\n",
       "  <clipPath id=\"clip2001\">\n",
       "    <rect x=\"480\" y=\"0\" width=\"1681\" height=\"1600\"/>\n",
       "  </clipPath>\n",
       "</defs>\n",
       "<polygon clip-path=\"url(#clip2000)\" points=\"\n",
       "182.008,1487.47 2352.76,1487.47 2352.76,47.2441 182.008,47.2441 \n",
       "  \" fill=\"#ffffff\" fill-rule=\"evenodd\" fill-opacity=\"1\"/>\n",
       "<defs>\n",
       "  <clipPath id=\"clip2002\">\n",
       "    <rect x=\"182\" y=\"47\" width=\"2172\" height=\"1441\"/>\n",
       "  </clipPath>\n",
       "</defs>\n",
       "<polyline clip-path=\"url(#clip2002)\" style=\"stroke:#000000; stroke-width:2; stroke-opacity:0.1; fill:none\" points=\"\n",
       "  243.444,1487.47 243.444,47.2441 \n",
       "  \"/>\n",
       "<polyline clip-path=\"url(#clip2002)\" style=\"stroke:#000000; stroke-width:2; stroke-opacity:0.1; fill:none\" points=\"\n",
       "  768.541,1487.47 768.541,47.2441 \n",
       "  \"/>\n",
       "<polyline clip-path=\"url(#clip2002)\" style=\"stroke:#000000; stroke-width:2; stroke-opacity:0.1; fill:none\" points=\"\n",
       "  1293.64,1487.47 1293.64,47.2441 \n",
       "  \"/>\n",
       "<polyline clip-path=\"url(#clip2002)\" style=\"stroke:#000000; stroke-width:2; stroke-opacity:0.1; fill:none\" points=\"\n",
       "  1818.73,1487.47 1818.73,47.2441 \n",
       "  \"/>\n",
       "<polyline clip-path=\"url(#clip2002)\" style=\"stroke:#000000; stroke-width:2; stroke-opacity:0.1; fill:none\" points=\"\n",
       "  2343.83,1487.47 2343.83,47.2441 \n",
       "  \"/>\n",
       "<polyline clip-path=\"url(#clip2002)\" style=\"stroke:#000000; stroke-width:2; stroke-opacity:0.1; fill:none\" points=\"\n",
       "  182.008,1447.02 2352.76,1447.02 \n",
       "  \"/>\n",
       "<polyline clip-path=\"url(#clip2002)\" style=\"stroke:#000000; stroke-width:2; stroke-opacity:0.1; fill:none\" points=\"\n",
       "  182.008,1107.27 2352.76,1107.27 \n",
       "  \"/>\n",
       "<polyline clip-path=\"url(#clip2002)\" style=\"stroke:#000000; stroke-width:2; stroke-opacity:0.1; fill:none\" points=\"\n",
       "  182.008,767.513 2352.76,767.513 \n",
       "  \"/>\n",
       "<polyline clip-path=\"url(#clip2002)\" style=\"stroke:#000000; stroke-width:2; stroke-opacity:0.1; fill:none\" points=\"\n",
       "  182.008,427.759 2352.76,427.759 \n",
       "  \"/>\n",
       "<polyline clip-path=\"url(#clip2002)\" style=\"stroke:#000000; stroke-width:2; stroke-opacity:0.1; fill:none\" points=\"\n",
       "  182.008,88.0053 2352.76,88.0053 \n",
       "  \"/>\n",
       "<polyline clip-path=\"url(#clip2000)\" style=\"stroke:#000000; stroke-width:4; stroke-opacity:1; fill:none\" points=\"\n",
       "  182.008,1487.47 2352.76,1487.47 \n",
       "  \"/>\n",
       "<polyline clip-path=\"url(#clip2000)\" style=\"stroke:#000000; stroke-width:4; stroke-opacity:1; fill:none\" points=\"\n",
       "  182.008,1487.47 182.008,47.2441 \n",
       "  \"/>\n",
       "<polyline clip-path=\"url(#clip2000)\" style=\"stroke:#000000; stroke-width:4; stroke-opacity:1; fill:none\" points=\"\n",
       "  243.444,1487.47 243.444,1465.87 \n",
       "  \"/>\n",
       "<polyline clip-path=\"url(#clip2000)\" style=\"stroke:#000000; stroke-width:4; stroke-opacity:1; fill:none\" points=\"\n",
       "  768.541,1487.47 768.541,1465.87 \n",
       "  \"/>\n",
       "<polyline clip-path=\"url(#clip2000)\" style=\"stroke:#000000; stroke-width:4; stroke-opacity:1; fill:none\" points=\"\n",
       "  1293.64,1487.47 1293.64,1465.87 \n",
       "  \"/>\n",
       "<polyline clip-path=\"url(#clip2000)\" style=\"stroke:#000000; stroke-width:4; stroke-opacity:1; fill:none\" points=\"\n",
       "  1818.73,1487.47 1818.73,1465.87 \n",
       "  \"/>\n",
       "<polyline clip-path=\"url(#clip2000)\" style=\"stroke:#000000; stroke-width:4; stroke-opacity:1; fill:none\" points=\"\n",
       "  2343.83,1487.47 2343.83,1465.87 \n",
       "  \"/>\n",
       "<polyline clip-path=\"url(#clip2000)\" style=\"stroke:#000000; stroke-width:4; stroke-opacity:1; fill:none\" points=\"\n",
       "  182.008,1447.02 214.569,1447.02 \n",
       "  \"/>\n",
       "<polyline clip-path=\"url(#clip2000)\" style=\"stroke:#000000; stroke-width:4; stroke-opacity:1; fill:none\" points=\"\n",
       "  182.008,1107.27 214.569,1107.27 \n",
       "  \"/>\n",
       "<polyline clip-path=\"url(#clip2000)\" style=\"stroke:#000000; stroke-width:4; stroke-opacity:1; fill:none\" points=\"\n",
       "  182.008,767.513 214.569,767.513 \n",
       "  \"/>\n",
       "<polyline clip-path=\"url(#clip2000)\" style=\"stroke:#000000; stroke-width:4; stroke-opacity:1; fill:none\" points=\"\n",
       "  182.008,427.759 214.569,427.759 \n",
       "  \"/>\n",
       "<polyline clip-path=\"url(#clip2000)\" style=\"stroke:#000000; stroke-width:4; stroke-opacity:1; fill:none\" points=\"\n",
       "  182.008,88.0053 214.569,88.0053 \n",
       "  \"/>\n",
       "<g clip-path=\"url(#clip2000)\">\n",
       "<text style=\"fill:#000000; fill-opacity:1; font-family:Arial,Helvetica Neue,Helvetica,sans-serif; font-size:48px; text-anchor:middle;\" transform=\"rotate(0, 243.444, 1541.47)\" x=\"243.444\" y=\"1541.47\">0</text>\n",
       "</g>\n",
       "<g clip-path=\"url(#clip2000)\">\n",
       "<text style=\"fill:#000000; fill-opacity:1; font-family:Arial,Helvetica Neue,Helvetica,sans-serif; font-size:48px; text-anchor:middle;\" transform=\"rotate(0, 768.541, 1541.47)\" x=\"768.541\" y=\"1541.47\">1</text>\n",
       "</g>\n",
       "<g clip-path=\"url(#clip2000)\">\n",
       "<text style=\"fill:#000000; fill-opacity:1; font-family:Arial,Helvetica Neue,Helvetica,sans-serif; font-size:48px; text-anchor:middle;\" transform=\"rotate(0, 1293.64, 1541.47)\" x=\"1293.64\" y=\"1541.47\">2</text>\n",
       "</g>\n",
       "<g clip-path=\"url(#clip2000)\">\n",
       "<text style=\"fill:#000000; fill-opacity:1; font-family:Arial,Helvetica Neue,Helvetica,sans-serif; font-size:48px; text-anchor:middle;\" transform=\"rotate(0, 1818.73, 1541.47)\" x=\"1818.73\" y=\"1541.47\">3</text>\n",
       "</g>\n",
       "<g clip-path=\"url(#clip2000)\">\n",
       "<text style=\"fill:#000000; fill-opacity:1; font-family:Arial,Helvetica Neue,Helvetica,sans-serif; font-size:48px; text-anchor:middle;\" transform=\"rotate(0, 2343.83, 1541.47)\" x=\"2343.83\" y=\"1541.47\">4</text>\n",
       "</g>\n",
       "<g clip-path=\"url(#clip2000)\">\n",
       "<text style=\"fill:#000000; fill-opacity:1; font-family:Arial,Helvetica Neue,Helvetica,sans-serif; font-size:48px; text-anchor:end;\" transform=\"rotate(0, 158.008, 1464.52)\" x=\"158.008\" y=\"1464.52\">-1.0</text>\n",
       "</g>\n",
       "<g clip-path=\"url(#clip2000)\">\n",
       "<text style=\"fill:#000000; fill-opacity:1; font-family:Arial,Helvetica Neue,Helvetica,sans-serif; font-size:48px; text-anchor:end;\" transform=\"rotate(0, 158.008, 1124.77)\" x=\"158.008\" y=\"1124.77\">-0.5</text>\n",
       "</g>\n",
       "<g clip-path=\"url(#clip2000)\">\n",
       "<text style=\"fill:#000000; fill-opacity:1; font-family:Arial,Helvetica Neue,Helvetica,sans-serif; font-size:48px; text-anchor:end;\" transform=\"rotate(0, 158.008, 785.013)\" x=\"158.008\" y=\"785.013\">0.0</text>\n",
       "</g>\n",
       "<g clip-path=\"url(#clip2000)\">\n",
       "<text style=\"fill:#000000; fill-opacity:1; font-family:Arial,Helvetica Neue,Helvetica,sans-serif; font-size:48px; text-anchor:end;\" transform=\"rotate(0, 158.008, 445.259)\" x=\"158.008\" y=\"445.259\">0.5</text>\n",
       "</g>\n",
       "<g clip-path=\"url(#clip2000)\">\n",
       "<text style=\"fill:#000000; fill-opacity:1; font-family:Arial,Helvetica Neue,Helvetica,sans-serif; font-size:48px; text-anchor:end;\" transform=\"rotate(0, 158.008, 105.505)\" x=\"158.008\" y=\"105.505\">1.0</text>\n",
       "</g>\n",
       "<polyline clip-path=\"url(#clip2002)\" style=\"stroke:#009af9; stroke-width:4; stroke-opacity:1; fill:none\" points=\"\n",
       "  243.444,88.0053 295.954,91.4 348.464,101.55 400.973,118.355 453.483,141.645 505.992,171.189 558.502,206.691 611.012,247.797 663.521,294.095 716.031,345.124 \n",
       "  768.541,400.373 821.05,459.291 873.56,521.288 926.069,585.745 978.579,652.019 1031.09,719.446 1083.6,787.354 1136.11,855.064 1188.62,921.899 1241.13,987.191 \n",
       "  1293.64,1050.29 1346.15,1110.56 1398.66,1167.4 1451.17,1220.25 1503.68,1268.58 1556.18,1311.9 1608.69,1349.78 1661.2,1381.84 1713.71,1407.76 1766.22,1427.29 \n",
       "  1818.73,1440.22 1871.24,1446.43 1923.75,1445.86 1976.26,1438.51 2028.77,1424.46 2081.28,1403.84 2133.79,1376.87 2186.3,1343.8 2238.81,1304.98 2291.32,1260.79 \n",
       "  \n",
       "  \"/>\n",
       "<polyline clip-path=\"url(#clip2002)\" style=\"stroke:#e26f46; stroke-width:4; stroke-opacity:1; fill:none\" points=\"\n",
       "  243.444,89.1373 295.954,95.9154 348.464,109.404 400.973,129.468 453.483,155.907 505.992,188.457 558.502,226.793 611.012,270.532 663.521,319.236 716.031,372.42 \n",
       "  768.541,429.55 821.05,490.058 873.56,553.338 926.069,618.758 978.579,685.665 1031.09,753.389 1083.6,821.254 1136.11,888.582 1188.62,954.701 1241.13,1018.95 \n",
       "  1293.64,1080.68 1346.15,1139.29 1398.66,1194.18 1451.17,1244.81 1503.68,1290.67 1556.18,1331.31 1608.69,1366.31 1661.2,1395.32 1713.71,1418.07 1766.22,1434.31 \n",
       "  1818.73,1443.89 1871.24,1446.71 1923.75,1442.75 1976.26,1432.04 2028.77,1414.69 2081.28,1390.87 2133.79,1360.83 2186.3,1324.86 2238.81,1283.32 2291.32,1236.62 \n",
       "  \n",
       "  \"/>\n",
       "<polygon clip-path=\"url(#clip2000)\" points=\"\n",
       "1824.11,312.204 2280.76,312.204 2280.76,130.764 1824.11,130.764 \n",
       "  \" fill=\"#ffffff\" fill-rule=\"evenodd\" fill-opacity=\"1\"/>\n",
       "<polyline clip-path=\"url(#clip2000)\" style=\"stroke:#000000; stroke-width:4; stroke-opacity:1; fill:none\" points=\"\n",
       "  1824.11,312.204 2280.76,312.204 2280.76,130.764 1824.11,130.764 1824.11,312.204 \n",
       "  \"/>\n",
       "<polyline clip-path=\"url(#clip2000)\" style=\"stroke:#009af9; stroke-width:4; stroke-opacity:1; fill:none\" points=\"\n",
       "  1848.11,191.244 1992.11,191.244 \n",
       "  \"/>\n",
       "<g clip-path=\"url(#clip2000)\">\n",
       "<text style=\"fill:#000000; fill-opacity:1; font-family:Arial,Helvetica Neue,Helvetica,sans-serif; font-size:48px; text-anchor:start;\" transform=\"rotate(0, 2016.11, 208.744)\" x=\"2016.11\" y=\"208.744\">q&apos; with AD</text>\n",
       "</g>\n",
       "<polyline clip-path=\"url(#clip2000)\" style=\"stroke:#e26f46; stroke-width:4; stroke-opacity:1; fill:none\" points=\"\n",
       "  1848.11,251.724 1992.11,251.724 \n",
       "  \"/>\n",
       "<g clip-path=\"url(#clip2000)\">\n",
       "<text style=\"fill:#000000; fill-opacity:1; font-family:Arial,Helvetica Neue,Helvetica,sans-serif; font-size:48px; text-anchor:start;\" transform=\"rotate(0, 2016.11, 269.224)\" x=\"2016.11\" y=\"269.224\">q slopes</text>\n",
       "</g>\n",
       "</svg>\n"
      ]
     },
     "execution_count": 50,
     "metadata": {},
     "output_type": "execute_result"
    }
   ],
   "source": [
    "using Plots, ForwardDiff\n",
    "\n",
    "# para obter a derivada dessa função usando AD\n",
    "D(f) = x -> ForwardDiff.derivative(f, x)\n",
    "\n",
    "# comparar inclinações com AD para sin (x)\n",
    "q(x) = sin(x)\n",
    "x = 0.0:0.1:4.0\n",
    "q_x = q.(x)\n",
    "q_slopes_x = slopes(q_x, x)\n",
    "\n",
    "D_q_x = D(q).(x)  \n",
    "\n",
    "plot(x[1:end-1], D_q_x[1:end-1], label = \"q' with AD\")\n",
    "plot!(x[1:end-1], q_slopes_x, label = \"q slopes\")"
   ]
  },
  {
   "cell_type": "markdown",
   "metadata": {},
   "source": [
    "Considere uma variação na qual passamos uma função em vez de uma `AbstractArray`."
   ]
  },
  {
   "cell_type": "code",
   "execution_count": 51,
   "metadata": {
    "hide-output": false
   },
   "outputs": [
    {
     "name": "stdout",
     "output_type": "stream",
     "text": [
      "typeof(q) <: Function = true\n",
      "typeof(x) <: AbstractRange = true\n",
      "q_slopes_x[1] = 0.9983341664682815\n"
     ]
    }
   ],
   "source": [
    "slopes(f::Function, x::AbstractRange) = diff(f.(x)) / step(x)  # broadcast function\n",
    "\n",
    "@show typeof(q) <: Function\n",
    "@show typeof(x) <: AbstractRange\n",
    "q_slopes_x = slopes(q, x)  # use slopes(f::Function, x)\n",
    "@show q_slopes_x[1];"
   ]
  },
  {
   "cell_type": "markdown",
   "metadata": {},
   "source": [
    "Finalmente, se `x` foi um `AbstractArray` e não um `AbstractRange` não podemos mais usar um passo uniforme.\n",
    "\n",
    "Para isso, adicionamos em uma versão o cálculo de inclinações com as primeiras diferenças."
   ]
  },
  {
   "cell_type": "code",
   "execution_count": 52,
   "metadata": {
    "hide-output": false
   },
   "outputs": [
    {
     "name": "stdout",
     "output_type": "stream",
     "text": [
      "typeof(x_array) <: AbstractArray = true\n",
      "q_slopes_x[1] = 0.9983341664682815\n"
     ]
    }
   ],
   "source": [
    "# transmite sobre o diff\n",
    "slopes(f::Function, x::AbstractArray) = diff(f.(x)) ./ diff(x)\n",
    "\n",
    "x_array = Array(x)  # converte o intervalo em matriz\n",
    "@show typeof(x_array) <: AbstractArray\n",
    "q_slopes_x = slopes(q, x_array)\n",
    "@show q_slopes_x[1];"
   ]
  },
  {
   "cell_type": "markdown",
   "metadata": {},
   "source": [
    "No exemplo final, vemos que ele é capaz de usar implementações especializadas sobre ambos a `f` os argumentos `x`.\n",
    "\n",
    "Este é o \"múltiplo\" no despacho múltiplo."
   ]
  },
  {
   "cell_type": "markdown",
   "metadata": {},
   "source": [
    "## Exercícios"
   ]
  },
  {
   "cell_type": "markdown",
   "metadata": {},
   "source": [
    "### Exercício 1\n",
    "\n",
    "Explore o pacote [StaticArrays.jl](https://github.com/JuliaArrays/StaticArrays.jl).\n",
    "\n",
    "- Descreva dois tipos abstratos e a hierarquia de três tipos concretos diferentes. \n",
    "- Compare o cálculo de uma álgebra linear simples com uma matriz estática em comparação com o seguinte para uma matriz densa para `N = 3`e`N = 15`."
   ]
  },
  {
   "cell_type": "code",
   "execution_count": 53,
   "metadata": {
    "hide-output": false
   },
   "outputs": [
    {
     "name": "stdout",
     "output_type": "stream",
     "text": [
      "  80.999 ns (1 allocation: 112 bytes)\n",
      "  711.014 ns (5 allocations: 1.98 KiB)\n"
     ]
    },
    {
     "data": {
      "text/plain": [
       "3×3 Array{Float64,2}:\n",
       " -1.98485   -1.39279    3.72538 \n",
       "  4.54179    0.650274  -2.83779 \n",
       " -0.321769   1.06666    0.118773"
      ]
     },
     "execution_count": 53,
     "metadata": {},
     "output_type": "execute_result"
    }
   ],
   "source": [
    "using BenchmarkTools\n",
    "\n",
    "N = 3\n",
    "A = rand(N, N)\n",
    "x = rand(N)\n",
    "\n",
    "@btime $A * $x  # o $ na frente dos nomes das variáveis às vezes é importante\n",
    "@btime inv($A)"
   ]
  },
  {
   "cell_type": "markdown",
   "metadata": {},
   "source": [
    "### Exercício 2\n",
    "\n",
    "Uma etapa importante no cálculo do filtro Kalman é o cálculo do ganho de Kalman, como pode ser visto no exemplo a seguir, usando matrizes densas da [aula Kalman](https://julia.quantecon.org/tools_and_techniques/kalman.html).\n",
    "\n",
    "Usando o que você aprendeu no exercício 1, faca um benchmark usando matrizes estáticas."
   ]
  },
  {
   "cell_type": "code",
   "execution_count": 54,
   "metadata": {
    "hide-output": false
   },
   "outputs": [
    {
     "name": "stdout",
     "output_type": "stream",
     "text": [
      "  794.184 ns (10 allocations: 1.94 KiB)\n"
     ]
    },
    {
     "data": {
      "text/plain": [
       "2×2 Array{Float64,2}:\n",
       " 0.666667     1.11022e-16\n",
       " 1.11022e-16  0.666667   "
      ]
     },
     "execution_count": 54,
     "metadata": {},
     "output_type": "execute_result"
    }
   ],
   "source": [
    "Σ = [0.4  0.3;\n",
    "     0.3  0.45]\n",
    "G = I\n",
    "R = 0.5 * Σ\n",
    "\n",
    "gain(Σ, G, R) = Σ * G' * inv(G * Σ * G' + R)\n",
    "@btime gain($Σ, $G, $R)"
   ]
  },
  {
   "cell_type": "markdown",
   "metadata": {},
   "source": [
    "Quantas vezes mais rápido são matrizes estáticas neste exemplo?"
   ]
  },
  {
   "cell_type": "markdown",
   "metadata": {},
   "source": [
    "### Exercise 3\n",
    "\n",
    "O [Polynomial.jl](https://github.com/JuliaMath/Polynomials.jl) fornece um pacote para simples polinômios univariados."
   ]
  },
  {
   "cell_type": "code",
   "execution_count": 55,
   "metadata": {
    "hide-output": false
   },
   "outputs": [
    {
     "name": "stdout",
     "output_type": "stream",
     "text": [
      "p = Poly(2 - 5*x + 2*x^2)\n",
      "(p(0.1), p′(0.1)) = (1.52, -4.6)\n",
      "roots(p) = [0.5, 2.0]\n"
     ]
    }
   ],
   "source": [
    "using Polynomials\n",
    "\n",
    "p = Poly([2, -5, 2], :x)  # :x dá apenas um símbolo para exibição \n",
    "\n",
    "@show p\n",
    "p′ = polyder(p)   # dá a derivada de p, um outro polinómio \n",
    "@show p(0.1), p′(0.1)  # chama como uma função\n",
    "@show roots(p);   # encontre raízes tais que p(x) = 0"
   ]
  },
  {
   "cell_type": "markdown",
   "metadata": {},
   "source": [
    "Plote ambos `p(x)` e `p′(x)` para $ x \\in [-2, 2] $."
   ]
  },
  {
   "cell_type": "markdown",
   "metadata": {},
   "source": [
    "### Exercício 4\n",
    "\n",
    "Use sua solução do exercício 8 (a/b) em [Exemplos Introdutórios](https://julia.quantecon.org/getting_started_julia/julia_by_example.html) para criar uma versão especialida do método de Newton  para `Polinômioss` usando a função `polyder`. \n",
    "\n",
    "A assinatura da função deve ser `newtonsmethod(p::Poly, x_0; tolerance = 1E-7, maxiter = 100)`,\n",
    "onde `p::Poly` garante que esta versão da função seja usada sempre que um polinômio for passado (por exemplo, despacho).\n",
    "\n",
    "Compare os resultados desta função com a função interna `roots(p)`.\n",
    "\n",
    "\n",
    "<a id='intro-types-ex-5'></a>"
   ]
  },
  {
   "cell_type": "markdown",
   "metadata": {},
   "source": [
    "### Exercício 5 (Avançado)\n",
    "\n",
    "A [regra trapezoidal](https://en.wikipedia.org/wiki/Trapezoidal_rule)  aproxima uma integral com:\n",
    "\n",
    "$$\n",
    "\\int_\\underline{x}^\\bar{x} f(x) \\, dx \\approx \\sum_{n=1}^N \\frac{f(x_{n-1}) + f(x_n)}{2} \\Delta x_n\n",
    "$$\n",
    "\n",
    "Onde $ x_0 = \\underline{x},\\, x_N = \\bar{x} $, e $ \\Delta x_n \\equiv x_{n-1} - x_n $\n",
    "\n",
    "Para um `x` e uma função `f`, implemente poucas variações da regra do trapezoidal usando múltiplos despachos:\n",
    "\n",
    "- `trapezoidal(f, x)` para algum `typeof(x) = AbstractArray` e `typeof(f) == AbstractArray` onde `length(x) = length(f)`.  \n",
    "- `trapezoidal(f, x)` para algum `typeof(x) = AbstractRange` e `typeof(f) == AbstractArray` onde `length(x) = length(f)`.\n",
    "  * Explorar o fato de que no `AbstractRange` existem tamanhos de etapa constantes para especializar o algoritmo.\n",
    "- `trapezoidal(f, x̲, x̄, N)` onde `typeof(f) = Function`, e os outros argumentos são `Real`\n",
    "  * Para isso, crie um *grid* uniforme com `N` pontos em `[x̲, x̄]` – chame a função `f`  nesses pontos de *grid* e use a existente `trapezoidal(f, x)` para a implementação  \n",
    "\n",
    "\n",
    "Com estas:\n",
    "1. Teste cada variação da função com  $ f(x) = x^2 $ com $ \\underline{x}=0,\\, \\bar{x} = 1 $.\n",
    "2. Na solução analítica da função, plote o erro de `trapezoidal(f, x̲, x̄, N)` relativo à solução analítica para um *grid* de `N` valores diferentes.\n",
    "3. Considere tentar funções diferentes para $ f(x) $ e compare as soluções para as vários `N`.\n",
    "\n",
    "Ao tentar funções diferentes, em vez de integrar manualmente, considere usar um pacote da biblioteca de alta precisão para integração numérica como [QuadGK.jl](https://juliamath.github.io/QuadGK.jl/latest/)."
   ]
  },
  {
   "cell_type": "code",
   "execution_count": 56,
   "metadata": {
    "hide-output": false
   },
   "outputs": [
    {
     "data": {
      "text/plain": [
       "(0.3333333333333333, 5.551115123125783e-17)"
      ]
     },
     "execution_count": 56,
     "metadata": {},
     "output_type": "execute_result"
    }
   ],
   "source": [
    "using QuadGK\n",
    "\n",
    "f(x) = x^2\n",
    "value, accuracy = quadgk(f, 0.0, 1.0)"
   ]
  },
  {
   "cell_type": "markdown",
   "metadata": {},
   "source": [
    "### Exercício 6 (Avançado)\n",
    "\n",
    "Faça uma variação do seu código no Exercício 5.\n",
    "\n",
    "Use a diferenciação automática para calcular a derivada a seguir para as funções:\n",
    "\n",
    "$$\n",
    "\\frac{d}{d \\bar{x}}\\int_\\underline{x}^\\bar{x} f(x) \\, dx\n",
    "$$\n",
    "\n",
    "Dica: Veja o código a seguir para o padrão geral e tome cuidado para seguir as [regras de programação genérica](#generic-tips-tricks)."
   ]
  },
  {
   "cell_type": "code",
   "execution_count": 57,
   "metadata": {
    "hide-output": false
   },
   "outputs": [
    {
     "name": "stdout",
     "output_type": "stream",
     "text": [
      "f(0.0, 3.0) = 1.5\n",
      "f(0.0, 3.1) = 1.55\n"
     ]
    },
    {
     "data": {
      "text/plain": [
       "0.5"
      ]
     },
     "execution_count": 57,
     "metadata": {},
     "output_type": "execute_result"
    }
   ],
   "source": [
    "using ForwardDiff\n",
    "\n",
    "function f(a, b; N = 50)\n",
    "    r = range(a, b, length=N) # um\n",
    "return mean(r)\n",
    "end\n",
    "\n",
    "Df(x) = ForwardDiff.derivative(y -> f(0.0, y), x)\n",
    "\n",
    "@show f(0.0, 3.0)\n",
    "@show f(0.0, 3.1)\n",
    "\n",
    "Df(3.0)"
   ]
  }
 ],
 "metadata": {
  "date": 1580349901.7074432,
  "download_nb": 1,
  "download_nb_path": "https://julia.quantecon.org/",
  "filename": "introduction_to_types.rst",
  "filename_with_path": "getting_started_julia/introduction_to_types",
  "kernelspec": {
   "display_name": "Julia 1.3.1",
   "language": "julia",
   "name": "julia-1.3"
  },
  "language_info": {
   "file_extension": ".jl",
   "mimetype": "application/julia",
   "name": "julia",
   "version": "1.3.1"
  },
  "title": "Introduction to Types and Generic Programming"
 },
 "nbformat": 4,
 "nbformat_minor": 4
}
