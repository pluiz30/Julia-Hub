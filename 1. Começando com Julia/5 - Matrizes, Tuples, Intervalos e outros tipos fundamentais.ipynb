{
 "cells": [
  {
   "cell_type": "markdown",
   "metadata": {},
   "source": [
    "\n",
    "<a id='fundamental-types'></a>\n",
    "<div id=\"qe-notebook-header\" style=\"text-align:right;\">\n",
    "        <a href=\"https://quantecon.org/\" title=\"quantecon.org\">\n",
    "                <img style=\"width:250px;display:inline;\" src=\"https://assets.quantecon.org/img/qe-menubar-logo.svg\" alt=\"QuantEcon\">\n",
    "        </a>\n",
    "</div>"
   ]
  },
  {
   "cell_type": "markdown",
   "metadata": {},
   "source": [
    "# Arrays, Tuples, Ranges, e Outros Tipos Fundamentais"
   ]
  },
  {
   "cell_type": "markdown",
   "metadata": {},
   "source": [
    "## Conteúdo\n",
    "\n",
    "- [Arrays, Tuples, Ranges, e Outros Tipos Fundamentais](#Arrays,-Tuples,-Ranges,-e-Outros-Tipos-Fundamentais)  \n",
    "  - [Resumo](#Resumo)  \n",
    "  - [Noções Básicas de Matrizes](#Noções-Básicas-de-Matrizes)  \n",
    "  - [Operações em Matrizes](#Operações-em-Matrizes)  \n",
    "  - [Ranges](#Ranges)  \n",
    "  - [Tuples e Tuples Nomeados](#Tuples-e-Tuples-Nomeados)  \n",
    "  - [Nothing, Missing, e Unions](#Nothing,-Missing,-e-Unions)  \n",
    "  - [Exercícos](#Exercícios)  \n",
    "  - [Soluções](#Soluções)  "
   ]
  },
  {
   "cell_type": "markdown",
   "metadata": {},
   "source": [
    "> *Devidamente traduzido, revisado e adaptado do [QuantEcon](https://quantecon.org/) pelos bolsistas CNPq, Pedro Luiz H. Furtado e Jonas Aragão M. Corpes, sob supervisão do Prof. Christiano Penna, do CAEN/UFC.*"
   ]
  },
  {
   "cell_type": "markdown",
   "metadata": {},
   "source": [
    ">> “Sejamos claros: o trabalho da ciência não tem nada a ver com consenso.\n",
    "> O consenso é o negócio da política. A ciência, pelo contrário, exige apenas\n",
    "> um pesquisador que esteja certo, o que significa que ele ou ela tem\n",
    "> resultados verificáveis por referência ao mundo real. Na ciência\n",
    "> o consenso é irrelevante. O que é relevante são os resultados reproduzíveis.” – Michael Crichton"
   ]
  },
  {
   "cell_type": "markdown",
   "metadata": {},
   "source": [
    "## Resumo\n",
    "\n",
    "Em Julia, matrizes e tuplas são o tipo de dados mais importante para trabalhar com dados numéricos.\n",
    "\n",
    "Nesta aula, damos mais detalhes sobre:\n",
    "\n",
    "- criar e manipular matrizes no Julia.  \n",
    "- operações fundamentais de processamento de matriz.\n",
    "- álgebra matricial básica.  \n",
    "- tuples e tuples nomeados .\n",
    "- ranges.  \n",
    "- nothing, missing, e unions."
   ]
  },
  {
   "cell_type": "markdown",
   "metadata": {},
   "source": [
    "### Configuração"
   ]
  },
  {
   "cell_type": "code",
   "execution_count": 1,
   "metadata": {
    "hide-output": true
   },
   "outputs": [],
   "source": [
    "using InstantiateFromURL\n",
    "github_project(\"QuantEcon/quantecon-notebooks-julia\", version = \"0.5.0\")\n",
    "# github_project(\"QuantEcon/quantecon-notebooks-julia\", version = \"0.5.0\", instantiate = true) # uncomment to force package installation"
   ]
  },
  {
   "cell_type": "code",
   "execution_count": 2,
   "metadata": {
    "hide-output": false
   },
   "outputs": [],
   "source": [
    "using LinearAlgebra, Statistics"
   ]
  },
  {
   "cell_type": "markdown",
   "metadata": {},
   "source": [
    "## Noções Básicas de Matrizes\n",
    "\n",
    "([Veja a documetação de matrizes multi-dimensinais](https://docs.julialang.org/en/v1/manual/arrays/))\n",
    "\n",
    "Como é um dos tipos mais importantes, começaremos com matrizes.\n",
    "\n",
    "Mais tarde, veremos como as matrizes (e todos os outros tipos em Julia) são tratadas de maneira genérica e extensível."
   ]
  },
  {
   "cell_type": "markdown",
   "metadata": {},
   "source": [
    "### Forma e Dimensão\n",
    "\n",
    "Já vimos algumas matrizes em Julia em ação."
   ]
  },
  {
   "cell_type": "code",
   "execution_count": 3,
   "metadata": {
    "hide-output": false
   },
   "outputs": [
    {
     "data": {
      "text/plain": [
       "3-element Array{Int64,1}:\n",
       " 10\n",
       " 20\n",
       " 30"
      ]
     },
     "execution_count": 3,
     "metadata": {},
     "output_type": "execute_result"
    }
   ],
   "source": [
    "a = [10, 20, 30]"
   ]
  },
  {
   "cell_type": "code",
   "execution_count": 4,
   "metadata": {
    "hide-output": false
   },
   "outputs": [
    {
     "data": {
      "text/plain": [
       "3-element Array{Float64,1}:\n",
       " 1.0\n",
       " 2.0\n",
       " 3.0"
      ]
     },
     "execution_count": 4,
     "metadata": {},
     "output_type": "execute_result"
    }
   ],
   "source": [
    "a = [1.0, 2.0, 3.0]"
   ]
  },
  {
   "cell_type": "markdown",
   "metadata": {},
   "source": [
    "A saída nos diz que as matrizes são dos tipos `Array{Int64,1}` e `Array{Float64,1}` respectivamente.\n",
    "\n",
    "Aqui `Int64` e `Float64` estão os tipos para os elementos inferidos pelo compilador.\n",
    "\n",
    "Falaremos mais sobre tipos depois.\n",
    "\n",
    "O `1` em `Array{Int64,1}` e `Array{Any,1}` indica que a matriz é unidimensional (ou seja, um `vetor`).\n",
    "\n",
    "Esse é o padrão para muitas funções Julia que criam matrizes."
   ]
  },
  {
   "cell_type": "code",
   "execution_count": 5,
   "metadata": {
    "hide-output": false
   },
   "outputs": [
    {
     "data": {
      "text/plain": [
       "Array{Float64,1}"
      ]
     },
     "execution_count": 5,
     "metadata": {},
     "output_type": "execute_result"
    }
   ],
   "source": [
    "typeof(randn(100))"
   ]
  },
  {
   "cell_type": "markdown",
   "metadata": {},
   "source": [
    "Em Julia, os vetores unidimensionais são melhor interpretados como vetores de coluna, que veremos quando fizermos transposições.\n",
    "\n",
    "Podemos verificar as dimensões de `a` usando as funções `size()`e `ndims()`. "
   ]
  },
  {
   "cell_type": "code",
   "execution_count": 6,
   "metadata": {
    "hide-output": false
   },
   "outputs": [
    {
     "data": {
      "text/plain": [
       "1"
      ]
     },
     "execution_count": 6,
     "metadata": {},
     "output_type": "execute_result"
    }
   ],
   "source": [
    "ndims(a)"
   ]
  },
  {
   "cell_type": "code",
   "execution_count": 7,
   "metadata": {
    "hide-output": false
   },
   "outputs": [
    {
     "data": {
      "text/plain": [
       "(3,)"
      ]
     },
     "execution_count": 7,
     "metadata": {},
     "output_type": "execute_result"
    }
   ],
   "source": [
    "size(a)"
   ]
  },
  {
   "cell_type": "markdown",
   "metadata": {},
   "source": [
    "A sintaxe `(3,)` exibe uma tupla contendo um elemento - o tamanho ao longo da única dimensão que existe."
   ]
  },
  {
   "cell_type": "markdown",
   "metadata": {},
   "source": [
    "#### Array vs Vetor vs Matriz\n",
    "\n",
    "Em Julia, `Vetor` e `Matriz` são apenas para matrizes unidimensionais e bidimensionais, respectivamente."
   ]
  },
  {
   "cell_type": "code",
   "execution_count": 8,
   "metadata": {
    "hide-output": false
   },
   "outputs": [
    {
     "data": {
      "text/plain": [
       "true"
      ]
     },
     "execution_count": 8,
     "metadata": {},
     "output_type": "execute_result"
    }
   ],
   "source": [
    "Array{Int64, 1} == Vector{Int64}\n",
    "Array{Int64, 2} == Matrix{Int64}"
   ]
  },
  {
   "cell_type": "markdown",
   "metadata": {},
   "source": [
    "A construção do vetor com `,` é então interpretada como um vetor de coluna.\n",
    "\n",
    "Para ver isso, podemos criar um vetor de coluna e vetor de linha mais diretamente."
   ]
  },
  {
   "cell_type": "code",
   "execution_count": 9,
   "metadata": {
    "hide-output": false
   },
   "outputs": [
    {
     "data": {
      "text/plain": [
       "true"
      ]
     },
     "execution_count": 9,
     "metadata": {},
     "output_type": "execute_result"
    }
   ],
   "source": [
    "[1, 2, 3] == [1; 2; 3]  # ambos vetores colunas"
   ]
  },
  {
   "cell_type": "code",
   "execution_count": 10,
   "metadata": {
    "hide-output": false
   },
   "outputs": [
    {
     "data": {
      "text/plain": [
       "1×3 Array{Int64,2}:\n",
       " 1  2  3"
      ]
     },
     "execution_count": 10,
     "metadata": {},
     "output_type": "execute_result"
    }
   ],
   "source": [
    "[1 2 3]  # um vetor de linha é bidimensional"
   ]
  },
  {
   "cell_type": "markdown",
   "metadata": {},
   "source": [
    "Como vimos, em Julia, temos ambos:\n",
    "\n",
    "- matrizes unidimensionais (ou seja, matrizes planas).\n",
    "- matrizes de tamanho `(1, n)`ou `(n, 1)`que representam vetores de linha e coluna, respectivamente.\n",
    "\n",
    "Por que precisamos dos dois?\n",
    "\n",
    "Por um lado, a dimensão é importante para a álgebra matricial.\n",
    "\n",
    " - Multiplicar por um vetor de linha é diferente de multiplicar por um vetor de coluna.\n",
    " \n",
    "Por outro lado, usamos matrizes em muitas configurações que não envolvem álgebra matricial.\n",
    "\n",
    "Nesses casos, não nos importamos com a distinção entre vetores de linha e coluna.\n",
    "\n",
    "É por isso que muitas funções Julia retornam matrizes simples por padrão.\n",
    "\n",
    "\n",
    "\n",
    "<a id='creating-arrays'></a>"
   ]
  },
  {
   "cell_type": "markdown",
   "metadata": {},
   "source": [
    "### Criando Matrizes (arrays)"
   ]
  },
  {
   "cell_type": "markdown",
   "metadata": {},
   "source": [
    "#### Funções que Criam Matrizes\n",
    "\n",
    "Já vimos algumas funções para criar um vetor preenchido com `0.0`"
   ]
  },
  {
   "cell_type": "code",
   "execution_count": 11,
   "metadata": {
    "hide-output": false
   },
   "outputs": [
    {
     "data": {
      "text/plain": [
       "3-element Array{Float64,1}:\n",
       " 0.0\n",
       " 0.0\n",
       " 0.0"
      ]
     },
     "execution_count": 11,
     "metadata": {},
     "output_type": "execute_result"
    }
   ],
   "source": [
    "zeros(3)"
   ]
  },
  {
   "cell_type": "markdown",
   "metadata": {},
   "source": [
    "Isso generaliza para matrizes e matrizes dimensionais mais altas."
   ]
  },
  {
   "cell_type": "code",
   "execution_count": 12,
   "metadata": {
    "hide-output": false
   },
   "outputs": [
    {
     "data": {
      "text/plain": [
       "2×2 Array{Float64,2}:\n",
       " 0.0  0.0\n",
       " 0.0  0.0"
      ]
     },
     "execution_count": 12,
     "metadata": {},
     "output_type": "execute_result"
    }
   ],
   "source": [
    "zeros(2, 2)"
   ]
  },
  {
   "cell_type": "markdown",
   "metadata": {},
   "source": [
    "Para retornar uma matriz preenchida com um único valor, use `fill`."
   ]
  },
  {
   "cell_type": "code",
   "execution_count": 13,
   "metadata": {
    "hide-output": false
   },
   "outputs": [
    {
     "data": {
      "text/plain": [
       "2×2 Array{Float64,2}:\n",
       " 5.0  5.0\n",
       " 5.0  5.0"
      ]
     },
     "execution_count": 13,
     "metadata": {},
     "output_type": "execute_result"
    }
   ],
   "source": [
    "fill(5.0, 2, 2)"
   ]
  },
  {
   "cell_type": "markdown",
   "metadata": {},
   "source": [
    "Por fim, você pode criar uma matriz vazia usando o `Array()` construtor."
   ]
  },
  {
   "cell_type": "code",
   "execution_count": 14,
   "metadata": {
    "hide-output": false
   },
   "outputs": [
    {
     "data": {
      "text/plain": [
       "2×2 Array{Float64,2}:\n",
       " 6.94202e-310  6.94202e-310\n",
       " 6.94202e-310  6.94202e-310"
      ]
     },
     "execution_count": 14,
     "metadata": {},
     "output_type": "execute_result"
    }
   ],
   "source": [
    "x = Array{Float64}(undef, 2, 2)"
   ]
  },
  {
   "cell_type": "markdown",
   "metadata": {},
   "source": [
    "Os valores retornados que você vê aqui são apenas valores de resíduo.\n",
    "\n",
    "(o conteúdo existente dos slots de memória alocados é interpretado como flutuadores de 64 bits).\n",
    "\n",
    "Se você precisar de mais controle sobre os tipos, preencha com um ponto não flutuante."
   ]
  },
  {
   "cell_type": "code",
   "execution_count": 15,
   "metadata": {
    "hide-output": false
   },
   "outputs": [
    {
     "data": {
      "text/plain": [
       "2×2 Array{Int64,2}:\n",
       " 0  0\n",
       " 0  0"
      ]
     },
     "execution_count": 15,
     "metadata": {},
     "output_type": "execute_result"
    }
   ],
   "source": [
    "fill(0, 2, 2)  # completa com 0, e não 0.0"
   ]
  },
  {
   "cell_type": "markdown",
   "metadata": {},
   "source": [
    "Ou preenche com um tipo booleano."
   ]
  },
  {
   "cell_type": "code",
   "execution_count": 16,
   "metadata": {
    "hide-output": false
   },
   "outputs": [
    {
     "data": {
      "text/plain": [
       "2×2 Array{Bool,2}:\n",
       " 0  0\n",
       " 0  0"
      ]
     },
     "execution_count": 16,
     "metadata": {},
     "output_type": "execute_result"
    }
   ],
   "source": [
    "fill(false, 2, 2)  # produz uma matriz booleana"
   ]
  },
  {
   "cell_type": "markdown",
   "metadata": {},
   "source": [
    "#### Criando Matrizes a partir de Matrizes Existentes \n",
    "\n",
    "Na maioria das vezes, evitaremos especificar diretamente os tipos de matrizes e deixar o compilador deduzir os tipos ideais por si só.\n",
    "\n",
    "As razões para isso, discutidas em mais detalhes [nesta aula](https://lectures.quantecon.org/more_julia/generic_programming.html), para garantir clareza e generalidade.\n",
    "\n",
    "Um lugar em que isso pode ser inconveniente é quando precisamos criar uma matriz com base em uma matriz existente.\n",
    "\n",
    "Primeiro, observe que a atribuição em Julia vincula um nome a um valor, mas não faz uma cópia desse tipo."
   ]
  },
  {
   "cell_type": "code",
   "execution_count": 17,
   "metadata": {
    "hide-output": false
   },
   "outputs": [
    {
     "data": {
      "text/plain": [
       "3-element Array{Int64,1}:\n",
       " 2\n",
       " 2\n",
       " 3"
      ]
     },
     "execution_count": 17,
     "metadata": {},
     "output_type": "execute_result"
    }
   ],
   "source": [
    "x = [1, 2, 3]\n",
    "y = x\n",
    "y[1] = 2\n",
    "x"
   ]
  },
  {
   "cell_type": "markdown",
   "metadata": {},
   "source": [
    "No exemplo acima, `y = x` basta criar uma nova ligação nomeada chamada `y` que se refere ao que for vinculado a `x` atualmente.\n",
    "\n",
    "Para copiar os dados, você precisa ser mais explícito."
   ]
  },
  {
   "cell_type": "code",
   "execution_count": 18,
   "metadata": {
    "hide-output": false
   },
   "outputs": [
    {
     "data": {
      "text/plain": [
       "3-element Array{Int64,1}:\n",
       " 1\n",
       " 2\n",
       " 3"
      ]
     },
     "execution_count": 18,
     "metadata": {},
     "output_type": "execute_result"
    }
   ],
   "source": [
    "x = [1, 2, 3]\n",
    "y = copy(x)\n",
    "y[1] = 2\n",
    "x"
   ]
  },
  {
   "cell_type": "markdown",
   "metadata": {},
   "source": [
    "No entanto, em vez de fazer uma cópia `x`, convém ter uma matriz de tamanho semelhante."
   ]
  },
  {
   "cell_type": "code",
   "execution_count": 19,
   "metadata": {
    "hide-output": false
   },
   "outputs": [
    {
     "data": {
      "text/plain": [
       "3-element Array{Int64,1}:\n",
       " 140507866246800\n",
       " 140507908265520\n",
       " 140507866246832"
      ]
     },
     "execution_count": 19,
     "metadata": {},
     "output_type": "execute_result"
    }
   ],
   "source": [
    "x = [1, 2, 3]\n",
    "y = similar(x)\n",
    "y"
   ]
  },
  {
   "cell_type": "markdown",
   "metadata": {},
   "source": [
    "Também podemos usar `similar` para pré-alocar um vetor com um tamanho diferente, mas com a mesma forma."
   ]
  },
  {
   "cell_type": "code",
   "execution_count": 20,
   "metadata": {
    "hide-output": false
   },
   "outputs": [
    {
     "data": {
      "text/plain": [
       "4-element Array{Int64,1}:\n",
       " 140508183850240\n",
       " 140508223998048\n",
       " 140508178226880\n",
       " 140508178227072"
      ]
     },
     "execution_count": 20,
     "metadata": {},
     "output_type": "execute_result"
    }
   ],
   "source": [
    "x = [1, 2, 3]\n",
    "y = similar(x, 4)  # faz um vetor de comprimento 4 "
   ]
  },
  {
   "cell_type": "markdown",
   "metadata": {},
   "source": [
    "O que generaliza para dimensões mais altas."
   ]
  },
  {
   "cell_type": "code",
   "execution_count": 21,
   "metadata": {
    "hide-output": false
   },
   "outputs": [
    {
     "data": {
      "text/plain": [
       "2×2 Array{Int64,2}:\n",
       " 140507867184624  140507867184688\n",
       " 140507867184656  140507867184720"
      ]
     },
     "execution_count": 21,
     "metadata": {},
     "output_type": "execute_result"
    }
   ],
   "source": [
    "x = [1, 2, 3]\n",
    "y = similar(x, 2, 2)  # faz uma matriz 2x2"
   ]
  },
  {
   "cell_type": "markdown",
   "metadata": {},
   "source": [
    "#### Definições de Matriz Manual\n",
    "\n",
    "Como vimos, você pode criar matrizes unidimensionais a partir de dados especificados manualmente, como:"
   ]
  },
  {
   "cell_type": "code",
   "execution_count": 22,
   "metadata": {
    "hide-output": false
   },
   "outputs": [
    {
     "data": {
      "text/plain": [
       "4-element Array{Int64,1}:\n",
       " 10\n",
       " 20\n",
       " 30\n",
       " 40"
      ]
     },
     "execution_count": 22,
     "metadata": {},
     "output_type": "execute_result"
    }
   ],
   "source": [
    "a = [10, 20, 30, 40]"
   ]
  },
  {
   "cell_type": "markdown",
   "metadata": {},
   "source": [
    "Em duas dimensões, podemos proceder da seguinte forma:"
   ]
  },
  {
   "cell_type": "code",
   "execution_count": 23,
   "metadata": {
    "hide-output": false
   },
   "outputs": [
    {
     "data": {
      "text/plain": [
       "1×4 Array{Int64,2}:\n",
       " 10  20  30  40"
      ]
     },
     "execution_count": 23,
     "metadata": {},
     "output_type": "execute_result"
    }
   ],
   "source": [
    "a = [10 20 30 40]  # two dimensional, shape is 1 x n"
   ]
  },
  {
   "cell_type": "code",
   "execution_count": 24,
   "metadata": {
    "hide-output": false
   },
   "outputs": [
    {
     "data": {
      "text/plain": [
       "2"
      ]
     },
     "execution_count": 24,
     "metadata": {},
     "output_type": "execute_result"
    }
   ],
   "source": [
    "ndims(a)"
   ]
  },
  {
   "cell_type": "code",
   "execution_count": 25,
   "metadata": {
    "hide-output": false
   },
   "outputs": [
    {
     "data": {
      "text/plain": [
       "2×2 Array{Int64,2}:\n",
       " 10  20\n",
       " 30  40"
      ]
     },
     "execution_count": 25,
     "metadata": {},
     "output_type": "execute_result"
    }
   ],
   "source": [
    "a = [10 20; 30 40]  # 2 x 2"
   ]
  },
  {
   "cell_type": "markdown",
   "metadata": {},
   "source": [
    "Você pode assumir que `a = [10; 20; 30; 40]` cria um vetor de coluna bidimensional, mas esse não é o caso:"
   ]
  },
  {
   "cell_type": "code",
   "execution_count": 26,
   "metadata": {
    "hide-output": false
   },
   "outputs": [
    {
     "data": {
      "text/plain": [
       "4-element Array{Int64,1}:\n",
       " 10\n",
       " 20\n",
       " 30\n",
       " 40"
      ]
     },
     "execution_count": 26,
     "metadata": {},
     "output_type": "execute_result"
    }
   ],
   "source": [
    "a = [10; 20; 30; 40]"
   ]
  },
  {
   "cell_type": "code",
   "execution_count": 27,
   "metadata": {
    "hide-output": false
   },
   "outputs": [
    {
     "data": {
      "text/plain": [
       "1"
      ]
     },
     "execution_count": 27,
     "metadata": {},
     "output_type": "execute_result"
    }
   ],
   "source": [
    "ndims(a)"
   ]
  },
  {
   "cell_type": "markdown",
   "metadata": {},
   "source": [
    "Em vez disso, transponha a matriz (ou adjunta, se complexa)."
   ]
  },
  {
   "cell_type": "code",
   "execution_count": 28,
   "metadata": {
    "hide-output": false
   },
   "outputs": [
    {
     "data": {
      "text/plain": [
       "4×1 Adjoint{Int64,Array{Int64,2}}:\n",
       " 10\n",
       " 20\n",
       " 30\n",
       " 40"
      ]
     },
     "execution_count": 28,
     "metadata": {},
     "output_type": "execute_result"
    }
   ],
   "source": [
    "a = [10 20 30 40]'"
   ]
  },
  {
   "cell_type": "code",
   "execution_count": 29,
   "metadata": {
    "hide-output": false
   },
   "outputs": [
    {
     "data": {
      "text/plain": [
       "2"
      ]
     },
     "execution_count": 29,
     "metadata": {},
     "output_type": "execute_result"
    }
   ],
   "source": [
    "ndims(a)"
   ]
  },
  {
   "cell_type": "markdown",
   "metadata": {},
   "source": [
    "### Indexação de Matrizes\n",
    "\n",
    "Já vimos o básico da indexação de matrizes."
   ]
  },
  {
   "cell_type": "code",
   "execution_count": 30,
   "metadata": {
    "hide-output": false
   },
   "outputs": [
    {
     "data": {
      "text/plain": [
       "30"
      ]
     },
     "execution_count": 30,
     "metadata": {},
     "output_type": "execute_result"
    }
   ],
   "source": [
    "a = [10 20 30 40]\n",
    "a[end-1]"
   ]
  },
  {
   "cell_type": "code",
   "execution_count": 31,
   "metadata": {
    "hide-output": false
   },
   "outputs": [
    {
     "data": {
      "text/plain": [
       "3-element Array{Int64,1}:\n",
       " 10\n",
       " 20\n",
       " 30"
      ]
     },
     "execution_count": 31,
     "metadata": {},
     "output_type": "execute_result"
    }
   ],
   "source": [
    "a[1:3]"
   ]
  },
  {
   "cell_type": "markdown",
   "metadata": {},
   "source": [
    "Para matrizes 2D, a sintaxe do índice é simples."
   ]
  },
  {
   "cell_type": "code",
   "execution_count": 32,
   "metadata": {
    "hide-output": false
   },
   "outputs": [
    {
     "data": {
      "text/plain": [
       "0.8511701328872764"
      ]
     },
     "execution_count": 32,
     "metadata": {},
     "output_type": "execute_result"
    }
   ],
   "source": [
    "a = randn(2, 2)\n",
    "a[1, 1]"
   ]
  },
  {
   "cell_type": "code",
   "execution_count": 33,
   "metadata": {
    "hide-output": false
   },
   "outputs": [
    {
     "data": {
      "text/plain": [
       "2-element Array{Float64,1}:\n",
       "  0.8511701328872764\n",
       " -0.6109318407103239"
      ]
     },
     "execution_count": 33,
     "metadata": {},
     "output_type": "execute_result"
    }
   ],
   "source": [
    "a[1, :]  # primeira linha"
   ]
  },
  {
   "cell_type": "code",
   "execution_count": 34,
   "metadata": {
    "hide-output": false
   },
   "outputs": [
    {
     "data": {
      "text/plain": [
       "2-element Array{Float64,1}:\n",
       " 0.8511701328872764 \n",
       " 0.32429326573093237"
      ]
     },
     "execution_count": 34,
     "metadata": {},
     "output_type": "execute_result"
    }
   ],
   "source": [
    "a[:, 1]  # primeira coluna"
   ]
  },
  {
   "cell_type": "markdown",
   "metadata": {},
   "source": [
    "Booleanos podem ser usados para extrair elementos."
   ]
  },
  {
   "cell_type": "code",
   "execution_count": 35,
   "metadata": {
    "hide-output": false
   },
   "outputs": [
    {
     "data": {
      "text/plain": [
       "2×2 Array{Float64,2}:\n",
       " -1.32581   -0.988361\n",
       " -0.123497   1.06086 "
      ]
     },
     "execution_count": 35,
     "metadata": {},
     "output_type": "execute_result"
    }
   ],
   "source": [
    "a = randn(2, 2)"
   ]
  },
  {
   "cell_type": "code",
   "execution_count": 36,
   "metadata": {
    "hide-output": false
   },
   "outputs": [
    {
     "data": {
      "text/plain": [
       "2×2 Array{Bool,2}:\n",
       " 1  0\n",
       " 0  1"
      ]
     },
     "execution_count": 36,
     "metadata": {},
     "output_type": "execute_result"
    }
   ],
   "source": [
    "b = [true false; false true]"
   ]
  },
  {
   "cell_type": "code",
   "execution_count": 37,
   "metadata": {
    "hide-output": false
   },
   "outputs": [
    {
     "data": {
      "text/plain": [
       "2-element Array{Float64,1}:\n",
       " -1.3258053746923157\n",
       "  1.0608645079380372"
      ]
     },
     "execution_count": 37,
     "metadata": {},
     "output_type": "execute_result"
    }
   ],
   "source": [
    "a[b]"
   ]
  },
  {
   "cell_type": "markdown",
   "metadata": {},
   "source": [
    "Isso é útil para extração condicional, como veremos abaixo\n",
    "\n",
    "Uma parte: alguns ou todos os elementos de uma matriz podem ser configurados iguais a um número usando a notação de fatia."
   ]
  },
  {
   "cell_type": "code",
   "execution_count": 38,
   "metadata": {
    "hide-output": false
   },
   "outputs": [
    {
     "data": {
      "text/plain": [
       "4-element Array{Float64,1}:\n",
       " 0.0\n",
       " 0.0\n",
       " 0.0\n",
       " 0.0"
      ]
     },
     "execution_count": 38,
     "metadata": {},
     "output_type": "execute_result"
    }
   ],
   "source": [
    "a = zeros(4)"
   ]
  },
  {
   "cell_type": "code",
   "execution_count": 39,
   "metadata": {
    "hide-output": false
   },
   "outputs": [
    {
     "data": {
      "text/plain": [
       "3-element view(::Array{Float64,1}, 2:4) with eltype Float64:\n",
       " 42.0\n",
       " 42.0\n",
       " 42.0"
      ]
     },
     "execution_count": 39,
     "metadata": {},
     "output_type": "execute_result"
    }
   ],
   "source": [
    "a[2:end] .= 42"
   ]
  },
  {
   "cell_type": "code",
   "execution_count": 40,
   "metadata": {
    "hide-output": false
   },
   "outputs": [
    {
     "data": {
      "text/plain": [
       "4-element Array{Float64,1}:\n",
       "  0.0\n",
       " 42.0\n",
       " 42.0\n",
       " 42.0"
      ]
     },
     "execution_count": 40,
     "metadata": {},
     "output_type": "execute_result"
    }
   ],
   "source": [
    "a"
   ]
  },
  {
   "cell_type": "markdown",
   "metadata": {},
   "source": [
    "### Visualizações e Fatias\n",
    "\n",
    "Usando a notação `:` fornece uma fatia de uma matriz, copiando a sub-matriz para uma nova matriz com um tipo semelhante."
   ]
  },
  {
   "cell_type": "code",
   "execution_count": 41,
   "metadata": {
    "hide-output": false
   },
   "outputs": [
    {
     "name": "stdout",
     "output_type": "stream",
     "text": [
      "b = [2, 4]\n",
      "a = [1 4; 3 5]\n",
      "b = [2, 4]\n"
     ]
    }
   ],
   "source": [
    "a = [1 2; 3 4]\n",
    "b = a[:, 2]\n",
    "@show b\n",
    "a[:, 2] = [4, 5] # modifica a\n",
    "@show a\n",
    "@show b;"
   ]
  },
  {
   "cell_type": "markdown",
   "metadata": {},
   "source": [
    "Um **view** por outro lado não copia o valor."
   ]
  },
  {
   "cell_type": "code",
   "execution_count": 42,
   "metadata": {
    "hide-output": false
   },
   "outputs": [
    {
     "name": "stdout",
     "output_type": "stream",
     "text": [
      "b = [2, 4]\n",
      "a = [1 4; 3 5]\n",
      "b = [4, 5]\n"
     ]
    }
   ],
   "source": [
    "a = [1 2; 3 4]\n",
    "@views b = a[:, 2]\n",
    "@show b\n",
    "a[:, 2] = [4, 5]\n",
    "@show a\n",
    "@show b;"
   ]
  },
  {
   "cell_type": "markdown",
   "metadata": {},
   "source": [
    "Observe que a única diferença é a macro `@views`, que substituirá as fatias pelas exibições na expressão.\n",
    "\n",
    "Uma alternativa é chamar diretamente a função `view` - embora geralmente seja desencorajada, pois está a um passo da matemática."
   ]
  },
  {
   "cell_type": "code",
   "execution_count": 43,
   "metadata": {
    "hide-output": false
   },
   "outputs": [
    {
     "data": {
      "text/plain": [
       "true"
      ]
     },
     "execution_count": 43,
     "metadata": {},
     "output_type": "execute_result"
    }
   ],
   "source": [
    "@views b = a[:, 2]\n",
    "view(a, :, 2) == b"
   ]
  },
  {
   "cell_type": "markdown",
   "metadata": {},
   "source": [
    "Como na maioria dos programas em Julia, é melhor evitar assumir prematuramente que isso `@views` terá um impacto significativo no desempenho e, acima de tudo, na clareza do código de estresse.\n",
    "\n",
    "Outra lição importante `@views`é que eles não são matrizes densas e normais."
   ]
  },
  {
   "cell_type": "code",
   "execution_count": 44,
   "metadata": {
    "hide-output": false
   },
   "outputs": [
    {
     "name": "stdout",
     "output_type": "stream",
     "text": [
      "typeof(b_slice) = Array{Int64,1}\n",
      "typeof(a) = Array{Int64,2}\n",
      "typeof(b) = SubArray{Int64,1,Array{Int64,2},Tuple{Base.Slice{Base.OneTo{Int64}},Int64},true}\n"
     ]
    }
   ],
   "source": [
    "a = [1 2; 3 4]\n",
    "b_slice = a[:, 2]\n",
    "@show typeof(b_slice)\n",
    "@show typeof(a)\n",
    "@views b = a[:, 2]\n",
    "@show typeof(b);"
   ]
  },
  {
   "cell_type": "markdown",
   "metadata": {},
   "source": [
    "O tipo de `b` é um bom exemplo de como os tipos não são o que parecem.\n",
    "\n",
    "Similarmente."
   ]
  },
  {
   "cell_type": "code",
   "execution_count": 45,
   "metadata": {
    "hide-output": false
   },
   "outputs": [
    {
     "data": {
      "text/plain": [
       "Adjoint{Int64,Array{Int64,2}}"
      ]
     },
     "execution_count": 45,
     "metadata": {},
     "output_type": "execute_result"
    }
   ],
   "source": [
    "a = [1 2; 3 4]\n",
    "b = a'   # transposta\n",
    "typeof(b)"
   ]
  },
  {
   "cell_type": "markdown",
   "metadata": {},
   "source": [
    "Copia em uma matriz densa."
   ]
  },
  {
   "cell_type": "code",
   "execution_count": 46,
   "metadata": {
    "hide-output": false
   },
   "outputs": [
    {
     "data": {
      "text/plain": [
       "true"
      ]
     },
     "execution_count": 46,
     "metadata": {},
     "output_type": "execute_result"
    }
   ],
   "source": [
    "a = [1 2; 3 4]\n",
    "b = a' # transposta\n",
    "c = Matrix(b)  # converte em matriz\n",
    "d = collect(b) # também `collect` funciona em qualquer iterável \n",
    "c == d"
   ]
  },
  {
   "cell_type": "markdown",
   "metadata": {},
   "source": [
    "### Matrizes Especiais\n",
    "\n",
    "Como vimos `transpose`, às vezes os tipos que se parecem com matrizes não são armazenados como uma matriz densa\n",
    "\n",
    "Como exemplo, considere criar uma matriz diagonal."
   ]
  },
  {
   "cell_type": "code",
   "execution_count": 47,
   "metadata": {
    "hide-output": false
   },
   "outputs": [
    {
     "data": {
      "text/plain": [
       "2×2 Diagonal{Float64,Array{Float64,1}}:\n",
       " 1.0   ⋅ \n",
       "  ⋅   2.0"
      ]
     },
     "execution_count": 47,
     "metadata": {},
     "output_type": "execute_result"
    }
   ],
   "source": [
    "d = [1.0, 2.0]\n",
    "a = Diagonal(d)"
   ]
  },
  {
   "cell_type": "markdown",
   "metadata": {},
   "source": [
    "Como você pode ver, o tipo é `2×2 Diagonal{Float64,Array{Float64,1}}`, que não é uma matriz bidimensional.\n",
    "\n",
    "As razões para isso são tanto a eficiência no armazenamento, quanto a eficiência nas operações aritméticas e matriciais.\n",
    "\n",
    "Em todos os aspectos importantes, tipos de matrizes como Diagonal são tão \"matrizes\" quanto as matrizes densas que usamos (veja a [aula de introdução de tipos](https://lectures.quantecon.org/introduction_to_types.html) mais)"
   ]
  },
  {
   "cell_type": "code",
   "execution_count": 48,
   "metadata": {
    "hide-output": false
   },
   "outputs": [
    {
     "name": "stdout",
     "output_type": "stream",
     "text": [
      "2a = [2.0 0.0; 0.0 4.0]\n",
      "b * a = [0.5440352543513847 0.2659475642337137; 0.5923155605866313 0.19106495963840775]\n"
     ]
    }
   ],
   "source": [
    "@show 2a\n",
    "b = rand(2,2)\n",
    "@show b * a;"
   ]
  },
  {
   "cell_type": "markdown",
   "metadata": {},
   "source": [
    "Outro exemplo está na construção de uma matriz de identidade, onde uma implementação ingênua é:"
   ]
  },
  {
   "cell_type": "code",
   "execution_count": 49,
   "metadata": {
    "hide-output": false
   },
   "outputs": [
    {
     "data": {
      "text/plain": [
       "2×2 Array{Float64,2}:\n",
       " 0.0  2.0\n",
       " 3.0  3.0"
      ]
     },
     "execution_count": 49,
     "metadata": {},
     "output_type": "execute_result"
    }
   ],
   "source": [
    "b = [1.0 2.0; 3.0 4.0]\n",
    "b - Diagonal([1.0, 1.0])  # estilo ruim, ineficiênte código"
   ]
  },
  {
   "cell_type": "markdown",
   "metadata": {},
   "source": [
    "Considerando que você deveria usar:"
   ]
  },
  {
   "cell_type": "code",
   "execution_count": 50,
   "metadata": {
    "hide-output": false
   },
   "outputs": [
    {
     "data": {
      "text/plain": [
       "2×2 Array{Float64,2}:\n",
       " 0.0  2.0\n",
       " 3.0  3.0"
      ]
     },
     "execution_count": 50,
     "metadata": {},
     "output_type": "execute_result"
    }
   ],
   "source": [
    "b = [1.0 2.0; 3.0 4.0]\n",
    "b - I  # estilo bom, e observe a falta de dimensões de I"
   ]
  },
  {
   "cell_type": "markdown",
   "metadata": {},
   "source": [
    "Embora a implementação de `I` seja um pouco abstrata para abordar neste momento, uma dica é:"
   ]
  },
  {
   "cell_type": "code",
   "execution_count": 51,
   "metadata": {
    "hide-output": false
   },
   "outputs": [
    {
     "data": {
      "text/plain": [
       "UniformScaling{Bool}"
      ]
     },
     "execution_count": 51,
     "metadata": {},
     "output_type": "execute_result"
    }
   ],
   "source": [
    "typeof(I)"
   ]
  },
  {
   "cell_type": "markdown",
   "metadata": {},
   "source": [
    "Este é um tipo `UniformScaling` e não uma matriz de identidade, tornando-o muito mais poderoso e geral."
   ]
  },
  {
   "cell_type": "markdown",
   "metadata": {},
   "source": [
    "### Matrizes de atribuição e passagem \n",
    "\n",
    "Como discutido acima, em Julia, o lado esquerdo de uma atribuição é uma \"ligação\" ou um rótulo para um valor."
   ]
  },
  {
   "cell_type": "code",
   "execution_count": 52,
   "metadata": {
    "hide-output": false
   },
   "outputs": [
    {
     "data": {
      "text/plain": [
       "1×3 Array{Int64,2}:\n",
       " 1  2  3"
      ]
     },
     "execution_count": 52,
     "metadata": {},
     "output_type": "execute_result"
    }
   ],
   "source": [
    "x = [1 2 3]\n",
    "y = x  # nome `y` se liga a qualquer valor` x` vinculado "
   ]
  },
  {
   "cell_type": "markdown",
   "metadata": {},
   "source": [
    " consequência disso é que você pode vincular novamente esse nome."
   ]
  },
  {
   "cell_type": "code",
   "execution_count": 53,
   "metadata": {
    "hide-output": false
   },
   "outputs": [
    {
     "name": "stdout",
     "output_type": "stream",
     "text": [
      "(x, y, z) = ([1 2 3], [2 3 4], [2 3 4])\n"
     ]
    }
   ],
   "source": [
    "x = [1 2 3]\n",
    "y = x        # nome `y` se liga a qualquer` x` vinculado \n",
    "z = [2 3 4]\n",
    "y = z        # apenas altera a ligação do nome, não o valor! \n",
    "@show (x, y, z);"
   ]
  },
  {
   "cell_type": "markdown",
   "metadata": {},
   "source": [
    "O que isto significa é que, se `a` é um array e partimos `b = a` em seguida, `a` e `b` apontam para exatamente os mesmos dados.\n",
    "\n",
    "Acima, suponha que você pretendia alterar o valor de `x` para os valores de `y`, você precisa atribuir os valores em vez do nome."
   ]
  },
  {
   "cell_type": "code",
   "execution_count": 54,
   "metadata": {
    "hide-output": false
   },
   "outputs": [
    {
     "name": "stdout",
     "output_type": "stream",
     "text": [
      "(x, y, z) = ([2 3 4], [2 3 4], [2 3 4])\n"
     ]
    }
   ],
   "source": [
    "x = [1 2 3]\n",
    "y = x       # nome `y` se liga a qualquer` x` vinculado \n",
    "z = [2 3 4]\n",
    "y .= z      # agora despacha a atribuição de cada elemento\n",
    "@show (x, y, z);"
   ]
  },
  {
   "cell_type": "markdown",
   "metadata": {},
   "source": [
    "Como alternativa, você poderia ter usado `y[:] = z`\n",
    "\n",
    "Isso se aplica também às funções no local.\n",
    "\n",
    "Primeiro, defina uma função simples para um mapa linear."
   ]
  },
  {
   "cell_type": "code",
   "execution_count": 55,
   "metadata": {
    "hide-output": false
   },
   "outputs": [
    {
     "data": {
      "text/plain": [
       "2-element Array{Int64,1}:\n",
       "  5\n",
       " 11"
      ]
     },
     "execution_count": 55,
     "metadata": {},
     "output_type": "execute_result"
    }
   ],
   "source": [
    "function f(x)\n",
    "    return [1 2; 3 4] * x  # matriz * vetor coluna\n",
    "end\n",
    "\n",
    "val = [1, 2]\n",
    "f(val)"
   ]
  },
  {
   "cell_type": "markdown",
   "metadata": {},
   "source": [
    "Em geral, essas funções “out-place” são preferidas às funções “in-place”, que modificam os argumentos."
   ]
  },
  {
   "cell_type": "code",
   "execution_count": 56,
   "metadata": {
    "hide-output": false
   },
   "outputs": [
    {
     "data": {
      "text/plain": [
       "2-element Array{Int64,1}:\n",
       "  5\n",
       " 11"
      ]
     },
     "execution_count": 56,
     "metadata": {},
     "output_type": "execute_result"
    }
   ],
   "source": [
    "function f(x)\n",
    "    return [1 2; 3 4] * x # matriz * vetor coluna\n",
    "end\n",
    "\n",
    "val = [1, 2]\n",
    "y = similar(val)\n",
    "\n",
    "function f!(out, x)\n",
    "    out .= [1 2; 3 4] * x\n",
    "end\n",
    "\n",
    "f!(y, val)\n",
    "y"
   ]
  },
  {
   "cell_type": "markdown",
   "metadata": {},
   "source": [
    "Isso demonstra uma convenção importante em Julia: funções que modificam qualquer um dos argumentos têm o nome terminado em `!` (por exemplo `push!`).\n",
    "\n",
    "Também podemos ver um erro comum, onde, em vez de modificar os argumentos, a ligação do nome é trocada."
   ]
  },
  {
   "cell_type": "code",
   "execution_count": 57,
   "metadata": {
    "hide-output": false
   },
   "outputs": [
    {
     "data": {
      "text/plain": [
       "2-element Array{Int64,1}:\n",
       " 140508178228992\n",
       " 140508178228992"
      ]
     },
     "execution_count": 57,
     "metadata": {},
     "output_type": "execute_result"
    }
   ],
   "source": [
    "function f(x)\n",
    "    return [1 2; 3 4] * x  # matriz * vetor coluna\n",
    "end\n",
    "\n",
    "val = [1, 2]\n",
    "y = similar(val)\n",
    "\n",
    "function f!(out, x)\n",
    "    out = [1 2; 3 4] * x   # ERRO! deve ser .= ou [:]\n",
    "end\n",
    "f!(y, val)\n",
    "y"
   ]
  },
  {
   "cell_type": "markdown",
   "metadata": {},
   "source": [
    "A frequência de cometer esse erro é um dos motivos para evitar funções no local, a menos que seja provado ser necessário comparando."
   ]
  },
  {
   "cell_type": "markdown",
   "metadata": {},
   "source": [
    "### In-place e Tipos Imutáveis\n",
    "\n",
    "Observe que os escalares são sempre imutáveis, de modo que:"
   ]
  },
  {
   "cell_type": "code",
   "execution_count": 58,
   "metadata": {
    "hide-output": false
   },
   "outputs": [
    {
     "data": {
      "text/plain": [
       "3"
      ]
     },
     "execution_count": 58,
     "metadata": {},
     "output_type": "execute_result"
    }
   ],
   "source": [
    "y = [1 2]\n",
    "y .-= 2    # y .= y .- 2, sem problema\n",
    "\n",
    "x = 5\n",
    "# x .-= 2  # falha!\n",
    "x = x - 2  # diferença sutil - cria um novo valor e religa a variável"
   ]
  },
  {
   "cell_type": "markdown",
   "metadata": {},
   "source": [
    "Em particular, não há como passar imutáveis para uma função e modificá-la:\n"
   ]
  },
  {
   "cell_type": "code",
   "execution_count": 59,
   "metadata": {
    "hide-output": false
   },
   "outputs": [
    {
     "name": "stdout",
     "output_type": "stream",
     "text": [
      "x = 2\n"
     ]
    }
   ],
   "source": [
    "x = 2\n",
    "\n",
    "function f(x)\n",
    "    x = 3     # ERRO! não modifica x, cria um novo valor! \n",
    "end\n",
    "\n",
    "f(x)          # não pode modificar imutáveis no lugar \n",
    "@show x;"
   ]
  },
  {
   "cell_type": "markdown",
   "metadata": {},
   "source": [
    "Isso também é válido para outros tipos imutáveis, como tuplas, bem como para alguns tipos de vetores."
   ]
  },
  {
   "cell_type": "code",
   "execution_count": 60,
   "metadata": {
    "hide-output": false
   },
   "outputs": [
    {
     "name": "stdout",
     "output_type": "stream",
     "text": [
      "f(xdynamic) = [2, 4]\n",
      "f(xstatic) = [2, 4]\n",
      "xdynamic = [1, 2]\n",
      "g(xdynamic) = \"Success!\"\n",
      "xdynamic = [2, 4]\n"
     ]
    }
   ],
   "source": [
    "using StaticArrays\n",
    "xdynamic = [1, 2]\n",
    "xstatic = @SVector [1, 2]  # transforma em um vetor estático altamente otimizado\n",
    "\n",
    "f(x) = 2x\n",
    "@show f(xdynamic)\n",
    "@show f(xstatic)\n",
    "\n",
    "# inplace versão\n",
    "function g(x)\n",
    "    x .= 2x\n",
    "    return \"Success!\"\n",
    "end\n",
    "@show xdynamic\n",
    "@show g(xdynamic)\n",
    "@show xdynamic;\n",
    "\n",
    "# g(xstatic) # falha, vetores estáticos são imutáveis"
   ]
  },
  {
   "cell_type": "markdown",
   "metadata": {},
   "source": [
    "## Operações em Matrizes"
   ]
  },
  {
   "cell_type": "markdown",
   "metadata": {},
   "source": [
    "### Métodos de Matriz\n",
    "\n",
    "Julia fornece funções padrão para atuar em matrizes, algumas das quais já vimos."
   ]
  },
  {
   "cell_type": "code",
   "execution_count": 61,
   "metadata": {
    "hide-output": false
   },
   "outputs": [
    {
     "name": "stdout",
     "output_type": "stream",
     "text": [
      "length(a) = 3\n",
      "sum(a) = 0\n",
      "mean(a) = 0.0\n",
      "std(a) = 1.0\n",
      "var(a) = 1.0\n",
      "maximum(a) = 1\n",
      "minimum(a) = -1\n",
      "extrema(a) = (-1, 1)\n"
     ]
    },
    {
     "data": {
      "text/plain": [
       "(-1, 1)"
      ]
     },
     "execution_count": 61,
     "metadata": {},
     "output_type": "execute_result"
    }
   ],
   "source": [
    "a = [-1, 0, 1]\n",
    "\n",
    "@show length(a)\n",
    "@show sum(a)\n",
    "@show mean(a)\n",
    "@show std(a)      # desvio padrão\n",
    "@show var(a)      # variância\n",
    "@show maximum(a)\n",
    "@show minimum(a)\n",
    "@show extrema(a)  # (mínimo(a), máximo(a))"
   ]
  },
  {
   "cell_type": "markdown",
   "metadata": {},
   "source": [
    "Para classificar uma matriz."
   ]
  },
  {
   "cell_type": "code",
   "execution_count": 62,
   "metadata": {
    "hide-output": false
   },
   "outputs": [
    {
     "data": {
      "text/plain": [
       "3-element Array{Int64,1}:\n",
       "  1\n",
       "  0\n",
       " -1"
      ]
     },
     "execution_count": 62,
     "metadata": {},
     "output_type": "execute_result"
    }
   ],
   "source": [
    "b = sort(a, rev = true)  # retorna nova matriz, original não modificado"
   ]
  },
  {
   "cell_type": "code",
   "execution_count": 63,
   "metadata": {
    "hide-output": false
   },
   "outputs": [
    {
     "data": {
      "text/plain": [
       "3-element Array{Int64,1}:\n",
       "  1\n",
       "  0\n",
       " -1"
      ]
     },
     "execution_count": 63,
     "metadata": {},
     "output_type": "execute_result"
    }
   ],
   "source": [
    "b = sort!(a, rev = true)  # retorna a *matriz  original* modificada"
   ]
  },
  {
   "cell_type": "code",
   "execution_count": 64,
   "metadata": {
    "hide-output": false
   },
   "outputs": [
    {
     "data": {
      "text/plain": [
       "true"
      ]
     },
     "execution_count": 64,
     "metadata": {},
     "output_type": "execute_result"
    }
   ],
   "source": [
    "b == a  # testa se tem os mesmos valores"
   ]
  },
  {
   "cell_type": "code",
   "execution_count": 65,
   "metadata": {
    "hide-output": false
   },
   "outputs": [
    {
     "data": {
      "text/plain": [
       "true"
      ]
     },
     "execution_count": 65,
     "metadata": {},
     "output_type": "execute_result"
    }
   ],
   "source": [
    "b === a  # testa se as matrizes são idênticas (isto é, compartilham a mesma memória)"
   ]
  },
  {
   "cell_type": "markdown",
   "metadata": {},
   "source": [
    "### Álgebra Matricial\n",
    "\n",
    "Para matrizes bidimensionais, `*` significa multiplicação de matrizes."
   ]
  },
  {
   "cell_type": "code",
   "execution_count": 66,
   "metadata": {
    "hide-output": false
   },
   "outputs": [
    {
     "data": {
      "text/plain": [
       "1×2 Array{Float64,2}:\n",
       " 1.0  1.0"
      ]
     },
     "execution_count": 66,
     "metadata": {},
     "output_type": "execute_result"
    }
   ],
   "source": [
    "a = ones(1, 2)"
   ]
  },
  {
   "cell_type": "code",
   "execution_count": 67,
   "metadata": {
    "hide-output": false
   },
   "outputs": [
    {
     "data": {
      "text/plain": [
       "2×2 Array{Float64,2}:\n",
       " 1.0  1.0\n",
       " 1.0  1.0"
      ]
     },
     "execution_count": 67,
     "metadata": {},
     "output_type": "execute_result"
    }
   ],
   "source": [
    "b = ones(2, 2)"
   ]
  },
  {
   "cell_type": "code",
   "execution_count": 68,
   "metadata": {
    "hide-output": false
   },
   "outputs": [
    {
     "data": {
      "text/plain": [
       "1×2 Array{Float64,2}:\n",
       " 2.0  2.0"
      ]
     },
     "execution_count": 68,
     "metadata": {},
     "output_type": "execute_result"
    }
   ],
   "source": [
    "a * b"
   ]
  },
  {
   "cell_type": "code",
   "execution_count": 69,
   "metadata": {
    "hide-output": false
   },
   "outputs": [
    {
     "data": {
      "text/plain": [
       "2×1 Array{Float64,2}:\n",
       " 2.0\n",
       " 2.0"
      ]
     },
     "execution_count": 69,
     "metadata": {},
     "output_type": "execute_result"
    }
   ],
   "source": [
    "b * a'"
   ]
  },
  {
   "cell_type": "markdown",
   "metadata": {},
   "source": [
    "Para resolver o sistema linear $ A X = B $ para $ X $ use `A \\ B`"
   ]
  },
  {
   "cell_type": "code",
   "execution_count": 70,
   "metadata": {
    "hide-output": false
   },
   "outputs": [
    {
     "data": {
      "text/plain": [
       "2×2 Array{Int64,2}:\n",
       " 1  2\n",
       " 2  3"
      ]
     },
     "execution_count": 70,
     "metadata": {},
     "output_type": "execute_result"
    }
   ],
   "source": [
    "A = [1 2; 2 3]"
   ]
  },
  {
   "cell_type": "code",
   "execution_count": 71,
   "metadata": {
    "hide-output": false
   },
   "outputs": [
    {
     "data": {
      "text/plain": [
       "2×2 Array{Float64,2}:\n",
       " 1.0  1.0\n",
       " 1.0  1.0"
      ]
     },
     "execution_count": 71,
     "metadata": {},
     "output_type": "execute_result"
    }
   ],
   "source": [
    "B = ones(2, 2)"
   ]
  },
  {
   "cell_type": "code",
   "execution_count": 72,
   "metadata": {
    "hide-output": false
   },
   "outputs": [
    {
     "data": {
      "text/plain": [
       "2×2 Array{Float64,2}:\n",
       " -1.0  -1.0\n",
       "  1.0   1.0"
      ]
     },
     "execution_count": 72,
     "metadata": {},
     "output_type": "execute_result"
    }
   ],
   "source": [
    "A \\ B"
   ]
  },
  {
   "cell_type": "code",
   "execution_count": 73,
   "metadata": {
    "hide-output": false
   },
   "outputs": [
    {
     "data": {
      "text/plain": [
       "2×2 Array{Float64,2}:\n",
       " -1.0  -1.0\n",
       "  1.0   1.0"
      ]
     },
     "execution_count": 73,
     "metadata": {},
     "output_type": "execute_result"
    }
   ],
   "source": [
    "inv(A) * B"
   ]
  },
  {
   "cell_type": "markdown",
   "metadata": {},
   "source": [
    "Embora as duas últimas operações apresentem o mesmo resultado, a primeira é numericamente mais estável e deve ser preferida na maioria dos casos\n",
    "\n",
    "Multiplicando dois vetores **uni**dimensionais dá um erro - que é razoável, já que o significado é ambíguo\n",
    "\n",
    "Mais precisamente, o erro é que não existe uma implementação `*`para vetores bidimensionais\n",
    "\n",
    "A saída explica isso e lista alguns outros métodos `*`que Julia acha que estão próximos do que queremos"
   ]
  },
  {
   "cell_type": "code",
   "execution_count": 74,
   "metadata": {
    "hide-output": false
   },
   "outputs": [
    {
     "ename": "MethodError",
     "evalue": "MethodError: no method matching *(::Array{Float64,1}, ::Array{Float64,1})\nClosest candidates are:\n  *(::Any, ::Any, !Matched::Any, !Matched::Any...) at operators.jl:529\n  *(!Matched::Adjoint{#s627,#s626} where #s626<:Union{DenseArray{T,2}, Base.ReinterpretArray{T,2,S,A} where S where A<:Union{SubArray{T,N,A,I,true} where I<:Union{Tuple{Vararg{Real,N} where N}, Tuple{AbstractUnitRange,Vararg{Any,N} where N}} where A<:DenseArray where N where T, DenseArray}, Base.ReshapedArray{T,2,A,MI} where MI<:Tuple{Vararg{Base.MultiplicativeInverses.SignedMultiplicativeInverse{Int64},N} where N} where A<:Union{Base.ReinterpretArray{T,N,S,A} where S where A<:Union{SubArray{T,N,A,I,true} where I<:Union{Tuple{Vararg{Real,N} where N}, Tuple{AbstractUnitRange,Vararg{Any,N} where N}} where A<:DenseArray where N where T, DenseArray} where N where T, SubArray{T,N,A,I,true} where I<:Union{Tuple{Vararg{Real,N} where N}, Tuple{AbstractUnitRange,Vararg{Any,N} where N}} where A<:DenseArray where N where T, DenseArray}, SubArray{T,2,A,I,L} where L where I<:Tuple{Vararg{Union{Int64, AbstractRange{Int64}, Base.AbstractCartesianIndex},N} where N} where A<:Union{Base.ReinterpretArray{T,N,S,A} where S where A<:Union{SubArray{T,N,A,I,true} where I<:Union{Tuple{Vararg{Real,N} where N}, Tuple{AbstractUnitRange,Vararg{Any,N} where N}} where A<:DenseArray where N where T, DenseArray} where N where T, Base.ReshapedArray{T,N,A,MI} where MI<:Tuple{Vararg{Base.MultiplicativeInverses.SignedMultiplicativeInverse{Int64},N} where N} where A<:Union{Base.ReinterpretArray{T,N,S,A} where S where A<:Union{SubArray{T,N,A,I,true} where I<:Union{Tuple{Vararg{Real,N} where N}, Tuple{AbstractUnitRange,Vararg{Any,N} where N}} where A<:DenseArray where N where T, DenseArray} where N where T, SubArray{T,N,A,I,true} where I<:Union{Tuple{Vararg{Real,N} where N}, Tuple{AbstractUnitRange,Vararg{Any,N} where N}} where A<:DenseArray where N where T, DenseArray} where N where T, DenseArray}} where #s627, ::Union{DenseArray{S,1}, Base.ReinterpretArray{S,1,S1,A} where S1 where A<:Union{SubArray{T,N,A,I,true} where I<:Union{Tuple{Vararg{Real,N} where N}, Tuple{AbstractUnitRange,Vararg{Any,N} where N}} where A<:DenseArray where N where T, DenseArray}, Base.ReshapedArray{S,1,A,MI} where MI<:Tuple{Vararg{Base.MultiplicativeInverses.SignedMultiplicativeInverse{Int64},N} where N} where A<:Union{Base.ReinterpretArray{T,N,S,A} where S where A<:Union{SubArray{T,N,A,I,true} where I<:Union{Tuple{Vararg{Real,N} where N}, Tuple{AbstractUnitRange,Vararg{Any,N} where N}} where A<:DenseArray where N where T, DenseArray} where N where T, SubArray{T,N,A,I,true} where I<:Union{Tuple{Vararg{Real,N} where N}, Tuple{AbstractUnitRange,Vararg{Any,N} where N}} where A<:DenseArray where N where T, DenseArray}, SubArray{S,1,A,I,L} where L where I<:Tuple{Vararg{Union{Int64, AbstractRange{Int64}, Base.AbstractCartesianIndex},N} where N} where A<:Union{Base.ReinterpretArray{T,N,S,A} where S where A<:Union{SubArray{T,N,A,I,true} where I<:Union{Tuple{Vararg{Real,N} where N}, Tuple{AbstractUnitRange,Vararg{Any,N} where N}} where A<:DenseArray where N where T, DenseArray} where N where T, Base.ReshapedArray{T,N,A,MI} where MI<:Tuple{Vararg{Base.MultiplicativeInverses.SignedMultiplicativeInverse{Int64},N} where N} where A<:Union{Base.ReinterpretArray{T,N,S,A} where S where A<:Union{SubArray{T,N,A,I,true} where I<:Union{Tuple{Vararg{Real,N} where N}, Tuple{AbstractUnitRange,Vararg{Any,N} where N}} where A<:DenseArray where N where T, DenseArray} where N where T, SubArray{T,N,A,I,true} where I<:Union{Tuple{Vararg{Real,N} where N}, Tuple{AbstractUnitRange,Vararg{Any,N} where N}} where A<:DenseArray where N where T, DenseArray} where N where T, DenseArray}}) where {T<:Union{Complex{Float32}, Complex{Float64}, Float32, Float64}, S} at /buildworker/worker/package_linux64/build/usr/share/julia/stdlib/v1.3/LinearAlgebra/src/matmul.jl:106\n  *(!Matched::Adjoint{#s627,#s626} where #s626<:LinearAlgebra.AbstractTriangular where #s627, ::AbstractArray{T,1} where T) at /buildworker/worker/package_linux64/build/usr/share/julia/stdlib/v1.3/LinearAlgebra/src/triangular.jl:1877\n  ...",
     "output_type": "error",
     "traceback": [
      "MethodError: no method matching *(::Array{Float64,1}, ::Array{Float64,1})\nClosest candidates are:\n  *(::Any, ::Any, !Matched::Any, !Matched::Any...) at operators.jl:529\n  *(!Matched::Adjoint{#s627,#s626} where #s626<:Union{DenseArray{T,2}, Base.ReinterpretArray{T,2,S,A} where S where A<:Union{SubArray{T,N,A,I,true} where I<:Union{Tuple{Vararg{Real,N} where N}, Tuple{AbstractUnitRange,Vararg{Any,N} where N}} where A<:DenseArray where N where T, DenseArray}, Base.ReshapedArray{T,2,A,MI} where MI<:Tuple{Vararg{Base.MultiplicativeInverses.SignedMultiplicativeInverse{Int64},N} where N} where A<:Union{Base.ReinterpretArray{T,N,S,A} where S where A<:Union{SubArray{T,N,A,I,true} where I<:Union{Tuple{Vararg{Real,N} where N}, Tuple{AbstractUnitRange,Vararg{Any,N} where N}} where A<:DenseArray where N where T, DenseArray} where N where T, SubArray{T,N,A,I,true} where I<:Union{Tuple{Vararg{Real,N} where N}, Tuple{AbstractUnitRange,Vararg{Any,N} where N}} where A<:DenseArray where N where T, DenseArray}, SubArray{T,2,A,I,L} where L where I<:Tuple{Vararg{Union{Int64, AbstractRange{Int64}, Base.AbstractCartesianIndex},N} where N} where A<:Union{Base.ReinterpretArray{T,N,S,A} where S where A<:Union{SubArray{T,N,A,I,true} where I<:Union{Tuple{Vararg{Real,N} where N}, Tuple{AbstractUnitRange,Vararg{Any,N} where N}} where A<:DenseArray where N where T, DenseArray} where N where T, Base.ReshapedArray{T,N,A,MI} where MI<:Tuple{Vararg{Base.MultiplicativeInverses.SignedMultiplicativeInverse{Int64},N} where N} where A<:Union{Base.ReinterpretArray{T,N,S,A} where S where A<:Union{SubArray{T,N,A,I,true} where I<:Union{Tuple{Vararg{Real,N} where N}, Tuple{AbstractUnitRange,Vararg{Any,N} where N}} where A<:DenseArray where N where T, DenseArray} where N where T, SubArray{T,N,A,I,true} where I<:Union{Tuple{Vararg{Real,N} where N}, Tuple{AbstractUnitRange,Vararg{Any,N} where N}} where A<:DenseArray where N where T, DenseArray} where N where T, DenseArray}} where #s627, ::Union{DenseArray{S,1}, Base.ReinterpretArray{S,1,S1,A} where S1 where A<:Union{SubArray{T,N,A,I,true} where I<:Union{Tuple{Vararg{Real,N} where N}, Tuple{AbstractUnitRange,Vararg{Any,N} where N}} where A<:DenseArray where N where T, DenseArray}, Base.ReshapedArray{S,1,A,MI} where MI<:Tuple{Vararg{Base.MultiplicativeInverses.SignedMultiplicativeInverse{Int64},N} where N} where A<:Union{Base.ReinterpretArray{T,N,S,A} where S where A<:Union{SubArray{T,N,A,I,true} where I<:Union{Tuple{Vararg{Real,N} where N}, Tuple{AbstractUnitRange,Vararg{Any,N} where N}} where A<:DenseArray where N where T, DenseArray} where N where T, SubArray{T,N,A,I,true} where I<:Union{Tuple{Vararg{Real,N} where N}, Tuple{AbstractUnitRange,Vararg{Any,N} where N}} where A<:DenseArray where N where T, DenseArray}, SubArray{S,1,A,I,L} where L where I<:Tuple{Vararg{Union{Int64, AbstractRange{Int64}, Base.AbstractCartesianIndex},N} where N} where A<:Union{Base.ReinterpretArray{T,N,S,A} where S where A<:Union{SubArray{T,N,A,I,true} where I<:Union{Tuple{Vararg{Real,N} where N}, Tuple{AbstractUnitRange,Vararg{Any,N} where N}} where A<:DenseArray where N where T, DenseArray} where N where T, Base.ReshapedArray{T,N,A,MI} where MI<:Tuple{Vararg{Base.MultiplicativeInverses.SignedMultiplicativeInverse{Int64},N} where N} where A<:Union{Base.ReinterpretArray{T,N,S,A} where S where A<:Union{SubArray{T,N,A,I,true} where I<:Union{Tuple{Vararg{Real,N} where N}, Tuple{AbstractUnitRange,Vararg{Any,N} where N}} where A<:DenseArray where N where T, DenseArray} where N where T, SubArray{T,N,A,I,true} where I<:Union{Tuple{Vararg{Real,N} where N}, Tuple{AbstractUnitRange,Vararg{Any,N} where N}} where A<:DenseArray where N where T, DenseArray} where N where T, DenseArray}}) where {T<:Union{Complex{Float32}, Complex{Float64}, Float32, Float64}, S} at /buildworker/worker/package_linux64/build/usr/share/julia/stdlib/v1.3/LinearAlgebra/src/matmul.jl:106\n  *(!Matched::Adjoint{#s627,#s626} where #s626<:LinearAlgebra.AbstractTriangular where #s627, ::AbstractArray{T,1} where T) at /buildworker/worker/package_linux64/build/usr/share/julia/stdlib/v1.3/LinearAlgebra/src/triangular.jl:1877\n  ...",
      "",
      "Stacktrace:",
      " [1] top-level scope at In[74]:1"
     ]
    }
   ],
   "source": [
    "ones(2) * ones(2)"
   ]
  },
  {
   "cell_type": "markdown",
   "metadata": {},
   "source": [
    "Se você deseja um produto interno nessa configuração, use `dot()` ou o unicode `\\cdot<TAB>`"
   ]
  },
  {
   "cell_type": "code",
   "execution_count": 75,
   "metadata": {
    "hide-output": false
   },
   "outputs": [
    {
     "data": {
      "text/plain": [
       "2.0"
      ]
     },
     "execution_count": 75,
     "metadata": {},
     "output_type": "execute_result"
    }
   ],
   "source": [
    "dot(ones(2), ones(2))"
   ]
  },
  {
   "cell_type": "markdown",
   "metadata": {},
   "source": [
    "A multiplicação de matrizes usando vetores unidimensionais é um pouco inconsistente -\n",
    "a pré-multiplicação pela matriz está OK, mas a pós-multiplicação gera um erro."
   ]
  },
  {
   "cell_type": "code",
   "execution_count": 76,
   "metadata": {
    "hide-output": false
   },
   "outputs": [
    {
     "data": {
      "text/plain": [
       "2×2 Array{Float64,2}:\n",
       " 1.0  1.0\n",
       " 1.0  1.0"
      ]
     },
     "execution_count": 76,
     "metadata": {},
     "output_type": "execute_result"
    }
   ],
   "source": [
    "b = ones(2, 2)"
   ]
  },
  {
   "cell_type": "code",
   "execution_count": 77,
   "metadata": {
    "hide-output": false
   },
   "outputs": [
    {
     "data": {
      "text/plain": [
       "2-element Array{Float64,1}:\n",
       " 2.0\n",
       " 2.0"
      ]
     },
     "execution_count": 77,
     "metadata": {},
     "output_type": "execute_result"
    }
   ],
   "source": [
    "b * ones(2)"
   ]
  },
  {
   "cell_type": "code",
   "execution_count": 78,
   "metadata": {
    "hide-output": false
   },
   "outputs": [
    {
     "ename": "DimensionMismatch",
     "evalue": "DimensionMismatch(\"A has dimensions (2,1) but B has dimensions (2,2)\")",
     "output_type": "error",
     "traceback": [
      "DimensionMismatch(\"A has dimensions (2,1) but B has dimensions (2,2)\")",
      "",
      "Stacktrace:",
      " [1] gemm_wrapper!(::Array{Float64,2}, ::Char, ::Char, ::Array{Float64,2}, ::Array{Float64,2}, ::LinearAlgebra.MulAddMul{true,true,Float64,Float64}) at /buildworker/worker/package_linux64/build/usr/share/julia/stdlib/v1.3/LinearAlgebra/src/matmul.jl:545",
      " [2] mul! at /buildworker/worker/package_linux64/build/usr/share/julia/stdlib/v1.3/LinearAlgebra/src/matmul.jl:160 [inlined]",
      " [3] mul! at /buildworker/worker/package_linux64/build/usr/share/julia/stdlib/v1.3/LinearAlgebra/src/matmul.jl:203 [inlined]",
      " [4] * at /buildworker/worker/package_linux64/build/usr/share/julia/stdlib/v1.3/LinearAlgebra/src/matmul.jl:153 [inlined]",
      " [5] *(::Array{Float64,1}, ::Array{Float64,2}) at /buildworker/worker/package_linux64/build/usr/share/julia/stdlib/v1.3/LinearAlgebra/src/matmul.jl:63",
      " [6] top-level scope at In[78]:1"
     ]
    }
   ],
   "source": [
    "ones(2) * b"
   ]
  },
  {
   "cell_type": "markdown",
   "metadata": {},
   "source": [
    "### Operações Elementares"
   ]
  },
  {
   "cell_type": "markdown",
   "metadata": {},
   "source": [
    "#### Operações Algébricas\n",
    "\n",
    "Suponha que desejamos multiplicar cada elemento da matriz `A`pelo elemento correspondente da matriz `B`.\n",
    "\n",
    "Nesse caso, precisamos substituir `*`(multiplicação de matrizes) por `.*`(multiplicação por elementos).\n",
    "\n",
    "Por exemplo, compare:"
   ]
  },
  {
   "cell_type": "code",
   "execution_count": 79,
   "metadata": {
    "hide-output": false
   },
   "outputs": [
    {
     "data": {
      "text/plain": [
       "2×2 Array{Float64,2}:\n",
       " 2.0  2.0\n",
       " 2.0  2.0"
      ]
     },
     "execution_count": 79,
     "metadata": {},
     "output_type": "execute_result"
    }
   ],
   "source": [
    "ones(2, 2) * ones(2, 2)   # multiplicação de matrizes"
   ]
  },
  {
   "cell_type": "code",
   "execution_count": 80,
   "metadata": {
    "hide-output": false
   },
   "outputs": [
    {
     "data": {
      "text/plain": [
       "2×2 Array{Float64,2}:\n",
       " 1.0  1.0\n",
       " 1.0  1.0"
      ]
     },
     "execution_count": 80,
     "metadata": {},
     "output_type": "execute_result"
    }
   ],
   "source": [
    "ones(2, 2) .* ones(2, 2)   # multiplicação elemento por elemento"
   ]
  },
  {
   "cell_type": "markdown",
   "metadata": {},
   "source": [
    "Este é um princípio geral: `.x` significa aplicar operador `x` elementar."
   ]
  },
  {
   "cell_type": "code",
   "execution_count": 81,
   "metadata": {
    "hide-output": false
   },
   "outputs": [
    {
     "data": {
      "text/plain": [
       "2×2 Array{Float64,2}:\n",
       " -1.0  -1.0\n",
       " -1.0  -1.0"
      ]
     },
     "execution_count": 81,
     "metadata": {},
     "output_type": "execute_result"
    }
   ],
   "source": [
    "A = -ones(2, 2)"
   ]
  },
  {
   "cell_type": "code",
   "execution_count": 82,
   "metadata": {
    "hide-output": false
   },
   "outputs": [
    {
     "data": {
      "text/plain": [
       "2×2 Array{Float64,2}:\n",
       " 1.0  1.0\n",
       " 1.0  1.0"
      ]
     },
     "execution_count": 82,
     "metadata": {},
     "output_type": "execute_result"
    }
   ],
   "source": [
    "A.^2  # eleva todos os elementos ao quadrado"
   ]
  },
  {
   "cell_type": "markdown",
   "metadata": {},
   "source": [
    "No entanto, na prática, algumas operações são matematicamente válidas sem transmissão e, portanto, `.` podem ser omitidas."
   ]
  },
  {
   "cell_type": "code",
   "execution_count": 83,
   "metadata": {
    "hide-output": false
   },
   "outputs": [
    {
     "data": {
      "text/plain": [
       "2×2 Array{Float64,2}:\n",
       " 2.0  2.0\n",
       " 2.0  2.0"
      ]
     },
     "execution_count": 83,
     "metadata": {},
     "output_type": "execute_result"
    }
   ],
   "source": [
    "ones(2, 2) + ones(2, 2)  # igual a  ones(2, 2) .+ ones(2, 2)"
   ]
  },
  {
   "cell_type": "markdown",
   "metadata": {},
   "source": [
    "A multiplicação escalar é semelhante."
   ]
  },
  {
   "cell_type": "code",
   "execution_count": 84,
   "metadata": {
    "hide-output": false
   },
   "outputs": [
    {
     "data": {
      "text/plain": [
       "2×2 Array{Float64,2}:\n",
       " 1.0  1.0\n",
       " 1.0  1.0"
      ]
     },
     "execution_count": 84,
     "metadata": {},
     "output_type": "execute_result"
    }
   ],
   "source": [
    "A = ones(2, 2)"
   ]
  },
  {
   "cell_type": "code",
   "execution_count": 85,
   "metadata": {
    "hide-output": false
   },
   "outputs": [
    {
     "data": {
      "text/plain": [
       "2×2 Array{Float64,2}:\n",
       " 2.0  2.0\n",
       " 2.0  2.0"
      ]
     },
     "execution_count": 85,
     "metadata": {},
     "output_type": "execute_result"
    }
   ],
   "source": [
    "2 * A  # mesmo como 2 .* A"
   ]
  },
  {
   "cell_type": "markdown",
   "metadata": {},
   "source": [
    "Na verdade, você pode omitir `*` tudo e apenas escrever `2A`.\n",
    "\n",
    "Ao contrário do MATLAB e de outros idiomas, a adição escalar requer a `.+` transmissão correta."
   ]
  },
  {
   "cell_type": "code",
   "execution_count": 86,
   "metadata": {
    "hide-output": false
   },
   "outputs": [
    {
     "data": {
      "text/plain": [
       "2-element Array{Int64,1}:\n",
       " 0\n",
       " 1"
      ]
     },
     "execution_count": 86,
     "metadata": {},
     "output_type": "execute_result"
    }
   ],
   "source": [
    "x = [1, 2]\n",
    "x .+ 1     # não x + 1\n",
    "x .- 1     # não x - 1"
   ]
  },
  {
   "cell_type": "markdown",
   "metadata": {},
   "source": [
    "#### Comparições Elementares \n",
    "\n",
    "As comparações elementares também usam a notação `.x`  de estilo."
   ]
  },
  {
   "cell_type": "code",
   "execution_count": 87,
   "metadata": {
    "hide-output": false
   },
   "outputs": [
    {
     "data": {
      "text/plain": [
       "3-element Array{Int64,1}:\n",
       " 10\n",
       " 20\n",
       " 30"
      ]
     },
     "execution_count": 87,
     "metadata": {},
     "output_type": "execute_result"
    }
   ],
   "source": [
    "a = [10, 20, 30]"
   ]
  },
  {
   "cell_type": "code",
   "execution_count": 88,
   "metadata": {
    "hide-output": false
   },
   "outputs": [
    {
     "data": {
      "text/plain": [
       "3-element Array{Int64,1}:\n",
       " -100\n",
       "    0\n",
       "  100"
      ]
     },
     "execution_count": 88,
     "metadata": {},
     "output_type": "execute_result"
    }
   ],
   "source": [
    "b = [-100, 0, 100]"
   ]
  },
  {
   "cell_type": "code",
   "execution_count": 89,
   "metadata": {
    "hide-output": false
   },
   "outputs": [
    {
     "data": {
      "text/plain": [
       "3-element BitArray{1}:\n",
       " 0\n",
       " 0\n",
       " 1"
      ]
     },
     "execution_count": 89,
     "metadata": {},
     "output_type": "execute_result"
    }
   ],
   "source": [
    "b .> a"
   ]
  },
  {
   "cell_type": "code",
   "execution_count": 90,
   "metadata": {
    "hide-output": false
   },
   "outputs": [
    {
     "data": {
      "text/plain": [
       "3-element BitArray{1}:\n",
       " 0\n",
       " 0\n",
       " 0"
      ]
     },
     "execution_count": 90,
     "metadata": {},
     "output_type": "execute_result"
    }
   ],
   "source": [
    "a .== b"
   ]
  },
  {
   "cell_type": "markdown",
   "metadata": {},
   "source": [
    "Também podemos fazer comparações com escalares com sintaxe paralela."
   ]
  },
  {
   "cell_type": "code",
   "execution_count": 91,
   "metadata": {
    "hide-output": false
   },
   "outputs": [
    {
     "data": {
      "text/plain": [
       "3-element Array{Int64,1}:\n",
       " -100\n",
       "    0\n",
       "  100"
      ]
     },
     "execution_count": 91,
     "metadata": {},
     "output_type": "execute_result"
    }
   ],
   "source": [
    "b"
   ]
  },
  {
   "cell_type": "code",
   "execution_count": 92,
   "metadata": {
    "hide-output": false
   },
   "outputs": [
    {
     "data": {
      "text/plain": [
       "3-element BitArray{1}:\n",
       " 0\n",
       " 0\n",
       " 1"
      ]
     },
     "execution_count": 92,
     "metadata": {},
     "output_type": "execute_result"
    }
   ],
   "source": [
    "b .> 1"
   ]
  },
  {
   "cell_type": "markdown",
   "metadata": {},
   "source": [
    "Isso é particularmente útil para extração condicional - extraindo os elementos de uma matriz que satisfazem uma condição."
   ]
  },
  {
   "cell_type": "code",
   "execution_count": 93,
   "metadata": {
    "hide-output": false
   },
   "outputs": [
    {
     "data": {
      "text/plain": [
       "4-element Array{Float64,1}:\n",
       " -0.3121756665292232\n",
       "  0.4806007200510856\n",
       "  0.3736604782200087\n",
       "  0.8942833931647776"
      ]
     },
     "execution_count": 93,
     "metadata": {},
     "output_type": "execute_result"
    }
   ],
   "source": [
    "a = randn(4)"
   ]
  },
  {
   "cell_type": "code",
   "execution_count": 94,
   "metadata": {
    "hide-output": false
   },
   "outputs": [
    {
     "data": {
      "text/plain": [
       "4-element BitArray{1}:\n",
       " 1\n",
       " 0\n",
       " 0\n",
       " 0"
      ]
     },
     "execution_count": 94,
     "metadata": {},
     "output_type": "execute_result"
    }
   ],
   "source": [
    "a .< 0"
   ]
  },
  {
   "cell_type": "code",
   "execution_count": 95,
   "metadata": {
    "hide-output": false
   },
   "outputs": [
    {
     "data": {
      "text/plain": [
       "1-element Array{Float64,1}:\n",
       " -0.3121756665292232"
      ]
     },
     "execution_count": 95,
     "metadata": {},
     "output_type": "execute_result"
    }
   ],
   "source": [
    "a[a .< 0]"
   ]
  },
  {
   "cell_type": "markdown",
   "metadata": {},
   "source": [
    "#### Mudando as Dimensões\n",
    "\n",
    "A função principal para alterar as dimensões de uma matriz é `reshape()`"
   ]
  },
  {
   "cell_type": "code",
   "execution_count": 96,
   "metadata": {
    "hide-output": false
   },
   "outputs": [
    {
     "data": {
      "text/plain": [
       "4-element Array{Int64,1}:\n",
       " 10\n",
       " 20\n",
       " 30\n",
       " 40"
      ]
     },
     "execution_count": 96,
     "metadata": {},
     "output_type": "execute_result"
    }
   ],
   "source": [
    "a = [10, 20, 30, 40]"
   ]
  },
  {
   "cell_type": "code",
   "execution_count": 97,
   "metadata": {
    "hide-output": false
   },
   "outputs": [
    {
     "data": {
      "text/plain": [
       "2×2 Array{Int64,2}:\n",
       " 10  30\n",
       " 20  40"
      ]
     },
     "execution_count": 97,
     "metadata": {},
     "output_type": "execute_result"
    }
   ],
   "source": [
    "b = reshape(a, 2, 2)"
   ]
  },
  {
   "cell_type": "code",
   "execution_count": 98,
   "metadata": {
    "hide-output": false
   },
   "outputs": [
    {
     "data": {
      "text/plain": [
       "2×2 Array{Int64,2}:\n",
       " 10  30\n",
       " 20  40"
      ]
     },
     "execution_count": 98,
     "metadata": {},
     "output_type": "execute_result"
    }
   ],
   "source": [
    "b"
   ]
  },
  {
   "cell_type": "markdown",
   "metadata": {},
   "source": [
    "Observe que essa função retorna uma exibição na matriz existente.\n",
    "\n",
    "Isso significa que alterar os dados na nova matriz modificará os dados na antiga."
   ]
  },
  {
   "cell_type": "code",
   "execution_count": 99,
   "metadata": {
    "hide-output": false
   },
   "outputs": [
    {
     "data": {
      "text/plain": [
       "100"
      ]
     },
     "execution_count": 99,
     "metadata": {},
     "output_type": "execute_result"
    }
   ],
   "source": [
    "b[1, 1] = 100  # continuando o exemplo anterior"
   ]
  },
  {
   "cell_type": "code",
   "execution_count": 100,
   "metadata": {
    "hide-output": false
   },
   "outputs": [
    {
     "data": {
      "text/plain": [
       "2×2 Array{Int64,2}:\n",
       " 100  30\n",
       "  20  40"
      ]
     },
     "execution_count": 100,
     "metadata": {},
     "output_type": "execute_result"
    }
   ],
   "source": [
    "b"
   ]
  },
  {
   "cell_type": "code",
   "execution_count": 101,
   "metadata": {
    "hide-output": false
   },
   "outputs": [
    {
     "data": {
      "text/plain": [
       "4-element Array{Int64,1}:\n",
       " 100\n",
       "  20\n",
       "  30\n",
       "  40"
      ]
     },
     "execution_count": 101,
     "metadata": {},
     "output_type": "execute_result"
    }
   ],
   "source": [
    "a"
   ]
  },
  {
   "cell_type": "markdown",
   "metadata": {},
   "source": [
    "Para recolher uma matriz ao longo de uma dimensão, você pode usar `dropdims()`"
   ]
  },
  {
   "cell_type": "code",
   "execution_count": 102,
   "metadata": {
    "hide-output": false
   },
   "outputs": [
    {
     "data": {
      "text/plain": [
       "1×4 Array{Int64,2}:\n",
       " 1  2  3  4"
      ]
     },
     "execution_count": 102,
     "metadata": {},
     "output_type": "execute_result"
    }
   ],
   "source": [
    "a = [1 2 3 4]  # duas dimensões"
   ]
  },
  {
   "cell_type": "code",
   "execution_count": 103,
   "metadata": {
    "hide-output": false
   },
   "outputs": [
    {
     "data": {
      "text/plain": [
       "4-element Array{Int64,1}:\n",
       " 1\n",
       " 2\n",
       " 3\n",
       " 4"
      ]
     },
     "execution_count": 103,
     "metadata": {},
     "output_type": "execute_result"
    }
   ],
   "source": [
    "dropdims(a, dims = 1)"
   ]
  },
  {
   "cell_type": "markdown",
   "metadata": {},
   "source": [
    "O valor de retorno é uma matriz com a dimensão especificada \"achatada\"."
   ]
  },
  {
   "cell_type": "markdown",
   "metadata": {},
   "source": [
    "### Funções de Transmissão\n",
    "\n",
    "Julia fornece funções matemáticas padrão, como `log`, `exp`, `sin`, etc."
   ]
  },
  {
   "cell_type": "code",
   "execution_count": 104,
   "metadata": {
    "hide-output": false
   },
   "outputs": [
    {
     "data": {
      "text/plain": [
       "0.0"
      ]
     },
     "execution_count": 104,
     "metadata": {},
     "output_type": "execute_result"
    }
   ],
   "source": [
    "log(1.0)"
   ]
  },
  {
   "cell_type": "markdown",
   "metadata": {},
   "source": [
    "Por padrão, essas funções agem de maneira *elementar* em matrizes."
   ]
  },
  {
   "cell_type": "code",
   "execution_count": 105,
   "metadata": {
    "hide-output": false
   },
   "outputs": [
    {
     "data": {
      "text/plain": [
       "4-element Array{Float64,1}:\n",
       " 0.0               \n",
       " 0.6931471805599453\n",
       " 1.0986122886681098\n",
       " 1.3862943611198906"
      ]
     },
     "execution_count": 105,
     "metadata": {},
     "output_type": "execute_result"
    }
   ],
   "source": [
    "log.(1:4)"
   ]
  },
  {
   "cell_type": "markdown",
   "metadata": {},
   "source": [
    "Observe que podemos obter o mesmo resultado a partir de uma compreensão ou loop mais explícito."
   ]
  },
  {
   "cell_type": "code",
   "execution_count": 106,
   "metadata": {
    "hide-output": false
   },
   "outputs": [
    {
     "data": {
      "text/plain": [
       "4-element Array{Float64,1}:\n",
       " 0.0               \n",
       " 0.6931471805599453\n",
       " 1.0986122886681098\n",
       " 1.3862943611198906"
      ]
     },
     "execution_count": 106,
     "metadata": {},
     "output_type": "execute_result"
    }
   ],
   "source": [
    "[ log(x) for x in 1:4 ]"
   ]
  },
  {
   "cell_type": "markdown",
   "metadata": {},
   "source": [
    "No entanto, a sintaxe é conveniente."
   ]
  },
  {
   "cell_type": "markdown",
   "metadata": {},
   "source": [
    "### Álgebra Linear\n",
    "\n",
    "([Veja a documentação de álgebra linear](https://docs.julialang.org/en/v1/stdlib/LinearAlgebra/))\n",
    "\n",
    "Julia fornece algumas funcionalidades adicionais relacionadas a operações lineares."
   ]
  },
  {
   "cell_type": "code",
   "execution_count": 107,
   "metadata": {
    "hide-output": false
   },
   "outputs": [
    {
     "data": {
      "text/plain": [
       "2×2 Array{Int64,2}:\n",
       " 1  2\n",
       " 3  4"
      ]
     },
     "execution_count": 107,
     "metadata": {},
     "output_type": "execute_result"
    }
   ],
   "source": [
    "A = [1 2; 3 4]"
   ]
  },
  {
   "cell_type": "code",
   "execution_count": 108,
   "metadata": {
    "hide-output": false
   },
   "outputs": [
    {
     "data": {
      "text/plain": [
       "-2.0"
      ]
     },
     "execution_count": 108,
     "metadata": {},
     "output_type": "execute_result"
    }
   ],
   "source": [
    "det(A)"
   ]
  },
  {
   "cell_type": "code",
   "execution_count": 109,
   "metadata": {
    "hide-output": false
   },
   "outputs": [
    {
     "data": {
      "text/plain": [
       "5"
      ]
     },
     "execution_count": 109,
     "metadata": {},
     "output_type": "execute_result"
    }
   ],
   "source": [
    "tr(A)"
   ]
  },
  {
   "cell_type": "code",
   "execution_count": 110,
   "metadata": {
    "hide-output": false
   },
   "outputs": [
    {
     "data": {
      "text/plain": [
       "2-element Array{Float64,1}:\n",
       " -0.3722813232690143\n",
       "  5.372281323269014 "
      ]
     },
     "execution_count": 110,
     "metadata": {},
     "output_type": "execute_result"
    }
   ],
   "source": [
    "eigvals(A)"
   ]
  },
  {
   "cell_type": "code",
   "execution_count": 111,
   "metadata": {
    "hide-output": false
   },
   "outputs": [
    {
     "data": {
      "text/plain": [
       "2"
      ]
     },
     "execution_count": 111,
     "metadata": {},
     "output_type": "execute_result"
    }
   ],
   "source": [
    "rank(A)"
   ]
  },
  {
   "cell_type": "markdown",
   "metadata": {},
   "source": [
    "## Ranges\n",
    "\n",
    "Como muitos outros tipos o `Range` pode atuar como um vetor."
   ]
  },
  {
   "cell_type": "code",
   "execution_count": 112,
   "metadata": {
    "hide-output": false
   },
   "outputs": [
    {
     "name": "stdout",
     "output_type": "stream",
     "text": [
      "Vector(a) = [10, 11, 12]\n"
     ]
    },
    {
     "data": {
      "text/plain": [
       "3-element Array{Float64,1}:\n",
       "  9.0\n",
       " 20.0\n",
       " 33.0"
      ]
     },
     "execution_count": 112,
     "metadata": {},
     "output_type": "execute_result"
    }
   ],
   "source": [
    "a = 10:12        # um intervalo, equivalente a 10: 1: 12 \n",
    "@show Vector(a)  # pode converter, mas não deve\n",
    "\n",
    "b = Diagonal([1.0, 2.0, 3.0])\n",
    "b * a .- [1.0; 2.0; 3.0]"
   ]
  },
  {
   "cell_type": "markdown",
   "metadata": {},
   "source": [
    "Também é possível criar intervalos com números de ponto flutuante usando a mesma notação."
   ]
  },
  {
   "cell_type": "code",
   "execution_count": 113,
   "metadata": {
    "hide-output": false
   },
   "outputs": [
    {
     "data": {
      "text/plain": [
       "0.0:0.1:1.0"
      ]
     },
     "execution_count": 113,
     "metadata": {},
     "output_type": "execute_result"
    }
   ],
   "source": [
    "a = 0.0:0.1:1.0  # 0.0, 0.1, 0.2, ... 1.0"
   ]
  },
  {
   "cell_type": "markdown",
   "metadata": {},
   "source": [
    "Mas deve-se tomar cuidado se o nó do terminal não for um múltiplo dos tamanhos definidos."
   ]
  },
  {
   "cell_type": "code",
   "execution_count": 114,
   "metadata": {
    "hide-output": false
   },
   "outputs": [
    {
     "data": {
      "text/plain": [
       "false"
      ]
     },
     "execution_count": 114,
     "metadata": {},
     "output_type": "execute_result"
    }
   ],
   "source": [
    "maxval = 1.0\n",
    "minval = 0.0\n",
    "stepsize = 0.15\n",
    "a = minval:stepsize:maxval # 0.0, 0.15, 0.3, ...\n",
    "maximum(a) == maxval"
   ]
  },
  {
   "cell_type": "markdown",
   "metadata": {},
   "source": [
    "Para espaçar uniformemente os pontos onde o valor máximo é importante, ou seja, `linspace` em outras linguagens."
   ]
  },
  {
   "cell_type": "code",
   "execution_count": 115,
   "metadata": {
    "hide-output": false
   },
   "outputs": [
    {
     "data": {
      "text/plain": [
       "true"
      ]
     },
     "execution_count": 115,
     "metadata": {},
     "output_type": "execute_result"
    }
   ],
   "source": [
    "maxval = 1.0\n",
    "minval = 0.0\n",
    "numpoints = 10\n",
    "a = range(minval, maxval, length=numpoints)\n",
    "# ou range(minval, stop=maxval, length=numpoints)\n",
    "\n",
    "maximum(a) == maxval"
   ]
  },
  {
   "cell_type": "markdown",
   "metadata": {},
   "source": [
    "## Tuples e Tuples Nomeados\n",
    "\n",
    "([Veja tuples](https://docs.julialang.org/en/v1/manual/functions/#Tuples-1) e [a documentação de tuplas nomeadas](https://docs.julialang.org/en/v1/manual/functions/#Named-Tuples-1))\n",
    "\n",
    "Nós fomos apresentados a *tuples* anteriormente, que fornecem conjuntos imutáveis de alto desempenho de tipos distintos."
   ]
  },
  {
   "cell_type": "code",
   "execution_count": 116,
   "metadata": {
    "hide-output": false
   },
   "outputs": [
    {
     "name": "stdout",
     "output_type": "stream",
     "text": [
      "a = 1.0 and b = test\n"
     ]
    }
   ],
   "source": [
    "t = (1.0, \"test\")\n",
    "t[1]            # acessa pelo índice\n",
    "a, b = t        # descompacta\n",
    "# t[1] = 3.0    # falharia, pois as tuplas são imutáveis  \n",
    "println(\"a = $a and b = $b\")"
   ]
  },
  {
   "cell_type": "markdown",
   "metadata": {},
   "source": [
    "Bem como **tuplas nomeadas** , que estendem tuplas com nomes para cada argumento."
   ]
  },
  {
   "cell_type": "code",
   "execution_count": 117,
   "metadata": {
    "hide-output": false
   },
   "outputs": [
    {
     "name": "stdout",
     "output_type": "stream",
     "text": [
      "val1 = 1.0 and val1 = 1.0\n"
     ]
    }
   ],
   "source": [
    "t = (val1 = 1.0, val2 = \"test\")\n",
    "t.val1      # acesso pelo índice \n",
    "# a, b = t  # estilo ruim,melhor descompactar pelo nome com o @unpack\n",
    "println(\"val1 = $(t.val1) and val1 = $(t.val1)\") # acesso pelo nome"
   ]
  },
  {
   "cell_type": "markdown",
   "metadata": {},
   "source": [
    "Embora imutável, é possível manipular tuplas e gerar novas."
   ]
  },
  {
   "cell_type": "code",
   "execution_count": 118,
   "metadata": {
    "hide-output": false
   },
   "outputs": [
    {
     "data": {
      "text/plain": [
       "(val1 = 1.0, val2 = \"test\", val3 = 4, val4 = \"test!!\")"
      ]
     },
     "execution_count": 118,
     "metadata": {},
     "output_type": "execute_result"
    }
   ],
   "source": [
    "t2 = (val3 = 4, val4 = \"test!!\")\n",
    "t3 = merge(t, t2)  # nova tuple"
   ]
  },
  {
   "cell_type": "markdown",
   "metadata": {},
   "source": [
    "As tuplas nomeadas são uma maneira conveniente e de alto desempenho para gerenciar e descompactar conjuntos de parâmetros."
   ]
  },
  {
   "cell_type": "code",
   "execution_count": 119,
   "metadata": {
    "hide-output": false
   },
   "outputs": [
    {
     "data": {
      "text/plain": [
       "0.30000000000000004"
      ]
     },
     "execution_count": 119,
     "metadata": {},
     "output_type": "execute_result"
    }
   ],
   "source": [
    "function f(parameters)\n",
    "    α, β = parameters.α, parameters.β  # estilo pobre, propenso a erros se adicionar parâmetros\n",
    "    return α + β\n",
    "end\n",
    "\n",
    "parameters = (α = 0.1, β = 0.2)\n",
    "f(parameters)"
   ]
  },
  {
   "cell_type": "markdown",
   "metadata": {},
   "source": [
    "Essa funcionalidade é auxiliada pelo pacote `Parameters.jl` e pela macro `@unpack`."
   ]
  },
  {
   "cell_type": "code",
   "execution_count": 120,
   "metadata": {
    "hide-output": false
   },
   "outputs": [
    {
     "data": {
      "text/plain": [
       "0.30000000000000004"
      ]
     },
     "execution_count": 120,
     "metadata": {},
     "output_type": "execute_result"
    }
   ],
   "source": [
    "using Parameters\n",
    "\n",
    "function f(parameters)\n",
    "    @unpack α, β = parameters  # bom estilo, menos sensível a erros\n",
    "    return α + β\n",
    "end\n",
    "\n",
    "parameters = (α = 0.1, β = 0.2)\n",
    "f(parameters)"
   ]
  },
  {
   "cell_type": "markdown",
   "metadata": {},
   "source": [
    "Para gerenciar valores padrão, use o macro `@with_kw`."
   ]
  },
  {
   "cell_type": "code",
   "execution_count": 121,
   "metadata": {
    "hide-output": false
   },
   "outputs": [
    {
     "name": "stdout",
     "output_type": "stream",
     "text": [
      "paramgen() = (α = 0.1, β = 0.2)\n",
      "paramgen(α=0.2) = (α = 0.2, β = 0.2)\n",
      "paramgen(α=0.2, β=0.5) = (α = 0.2, β = 0.5)\n"
     ]
    }
   ],
   "source": [
    "using Parameters\n",
    "paramgen = @with_kw (α = 0.1, β = 0.2)  # Cria tuples nomeadas com padrãos\n",
    "\n",
    "# cria tuplas nomeadas, substituindo os padrões\n",
    "@show paramgen()  # chamando sem argumentos fornece todos os padrões \n",
    "@show paramgen(α = 0.2)\n",
    "@show paramgen(α = 0.2, β = 0.5);"
   ]
  },
  {
   "cell_type": "markdown",
   "metadata": {},
   "source": [
    "Uma abordagem alternativa, definindo um novo tipo usando, `struct` tende a ser mais propensa a uso indevido acidental e leva a uma grande quantidade de código padrão.\n",
    "\n",
    "Por isso, e por outras razões de generalidade, usaremos tuplas nomeadas para coleções de parâmetros sempre que possível."
   ]
  },
  {
   "cell_type": "markdown",
   "metadata": {},
   "source": [
    "## Nothing, Missing, e Unions\n",
    "\n",
    "Às vezes, uma variável, tipo de retorno de uma função ou valor em uma matriz precisa representar a ausência de um valor em vez de um valor específico.\n",
    "\n",
    "Existem dois casos de uso distintos para isso:\n",
    "\n",
    "1. `nothing` (“software engineers null”): usado onde nenhum valor faz sentido em um contexto específico devido a uma falha no código, um parâmetro de função não passada, etc.\n",
    "1. `missing` (“data scientists null”):usado quando um valor faria sentido conceitual, mas não está disponível.\n",
    "\n",
    "\n",
    "\n",
    "<a id='error-handling'></a>"
   ]
  },
  {
   "cell_type": "markdown",
   "metadata": {},
   "source": [
    "### Nothing e Tratamento de Erros Básicos\n",
    "\n",
    "O valor `nothing` é um único valor do tipo `Nothing`"
   ]
  },
  {
   "cell_type": "code",
   "execution_count": 122,
   "metadata": {
    "hide-output": false
   },
   "outputs": [
    {
     "data": {
      "text/plain": [
       "Nothing"
      ]
     },
     "execution_count": 122,
     "metadata": {},
     "output_type": "execute_result"
    }
   ],
   "source": [
    "typeof(nothing)"
   ]
  },
  {
   "cell_type": "markdown",
   "metadata": {},
   "source": [
    "Um exemplo de uso razoável de `nothing` é se você precisar ter uma variável definida em um escopo externo, que pode ou não ser definido em um escopo interno."
   ]
  },
  {
   "cell_type": "code",
   "execution_count": 123,
   "metadata": {
    "hide-output": false
   },
   "outputs": [
    {
     "name": "stdout",
     "output_type": "stream",
     "text": [
      "x = 1.0\n",
      "f(1.0) = 1.0\n",
      "x was not set\n",
      "f(-1.0) = nothing\n"
     ]
    }
   ],
   "source": [
    "function f(y)\n",
    "    x = nothing\n",
    "    if y > 0.0\n",
    "        # cálculos para definir `x`\n",
    "        x = y\n",
    "    end\n",
    "\n",
    "    # depois, pode verificar `x` \n",
    "    if isnothing(x)\n",
    "        println(\"x was not set\")\n",
    "    else\n",
    "        println(\"x = $x\")\n",
    "    end\n",
    "    x\n",
    "end\n",
    "\n",
    "@show f(1.0)\n",
    "@show f(-1.0);"
   ]
  },
  {
   "cell_type": "markdown",
   "metadata": {},
   "source": [
    "Embora em geral você queira manter um nome de variável vinculado a um único tipo em Julia, essa é uma exceção notável.\n",
    "\n",
    "Da mesma forma, se necessário, você pode retornar `nothing` de uma função para indicar que ela não foi calculada conforme o esperado."
   ]
  },
  {
   "cell_type": "code",
   "execution_count": 124,
   "metadata": {
    "hide-output": false
   },
   "outputs": [
    {
     "name": "stdout",
     "output_type": "stream",
     "text": [
      "f(-1.0) failed\n"
     ]
    }
   ],
   "source": [
    "function f(x)\n",
    "    if x > 0.0\n",
    "        return sqrt(x)\n",
    "    else\n",
    "        return nothing\n",
    "    end\n",
    "end\n",
    "x1 = 1.0\n",
    "x2 = -1.0\n",
    "y1 = f(x1)\n",
    "y2 = f(x2)\n",
    "\n",
    "# verifique os resultados com isnothing\n",
    "if isnothing(y1)\n",
    "    println(\"f($x2) successful\")\n",
    "else\n",
    "    println(\"f($x2) failed\");\n",
    "end"
   ]
  },
  {
   "cell_type": "markdown",
   "metadata": {},
   "source": [
    "Como um aparte, uma maneira equivalente de escrever a função acima é usar o\n",
    "[operador ternário](https://docs.julialang.org/en/v1/manual/control-flow/index.html#man-conditional-evaluation-1),\n",
    " que fornece uma estrutura compacta if/then/else."
   ]
  },
  {
   "cell_type": "code",
   "execution_count": 125,
   "metadata": {
    "hide-output": false
   },
   "outputs": [
    {
     "data": {
      "text/plain": [
       "1.0"
      ]
     },
     "execution_count": 125,
     "metadata": {},
     "output_type": "execute_result"
    }
   ],
   "source": [
    "function f(x)\n",
    "    x > 0.0 ? sqrt(x) : nothing  # o padrão \"a? b: c\" é o ternário\n",
    "end\n",
    "\n",
    "f(1.0)"
   ]
  },
  {
   "cell_type": "markdown",
   "metadata": {},
   "source": [
    "Às vezes, usaremos este formulário quando tornar o código mais claro (e ocasionalmente aumentará o desempenho do código).\n",
    "\n",
    "Independentemente de como `f(x)` está escrito, o tipo de retorno é um exemplo de união, onde o resultado pode ser um de um conjunto explícito de tipos.\n",
    "\n",
    "Nesse caso específico, o compilador deduziria que o tipo seria um `Union{Nothing,Float64}`- ou seja, ele retornará um ponto flutuante ou um `nothing`.\n",
    "\n",
    "Você verá esse tipo diretamente se usar uma matriz que contenha os dois tipos."
   ]
  },
  {
   "cell_type": "code",
   "execution_count": 126,
   "metadata": {
    "hide-output": false
   },
   "outputs": [
    {
     "data": {
      "text/plain": [
       "2-element Array{Union{Nothing, Float64},1}:\n",
       " 1.0     \n",
       "  nothing"
      ]
     },
     "execution_count": 126,
     "metadata": {},
     "output_type": "execute_result"
    }
   ],
   "source": [
    "x = [1.0, nothing]"
   ]
  },
  {
   "cell_type": "markdown",
   "metadata": {},
   "source": [
    "Ao considerar o tratamento de erros, se você deseja que uma função retorne `nothing` ou simplesmente falhe, depende se a chamada de código `f(x)` está verificando cuidadosamente os resultados.\n",
    "\n",
    "Por exemplo, se você estava chamando uma matriz de parâmetros em que a priori não tinha certeza de quais serão bem-sucedidos, então:"
   ]
  },
  {
   "cell_type": "code",
   "execution_count": 127,
   "metadata": {
    "hide-output": false
   },
   "outputs": [
    {
     "data": {
      "text/plain": [
       "4-element Array{Union{Nothing, Float64},1}:\n",
       " 0.31622776601683794\n",
       "  nothing           \n",
       " 1.4142135623730951 \n",
       "  nothing           "
      ]
     },
     "execution_count": 127,
     "metadata": {},
     "output_type": "execute_result"
    }
   ],
   "source": [
    "x = [0.1, -1.0, 2.0, -2.0]\n",
    "y = f.(x)\n",
    "\n",
    "# presumivelmente verifique `y`"
   ]
  },
  {
   "cell_type": "markdown",
   "metadata": {},
   "source": [
    "Por outro lado, se o parâmetro passado for inválido e você preferir não lidar com uma falha normal, usar uma asserção será mais apropriado."
   ]
  },
  {
   "cell_type": "code",
   "execution_count": 128,
   "metadata": {
    "hide-output": false
   },
   "outputs": [
    {
     "data": {
      "text/plain": [
       "1.0"
      ]
     },
     "execution_count": 128,
     "metadata": {},
     "output_type": "execute_result"
    }
   ],
   "source": [
    "function f(x)\n",
    "    @assert x > 0.0\n",
    "    sqrt(x)\n",
    "end\n",
    "\n",
    "f(1.0)"
   ]
  },
  {
   "cell_type": "markdown",
   "metadata": {},
   "source": [
    "Por fim, `nothing` é uma boa maneira de indicar um parâmetro opcional em uma função."
   ]
  },
  {
   "cell_type": "code",
   "execution_count": 129,
   "metadata": {
    "hide-output": false
   },
   "outputs": [
    {
     "name": "stdout",
     "output_type": "stream",
     "text": [
      "No z given with 1.0\n",
      "z = 3.0 given with 1.0\n"
     ]
    }
   ],
   "source": [
    "function f(x; z = nothing)\n",
    "\n",
    "    if isnothing(z)\n",
    "        println(\"No z given with $x\")\n",
    "    else\n",
    "        println(\"z = $z given with $x\")\n",
    "    end\n",
    "end\n",
    "\n",
    "f(1.0)\n",
    "f(1.0, z=3.0)"
   ]
  },
  {
   "cell_type": "markdown",
   "metadata": {},
   "source": [
    "Uma alternativa para `nothing`, que pode ser útil e, às vezes, com desempenho mais alto, é usar `NaN` para sinalizar que um valor é inválido ao retornar de uma função."
   ]
  },
  {
   "cell_type": "code",
   "execution_count": 130,
   "metadata": {
    "hide-output": false
   },
   "outputs": [
    {
     "name": "stdout",
     "output_type": "stream",
     "text": [
      "typeof(f(-1.0)) = Float64\n",
      "f(-1.0) == NaN = false\n",
      "isnan(f(-1.0)) = true\n"
     ]
    },
    {
     "data": {
      "text/plain": [
       "true"
      ]
     },
     "execution_count": 130,
     "metadata": {},
     "output_type": "execute_result"
    }
   ],
   "source": [
    "function f(x)\n",
    "    if x > 0.0\n",
    "        return x\n",
    "    else\n",
    "        return NaN\n",
    "    end\n",
    "end\n",
    "\n",
    "f(0.1)\n",
    "f(-1.0)\n",
    "\n",
    "@show typeof(f(-1.0))\n",
    "@show f(-1.0) == NaN  # nota, isso falha!\n",
    "@show isnan(f(-1.0))  # verifique isso"
   ]
  },
  {
   "cell_type": "markdown",
   "metadata": {},
   "source": [
    "Observe que, nesse caso, o tipo de retorno é `Float64` independente da entrada para o input `Float64`.\n",
    "\n",
    "Lembre-se, porém, de que isso só funciona se o tipo de retorno de uma função for `Float64`."
   ]
  },
  {
   "cell_type": "markdown",
   "metadata": {},
   "source": [
    "### Exceções\n",
    "\n",
    "(veja [a documentação de excessões](https://docs.julialang.org/en/v1/manual/control-flow/index.html#Exception-Handling-1))\n",
    "\n",
    "Embora retornar um `nothing` possa ser uma boa maneira de lidar com funções que podem ou não retornar valores, um método mais robusto de tratamento de erros é usar exceções.\n",
    "\n",
    "A menos que você esteja escrevendo um pacote, raramente desejará definir e lançar suas próprias exceções, mas precisará lidar com eles de outras bibliotecas.\n",
    "\n",
    "A distinção de chave para quando usar uma exceção *vs.* o retorno `nothing` é se um erro é inesperado em vez de um caminho normal de execução.\n",
    "\n",
    "Um exemplo de exceção é a `DomainError`, que significa que um valor passado para uma função é inválido."
   ]
  },
  {
   "cell_type": "code",
   "execution_count": 131,
   "metadata": {
    "hide-output": false
   },
   "outputs": [
    {
     "data": {
      "text/plain": [
       "DomainError(-1.0, \"sqrt will only return a complex result if called with a complex argument. Try sqrt(Complex(x)).\")"
      ]
     },
     "execution_count": 131,
     "metadata": {},
     "output_type": "execute_result"
    }
   ],
   "source": [
    "# lança exceção, desativada para impedir a quebra de bloco de anotações \n",
    "# sqrt(-1.0)\n",
    "\n",
    "# para ver o erro\n",
    "try sqrt(-1.0); catch err; err end  # captura a exceção e a printa"
   ]
  },
  {
   "cell_type": "markdown",
   "metadata": {},
   "source": [
    "Outro exemplo que você verá é quando o compilador não pode converter entre tipos."
   ]
  },
  {
   "cell_type": "code",
   "execution_count": 132,
   "metadata": {
    "hide-output": false
   },
   "outputs": [
    {
     "data": {
      "text/plain": [
       "InexactError(:Int64, Int64, 3.12)"
      ]
     },
     "execution_count": 132,
     "metadata": {},
     "output_type": "execute_result"
    }
   ],
   "source": [
    "# lança exceção, desativada para evitar a quebra de bloco de anotações \n",
    "# converte (Int64, 3.12)\n",
    "\n",
    "# para ver o erro\n",
    "try convert(Int64, 3.12); catch err; err end  # captura a excessão e a printa"
   ]
  },
  {
   "cell_type": "markdown",
   "metadata": {},
   "source": [
    "Se essas exceções forem geradas a partir de casos inesperados no seu código, pode ser apropriado simplesmente permitir que elas ocorram e garantir que você possa ler o erro.\n",
    "\n",
    "Ocasionalmente, você deseja capturar esses erros e tentar recuperar, como fizemos acima no bloco `try`."
   ]
  },
  {
   "cell_type": "code",
   "execution_count": 133,
   "metadata": {
    "hide-output": false
   },
   "outputs": [
    {
     "data": {
      "text/plain": [
       "0.0 + 1.0im"
      ]
     },
     "execution_count": 133,
     "metadata": {},
     "output_type": "execute_result"
    }
   ],
   "source": [
    "function f(x)\n",
    "    try\n",
    "        sqrt(x)\n",
    "    catch err                # entra se a exceção é lançada \n",
    "        sqrt(complex(x, 0))  # converte para número complexo \n",
    "    end\n",
    "end\n",
    "\n",
    "f(0.0)\n",
    "f(-1.0)"
   ]
  },
  {
   "cell_type": "markdown",
   "metadata": {},
   "source": [
    "\n",
    "<a id='missing'></a>"
   ]
  },
  {
   "cell_type": "markdown",
   "metadata": {},
   "source": [
    "### Missing\n",
    "\n",
    "(Veja a [ documentação de \"missing\"](https://docs.julialang.org/en/v1/manual/missing/))\n",
    "\n",
    "O valor `missing` do tipo `Missing`é usado para representar o valor ausente em sentido estatístico.\n",
    "\n",
    "Por exemplo, se você carregou dados de um painel e existiam lacunas.\n"
   ]
  },
  {
   "cell_type": "code",
   "execution_count": 134,
   "metadata": {
    "hide-output": false
   },
   "outputs": [
    {
     "data": {
      "text/plain": [
       "5-element Array{Union{Missing, Float64},1}:\n",
       " 3.0     \n",
       "  missing\n",
       " 5.0     \n",
       "  missing\n",
       "  missing"
      ]
     },
     "execution_count": 134,
     "metadata": {},
     "output_type": "execute_result"
    }
   ],
   "source": [
    "x = [3.0, missing, 5.0, missing, missing]"
   ]
  },
  {
   "cell_type": "markdown",
   "metadata": {},
   "source": [
    "Uma característica fundamental do `missing` é que ela se propaga através de outras chamadas de função - ao contrário do `nothing`"
   ]
  },
  {
   "cell_type": "code",
   "execution_count": 135,
   "metadata": {
    "hide-output": false
   },
   "outputs": [
    {
     "name": "stdout",
     "output_type": "stream",
     "text": [
      "missing + 1.0 = missing\n",
      "missing * 2 = missing\n",
      "missing * \"test\" = missing\n",
      "f(missing) = missing\n",
      "mean(x) = missing\n"
     ]
    }
   ],
   "source": [
    "f(x) = x^2\n",
    "\n",
    "@show missing + 1.0\n",
    "@show missing * 2\n",
    "@show missing * \"test\"\n",
    "@show f(missing);      # até funções definidas pelo usuário \n",
    "@show mean(x);"
   ]
  },
  {
   "cell_type": "markdown",
   "metadata": {},
   "source": [
    "O objetivo disso é garantir que as falhas não falhem silenciosamente e fornecer resultados numéricos sem sentido.\n",
    "\n",
    "Isso também se aplica à comparação de valores, que:"
   ]
  },
  {
   "cell_type": "code",
   "execution_count": 136,
   "metadata": {
    "hide-output": false
   },
   "outputs": [
    {
     "name": "stdout",
     "output_type": "stream",
     "text": [
      "x == missing = missing\n",
      "x === missing = true\n",
      "ismissing(x) = true\n"
     ]
    }
   ],
   "source": [
    "x = missing\n",
    "\n",
    "@show x == missing\n",
    "@show x === missing  # um exceção\n",
    "@show ismissing(x);"
   ]
  },
  {
   "cell_type": "markdown",
   "metadata": {},
   "source": [
    "Onde `ismissing` é a maneira canônica de testar o valor.\n",
    "\n",
    "No caso em que você deseja calcular um valor sem os valores ausentes, você pode usar `skipmissing`."
   ]
  },
  {
   "cell_type": "code",
   "execution_count": 137,
   "metadata": {
    "hide-output": false
   },
   "outputs": [
    {
     "name": "stdout",
     "output_type": "stream",
     "text": [
      "mean(x) = missing\n",
      "mean(skipmissing(x)) = 2.6666666666666665\n",
      "coalesce.(x, 0.0) = [1.0, 0.0, 2.0, 0.0, 0.0, 5.0]\n"
     ]
    }
   ],
   "source": [
    "x = [1.0, missing, 2.0, missing, missing, 5.0]\n",
    "\n",
    "@show mean(x)\n",
    "@show mean(skipmissing(x))\n",
    "@show coalesce.(x, 0.0);  # substitui missing com 0.0;"
   ]
  },
  {
   "cell_type": "markdown",
   "metadata": {},
   "source": [
    "Como `missing` é semelhante ao tipo R `NA`, veremos mais `missing` quando abordamos`DataFrames`"
   ]
  },
  {
   "cell_type": "markdown",
   "metadata": {},
   "source": [
    "## Exercícios\n",
    "\n",
    "\n",
    "<a id='np-ex1'></a>"
   ]
  },
  {
   "cell_type": "markdown",
   "metadata": {},
   "source": [
    "### Exercício 1\n",
    "\n",
    "Este exercício utiliza operações matriciais que surgem em certos problemas, inclusive ao lidar com equações de diferença estocástica linear.\n",
    "\n",
    "Se você não estiver familiarizado com toda a terminologia, não se preocupe - você pode ler a discussão de fundo e se concentrar apenas no exercício da matriz.\n",
    "\n",
    "Com isso dito, considere a equação da diferença estocástica:\n",
    "\n",
    "\n",
    "<a id='equation-ja-sde'></a>\n",
    "$$\n",
    "X_{t+1} = A X_t + b + \\Sigma W_{t+1} \\tag{1}\n",
    "$$\n",
    "\n",
    "Onde\n",
    "\n",
    "- $ X_t, b $ e $ X_{t+1} $ são $ n \\times 1 $  \n",
    "- $ A $ é $ n \\times n $  \n",
    "- $ \\Sigma $ é $ n \\times k $  \n",
    "- $ W_t $ é $ k \\times 1 $ é $ \\{W_t\\} $ é iid com média zero e matriz de variância-covariância igual à matriz de identidade.\n",
    "\n",
    "\n",
    "faça $ S_t $ denotar $ n \\times n $ a matriz de variância e covariância de $ X_t $\n",
    "\n",
    "Usando as regras para calcular variações em expressões matriciais, pode ser mostrado em [(1)](#equation-ja-sde) que $ \\{S_t\\} $ obedece\n",
    "\n",
    "\n",
    "<a id='equation-ja-sde-v'></a>\n",
    "$$\n",
    "S_{t+1} = A S_t A' + \\Sigma \\Sigma' \\tag{2}\n",
    "$$\n",
    "\n",
    "Pode-se demonstrar que, desde que todos os autovalores de  $ A $ dentro do círculo unitário, a sequência $ \\{S_t\\} $ convege para um limite único $ S $\n",
    "\n",
    "Esta é a **variação incondicional** ou **variação assintótica** da equação da diferença estocástica.\n",
    "\n",
    "Como exercício, tente escrever uma função simples que resolva para o limite $ S $ iterado em [(2)](#equation-ja-sde-v) dado $ A $ e $ \\Sigma $\n",
    "\n",
    "Para testar sua solução, observe que o limite $ S $ é uma solução para a equação da matriz:\n",
    "\n",
    "\n",
    "<a id='equation-ja-dle'></a>\n",
    "$$\n",
    "S = A S A' + Q\n",
    "\\quad \\text{onde} \\quad Q := \\Sigma \\Sigma' \\tag{3}\n",
    "$$\n",
    "\n",
    "Esse tipo de equação é conhecida como **equação de Lyapunov de tempo discreto**.\n",
    "\n",
    "O [pacote QuantEcon ](http://quantecon.org/julia_index.html)\n",
    "fornece uma função chamada `solve_discrete_lyapunov` que implementa um rápido algoritmo de \"duplicação\" para resolver essa equação.\n",
    "\n",
    "Teste seu método iterativo em relação ao `solve_discrete_lyapunov` usando matrizes:\n",
    "\n",
    "$$\n",
    "A =\n",
    "\\begin{bmatrix}\n",
    "    0.8 & -0.2  \\\\\n",
    "    -0.1 & 0.7\n",
    "\\end{bmatrix}\n",
    "\\qquad\n",
    "\\Sigma =\n",
    "\\begin{bmatrix}\n",
    "    0.5 & 0.4 \\\\\n",
    "    0.4 & 0.6\n",
    "\\end{bmatrix}\n",
    "$$"
   ]
  },
  {
   "cell_type": "markdown",
   "metadata": {},
   "source": [
    "### Exercício 2\n",
    "\n",
    "Faça um processo estocástico para $ \\{y_t\\}_{t=0}^T $\n",
    "\n",
    "$$\n",
    "y_{t+1} = \\gamma + \\theta y_t + \\sigma w_{t+1}\n",
    "$$\n",
    "\n",
    "onde\n",
    "\n",
    "- $ w_{t+1} $ é $\\sim $ N **(0,1)**\n",
    "\n",
    "- $ \\gamma=1, \\sigma=1, y_0 = 0 $  \n",
    "- $ \\theta \\in \\Theta \\equiv \\{0.8, 0.9, 0.98\\} $  \n",
    "\n",
    "\n",
    "Dados esses parâmetros\n",
    "\n",
    "- simule uma única $ y_t $ série para cada $ \\theta \\in \\Theta $\n",
    "  para $ T = 150 $.  Sinta-se livre para experimentar diferentes $ T $  \n",
    "- Gráficos de sobreposição da média móvel do processo para cada $ \\theta \\in \\Theta $,\n",
    "   ou seja, para cada  $ 1 \\leq \\tau \\leq T $ plote:\n",
    "\n",
    "\n",
    "$$\n",
    "\\frac{1}{\\tau}\\sum_{t=1}^{\\tau}y_T\n",
    "$$\n",
    "\n",
    "- Simule $ N=200 $ formas do processo estocástico acima para o $ T $,\n",
    "  para cada $ \\theta \\in \\Theta $, onde nos referimos a um elemento de uma simulação específica como $ y^n_t $  \n",
    "  \n",
    "- Overlay plota um histograma da distribuição estacionária do  $ y^n_T $ para cada $ \\theta \\in \\Theta $.  Dica: passe`alpha`.\n",
    "  para um gráfico e torná-lo transparente (ou seja `histogram(vals, alpha = 0.5)`) ou\n",
    "  use `stephist(vals)` para mostrar apenas a função de etapa do histograma.\n",
    "- Encontre numericamente a média e a variância disso como uma média de conjunto, ou seja\n",
    "  $ \\sum_{n=1}^N\\frac{y^n_T}{N} $ e\n",
    "  $ \\sum_{n=1}^N\\frac{(y_T^n)^2}{N} -\\left(\\sum_{n=1}^N\\frac{y^n_T}{N}\\right)^2 $  \n",
    "\n",
    "\n",
    "Mais tarde, interpretaremos alguns deles [nesta aula](https://lectures.quantecon.org/tools_and_techniques/lln_clt.html)"
   ]
  },
  {
   "cell_type": "markdown",
   "metadata": {},
   "source": [
    "### Exercício 3\n",
    "\n",
    "Deixe o processo de geração de dados para uma variável ser:\n",
    "\n",
    "$$\n",
    "y = a x_1 + b x_1^2 + c x_2 + d + \\sigma w\n",
    "$$\n",
    "\n",
    "onde $ y, x_1, x_2 $ são variaveis escalares observáveis, $ a,b,c,d $ são parâmetros para serem estimados, e $ w $ é normal *iid* com média 0 e variância 1.\n",
    "\n",
    "Primeiro, vamos simular os dados para estimar os parâmetros:\n",
    "\n",
    "- Faça $ N=50 $ valores para $ x_1, x_2 $ de distribuições normais *iid* \n",
    "\n",
    "\n",
    "Então, simule com $ w $ diferentes\n",
    "* Faça um vetor $ w $ para `N` valores e então `y` para isso simule dados se os parâmentros forem $ a = 0.1, b = 0.2 c = 0.5, d = 1.0, \\sigma = 0.1 $\n",
    "* Repita então aquilo que você tem  `M = 20` diferentes simulações de `y`  para `N` valores\n",
    "\n",
    "Finalmente, calcule a ordem dos mínimos quadrados ordinários manualmente (por exemplo,  coloque os observáveis ​​em matrizes e vetores e use diretamente as equações para\n",
    "[MQO](https://en.wikipedia.org/wiki/Ordinary_least_squares) em vez de um pacote)\n",
    "\n",
    "- Para cada uma das simulações `M=20`, calcule as estimativas de MQO $ a, b, c, d, \\sigma $  \n",
    "- Plote um histograma dessas variações para cada variável "
   ]
  },
  {
   "cell_type": "markdown",
   "metadata": {},
   "source": [
    "### Exercício 4\n",
    "\n",
    "Refaça o exercício 1 usando a função `fixedpoint` disbonível em `NLsolve` [nessa aula](https://julia.quantecon.org/julia_by_example.html).\n",
    "\n",
    "Compare o número de iterações da Anderson Acceleration do NLsolve com a iteração codificada à mão usada no Exercício 1.\n",
    "\n",
    "Dica: converta a matriz em um vetor para usar `fixedpoint`. ou seja. `A = [1 2; 3 4]` então `x = reshape(A, 4)` transforma em um vetor. Reverter, `reshape(x, 2, 2)`."
   ]
  },
  {
   "cell_type": "markdown",
   "metadata": {},
   "source": [
    "## Soluções"
   ]
  },
  {
   "cell_type": "markdown",
   "metadata": {},
   "source": [
    "### Exercício 1\n",
    "\n",
    "Aqui está uma abordagem iterativa:"
   ]
  },
  {
   "cell_type": "code",
   "execution_count": 138,
   "metadata": {
    "hide-output": false
   },
   "outputs": [
    {
     "data": {
      "text/plain": [
       "compute_asymptotic_var (generic function with 1 method)"
      ]
     },
     "execution_count": 138,
     "metadata": {},
     "output_type": "execute_result"
    }
   ],
   "source": [
    "function compute_asymptotic_var(A, Σ;\n",
    "                                S0 = Σ * Σ',\n",
    "                                tolerance = 1e-6,\n",
    "                                maxiter = 500)\n",
    "    V = Σ * Σ'\n",
    "    S = S0\n",
    "    err = tolerance + 1\n",
    "    i = 1\n",
    "    while err > tolerance && i ≤ maxiter\n",
    "        next_S = A * S * A' + V\n",
    "        err = norm(S - next_S)\n",
    "        S = next_S\n",
    "        i += 1\n",
    "    end\n",
    "    return S\n",
    "end"
   ]
  },
  {
   "cell_type": "code",
   "execution_count": 139,
   "metadata": {
    "hide-output": false
   },
   "outputs": [
    {
     "data": {
      "text/plain": [
       "2×2 Array{Float64,2}:\n",
       " 0.5  0.4\n",
       " 0.4  0.6"
      ]
     },
     "execution_count": 139,
     "metadata": {},
     "output_type": "execute_result"
    }
   ],
   "source": [
    "A = [0.8  -0.2;\n",
    "     -0.1  0.7]\n",
    "\n",
    "Σ = [0.5 0.4;\n",
    "     0.4 0.6]"
   ]
  },
  {
   "cell_type": "markdown",
   "metadata": {},
   "source": [
    "Note que todos os autovalores de $ A $ encontram-se dentro do disco da unidade."
   ]
  },
  {
   "cell_type": "code",
   "execution_count": 140,
   "metadata": {
    "hide-output": false
   },
   "outputs": [
    {
     "data": {
      "text/plain": [
       "0.9"
      ]
     },
     "execution_count": 140,
     "metadata": {},
     "output_type": "execute_result"
    }
   ],
   "source": [
    "maximum(abs, eigvals(A))"
   ]
  },
  {
   "cell_type": "markdown",
   "metadata": {},
   "source": [
    "Vamos computar a variância assintótica."
   ]
  },
  {
   "cell_type": "code",
   "execution_count": 141,
   "metadata": {
    "hide-output": false
   },
   "outputs": [
    {
     "data": {
      "text/plain": [
       "2×2 Array{Float64,2}:\n",
       " 0.671228  0.633476\n",
       " 0.633476  0.858874"
      ]
     },
     "execution_count": 141,
     "metadata": {},
     "output_type": "execute_result"
    }
   ],
   "source": [
    "our_solution = compute_asymptotic_var(A, Σ)"
   ]
  },
  {
   "cell_type": "markdown",
   "metadata": {},
   "source": [
    "Agora vamos fazer a mesma coisa usando a função `solve_discrete_lyapunov ()` do QuantEcon e verificar se obtemos o mesmo resultado:"
   ]
  },
  {
   "cell_type": "code",
   "execution_count": 142,
   "metadata": {
    "hide-output": true
   },
   "outputs": [],
   "source": [
    "using QuantEcon"
   ]
  },
  {
   "cell_type": "code",
   "execution_count": 143,
   "metadata": {
    "hide-output": false
   },
   "outputs": [
    {
     "data": {
      "text/plain": [
       "3.883245447999784e-6"
      ]
     },
     "execution_count": 143,
     "metadata": {},
     "output_type": "execute_result"
    }
   ],
   "source": [
    "norm(our_solution - solve_discrete_lyapunov(A, Σ * Σ'))"
   ]
  }
 ],
 "metadata": {
  "date": 1580349900.641167,
  "download_nb": 1,
  "download_nb_path": "https://julia.quantecon.org/",
  "filename": "fundamental_types.rst",
  "filename_with_path": "getting_started_julia/fundamental_types",
  "kernelspec": {
   "display_name": "Julia 1.3.1",
   "language": "julia",
   "name": "julia-1.3"
  },
  "language_info": {
   "file_extension": ".jl",
   "mimetype": "application/julia",
   "name": "julia",
   "version": "1.3.1"
  },
  "title": "Arrays, Tuples, Ranges, and Other Fundamental Types"
 },
 "nbformat": 4,
 "nbformat_minor": 4
}
