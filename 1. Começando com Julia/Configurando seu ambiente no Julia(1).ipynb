{
 "cells": [
  {
   "cell_type": "markdown",
   "metadata": {},
   "source": [
    "\n",
    "<a id='getting-started'></a>\n",
    "<div id=\"qe-notebook-header\" style=\"text-align:right;\">\n",
    "        <a href=\"https://quantecon.org/\" title=\"quantecon.org\">\n",
    "                <img style=\"width:250px;display:inline;\" src=\"https://assets.quantecon.org/img/qe-menubar-logo.svg\" alt=\"QuantEcon\">\n",
    "        </a>\n",
    "</div>"
   ]
  },
  {
   "cell_type": "markdown",
   "metadata": {},
   "source": [
    "# Configurando o seu ambiente no Julia"
   ]
  },
  {
   "cell_type": "markdown",
   "metadata": {},
   "source": [
    "## Conteúdos \n",
    "\n",
    "- [Configurando o seu ambiente no Julia](#Configurando-o-seu-ambiente-no-Julia)  \n",
    "  - [Resumo](#Resumo)  \n",
    "  - [Uma nota sobre o Jupyter](#Uma-nota-sobre-o-Jupyter)  \n",
    "  - [Instalação de Desktop de Julia e Jupyter](#Instalação-de-Desktop-de-Julia-e-Jupyter)  \n",
    "  - [Usando Julia na Web](#Usando-Julia-na-Web)  \n",
    "  - [Instalando Pacotes](#Instalando-Pacotes)"
   ]
  },
  {
   "cell_type": "markdown",
   "metadata": {},
   "source": [
    "> *Devidamente traduzido, revisado e adaptado do [QuantEcon](https://quantecon.org/) pelos bolsistas CNPq, Pedro Luiz H. Furtado e Jonas Aragão M. Corpes, sob supervisão do Prof. Christiano Penna, do CAEN/UFC.*"
   ]
  },
  {
   "cell_type": "markdown",
   "metadata": {},
   "source": [
    "## Resumo\n",
    "\n",
    "Nesta aula nos iremos descobrir como organizar e rodar (inicializar) o Julia. \n",
    "\n",
    "Existem algumas opções diferentes para usar o Julia, incluindo uma [Instalação na área de Trabalho Local](#jl-jupyterlocal) e [Jupyter hospedado na Web](#jl-jupyterhub)\n",
    "\n",
    "Se você tiver acesso a uma configuração Jupyter e Julia baseada na Web, essa é normalmente a maneira mais simples de começar."
   ]
  },
  {
   "cell_type": "markdown",
   "metadata": {},
   "source": [
    "## Uma nota sobre o Jupyter\n",
    "\n",
    "Como Python e R, e ao contrario de programas como Mathlab e Stata, há uma conexão mais flexivel entre Julia como uma linguagem de programação e Julia como um ambiente específico de desenvolvimento. \n",
    "\n",
    "Enquanto você eventualmente irá usar outros editores, há algumas vantagens de começar com o ambiente [Jupyter](http://jupyter.org/) enquanto aprende Julia. \n",
    "\n",
    "- A capacidade de misturar formatos de texto (incluindo expressões matemáticas) e codificar em um único documento  \n",
    "- Resultados de saídas bem formatados incluindo tabelas, figuras, animação, vídeo, etc.  \n",
    "- Ferramentas de conversão para gerar slides em PDF, HTML, static, etc.  \n",
    "- [Jupyter Online](#jl-jupyterhub) deve está disponível, e não requer instalação.  \n",
    "\n",
    "\n",
    "Discutiremos o fluxo de trabalho sobre esses recursos na [próxima aula](https://lectures.quantecon.org/julia_environment.html)\n",
    "\n",
    "\n",
    "<a id='jl-jupyterlocal'></a>"
   ]
  },
  {
   "cell_type": "markdown",
   "metadata": {},
   "source": [
    "## Instalação de Desktop de Julia e Jupyter\n",
    "\n",
    "Se você quer instalar essas ferramentas localmente em sua máquina siga:\n",
    "\n",
    "- Instale Anaconda Python fazendo o download do binário <https://www.anaconda.com/download/>  \n",
    "  \n",
    "  - Certifique-se de clicar em sim para “add Anaconda to my PATH”  \n",
    "  \n",
    "- Faça o download e instale o Julia, na [página de download](http://julialang.org/downloads/) , aceitando todas as opções padrões  \n",
    "  \n",
    "  - Nós **não** recomendamos [JuliaPro](https://juliacomputing.com/products/juliapro.html)\n",
    "    devido seus limitados números de pacotes.   \n",
    "  \n",
    "\n",
    "\n",
    "\n",
    "<a id='intro-repl'></a>\n",
    "- Abra o Julia, por qualquer opção\n",
    "  \n",
    "  1. Navegando para Julia através de seus menus ou ícones da área de trabalho (Windows, Mac) ou  \n",
    "  1. Abrindo um terminal e digitando julia(Linux)  \n",
    "  \n",
    "\n",
    "\n",
    "Agora você deve estar olhando para algo como isto:\n",
    "\n",
    "<img src=\"https://julia.quantecon.org/_images/julia_term_1.png\" style=\"width:100%;\">\n",
    "\n",
    "\n",
    "\n",
    "  \n",
    "Isso é chamado de JULIA  *REPL* (Read-Evaluate-Print-Loop), que discutiremos mais tarde.\n",
    "\n",
    "- No Julia REPL, aperte `]` para entrar no modo de pacote e então digite:\n"
   ]
  },
  {
   "cell_type": "markdown",
   "metadata": {
    "hide-output": false
   },
   "source": [
    "```julia\n",
    "add IJulia InstantiateFromURL\n",
    "```\n"
   ]
  },
  {
   "cell_type": "markdown",
   "metadata": {},
   "source": [
    "Isso adiciona pacotes para:\n",
    "\n",
    "- O `IJulia` kernel que conecta Julia ao Jupyter (isto é, permite que seu navegador execute código Julia, gerencie pacotes Julia, etc.)  \n",
    "- O `InstantiateFromURL` que é uma ferramenta escrita pela equipe do QE para gerenciar dependências de pacotes para as notas de aula.\n",
    "\n",
    "Nota: Para configurar o terminal de comando Julia no Mac, abra um terminal e execute `sudo ln -s <where_julia_app_is>/Contents/Resources/julia/bin/julia /usr/local/bin/julia`.\n",
    "\n",
    "O comando completo deve parecer `sudo ln -s /Applications/Julia-1.3.app/Contents/Resources/julia/bin/julia /usr/local/bin/julia`, se você colocou o aplicativo na sua pasta `Applications`.\n",
    "\n",
    "**Nota**: Para obter o conjunto completo de pacotes que usamos, nesta etapa, você pode executar o seguinte (consulte [a seção de configuração do pacote](#package-setup).)"
   ]
  },
  {
   "cell_type": "markdown",
   "metadata": {
    "hide-output": false
   },
   "source": [
    "```julia\n",
    "using InstantiateFromURL\n",
    "github_project(\"QuantEcon/quantecon-notebooks-julia\", version = \"0.5.0\", instantiate = true)\n",
    "```\n"
   ]
  },
  {
   "cell_type": "markdown",
   "metadata": {},
   "source": [
    "\n",
    "<a id='jupyter-installation'></a>"
   ]
  },
  {
   "cell_type": "markdown",
   "metadata": {},
   "source": [
    "### Instalando o Jupyter\n",
    "\n",
    "Se você já instalou o Jupyter (por exemplo, instalando o Anaconda Python fazendo o download <https://www.anaconda.com/download/>)\n",
    "então o comando `add IJulia` instala tudo o que você precisa no seu ambiente existente.\n",
    "\n",
    "Caso contrário - ou além disso - você pode instalá-lo diretamente do Julia REPL"
   ]
  },
  {
   "cell_type": "markdown",
   "metadata": {
    "hide-output": false
   },
   "source": [
    "```julia\n",
    "using IJulia; jupyterlab()\n",
    "```\n"
   ]
  },
  {
   "cell_type": "markdown",
   "metadata": {},
   "source": [
    "Escolha o padrão, `y`, se solicitado a instalar o Jupyter e, em seguida, o JupyterLab via Conda.\n",
    "\n",
    "Após a instalação, uma guia JupyterLab deve abrir no seu navegador.\n",
    "\n",
    "(Opcional) Para ativar o JupyterLab a partir de um terminal, use [add Julia’s Jupyter to your path](https://julia.quantecon.org/julia_environment.html#add-jupyter-to-path).\n",
    "\n",
    "\n",
    "<a id='clone-lectures'></a>"
   ]
  },
  {
   "cell_type": "markdown",
   "metadata": {},
   "source": [
    "### Iniciando o Jupyter\n",
    "\n",
    "Em seguida, vamos instalar as notas da aula QuantEcon em nossa máquina e executá-las (para obter mais detalhes sobre as ferramentas que usaremos, consulte nossa aula sobre [controle de versão](https://julia.quantecon.org/../more_julia/version_control.html)).\n",
    "\n",
    "1. Instale [git](https://git-scm.com/book/en/v2/Getting-Started-Installing-Git/).  \n",
    "1. (**Opcional, mas fortemente recomendado**) Instale o [GitHub Desktop](https://desktop.github.com/).  "
   ]
  },
  {
   "cell_type": "markdown",
   "metadata": {},
   "source": [
    "#### Abordagem da área de trabalho do GitHub \n",
    "\n",
    "Depois de instalar o aplicativo Git Desktop, clique [neste link](x-github-client://openRepo/https://github.com/QuantEcon/quantecon-notebooks-jl) em seu computador para automaticamente instalar as notas de aula. \n",
    "\n",
    "Isto deve abrir uma janela no GitHub desktop app como esta:\n",
    "\n",
    "<img src=\"https://julia.quantecon.org/getting_started_julia/_static/figures/git-desktop-intro.png\" style=\"width=100%;\">\n",
    "\n",
    "\n",
    "\n",
    "  \n",
    "Escolha o caminho que você gosta e clone o repositório.\n",
    "\n",
    "**Nota:** o fluxo de trabalho será mais fácil se você clonar o repositório no local padrão em relação à pasta inicial do usuário.\n",
    "\n",
    "Em um Julia REPL, inicie o JupyterLab executando"
   ]
  },
  {
   "cell_type": "markdown",
   "metadata": {
    "hide-output": false
   },
   "source": [
    "```julia\n",
    "using IJulia; jupyterlab()\n",
    "```\n"
   ]
  },
  {
   "cell_type": "markdown",
   "metadata": {},
   "source": [
    "Como alternativa, se você instalou o Jupyter separadamente na [instalação do jupyter](#jupyter-installation) ou [adicionou Jupyter ao seu path](https://julia.quantecon.org/julia_environment.html#add-jupyter-to-path) então execute `jupyter lab` no seu terminal.\n",
    "\n",
    "Navegue até o local em que você armazenou as notas da palestra e abra o notebook [Interagindo com Julia](https://julia.quantecon.org/julia_environment.html) para explorar essa interface e inicair escrevendo o código."
   ]
  },
  {
   "cell_type": "markdown",
   "metadata": {},
   "source": [
    "#### Abordagem da linha de comando do Git\n",
    "\n",
    "Se você não deseja instalar o GitHub Desktop, pode obter os blocos de anotações usando a ferramenta de linha de comando Git.\n",
    "\n",
    "Abra uma nova sessão de terminal e execute"
   ]
  },
  {
   "cell_type": "markdown",
   "metadata": {
    "hide-output": false
   },
   "source": [
    "```text\n",
    "git clone https://github.com/quantecon/quantecon-notebooks-julia\n",
    "```\n"
   ]
  },
  {
   "cell_type": "markdown",
   "metadata": {},
   "source": [
    "Isso fará o download do repositório com os notebooks no diretório de trabalho.\n",
    "\n",
    "Em seguida, execute `cd` para esse local no seu terminal Mac, Linux ou Windows PowerShell"
   ]
  },
  {
   "cell_type": "markdown",
   "metadata": {
    "hide-output": false
   },
   "source": [
    "```text\n",
    "cd quantecon-notebooks-julia\n",
    "```\n"
   ]
  },
  {
   "cell_type": "markdown",
   "metadata": {},
   "source": [
    "Então, usando o `using IJulia; jupyterlab()` ou executando `jupyter lab` dentro da sua concha.\n",
    "\n",
    "e abra a aula [Interagindo com Julia](https://julia.quantecon.org/julia_environment.html) (o arquivo `julia_environment.ipynb` na lista de cadernos no JupyterLab) para continuar."
   ]
  },
  {
   "cell_type": "markdown",
   "metadata": {},
   "source": [
    "## Usando Julia na Web\n",
    "\n",
    "Se você tiver acesso a uma instalação on-line do Julia, é a maneira mais fácil de começar.\n",
    "\n",
    "Eventualmente, você desejará fazer uma [Instalação local](#jl-jupyterlocal) para usar outras\n",
    "[ferramentas e editores](https://lectures.quantecon.org/more_julia/tools_editors.html) como o [Atom/Juno](http://junolab.org/), mas não deixe que o ambiente atrapalhe o aprendizado da linguagem.\n",
    "\n",
    "\n",
    "<a id='jl-jupyterhub'></a>"
   ]
  },
  {
   "cell_type": "markdown",
   "metadata": {},
   "source": [
    "### Usando Julia com JupyterHub\n",
    "\n",
    "Se você tem acesso a uma solução baseada na Web para a Jupyter, então essa é tipicamente uma opção simples:\n",
    "\n",
    "- Alunos: pergunte ao seu departamento se esses recursos estão disponíveis  \n",
    "- Universidades e grupos de trabalho: email (contact@quantecon.org\")   para obter ajuda sobre como configurar uma instância JupyterHub compartilhada com pacotes pré-compilados prontos para estas notas de aula\n",
    "- O [JuliaBox](http://www.juliabox.com)  controla rigidamente os pacotes permitidos, e atualmente **não** suporta as aulas do QuantEcon"
   ]
  },
  {
   "cell_type": "markdown",
   "metadata": {},
   "source": [
    "####  Obtendo Notebooks\n",
    "\n",
    "Seu primeiro passo é obter uma cópia dos Notebooks em seu ambiente JupyterHub.\n",
    "\n",
    "Embora você possa baixar os notebooks individualmente a partir do site, a maneira mais fácil de acessar os notebooks é geralmente clonar o repositório com o Git em seu ambiente JupyterHub.\n",
    "\n",
    "As instalações do JupyterHub possuem métodos diferentes para clonar repositórios, com os quais você pode usar o url para o repositório de notebooks: `https://github.com/QuantEcon/quantecon-notebooks-jl`\n",
    "\n",
    "\n",
    "<a id='package-setup'></a>"
   ]
  },
  {
   "cell_type": "markdown",
   "metadata": {},
   "source": [
    "## Instalando Pacotes\n",
    "\n",
    "Depois que você tiver alguns dos notebooks disponíveis, como [acima](#clone-lectures), essas aulas dependem da funcionalidade (como pacotes para plotagem, benchmarking e estatísticas) que não são instaladas a cada instalação do Jupyter na Web.\n",
    "\n",
    "Se o seu Jupyter online não vem com os pacotes QuantEcon pré-instalados, você pode instalar o pacote `InstantiateFromURL`, que é uma ferramenta escrita pela equipe do QE para gerenciar dependências de pacotes para tais aulas.\n",
    "\n",
    "Para adicionar este pacote, em um notebook on-line do Jupyter execute (normalmente com `<Shift-Enter>`):"
   ]
  },
  {
   "cell_type": "code",
   "execution_count": 1,
   "metadata": {
    "hide-output": true
   },
   "outputs": [],
   "source": [
    "] add InstantiateFromURL"
   ]
  },
  {
   "cell_type": "markdown",
   "metadata": {},
   "source": [
    "Então, execute:"
   ]
  },
  {
   "cell_type": "markdown",
   "metadata": {
    "hide-output": false
   },
   "source": [
    "```julia\n",
    "using InstantiateFromURL\n",
    "github_project(\"QuantEcon/quantecon-notebooks-julia\", version = \"0.5.0\", instantiate = true)\n",
    "```\n"
   ]
  },
  {
   "cell_type": "markdown",
   "metadata": {},
   "source": [
    "Se o seu ambiente Jupyter on-line não tiver os pacotes pré-instalados, pode levar de 15 a 20 minutos para que seu primeiro notebook QuantEcon seja executado.\n",
    "\n",
    "Após essa etapa, abra o notebook baixado `Interagindo com Julia` para começar a escrever o código.\n",
    "\n",
    "Se os notebooks QuantEcon não funcionarem após essa etapa de instalação, talvez seja necessário falar com o administrador do JupyterHub."
   ]
  }
 ],
 "metadata": {
  "date": 1580315963.0002456,
  "download_nb": 1,
  "download_nb_path": "https://julia.quantecon.org/",
  "filename": "getting_started.rst",
  "filename_with_path": "getting_started_julia/getting_started",
  "kernelspec": {
   "display_name": "Julia 1.3.1",
   "language": "julia",
   "name": "julia-1.3"
  },
  "language_info": {
   "file_extension": ".jl",
   "mimetype": "application/julia",
   "name": "julia",
   "version": "1.3.1"
  },
  "title": "Setting up Your Julia Environment"
 },
 "nbformat": 4,
 "nbformat_minor": 4
}
