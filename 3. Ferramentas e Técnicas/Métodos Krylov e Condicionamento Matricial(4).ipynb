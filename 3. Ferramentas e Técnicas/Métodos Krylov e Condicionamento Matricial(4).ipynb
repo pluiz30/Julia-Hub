{
 "cells": [
  {
   "cell_type": "markdown",
   "metadata": {},
   "source": [
    "\n",
    "<a id='iterative-methods-sparsity'></a>\n",
    "<div id=\"qe-notebook-header\" style=\"text-align:right;\">\n",
    "        <a href=\"https://quantecon.org/\" title=\"quantecon.org\">\n",
    "                <img style=\"width:250px;display:inline;\" src=\"https://assets.quantecon.org/img/qe-menubar-logo.svg\" alt=\"QuantEcon\">\n",
    "        </a>\n",
    "</div>"
   ]
  },
  {
   "cell_type": "markdown",
   "metadata": {},
   "source": [
    "# Métodos Krylov e Condicionamento Matricial"
   ]
  },
  {
   "cell_type": "markdown",
   "metadata": {},
   "source": [
    "## Conteúdo\n",
    "\n",
    "- [Métodos Krylov e Condicionamento Matricial](#Métodos-Krylov-e-Condicionamento-Matricial)  \n",
    "  - [Resumo](#Resumo)  \n",
    "  - [Matrizes Mal-Condicionadas](#Matrizes-Mal-Condicionadas)  \n",
    "  - [Algorítimos Interativos Estacionários para Sistemas Lineares](#Algorítimos-Interativos-Estacionários-para-Sistemas-Lineares)  \n",
    "  - [Métodos de Krylov](#Métodos-de-Krylov)  \n",
    "  - [Métodos Interativos para Mínimos Quadrados Lineares](#Métodos-Interativos-para-Mínimos-Quadrados-Lineares)  \n",
    "  - [Métodos Interativos para Autossistemas](#Métodos-Interativos-para-Autossistemas)  \n",
    "  - [Métodos de Krylov para Cadeias de Markov Dinâmicas](#Métodos-de-Krylov-para-Cadeias-de-Markov-Dinâmicas)  "
   ]
  },
  {
   "cell_type": "markdown",
   "metadata": {},
   "source": [
    "> *Devidamente traduzido, revisado e adaptado do [QuantEcon](https://julia.quantecon.org/) pelos bolsistas CNPq Pedro Luiz H. Furtado e Jonas Aragão M. Corpes, sob a supervisão do Prof. Christiano Penna, do CAEN/UFC.*"
   ]
  },
  {
   "cell_type": "markdown",
   "metadata": {},
   "source": [
    "## Resumo\n",
    "\n",
    "Esta aula pega a estrutura de [métodos numéricos para álgebra linear](https://julia.quantecon.org/numerical_linear_algebra.html) e avança mais no sentido de trabalhar com matrizes grandes e esparsas. No processo, examinaremos a análise numérica fundamental, como matrizes mal condicionadas."
   ]
  },
  {
   "cell_type": "markdown",
   "metadata": {},
   "source": [
    "### Configuração"
   ]
  },
  {
   "cell_type": "code",
   "execution_count": 1,
   "metadata": {
    "hide-output": true
   },
   "outputs": [],
   "source": [
    "using InstantiateFromURL\n",
    "github_project(\"QuantEcon/quantecon-notebooks-julia\", version = \"0.5.0\")\n",
    "# github_project(\"QuantEcon/quantecon-notebooks-julia\", version = \"0.5.0\", instantiate = true) # descomentário para forçar a instalação do pacote"
   ]
  },
  {
   "cell_type": "code",
   "execution_count": 2,
   "metadata": {
    "hide-output": true
   },
   "outputs": [],
   "source": [
    "using LinearAlgebra, Statistics, BenchmarkTools, Random\n",
    "Random.seed!(42);  # números aleatórios de sementes para reprodutibilidade"
   ]
  },
  {
   "cell_type": "markdown",
   "metadata": {},
   "source": [
    "### Aplicações\n",
    "\n",
    "Nesta seção, consideraremos variações de problemas clássicos\n",
    "\n",
    "1. Resolvendo um sistema linear para um quadrado de $ A $, onde manteremos o tempo todo, existe uma solução exclusiva para  \n",
    "  $$\n",
    "  A x = b\n",
    "  $$\n",
    "2. [Solução de mínimos quadrados lineares](https://en.wikipedia.org/wiki/Linear_least_squares), para $ A $ retangular:  \n",
    "  $$\n",
    "  \\min_x \\| Ax -b \\|^2\n",
    "  $$\n",
    " Teoricamente, sabemos que se $ A $ tiver colunas linearmente independentes, resultará nas [equações normais](https://en.wikipedia.org/wiki/Linear_least_squares#Derivation_of_the_normal_equations):  \n",
    "  $$\n",
    "  x = (A'A)^{-1}A'b\n",
    "  $$\n",
    "3. No caso de uma matriz quadrada, $ A $, o problema do autovalor de encontrar $ x $ e $ \\lambda $ de modo que  \n",
    "  $$\n",
    "  A x = \\lambda x\n",
    "  $$\n",
    "  Para os problemas de autovalor. Lembre-se de que você nem sempre exige todos os $ \\lambda $ e, às vezes, o maior (ou menor) seria suficiente. Por exemplo, calcular o raio espectral requer apenas o valor próprio máximo em valor absoluto.  "
   ]
  },
  {
   "cell_type": "markdown",
   "metadata": {},
   "source": [
    "## Matrizes Mal-Condicionadas\n",
    "\n",
    "Uma consideração importante na álgebra linear numérica e métodos iterativos em geral é o [número da condição](https://en.wikipedia.org/wiki/Condition_number#Matrices).\n",
    "\n",
    "Uma matriz mal condicionada é aquela em que a base dos vetores próprios é próxima, mas não exatamente, colinear. Embora isso não cause problemas em papel e caneta, ou com métodos numéricos de precisão infinita, é importante na prática por duas razões\n",
    "\n",
    "1. Matrizes mal condicionadas introduzem erros numéricos aproximadamente na proporção do log da base 10 do número da condição.\n",
    "2. A velocidade de convergência de muitos métodos iterativos é baseada nas propriedades espectrais das matrizes (por exemplo, a base formada pelos vetores próprios) e, portanto, sistemas mal condicionados podem convergir lentamente.\n",
    "\n",
    "\n",
    "As soluções para esses problemas são:\n",
    "\n",
    "- Tenha cuidado com operações que introduzam erros com base no número da condição (por exemplo, inversões de matriz quando o número da condição é alto);\n",
    "- Escolha, sempre que possível, representações alternativas que tenham menos colinearidade (por exemplo, uma base polinomial ortogonal em vez de monomial), e\n",
    "- Use um pré-condicionador para métodos iterativos, que alteram as propriedades espectrais para aumentar a velocidade de convergência."
   ]
  },
  {
   "cell_type": "markdown",
   "metadata": {},
   "source": [
    "### Número de condição\n",
    "\n",
    "Primeiro, vamos definir e explorar o número da condição $ \\kappa $:\n",
    "\n",
    "$$\n",
    "\\kappa(A) \\equiv \\|A\\| \\|A^{-1}\\|\n",
    "$$\n",
    "\n",
    "onde você pode usar a desigualdade de Cauchy – Schwarz para mostrar que $ \\kappa (A) \\geq 1 $. Embora o número da condição possa ser calculado com qualquer norma, vamos nos concentrar na norma 2.\n",
    "\n",
    "Primeiro, um aviso sobre os cálculos: calcular o número da condição para uma matriz pode ser uma operação cara (como seria o cálculo de um determinante) e deve ser pensado como aproximadamente equivalente a fazer uma composição automática. Portanto, use-o para o trabalho de detetive criteriosamente.\n",
    "\n",
    "Vamos olhar para o número de condição de algumas matrizes usando a função `cond` (que permite a escolha da norma, mas mantemos a norma 2 padrão)."
   ]
  },
  {
   "cell_type": "code",
   "execution_count": 3,
   "metadata": {
    "hide-output": false
   },
   "outputs": [
    {
     "data": {
      "text/plain": [
       "1.0"
      ]
     },
     "execution_count": 3,
     "metadata": {},
     "output_type": "execute_result"
    }
   ],
   "source": [
    "A = I(2)\n",
    "cond(A)"
   ]
  },
  {
   "cell_type": "markdown",
   "metadata": {},
   "source": [
    "Aqui vemos um exemplo da matriz melhor condicionada, a matriz de identidade com sua base completamente ortonormal, é 1.\n",
    "\n",
    "Por outro lado, observe que"
   ]
  },
  {
   "cell_type": "code",
   "execution_count": 4,
   "metadata": {
    "hide-output": false
   },
   "outputs": [
    {
     "data": {
      "text/plain": [
       "2.0000000000005004e6"
      ]
     },
     "execution_count": 4,
     "metadata": {},
     "output_type": "execute_result"
    }
   ],
   "source": [
    "ϵ = 1E-6\n",
    "A = [1.0 0.0\n",
    "     1.0 ϵ]\n",
    "cond(A)"
   ]
  },
  {
   "cell_type": "markdown",
   "metadata": {},
   "source": [
    "possui um número de condição da ordem `10E6` - e, portanto, (tomando o log da base 10), seria de esperar introduzir erros numéricos de cerca de 6 dígitos significativos, se você não tomar cuidado. Por exemplo, observe que o inverso possui números negativos extremamente grandes e extremamente pequenos:"
   ]
  },
  {
   "cell_type": "code",
   "execution_count": 5,
   "metadata": {
    "hide-output": false
   },
   "outputs": [
    {
     "data": {
      "text/plain": [
       "2×2 Array{Float64,2}:\n",
       "  1.0    0.0  \n",
       " -1.0e6  1.0e6"
      ]
     },
     "execution_count": 5,
     "metadata": {},
     "output_type": "execute_result"
    }
   ],
   "source": [
    "inv(A)"
   ]
  },
  {
   "cell_type": "markdown",
   "metadata": {},
   "source": [
    "Como sabemos que o determinante de matrizes quase colineares é próximo de zero, isso mostra outro sintoma de mau condicionamento."
   ]
  },
  {
   "cell_type": "code",
   "execution_count": 6,
   "metadata": {
    "hide-output": false
   },
   "outputs": [
    {
     "data": {
      "text/plain": [
       "1.0e-6"
      ]
     },
     "execution_count": 6,
     "metadata": {},
     "output_type": "execute_result"
    }
   ],
   "source": [
    "det(A)"
   ]
  },
  {
   "cell_type": "markdown",
   "metadata": {},
   "source": [
    "No entanto, tenha cuidado, pois o determinante possui uma escala, enquanto o número da condição é adimensional. Isto é,"
   ]
  },
  {
   "cell_type": "code",
   "execution_count": 7,
   "metadata": {
    "hide-output": false
   },
   "outputs": [
    {
     "name": "stdout",
     "output_type": "stream",
     "text": [
      "det(1000A) = 1.0\n",
      "cond(1000A) = 2.0000000000005001e6\n"
     ]
    }
   ],
   "source": [
    "@show det(1000 * A)\n",
    "@show cond(1000 * A);"
   ]
  },
  {
   "cell_type": "markdown",
   "metadata": {},
   "source": [
    "Nesse caso, o determinante de `A` é 1, enquanto o número de condição estiver intacto. Esse exemplo também permite intuir que o mal-condicionamento de matrizes ocorre quando uma matriz tem escalas radicalmente diferentes (ex.: contem ambos `1` e `1E-6`, ou `1000` e `1E-3`). Isso pode ocorrer frequentemente com aproximação de função e mínimos quadrados lineares."
   ]
  },
  {
   "cell_type": "markdown",
   "metadata": {},
   "source": [
    "### Números de condição e operações matriciais\n",
    "\n",
    "Multiplicar uma matriz por uma constante não altera o número da condição. E as outras operações?\n",
    "\n",
    "Para este exemplo, vemos que o inverso tem o mesmo número de condição (embora nem sempre seja esse o caso)."
   ]
  },
  {
   "cell_type": "code",
   "execution_count": 8,
   "metadata": {
    "hide-output": false
   },
   "outputs": [
    {
     "name": "stdout",
     "output_type": "stream",
     "text": [
      "cond(A) = 2.0000000000005004e6\n",
      "cond(inv(A)) = 2.0000000002463197e6\n"
     ]
    }
   ],
   "source": [
    "@show cond(A)\n",
    "@show cond(inv(A));"
   ]
  },
  {
   "cell_type": "markdown",
   "metadata": {},
   "source": [
    "O número de condição do produto de duas matrizes pode mudar radicalmente e levar as coisas a se tornarem ainda mais mal condicionadas.\n",
    "\n",
    "Isso ocorre com frequência ao calcular o produto de uma matriz e sua transposição (por exemplo, formar a matriz de covariância). Um exemplo clássico é a [matriz de Läuchli](https://link.springer.com/article/10.1007%2FBF01386022)."
   ]
  },
  {
   "cell_type": "code",
   "execution_count": 9,
   "metadata": {
    "hide-output": false
   },
   "outputs": [
    {
     "data": {
      "text/plain": [
       "3×4 Array{Float64,2}:\n",
       " 1.0  1.0e-8  0.0     0.0   \n",
       " 1.0  0.0     1.0e-8  0.0   \n",
       " 1.0  0.0     0.0     1.0e-8"
      ]
     },
     "execution_count": 9,
     "metadata": {},
     "output_type": "execute_result"
    }
   ],
   "source": [
    "lauchli(N, ϵ) = [ones(N)'; ϵ * I(N)]'\n",
    "ϵ = 1E-8\n",
    "L = lauchli(3, ϵ) |> Matrix"
   ]
  },
  {
   "cell_type": "markdown",
   "metadata": {},
   "source": [
    "Observe que o número da condição aumenta substancialmente."
   ]
  },
  {
   "cell_type": "code",
   "execution_count": 10,
   "metadata": {
    "hide-output": false
   },
   "outputs": [
    {
     "name": "stdout",
     "output_type": "stream",
     "text": [
      "cond(L) = 1.732050807568878e8\n",
      "cond(L' * L) = 5.345191558726545e32\n"
     ]
    }
   ],
   "source": [
    "@show cond(L)\n",
    "@show cond(L' * L);"
   ]
  },
  {
   "cell_type": "markdown",
   "metadata": {},
   "source": [
    "Você pode mostrar que os autovalores analíticos são $ \\{3 + \\epsilon ^ 2, \\epsilon ^ 2, \\epsilon ^ 2 \\} $, mas o mau condicionamento significa que é difícil diferenciá-los de $ 0 $.\n",
    "\n",
    "Isso ocorre ao realizar a [análise dos componentes principais](https://en.wikipedia.org/wiki/Principal_component_analysis#Singular_value_decomposition), que requer cálculos dos valores próprios da matriz de covariância:"
   ]
  },
  {
   "cell_type": "code",
   "execution_count": 11,
   "metadata": {
    "hide-output": false
   },
   "outputs": [
    {
     "ename": "DomainError",
     "evalue": "DomainError with -2.3721342664653315e-17:\nsqrt will only return a complex result if called with a complex argument. Try sqrt(Complex(x)).",
     "output_type": "error",
     "traceback": [
      "DomainError with -2.3721342664653315e-17:\nsqrt will only return a complex result if called with a complex argument. Try sqrt(Complex(x)).",
      "",
      "Stacktrace:",
      " [1] throw_complex_domainerror(::Symbol, ::Float64) at ./math.jl:32",
      " [2] sqrt at ./math.jl:492 [inlined]",
      " [3] _broadcast_getindex_evalf at ./broadcast.jl:630 [inlined]",
      " [4] _broadcast_getindex at ./broadcast.jl:603 [inlined]",
      " [5] getindex at ./broadcast.jl:563 [inlined]",
      " [6] macro expansion at ./broadcast.jl:909 [inlined]",
      " [7] macro expansion at ./simdloop.jl:77 [inlined]",
      " [8] copyto! at ./broadcast.jl:908 [inlined]",
      " [9] copyto! at ./broadcast.jl:863 [inlined]",
      " [10] copy at ./broadcast.jl:839 [inlined]",
      " [11] materialize(::Base.Broadcast.Broadcasted{Base.Broadcast.DefaultArrayStyle{1},Nothing,typeof(sqrt),Tuple{Array{Float64,1}}}) at ./broadcast.jl:819",
      " [12] top-level scope at In[11]:1"
     ]
    }
   ],
   "source": [
    "sqrt.(eigen(L*L').values) |> sort"
   ]
  },
  {
   "cell_type": "markdown",
   "metadata": {},
   "source": [
    "Observe que eles são significativamente diferentes da solução analítica conhecida e, em particular, são difíceis de distinguir de 0."
   ]
  },
  {
   "cell_type": "code",
   "execution_count": 12,
   "metadata": {
    "hide-output": false
   },
   "outputs": [
    {
     "data": {
      "text/plain": [
       "3-element Array{Float64,1}:\n",
       " 1.0e-8            \n",
       " 1.0e-8            \n",
       " 1.7320508075688772"
      ]
     },
     "execution_count": 12,
     "metadata": {},
     "output_type": "execute_result"
    }
   ],
   "source": [
    "sqrt.([3 + ϵ^2, ϵ^2, ϵ^2]) |> sort"
   ]
  },
  {
   "cell_type": "markdown",
   "metadata": {},
   "source": [
    "Como alternativa, poderíamos calculá-los tomando o quadrado dos valores singulares de $ L $, que é muito mais preciso e permite distinguir claramente de zero."
   ]
  },
  {
   "cell_type": "code",
   "execution_count": 13,
   "metadata": {
    "hide-output": false
   },
   "outputs": [
    {
     "data": {
      "text/plain": [
       "3-element Array{Float64,1}:\n",
       " 9.999999999999997e-9\n",
       " 1.0e-8              \n",
       " 1.7320508075688774  "
      ]
     },
     "execution_count": 13,
     "metadata": {},
     "output_type": "execute_result"
    }
   ],
   "source": [
    "svd(L).S  |> sort"
   ]
  },
  {
   "cell_type": "markdown",
   "metadata": {},
   "source": [
    "Da mesma forma, é melhor calcular os mínimos quadrados diretamente, em vez de formar a equação normal (ou seja, $ A 'A x = A' b $):"
   ]
  },
  {
   "cell_type": "code",
   "execution_count": 14,
   "metadata": {
    "hide-output": false
   },
   "outputs": [
    {
     "data": {
      "text/plain": [
       "2502.05373776057"
      ]
     },
     "execution_count": 14,
     "metadata": {},
     "output_type": "execute_result"
    }
   ],
   "source": [
    "N = 3\n",
    "A = lauchli(N, 1E-7)' |> Matrix\n",
    "b = rand(N+1)\n",
    "x_sol_1 = A \\ b  # using a least-square solver\n",
    "x_sol_2 = (A' * A) \\ (A' * b)  # forming the normal equation ourselves\n",
    "norm(x_sol_1 - x_sol_2)"
   ]
  },
  {
   "cell_type": "markdown",
   "metadata": {},
   "source": [
    "### Porquê uma base monomial é uma má idéia\n",
    "\n",
    "Um exemplo clássico de matrizes mal condicionadas é o uso de uma base monomial de um polinômio com interpolação.\n",
    "\n",
    "Pegue uma grade de pontos, $ x_0,\\ ldots x_N $ e valores $ y_0, \\ldots y_N $, onde queremos calcular o polinômio interpolador.\n",
    "\n",
    "Se usarmos a base polinomial mais simples e mais óbvia, o cálculo é calcular os coeficientes $ c_1, \\ldots c_n $ em que\n",
    "\n",
    "$$\n",
    "P(x) = \\sum_{i=0}^N c_i x^i\n",
    "$$\n",
    "\n",
    "Para resolver os coeficientes, notamos que este é um sistema simples de equações\n",
    "\n",
    "$$\n",
    "\\begin{array}\n",
    "    \\,y_0 = c_0 + c_1 x_0 + \\ldots c_N x_0^N\\\\\n",
    "    \\,\\ldots\\\\\n",
    "    \\,y_N = c_0 + c_1 x_N + \\ldots c_N x_N^N\n",
    "\\end{array}\n",
    "$$\n",
    "\n",
    "Ou, empilhando como matrizes e vetores $ c = \\begin {bmatrix} c_0 & \\ldots & c_N \\end {bmatrix}, y = \\begin {bmatrix} y_0 & \\ldots & y_N \\end {bmatrix} $ e\n",
    "\n",
    "$$\n",
    "A = \\begin{bmatrix} 1 & x_0 & x_0^2 & \\ldots &x_0^N\\\\\n",
    "                    \\vdots & \\vdots & \\vdots & \\vdots & \\vdots \\\\\n",
    "                    1 & x_N & x_N^2 & \\ldots & x_N^N\n",
    "    \\end{bmatrix}\n",
    "$$\n",
    "\n",
    "Podemos então calcular os coeficientes de interpolação como a solução para\n",
    "\n",
    "$$\n",
    "A c = y\n",
    "$$\n",
    "\n",
    "Implementando isso para a interpolação da função $ exp (x) $:"
   ]
  },
  {
   "cell_type": "code",
   "execution_count": 15,
   "metadata": {
    "hide-output": false
   },
   "outputs": [
    {
     "data": {
      "text/plain": [
       "1.356966095045209e-9"
      ]
     },
     "execution_count": 15,
     "metadata": {},
     "output_type": "execute_result"
    }
   ],
   "source": [
    "N = 5\n",
    "f(x) = exp(x)\n",
    "x = range(0.0, 10.0, length = N+1)\n",
    "y = f.(x)  # gerar alguns dados para interpolação\n",
    "\n",
    "A = [x_i^n for x_i in x, n in 0:N]\n",
    "A_inv = inv(A)\n",
    "c = A_inv * y\n",
    "norm(A * c - f.(x), Inf)"
   ]
  },
  {
   "cell_type": "markdown",
   "metadata": {},
   "source": [
    "A etapa final apenas verifica a interpolação versus a função analítica nos nós. Lembre-se de que isso deve estar muito próximo de zero, pois estamos interpolando a função precisamente nesses nós. Em nosso exemplo, a norma Inf (ou seja, diferença máxima) dos erros de interpolação nos nós é de cerca de 1E-9, o que é razoável para muitos problemas.\n",
    "\n",
    "Mas observe que, com $ N = 5 $, o número da condição já está na ordem `1E6`."
   ]
  },
  {
   "cell_type": "code",
   "execution_count": 16,
   "metadata": {
    "hide-output": false
   },
   "outputs": [
    {
     "data": {
      "text/plain": [
       "564652.3214053963"
      ]
     },
     "execution_count": 16,
     "metadata": {},
     "output_type": "execute_result"
    }
   ],
   "source": [
    "cond(A)"
   ]
  },
  {
   "cell_type": "markdown",
   "metadata": {},
   "source": [
    "E se aumentarmos o grau do polinômio com a esperança de aumentar a precisão da interpolação?"
   ]
  },
  {
   "cell_type": "code",
   "execution_count": 17,
   "metadata": {
    "hide-output": false
   },
   "outputs": [
    {
     "data": {
      "text/plain": [
       "8.61171429278329e-7"
      ]
     },
     "execution_count": 17,
     "metadata": {},
     "output_type": "execute_result"
    }
   ],
   "source": [
    "N = 10\n",
    "f(x) = exp(x)\n",
    "x = range(0.0, 10.0, length = N+1)\n",
    "y = f.(x)  # generate some data to interpolate\n",
    "\n",
    "A = [x_i^n for x_i in x, n in 0:N]\n",
    "A_inv = inv(A)\n",
    "c = A_inv * y\n",
    "norm(A * c - f.(x), Inf)"
   ]
  },
  {
   "cell_type": "markdown",
   "metadata": {},
   "source": [
    "Aqui, vemos que esperar aumentar a precisão entre pontos adicionando termos polinomiais extras é um tiro pela culatra. Indo para um polinômio de 10ª ordem, introduzimos um erro de cerca de `1E-5`, mesmo nos próprios pontos de interpolação.\n",
    "\n",
    "Isso explode rapidamente."
   ]
  },
  {
   "cell_type": "code",
   "execution_count": 18,
   "metadata": {
    "hide-output": false
   },
   "outputs": [
    {
     "data": {
      "text/plain": [
       "19978.410967681375"
      ]
     },
     "execution_count": 18,
     "metadata": {},
     "output_type": "execute_result"
    }
   ],
   "source": [
    "N = 20\n",
    "f(x) = exp(x)\n",
    "x = range(0.0, 10.0, length = N+1)\n",
    "y = f.(x)  # generate some data to interpolate\n",
    "\n",
    "A = [x_i^n for x_i in x, n in 0:N]\n",
    "A_inv = inv(A)\n",
    "c = A_inv * y\n",
    "norm(A * c - f.(x), Inf)"
   ]
  },
  {
   "cell_type": "markdown",
   "metadata": {},
   "source": [
    "Para ver a fonte do problema, observe que o número da condição é astronômico."
   ]
  },
  {
   "cell_type": "code",
   "execution_count": 19,
   "metadata": {
    "hide-output": false
   },
   "outputs": [
    {
     "data": {
      "text/plain": [
       "2.0386741019186427e24"
      ]
     },
     "execution_count": 19,
     "metadata": {},
     "output_type": "execute_result"
    }
   ],
   "source": [
    "cond(A)"
   ]
  },
  {
   "cell_type": "markdown",
   "metadata": {},
   "source": [
    "Neste ponto, você deve suspeitar do uso de `inv (A)`, pois consideramos resolver sistemas lineares tomando o inverso como verboten. De fato, isso tornou as coisas muito piores: o erro diminui drasticamente se o resolvermos como um sistêmico linear..."
   ]
  },
  {
   "cell_type": "code",
   "execution_count": 20,
   "metadata": {
    "hide-output": false
   },
   "outputs": [
    {
     "data": {
      "text/plain": [
       "1.864464138634503e-10"
      ]
     },
     "execution_count": 20,
     "metadata": {},
     "output_type": "execute_result"
    }
   ],
   "source": [
    "c = A \\ y\n",
    "norm(A * c - f.(x), Inf)"
   ]
  },
  {
   "cell_type": "markdown",
   "metadata": {},
   "source": [
    "Mas um erro de `1E-10` nos próprios nós de interpolação pode ser um problema em muitas aplicações, e se você aumentar `N`, o erro se tornará não trivial eventualmente - mesmo sem tomar o inverso.\n",
    "\n",
    "O cerne da questão é que a base monomial leva a uma [matriz de Vandermonde](https://en.wikipedia.org/wiki/Vandermonde_matrix), que é especialmente mal condicionada."
   ]
  },
  {
   "cell_type": "markdown",
   "metadata": {},
   "source": [
    "#### Além dos fenômenos de Runge\n",
    "\n",
    "A base monomial também é uma boa oportunidade para analisar um tipo separado de erro devido a [Fenômenos de Runge](https://en.wikipedia.org/wiki/Runge%27s_phenomenon). É uma questão importante na teoria das aproximações, embora não seja motivada por erros numéricos de aproximação.\n",
    "\n",
    "Acontece que usar uma grade uniforme de pontos é geralmente a pior escolha possível de nós de interpolação para uma aproximação polinomial. Esse fenômeno pode ser visto com a interpolação da função de Runge aparentemente inócua, $ g (x) = \\frac {1} {1 + 25 x ^ 2} $.\n",
    "\n",
    "Vamos calcular a interpolação com uma base monomial para encontrar o $ c_i $ tal que\n",
    "\n",
    "$$\n",
    "\\frac{1}{1 + 25 x^2} \\approx \\sum_{i=0}^N c_i x^i,\\, \\text{ para } -1 \\leq x \\leq 1\n",
    "$$\n",
    "\n",
    "Primeiro, interpolação com $ N = 5 $ e evite tomar o inverso. Nesse caso, desde que evitemos a inversão, os erros numéricos da matriz mal condicionada são administráveis."
   ]
  },
  {
   "cell_type": "code",
   "execution_count": 21,
   "metadata": {
    "hide-output": false
   },
   "outputs": [
    {
     "data": {
      "image/svg+xml": [
       "<?xml version=\"1.0\" encoding=\"utf-8\"?>\n",
       "<svg xmlns=\"http://www.w3.org/2000/svg\" xmlns:xlink=\"http://www.w3.org/1999/xlink\" width=\"600\" height=\"400\" viewBox=\"0 0 2400 1600\">\n",
       "<defs>\n",
       "  <clipPath id=\"clip0900\">\n",
       "    <rect x=\"0\" y=\"0\" width=\"2400\" height=\"1600\"/>\n",
       "  </clipPath>\n",
       "</defs>\n",
       "<polygon clip-path=\"url(#clip0900)\" points=\"\n",
       "0,1600 2400,1600 2400,0 0,0 \n",
       "  \" fill=\"#ffffff\" fill-rule=\"evenodd\" fill-opacity=\"1\"/>\n",
       "<defs>\n",
       "  <clipPath id=\"clip0901\">\n",
       "    <rect x=\"480\" y=\"0\" width=\"1681\" height=\"1600\"/>\n",
       "  </clipPath>\n",
       "</defs>\n",
       "<polygon clip-path=\"url(#clip0900)\" points=\"\n",
       "180.66,1487.47 2352.76,1487.47 2352.76,47.2441 180.66,47.2441 \n",
       "  \" fill=\"#ffffff\" fill-rule=\"evenodd\" fill-opacity=\"1\"/>\n",
       "<defs>\n",
       "  <clipPath id=\"clip0902\">\n",
       "    <rect x=\"180\" y=\"47\" width=\"2173\" height=\"1441\"/>\n",
       "  </clipPath>\n",
       "</defs>\n",
       "<polyline clip-path=\"url(#clip0902)\" style=\"stroke:#000000; stroke-width:2; stroke-opacity:0.1; fill:none\" points=\"\n",
       "  242.135,1487.47 242.135,47.2441 \n",
       "  \"/>\n",
       "<polyline clip-path=\"url(#clip0902)\" style=\"stroke:#000000; stroke-width:2; stroke-opacity:0.1; fill:none\" points=\"\n",
       "  754.421,1487.47 754.421,47.2441 \n",
       "  \"/>\n",
       "<polyline clip-path=\"url(#clip0902)\" style=\"stroke:#000000; stroke-width:2; stroke-opacity:0.1; fill:none\" points=\"\n",
       "  1266.71,1487.47 1266.71,47.2441 \n",
       "  \"/>\n",
       "<polyline clip-path=\"url(#clip0902)\" style=\"stroke:#000000; stroke-width:2; stroke-opacity:0.1; fill:none\" points=\"\n",
       "  1778.99,1487.47 1778.99,47.2441 \n",
       "  \"/>\n",
       "<polyline clip-path=\"url(#clip0902)\" style=\"stroke:#000000; stroke-width:2; stroke-opacity:0.1; fill:none\" points=\"\n",
       "  2291.28,1487.47 2291.28,47.2441 \n",
       "  \"/>\n",
       "<polyline clip-path=\"url(#clip0902)\" style=\"stroke:#000000; stroke-width:2; stroke-opacity:0.1; fill:none\" points=\"\n",
       "  180.66,1375.2 2352.76,1375.2 \n",
       "  \"/>\n",
       "<polyline clip-path=\"url(#clip0902)\" style=\"stroke:#000000; stroke-width:2; stroke-opacity:0.1; fill:none\" points=\"\n",
       "  180.66,1052.58 2352.76,1052.58 \n",
       "  \"/>\n",
       "<polyline clip-path=\"url(#clip0902)\" style=\"stroke:#000000; stroke-width:2; stroke-opacity:0.1; fill:none\" points=\"\n",
       "  180.66,729.96 2352.76,729.96 \n",
       "  \"/>\n",
       "<polyline clip-path=\"url(#clip0902)\" style=\"stroke:#000000; stroke-width:2; stroke-opacity:0.1; fill:none\" points=\"\n",
       "  180.66,407.341 2352.76,407.341 \n",
       "  \"/>\n",
       "<polyline clip-path=\"url(#clip0902)\" style=\"stroke:#000000; stroke-width:2; stroke-opacity:0.1; fill:none\" points=\"\n",
       "  180.66,84.722 2352.76,84.722 \n",
       "  \"/>\n",
       "<polyline clip-path=\"url(#clip0900)\" style=\"stroke:#000000; stroke-width:4; stroke-opacity:1; fill:none\" points=\"\n",
       "  180.66,1487.47 2352.76,1487.47 \n",
       "  \"/>\n",
       "<polyline clip-path=\"url(#clip0900)\" style=\"stroke:#000000; stroke-width:4; stroke-opacity:1; fill:none\" points=\"\n",
       "  180.66,1487.47 180.66,47.2441 \n",
       "  \"/>\n",
       "<polyline clip-path=\"url(#clip0900)\" style=\"stroke:#000000; stroke-width:4; stroke-opacity:1; fill:none\" points=\"\n",
       "  242.135,1487.47 242.135,1465.87 \n",
       "  \"/>\n",
       "<polyline clip-path=\"url(#clip0900)\" style=\"stroke:#000000; stroke-width:4; stroke-opacity:1; fill:none\" points=\"\n",
       "  754.421,1487.47 754.421,1465.87 \n",
       "  \"/>\n",
       "<polyline clip-path=\"url(#clip0900)\" style=\"stroke:#000000; stroke-width:4; stroke-opacity:1; fill:none\" points=\"\n",
       "  1266.71,1487.47 1266.71,1465.87 \n",
       "  \"/>\n",
       "<polyline clip-path=\"url(#clip0900)\" style=\"stroke:#000000; stroke-width:4; stroke-opacity:1; fill:none\" points=\"\n",
       "  1778.99,1487.47 1778.99,1465.87 \n",
       "  \"/>\n",
       "<polyline clip-path=\"url(#clip0900)\" style=\"stroke:#000000; stroke-width:4; stroke-opacity:1; fill:none\" points=\"\n",
       "  2291.28,1487.47 2291.28,1465.87 \n",
       "  \"/>\n",
       "<polyline clip-path=\"url(#clip0900)\" style=\"stroke:#000000; stroke-width:4; stroke-opacity:1; fill:none\" points=\"\n",
       "  180.66,1375.2 213.242,1375.2 \n",
       "  \"/>\n",
       "<polyline clip-path=\"url(#clip0900)\" style=\"stroke:#000000; stroke-width:4; stroke-opacity:1; fill:none\" points=\"\n",
       "  180.66,1052.58 213.242,1052.58 \n",
       "  \"/>\n",
       "<polyline clip-path=\"url(#clip0900)\" style=\"stroke:#000000; stroke-width:4; stroke-opacity:1; fill:none\" points=\"\n",
       "  180.66,729.96 213.242,729.96 \n",
       "  \"/>\n",
       "<polyline clip-path=\"url(#clip0900)\" style=\"stroke:#000000; stroke-width:4; stroke-opacity:1; fill:none\" points=\"\n",
       "  180.66,407.341 213.242,407.341 \n",
       "  \"/>\n",
       "<polyline clip-path=\"url(#clip0900)\" style=\"stroke:#000000; stroke-width:4; stroke-opacity:1; fill:none\" points=\"\n",
       "  180.66,84.722 213.242,84.722 \n",
       "  \"/>\n",
       "<g clip-path=\"url(#clip0900)\">\n",
       "<text style=\"fill:#000000; fill-opacity:1; font-family:Arial,Helvetica Neue,Helvetica,sans-serif; font-size:48px; text-anchor:middle;\" transform=\"rotate(0, 242.135, 1541.47)\" x=\"242.135\" y=\"1541.47\">-1.0</text>\n",
       "</g>\n",
       "<g clip-path=\"url(#clip0900)\">\n",
       "<text style=\"fill:#000000; fill-opacity:1; font-family:Arial,Helvetica Neue,Helvetica,sans-serif; font-size:48px; text-anchor:middle;\" transform=\"rotate(0, 754.421, 1541.47)\" x=\"754.421\" y=\"1541.47\">-0.5</text>\n",
       "</g>\n",
       "<g clip-path=\"url(#clip0900)\">\n",
       "<text style=\"fill:#000000; fill-opacity:1; font-family:Arial,Helvetica Neue,Helvetica,sans-serif; font-size:48px; text-anchor:middle;\" transform=\"rotate(0, 1266.71, 1541.47)\" x=\"1266.71\" y=\"1541.47\">0.0</text>\n",
       "</g>\n",
       "<g clip-path=\"url(#clip0900)\">\n",
       "<text style=\"fill:#000000; fill-opacity:1; font-family:Arial,Helvetica Neue,Helvetica,sans-serif; font-size:48px; text-anchor:middle;\" transform=\"rotate(0, 1778.99, 1541.47)\" x=\"1778.99\" y=\"1541.47\">0.5</text>\n",
       "</g>\n",
       "<g clip-path=\"url(#clip0900)\">\n",
       "<text style=\"fill:#000000; fill-opacity:1; font-family:Arial,Helvetica Neue,Helvetica,sans-serif; font-size:48px; text-anchor:middle;\" transform=\"rotate(0, 2291.28, 1541.47)\" x=\"2291.28\" y=\"1541.47\">1.0</text>\n",
       "</g>\n",
       "<g clip-path=\"url(#clip0900)\">\n",
       "<text style=\"fill:#000000; fill-opacity:1; font-family:Arial,Helvetica Neue,Helvetica,sans-serif; font-size:48px; text-anchor:end;\" transform=\"rotate(0, 156.66, 1392.7)\" x=\"156.66\" y=\"1392.7\">0.00</text>\n",
       "</g>\n",
       "<g clip-path=\"url(#clip0900)\">\n",
       "<text style=\"fill:#000000; fill-opacity:1; font-family:Arial,Helvetica Neue,Helvetica,sans-serif; font-size:48px; text-anchor:end;\" transform=\"rotate(0, 156.66, 1070.08)\" x=\"156.66\" y=\"1070.08\">0.25</text>\n",
       "</g>\n",
       "<g clip-path=\"url(#clip0900)\">\n",
       "<text style=\"fill:#000000; fill-opacity:1; font-family:Arial,Helvetica Neue,Helvetica,sans-serif; font-size:48px; text-anchor:end;\" transform=\"rotate(0, 156.66, 747.46)\" x=\"156.66\" y=\"747.46\">0.50</text>\n",
       "</g>\n",
       "<g clip-path=\"url(#clip0900)\">\n",
       "<text style=\"fill:#000000; fill-opacity:1; font-family:Arial,Helvetica Neue,Helvetica,sans-serif; font-size:48px; text-anchor:end;\" transform=\"rotate(0, 156.66, 424.841)\" x=\"156.66\" y=\"424.841\">0.75</text>\n",
       "</g>\n",
       "<g clip-path=\"url(#clip0900)\">\n",
       "<text style=\"fill:#000000; fill-opacity:1; font-family:Arial,Helvetica Neue,Helvetica,sans-serif; font-size:48px; text-anchor:end;\" transform=\"rotate(0, 156.66, 102.222)\" x=\"156.66\" y=\"102.222\">1.00</text>\n",
       "</g>\n",
       "<polyline clip-path=\"url(#clip0902)\" style=\"stroke:#009af9; stroke-width:4; stroke-opacity:1; fill:none\" points=\"\n",
       "  242.135,1325.57 262.833,1357.82 283.532,1384.61 304.23,1406.23 324.929,1422.97 345.627,1435.11 366.325,1442.93 387.024,1446.71 407.722,1446.71 428.421,1443.2 \n",
       "  449.119,1436.42 469.818,1426.63 490.516,1414.07 511.215,1398.97 531.913,1381.56 552.612,1362.07 573.31,1340.71 594.008,1317.69 614.707,1293.22 635.405,1267.5 \n",
       "  656.104,1240.72 676.802,1213.06 697.501,1184.71 718.199,1155.83 738.898,1126.6 759.596,1097.17 780.294,1067.71 800.993,1038.36 821.691,1009.26 842.39,980.552 \n",
       "  863.088,952.362 883.787,924.817 904.485,898.032 925.184,872.121 945.882,847.189 966.581,823.334 987.279,800.65 1007.98,779.223 1028.68,759.135 1049.37,740.459 \n",
       "  1070.07,723.264 1090.77,707.612 1111.47,693.558 1132.17,681.153 1152.87,670.439 1173.57,661.454 1194.26,654.229 1214.96,648.788 1235.66,645.151 1256.36,643.329 \n",
       "  1277.06,643.329 1297.76,645.151 1318.45,648.788 1339.15,654.229 1359.85,661.454 1380.55,670.439 1401.25,681.153 1421.95,693.558 1442.64,707.612 1463.34,723.264 \n",
       "  1484.04,740.459 1504.74,759.135 1525.44,779.223 1546.14,800.65 1566.84,823.334 1587.53,847.189 1608.23,872.121 1628.93,898.032 1649.63,924.817 1670.33,952.362 \n",
       "  1691.03,980.552 1711.72,1009.26 1732.42,1038.36 1753.12,1067.71 1773.82,1097.17 1794.52,1126.6 1815.22,1155.83 1835.92,1184.71 1856.61,1213.06 1877.31,1240.72 \n",
       "  1898.01,1267.5 1918.71,1293.22 1939.41,1317.69 1960.11,1340.71 1980.8,1362.07 2001.5,1381.56 2022.2,1398.97 2042.9,1414.07 2063.6,1426.63 2084.3,1436.42 \n",
       "  2105,1443.2 2125.69,1446.71 2146.39,1446.71 2167.09,1442.93 2187.79,1435.11 2208.49,1422.97 2229.19,1406.23 2249.88,1384.61 2270.58,1357.82 2291.28,1325.57 \n",
       "  \n",
       "  \"/>\n",
       "<polyline clip-path=\"url(#clip0902)\" style=\"stroke:#e26f46; stroke-width:12; stroke-opacity:1; fill:none\" points=\"\n",
       "  242.135,1325.57 262.833,1323.58 283.532,1321.48 304.23,1319.24 324.929,1316.87 345.627,1314.34 366.325,1311.65 387.024,1308.78 407.722,1305.71 428.421,1302.44 \n",
       "  449.119,1298.93 469.818,1295.16 490.516,1291.12 511.215,1286.77 531.913,1282.08 552.612,1277.02 573.31,1271.55 594.008,1265.62 614.707,1259.19 635.405,1252.2 \n",
       "  656.104,1244.57 676.802,1236.25 697.501,1227.14 718.199,1217.15 738.898,1206.17 759.596,1194.06 780.294,1180.69 800.993,1165.89 821.691,1149.45 842.39,1131.15 \n",
       "  863.088,1110.74 883.787,1087.91 904.485,1062.33 925.184,1033.6 945.882,1001.29 966.581,964.897 987.279,923.905 1007.98,877.757 1028.68,825.908 1049.37,767.883 \n",
       "  1070.07,703.364 1090.77,632.337 1111.47,555.287 1132.17,473.448 1152.87,389.08 1173.57,305.694 1194.26,228.095 1214.96,162.081 1235.66,113.682 1256.36,88.0053 \n",
       "  1277.06,88.0053 1297.76,113.682 1318.45,162.081 1339.15,228.095 1359.85,305.694 1380.55,389.08 1401.25,473.448 1421.95,555.287 1442.64,632.337 1463.34,703.364 \n",
       "  1484.04,767.883 1504.74,825.908 1525.44,877.757 1546.14,923.905 1566.84,964.897 1587.53,1001.29 1608.23,1033.6 1628.93,1062.33 1649.63,1087.91 1670.33,1110.74 \n",
       "  1691.03,1131.15 1711.72,1149.45 1732.42,1165.89 1753.12,1180.69 1773.82,1194.06 1794.52,1206.17 1815.22,1217.15 1835.92,1227.14 1856.61,1236.25 1877.31,1244.57 \n",
       "  1898.01,1252.2 1918.71,1259.19 1939.41,1265.62 1960.11,1271.55 1980.8,1277.02 2001.5,1282.08 2022.2,1286.77 2042.9,1291.12 2063.6,1295.16 2084.3,1298.93 \n",
       "  2105,1302.44 2125.69,1305.71 2146.39,1308.78 2167.09,1311.65 2187.79,1314.34 2208.49,1316.87 2229.19,1319.24 2249.88,1321.48 2270.58,1323.58 2291.28,1325.57 \n",
       "  \n",
       "  \"/>\n",
       "<polygon clip-path=\"url(#clip0900)\" points=\"\n",
       "1899,312.204 2280.76,312.204 2280.76,130.764 1899,130.764 \n",
       "  \" fill=\"#ffffff\" fill-rule=\"evenodd\" fill-opacity=\"1\"/>\n",
       "<polyline clip-path=\"url(#clip0900)\" style=\"stroke:#000000; stroke-width:4; stroke-opacity:1; fill:none\" points=\"\n",
       "  1899,312.204 2280.76,312.204 2280.76,130.764 1899,130.764 1899,312.204 \n",
       "  \"/>\n",
       "<polyline clip-path=\"url(#clip0900)\" style=\"stroke:#009af9; stroke-width:4; stroke-opacity:1; fill:none\" points=\"\n",
       "  1923,191.244 2067,191.244 \n",
       "  \"/>\n",
       "<g clip-path=\"url(#clip0900)\">\n",
       "<text style=\"fill:#000000; fill-opacity:1; font-family:Arial,Helvetica Neue,Helvetica,sans-serif; font-size:48px; text-anchor:start;\" transform=\"rotate(0, 2091, 208.744)\" x=\"2091\" y=\"208.744\">P_5(x)</text>\n",
       "</g>\n",
       "<polyline clip-path=\"url(#clip0900)\" style=\"stroke:#e26f46; stroke-width:12; stroke-opacity:1; fill:none\" points=\"\n",
       "  1923,251.724 2067,251.724 \n",
       "  \"/>\n",
       "<g clip-path=\"url(#clip0900)\">\n",
       "<text style=\"fill:#000000; fill-opacity:1; font-family:Arial,Helvetica Neue,Helvetica,sans-serif; font-size:48px; text-anchor:start;\" transform=\"rotate(0, 2091, 269.224)\" x=\"2091\" y=\"269.224\">g(x)</text>\n",
       "</g>\n",
       "</svg>\n"
      ]
     },
     "execution_count": 21,
     "metadata": {},
     "output_type": "execute_result"
    }
   ],
   "source": [
    "using Plots\n",
    "N_display = 100\n",
    "g(x) = 1/(1 + 25x^2)\n",
    "x_display = range(-1, 1, length = N_display)\n",
    "y_display = g.(x_display)\n",
    "\n",
    "# interpolação\n",
    "N = 5\n",
    "x = range(-1.0, 1.0, length = N+1)\n",
    "y = g.(x)\n",
    "A_5 = [x_i^n for x_i in x, n in 0:N]\n",
    "c_5 = A_5 \\ y\n",
    "\n",
    "# use os coeficientes para avaliar na grade x_display\n",
    "B_5 = [x_i^n for x_i in x_display, n in 0:N]   # calcular monômios para a grade de exibição\n",
    "y_5 = B_5 * c_5  # calcula para cada um em x_display_grid\n",
    "plot(x_display, y_5, label = \"P_5(x)\")\n",
    "plot!(x_display, y_display, w = 3, label = \"g(x)\")"
   ]
  },
  {
   "cell_type": "markdown",
   "metadata": {},
   "source": [
    "Observe que, enquanto a função $ g (x) $ e a aproximação com um polinômio de 5ª ordem, $ P_5 (x) $ coincidem nos 6 nós, a aproximação apresenta muitos erros em qualquer outro lugar.\n",
    "\n",
    "As oscilações próximas aos limites são as marcas registradas dos fenômenos de Runge. Você pode adivinhar que aumentar o número\n",
    "pontos de grade e ordem do polinômio levará a melhores aproximações:"
   ]
  },
  {
   "cell_type": "code",
   "execution_count": 22,
   "metadata": {
    "hide-output": false
   },
   "outputs": [
    {
     "data": {
      "image/svg+xml": [
       "<?xml version=\"1.0\" encoding=\"utf-8\"?>\n",
       "<svg xmlns=\"http://www.w3.org/2000/svg\" xmlns:xlink=\"http://www.w3.org/1999/xlink\" width=\"600\" height=\"400\" viewBox=\"0 0 2400 1600\">\n",
       "<defs>\n",
       "  <clipPath id=\"clip1300\">\n",
       "    <rect x=\"0\" y=\"0\" width=\"2400\" height=\"1600\"/>\n",
       "  </clipPath>\n",
       "</defs>\n",
       "<polygon clip-path=\"url(#clip1300)\" points=\"\n",
       "0,1600 2400,1600 2400,0 0,0 \n",
       "  \" fill=\"#ffffff\" fill-rule=\"evenodd\" fill-opacity=\"1\"/>\n",
       "<defs>\n",
       "  <clipPath id=\"clip1301\">\n",
       "    <rect x=\"480\" y=\"0\" width=\"1681\" height=\"1600\"/>\n",
       "  </clipPath>\n",
       "</defs>\n",
       "<polygon clip-path=\"url(#clip1300)\" points=\"\n",
       "153.898,1487.47 2352.76,1487.47 2352.76,47.2441 153.898,47.2441 \n",
       "  \" fill=\"#ffffff\" fill-rule=\"evenodd\" fill-opacity=\"1\"/>\n",
       "<defs>\n",
       "  <clipPath id=\"clip1302\">\n",
       "    <rect x=\"153\" y=\"47\" width=\"2200\" height=\"1441\"/>\n",
       "  </clipPath>\n",
       "</defs>\n",
       "<polyline clip-path=\"url(#clip1302)\" style=\"stroke:#000000; stroke-width:2; stroke-opacity:0.1; fill:none\" points=\"\n",
       "  216.13,1487.47 216.13,47.2441 \n",
       "  \"/>\n",
       "<polyline clip-path=\"url(#clip1302)\" style=\"stroke:#000000; stroke-width:2; stroke-opacity:0.1; fill:none\" points=\"\n",
       "  734.728,1487.47 734.728,47.2441 \n",
       "  \"/>\n",
       "<polyline clip-path=\"url(#clip1302)\" style=\"stroke:#000000; stroke-width:2; stroke-opacity:0.1; fill:none\" points=\"\n",
       "  1253.33,1487.47 1253.33,47.2441 \n",
       "  \"/>\n",
       "<polyline clip-path=\"url(#clip1302)\" style=\"stroke:#000000; stroke-width:2; stroke-opacity:0.1; fill:none\" points=\"\n",
       "  1771.93,1487.47 1771.93,47.2441 \n",
       "  \"/>\n",
       "<polyline clip-path=\"url(#clip1302)\" style=\"stroke:#000000; stroke-width:2; stroke-opacity:0.1; fill:none\" points=\"\n",
       "  2290.52,1487.47 2290.52,47.2441 \n",
       "  \"/>\n",
       "<polyline clip-path=\"url(#clip1302)\" style=\"stroke:#000000; stroke-width:2; stroke-opacity:0.1; fill:none\" points=\"\n",
       "  153.898,1172.01 2352.76,1172.01 \n",
       "  \"/>\n",
       "<polyline clip-path=\"url(#clip1302)\" style=\"stroke:#000000; stroke-width:2; stroke-opacity:0.1; fill:none\" points=\"\n",
       "  153.898,845.98 2352.76,845.98 \n",
       "  \"/>\n",
       "<polyline clip-path=\"url(#clip1302)\" style=\"stroke:#000000; stroke-width:2; stroke-opacity:0.1; fill:none\" points=\"\n",
       "  153.898,519.949 2352.76,519.949 \n",
       "  \"/>\n",
       "<polyline clip-path=\"url(#clip1302)\" style=\"stroke:#000000; stroke-width:2; stroke-opacity:0.1; fill:none\" points=\"\n",
       "  153.898,193.917 2352.76,193.917 \n",
       "  \"/>\n",
       "<polyline clip-path=\"url(#clip1300)\" style=\"stroke:#000000; stroke-width:4; stroke-opacity:1; fill:none\" points=\"\n",
       "  153.898,1487.47 2352.76,1487.47 \n",
       "  \"/>\n",
       "<polyline clip-path=\"url(#clip1300)\" style=\"stroke:#000000; stroke-width:4; stroke-opacity:1; fill:none\" points=\"\n",
       "  153.898,1487.47 153.898,47.2441 \n",
       "  \"/>\n",
       "<polyline clip-path=\"url(#clip1300)\" style=\"stroke:#000000; stroke-width:4; stroke-opacity:1; fill:none\" points=\"\n",
       "  216.13,1487.47 216.13,1465.87 \n",
       "  \"/>\n",
       "<polyline clip-path=\"url(#clip1300)\" style=\"stroke:#000000; stroke-width:4; stroke-opacity:1; fill:none\" points=\"\n",
       "  734.728,1487.47 734.728,1465.87 \n",
       "  \"/>\n",
       "<polyline clip-path=\"url(#clip1300)\" style=\"stroke:#000000; stroke-width:4; stroke-opacity:1; fill:none\" points=\"\n",
       "  1253.33,1487.47 1253.33,1465.87 \n",
       "  \"/>\n",
       "<polyline clip-path=\"url(#clip1300)\" style=\"stroke:#000000; stroke-width:4; stroke-opacity:1; fill:none\" points=\"\n",
       "  1771.93,1487.47 1771.93,1465.87 \n",
       "  \"/>\n",
       "<polyline clip-path=\"url(#clip1300)\" style=\"stroke:#000000; stroke-width:4; stroke-opacity:1; fill:none\" points=\"\n",
       "  2290.52,1487.47 2290.52,1465.87 \n",
       "  \"/>\n",
       "<polyline clip-path=\"url(#clip1300)\" style=\"stroke:#000000; stroke-width:4; stroke-opacity:1; fill:none\" points=\"\n",
       "  153.898,1172.01 186.881,1172.01 \n",
       "  \"/>\n",
       "<polyline clip-path=\"url(#clip1300)\" style=\"stroke:#000000; stroke-width:4; stroke-opacity:1; fill:none\" points=\"\n",
       "  153.898,845.98 186.881,845.98 \n",
       "  \"/>\n",
       "<polyline clip-path=\"url(#clip1300)\" style=\"stroke:#000000; stroke-width:4; stroke-opacity:1; fill:none\" points=\"\n",
       "  153.898,519.949 186.881,519.949 \n",
       "  \"/>\n",
       "<polyline clip-path=\"url(#clip1300)\" style=\"stroke:#000000; stroke-width:4; stroke-opacity:1; fill:none\" points=\"\n",
       "  153.898,193.917 186.881,193.917 \n",
       "  \"/>\n",
       "<g clip-path=\"url(#clip1300)\">\n",
       "<text style=\"fill:#000000; fill-opacity:1; font-family:Arial,Helvetica Neue,Helvetica,sans-serif; font-size:48px; text-anchor:middle;\" transform=\"rotate(0, 216.13, 1541.47)\" x=\"216.13\" y=\"1541.47\">-1.0</text>\n",
       "</g>\n",
       "<g clip-path=\"url(#clip1300)\">\n",
       "<text style=\"fill:#000000; fill-opacity:1; font-family:Arial,Helvetica Neue,Helvetica,sans-serif; font-size:48px; text-anchor:middle;\" transform=\"rotate(0, 734.728, 1541.47)\" x=\"734.728\" y=\"1541.47\">-0.5</text>\n",
       "</g>\n",
       "<g clip-path=\"url(#clip1300)\">\n",
       "<text style=\"fill:#000000; fill-opacity:1; font-family:Arial,Helvetica Neue,Helvetica,sans-serif; font-size:48px; text-anchor:middle;\" transform=\"rotate(0, 1253.33, 1541.47)\" x=\"1253.33\" y=\"1541.47\">0.0</text>\n",
       "</g>\n",
       "<g clip-path=\"url(#clip1300)\">\n",
       "<text style=\"fill:#000000; fill-opacity:1; font-family:Arial,Helvetica Neue,Helvetica,sans-serif; font-size:48px; text-anchor:middle;\" transform=\"rotate(0, 1771.93, 1541.47)\" x=\"1771.93\" y=\"1541.47\">0.5</text>\n",
       "</g>\n",
       "<g clip-path=\"url(#clip1300)\">\n",
       "<text style=\"fill:#000000; fill-opacity:1; font-family:Arial,Helvetica Neue,Helvetica,sans-serif; font-size:48px; text-anchor:middle;\" transform=\"rotate(0, 2290.52, 1541.47)\" x=\"2290.52\" y=\"1541.47\">1.0</text>\n",
       "</g>\n",
       "<g clip-path=\"url(#clip1300)\">\n",
       "<text style=\"fill:#000000; fill-opacity:1; font-family:Arial,Helvetica Neue,Helvetica,sans-serif; font-size:48px; text-anchor:end;\" transform=\"rotate(0, 129.898, 1189.51)\" x=\"129.898\" y=\"1189.51\">0.0</text>\n",
       "</g>\n",
       "<g clip-path=\"url(#clip1300)\">\n",
       "<text style=\"fill:#000000; fill-opacity:1; font-family:Arial,Helvetica Neue,Helvetica,sans-serif; font-size:48px; text-anchor:end;\" transform=\"rotate(0, 129.898, 863.48)\" x=\"129.898\" y=\"863.48\">0.3</text>\n",
       "</g>\n",
       "<g clip-path=\"url(#clip1300)\">\n",
       "<text style=\"fill:#000000; fill-opacity:1; font-family:Arial,Helvetica Neue,Helvetica,sans-serif; font-size:48px; text-anchor:end;\" transform=\"rotate(0, 129.898, 537.449)\" x=\"129.898\" y=\"537.449\">0.6</text>\n",
       "</g>\n",
       "<g clip-path=\"url(#clip1300)\">\n",
       "<text style=\"fill:#000000; fill-opacity:1; font-family:Arial,Helvetica Neue,Helvetica,sans-serif; font-size:48px; text-anchor:end;\" transform=\"rotate(0, 129.898, 211.417)\" x=\"129.898\" y=\"211.417\">0.9</text>\n",
       "</g>\n",
       "<polyline clip-path=\"url(#clip1302)\" style=\"stroke:#009af9; stroke-width:4; stroke-opacity:1; fill:none\" points=\"\n",
       "  216.13,1130.21 237.083,1303.42 258.037,1402.25 278.99,1444.94 299.944,1446.71 320.897,1420.11 341.851,1375.31 362.804,1320.44 383.758,1261.82 404.711,1204.2 \n",
       "  425.665,1151.02 446.618,1104.61 467.572,1066.32 488.525,1036.77 509.478,1015.92 530.432,1003.27 551.385,997.943 572.339,998.785 593.292,1004.48 614.246,1013.6 \n",
       "  635.199,1024.72 656.153,1036.41 677.106,1047.32 698.06,1056.24 719.013,1062.08 739.967,1063.91 760.92,1060.98 781.874,1052.75 802.827,1038.84 823.781,1019.09 \n",
       "  844.734,993.498 865.688,962.254 886.641,925.703 907.595,884.336 928.548,838.776 949.502,789.755 970.455,738.095 991.408,684.687 1012.36,630.471 1033.32,576.413 \n",
       "  1054.27,523.483 1075.22,472.639 1096.18,424.801 1117.13,380.84 1138.08,341.554 1159.04,307.659 1179.99,279.772 1200.94,258.4 1221.9,243.932 1242.85,236.632 \n",
       "  1263.8,236.632 1284.76,243.932 1305.71,258.4 1326.66,279.772 1347.62,307.659 1368.57,341.554 1389.52,380.84 1410.48,424.801 1431.43,472.639 1452.38,523.483 \n",
       "  1473.34,576.413 1494.29,630.471 1515.25,684.687 1536.2,738.095 1557.15,789.755 1578.11,838.776 1599.06,884.336 1620.01,925.703 1640.97,962.254 1661.92,993.498 \n",
       "  1682.87,1019.09 1703.83,1038.84 1724.78,1052.75 1745.73,1060.98 1766.69,1063.91 1787.64,1062.08 1808.59,1056.24 1829.55,1047.32 1850.5,1036.41 1871.45,1024.72 \n",
       "  1892.41,1013.6 1913.36,1004.48 1934.31,998.785 1955.27,997.943 1976.22,1003.27 1997.18,1015.92 2018.13,1036.77 2039.08,1066.32 2060.04,1104.61 2080.99,1151.02 \n",
       "  2101.94,1204.2 2122.9,1261.82 2143.85,1320.44 2164.8,1375.31 2185.76,1420.11 2206.71,1446.71 2227.66,1444.94 2248.62,1402.25 2269.57,1303.42 2290.52,1130.21 \n",
       "  \n",
       "  \"/>\n",
       "<polyline clip-path=\"url(#clip1302)\" style=\"stroke:#e26f46; stroke-width:12; stroke-opacity:1; fill:none\" points=\"\n",
       "  216.13,1130.21 237.083,1128.54 258.037,1126.77 278.99,1124.89 299.944,1122.89 320.897,1120.76 341.851,1118.49 362.804,1116.08 383.758,1113.5 404.711,1110.73 \n",
       "  425.665,1107.78 446.618,1104.61 467.572,1101.2 488.525,1097.54 509.478,1093.59 530.432,1089.33 551.385,1084.72 572.339,1079.73 593.292,1074.31 614.246,1068.42 \n",
       "  635.199,1062.01 656.153,1055 677.106,1047.32 698.06,1038.91 719.013,1029.66 739.967,1019.47 760.92,1008.21 781.874,995.739 802.827,981.895 823.781,966.488 \n",
       "  844.734,949.299 865.688,930.076 886.641,908.531 907.595,884.336 928.548,857.122 949.502,826.477 970.455,791.955 991.408,753.092 1012.36,709.428 1033.32,660.562 \n",
       "  1054.27,606.228 1075.22,546.413 1096.18,481.525 1117.13,412.604 1138.08,341.554 1159.04,271.331 1179.99,205.982 1200.94,150.388 1221.9,109.629 1242.85,88.0053 \n",
       "  1263.8,88.0053 1284.76,109.629 1305.71,150.388 1326.66,205.982 1347.62,271.331 1368.57,341.554 1389.52,412.604 1410.48,481.525 1431.43,546.413 1452.38,606.228 \n",
       "  1473.34,660.562 1494.29,709.428 1515.25,753.092 1536.2,791.955 1557.15,826.477 1578.11,857.122 1599.06,884.336 1620.01,908.531 1640.97,930.076 1661.92,949.299 \n",
       "  1682.87,966.488 1703.83,981.895 1724.78,995.739 1745.73,1008.21 1766.69,1019.47 1787.64,1029.66 1808.59,1038.91 1829.55,1047.32 1850.5,1055 1871.45,1062.01 \n",
       "  1892.41,1068.42 1913.36,1074.31 1934.31,1079.73 1955.27,1084.72 1976.22,1089.33 1997.18,1093.59 2018.13,1097.54 2039.08,1101.2 2060.04,1104.61 2080.99,1107.78 \n",
       "  2101.94,1110.73 2122.9,1113.5 2143.85,1116.08 2164.8,1118.49 2185.76,1120.76 2206.71,1122.89 2227.66,1124.89 2248.62,1126.77 2269.57,1128.54 2290.52,1130.21 \n",
       "  \n",
       "  \"/>\n",
       "<polygon clip-path=\"url(#clip1300)\" points=\"\n",
       "1899,312.204 2280.76,312.204 2280.76,130.764 1899,130.764 \n",
       "  \" fill=\"#ffffff\" fill-rule=\"evenodd\" fill-opacity=\"1\"/>\n",
       "<polyline clip-path=\"url(#clip1300)\" style=\"stroke:#000000; stroke-width:4; stroke-opacity:1; fill:none\" points=\"\n",
       "  1899,312.204 2280.76,312.204 2280.76,130.764 1899,130.764 1899,312.204 \n",
       "  \"/>\n",
       "<polyline clip-path=\"url(#clip1300)\" style=\"stroke:#009af9; stroke-width:4; stroke-opacity:1; fill:none\" points=\"\n",
       "  1923,191.244 2067,191.244 \n",
       "  \"/>\n",
       "<g clip-path=\"url(#clip1300)\">\n",
       "<text style=\"fill:#000000; fill-opacity:1; font-family:Arial,Helvetica Neue,Helvetica,sans-serif; font-size:48px; text-anchor:start;\" transform=\"rotate(0, 2091, 208.744)\" x=\"2091\" y=\"208.744\">P_9(x)</text>\n",
       "</g>\n",
       "<polyline clip-path=\"url(#clip1300)\" style=\"stroke:#e26f46; stroke-width:12; stroke-opacity:1; fill:none\" points=\"\n",
       "  1923,251.724 2067,251.724 \n",
       "  \"/>\n",
       "<g clip-path=\"url(#clip1300)\">\n",
       "<text style=\"fill:#000000; fill-opacity:1; font-family:Arial,Helvetica Neue,Helvetica,sans-serif; font-size:48px; text-anchor:start;\" transform=\"rotate(0, 2091, 269.224)\" x=\"2091\" y=\"269.224\">g(x)</text>\n",
       "</g>\n",
       "</svg>\n"
      ]
     },
     "execution_count": 22,
     "metadata": {},
     "output_type": "execute_result"
    }
   ],
   "source": [
    "N = 9\n",
    "x = range(-1.0, 1.0, length = N+1)\n",
    "y = g.(x)\n",
    "A_9 = [x_i^n for x_i in x, n in 0:N]\n",
    "c_9 = A_9 \\ y\n",
    "\n",
    "# use os coeficientes para avaliar na grade x_display\n",
    "B_9 = [x_i^n for x_i in x_display, n in 0:N]   # calcular monômios para a grade de exibição\n",
    "y_9 = B_9 * c_9  # calcula para cada um em x_display_grid\n",
    "plot(x_display, y_9, label = \"P_9(x)\")\n",
    "plot!(x_display, y_display, w = 3, label = \"g(x)\")"
   ]
  },
  {
   "cell_type": "markdown",
   "metadata": {},
   "source": [
    "Enquanto a aproximação é melhor perto de `x = 0`, as oscilações próximas aos limites se tornam piores. Adicionar termos polinomiais extras não aumentará globalmente a qualidade da aproximação."
   ]
  },
  {
   "cell_type": "markdown",
   "metadata": {},
   "source": [
    "#### Usando uma base polinomial ortogonal\n",
    "\n",
    "Podemos minimizar os problemas numéricos de uma matriz de base mal condicionada escolhendo uma base diferente para os polinômios.\n",
    "\n",
    "Por exemplo, os [polinômios de Chebyshev](https://en.wikipedia.org/wiki/Chebyshev_polynomials) formam uma base ortonormal sob um produto interno apropriado, e podemos formar aproximações precisas de alta ordem, com muito pouco erro numérico:"
   ]
  },
  {
   "cell_type": "code",
   "execution_count": 23,
   "metadata": {
    "hide-output": false
   },
   "outputs": [
    {
     "name": "stdout",
     "output_type": "stream",
     "text": [
      "norm(g_approx.(x) - g.(x), Inf) = 4.440892098500626e-16\n"
     ]
    },
    {
     "data": {
      "image/svg+xml": [
       "<?xml version=\"1.0\" encoding=\"utf-8\"?>\n",
       "<svg xmlns=\"http://www.w3.org/2000/svg\" xmlns:xlink=\"http://www.w3.org/1999/xlink\" width=\"600\" height=\"400\" viewBox=\"0 0 2400 1600\">\n",
       "<defs>\n",
       "  <clipPath id=\"clip1700\">\n",
       "    <rect x=\"0\" y=\"0\" width=\"2400\" height=\"1600\"/>\n",
       "  </clipPath>\n",
       "</defs>\n",
       "<polygon clip-path=\"url(#clip1700)\" points=\"\n",
       "0,1600 2400,1600 2400,0 0,0 \n",
       "  \" fill=\"#ffffff\" fill-rule=\"evenodd\" fill-opacity=\"1\"/>\n",
       "<defs>\n",
       "  <clipPath id=\"clip1701\">\n",
       "    <rect x=\"480\" y=\"0\" width=\"1681\" height=\"1600\"/>\n",
       "  </clipPath>\n",
       "</defs>\n",
       "<polygon clip-path=\"url(#clip1700)\" points=\"\n",
       "153.898,1487.47 2352.76,1487.47 2352.76,47.2441 153.898,47.2441 \n",
       "  \" fill=\"#ffffff\" fill-rule=\"evenodd\" fill-opacity=\"1\"/>\n",
       "<defs>\n",
       "  <clipPath id=\"clip1702\">\n",
       "    <rect x=\"153\" y=\"47\" width=\"2200\" height=\"1441\"/>\n",
       "  </clipPath>\n",
       "</defs>\n",
       "<polyline clip-path=\"url(#clip1702)\" style=\"stroke:#000000; stroke-width:2; stroke-opacity:0.1; fill:none\" points=\"\n",
       "  216.13,1487.47 216.13,47.2441 \n",
       "  \"/>\n",
       "<polyline clip-path=\"url(#clip1702)\" style=\"stroke:#000000; stroke-width:2; stroke-opacity:0.1; fill:none\" points=\"\n",
       "  734.728,1487.47 734.728,47.2441 \n",
       "  \"/>\n",
       "<polyline clip-path=\"url(#clip1702)\" style=\"stroke:#000000; stroke-width:2; stroke-opacity:0.1; fill:none\" points=\"\n",
       "  1253.33,1487.47 1253.33,47.2441 \n",
       "  \"/>\n",
       "<polyline clip-path=\"url(#clip1702)\" style=\"stroke:#000000; stroke-width:2; stroke-opacity:0.1; fill:none\" points=\"\n",
       "  1771.93,1487.47 1771.93,47.2441 \n",
       "  \"/>\n",
       "<polyline clip-path=\"url(#clip1702)\" style=\"stroke:#000000; stroke-width:2; stroke-opacity:0.1; fill:none\" points=\"\n",
       "  2290.52,1487.47 2290.52,47.2441 \n",
       "  \"/>\n",
       "<polyline clip-path=\"url(#clip1702)\" style=\"stroke:#000000; stroke-width:2; stroke-opacity:0.1; fill:none\" points=\"\n",
       "  153.898,1217.84 2352.76,1217.84 \n",
       "  \"/>\n",
       "<polyline clip-path=\"url(#clip1702)\" style=\"stroke:#000000; stroke-width:2; stroke-opacity:0.1; fill:none\" points=\"\n",
       "  153.898,934.484 2352.76,934.484 \n",
       "  \"/>\n",
       "<polyline clip-path=\"url(#clip1702)\" style=\"stroke:#000000; stroke-width:2; stroke-opacity:0.1; fill:none\" points=\"\n",
       "  153.898,651.123 2352.76,651.123 \n",
       "  \"/>\n",
       "<polyline clip-path=\"url(#clip1702)\" style=\"stroke:#000000; stroke-width:2; stroke-opacity:0.1; fill:none\" points=\"\n",
       "  153.898,367.762 2352.76,367.762 \n",
       "  \"/>\n",
       "<polyline clip-path=\"url(#clip1702)\" style=\"stroke:#000000; stroke-width:2; stroke-opacity:0.1; fill:none\" points=\"\n",
       "  153.898,84.4006 2352.76,84.4006 \n",
       "  \"/>\n",
       "<polyline clip-path=\"url(#clip1700)\" style=\"stroke:#000000; stroke-width:4; stroke-opacity:1; fill:none\" points=\"\n",
       "  153.898,1487.47 2352.76,1487.47 \n",
       "  \"/>\n",
       "<polyline clip-path=\"url(#clip1700)\" style=\"stroke:#000000; stroke-width:4; stroke-opacity:1; fill:none\" points=\"\n",
       "  153.898,1487.47 153.898,47.2441 \n",
       "  \"/>\n",
       "<polyline clip-path=\"url(#clip1700)\" style=\"stroke:#000000; stroke-width:4; stroke-opacity:1; fill:none\" points=\"\n",
       "  216.13,1487.47 216.13,1465.87 \n",
       "  \"/>\n",
       "<polyline clip-path=\"url(#clip1700)\" style=\"stroke:#000000; stroke-width:4; stroke-opacity:1; fill:none\" points=\"\n",
       "  734.728,1487.47 734.728,1465.87 \n",
       "  \"/>\n",
       "<polyline clip-path=\"url(#clip1700)\" style=\"stroke:#000000; stroke-width:4; stroke-opacity:1; fill:none\" points=\"\n",
       "  1253.33,1487.47 1253.33,1465.87 \n",
       "  \"/>\n",
       "<polyline clip-path=\"url(#clip1700)\" style=\"stroke:#000000; stroke-width:4; stroke-opacity:1; fill:none\" points=\"\n",
       "  1771.93,1487.47 1771.93,1465.87 \n",
       "  \"/>\n",
       "<polyline clip-path=\"url(#clip1700)\" style=\"stroke:#000000; stroke-width:4; stroke-opacity:1; fill:none\" points=\"\n",
       "  2290.52,1487.47 2290.52,1465.87 \n",
       "  \"/>\n",
       "<polyline clip-path=\"url(#clip1700)\" style=\"stroke:#000000; stroke-width:4; stroke-opacity:1; fill:none\" points=\"\n",
       "  153.898,1217.84 186.881,1217.84 \n",
       "  \"/>\n",
       "<polyline clip-path=\"url(#clip1700)\" style=\"stroke:#000000; stroke-width:4; stroke-opacity:1; fill:none\" points=\"\n",
       "  153.898,934.484 186.881,934.484 \n",
       "  \"/>\n",
       "<polyline clip-path=\"url(#clip1700)\" style=\"stroke:#000000; stroke-width:4; stroke-opacity:1; fill:none\" points=\"\n",
       "  153.898,651.123 186.881,651.123 \n",
       "  \"/>\n",
       "<polyline clip-path=\"url(#clip1700)\" style=\"stroke:#000000; stroke-width:4; stroke-opacity:1; fill:none\" points=\"\n",
       "  153.898,367.762 186.881,367.762 \n",
       "  \"/>\n",
       "<polyline clip-path=\"url(#clip1700)\" style=\"stroke:#000000; stroke-width:4; stroke-opacity:1; fill:none\" points=\"\n",
       "  153.898,84.4006 186.881,84.4006 \n",
       "  \"/>\n",
       "<g clip-path=\"url(#clip1700)\">\n",
       "<text style=\"fill:#000000; fill-opacity:1; font-family:Arial,Helvetica Neue,Helvetica,sans-serif; font-size:48px; text-anchor:middle;\" transform=\"rotate(0, 216.13, 1541.47)\" x=\"216.13\" y=\"1541.47\">-1.0</text>\n",
       "</g>\n",
       "<g clip-path=\"url(#clip1700)\">\n",
       "<text style=\"fill:#000000; fill-opacity:1; font-family:Arial,Helvetica Neue,Helvetica,sans-serif; font-size:48px; text-anchor:middle;\" transform=\"rotate(0, 734.728, 1541.47)\" x=\"734.728\" y=\"1541.47\">-0.5</text>\n",
       "</g>\n",
       "<g clip-path=\"url(#clip1700)\">\n",
       "<text style=\"fill:#000000; fill-opacity:1; font-family:Arial,Helvetica Neue,Helvetica,sans-serif; font-size:48px; text-anchor:middle;\" transform=\"rotate(0, 1253.33, 1541.47)\" x=\"1253.33\" y=\"1541.47\">0.0</text>\n",
       "</g>\n",
       "<g clip-path=\"url(#clip1700)\">\n",
       "<text style=\"fill:#000000; fill-opacity:1; font-family:Arial,Helvetica Neue,Helvetica,sans-serif; font-size:48px; text-anchor:middle;\" transform=\"rotate(0, 1771.93, 1541.47)\" x=\"1771.93\" y=\"1541.47\">0.5</text>\n",
       "</g>\n",
       "<g clip-path=\"url(#clip1700)\">\n",
       "<text style=\"fill:#000000; fill-opacity:1; font-family:Arial,Helvetica Neue,Helvetica,sans-serif; font-size:48px; text-anchor:middle;\" transform=\"rotate(0, 2290.52, 1541.47)\" x=\"2290.52\" y=\"1541.47\">1.0</text>\n",
       "</g>\n",
       "<g clip-path=\"url(#clip1700)\">\n",
       "<text style=\"fill:#000000; fill-opacity:1; font-family:Arial,Helvetica Neue,Helvetica,sans-serif; font-size:48px; text-anchor:end;\" transform=\"rotate(0, 129.898, 1235.34)\" x=\"129.898\" y=\"1235.34\">0.2</text>\n",
       "</g>\n",
       "<g clip-path=\"url(#clip1700)\">\n",
       "<text style=\"fill:#000000; fill-opacity:1; font-family:Arial,Helvetica Neue,Helvetica,sans-serif; font-size:48px; text-anchor:end;\" transform=\"rotate(0, 129.898, 951.984)\" x=\"129.898\" y=\"951.984\">0.4</text>\n",
       "</g>\n",
       "<g clip-path=\"url(#clip1700)\">\n",
       "<text style=\"fill:#000000; fill-opacity:1; font-family:Arial,Helvetica Neue,Helvetica,sans-serif; font-size:48px; text-anchor:end;\" transform=\"rotate(0, 129.898, 668.623)\" x=\"129.898\" y=\"668.623\">0.6</text>\n",
       "</g>\n",
       "<g clip-path=\"url(#clip1700)\">\n",
       "<text style=\"fill:#000000; fill-opacity:1; font-family:Arial,Helvetica Neue,Helvetica,sans-serif; font-size:48px; text-anchor:end;\" transform=\"rotate(0, 129.898, 385.262)\" x=\"129.898\" y=\"385.262\">0.8</text>\n",
       "</g>\n",
       "<g clip-path=\"url(#clip1700)\">\n",
       "<text style=\"fill:#000000; fill-opacity:1; font-family:Arial,Helvetica Neue,Helvetica,sans-serif; font-size:48px; text-anchor:end;\" transform=\"rotate(0, 129.898, 101.901)\" x=\"129.898\" y=\"101.901\">1.0</text>\n",
       "</g>\n",
       "<polyline clip-path=\"url(#clip1702)\" style=\"stroke:#009af9; stroke-width:4; stroke-opacity:1; fill:none\" points=\"\n",
       "  216.13,1446.71 237.083,1444.53 258.037,1442.22 278.99,1439.77 299.944,1437.16 320.897,1434.39 341.851,1431.44 362.804,1428.28 383.758,1424.92 404.711,1421.32 \n",
       "  425.665,1417.47 446.618,1413.33 467.572,1408.89 488.525,1404.12 509.478,1398.97 530.432,1393.42 551.385,1387.41 572.339,1380.9 593.292,1373.84 614.246,1366.16 \n",
       "  635.199,1357.79 656.153,1348.65 677.106,1338.65 698.06,1327.69 719.013,1315.63 739.967,1302.34 760.92,1287.66 781.874,1271.4 802.827,1253.35 823.781,1233.27 \n",
       "  844.734,1210.86 865.688,1185.8 886.641,1157.71 907.595,1126.17 928.548,1090.69 949.502,1050.74 970.455,1005.73 991.408,955.068 1012.36,898.144 1033.32,834.438 \n",
       "  1054.27,763.603 1075.22,685.623 1096.18,601.03 1117.13,511.18 1138.08,418.553 1159.04,327.004 1179.99,241.809 1200.94,169.333 1221.9,116.196 1242.85,88.0053 \n",
       "  1263.8,88.0053 1284.76,116.196 1305.71,169.333 1326.66,241.809 1347.62,327.004 1368.57,418.553 1389.52,511.18 1410.48,601.03 1431.43,685.623 1452.38,763.603 \n",
       "  1473.34,834.438 1494.29,898.144 1515.25,955.068 1536.2,1005.73 1557.15,1050.74 1578.11,1090.69 1599.06,1126.17 1620.01,1157.71 1640.97,1185.8 1661.92,1210.86 \n",
       "  1682.87,1233.27 1703.83,1253.35 1724.78,1271.4 1745.73,1287.66 1766.69,1302.34 1787.64,1315.63 1808.59,1327.69 1829.55,1338.65 1850.5,1348.65 1871.45,1357.79 \n",
       "  1892.41,1366.16 1913.36,1373.84 1934.31,1380.9 1955.27,1387.41 1976.22,1393.42 1997.18,1398.97 2018.13,1404.12 2039.08,1408.89 2060.04,1413.33 2080.99,1417.47 \n",
       "  2101.94,1421.32 2122.9,1424.92 2143.85,1428.28 2164.8,1431.44 2185.76,1434.39 2206.71,1437.16 2227.66,1439.77 2248.62,1442.22 2269.57,1444.53 2290.52,1446.71 \n",
       "  \n",
       "  \"/>\n",
       "<polyline clip-path=\"url(#clip1702)\" style=\"stroke:#e26f46; stroke-width:12; stroke-opacity:1; fill:none\" points=\"\n",
       "  216.13,1446.71 237.083,1444.53 258.037,1442.22 278.99,1439.77 299.944,1437.16 320.897,1434.39 341.851,1431.44 362.804,1428.28 383.758,1424.92 404.711,1421.32 \n",
       "  425.665,1417.47 446.618,1413.33 467.572,1408.89 488.525,1404.12 509.478,1398.97 530.432,1393.42 551.385,1387.41 572.339,1380.9 593.292,1373.84 614.246,1366.16 \n",
       "  635.199,1357.79 656.153,1348.65 677.106,1338.65 698.06,1327.69 719.013,1315.63 739.967,1302.34 760.92,1287.66 781.874,1271.4 802.827,1253.35 823.781,1233.27 \n",
       "  844.734,1210.86 865.688,1185.8 886.641,1157.71 907.595,1126.17 928.548,1090.69 949.502,1050.74 970.455,1005.73 991.408,955.068 1012.36,898.144 1033.32,834.438 \n",
       "  1054.27,763.603 1075.22,685.623 1096.18,601.03 1117.13,511.18 1138.08,418.553 1159.04,327.004 1179.99,241.809 1200.94,169.333 1221.9,116.196 1242.85,88.0053 \n",
       "  1263.8,88.0053 1284.76,116.196 1305.71,169.333 1326.66,241.809 1347.62,327.004 1368.57,418.553 1389.52,511.18 1410.48,601.03 1431.43,685.623 1452.38,763.603 \n",
       "  1473.34,834.438 1494.29,898.144 1515.25,955.068 1536.2,1005.73 1557.15,1050.74 1578.11,1090.69 1599.06,1126.17 1620.01,1157.71 1640.97,1185.8 1661.92,1210.86 \n",
       "  1682.87,1233.27 1703.83,1253.35 1724.78,1271.4 1745.73,1287.66 1766.69,1302.34 1787.64,1315.63 1808.59,1327.69 1829.55,1338.65 1850.5,1348.65 1871.45,1357.79 \n",
       "  1892.41,1366.16 1913.36,1373.84 1934.31,1380.9 1955.27,1387.41 1976.22,1393.42 1997.18,1398.97 2018.13,1404.12 2039.08,1408.89 2060.04,1413.33 2080.99,1417.47 \n",
       "  2101.94,1421.32 2122.9,1424.92 2143.85,1428.28 2164.8,1431.44 2185.76,1434.39 2206.71,1437.16 2227.66,1439.77 2248.62,1442.22 2269.57,1444.53 2290.52,1446.71 \n",
       "  \n",
       "  \"/>\n",
       "<polygon clip-path=\"url(#clip1700)\" points=\"\n",
       "1791.95,312.204 2280.76,312.204 2280.76,130.764 1791.95,130.764 \n",
       "  \" fill=\"#ffffff\" fill-rule=\"evenodd\" fill-opacity=\"1\"/>\n",
       "<polyline clip-path=\"url(#clip1700)\" style=\"stroke:#000000; stroke-width:4; stroke-opacity:1; fill:none\" points=\"\n",
       "  1791.95,312.204 2280.76,312.204 2280.76,130.764 1791.95,130.764 1791.95,312.204 \n",
       "  \"/>\n",
       "<polyline clip-path=\"url(#clip1700)\" style=\"stroke:#009af9; stroke-width:4; stroke-opacity:1; fill:none\" points=\"\n",
       "  1815.95,191.244 1959.95,191.244 \n",
       "  \"/>\n",
       "<g clip-path=\"url(#clip1700)\">\n",
       "<text style=\"fill:#000000; fill-opacity:1; font-family:Arial,Helvetica Neue,Helvetica,sans-serif; font-size:48px; text-anchor:start;\" transform=\"rotate(0, 1983.95, 208.744)\" x=\"1983.95\" y=\"208.744\">P_10000(x)</text>\n",
       "</g>\n",
       "<polyline clip-path=\"url(#clip1700)\" style=\"stroke:#e26f46; stroke-width:12; stroke-opacity:1; fill:none\" points=\"\n",
       "  1815.95,251.724 1959.95,251.724 \n",
       "  \"/>\n",
       "<g clip-path=\"url(#clip1700)\">\n",
       "<text style=\"fill:#000000; fill-opacity:1; font-family:Arial,Helvetica Neue,Helvetica,sans-serif; font-size:48px; text-anchor:start;\" transform=\"rotate(0, 1983.95, 269.224)\" x=\"1983.95\" y=\"269.224\">g(x)</text>\n",
       "</g>\n",
       "</svg>\n"
      ]
     },
     "execution_count": 23,
     "metadata": {},
     "output_type": "execute_result"
    }
   ],
   "source": [
    "using ApproxFun\n",
    "N = 10000\n",
    "S = Chebyshev(-1.0..1.0)  # formar a base de chebyschev\n",
    "x = points(S, N)  # escolher os nós de chebyschev\n",
    "y = g.(x)\n",
    "g_approx = Fun(S,ApproxFun.transform(S,y))  # transformar se encaixa no polinômio\n",
    "@show norm(g_approx.(x) - g.(x), Inf)\n",
    "plot(x_display, g_approx.(x_display), label = \"P_10000(x)\")\n",
    "plot!(x_display, g.(x_display), w = 3, label = \"g(x)\")"
   ]
  },
  {
   "cell_type": "markdown",
   "metadata": {},
   "source": [
    "Além do uso de uma base polinomial diferente, estamos nos aproximando de diferentes nós (ou seja, os [nós de Chebyshev](https://en.wikipedia.org/wiki/Chebyshev_nodes)). A interpolação com polinômios de Chebyshev nos nós de Chebyshev acaba minimizando (mas não eliminando) os fenômenos de Runge."
   ]
  },
  {
   "cell_type": "markdown",
   "metadata": {},
   "source": [
    "#### Lições para aproximação e interpolação\n",
    "\n",
    "Resumir\n",
    "\n",
    "1. Verifique o número da condição nos sistemas que você suspeita estarem mal condicionados (com base na intuição de colinearidade);\n",
    "2. Se você estiver trabalhando com matrizes mal condicionadas, tenha cuidado especial para não tomar inversa ou multiplicar pela transposição;\n",
    "3. Evite uma base polinomial monomial. Em vez disso, use polinômios (por exemplo, Chebyshev ou Lagrange) ortogonais sob um produto interno apropriado ou use uma base não global, como splines cúbicos, e\n",
    "4. Se possível, evite usar uma grade uniforme para interpolação e aproximação e escolha os nós apropriados para a base.\n",
    "\n",
    "\n",
    "No entanto, às vezes você não pode evitar matrizes mal condicionadas. Isso é especialmente comum na discretização de PDEs e com mínimos lineares."
   ]
  },
  {
   "cell_type": "markdown",
   "metadata": {},
   "source": [
    "## Algorítimos Interativos Estacionários para Sistemas Lineares\n",
    "\n",
    "Como antes, considere resolver a equação\n",
    "\n",
    "$$\n",
    "A x = b\n",
    "$$\n",
    "\n",
    "Agora, focaremos nos casos em que $ A $ é maciço (por exemplo, potencialmente milhões de equações), esparso e às vezes mal condicionado - mas sempre existe uma solução única.\n",
    "\n",
    "Embora isso possa parecer excessivo, ocorre na prática devido à maldição da dimensionalidade, discretizações de PDEs e ao trabalhar com big data.\n",
    "\n",
    "Os métodos das aulas anteriores (por exemplo, fatoração e abordagens semelhantes à eliminação gaussiana) são chamados de métodos diretos e, em teoria, são capazes de convergir para a solução exata em um número finito de etapas enquanto trabalha diretamente com a matriz na memória.\n",
    "\n",
    "Em vez disso, as soluções iterativas começam com um palpite sobre uma solução e iteram até a convergência. O benefício será que cada iteração use uma operação de ordem inferior (por exemplo, um produto vetor de matriz $ O (N ^ 2) $) que tornará possível:\n",
    "\n",
    "1. Resolver sistemas muito maiores, mesmo que feitos com menos precisão.\n",
    "2. Definir operadores lineares em termos de produtos vetoriais matriciais, em vez de armazenar como matriz.\n",
    "3. Obtenha soluções aproximadas em andamento antes da conclusão de todas as etapas do algoritmo, diferentemente dos métodos diretos que fornecem apenas uma solução no final.\n",
    "\n",
    "\n",
    "Obviamente, não há almoço grátis e a ordem computacional das iterações seria comparável aos métodos diretos para um determinado nível de tolerância (por exemplo, operações de $ O (N ^ 3) $ podem ser necessárias para resolver um sistema não estruturado denso).\n",
    "\n",
    "Existem dois tipos de métodos iterativos que consideraremos: primeiro são métodos estacionários que iteram em um mapa de maneira semelhante a problemas de pontos fixos e o segundo são os [Métodos de Kyrlov](https://en.wikipedia.org/wiki/Krylov_subspace ), que iterativamente resolvem usando multiplicações à esquerda do operador linear.\n",
    "\n",
    "Para nossos exemplos principais, usaremos a avaliação da Cadeia de tempo contínuo markov da [métodos numéricos para álgebra linear](https://julia.quantecon.org/numerical_linear_algebra.html). Ou seja, dado um vetor de pagamento $ r $, uma taxa de desconto $ \\rho $ e o gerador infinitesimal da cadeia de markov $ Q $, resolva a equação\n",
    "\n",
    "$$\n",
    "\\rho v = r + Q v\n",
    "$$\n",
    "\n",
    "Com os tamanhos e tipos de matrizes aqui, os métodos iterativos são inadequados na prática, mas nos ajudarão a entender\n",
    "as características da convergência e como elas se relacionam com o condicionamento matricial."
   ]
  },
  {
   "cell_type": "markdown",
   "metadata": {},
   "source": [
    "### Métodos estacionários\n",
    "\n",
    "Primeiro, resolveremos com métodos diretos, que fornecerão a solução para a precisão da máquina."
   ]
  },
  {
   "cell_type": "code",
   "execution_count": 24,
   "metadata": {
    "hide-output": false
   },
   "outputs": [
    {
     "data": {
      "text/plain": [
       "100.00000000000004"
      ]
     },
     "execution_count": 24,
     "metadata": {},
     "output_type": "execute_result"
    }
   ],
   "source": [
    "using LinearAlgebra, IterativeSolvers, Statistics\n",
    "α = 0.1\n",
    "N = 100\n",
    "Q = Tridiagonal(fill(α, N-1), [-α; fill(-2α, N-2); -α], fill(α, N-1))\n",
    "\n",
    "r = range(0.0, 10.0, length=N)\n",
    "ρ = 0.05\n",
    "\n",
    "A = ρ * I - Q\n",
    "v_direct = A \\ r\n",
    "mean(v_direct)"
   ]
  },
  {
   "cell_type": "markdown",
   "metadata": {},
   "source": [
    "Sem prova, considere a taxa de desconto de $ \\rho> 0 $; este problema pode ser configurado como uma contração para resolver a equação de Bellman através de métodos como iteração de função de valor.\n",
    "\n",
    "A condição que examinaremos aqui é chamada [**dominância diagonal**](https://en.wikipedia.org/wiki/Diagonally_dominant_matrix).\n",
    "\n",
    "$$\n",
    "|A_{ii}| \\geq \\sum_{j\\neq i} |A_{ij}| \\quad\\text{for all } i = 1\\ldots N\n",
    "$$\n",
    "\n",
    "Ou seja, para cada linha, a diagonal é ligeiramente maior em valor absoluto do que a soma de todos os outros elementos na linha. Em casos onde é estritamente maior, dizemos que a matriz é estritamente diagonalmente dominante.\n",
    "\n",
    "No nosso exemplo, dado que $ Q $ é o gerador infinitesimal de uma cadeia de markov, sabemos que cada linha é igual a 0 e, portanto, é fracamente diagonalmente dominante.\n",
    "\n",
    "No entanto, observe que quando $ \\rho> 0 $, como a diagonal de $ Q $ é negativa, $ A = ρ I - Q $ torna a matriz estritamente dominante na diagonal."
   ]
  },
  {
   "cell_type": "markdown",
   "metadata": {},
   "source": [
    "### Iteração de Jacobi \n",
    "\n",
    "Para matrizes **estritamente diagonais**, você pode provar que um procedimento simples de decomposição e iteração convergirá.\n",
    "\n",
    "Para resolver um sistema $ A x = b $, divida a matriz $ A $ em sua diagonal e fora da diagonal. Isso é,\n",
    "\n",
    "$$\n",
    "A = D + R\n",
    "$$\n",
    "\n",
    "onde\n",
    "\n",
    "$$\n",
    "D = \\begin{bmatrix} A_{11} & 0 & \\ldots & 0\\\\\n",
    "                    0    & A_{22} & \\ldots & 0\\\\\n",
    "                    \\vdots & \\vdots & \\vdots & \\vdots\\\\\n",
    "                    0 & 0 &  \\ldots & A_{NN}\n",
    "    \\end{bmatrix}\n",
    "$$\n",
    "\n",
    "e\n",
    "\n",
    "$$\n",
    "R = \\begin{bmatrix} 0 & A_{12}  & \\ldots & A_{1N} \\\\\n",
    "                    A_{21}    & 0 & \\ldots & A_{2N} \\\\\n",
    "                    \\vdots & \\vdots & \\vdots & \\vdots\\\\\n",
    "                    A_{N1}  & A_{N2}  &  \\ldots & 0\n",
    "    \\end{bmatrix}\n",
    "$$\n",
    "\n",
    "Rearranjando $ (D + R)x = b $ como\n",
    "\n",
    "$$\n",
    "\\begin{align}\n",
    "D x &= b - R x\\\\\n",
    "x &= D^{-1} (b - R x)\n",
    "\\end{align}\n",
    "$$\n",
    "\n",
    "Onde, como $ D $ é diagonal, seu inverso é trivial para calcular com complexidade de $ O (N) $.\n",
    "\n",
    "Para resolver, faça uma iteração $ x ^ k $, começando em $ x ^ 0 $ e, em seguida, forme um novo palpite com\n",
    "\n",
    "$$\n",
    "x^{k+1} = D^{-1}(b - R x^k)\n",
    "$$\n",
    "\n",
    "A complexidade aqui é um $ O (N ^ 2) $ para o produto vetor de matriz e um $ O (N) $ para a subtração e divisão do vetor.\n",
    "\n",
    "O pacote [IterativeSolvers.jl](https://github.com/JuliaMath/IterativeSolvers.jl) implementa esse método.\n",
    "\n",
    "Para o nosso exemplo, começamos se adivinhar e resolver a função value e iterar"
   ]
  },
  {
   "cell_type": "code",
   "execution_count": 25,
   "metadata": {
    "hide-output": false
   },
   "outputs": [
    {
     "name": "stdout",
     "output_type": "stream",
     "text": [
      "norm(v - v_direct, Inf) = 0.022858373200932647\n"
     ]
    },
    {
     "data": {
      "text/plain": [
       "0.022858373200932647"
      ]
     },
     "execution_count": 25,
     "metadata": {},
     "output_type": "execute_result"
    }
   ],
   "source": [
    "using IterativeSolvers, LinearAlgebra, SparseArrays\n",
    "v = zeros(N)\n",
    "jacobi!(v, A, r, maxiter = 40)\n",
    "@show norm(v - v_direct, Inf)"
   ]
  },
  {
   "cell_type": "markdown",
   "metadata": {},
   "source": [
    "Com isso, após 40 iterações, você vê o erro na ordem de `1E-2`."
   ]
  },
  {
   "cell_type": "markdown",
   "metadata": {},
   "source": [
    "### Outros métodos estacionários\n",
    "\n",
    "Na prática, existem muitos métodos melhores que a iteração Jacobi, por exemplo [Gauss-Siedel](https://en.wikipedia.org/wiki/Gauss%E2%80%93Seidel_method). que divide a matriz $ A = L + U $ em uma matriz triangular inferior $ L $ e em uma triangular superior $ U $ sem a diagonal.\n",
    "\n",
    "A iteração se torna\n",
    "\n",
    "$$\n",
    "L x^{k+1} = b - U x^k\n",
    "$$\n",
    "\n",
    "Nesse caso, como a matriz $ L $ é triangular, o sistema pode ser resolvido em operações $ O (N ^ 2) $ após a formação de $ b - U x ^ k $:"
   ]
  },
  {
   "cell_type": "code",
   "execution_count": 26,
   "metadata": {
    "hide-output": false
   },
   "outputs": [
    {
     "name": "stdout",
     "output_type": "stream",
     "text": [
      "norm(v - v_direct, Inf) = 1.5616376089155892e-5\n"
     ]
    }
   ],
   "source": [
    "v = zeros(N)\n",
    "gauss_seidel!(v, A, r, maxiter = 40)\n",
    "@show norm(v - v_direct, Inf);"
   ]
  },
  {
   "cell_type": "markdown",
   "metadata": {},
   "source": [
    "A precisão aumenta substancialmente, após 40 iterações, você vê o erro na ordem de `1E-5`\n",
    "\n",
    "Outro exemplo é [SOR](https://en.wikipedia.org/wiki/Successive_over-relaxation), que pega um parâmetro de relaxamento $ \\omega> 1 $ e decompõe a matriz como $ A = L + D + U $ com $ L, U $ são estritamente matrizes diagonais superiores e inferiores, e $ D $ é uma diagonal.\n",
    "\n",
    "Decomponha a matriz $ A $, multiplique o sistema por $ \\omega $ e reorganize para encontrar\n",
    "\n",
    "$$\n",
    "(D + \\omega L) x^{k+1} = \\omega b - \\left(\\omega U +(\\omega - 1)D \\right)x^k\n",
    "$$\n",
    "\n",
    "Nesse caso, $ D + \\omega L $ é uma matriz triangular e, portanto, a resolução linear é de $ O (N ^ 2) $."
   ]
  },
  {
   "cell_type": "code",
   "execution_count": 27,
   "metadata": {
    "hide-output": false
   },
   "outputs": [
    {
     "name": "stdout",
     "output_type": "stream",
     "text": [
      "norm(v - v_direct, Inf) = 3.745356593753968e-7\n"
     ]
    }
   ],
   "source": [
    "v = zeros(N)\n",
    "sor!(v, A, r, 1.1, maxiter = 40)\n",
    "@show norm(v - v_direct, Inf);"
   ]
  },
  {
   "cell_type": "markdown",
   "metadata": {},
   "source": [
    "A precisão é agora `1E-7`. Se você alterar o parâmetro para $ \\omega = 1,2 $, a precisão aumentará ainda mais para `1E-9`.\n",
    "\n",
    "Essa técnica é comum em métodos iterativos: a adição frequente de um parâmetro de amortecimento ou relaxamento acelerará de maneira contra-intuitiva o processo de convergência.\n",
    "\n",
    "**Nota:** os métodos iterativos estacionários nem sempre são usados diretamente, mas às vezes são usados como uma etapa de \"suavização\" (por exemplo, executando 5 a 10 vezes) antes de usar outros métodos de Krylov."
   ]
  },
  {
   "cell_type": "markdown",
   "metadata": {},
   "source": [
    "## Métodos de Krylov \n",
    "\n",
    "Um conjunto de métodos iterativos mais comumente usado é baseado em [subespaços de Krylov](https://en.wikipedia.org/wiki/Krylov_subspace) que envolvem a iteração do produto vetor de matriz $ A ^ kx $ e ortogonalizam para garantir a resultante a iteração não é muito colinear.\n",
    "\n",
    "O método protótipo de Krylov é o [Gradiente Conjugado](https://en.wikipedia.org/wiki/Conjugate_gradient_method), que requer que a matriz $ A $ seja simétrica e positiva definida.\n",
    "\n",
    "Resolvendo um exemplo"
   ]
  },
  {
   "cell_type": "code",
   "execution_count": 28,
   "metadata": {
    "hide-output": false
   },
   "outputs": [
    {
     "name": "stdout",
     "output_type": "stream",
     "text": [
      "isposdef(A) = true\n"
     ]
    },
    {
     "data": {
      "text/plain": [
       "6.770830820514324e11"
      ]
     },
     "execution_count": 28,
     "metadata": {},
     "output_type": "execute_result"
    }
   ],
   "source": [
    "N = 100\n",
    "A = sprand(100, 100, 0.1)   # 10 porcento de não-nulos\n",
    "A = A * A'  # jeito fácil de se gerar uma matriz positiva semidefinida\n",
    "@show isposdef(A)\n",
    "b = rand(N)\n",
    "x_direct = A \\ b  # solucionador direto esparso mais apropriado daqui\n",
    "cond(Matrix(A * A'))"
   ]
  },
  {
   "cell_type": "markdown",
   "metadata": {},
   "source": [
    "Observe que os números de condição tendem a ser grandes para matrizes grandes e aleatórias.\n",
    "\n",
    "Resolvendo este sistema com o método do gradiente conjugado:"
   ]
  },
  {
   "cell_type": "code",
   "execution_count": 29,
   "metadata": {
    "hide-output": false
   },
   "outputs": [
    {
     "data": {
      "text/plain": [
       "Converged after 183 iterations."
      ]
     },
     "execution_count": 29,
     "metadata": {},
     "output_type": "execute_result"
    }
   ],
   "source": [
    "x = zeros(N)\n",
    "sol = cg!(x, A, b, log=true, maxiter = 1000)\n",
    "sol[end]"
   ]
  },
  {
   "cell_type": "markdown",
   "metadata": {},
   "source": [
    "### Introdução ao précondicionamento\n",
    "\n",
    "Se você disser a um analista numérico que está usando métodos diretos, a primeira pergunta deles pode ser \"qual fatoração?\" - mas se você lhes disser que está usando um método iterativo, eles podem perguntar \"qual o pré-condicionador?\".\n",
    "\n",
    "Conforme discutido no início da aula, as propriedades espectrais das matrizes determinam a taxa de convergência das matrizes iterativas. Em particular, matrizes mal condicionadas podem convergir lentamente com métodos iterativos pelas mesmas razões que a iteração ingênua da função de valor convergirá lentamente se a taxa de desconto estiver próxima de '1'.\n",
    "\n",
    "O pré-condicionamento resolve esse problema ajustando as propriedades espectrais da matriz, ao custo de algumas operações computacionais extras.\n",
    "\n",
    "\n",
    "Para ver um exemplo de um pré-condicionador correto, considere uma matriz $ P $ que possui uma inversa conveniente e numericamente estável. Então,\n",
    "\n",
    "$$\n",
    "\\begin{align}\n",
    "A x &= b\\\\\n",
    "A P^{-1} P x &= b\\\\\n",
    "A P^{-1} y &= b\\\\\n",
    "P x &= y\n",
    "\\end{align}\n",
    "$$\n",
    "\n",
    "Ou seja, resolva $ (A P ^ {- 1}) y = b $ por $ y $ e depois resolva $ P x = y $ por $ x $.\n",
    "\n",
    "Existem todos os tipos de pré-condicionadores específicos para cada problema, os principais recursos são que eles têm maneiras convenientes (e de ordem inferior!) De resolver o sistema resultante e diminuir o número de condições da matriz. Para ver isso em ação, podemos olhar para um pré-condicionador simples.\n",
    "\n",
    "A pré-condição diagonal é simplesmente `P = Diagonal (A)`. Dependendo da matriz, isso pode alterar um pouco ou muito o número da condição."
   ]
  },
  {
   "cell_type": "code",
   "execution_count": 30,
   "metadata": {
    "hide-output": false
   },
   "outputs": [
    {
     "name": "stdout",
     "output_type": "stream",
     "text": [
      "cond(Matrix(A)) = 822850.5999924907\n",
      "cond(Matrix(AP)) = 627706.2622058549\n"
     ]
    }
   ],
   "source": [
    "AP = A * inv(Diagonal(A))\n",
    "@show cond(Matrix(A))\n",
    "@show cond(Matrix(AP));"
   ]
  },
  {
   "cell_type": "markdown",
   "metadata": {},
   "source": [
    "Mas pode ou não diminuir o número de iterações:"
   ]
  },
  {
   "cell_type": "code",
   "execution_count": 31,
   "metadata": {
    "hide-output": false
   },
   "outputs": [
    {
     "data": {
      "text/plain": [
       "Converged after 183 iterations."
      ]
     },
     "execution_count": 31,
     "metadata": {},
     "output_type": "execute_result"
    }
   ],
   "source": [
    "using Preconditioners\n",
    "x = zeros(N)\n",
    "P = DiagonalPreconditioner(A)\n",
    "sol = cg!(x, A, b, log=true, maxiter = 1000)\n",
    "sol[end]"
   ]
  },
  {
   "cell_type": "markdown",
   "metadata": {},
   "source": [
    "Outro pré-condicionador clássico é a decomposição de LU incompleta:"
   ]
  },
  {
   "cell_type": "code",
   "execution_count": 32,
   "metadata": {
    "hide-output": false
   },
   "outputs": [
    {
     "data": {
      "text/plain": [
       "Converged after 96 iterations."
      ]
     },
     "execution_count": 32,
     "metadata": {},
     "output_type": "execute_result"
    }
   ],
   "source": [
    "using IncompleteLU\n",
    "x = zeros(N)\n",
    "P = ilu(A, τ = 0.1)\n",
    "sol = cg!(x, A, b, Pl = P, log=true, maxiter = 1000)\n",
    "sol[end]"
   ]
  },
  {
   "cell_type": "markdown",
   "metadata": {},
   "source": [
    "O parâmetro `τ` determina o grau de decomposição da LU a ser conduzida, fornecendo uma compensação entre o pré-condicionador e a velocidade de resolução.\n",
    "\n",
    "Uma boa regra geral é que você quase sempre deve usar um pré-condicionador com métodos iterativos e deve tentar encontrar os adequados para o seu problema.\n",
    "\n",
    "Por fim, a tentativa ingênua de se fazer outra abordagem de pré-condicionamento (chamada de [Multigrid Algébrico](https://en.wikipedia.org/wiki/Multigrid_method#Algebraic_MultiGrid_%28AMG%29)) nos dá uma queda adicional no número de iterações."
   ]
  },
  {
   "cell_type": "code",
   "execution_count": 33,
   "metadata": {
    "hide-output": false
   },
   "outputs": [
    {
     "data": {
      "text/plain": [
       "Converged after 60 iterations."
      ]
     },
     "execution_count": 33,
     "metadata": {},
     "output_type": "execute_result"
    }
   ],
   "source": [
    "x = zeros(N)\n",
    "P = AMGPreconditioner{RugeStuben}(A)\n",
    "sol = cg!(x, A, b, Pl = P, log=true, maxiter = 1000)\n",
    "sol[end]"
   ]
  },
  {
   "cell_type": "markdown",
   "metadata": {},
   "source": [
    "*Nota:* O pré-condicionamento também está disponível para métodos estacionários e iterativos (consulte [este exemplo](https://en.wikipedia.org/wiki/Preconditioner#Preconditioned_iterative_methods)), mas\n",
    "freqüentemente não é implementado, pois não é frequentemente usado para a solução completa."
   ]
  },
  {
   "cell_type": "markdown",
   "metadata": {},
   "source": [
    "### Métodos para matrizes em geral\n",
    "\n",
    "Existem muitos algoritmos que exploram a estrutura da matriz (por exemplo, o método do gradiente conjugado para definido positivo e MINRES para matrizes que são apenas simétricas).\n",
    "\n",
    "Por outro lado, se você não possui nenhuma estrutura para sua matriz esparsa, o GMRES é uma boa abordagem.\n",
    "\n",
    "Para experimentar esses métodos, usaremos nosso problema de interpolação mal condicionado com uma base monomial."
   ]
  },
  {
   "cell_type": "code",
   "execution_count": 34,
   "metadata": {
    "hide-output": false
   },
   "outputs": [
    {
     "name": "stdout",
     "output_type": "stream",
     "text": [
      "cond(A) = 4.462833495403007e12, Converged after 11 iterations. Norm error 7.62520357966423e-8\n"
     ]
    }
   ],
   "source": [
    "using IterativeSolvers\n",
    "\n",
    "N = 10\n",
    "f(x) = exp(x)\n",
    "x = range(0.0, 10.0, length = N+1)\n",
    "y = f.(x)  # gerar alguns dados para interpolação\n",
    "A = sparse([x_i^n for x_i in x, n in 0:N])\n",
    "c = zeros(N+1)  # palpite inicial requerido para soluções interativas\n",
    "results = gmres!(c, A, y, log=true, maxiter = 1000)\n",
    "println(\"cond(A) = $(cond(Matrix(A))), $(results[end]) Norm error $(norm(A*c - y, Inf))\")"
   ]
  },
  {
   "cell_type": "markdown",
   "metadata": {},
   "source": [
    "Esse método convergiu em 11 iterações. Agora tente com um pré-condicionador de LU incompleto, vemos que ele converge imediatamente."
   ]
  },
  {
   "cell_type": "code",
   "execution_count": 35,
   "metadata": {
    "hide-output": false
   },
   "outputs": [
    {
     "name": "stdout",
     "output_type": "stream",
     "text": [
      "Converged after 1 iterations. Norm error 4.5034175855107605e-7\n"
     ]
    }
   ],
   "source": [
    "N = 10\n",
    "f(x) = exp(x)\n",
    "x = range(0.0, 10.0, length = N+1)\n",
    "y = f.(x)  # gerar alguns dados para interpolação\n",
    "A = [x_i^n for x_i in x, n in 0:N]\n",
    "P = ilu(sparse(A), τ = 0.1)\n",
    "c = zeros(N+1)  # palpite inicial requerido para soluções interativas\n",
    "results = gmres!(c, A, y, Pl = P,log=true, maxiter = 1000)\n",
    "println(\"$(results[end]) Norm error $(norm(A*c - y, Inf))\")"
   ]
  },
  {
   "cell_type": "markdown",
   "metadata": {},
   "source": [
    "Enquanto outros pré-condicionadores (por exemplo, `DiagonalPreconditioner`) podem salvar apenas uma ou duas iterações. Lembre-se, no entanto, de considerar o custo do processo de pré-condicionamento no seu problema..."
   ]
  },
  {
   "cell_type": "markdown",
   "metadata": {},
   "source": [
    "### Métodos de matrizes livres\n",
    "\n",
    "Primeiro, vamos usar um método de Krylov para resolver nosso simples problema de avaliação:"
   ]
  },
  {
   "cell_type": "code",
   "execution_count": 36,
   "metadata": {
    "hide-output": false
   },
   "outputs": [
    {
     "name": "stdout",
     "output_type": "stream",
     "text": [
      "Converged after 20 iterations.\n"
     ]
    }
   ],
   "source": [
    "α = 0.1\n",
    "N = 100\n",
    "Q = Tridiagonal(fill(α, N-1), [-α; fill(-2α, N-2); -α], fill(α, N-1))\n",
    "\n",
    "r = range(0.0, 10.0, length=N)\n",
    "ρ = 0.05\n",
    "\n",
    "A = ρ * I - Q\n",
    "v = zeros(N)\n",
    "results = gmres!(v, A, r, log=true)\n",
    "v_sol = results[1]\n",
    "println(\"$(results[end])\")"
   ]
  },
  {
   "cell_type": "markdown",
   "metadata": {},
   "source": [
    "Enquanto a matriz `A` era importante para ser mantida na memória para métodos diretos, métodos de Krylov, como GMRES, são construídos em produtos vetoriais de matriz, ou seja, $ A x $ para iterações nos $ x $.\n",
    "\n",
    "Este produto pode ser gravado diretamente por um determinado $ x $,\n",
    "\n",
    "$$\n",
    "A x = \\begin{bmatrix} (\\rho + \\alpha) x_1 - \\alpha x_2\\\\\n",
    "                    - \\alpha x_1 + (\\rho + 2 \\alpha) x_2 - \\alpha x_3\\\\\n",
    "                    \\vdots\\\\\n",
    "                    - \\alpha x_{N-2} + (\\rho + 2 \\alpha) x_{N-1} - \\alpha x_{N}\\\\\n",
    "                    - \\alpha x_{N-1} + (\\rho + \\alpha) x_N\n",
    "    \\end{bmatrix}\n",
    "$$\n",
    "\n",
    "Isso pode ser implementado como uma função (no local ou fora do local) que calcula $ y = A x $."
   ]
  },
  {
   "cell_type": "code",
   "execution_count": 37,
   "metadata": {
    "hide-output": false
   },
   "outputs": [
    {
     "name": "stdout",
     "output_type": "stream",
     "text": [
      "norm(A * x - A_mul(x)) = 0.0\n"
     ]
    }
   ],
   "source": [
    "A_mul(x) = [ (ρ + α) * x[1] - α * x[2];\n",
    "             [-α * x[i-1] + (ρ + 2*α) * x[i] - α * x[i+1] for i in 2:N-1];  # compreensão\n",
    "             - α * x[end-1] + (ρ + α) * x[end]]\n",
    "\n",
    "x = rand(N)\n",
    "@show norm(A * x - A_mul(x))  # comprarar à matriz;"
   ]
  },
  {
   "cell_type": "markdown",
   "metadata": {},
   "source": [
    "A linha final verifica se a função `A_mul` fornece o mesmo resultado que a multiplicação da matriz com o` A` original para um vetor aleatório.\n",
    "\n",
    "Em matemática abstrata, um [operador linear de dimensão finita](https://en.wikipedia.org/wiki/Linear_map) é um mapeamento de $ A: R ^ N \\ para R ^ N $ cumprindo vários critérios, como $ A (c_1 x_1 + c_2 x_2) = c_1 A x_1 + c_2 A x_2 $ para escalares $ c_i $ e vetores $ x_i $.\n",
    "\n",
    "Passando da matemática abstrata para a [programação genérica](https://julia.quantecon.org/../more_julia/generic_programming.html), podemos pensar em um operador linear como um mapa que atende a vários requisitos (por exemplo, multiplicar à esquerda para aplicar o mapa `*`, um multiplicador à esquerda no local `mul!`, um tamanho `associado`, etc.). Uma matriz Julia é apenas uma implementação possível do conceito abstrato de operador linear.\n",
    "\n",
    "Os invólucros de conveniência podem fornecer parte do padrão que transforma a função `A_mul` em algo que se comporta como uma matriz. 1\n",
    "O pacote é [LinearMaps.jl](https://github.com/Jutho/LinearMaps.jl) e outro é [LinearOperators.jl](https://github.com/JuliaSmoothOptimizers/LinearOperators.jl)"
   ]
  },
  {
   "cell_type": "code",
   "execution_count": 38,
   "metadata": {
    "hide-output": false
   },
   "outputs": [
    {
     "data": {
      "text/plain": [
       "LinearMaps.FunctionMap{Float64}(A_mul, 100, 100; ismutating=false, issymmetric=false, ishermitian=false, isposdef=false)"
      ]
     },
     "execution_count": 38,
     "metadata": {},
     "output_type": "execute_result"
    }
   ],
   "source": [
    "using LinearMaps\n",
    "A_map = LinearMap(A_mul, N)  # o mapa usa a função A_mul"
   ]
  },
  {
   "cell_type": "markdown",
   "metadata": {},
   "source": [
    "Agora, com o objeto `A_map`, podemos realizar muitas das operações que esperamos de uma matriz."
   ]
  },
  {
   "cell_type": "code",
   "execution_count": 39,
   "metadata": {
    "hide-output": false
   },
   "outputs": [
    {
     "name": "stdout",
     "output_type": "stream",
     "text": [
      "norm(A_map * x - A * x) = 0.0\n",
      "norm(y - A * x) = 0.0\n",
      "size(A_map) = (100, 100)\n",
      "norm(Matrix(A_map) - A) = 0.0\n",
      "nnz(sparse(A_map)) = 298\n"
     ]
    }
   ],
   "source": [
    "x = rand(N)\n",
    "@show norm(A_map * x  - A * x)\n",
    "y = similar(x)\n",
    "mul!(y, A_map, x) # multiplicação no local\n",
    "@show norm(y - A * x)\n",
    "@show size(A_map)\n",
    "@show norm(Matrix(A_map) - A)\n",
    "@show nnz(sparse(A_map));"
   ]
  },
  {
   "cell_type": "markdown",
   "metadata": {},
   "source": [
    "**Nota:** No caso de `sparse (A_map)` e `Matrix (A_map)`, o código está usando o operador de multiplicação esquerdo com vetores de base padrão `N` para construir a matriz completa. Isso deve ser usado apenas para fins de teste.\n",
    "\n",
    "Mas observe que, como o operador linear não possui operações de indexação, não é uma matriz."
   ]
  },
  {
   "cell_type": "code",
   "execution_count": 40,
   "metadata": {
    "hide-output": false
   },
   "outputs": [
    {
     "data": {
      "text/plain": [
       "false"
      ]
     },
     "execution_count": 40,
     "metadata": {},
     "output_type": "execute_result"
    }
   ],
   "source": [
    "typeof(A_map) <: AbstractArray"
   ]
  },
  {
   "cell_type": "markdown",
   "metadata": {},
   "source": [
    "Desde que os algoritmos que usam operadores lineares sejam escritos genericamente (por exemplo, usando as funções vetor-matriz `*` ou `mul!`, Etc.) e os tipos de funções não sejam desnecessariamente restringidos para serem `Matrix` ou` AbstractArray` quando não é estritamente necessário, o tipo `A_map` pode funcionar em locais que exigiriam uma matriz.\n",
    "\n",
    "Por exemplo, os métodos de Krylov em `IterativeSolvers.jl` são escritos para multiplicação à esquerda, genericamente:"
   ]
  },
  {
   "cell_type": "code",
   "execution_count": 41,
   "metadata": {
    "hide-output": false
   },
   "outputs": [
    {
     "name": "stdout",
     "output_type": "stream",
     "text": [
      "Converged after 20 iterations.\n"
     ]
    }
   ],
   "source": [
    "results = gmres(A_map, r, log = true)  # Método de Krylov usando o tipo sem matriz\n",
    "println(\"$(results[end])\")"
   ]
  },
  {
   "cell_type": "markdown",
   "metadata": {},
   "source": [
    "Esses métodos geralmente não são competitivos com métodos diretos esparsos, a menos que os problemas se tornem muito grandes. Nesse caso, você frequentemente desejará trabalhar com vetores pré-alocados. Em vez de usar `y = A * x` para produtos vetoriais matriciais, você usaria a função` mul! (Y, A, x) `no local. Todos os wrappers para operadores lineares suportam versões não alocadas no local para essa finalidade."
   ]
  },
  {
   "cell_type": "code",
   "execution_count": 42,
   "metadata": {
    "hide-output": false
   },
   "outputs": [
    {
     "name": "stdout",
     "output_type": "stream",
     "text": [
      "norm(A_map_2 * v - A * v) = 0.0\n",
      "Converged after 20 iterations.\n"
     ]
    }
   ],
   "source": [
    "function A_mul!(y, x)  # versão no local\n",
    "    y[1] = (ρ + α) * x[1] - α * x[2]\n",
    "    for i in 2:N-1\n",
    "        y[i] = -α * x[i-1] + (ρ + 2α) * x[i] -α * x[i+1]\n",
    "    end\n",
    "    y[end] = - α * x[end-1] + (ρ + α) * x[end]\n",
    "    return y\n",
    "end\n",
    "A_map_2 = LinearMap(A_mul!, N, ismutating = true)  # ismutating == in-loco\n",
    "\n",
    "v = zeros(N)\n",
    "@show norm(A_map_2 * v - A * v)  # ainda pode ligar com * e alocar\n",
    "results = gmres!(v, A_map_2, r, log=true)  # gmres in-loco\n",
    "println(\"$(results[end])\")"
   ]
  },
  {
   "cell_type": "markdown",
   "metadata": {},
   "source": [
    "Por fim, lembre-se de que os operadores lineares podem compor, de modo que $ A (c_1 x) + B (c_2 x) + x = (c_1 A + c_2 B + I) x $ seja bem definido para qualquer operador linear - apenas Como\n",
    "seria para matrizes $ A, B $ e escalares $ c_1, c_2 $.\n",
    "\n",
    "Por exemplo, considere $ 2 A x + x = (2 A + I) x \\equiv B x $ como um novo mapa linear,"
   ]
  },
  {
   "cell_type": "code",
   "execution_count": 43,
   "metadata": {
    "hide-output": false
   },
   "outputs": [
    {
     "data": {
      "text/plain": [
       "LinearMaps.LinearCombination{Float64,Tuple{LinearMaps.CompositeMap{Float64,Tuple{LinearMaps.FunctionMap{Float64,typeof(A_mul),Nothing},LinearMaps.UniformScalingMap{Float64}}},LinearMaps.UniformScalingMap{Bool}}}"
      ]
     },
     "execution_count": 43,
     "metadata": {},
     "output_type": "execute_result"
    }
   ],
   "source": [
    "B = 2.0 * A_map  + I  # operador linear composto\n",
    "B * rand(N)  # multiplicar à esquerda funciona com a composição\n",
    "typeof(B)"
   ]
  },
  {
   "cell_type": "markdown",
   "metadata": {},
   "source": [
    "Os invólucros, como os invólucros `LinearMap`, possibilitam essa composição mantendo o gráfico de composição da expressão (ou seja,` LinearCombination`) e implementando a multiplicação à esquerda recursivamente usando as regras de linearidade.\n",
    "\n",
    "Outro exemplo é resolver a equação $ \\rho v = r + Q v $ para $ v $ com a composição de métodos sem matriz por $ L $, em vez de criar o operador $ A = \\rho - Q $ completo, que nós implementado como `A_mul`"
   ]
  },
  {
   "cell_type": "code",
   "execution_count": 44,
   "metadata": {
    "hide-output": false
   },
   "outputs": [
    {
     "name": "stdout",
     "output_type": "stream",
     "text": [
      "norm(A - sparse(A_composed)) = 0.0\n"
     ]
    },
    {
     "data": {
      "text/plain": [
       "Converged after 20 iterations."
      ]
     },
     "execution_count": 44,
     "metadata": {},
     "output_type": "execute_result"
    }
   ],
   "source": [
    "Q_mul(x) = [ -α * x[1] +     α * x[2];\n",
    "            [α * x[i-1] - 2*α * x[i] + α*x[i+1] for i in 2:N-1];  # comprehension\n",
    "            α * x[end-1] - α * x[end];]\n",
    "Q_map = LinearMap(Q_mul, N)\n",
    "A_composed = ρ * I - Q_map   # map composition, performs no calculations\n",
    "@show norm(A - sparse(A_composed))  # test produces the same matrix\n",
    "gmres(A_composed, r, log=true)[2]"
   ]
  },
  {
   "cell_type": "markdown",
   "metadata": {},
   "source": [
    "Neste exemplo, a multiplicação à esquerda do `A_composed` usado por` gmres` usa a multiplicação à esquerda do `Q_map` e` I` com as regras de linearidade. A operação `A_composed = ρ * I - Q_map` simplesmente cria o tipo` LinearMaps.LinearCombination` e não realiza cálculos por si só."
   ]
  },
  {
   "cell_type": "markdown",
   "metadata": {},
   "source": [
    "## Métodos Interativos para Mínimos Quadrados Lineares\n",
    "\n",
    "Em teoria, a solução para o problema dos mínimos quadrados, $ \\min_x \\ | Ax -b \\ | ^ 2 $ é simplesmente a solução para as equações normais $ (A'A) x = A'b $.\n",
    "\n",
    "Vimos, no entanto, que na prática os métodos diretos usam uma decomposição QR - em parte porque $ A $ mal condicionados se tornam ainda piores quando $ A 'A $ é formado.\n",
    "\n",
    "Para grandes problemas, também podemos considerar os métodos de Krylov para resolver o problema dos mínimos quadrados lineares. Uma formulação é o algoritmo [LSMR](https://stanford.edu/group/SOL/software/lsmr/LSMR-SISC-2011.pdf) que pode resolver os problemas regularizados\n",
    "\n",
    "$$\n",
    "\\min_x \\| Ax -b \\|^2 + \\| \\lambda x\\|^2\n",
    "$$\n",
    "\n",
    "O objetivo do parâmetro $ \\lambda \\geq 0 $ é amortecer o processo de iteração e / ou regularizar a solução. Isso não é necessário, mas pode ajudar na convergência para matrizes $ A $ mal condicionadas. Com o\n",
    "parâmetro de amortecimento, as equações normalizadas se tornariam $ (A'A + \\lambda ^ 2 I) x = A'b $.\n",
    "\n",
    "Podemos comparar a solução do problema dos mínimos quadrados com LSMR e métodos diretos"
   ]
  },
  {
   "cell_type": "code",
   "execution_count": 45,
   "metadata": {
    "hide-output": false
   },
   "outputs": [
    {
     "name": "stdout",
     "output_type": "stream",
     "text": [
      "norm(β_direct - β_lsmr) = 8.02458149081313e-6\n",
      "Converged after 15 iterations.\n"
     ]
    }
   ],
   "source": [
    "M = 1000\n",
    "N = 10000\n",
    "σ = 0.1\n",
    "β = rand(M)\n",
    "# simular dados\n",
    "X = sprand(N, M, 0.1)\n",
    "y = X * β + σ * randn(N)\n",
    "β_direct = X \\ y\n",
    "results = lsmr(X, y, log = true)\n",
    "β_lsmr = results[1]\n",
    "@show norm(β_direct - β_lsmr)\n",
    "println(\"$(results[end])\")"
   ]
  },
  {
   "cell_type": "markdown",
   "metadata": {},
   "source": [
    "Observe que, em vez de formar esta versão das equações normais, o algoritmo LSMR usa os $ A x $ e $ A 'y $ (ou seja, o produto vetor de matriz e o produto vetorial de transposição de matriz) para implementar uma solução iterativa. Diferentemente das versões anteriores, a multiplicação à esquerda é insuficiente, pois os mínimos quadrados também tratam da transposição dos operadores. Por esse motivo, para usar métodos sem matriz, é necessário definir as funções `A * x` e` transpose (A) * y` separadamente."
   ]
  },
  {
   "cell_type": "code",
   "execution_count": 46,
   "metadata": {
    "hide-output": false
   },
   "outputs": [
    {
     "name": "stdout",
     "output_type": "stream",
     "text": [
      "Converged after 15 iterations.\n"
     ]
    }
   ],
   "source": [
    "# Pode implementar como funções sem matriz.\n",
    "X_func(u) = X * u  # prpduto-vetor da matriz\n",
    "X_T_func(v) = X' * v  # ou seja, produto de vetor adjacente\n",
    "\n",
    "X_map = LinearMap(X_func, X_T_func, N, M)\n",
    "results = lsmr(X_map, y, log = true)\n",
    "println(\"$(results[end])\")"
   ]
  },
  {
   "cell_type": "markdown",
   "metadata": {},
   "source": [
    "## Métodos Interativos para Autossistemas\n",
    "\n",
    "Quando você usa `eigen` em uma matriz densa, ele calcula uma composição própria e fornece todos os valores próprios e vetores próprios.\n",
    "\n",
    "Embora algumas vezes isso seja necessário, uma decomposição espectral de uma matriz densa e não estruturada é uma das operações mais caras de $ O (N ^ 3) $ (ou seja, possui uma das maiores constantes). Para matrizes grandes, geralmente é inviável.\n",
    "\n",
    "Felizmente, você frequentemente precisa apenas de alguns ou até de um único vetor próprio / valor próprio, o que permite um conjunto diferente de algoritmos.\n",
    "\n",
    "Por exemplo, no caso de uma cadeia de markov no tempo discreto, para encontrar a distribuição estacionária, estamos procurando o vetor próprio associado ao valor próprio 1. Como de costume, um pouco de álgebra linear percorre um longo caminho.\n",
    "\n",
    "No [teorema de Perron-Frobenius](https://en.wikipedia.org/wiki/Perron%E2%80%93Frobenius_theorem#Stochastic_matrices), o maior valor próprio de uma matriz estocástica irredutível é 1 - o mesmo valor próprio que procuramos .\n",
    "\n",
    "Os métodos iterativos para resolver sistemas autônomos permitem atingir a menor magnitude, maior magnitude e muitos outros. A biblioteca mais fácil de usar é [Arpack.jl](https://julialinearalgebra.github.io/Arpack.jl/latest/).\n",
    "\n",
    "Como um exemplo,"
   ]
  },
  {
   "cell_type": "code",
   "execution_count": 47,
   "metadata": {
    "hide-output": false
   },
   "outputs": [
    {
     "name": "stdout",
     "output_type": "stream",
     "text": [
      "λ = Complex{Float64}[1.0000000000000189 + 0.0im]\n",
      "mean(ϕ) = 0.0010000000000000002\n"
     ]
    }
   ],
   "source": [
    "using Arpack, LinearAlgebra\n",
    "N = 1000\n",
    "A = Tridiagonal([fill(0.1, N-2); 0.2], fill(0.8, N), [0.2; fill(0.1, N-2);])\n",
    "A_adjoint = A'\n",
    "\n",
    "λ, ϕ = eigs(A_adjoint, nev=1, which=:LM, maxiter=1000)  # Find 1 of the largest magnitude eigenvalue\n",
    "ϕ = real(ϕ) ./ sum(real(ϕ))\n",
    "@show λ\n",
    "@show mean(ϕ);"
   ]
  },
  {
   "cell_type": "markdown",
   "metadata": {},
   "source": [
    "De fato, o `λ` é igual a` 1`. Se você escolher `nev = 2`, isso forneceria aos pares próprios os dois maiores valores próprios em magnitude absoluta.\n",
    "\n",
    "*Dica*: se você receber erros ao usar o `Arpack`, aumente o parâmetro` maxiter` para seus problemas.\n",
    "\n",
    "Os métodos iterativos para sistemas autônomos baseiam-se em produtos vetoriais de matriz em vez de decomposições e são passíveis de abordagens sem matriz. Por exemplo, pegue a cadeia de Markov para um processo simples de contagem\n",
    "\n",
    "1. A contagem começa em $ 1 $ e tem um máximo de $ N $.\n",
    "2. Com probabilidade $ \\theta \\geq 0 $ e uma contagem existente é perdida com a probabilidade $ \\zeta \\geq 0 $, de modo que $ \\theta + \\zeta \\leq 1 $.\n",
    "3. Se a contagem for de $ 1 $, a única transição será adicionar uma contagem com probabilidade $ \\theta $\n",
    "4. Se a contagem atual for $ N $, a única transição é perder a contagem com probabilidade $ \\zeta $\n",
    "\n",
    "\n",
    "Primeiro, localize a matriz de transição $ P $ e sua adjacente diretamente como um cheque:"
   ]
  },
  {
   "cell_type": "code",
   "execution_count": 48,
   "metadata": {
    "hide-output": false
   },
   "outputs": [
    {
     "data": {
      "text/plain": [
       "5×5 Tridiagonal{Float64,Array{Float64,1}}:\n",
       " 0.9  0.05   ⋅     ⋅     ⋅  \n",
       " 0.1  0.85  0.05   ⋅     ⋅  \n",
       "  ⋅   0.1   0.85  0.05   ⋅  \n",
       "  ⋅    ⋅    0.1   0.85  0.05\n",
       "  ⋅    ⋅     ⋅    0.1   0.95"
      ]
     },
     "execution_count": 48,
     "metadata": {},
     "output_type": "execute_result"
    }
   ],
   "source": [
    "θ = 0.1\n",
    "ζ = 0.05\n",
    "N = 5\n",
    "P = Tridiagonal(fill(ζ, N-1), [1-θ; fill(1-θ-ζ, N-2); 1-ζ], fill(θ, N-1))\n",
    "P'"
   ]
  },
  {
   "cell_type": "markdown",
   "metadata": {},
   "source": [
    "Implementando o produto de vetor adjacente diretamente e verificando se ele fornece a mesma matriz que o acessório:"
   ]
  },
  {
   "cell_type": "code",
   "execution_count": 49,
   "metadata": {
    "hide-output": false
   },
   "outputs": [
    {
     "name": "stdout",
     "output_type": "stream",
     "text": [
      "norm(P' - sparse(P_adj_map)) = 0.0\n"
     ]
    },
    {
     "data": {
      "text/plain": [
       "0.0"
      ]
     },
     "execution_count": 49,
     "metadata": {},
     "output_type": "execute_result"
    }
   ],
   "source": [
    "P_adj_mul(x) = [ (1-θ) * x[1] + ζ * x[2];\n",
    "                [θ * x[i-1] + (1-θ-ζ) * x[i] + ζ * x[i+1] for i in 2:N-1];  # compreensão\n",
    "            θ * x[end-1] + (1-ζ) * x[end];]\n",
    "P_adj_map = LinearMap(P_adj_mul, N)\n",
    "@show norm(P' - sparse(P_adj_map))"
   ]
  },
  {
   "cell_type": "markdown",
   "metadata": {},
   "source": [
    "Finalmente, resolvendo a distribuição estacionária usando o método sem matriz (que pode ser verificado com a abordagem de decomposição de $ P '$):"
   ]
  },
  {
   "cell_type": "code",
   "execution_count": 50,
   "metadata": {
    "hide-output": false
   },
   "outputs": [
    {
     "name": "stdout",
     "output_type": "stream",
     "text": [
      "λ = Complex{Float64}[1.0 + 0.0im]\n",
      "ϕ = [0.03225806451612657; 0.06451612903225695; 0.1290322580645172; 0.25806451612903425; 0.516129032258065]\n"
     ]
    },
    {
     "data": {
      "text/plain": [
       "5×1 Array{Float64,2}:\n",
       " 0.03225806451612657\n",
       " 0.06451612903225695\n",
       " 0.1290322580645172 \n",
       " 0.25806451612903425\n",
       " 0.516129032258065  "
      ]
     },
     "execution_count": 50,
     "metadata": {},
     "output_type": "execute_result"
    }
   ],
   "source": [
    "λ, ϕ = eigs(P_adj_map, nev=1, which=:LM, maxiter=1000)\n",
    "ϕ = real(ϕ) ./ sum(real(ϕ))\n",
    "@show λ\n",
    "@show ϕ"
   ]
  },
  {
   "cell_type": "markdown",
   "metadata": {},
   "source": [
    "É claro que, para esse simples problema, a composição direta de produtos será significativamente mais rápida. Use apenas métodos iterativos sem matriz para sistemas grandes nos quais você não precisa de todos os valores próprios."
   ]
  },
  {
   "cell_type": "markdown",
   "metadata": {},
   "source": [
    "## Métodos de Krylov para Cadeias de Markov Dinâmicas\n",
    "\n",
    "Este exemplo aplica os métodos nesta aula a uma grande cadeia de Markov de tempo contínuo e fornece alguma prática para trabalhar com matrizes de dimensões arbitrárias.\n",
    "\n",
    "Considere uma versão da dinâmica da cadeia de Markov em [Per19](https://julia.quantecon.org/../zreferences.html#perla2019), em que uma empresa possui um número discreto de clientes de diferentes tipos. Para manter as coisas o mais simples possível, suponha que haja $ m = 1, \\ldots M $ tipos de consumidores e que a empresa possa ter $ n = 1, \\ldots N $ consumidores de cada tipo.\n",
    "\n",
    "Para definir a notação, seja $ n_m \\in \\{1, \\ldots N \\} $ o número de consumidores do tipo $ m $, para que o estado de uma empresa seja $ \\{n_1, \\ldots n_m \\ldots, n_M \\} $. A cardinalidade dos estados possíveis é então $ \\mathbf {N} \\equiv N ^ M $, que pode explodir rapidamente à medida que o número de tipos aumenta.\n",
    "\n",
    "O processo estocástico é um processo simples de contar / esquecer, como a seguir.\n",
    "\n",
    "1. Para cada $ 1 \\leq n_m (t) <N $, há uma intensidade de $ \\theta $ de um novo cliente aumentando $ n_m (t + \\Delta) = n_m (t) + 1 $\n",
    "2. Para cada $ 1 <n_m (t) \\leq N $, há uma intensidade de $ \\zeta $ de perda de um cliente, de modo que $ n_m (t + \\Delta) = n_m (t) - 1 $"
   ]
  },
  {
   "cell_type": "markdown",
   "metadata": {},
   "source": [
    "### Gerador livre de matriz infinitesimal\n",
    "\n",
    "Para definir uma matriz de intensidade $ Q $ do tamanho $ \\mathbf {N} \\times \\mathcal {N} $, precisamos escolher uma ordenação consistente dos estados. Mas, antes de enumerá-los linearmente, pegue um $ v \\in R ^ {\\mathbf {N}} $ interpretado como uma matriz multidimensional e observe o produto esquerdo do produto do operador linear $ Q v \\to R ^ {\\mathbf {N}} $.\n",
    "\n",
    "Por exemplo, se estivéssemos implementando o produto na linha de $ Q $ correspondente ao estado $ (n_1, \\ldots, n_M) $,\n",
    "\n",
    "$$\n",
    "\\begin{align}\n",
    "    Q_{(n_1, \\ldots n_M)} \\cdot v &=\n",
    "\\theta \\sum_{m=1}^M (n_m < N)  v(n_1, \\ldots, n_m + 1, \\ldots, n_M)\\\\\n",
    "                                        &+ \\zeta \\sum_{m=1}^M (1 < n_m)  v(n_1, \\ldots, n_m - 1, \\ldots, n_M)\\\\\n",
    "                                        &-\\left(\\theta\\, \\text{Count}(n_m < N) + \\zeta\\, \\text{Count}( n_m > 1)\\right)v(n_1, \\ldots, n_M)\n",
    "\\end{align}\n",
    "$$\n",
    "\n",
    "Aqui:\n",
    "\n",
    "- O primeiro termo inclui todas as chegadas de novos clientes nos vários $ m $;\n",
    "- O segundo termo é a perda de um cliente pelos vários US $ m $, e\n",
    "- O último termo é a intensidade de todas as saídas desse estado (ou seja, contando a intensidade de todas as outras transições para garantir que a linha totalize $ 0 $).\n",
    "\n",
    "\n",
    "Na prática, em vez de trabalhar com o $ f $ como um tipo multidimensional, precisaremos enumerar os estados discretos linearmente para que possamos iterar $ f $ entre $ 1 $ e mathbf {N}. Uma abordagem especialmente conveniente é enumerá-los na mesma ordem que o produto cartesiano dimensional $ K $ dos estados $ N $ como uma matriz multidimensional acima.\n",
    "\n",
    "Isso pode ser feito com a função `CartesianIndices`, que é usada internamente em Julia para a função` eachindex`. Por exemplo,"
   ]
  },
  {
   "cell_type": "code",
   "execution_count": 51,
   "metadata": {
    "hide-output": false
   },
   "outputs": [
    {
     "name": "stdout",
     "output_type": "stream",
     "text": [
      "typeof(v) = Array{Float64,3}\n",
      "v(1, 1, 1) = 0.3536533913031674\n",
      "v(2, 1, 1) = 0.02186310593646379\n",
      "v(1, 2, 1) = 0.23328214751602383\n",
      "v(2, 2, 1) = 0.8402756302510626\n",
      "v(1, 1, 2) = 0.4374648161501049\n",
      "v(2, 1, 2) = 0.5491167535343919\n",
      "v(1, 2, 2) = 0.2165717586040803\n",
      "v(2, 2, 2) = 0.6557943664919934\n"
     ]
    }
   ],
   "source": [
    "N = 2\n",
    "M = 3\n",
    "shape = Tuple(fill(N, M))\n",
    "v = rand(shape...)\n",
    "@show typeof(v)\n",
    "for ind in CartesianIndices(v)\n",
    "    println(\"v$(ind.I) = $(v[ind])\")  # .I exibe a tupla\n",
    "end"
   ]
  },
  {
   "cell_type": "markdown",
   "metadata": {},
   "source": [
    "O benefício adicional dessa abordagem é que ela será a maneira mais eficiente de iterar por meio de vetores na implementação.\n",
    "\n",
    "Para o processo de contagem com dimensões arbitrárias, freqüentemente aumentaremos ou diminuiremos os vetores $ m $ unit do tipo `CartesianIndex` com:"
   ]
  },
  {
   "cell_type": "code",
   "execution_count": 52,
   "metadata": {
    "hide-output": false
   },
   "outputs": [
    {
     "data": {
      "text/plain": [
       "3-element Array{CartesianIndex{3},1}:\n",
       " CartesianIndex(1, 0, 0)\n",
       " CartesianIndex(0, 1, 0)\n",
       " CartesianIndex(0, 0, 1)"
      ]
     },
     "execution_count": 52,
     "metadata": {},
     "output_type": "execute_result"
    }
   ],
   "source": [
    "e_m = [CartesianIndex((1:M .== i)*1...)  for i in 1:M]"
   ]
  },
  {
   "cell_type": "markdown",
   "metadata": {},
   "source": [
    "E então use o vetor para incrementar. Por exemplo, se a contagem atual é `(1, 2, 2)` e queremos adicionar uma contagem de `1` ao primeiro índice ou remover uma contagem do terceiro, então"
   ]
  },
  {
   "cell_type": "code",
   "execution_count": 53,
   "metadata": {
    "hide-output": false
   },
   "outputs": [
    {
     "name": "stdout",
     "output_type": "stream",
     "text": [
      "ind + e_m[1] = CartesianIndex(2, 2, 2)\n",
      "ind - e_m[3] = CartesianIndex(1, 2, 1)\n"
     ]
    }
   ],
   "source": [
    "ind = CartesianIndex(1, 2, 2)  # exemplo de contagens provenientes de CartesianIndices\n",
    "@show ind + e_m[1]  # incremento do 1º índice\n",
    "@show ind - e_m[3];  # decréscimo do 3º índice"
   ]
  },
  {
   "cell_type": "markdown",
   "metadata": {},
   "source": [
    "Isso funciona, é claro, porque o tipo `CartesianIndex` foi escrito para suportar adição e subtração eficiente. Finalmente, para implementar o operador, precisamos contar os índices nos estados onde ocorrem incremento e decréscimo."
   ]
  },
  {
   "cell_type": "code",
   "execution_count": 54,
   "metadata": {
    "hide-output": false
   },
   "outputs": [
    {
     "name": "stdout",
     "output_type": "stream",
     "text": [
      "ind = CartesianIndex(1, 2, 2)\n",
      "count(ind.I .> 1) = 2\n",
      "count(ind.I .< N) = 1\n"
     ]
    }
   ],
   "source": [
    "@show ind\n",
    "@show count(ind.I .> 1)\n",
    "@show count(ind.I .< N);"
   ]
  },
  {
   "cell_type": "markdown",
   "metadata": {},
   "source": [
    "Com isso, agora podemos escrever o operador $ Q $ no vetor $ f $, que é enumerado pelos índices cartesianos. Primeiro, colete os parâmetros em um gerador de tupla nomeado:"
   ]
  },
  {
   "cell_type": "code",
   "execution_count": 55,
   "metadata": {
    "hide-output": false
   },
   "outputs": [
    {
     "data": {
      "text/plain": [
       "#29 (generic function with 2 methods)"
      ]
     },
     "execution_count": 55,
     "metadata": {},
     "output_type": "execute_result"
    }
   ],
   "source": [
    "using Parameters, BenchmarkTools\n",
    "default_params = @with_kw (θ = 0.1, ζ = 0.05, ρ = 0.03, N = 10, M = 6,\n",
    "                           shape = Tuple(fill(N, M)),  # for reshaping vector to M-d array\n",
    "                           e_m = ([CartesianIndex((1:M .== i)*1...)  for i in 1:M]))"
   ]
  },
  {
   "cell_type": "markdown",
   "metadata": {},
   "source": [
    "Em seguida, implemente o produto sem matriz no local:"
   ]
  },
  {
   "cell_type": "code",
   "execution_count": 56,
   "metadata": {
    "hide-output": false
   },
   "outputs": [
    {
     "name": "stdout",
     "output_type": "stream",
     "text": [
      "  47.923 ms (0 allocations: 0 bytes)\n"
     ]
    }
   ],
   "source": [
    "function Q_mul!(dv, v, p)\n",
    "    @unpack θ, ζ, N, M, shape, e_m = p\n",
    "    v = reshape(v, shape)  # agora pode acessar v, dv como matrizes M-dim\n",
    "    dv = reshape(dv, shape)\n",
    "\n",
    "    @inbounds for ind in CartesianIndices(v)\n",
    "        dv[ind] = 0.0\n",
    "        for m in 1:M\n",
    "            n_m = ind[m]\n",
    "            if(n_m < N)\n",
    "                dv[ind] += θ * v[ind + e_m[m]]\n",
    "            end\n",
    "            if(n_m > 1)\n",
    "                dv[ind] += ζ *v[ind - e_m[m]]\n",
    "            end\n",
    "        end\n",
    "        dv[ind] -= (θ * count(ind.I .< N) + ζ * count(ind.I .> 1)) * v[ind]\n",
    "    end\n",
    "end\n",
    "\n",
    "p = default_params()\n",
    "v = zeros(p.shape)\n",
    "dv = similar(v)\n",
    "@btime Q_mul!($dv, $v, $p)"
   ]
  },
  {
   "cell_type": "markdown",
   "metadata": {},
   "source": [
    "A partir da saída do benchmarking, observe que a implementação da multiplicação à esquerda leva menos de 100 milissegundos e aloca pouca ou nenhuma memória, mesmo que a cadeia de Markov tenha um milhão de estados possíveis (ou seja, $ N ^ M = 10 ^ 6 $)."
   ]
  },
  {
   "cell_type": "markdown",
   "metadata": {},
   "source": [
    "### Resolvendo um problema de Valuation\n",
    "\n",
    "Como antes, poderíamos usar essa cadeia de Markov para resolver as equações de Bellman. Suponha que a empresa faça descontos na taxa $ \\rho> 0 $ e receba um retorno de fluxo de $ z_m $ diferente por cliente do tipo $ m $. Por exemplo, se o estado da empresa for $ (n_1, n_2, n_3) = (2,3,2) $, obtém $ \\begin {bmatrix} 2 & 3 & 2 \\end {bmatrix} \\cdot \\begin {bmatrix} z_1 & z_2 & z_3 \\end {bmatrix} $ nos lucros do fluxo.\n",
    "\n",
    "Dada essa função de lucro, podemos escrever a equação simples de Bellman em nossa forma padrão de $ \\rho v = r + Q v $ definindo o pagamento apropriado $ r $. Por exemplo, se $ z_m = m ^ 2 $, então"
   ]
  },
  {
   "cell_type": "code",
   "execution_count": 57,
   "metadata": {
    "hide-output": false
   },
   "outputs": [
    {
     "name": "stdout",
     "output_type": "stream",
     "text": [
      "typeof(r_vec(p)) = Array{Float64,1}\n"
     ]
    },
    {
     "data": {
      "text/plain": [
       "250.25"
      ]
     },
     "execution_count": 57,
     "metadata": {},
     "output_type": "execute_result"
    }
   ],
   "source": [
    "function r_vec(p)\n",
    "    z = (1:p.M).^2  # payoffs por tipo m\n",
    "    r = [0.5 * dot(ind.I, z)  for ind in CartesianIndices(p.shape)]\n",
    "    return reshape(r, p.N^p.M)  # retorno como um vetor\n",
    "end\n",
    "@show typeof(r_vec(p))\n",
    "r_vec(p) |> mean"
   ]
  },
  {
   "cell_type": "markdown",
   "metadata": {},
   "source": [
    "Observe que o $ r $ retornado é um vetor, enumerado na mesma ordem que os estados $ n_m $.\n",
    "\n",
    "Como a ordem de $ r $ é consistente com a de $ Q $, podemos resolver $ (\\rho - Q) v = r $ como um sistema linear.\n",
    "\n",
    "Abaixo, criamos um operador linear e comparamos o algoritmo para alguns métodos iterativos diferentes [(GMRES, BiCGStab (l), IDR (s), etc.)](https://juliamath.github.io/IterativeSolvers.jl/dev/#Quemétododevousarparasistemaslineares?-1) com um pequeno problema de apenas dez mil estados possíveis."
   ]
  },
  {
   "cell_type": "code",
   "execution_count": 58,
   "metadata": {
    "hide-output": false
   },
   "outputs": [
    {
     "name": "stdout",
     "output_type": "stream",
     "text": [
      "  666.307 ms (75 allocations: 181.85 MiB)\n",
      "norm(gmres(A, r) - v_direct) = 2.390837794373907e-5\n",
      "  4.495 ms (226 allocations: 3.37 MiB)\n",
      "norm(bicgstabl(A, r) - v_direct) = 2.194458916202035e-6\n",
      "  20.764 ms (432 allocations: 9.86 MiB)\n",
      "norm(idrs(A, r) - v_direct) = 5.984410101098303e-8\n",
      "  6.907 ms (297 allocations: 4.75 MiB)\n"
     ]
    }
   ],
   "source": [
    "p = default_params(N=10, M=4)\n",
    "Q = LinearMap((df, f) -> Q_mul!(df, f, p), p.N^p.M, ismutating = true)\n",
    "A = p.ρ * I - Q\n",
    "A_sparse = sparse(A)  # expensivo: uso apenas em testes\n",
    "r = r_vec(p)\n",
    "v_direct = A_sparse \\ r\n",
    "iv = zero(r)\n",
    "\n",
    "@btime $A_sparse \\ $r  # direto\n",
    "@show norm(gmres(A, r) - v_direct)\n",
    "@btime gmres!(iv, $A, $r) setup = (iv = zero(r))\n",
    "\n",
    "@show norm(bicgstabl(A, r) - v_direct)\n",
    "@btime bicgstabl!(iv, $A, $r) setup = (iv = zero(r))\n",
    "\n",
    "@show norm(idrs(A, r) - v_direct)\n",
    "@btime idrs($A, $r);"
   ]
  },
  {
   "cell_type": "markdown",
   "metadata": {},
   "source": [
    "Aqui, vemos que, mesmo que a matriz $ A $ tenha sido criada, os solucionadores diretos esparsos (que usam uma LU ou QR esparsa) são pelo menos uma ordem de magnitude mais lenta e alocam mais uma ordem de magnitude em memória. Isso é um acréscimo à alocação para a própria matriz `A_sparse`, que não é necessária para métodos iterativos.\n",
    "\n",
    "Os diferentes métodos iterativos têm vantagens quando se trata de velocidade de precisão, velocidade de convergência, requisitos de memória e utilidade do pré-condicionamento. Indo muito além deste $ \\mathbf {N} = 10 ^ 4 $, os métodos diretos rapidamente se tornam inviáveis.\n",
    "\n",
    "Juntando tudo para resolver sistemas muito maiores com o GMRES como nossos solucionadores lineares"
   ]
  },
  {
   "cell_type": "code",
   "execution_count": 59,
   "metadata": {
    "hide-output": false
   },
   "outputs": [
    {
     "name": "stdout",
     "output_type": "stream",
     "text": [
      "  1.655 s (270 allocations: 366.23 MiB)\n"
     ]
    }
   ],
   "source": [
    "function solve_bellman(p; iv = zeros(p.N^p.M))\n",
    "    @unpack ρ, N, M = p\n",
    "    Q = LinearMap((df, f) -> Q_mul!(df, f, p), N^M, ismutating = true)\n",
    "    A = ρ * I - Q\n",
    "    r = r_vec(p)\n",
    "\n",
    "    sol = gmres!(iv, A, r, log = false)  # resolvedor interativo, de matriz livre\n",
    "    return sol\n",
    "end\n",
    "p = default_params(N=10, M=6)\n",
    "@btime solve_bellman($p);"
   ]
  },
  {
   "cell_type": "markdown",
   "metadata": {},
   "source": [
    "Isso resolve uma função de valor com uma cadeia de Markov de um milhão de estados em pouco mais de um segundo! Essa abordagem geral parece ter uma escala aproximadamente linear. Por exemplo, tente $ N = 10, M = 8 $ para resolver uma equação com uma cadeia de Markov com cem milhões de estados possíveis, que podem ser resolvidos em cerca de 3-4 minutos. Acima dessa ordem de magnitude, pode ser necessário mexer nos parâmetros do solucionador linear para garantir que você não tenha memória limitada (por exemplo, altere o parâmetro `restart` do GMRES)."
   ]
  },
  {
   "cell_type": "markdown",
   "metadata": {},
   "source": [
    "### Estado estacionário e dinâmico das Cadeias de Markov\n",
    "\n",
    "Lembre-se de que, dada uma matriz de intensidade dimensional $ N $ $ Q $ de um CTMC, a evolução do PDF a partir de uma condição inicial $ \\psi (0) $ é o sistema de equações diferenciais lineares\n",
    "\n",
    "$$\n",
    "\\dot{\\psi}(t) = Q^T \\psi(t)\n",
    "$$\n",
    "\n",
    "Se $ Q $ fosse uma matriz, poderíamos usar a mesma para encontrar o adoint. No entanto, com métodos sem matriz, precisamos implementar o\n",
    "produto vetor adjacente diretamente.\n",
    "\n",
    "A lógica do adjunto é que, para um determinado $ n = (n_1, \\ldots, n_m, \\ldots n_M) $, o produto $ Q ^ T $ dessa linha tenha termos digitados quando\n",
    "\n",
    "1. $ 1 <n_m \\leq N $, entrando em $ n $ idêntico, exceto com um cliente a menos na posição $ m $ th\n",
    "2. $ 1 \\leq n_m <N $ entrando em $ n $ idêntico, exceto com mais um cliente na posição $ m $ th\n",
    "\n",
    "\n",
    "Implementando essa lógica primeiro em matemática e em código,\n",
    "\n",
    "$$\n",
    "\\begin{align}\n",
    "    Q^T_{(n_1, \\ldots n_M)} \\cdot \\psi &=\n",
    "\\theta \\sum_{m=1}^M (n_m > 1)  \\psi(n_1, \\ldots, n_m - 1, \\ldots, n_M)\\\\\n",
    "                                        &+ \\zeta \\sum_{m=1}^M (n_m < N)  \\psi(n_1, \\ldots, n_m + 1, \\ldots, n_M)\\\\\n",
    "                                        &-\\left(\\theta\\, \\text{Count}(n_m < N) + \\zeta\\, \\text{Count}( n_m > 1)\\right)\\psi(n_1, \\ldots, n_M)\n",
    "\\end{align}\n",
    "$$"
   ]
  },
  {
   "cell_type": "code",
   "execution_count": 60,
   "metadata": {
    "hide-output": false
   },
   "outputs": [
    {
     "data": {
      "text/plain": [
       "Q_T_mul! (generic function with 1 method)"
      ]
     },
     "execution_count": 60,
     "metadata": {},
     "output_type": "execute_result"
    }
   ],
   "source": [
    "function Q_T_mul!(dψ, ψ, p)\n",
    "    @unpack θ, ζ, N, M, shape, e_m = p\n",
    "    ψ = reshape(ψ, shape)\n",
    "    dψ = reshape(dψ, shape)\n",
    "\n",
    "    @inbounds for ind in CartesianIndices(ψ)\n",
    "        dψ[ind] = 0.0\n",
    "        for m in 1:M\n",
    "            n_m = ind[m]\n",
    "            if(n_m > 1)\n",
    "                dψ[ind] += θ * ψ[ind - e_m[m]]\n",
    "            end\n",
    "            if(n_m < N)\n",
    "                dψ[ind] += ζ *ψ[ind + e_m[m]]\n",
    "            end\n",
    "        end\n",
    "        dψ[ind] -= (θ * count(ind.I .< N) + ζ * count(ind.I .> 1)) * ψ[ind]\n",
    "    end\n",
    "end"
   ]
  },
  {
   "cell_type": "markdown",
   "metadata": {},
   "source": [
    "A função `sparse` para o operador é útil para testar se a função está correta e é o complemento do nosso operador `Q`."
   ]
  },
  {
   "cell_type": "code",
   "execution_count": 61,
   "metadata": {
    "hide-output": false
   },
   "outputs": [
    {
     "name": "stdout",
     "output_type": "stream",
     "text": [
      "norm((sparse(Q))' - sparse(Q_T)) = 0.0\n"
     ]
    }
   ],
   "source": [
    "p = default_params(N=5, M=4)  # esparso é muito lento para a matriz completa\n",
    "Q = LinearMap((df, f) -> Q_mul!(df, f, p), p.N^p.M, ismutating = true)\n",
    "Q_T = LinearMap((dψ, ψ) -> Q_T_mul!(dψ, ψ, p), p.N^p.M, ismutating = true)\n",
    "@show norm(sparse(Q)' - sparse(Q_T));  # lembrando: use o esparso apenas para teste"
   ]
  },
  {
   "cell_type": "markdown",
   "metadata": {},
   "source": [
    "Como discutido anteriormente, o estado estacionário pode ser encontrado como o vetor próprio associado ao valor próprio zero (ou seja, resolve $ Q ^ T \\psi = 0 \\psi $). Poderíamos fazer isso com uma solução densa de autovalor para matrizes relativamente pequenas:"
   ]
  },
  {
   "cell_type": "code",
   "execution_count": 62,
   "metadata": {
    "hide-output": false
   },
   "outputs": [
    {
     "name": "stdout",
     "output_type": "stream",
     "text": [
      "eig_Q_T.values[end] = -4.163336342344337e-16 + 0.0im\n"
     ]
    }
   ],
   "source": [
    "p = default_params(N=5, M=4)\n",
    "eig_Q_T = eigen(Matrix(Q_T))\n",
    "vec = real(eig_Q_T.vectors[:,end])\n",
    "direct_ψ = vec ./ sum(vec)\n",
    "@show eig_Q_T.values[end];"
   ]
  },
  {
   "cell_type": "markdown",
   "metadata": {},
   "source": [
    "Essa abordagem se baseia em uma fatoração completa da matriz subjacente, fornecendo todo o espectro. Para nossos propósitos, isso não é necessário.\n",
    "\n",
    "Em vez disso, poderíamos usar o pacote `Arpack.jl` para atingir o menor valor próprio de magnitude absoluta, que se baseia em um método iterativo.\n",
    "\n",
    "Uma abordagem final nesse caso é observar que a matriz $ \\mathbf {N} \\times \\mathbf {N} $ tem classificação $ \\mathbf {N} - 1 $ quando a cadeia de Markov é irredutível. A solução estacionária é um vetor no espaço nulo dimensional de $ 1 $ da matriz.\n",
    "\n",
    "Resolver um sistema linear com o lado direito, todos os $ 0 $ s usando os métodos de Krylov, convergirá para um ponto no espaço nulo. Ou seja, $ \\min_x || Um x - 0 || _2 $ resolvido iterativamente a partir de uma condição inicial diferente de zero convergirá para um ponto no espaço nulo.\n",
    "\n",
    "Podemos usar vários métodos de Krylov para esse truque (por exemplo, se a matriz for simétrica e positiva definida, você pode usar o Gradiente Conjugado), mas no nosso caso, usaremos o GMRES, pois não temos nenhuma estrutura."
   ]
  },
  {
   "cell_type": "code",
   "execution_count": 63,
   "metadata": {
    "hide-output": false
   },
   "outputs": [
    {
     "name": "stdout",
     "output_type": "stream",
     "text": [
      "norm(ψ - direct_ψ) = 6.098250476301026e-11\n"
     ]
    }
   ],
   "source": [
    "p = default_params(N=5, M=4)  # esparso é muito lento para a matriz em completo\n",
    "Q_T = LinearMap((dψ, ψ) -> Q_T_mul!(dψ, ψ, p), p.N^p.M, ismutating = true)\n",
    "ψ = fill(1/(p.N^p.M), p.N^p.M) # não se pode usar 0 como palpite inicial\n",
    "sol = gmres!(ψ, Q_T, zeros(p.N^p.M))  # isto é, resolver Ax = 0 interativamente\n",
    "ψ = ψ / sum(ψ)\n",
    "@show norm(ψ - direct_ψ);"
   ]
  },
  {
   "cell_type": "markdown",
   "metadata": {},
   "source": [
    "As diferenças de velocidade e memória entre esses métodos podem ser de magnitude."
   ]
  },
  {
   "cell_type": "code",
   "execution_count": 64,
   "metadata": {
    "hide-output": false
   },
   "outputs": [
    {
     "name": "stdout",
     "output_type": "stream",
     "text": [
      "  37.473 ms (270 allocations: 2.28 MiB)\n",
      "  4.340 ms (341 allocations: 1.21 MiB)\n",
      "  197.860 μs (359 allocations: 66.03 KiB)\n"
     ]
    }
   ],
   "source": [
    "p = default_params(N=4, M=4)  # Matrizes densas e esparsas são muito lentas para o conjunto de dados completo.\n",
    "Q_T = LinearMap((dψ, ψ) -> Q_T_mul!(dψ, ψ, p), p.N^p.M, ismutating = true)\n",
    "Q_T_dense = Matrix(Q_T)\n",
    "Q_T_sparse = sparse(Q_T)\n",
    "b = zeros(p.N^p.M)\n",
    "@btime eigen($Q_T_dense)\n",
    "@btime eigs($Q_T_sparse, nev=1, which=:SM, v0 = iv) setup = (iv = fill(1/(p.N^p.M), p.N^p.M))\n",
    "@btime gmres!(iv, $Q_T, $b) setup = (iv = fill(1/(p.N^p.M), p.N^p.M));"
   ]
  },
  {
   "cell_type": "markdown",
   "metadata": {},
   "source": [
    "As diferenças se tornam ainda mais acentuadas à medida que a matriz cresce. Com `default_params (N = 5, M = 5)` a solução `gmres` é pelo menos 3 ordens de magnitude mais rápida e usa perto de 3 ordens de magnitude menos memória que o solucionador denso. Além disso, o `gmres` é aproximadamente uma ordem de magnitude mais rápido que o solucionador iterativo de autovalores esparsos\n",
    "\n",
    "O algoritmo pode resolver o estado estacionário de $ 10 ^ 5 $ estados em alguns segundos."
   ]
  },
  {
   "cell_type": "code",
   "execution_count": 65,
   "metadata": {
    "hide-output": false
   },
   "outputs": [
    {
     "name": "stdout",
     "output_type": "stream",
     "text": [
      "  3.191 s (4880 allocations: 19.32 MiB)\n"
     ]
    }
   ],
   "source": [
    "function stationary_ψ(p)\n",
    "    Q_T = LinearMap((dψ, ψ) -> Q_T_mul!(dψ, ψ, p), p.N^p.M, ismutating = true)\n",
    "    ψ = fill(1/(p.N^p.M), p.N^p.M) # can't use 0 as initial guess\n",
    "    sol = gmres!(ψ, Q_T, zeros(p.N^p.M))  # i.e. solve Ax = 0 iteratively\n",
    "    return ψ / sum(ψ)\n",
    "end\n",
    "p = default_params(N=10, M=5)\n",
    "@btime stationary_ψ($p);"
   ]
  },
  {
   "cell_type": "markdown",
   "metadata": {},
   "source": [
    "Como demonstração final, considere calcular a evolução completa da cadeia $ ψ (t) $ Markov. Para a matriz constante $ Q '$, a solução para este sistema de equações é $ \\psi (t) = \\exp (Q') \\psi (0) $\n",
    "\n",
    "Os métodos de Krylov sem matriz, usando uma técnica chamada [integração exponencial](https://en.wikipedia.org/wiki/Exponential_integrator), podem resolver isso para problemas de alta dimensão.\n",
    "\n",
    "Para isso, podemos configurar um `MatrixFreeOperator` para nossa função` Q_T_mul! `(Equivalente ao` LinearMap`, mas com alguns requisitos adicionais para o solucionador de ODE) e usar o [método exponencial-linear](http://docs.juliadiffeq.org/latest/solvers/ode_solve.html#exponenciaisparaproblemaslineareseafins-1)."
   ]
  },
  {
   "cell_type": "code",
   "execution_count": 66,
   "metadata": {
    "hide-output": false
   },
   "outputs": [
    {
     "data": {
      "image/svg+xml": [
       "<?xml version=\"1.0\" encoding=\"utf-8\"?>\n",
       "<svg xmlns=\"http://www.w3.org/2000/svg\" xmlns:xlink=\"http://www.w3.org/1999/xlink\" width=\"600\" height=\"400\" viewBox=\"0 0 2400 1600\">\n",
       "<defs>\n",
       "  <clipPath id=\"clip2100\">\n",
       "    <rect x=\"0\" y=\"0\" width=\"2400\" height=\"1600\"/>\n",
       "  </clipPath>\n",
       "</defs>\n",
       "<polygon clip-path=\"url(#clip2100)\" points=\"\n",
       "0,1600 2400,1600 2400,0 0,0 \n",
       "  \" fill=\"#ffffff\" fill-rule=\"evenodd\" fill-opacity=\"1\"/>\n",
       "<defs>\n",
       "  <clipPath id=\"clip2101\">\n",
       "    <rect x=\"480\" y=\"0\" width=\"1681\" height=\"1600\"/>\n",
       "  </clipPath>\n",
       "</defs>\n",
       "<polygon clip-path=\"url(#clip2100)\" points=\"\n",
       "220.804,1425.62 2352.76,1425.62 2352.76,47.2441 220.804,47.2441 \n",
       "  \" fill=\"#ffffff\" fill-rule=\"evenodd\" fill-opacity=\"1\"/>\n",
       "<defs>\n",
       "  <clipPath id=\"clip2102\">\n",
       "    <rect x=\"220\" y=\"47\" width=\"2133\" height=\"1379\"/>\n",
       "  </clipPath>\n",
       "</defs>\n",
       "<polyline clip-path=\"url(#clip2102)\" style=\"stroke:#000000; stroke-width:2; stroke-opacity:0.1; fill:none\" points=\"\n",
       "  281.142,1425.62 281.142,47.2441 \n",
       "  \"/>\n",
       "<polyline clip-path=\"url(#clip2102)\" style=\"stroke:#000000; stroke-width:2; stroke-opacity:0.1; fill:none\" points=\"\n",
       "  783.961,1425.62 783.961,47.2441 \n",
       "  \"/>\n",
       "<polyline clip-path=\"url(#clip2102)\" style=\"stroke:#000000; stroke-width:2; stroke-opacity:0.1; fill:none\" points=\"\n",
       "  1286.78,1425.62 1286.78,47.2441 \n",
       "  \"/>\n",
       "<polyline clip-path=\"url(#clip2102)\" style=\"stroke:#000000; stroke-width:2; stroke-opacity:0.1; fill:none\" points=\"\n",
       "  1789.6,1425.62 1789.6,47.2441 \n",
       "  \"/>\n",
       "<polyline clip-path=\"url(#clip2102)\" style=\"stroke:#000000; stroke-width:2; stroke-opacity:0.1; fill:none\" points=\"\n",
       "  2292.42,1425.62 2292.42,47.2441 \n",
       "  \"/>\n",
       "<polyline clip-path=\"url(#clip2102)\" style=\"stroke:#000000; stroke-width:2; stroke-opacity:0.1; fill:none\" points=\"\n",
       "  220.804,1326.25 2352.76,1326.25 \n",
       "  \"/>\n",
       "<polyline clip-path=\"url(#clip2102)\" style=\"stroke:#000000; stroke-width:2; stroke-opacity:0.1; fill:none\" points=\"\n",
       "  220.804,1120.76 2352.76,1120.76 \n",
       "  \"/>\n",
       "<polyline clip-path=\"url(#clip2102)\" style=\"stroke:#000000; stroke-width:2; stroke-opacity:0.1; fill:none\" points=\"\n",
       "  220.804,915.272 2352.76,915.272 \n",
       "  \"/>\n",
       "<polyline clip-path=\"url(#clip2102)\" style=\"stroke:#000000; stroke-width:2; stroke-opacity:0.1; fill:none\" points=\"\n",
       "  220.804,709.785 2352.76,709.785 \n",
       "  \"/>\n",
       "<polyline clip-path=\"url(#clip2102)\" style=\"stroke:#000000; stroke-width:2; stroke-opacity:0.1; fill:none\" points=\"\n",
       "  220.804,504.297 2352.76,504.297 \n",
       "  \"/>\n",
       "<polyline clip-path=\"url(#clip2102)\" style=\"stroke:#000000; stroke-width:2; stroke-opacity:0.1; fill:none\" points=\"\n",
       "  220.804,298.81 2352.76,298.81 \n",
       "  \"/>\n",
       "<polyline clip-path=\"url(#clip2102)\" style=\"stroke:#000000; stroke-width:2; stroke-opacity:0.1; fill:none\" points=\"\n",
       "  220.804,93.3223 2352.76,93.3223 \n",
       "  \"/>\n",
       "<polyline clip-path=\"url(#clip2100)\" style=\"stroke:#000000; stroke-width:4; stroke-opacity:1; fill:none\" points=\"\n",
       "  220.804,1425.62 2352.76,1425.62 \n",
       "  \"/>\n",
       "<polyline clip-path=\"url(#clip2100)\" style=\"stroke:#000000; stroke-width:4; stroke-opacity:1; fill:none\" points=\"\n",
       "  220.804,1425.62 220.804,47.2441 \n",
       "  \"/>\n",
       "<polyline clip-path=\"url(#clip2100)\" style=\"stroke:#000000; stroke-width:4; stroke-opacity:1; fill:none\" points=\"\n",
       "  281.142,1425.62 281.142,1404.94 \n",
       "  \"/>\n",
       "<polyline clip-path=\"url(#clip2100)\" style=\"stroke:#000000; stroke-width:4; stroke-opacity:1; fill:none\" points=\"\n",
       "  783.961,1425.62 783.961,1404.94 \n",
       "  \"/>\n",
       "<polyline clip-path=\"url(#clip2100)\" style=\"stroke:#000000; stroke-width:4; stroke-opacity:1; fill:none\" points=\"\n",
       "  1286.78,1425.62 1286.78,1404.94 \n",
       "  \"/>\n",
       "<polyline clip-path=\"url(#clip2100)\" style=\"stroke:#000000; stroke-width:4; stroke-opacity:1; fill:none\" points=\"\n",
       "  1789.6,1425.62 1789.6,1404.94 \n",
       "  \"/>\n",
       "<polyline clip-path=\"url(#clip2100)\" style=\"stroke:#000000; stroke-width:4; stroke-opacity:1; fill:none\" points=\"\n",
       "  2292.42,1425.62 2292.42,1404.94 \n",
       "  \"/>\n",
       "<polyline clip-path=\"url(#clip2100)\" style=\"stroke:#000000; stroke-width:4; stroke-opacity:1; fill:none\" points=\"\n",
       "  220.804,1326.25 252.783,1326.25 \n",
       "  \"/>\n",
       "<polyline clip-path=\"url(#clip2100)\" style=\"stroke:#000000; stroke-width:4; stroke-opacity:1; fill:none\" points=\"\n",
       "  220.804,1120.76 252.783,1120.76 \n",
       "  \"/>\n",
       "<polyline clip-path=\"url(#clip2100)\" style=\"stroke:#000000; stroke-width:4; stroke-opacity:1; fill:none\" points=\"\n",
       "  220.804,915.272 252.783,915.272 \n",
       "  \"/>\n",
       "<polyline clip-path=\"url(#clip2100)\" style=\"stroke:#000000; stroke-width:4; stroke-opacity:1; fill:none\" points=\"\n",
       "  220.804,709.785 252.783,709.785 \n",
       "  \"/>\n",
       "<polyline clip-path=\"url(#clip2100)\" style=\"stroke:#000000; stroke-width:4; stroke-opacity:1; fill:none\" points=\"\n",
       "  220.804,504.297 252.783,504.297 \n",
       "  \"/>\n",
       "<polyline clip-path=\"url(#clip2100)\" style=\"stroke:#000000; stroke-width:4; stroke-opacity:1; fill:none\" points=\"\n",
       "  220.804,298.81 252.783,298.81 \n",
       "  \"/>\n",
       "<polyline clip-path=\"url(#clip2100)\" style=\"stroke:#000000; stroke-width:4; stroke-opacity:1; fill:none\" points=\"\n",
       "  220.804,93.3223 252.783,93.3223 \n",
       "  \"/>\n",
       "<g clip-path=\"url(#clip2100)\">\n",
       "<text style=\"fill:#000000; fill-opacity:1; font-family:Arial,Helvetica Neue,Helvetica,sans-serif; font-size:48px; text-anchor:middle;\" transform=\"rotate(0, 281.142, 1479.62)\" x=\"281.142\" y=\"1479.62\">0</text>\n",
       "</g>\n",
       "<g clip-path=\"url(#clip2100)\">\n",
       "<text style=\"fill:#000000; fill-opacity:1; font-family:Arial,Helvetica Neue,Helvetica,sans-serif; font-size:48px; text-anchor:middle;\" transform=\"rotate(0, 783.961, 1479.62)\" x=\"783.961\" y=\"1479.62\">25</text>\n",
       "</g>\n",
       "<g clip-path=\"url(#clip2100)\">\n",
       "<text style=\"fill:#000000; fill-opacity:1; font-family:Arial,Helvetica Neue,Helvetica,sans-serif; font-size:48px; text-anchor:middle;\" transform=\"rotate(0, 1286.78, 1479.62)\" x=\"1286.78\" y=\"1479.62\">50</text>\n",
       "</g>\n",
       "<g clip-path=\"url(#clip2100)\">\n",
       "<text style=\"fill:#000000; fill-opacity:1; font-family:Arial,Helvetica Neue,Helvetica,sans-serif; font-size:48px; text-anchor:middle;\" transform=\"rotate(0, 1789.6, 1479.62)\" x=\"1789.6\" y=\"1479.62\">75</text>\n",
       "</g>\n",
       "<g clip-path=\"url(#clip2100)\">\n",
       "<text style=\"fill:#000000; fill-opacity:1; font-family:Arial,Helvetica Neue,Helvetica,sans-serif; font-size:48px; text-anchor:middle;\" transform=\"rotate(0, 2292.42, 1479.62)\" x=\"2292.42\" y=\"1479.62\">100</text>\n",
       "</g>\n",
       "<g clip-path=\"url(#clip2100)\">\n",
       "<text style=\"fill:#000000; fill-opacity:1; font-family:Arial,Helvetica Neue,Helvetica,sans-serif; font-size:48px; text-anchor:end;\" transform=\"rotate(0, 196.804, 1343.75)\" x=\"196.804\" y=\"1343.75\">5000</text>\n",
       "</g>\n",
       "<g clip-path=\"url(#clip2100)\">\n",
       "<text style=\"fill:#000000; fill-opacity:1; font-family:Arial,Helvetica Neue,Helvetica,sans-serif; font-size:48px; text-anchor:end;\" transform=\"rotate(0, 196.804, 1138.26)\" x=\"196.804\" y=\"1138.26\">6000</text>\n",
       "</g>\n",
       "<g clip-path=\"url(#clip2100)\">\n",
       "<text style=\"fill:#000000; fill-opacity:1; font-family:Arial,Helvetica Neue,Helvetica,sans-serif; font-size:48px; text-anchor:end;\" transform=\"rotate(0, 196.804, 932.772)\" x=\"196.804\" y=\"932.772\">7000</text>\n",
       "</g>\n",
       "<g clip-path=\"url(#clip2100)\">\n",
       "<text style=\"fill:#000000; fill-opacity:1; font-family:Arial,Helvetica Neue,Helvetica,sans-serif; font-size:48px; text-anchor:end;\" transform=\"rotate(0, 196.804, 727.285)\" x=\"196.804\" y=\"727.285\">8000</text>\n",
       "</g>\n",
       "<g clip-path=\"url(#clip2100)\">\n",
       "<text style=\"fill:#000000; fill-opacity:1; font-family:Arial,Helvetica Neue,Helvetica,sans-serif; font-size:48px; text-anchor:end;\" transform=\"rotate(0, 196.804, 521.797)\" x=\"196.804\" y=\"521.797\">9000</text>\n",
       "</g>\n",
       "<g clip-path=\"url(#clip2100)\">\n",
       "<text style=\"fill:#000000; fill-opacity:1; font-family:Arial,Helvetica Neue,Helvetica,sans-serif; font-size:48px; text-anchor:end;\" transform=\"rotate(0, 196.804, 316.31)\" x=\"196.804\" y=\"316.31\">10000</text>\n",
       "</g>\n",
       "<g clip-path=\"url(#clip2100)\">\n",
       "<text style=\"fill:#000000; fill-opacity:1; font-family:Arial,Helvetica Neue,Helvetica,sans-serif; font-size:48px; text-anchor:end;\" transform=\"rotate(0, 196.804, 110.822)\" x=\"196.804\" y=\"110.822\">11000</text>\n",
       "</g>\n",
       "<g clip-path=\"url(#clip2100)\">\n",
       "<text style=\"fill:#000000; fill-opacity:1; font-family:Arial,Helvetica Neue,Helvetica,sans-serif; font-size:66px; text-anchor:middle;\" transform=\"rotate(0, 1286.78, 1559.48)\" x=\"1286.78\" y=\"1559.48\">t</text>\n",
       "</g>\n",
       "<polyline clip-path=\"url(#clip2102)\" style=\"stroke:#009af9; stroke-width:4; stroke-opacity:1; fill:none\" points=\"\n",
       "  281.142,1386.61 381.706,1293.11 482.27,1204.28 582.833,1119.36 683.397,1037.61 783.961,958.632 884.525,882.209 985.089,808.266 1085.65,736.798 1186.22,667.845 \n",
       "  1286.78,601.468 1387.34,537.729 1487.91,476.687 1588.47,418.381 1689.03,362.834 1789.6,310.048 1890.16,260.003 1990.73,212.663 2091.29,167.973 2191.85,125.864 \n",
       "  2292.42,86.2547 \n",
       "  \"/>\n",
       "<polygon clip-path=\"url(#clip2100)\" points=\"\n",
       "1912.38,251.724 2280.76,251.724 2280.76,130.764 1912.38,130.764 \n",
       "  \" fill=\"#ffffff\" fill-rule=\"evenodd\" fill-opacity=\"1\"/>\n",
       "<polyline clip-path=\"url(#clip2100)\" style=\"stroke:#000000; stroke-width:4; stroke-opacity:1; fill:none\" points=\"\n",
       "  1912.38,251.724 2280.76,251.724 2280.76,130.764 1912.38,130.764 1912.38,251.724 \n",
       "  \"/>\n",
       "<polyline clip-path=\"url(#clip2100)\" style=\"stroke:#009af9; stroke-width:4; stroke-opacity:1; fill:none\" points=\"\n",
       "  1936.38,191.244 2080.38,191.244 \n",
       "  \"/>\n",
       "<g clip-path=\"url(#clip2100)\">\n",
       "<text style=\"fill:#000000; fill-opacity:1; font-family:Arial,Helvetica Neue,Helvetica,sans-serif; font-size:48px; text-anchor:start;\" transform=\"rotate(0, 2104.38, 208.744)\" x=\"2104.38\" y=\"208.744\">E_t(v)</text>\n",
       "</g>\n",
       "</svg>\n"
      ]
     },
     "execution_count": 66,
     "metadata": {},
     "output_type": "execute_result"
    }
   ],
   "source": [
    "using OrdinaryDiffEq, DiffEqOperators\n",
    "\n",
    "function solve_transition_dynamics(p, t)\n",
    "    @unpack N, M = p\n",
    "\n",
    "    ψ_0 = [1.0; fill(0.0, N^M - 1)]\n",
    "    O! = MatrixFreeOperator((dψ, ψ, p, t) -> Q_T_mul!(dψ, ψ, p), (p, 0.0), size=(N^M,N^M), opnorm=(p)->1.25)\n",
    "\n",
    "    # definindo o problema correspondente do ODE\n",
    "    prob = ODEProblem(O!,ψ_0,(0.0,t[end]), p)\n",
    "    return solve(prob, LinearExponential(krylov=:simple), tstops = t)\n",
    "end\n",
    "t = 0.0:5.0:100.0\n",
    "p = default_params(N=10, M=6)\n",
    "sol = solve_transition_dynamics(p, t)\n",
    "v = solve_bellman(p)\n",
    "plot(t, [dot(sol(tval), v) for tval in t], xlabel = \"t\", label = [\"E_t(v)\"])"
   ]
  },
  {
   "cell_type": "markdown",
   "metadata": {},
   "source": [
    "O gráfico acima (1) calcula a dinâmica completa da cadeia de Markov a partir de $ n_m = 1 $ para todas as condições iniciais de $ m $; (2) resolve a dinâmica de um sistema de um milhão de EDOs; e; (3) usa o cálculo da equação de Bellman para encontrar a avaliação esperada durante essa transição. Todo o processo leva menos de 30 segundos."
   ]
  }
 ],
 "metadata": {
  "date": 1580349909.806061,
  "download_nb": 1,
  "download_nb_path": "https://julia.quantecon.org/",
  "filename": "iterative_methods_sparsity.rst",
  "filename_with_path": "tools_and_techniques/iterative_methods_sparsity",
  "kernelspec": {
   "display_name": "Julia 1.3.1",
   "language": "julia",
   "name": "julia-1.3"
  },
  "language_info": {
   "file_extension": ".jl",
   "mimetype": "application/julia",
   "name": "julia",
   "version": "1.3.1"
  },
  "title": "Krylov Methods and Matrix Conditioning"
 },
 "nbformat": 4,
 "nbformat_minor": 2
}
