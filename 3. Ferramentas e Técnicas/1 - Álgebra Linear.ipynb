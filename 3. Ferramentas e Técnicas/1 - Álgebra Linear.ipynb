{
 "cells": [
  {
   "cell_type": "markdown",
   "metadata": {},
   "source": [
    "\n",
    "<a id='linear-algebra'></a>\n",
    "<div id=\"qe-notebook-header\" style=\"text-align:right;\">\n",
    "        <a href=\"https://quantecon.org/\" title=\"quantecon.org\">\n",
    "                <img style=\"width:250px;display:inline;\" src=\"https://assets.quantecon.org/img/qe-menubar-logo.svg\" alt=\"QuantEcon\">\n",
    "        </a>\n",
    "</div>"
   ]
  },
  {
   "cell_type": "markdown",
   "metadata": {},
   "source": [
    "# Álgebra Linear\n",
    "\n",
    "\n",
    "<a id='index-0'></a>"
   ]
  },
  {
   "cell_type": "markdown",
   "metadata": {},
   "source": [
    "## Sumário\n",
    "\n",
    "- [Álgebra Linear](#Álgebra-Linear)  \n",
    "  - [Resumo](#Resumo)  \n",
    "  - [Vetores](#Vetores)  \n",
    "  - [Matrizes](#Matrizes)  \n",
    "  - [Resolvendo Sistemas de Equações](#Resolvendo-Sistemas-de-Equações)  \n",
    "  - [Autovalores e Autovetores](#Autovalores-e-Autovetores)  \n",
    "  - [Tópicos Adicionais](#Tópicos-Adicionais)  \n",
    "  - [Exercícios](#Exercícios)  \n",
    "  - [Soluções](#Soluções)  "
   ]
  },
  {
   "cell_type": "markdown",
   "metadata": {},
   "source": [
    "> *Devidamente traduzido, revisado e adaptado do [QuantEcon](https://julia.quantecon.org/) pelos bolsistas CNPq Pedro Luiz H. Furtado e Jonas Aragão M. Corpes, sob a supervisão do Prof. Christiano Penna, do CAEN/UFC.*"
   ]
  },
  {
   "cell_type": "markdown",
   "metadata": {},
   "source": [
    "## Resumo\n",
    "\n",
    "A álgebra linear é um dos ramos mais utilizados da matemática aplicada por economistas.\n",
    "\n",
    "Por exemplo, muitos problemas aplicados em economia e finanças requerem como solução um sistema de equações lineares, tal como:\n",
    "\n",
    "$$\n",
    "\\begin{array}{c}\n",
    "    y_1 = a x_1 + b x_2 \\\\\n",
    "    y_2 = c x_1 + d x_2\n",
    "\\end{array}\n",
    "$$\n",
    "\n",
    "ou, de maneira mais genérica,\n",
    "\n",
    "\n",
    "<a id='equation-la-se'></a>\n",
    "$$\n",
    "\\begin{array}{c}\n",
    "    y_1 = a_{11} x_1 + a_{12} x_2 + \\cdots + a_{1k} x_k \\\\\n",
    "    \\vdots  \\\\\n",
    "    y_n = a_{n1} x_1 + a_{n2} x_2 + \\cdots + a_{nk} x_k\n",
    "\\end{array} \\tag{1}\n",
    "$$\n",
    "\n",
    "O objetivo aqui é resolver para as \"desconhecidas” $ x_1, \\ldots, x_k $ dados $ a_{11}, \\ldots, a_{nk} $ e $ y_1, \\ldots, y_n $\n",
    "\n",
    "Ao considerar tais problemas, é essencial que nós consideremos primeiro ao menos algumas das seguintes questões:\n",
    "\n",
    "- Existe realmente uma solução?  \n",
    "- Existem de fato muitas soluções, e se sim, como deveríamos interpretá-las?  \n",
    "- Se a solução não existe, há uma solução mais \"aproximada\"?  \n",
    "- Se a solução existe, como deveríamos computá-la?  \n",
    "\n",
    "\n",
    "Esses são os tipos de tópicos endereçados pela álgebra linear.\n",
    "\n",
    "Nesta aula, nós iremos cobrir o básico da álgebra linear e matricial, treinando a teoria e o computacional de ambos.\n",
    "\n",
    "Admitimos algumas superposições [nessa aula](https://lectures.quantecon.org/getting_started_julia/fundamental_types.html), onde as operações com matrizes no Julia foram explicadas de início.\n",
    "\n",
    "Perceba que esta aula é mais teórica que a maioria, e contém um material de revisão que será usado por nós em aplicações no decorrer do curso."
   ]
  },
  {
   "cell_type": "markdown",
   "metadata": {},
   "source": [
    "## Vetores\n",
    "\n",
    "\n",
    "<a id='index-2'></a>\n",
    "Um *vetor* é um elemento de um espaço vetorial.\n",
    "\n",
    "Vetores podem ser adicionados conjuntamente e multiplicados por escalares.\n",
    "\n",
    "Podem ser escritos como $ x = [x_1, \\ldots, x_n] $\n",
    "\n",
    "O conjunto de todos os $ n $-vetores é denotado por $ \\mathbb R^n $\n",
    "\n",
    "Por exemplo, $ \\mathbb R ^2 $ é o plano, e um vetor em $ \\mathbb R^2 $ é apenas um ponto no plano.\n",
    "\n",
    "Tradicionalmente, vetores são representados visualmente como linhas, da origem até o ponto.\n",
    "\n",
    "A figura a seguir representa três vetores dessa maneira:"
   ]
  },
  {
   "cell_type": "markdown",
   "metadata": {},
   "source": [
    "### Configuração"
   ]
  },
  {
   "cell_type": "code",
   "execution_count": null,
   "metadata": {
    "hide-output": false
   },
   "outputs": [],
   "source": [
    "using InstantiateFromURL\n",
    "github_project(\"QuantEcon/quantecon-notebooks-julia\", version = \"0.5.0\", instantiate = true);"
   ]
  },
  {
   "cell_type": "code",
   "execution_count": 1,
   "metadata": {
    "hide-output": false
   },
   "outputs": [
    {
     "name": "stderr",
     "output_type": "stream",
     "text": [
      "┌ Info: Precompiling Plots [91a5bcdd-55d7-5caf-9e0b-520d859cae80]\n",
      "└ @ Base loading.jl:1273\n"
     ]
    }
   ],
   "source": [
    "using LinearAlgebra, Statistics, Plots\n",
    "gr(fmt=:png);"
   ]
  },
  {
   "cell_type": "code",
   "execution_count": 2,
   "metadata": {
    "hide-output": false
   },
   "outputs": [
    {
     "data": {
      "image/png": "[encoded data removed]"
     },
     "execution_count": 2,
     "metadata": {},
     "output_type": "execute_result"
    }
   ],
   "source": [
    "x_vals = [0 0 0 ; 2 -3 -4]\n",
    "y_vals = [0 0 0 ; 4 3 -3.5]\n",
    "\n",
    "plot(x_vals, y_vals, arrow = true, color = :blue,\n",
    "     legend = :none, xlims = (-5, 5), ylims = (-5, 5),\n",
    "     annotations = [(2.2, 4.4, \"[2, 4]\"),\n",
    "                    (-3.3, 3.3, \"[-3, 3]\"),\n",
    "                    (-4.4, -3.85, \"[-4, -3.5]\")],\n",
    "     xticks = -5:1:5, yticks = -5:1:5,\n",
    "     framestyle = :origin)"
   ]
  },
  {
   "cell_type": "markdown",
   "metadata": {},
   "source": [
    "### Operações com Vetores\n",
    "\n",
    "\n",
    "<a id='index-3'></a>\n",
    "Os dois operadores mais comuns para vetores são a adição e a multiplicação por escalar, que descreveremos agora.\n",
    "\n",
    "Por uma questão de definição, quando nós adicionamos dois vetores, adicionamos a eles um elemento por cada:\n",
    "\n",
    "$$\n",
    "x + y\n",
    "=\n",
    "\\left[\n",
    "\\begin{array}{c}\n",
    "    x_1 \\\\\n",
    "    x_2 \\\\\n",
    "    \\vdots \\\\\n",
    "    x_n\n",
    "\\end{array}\n",
    "\\right]\n",
    "+\n",
    "\\left[\n",
    "\\begin{array}{c}\n",
    "     y_1 \\\\\n",
    "     y_2 \\\\\n",
    "    \\vdots \\\\\n",
    "     y_n\n",
    "\\end{array}\n",
    "\\right]\n",
    ":=\n",
    "\\left[\n",
    "\\begin{array}{c}\n",
    "    x_1 + y_1 \\\\\n",
    "    x_2 + y_2 \\\\\n",
    "    \\vdots \\\\\n",
    "    x_n + y_n\n",
    "\\end{array}\n",
    "\\right]\n",
    "$$\n",
    "\n",
    "Multiplicação por escalar é uma operação que pega um número $ \\gamma $ e um vetor $ x $, produzindo:\n",
    "\n",
    "$$\n",
    "\\gamma x\n",
    ":=\n",
    "\\left[\n",
    "\\begin{array}{c}\n",
    "    \\gamma x_1 \\\\\n",
    "    \\gamma x_2 \\\\\n",
    "    \\vdots \\\\\n",
    "    \\gamma x_n\n",
    "\\end{array}\n",
    "\\right]\n",
    "$$\n",
    "\n",
    "A multiplicação por escalar é ilustrada na próxima figura:"
   ]
  },
  {
   "cell_type": "code",
   "execution_count": 3,
   "metadata": {
    "hide-output": false
   },
   "outputs": [
    {
     "data": {
      "image/png": "[encoded data removed]"
     },
     "execution_count": 3,
     "metadata": {},
     "output_type": "execute_result"
    }
   ],
   "source": [
    "# Ilustra a multiplicação escalar\n",
    "\n",
    "x = [2]\n",
    "scalars = [-2 1 2]\n",
    "vals = [0 0 0; x * scalars]\n",
    "labels = [(-3.6, -4.2, \"-2x\"), (2.4, 1.8, \"x\"), (4.4, 3.8, \"2x\")]\n",
    "\n",
    "plot(vals, vals, arrow = true, color = [:red :red :blue],\n",
    "     legend = :none, xlims = (-5, 5), ylims = (-5, 5),\n",
    "     annotations = labels, xticks = -5:1:5, yticks = -5:1:5,\n",
    "     framestyle = :origin)"
   ]
  },
  {
   "cell_type": "markdown",
   "metadata": {},
   "source": [
    "No Julia, um vetor pode ser representado como uma matriz de uma dimensão.\n",
    "\n",
    "Matrizes no Julia nos permitem expressar a multiplicação por escalar e adição com uma sintaxe bastante natural:"
   ]
  },
  {
   "cell_type": "code",
   "execution_count": 4,
   "metadata": {
    "hide-output": false
   },
   "outputs": [
    {
     "data": {
      "text/plain": [
       "3-element Array{Float64,1}:\n",
       " 1.0\n",
       " 1.0\n",
       " 1.0"
      ]
     },
     "execution_count": 4,
     "metadata": {},
     "output_type": "execute_result"
    }
   ],
   "source": [
    "x = ones(3)"
   ]
  },
  {
   "cell_type": "code",
   "execution_count": 5,
   "metadata": {
    "hide-output": false
   },
   "outputs": [
    {
     "data": {
      "text/plain": [
       "3-element Array{Int64,1}:\n",
       " 2\n",
       " 4\n",
       " 6"
      ]
     },
     "execution_count": 5,
     "metadata": {},
     "output_type": "execute_result"
    }
   ],
   "source": [
    "y = [2, 4, 6]"
   ]
  },
  {
   "cell_type": "code",
   "execution_count": 6,
   "metadata": {
    "hide-output": false
   },
   "outputs": [
    {
     "data": {
      "text/plain": [
       "3-element Array{Float64,1}:\n",
       " 3.0\n",
       " 5.0\n",
       " 7.0"
      ]
     },
     "execution_count": 6,
     "metadata": {},
     "output_type": "execute_result"
    }
   ],
   "source": [
    "x + y"
   ]
  },
  {
   "cell_type": "code",
   "execution_count": 7,
   "metadata": {
    "hide-output": false
   },
   "outputs": [
    {
     "data": {
      "text/plain": [
       "3-element Array{Float64,1}:\n",
       " 4.0\n",
       " 4.0\n",
       " 4.0"
      ]
     },
     "execution_count": 7,
     "metadata": {},
     "output_type": "execute_result"
    }
   ],
   "source": [
    "4x  # equivalente a 4 * x e 4 .* x"
   ]
  },
  {
   "cell_type": "markdown",
   "metadata": {},
   "source": [
    "### Produto Interno e Norma\n",
    "\n",
    "\n",
    "<a id='index-5'></a>\n",
    "O *produto interno* dos vetores $ x,y \\in \\mathbb R ^n $ é definido como\n",
    "\n",
    "$$\n",
    "x' y := \\sum_{i=1}^n x_i y_i\n",
    "$$\n",
    "\n",
    "Dois vetores são chamados de *ortogonais* se o seu produto interno for zero.\n",
    "\n",
    "A *norma* de um vetor $ x $ representa seu “comprimento” (isto é, a distância para o vetor zero), sendo definida como:\n",
    "\n",
    "$$\n",
    "\\| x \\| := \\sqrt{x' x} := \\left( \\sum_{i=1}^n x_i^2 \\right)^{1/2}\n",
    "$$\n",
    "\n",
    "A expressão $ \\| x - y\\| $ é pensada como a distância entre $ x $ e $ y $.\n",
    "\n",
    "Continuando do exemplo prévio, o produto interno e a norma podem ser computados como:"
   ]
  },
  {
   "cell_type": "code",
   "execution_count": 8,
   "metadata": {
    "hide-output": false
   },
   "outputs": [],
   "source": [
    "using LinearAlgebra"
   ]
  },
  {
   "cell_type": "code",
   "execution_count": 9,
   "metadata": {
    "hide-output": false
   },
   "outputs": [
    {
     "data": {
      "text/plain": [
       "12.0"
      ]
     },
     "execution_count": 9,
     "metadata": {},
     "output_type": "execute_result"
    }
   ],
   "source": [
    "dot(x, y)               # Produto interno de x e y"
   ]
  },
  {
   "cell_type": "code",
   "execution_count": 10,
   "metadata": {
    "hide-output": false
   },
   "outputs": [
    {
     "data": {
      "text/plain": [
       "12.0"
      ]
     },
     "execution_count": 10,
     "metadata": {},
     "output_type": "execute_result"
    }
   ],
   "source": [
    "sum(prod, zip(x, y))    # dá no mesmo resultado"
   ]
  },
  {
   "cell_type": "code",
   "execution_count": 11,
   "metadata": {
    "hide-output": false
   },
   "outputs": [
    {
     "data": {
      "text/plain": [
       "1.7320508075688772"
      ]
     },
     "execution_count": 11,
     "metadata": {},
     "output_type": "execute_result"
    }
   ],
   "source": [
    "norm(x)                 # Norma de x"
   ]
  },
  {
   "cell_type": "code",
   "execution_count": 12,
   "metadata": {
    "hide-output": false
   },
   "outputs": [
    {
     "data": {
      "text/plain": [
       "1.7320508075688772"
      ]
     },
     "execution_count": 12,
     "metadata": {},
     "output_type": "execute_result"
    }
   ],
   "source": [
    "sqrt(sum(abs2, x))         # dá no mesmo resultado"
   ]
  },
  {
   "cell_type": "markdown",
   "metadata": {},
   "source": [
    "### Período\n",
    "\n",
    "\n",
    "<a id='index-6'></a>\n",
    "Dado um conjunto de vetores $ A := \\{a_1, \\ldots, a_k\\} $ em $ \\mathbb R ^n $, é natural pensar sobre os novos vetores que nós podemos criá-los por meio de operadores lineares.\n",
    "\n",
    "Novos vetores criados dessa maneira são chamados *combinações lineares* de $ A $.\n",
    "\n",
    "Particularmente, $ y \\in \\mathbb R ^n $ é uma combinação linear de $ A := \\{a_1, \\ldots, a_k\\} $ se:\n",
    "\n",
    "$$\n",
    "y = \\beta_1 a_1 + \\cdots + \\beta_k a_k\n",
    "\\text{ for some scalars } \\beta_1, \\ldots, \\beta_k\n",
    "$$\n",
    "\n",
    "Nesse contexto, os valores $ \\beta_1, \\ldots, \\beta_k $ são denominados *coeficientes* da combinação linear.\n",
    "\n",
    "O conjunto de combinações lineares de $ A $ é chamado de *período* de $ A $.\n",
    "\n",
    "A próxima figura mostra o período de $ A = \\{a_1, a_2\\} $ em $ \\mathbb R ^3 $:\n",
    "\n",
    "O período é um plano bi-dimensional que passa nesses dois pontos, além da origem:\n",
    "\n",
    "\n",
    "<a id='la-3dvec'></a>"
   ]
  },
  {
   "cell_type": "code",
   "execution_count": 13,
   "metadata": {
    "hide-output": false,
    "html-class": "collapse"
   },
   "outputs": [
    {
     "data": {
      "image/png": "[encoded data removed]"
     },
     "execution_count": 13,
     "metadata": {},
     "output_type": "execute_result"
    }
   ],
   "source": [
    "# funções lineares fixas, para gerar o plano\n",
    "f(x, y) = 0.2x + 0.1y\n",
    "\n",
    "# lines to vectors\n",
    "x_vec = [0 0; 3 3]\n",
    "y_vec = [0 0; 4 -4]\n",
    "z_vec = [0 0; f(3, 4) f(3, -4)]\n",
    "\n",
    "# desenhando o plano\n",
    "n = 20\n",
    "grid = range(-5, 5, length = n)\n",
    "z2 = [ f(grid[row], grid[col]) for row in 1:n, col in 1:n ]\n",
    "wireframe(grid, grid, z2, fill = :blues, gridalpha =1 )\n",
    "plot!(x_vec, y_vec, z_vec, color = [:blue :green], linewidth = 3, labels = \"\",\n",
    "      colorbar = false)"
   ]
  },
  {
   "cell_type": "markdown",
   "metadata": {},
   "source": [
    "#### Exemplos\n",
    "\n",
    "Se $ A $ contém apenas um vetor $ a_1 \\in \\mathbb R ^2 $, então o período são os multiplicadores escalares de $ a_1 $, que é a única linha que atravessa ambos $ a_1 $ e a origem.\n",
    "\n",
    "Se $ A = \\{e_1, e_2, e_3\\} $ consiste nos *vetores de base canônica* de $ \\mathbb R ^3 $, que é\n",
    "\n",
    "$$\n",
    "e_1\n",
    ":=\n",
    "\\left[\n",
    "\\begin{array}{c}\n",
    "     1 \\\\\n",
    "     0 \\\\\n",
    "     0\n",
    "\\end{array}\n",
    "\\right]\n",
    ", \\quad\n",
    "e_2\n",
    ":=\n",
    "\\left[\n",
    "\\begin{array}{c}\n",
    "     0 \\\\\n",
    "     1 \\\\\n",
    "     0\n",
    "\\end{array}\n",
    "\\right]\n",
    ", \\quad\n",
    "e_3\n",
    ":=\n",
    "\\left[\n",
    "\\begin{array}{c}\n",
    "     0 \\\\\n",
    "     0 \\\\\n",
    "     1\n",
    "\\end{array}\n",
    "\\right]\n",
    "$$\n",
    "\n",
    "então o período de $ A $ é tudo de $ \\mathbb R ^3 $, pois, para qualquer $ x = (x_1, x_2, x_3) \\in \\mathbb R ^3 $, podemos escrever:\n",
    "\n",
    "$$\n",
    "x = x_1 e_1 + x_2 e_2 + x_3 e_3\n",
    "$$\n",
    "\n",
    "Agora considere $ A_0 = \\{e_1, e_2, e_1 + e_2\\} $\n",
    "\n",
    "Se $ y = (y_1, y_2, y_3) $ é qualquer combinação linear destes vetores, então $ y_3 = 0 $ (checar)\n",
    "\n",
    "Consequentemente, $ A_0 $ falha em periodizar tudo de $ \\mathbb R ^3 $\n",
    "\n",
    "\n",
    "<a id='la-li'></a>"
   ]
  },
  {
   "cell_type": "markdown",
   "metadata": {},
   "source": [
    "### Independência Linear\n",
    "\n",
    "<a id='index-7'></a>\n",
    "Como nós veremos, é frequentemente desejável encontrar famílias de vetores com períodos relativamente mais longos, assim muitos vetores podem ser descritos como operadores lineares de alguns vetores.\n",
    "\n",
    "A condição necessária para um conjunto de vetores ter um grande período é o que se chama de independência linear.\n",
    "\n",
    "Em particular, uma coleção de vetores $ A := \\{a_1, \\ldots, a_k\\} $ in $ \\mathbb R ^n $ é dita ser:\n",
    "\n",
    "- *Linearmente dependente* se algum subconjunto estrito de $ A $ tem o mesmo espaço $ A $  \n",
    "- *linearmente independente* caso não seja linearmente dependente.\n",
    "\n",
    "\n",
    "Colocando diferentemente, um conjunto de vetores é linearmente independente se não houver vetor redundante no espaço, e linearmente dependente caso contrário.\n",
    "\n",
    "Para ilustrar essa idéia, recorde [a figura](#la-3dvec) quqe mostrou o espaço dos vetores $ \\{a_1, a_2\\} $ em $ \\mathbb R ^3 $ como um plano através da origem.\n",
    "\n",
    "Se pegarmos um terceiro vetor $ a_3 $ e formar o conjunto $ \\{a_1, a_2, a_3\\} $, esse confunto será:\n",
    "\n",
    "- linearmente dependente se $ a_3 $ encontrar-se no plano, e  \n",
    "- linearmente independente caso contrário.\n",
    "\n",
    "\n",
    "Como outra ilustração do conceito, desde que $ \\mathbb R ^n $ possa ser espaçado por $ n $ vetores (veja a discussão sobre vetores e base canônica), qualquer coleção de $ m > n $ vetores em $ \\mathbb R ^n $ deve ser linearmente dependente.\n",
    "\n",
    "As afirmações a seguir são equivalentes à independência linear de $ A := \\{a_1, \\ldots, a_k\\} \\subset \\mathbb R ^n $\n",
    "\n",
    "1. Vetores em $ A $ não podem ser formados como uma combinação linear de outros elementos;  \n",
    "1. Se $ \\beta_1 a_1 + \\cdots \\beta_k a_k = 0 $ para os escalares $ \\beta_1, \\ldots, \\beta_k $, então $ \\beta_1 = \\cdots = \\beta_k = 0 $  \n",
    "\n",
    "\n",
    "(O zero na primeira expressão é a origem de $ \\mathbb R ^n $).\n",
    "\n",
    "\n",
    "<a id='la-unique-reps'></a>"
   ]
  },
  {
   "cell_type": "markdown",
   "metadata": {},
   "source": [
    "### Representações Únicas\n",
    "\n",
    "Ouutra coisa boa sobre conjuntos de vetores linearmente independentes é que cada elemento no espaço tem uma representação única como combinação linear destes vetores.\n",
    "\n",
    "Em outras palavras, se $ A := \\{a_1, \\ldots, a_k\\} \\subset \\mathbb R ^n $ é linearmente independente e \n",
    "\n",
    "$$\n",
    "y = \\beta_1 a_1 + \\cdots \\beta_k a_k\n",
    "$$\n",
    "\n",
    "então nenhma outra sequência de coeficiente $ \\gamma_1, \\ldots, \\gamma_k $ irá produzir o mesmo vetor $ y $.\n",
    "\n",
    "De fato, se nós tivermos também $ y = \\gamma_1 a_1 + \\cdots \\gamma_k a_k $, então\n",
    "\n",
    "$$\n",
    "(\\beta_1 - \\gamma_1) a_1 + \\cdots + (\\beta_k - \\gamma_k) a_k = 0\n",
    "$$\n",
    "\n",
    "Agora, independência linear implica $ \\gamma_i = \\beta_i $ para todo $ i $."
   ]
  },
  {
   "cell_type": "markdown",
   "metadata": {},
   "source": [
    "## Matrizes\n",
    "\n",
    "\n",
    "<a id='index-8'></a>\n",
    "Matrizes são uma manera elegante de se organizar dados em operações lineares.\n",
    "\n",
    "Uma matriz $ n \\times k $ é um arranjo retangular $ A $ de números com $ n $ linhas e $ k $ colunas:\n",
    "\n",
    "$$\n",
    "A =\n",
    "\\left[\n",
    "\\begin{array}{cccc}\n",
    "    a_{11} & a_{12} & \\cdots & a_{1k} \\\\\n",
    "    a_{21} & a_{22} & \\cdots & a_{2k} \\\\\n",
    "    \\vdots & \\vdots &  & \\vdots \\\\\n",
    "    a_{n1} & a_{n2} & \\cdots & a_{nk}\n",
    "\\end{array}\n",
    "\\right]\n",
    "$$\n",
    "\n",
    "Frequentemente, os números da matriz representam coeficientes de um sistema de equações lineares, como foi discutido no começo dessa aula.\n",
    "\n",
    "Por razões óbvias, a matriz $ A $ também é chamado de vetor se $ n = 1 $ ou $ k = 1 $.\n",
    "\n",
    "No caso formal, $ A $ é chamado de *vetor linha*, enquanto que no último é chamado de *vetor coluna*.\n",
    "\n",
    "Se $ n = k $, então $ A $ é denominada *quadrada*.\n",
    "\n",
    "A matriz formada pela substituição de $ a_{ij} $ por $ a_{ji} $ para todo $ i $ e $ j $ é chamada de *transposta* de $ A $, e denotada $ A' $ ou $ A^{\\top} $.\n",
    "\n",
    "Se $ A = A' $, então $ A $ é chamada de *simétrica*.\n",
    "\n",
    "Para uma matriz quadrada $ A $, os $ i $ elementos da forma $ a_{ii} $ para $ i=1,\\ldots,n $, são chamados de *diagonal principal*.\n",
    "\n",
    "$ A $ é dita *diagonal* se apenas valores não-nulos estiverem na diagonal principal.\n",
    "\n",
    "Se, além de ser diagonal, cada elemento na diagonal principal é igual a 1, então $ A $ é chamada de *matriz identidade*, sendo denotada por $ I $."
   ]
  },
  {
   "cell_type": "markdown",
   "metadata": {},
   "source": [
    "### Operações com Matrizes\n",
    "\n",
    "\n",
    "<a id='index-9'></a>\n",
    "Tal como no caso dos vetores, há um número de operaões algébricas definido para matrizes.\n",
    "\n",
    "Adição e multiplicação por escalar são generalizações imediatas do caso vetorial:\n",
    "\n",
    "$$\n",
    "\\gamma A\n",
    "=\n",
    "\\gamma\n",
    "\\left[\n",
    "\\begin{array}{ccc}\n",
    "    a_{11} &  \\cdots & a_{1k} \\\\\n",
    "    \\vdots & \\vdots  & \\vdots \\\\\n",
    "    a_{n1} &  \\cdots & a_{nk} \\\\\n",
    "\\end{array}\n",
    "\\right]\n",
    ":=\n",
    "\\left[\n",
    "\\begin{array}{ccc}\n",
    "    \\gamma a_{11} & \\cdots & \\gamma a_{1k} \\\\\n",
    "    \\vdots & \\vdots & \\vdots \\\\\n",
    "    \\gamma a_{n1} & \\cdots & \\gamma a_{nk} \\\\\n",
    "\\end{array}\n",
    "\\right]\n",
    "$$\n",
    "\n",
    "e\n",
    "\n",
    "$$\n",
    "A + B =\n",
    "\\left[\n",
    "\\begin{array}{ccc}\n",
    "    a_{11} & \\cdots & a_{1k} \\\\\n",
    "    \\vdots & \\vdots & \\vdots \\\\\n",
    "    a_{n1} & \\cdots & a_{nk} \\\\\n",
    "\\end{array}\n",
    "\\right]\n",
    "+\n",
    "\\left[\n",
    "\\begin{array}{ccc}\n",
    "    b_{11} & \\cdots & b_{1k} \\\\\n",
    "    \\vdots & \\vdots & \\vdots \\\\\n",
    "    b_{n1} & \\cdots & b_{nk} \\\\\n",
    "\\end{array}\n",
    "\\right]\n",
    ":=\n",
    "\\left[\n",
    "\\begin{array}{ccc}\n",
    "    a_{11} + b_{11} &  \\cdots & a_{1k} + b_{1k} \\\\\n",
    "    \\vdots & \\vdots & \\vdots \\\\\n",
    "    a_{n1} + b_{n1} &  \\cdots & a_{nk} + b_{nk} \\\\\n",
    "\\end{array}\n",
    "\\right]\n",
    "$$\n",
    "\n",
    "No último caso, as matrizes devem ter a mesma forma de acordo com a definição para que haja sentido.\n",
    "\n",
    "Também temos uma convenção para *multiplicar* duas matrizes\n",
    "\n",
    "A regra para multiplicação de matrizes generaliza a idéia dos produtos internos (discutidos anteriormente), e foi projetado para fazer a multiplicação funcionar bem com operações lineares básicas.\n",
    "\n",
    "Se $ A $ e $ B $ são duas matrizes, então seu produto $ A B $ é formado obtendo como o $ i,j $-ésimo elemento o produto interno da $ i $-ésima linha de $ A $ e a $ j $-ésima coluna de $ B $.\n",
    "\n",
    "Há vários tutoriais para lhe ajudar a visualisar a operação, como [este](http://www.mathsisfun.com/algebra/matrix-multiplying.html), ou a discussão na [página da Wikipedia](https://en.wikipedia.org/wiki/Matrix_multiplication).\n",
    "\n",
    "Se $ A $ é $ n \\times k $ e $ B $ é $ j \\times m $,então para multiplicar $ A $ e $ B $ nós requerimos $ k = j $, sendo que a a matriz resultante $ A B $ é $ n \\times m $.\n",
    "\n",
    "Como talvez o caso especial mais importante, considere a multiplicação de $ n \\times k $ matrix $ A $ e $ k \\times 1 $ pelo vetor-coluna $ x $.\n",
    "\n",
    "De acordo com a regra anterior, isso nos dá um vetor coluna $ n \\times 1 $.\n",
    "\n",
    "\n",
    "<a id='equation-la-atx'></a>\n",
    "$$\n",
    "A x =\n",
    "\\left[\n",
    "\\begin{array}{ccc}\n",
    "    a_{11} &  \\cdots & a_{1k} \\\\\n",
    "    \\vdots & \\vdots  & \\vdots \\\\\n",
    "    a_{n1} &  \\cdots & a_{nk}\n",
    "\\end{array}\n",
    "\\right]\n",
    "\\left[\n",
    "\\begin{array}{c}\n",
    "    x_{1}  \\\\\n",
    "    \\vdots  \\\\\n",
    "    x_{k}\n",
    "\\end{array}\n",
    "\\right] :=\n",
    "\\left[\n",
    "\\begin{array}{c}\n",
    "    a_{11} x_1 + \\cdots + a_{1k} x_k \\\\\n",
    "    \\vdots \\\\\n",
    "    a_{n1} x_1 + \\cdots + a_{nk} x_k\n",
    "\\end{array}\n",
    "\\right] \\tag{2}\n",
    "$$\n",
    "\n",
    ">**Observação**\n",
    ">\n",
    ">$ A B $ e $ B A $ geralmente, não são a mesma coisa.\n",
    "\n",
    "Outro caso especial da matriz identidade:\n",
    "\n",
    "Você pode checar que, se $ A $ é $ n \\times k $ e $ I $ é $ k \\times k $ a matriz identidade, então $ AI = A $.\n",
    "\n",
    "Se $ I $ é $ n \\times n $ a matriz identidade, então $ IA = A $."
   ]
  },
  {
   "cell_type": "markdown",
   "metadata": {},
   "source": [
    "### Matrizes no Julia\n",
    "\n",
    "Arranjos no Julia podem ser usados como matrizes, tendo funções e métodos rápidos e eficientes para toda e qualquer operação padrão com matrizes.\n",
    "\n",
    "Você também poderá criá-las como a seguir:"
   ]
  },
  {
   "cell_type": "code",
   "execution_count": 14,
   "metadata": {
    "hide-output": false
   },
   "outputs": [
    {
     "data": {
      "text/plain": [
       "2×2 Array{Int64,2}:\n",
       " 1  2\n",
       " 3  4"
      ]
     },
     "execution_count": 14,
     "metadata": {},
     "output_type": "execute_result"
    }
   ],
   "source": [
    "A = [1 2\n",
    "     3 4]"
   ]
  },
  {
   "cell_type": "code",
   "execution_count": 15,
   "metadata": {
    "hide-output": false
   },
   "outputs": [
    {
     "data": {
      "text/plain": [
       "Array{Int64,2}"
      ]
     },
     "execution_count": 15,
     "metadata": {},
     "output_type": "execute_result"
    }
   ],
   "source": [
    "typeof(A)"
   ]
  },
  {
   "cell_type": "code",
   "execution_count": 16,
   "metadata": {
    "hide-output": false
   },
   "outputs": [
    {
     "data": {
      "text/plain": [
       "(2, 2)"
      ]
     },
     "execution_count": 16,
     "metadata": {},
     "output_type": "execute_result"
    }
   ],
   "source": [
    "size(A)"
   ]
  },
  {
   "cell_type": "markdown",
   "metadata": {},
   "source": [
    "A função `size` retorna uma tupla, fornecendo o número de linhas e colunas.\n",
    "\n",
    "Para obter a transposta de `A`, use `transpose(A)` ou, mais facilmente, `A'`.\n",
    "\n",
    "Há muitas funções convenientes para se criar matrizes (matrizes de zero, um, etc.) — veja [aqui](https://lectures.quantecon.org/getting_started_julia/fundamental_types.html#creating-arrays).\n",
    "\n",
    "Como as operações são executadas elemento-a-elemento padronizadamente, a adição e multiplicação por escalar tem uma sintaxe muito natural."
   ]
  },
  {
   "cell_type": "code",
   "execution_count": 17,
   "metadata": {
    "hide-output": false
   },
   "outputs": [
    {
     "data": {
      "text/plain": [
       "3×3 Array{Float64,2}:\n",
       " 1.0  1.0  1.0\n",
       " 1.0  1.0  1.0\n",
       " 1.0  1.0  1.0"
      ]
     },
     "execution_count": 17,
     "metadata": {},
     "output_type": "execute_result"
    }
   ],
   "source": [
    "A = ones(3, 3)"
   ]
  },
  {
   "cell_type": "code",
   "execution_count": 18,
   "metadata": {
    "hide-output": false
   },
   "outputs": [
    {
     "data": {
      "text/plain": [
       "UniformScaling{Int64}\n",
       "2*I"
      ]
     },
     "execution_count": 18,
     "metadata": {},
     "output_type": "execute_result"
    }
   ],
   "source": [
    "2I"
   ]
  },
  {
   "cell_type": "code",
   "execution_count": 19,
   "metadata": {
    "hide-output": false
   },
   "outputs": [
    {
     "data": {
      "text/plain": [
       "3×3 Array{Float64,2}:\n",
       " 2.0  1.0  1.0\n",
       " 1.0  2.0  1.0\n",
       " 1.0  1.0  2.0"
      ]
     },
     "execution_count": 19,
     "metadata": {},
     "output_type": "execute_result"
    }
   ],
   "source": [
    "A + I"
   ]
  },
  {
   "cell_type": "markdown",
   "metadata": {},
   "source": [
    "Para multiplicar matrizes, utilizamos o operador `*`.\n",
    "\n",
    "Particularmente, `A * B` é uma multiplicação matricial, enquanto que `A .* B` é a multiplicação de elemento por elemento.\n",
    "\n",
    "\n",
    "<a id='la-linear-map'></a>"
   ]
  },
  {
   "cell_type": "markdown",
   "metadata": {},
   "source": [
    "### Matrizes como Mapas\n",
    "\n",
    "\n",
    "<a id='index-10'></a>\n",
    "Cada $ n \\times k $ matriz $ A $ pode ser identificada com uma função $ f(x) = Ax $ quqe mapeia $ x \\in \\mathbb R ^k $ dentro de $ y = Ax \\in \\mathbb R ^n $.\n",
    "\n",
    "Esses tipos de funções tem uma propriedade especial: elas são *lineares*.\n",
    "\n",
    "Uma função $ f \\colon \\mathbb R ^k \\to \\mathbb R ^n $ é chamada *linear* se, para todo $ x, y \\in \\mathbb R ^k $ e todos os escalares $ \\alpha, \\beta $, nós tivermos\n",
    "\n",
    "$$\n",
    "f(\\alpha x + \\beta y) = \\alpha f(x) + \\beta f(y)\n",
    "$$\n",
    "\n",
    "Você pode checar se isso permanece para a função $ f(x) = A x + b $ quando $ b $ for o vetor nulo, e se falha quando $ b $ é não-nulo.\n",
    "\n",
    "De fato, é [conhecido](https://en.wikipedia.org/wiki/Linear_map#Matrices) que $ f $ é linear se *e somente se* ali existir uma matriz $ A $ tal que $ f(x) = Ax $ para todo $ x $."
   ]
  },
  {
   "cell_type": "markdown",
   "metadata": {},
   "source": [
    "## Resolvendo Sistemas de Equações\n",
    "\n",
    "\n",
    "<a id='index-11'></a>\n",
    "Recordando o sistema de equações [(1)](#equation-la-se)\n",
    "\n",
    "Se nós compararmos [(1)](#equation-la-se) e [(2)](#equation-la-atx), veremos que [(1)](#equation-la-se) pode agora, ser reescrita como\n",
    "\n",
    "\n",
    "<a id='equation-la-se2'></a>\n",
    "$$\n",
    "y = Ax \\tag{3}\n",
    "$$\n",
    "\n",
    "Temos agora um problema para determinar um vetor $ x \\in \\mathbb R ^k $ que solucione [(3)](#equation-la-se2),tomando $ y $ e $ A $ como dado.\n",
    "\n",
    "Isso é um caso especial de um problema mais genrealizado: encontrar $ x $ tal que $ y = f(x) $.\n",
    "\n",
    "Dando uma função arbitrária $ f $ e um $ y $, sempre haverá $ x $ tal que $ y = f(x) $?\n",
    "\n",
    "Então, é sempre algo único?\n",
    "\n",
    "A próxima figura mostra que a resposta para ambos é negativa."
   ]
  },
  {
   "cell_type": "code",
   "execution_count": 20,
   "metadata": {
    "hide-output": false,
    "html-class": "collapse"
   },
   "outputs": [
    {
     "data": {
      "image/png": "[encoded data removed]"
     },
     "execution_count": 20,
     "metadata": {},
     "output_type": "execute_result"
    }
   ],
   "source": [
    "f(x) = 0.6cos(4x) + 1.3\n",
    "grid = range(-2, 2, length = 100)\n",
    "y_min, y_max = extrema( f(x) for x in grid )\n",
    "plt1 = plot(f, xlim = (-2, 2), label = \"f\")\n",
    "hline!(plt1, [f(0.5)], linestyle = :dot, linewidth = 2, label = \"\")\n",
    "vline!(plt1, [-1.07, -0.5, 0.5, 1.07], linestyle = :dot, linewidth = 2, label = \"\")\n",
    "plot!(plt1, fill(0, 2), [y_min y_min; y_max y_max], lw = 3, color = :blue,\n",
    "      label = [\"range of f\" \"\"])\n",
    "plt2 = plot(f, xlim = (-2, 2), label = \"f\")\n",
    "hline!(plt2, [2], linestyle = :dot, linewidth = 2, label = \"\")\n",
    "plot!(plt2, fill(0, 2), [y_min y_min; y_max y_max], lw = 3, color = :blue,\n",
    "      label = [\"range of f\" \"\"])\n",
    "plot(plt1, plt2, layout = (2, 1), ylim = (0, 3.5))"
   ]
  },
  {
   "cell_type": "markdown",
   "metadata": {},
   "source": [
    "No primeiro plot há várias soluções, como a função que não é individual, enquanto no segundo não há soluções, desde que $ y $ esteja fora do alcance de $ f $.\n",
    "\n",
    "Podemos nós impor condições para $ A $ em [(3)](#equation-la-se2) que descartem esses problemas?\n",
    "\n",
    "Nesse contexto, a coisa mais importante a se saber sobre a expressão $ Ax $ é que ela corresponde a uma combinação linear de colunas de $ A $.\n",
    "\n",
    "Particularmente, se $ a_1, \\ldots, a_k $ são as colunas de $ A $, então\n",
    "\n",
    "$$\n",
    "Ax = x_1 a_1 + \\cdots + x_k a_k\n",
    "$$\n",
    "\n",
    "Consequentemente, o alcance de $ f(x) = Ax $ é exatamente o espaço das colunas de $ A $.\n",
    "\n",
    "Nós queremos que o alcance seja largo, para que ele contenha, arbitrariamente, $ y $.\n",
    "\n",
    "Como você deve lembrar, a condição que nós queremos para que o espaço seja largo é a [independência linear](#la-li).\n",
    "\n",
    "Um fato bom é que a independência linear das colunas de $ A $ também nos dá uma unicidade.\n",
    "\n",
    "De fato, seguindo nossa [discussão inicial](#la-unique-reps) que, se $ \\{a_1, \\ldots, a_k\\} $ for linearmente independente e $ y = Ax = x_1 a_1 + \\cdots + x_k a_k $,então $ z \\not= x $ não satisfaz $ y = Az $."
   ]
  },
  {
   "cell_type": "markdown",
   "metadata": {},
   "source": [
    "### O caso $ n \\times n $\n",
    "\n",
    "Vamos discutir mais alguns detalhes, começando com o caso onde $ A $ é $ n \\times n $.\n",
    "\n",
    "Isso é o caso familiar onde o número de incógnitas iguala o número de equações.\n",
    "\n",
    "Pela arbitrária $ y \\in \\mathbb R ^n $, esperamos encontrar uma única $ x \\in \\mathbb R ^n $ tal que $ y = Ax $.\n",
    "\n",
    "Pelas observações acima, se as colunas de $ A $ são linarmente independentes, então seu espaço, e consequentemente o alcance de $ f(x) = Ax $, é todo $ \\mathbb R ^n $.\n",
    "\n",
    "Consequência de que sempre exista um $ x $ tal que $ y = Ax $.\n",
    "\n",
    "Além disso, a solução é única.\n",
    "\n",
    "Particularmente, os seguintes são equivalentes:\n",
    "\n",
    "1. As colunas de $ A $ são linearmente independentes; e  \n",
    "2. Para qualquer $ y \\in \\mathbb R ^n $, a equação $ y = Ax $ tem uma solução única.  \n",
    "\n",
    "\n",
    "A propriedade de existência das colunas linearmente independentes é expressa, as vezes, como *coluna de posto pleno*."
   ]
  },
  {
   "cell_type": "markdown",
   "metadata": {},
   "source": [
    "#### Matrizes Inversas\n",
    "\n",
    "\n",
    "<a id='index-12'></a>\n",
    "\n",
    "Podemos dar algum tipo de expressão para a solução?\n",
    "\n",
    "Se $ y $ e $ A $ são escalares com $ A \\not= 0 $, então a solução é $ x = A^{-1} y $.\n",
    "\n",
    "Uma expressão similar está disponível no caso matricial.\n",
    "\n",
    "Particularmente, se uma matriz quadrada $ A $ tem posto pleno, então ela possui um multiplicador de *matriz inversa* $ A^{-1} $, com a devida propriedade: $ A A^{-1} = A^{-1} A = I $.\n",
    "\n",
    "Como consequencia, se nós pré-multiplicarmos ambos os lados de $ y = Ax $ por $ A^{-1} $, teremos $ x = A^{-1} y $.\n",
    "\n",
    "Essa é a solução pela qual estávamos procurando."
   ]
  },
  {
   "cell_type": "markdown",
   "metadata": {},
   "source": [
    "#### Determinantes\n",
    "\n",
    "\n",
    "<a id='index-13'></a>\n",
    "\n",
    "Outro comentário rápido sobre matrizes quadradas é que para cada matriz, nós atribuímos um número único chamado de *determinante* da matriz — para isso, você poderá encontrar a expressão [aqui](https://en.wikipedia.org/wiki/Determinant)\n",
    "\n",
    "Se o determinante de $ A $ é não-nulo, então nós dizemos que $ A $ é *não-singular.*\n",
    "\n",
    "Talvez o fato mais importante sobre determinantes é que $ A $ é não-singular se e somente se $ A $ for matriz de posto pleno.\n",
    "\n",
    "Isso nos dá um resumo útil de um número se uma matriz quadrada pode ou não ser invertida."
   ]
  },
  {
   "cell_type": "markdown",
   "metadata": {},
   "source": [
    "### Mais linhas que colunas\n",
    "\n",
    "Isso é o caso $ n \\times k $ com $ n > k $.\n",
    "\n",
    "Esse caso é muito importante em muitos ajustes, não menos no campo da regressão linear (onde $ n $ é o número de observações, e $ k $ é o número de variáveis explanatórias).\n",
    "\n",
    "Dando arbitrariamente $ y \\in \\mathbb R ^n $, nós procuramos uma $ x \\in \\mathbb R ^k $ tal que $ y = Ax $.\n",
    "\n",
    "Nessa configuração, a existência de uma solução é altamente incerta.\n",
    "\n",
    "Sem muita perda de generalidade, vamos passar a intuição focando no caso onde as colunas de $ A $ são linearmente independentes.\n",
    "\n",
    "Segue-se que o espaço das colunas de $ A $ é um subespaço $ k $-dimensional de $ \\mathbb R ^n $.\n",
    "\n",
    "Nesse espaço, arbitrariamente é muito \"improvável\" $ y \\in \\mathbb R ^n $.\n",
    "\n",
    "Para ver porquê, relembre-se da [figura acima](#la-3dvec), onde $ k=2 $ e $ n=3 $.\n",
    "\n",
    "Imagine uma escolha arbitrária $ y \\in \\mathbb R ^3 $, localizada em algum lugar do espaço tridimensional (R3).\n",
    "\n",
    "Qual a verossimilhança de $ y $ que se encontra no espaço de $ \\{a_1, a_2\\} $ (isto é, o plano bidimensional através destes pontos)?\n",
    "\n",
    "De certo sentido, deve ser muito pequeno, desde que esse plano tenha “espessura” nula.\n",
    "\n",
    "Como resultado, no caso $ n > k $, usualmente nós desistimos da existência.\n",
    "\n",
    "Porém, podemos ainda buscar uma melhor aproximação, por exemplo $ x $ que faz a distância $ \\| y - Ax\\| $ tão pequena quanto possível.\n",
    "\n",
    "Para solucionar esse problema, pode se usar qualquer cálculo ou o teorema da projeção ortogonal. \n",
    "\n",
    "A solução é conhecida por ser $ \\hat x = (A'A)^{-1}A'y $ — veja por exemplo o capítulo 3 <a href=/_static/pdfs/course_notes.pdf download>destas notas</a>."
   ]
  },
  {
   "cell_type": "markdown",
   "metadata": {},
   "source": [
    "### Mais colunas que linhas\n",
    "\n",
    "Esse é o caso $ n \\times k $ with $ n < k $, então há menos equações que incógnitas.\n",
    "\n",
    "Nesse caso, não exixtem soluções — em outras palavras, a unicidade nunca persiste.\n",
    "\n",
    "Por exemplo, considere o caso onde $ k=3 $ e $ n=2 $.\n",
    "\n",
    "Portanto, as colunas de $ A $ consistem em 3 vetores em $ \\mathbb R ^2 $.\n",
    "\n",
    "Esse conjunto jamais pode ser linearmente independente, desde que seja possível encontrar dois vetores que abranjam $ \\mathbb R ^2 $ (ex.: use os vetores da base canônica).\n",
    "\n",
    "Segue-se que uma coluna é uma combinação linear de outras duas.\n",
    "\n",
    "Por exemplo, digamos que $ a_1 = \\alpha a_2 + \\beta a_3 $\n",
    "\n",
    "Então, se $ y = Ax = x_1 a_1 + x_2 a_2 + x_3 a_3 $, podemos também escrever:\n",
    "\n",
    "$$\n",
    "y\n",
    "= x_1 (\\alpha a_2 + \\beta a_3) + x_2 a_2 + x_3 a_3\n",
    "= (x_1 \\alpha + x_2) a_2 + (x_1 \\beta + x_3) a_3\n",
    "$$\n",
    "\n",
    "Em outras palavras, a desigualdade falha."
   ]
  },
  {
   "cell_type": "markdown",
   "metadata": {},
   "source": [
    "### Equações Lineares com Julia\n",
    "\n",
    "Aqui está uma ilustração de como resolver equações lineares com as facilidades do Julia para Álgebra Linear:"
   ]
  },
  {
   "cell_type": "code",
   "execution_count": 21,
   "metadata": {
    "hide-output": false
   },
   "outputs": [],
   "source": [
    "A = [1.0 2.0; 3.0 4.0];"
   ]
  },
  {
   "cell_type": "code",
   "execution_count": 22,
   "metadata": {
    "hide-output": false
   },
   "outputs": [],
   "source": [
    "y = ones(2, 1);  # Um vetor coluna"
   ]
  },
  {
   "cell_type": "code",
   "execution_count": 23,
   "metadata": {
    "hide-output": false
   },
   "outputs": [
    {
     "data": {
      "text/plain": [
       "-2.0"
      ]
     },
     "execution_count": 23,
     "metadata": {},
     "output_type": "execute_result"
    }
   ],
   "source": [
    "det(A)"
   ]
  },
  {
   "cell_type": "code",
   "execution_count": 24,
   "metadata": {
    "hide-output": false
   },
   "outputs": [
    {
     "data": {
      "text/plain": [
       "2×2 Array{Float64,2}:\n",
       " -2.0   1.0\n",
       "  1.5  -0.5"
      ]
     },
     "execution_count": 24,
     "metadata": {},
     "output_type": "execute_result"
    }
   ],
   "source": [
    "A_inv = inv(A)"
   ]
  },
  {
   "cell_type": "code",
   "execution_count": 25,
   "metadata": {
    "hide-output": false
   },
   "outputs": [
    {
     "data": {
      "text/plain": [
       "2×1 Array{Float64,2}:\n",
       " -0.9999999999999998\n",
       "  0.9999999999999999"
      ]
     },
     "execution_count": 25,
     "metadata": {},
     "output_type": "execute_result"
    }
   ],
   "source": [
    "x = A_inv * y  # solução"
   ]
  },
  {
   "cell_type": "code",
   "execution_count": 27,
   "metadata": {
    "hide-output": false
   },
   "outputs": [
    {
     "data": {
      "text/plain": [
       "2×1 Array{Float64,2}:\n",
       " 1.0               \n",
       " 1.0000000000000004"
      ]
     },
     "execution_count": 27,
     "metadata": {},
     "output_type": "execute_result"
    }
   ],
   "source": [
    "A * x  # deve ser igual a y (um vetor de 1's)"
   ]
  },
  {
   "cell_type": "code",
   "execution_count": 26,
   "metadata": {
    "hide-output": false
   },
   "outputs": [
    {
     "data": {
      "text/plain": [
       "2×1 Array{Float64,2}:\n",
       " -1.0\n",
       "  1.0"
      ]
     },
     "execution_count": 26,
     "metadata": {},
     "output_type": "execute_result"
    }
   ],
   "source": [
    "A \\ y  # produz a mesma solução"
   ]
  },
  {
   "cell_type": "markdown",
   "metadata": {},
   "source": [
    "Observe como podemos resolver $ x = A ^ {- 1} y $ usando `inv (A) * y` ou usando `A \\ y`.\n",
    "\n",
    "O último método é preferido porque seleciona automaticamente o melhor algoritmo para o problema com base nos tipos de `A` e `y`.\n",
    "\n",
    "Se `A` não for quadrado,`A \\ y` retornará a solução de mínimos quadrados $ \\hat x = (A'A) ^ {- 1} A'y $.\n",
    "\n",
    "\n",
    "<a id='la-eigen'> </a>"
   ]
  },
  {
   "cell_type": "markdown",
   "metadata": {},
   "source": [
    "## Autovalores e Autovetores\n",
    "\n",
    "\n",
    "<a id='index-17'></a>\n",
    "\n",
    "Seja $ A $ uma matriz quadrada $ n \\times n $.\n",
    "\n",
    "Se $ \\lambda $ é escalar e $ v $ é um vetore não-nulo em $ \\mathbb R ^n $ tal que\n",
    "\n",
    "$$\n",
    "A v = \\lambda v\n",
    "$$\n",
    "\n",
    "então dizemos que $ \\lambda $ é um *autovalor* de $ A $, e $ v $ é um *autovetor*.\n",
    "\n",
    "Portanto, um autovetor de $ A $ é um vetor tal que quando o mapa $ f(x) = Ax $ é aplicado, $ v $ é meramente escalar.\n",
    "\n",
    "A próxima figura mostra dois autovetores (flechas azuis) e suas imagens sob $ A $ (flechas vermelhas).\n",
    "\n",
    "Como esperado, a imagem $ Av $ de cada $ v $ é apenas a versão escalar do original:"
   ]
  },
  {
   "cell_type": "code",
   "execution_count": 28,
   "metadata": {
    "hide-output": false,
    "html-class": "collapse"
   },
   "outputs": [
    {
     "data": {
      "image/png": "[encoded data removed]"
     },
     "execution_count": 28,
     "metadata": {},
     "output_type": "execute_result"
    }
   ],
   "source": [
    "A = [1 2\n",
    "     2 1]\n",
    "evals, evecs = eigen(A)\n",
    "\n",
    "a1, a2 = evals\n",
    "eig_1 = [0 0; evecs[:,1]']\n",
    "eig_2 = [0 0; evecs[:,2]']\n",
    "x = range(-5, 5, length = 10)\n",
    "y = -x\n",
    "\n",
    "plot(eig_1[:, 2], a1 * eig_2[:, 2], arrow = true, color = :red,\n",
    "     legend = :none, xlims = (-3, 3), ylims = (-3, 3), xticks = -3:3, yticks = -3:3,\n",
    "     framestyle = :origin)\n",
    "plot!(a2 * eig_1[:, 2], a2 * eig_2, arrow = true, color = :red)\n",
    "plot!(eig_1, eig_2, arrow = true, color = :blue)\n",
    "plot!(x, y, color = :blue, lw = 0.4, alpha = 0.6)\n",
    "plot!(x, x, color = :blue, lw = 0.4, alpha = 0.6)"
   ]
  },
  {
   "cell_type": "markdown",
   "metadata": {},
   "source": [
    "A equação do autovalor é equivalente a $ (A - \\lambda I) v = 0 $, e isso tem uma solução não-nula $ v $ somente quando as colunas de $ A - \\lambda I $ são linearmente dependentes.\n",
    "\n",
    "Isso é equivalente a afirmar que o determinante é zero.\n",
    "\n",
    "A partír daí, para encontrar todos os autovalores, nós podemos procurar por $ \\lambda $ tal que o determinante de $ A - \\lambda I $ seja zero.\n",
    "\n",
    "Esse problema pode ser expresso como um de resolver para as raízes de um polinômio em $ \\lambda $ de grau $ n $.\n",
    "\n",
    "Isso por sua vez, implica a existência de $ n $ soluções no plano complexo, apesar de que alguns devem se repetir.\n",
    "\n",
    "Alguns fatos sobre autovalores de uma matriz quadrada $ A $:\n",
    "\n",
    "1. O determinante de $ A $ iguala o produto dos autovalores;  \n",
    "2. O traço de $ A $ (a soma dos elementos da diagonal principal) é igual a soma dos autovalores;  \n",
    "3. Se $ A $ é simétrica, então todos os autovalores são reais, e  \n",
    "4. Se $ A $ é inversível e $ \\lambda_1, \\ldots, \\lambda_n $ são seus autovalores, então os autovalores de $ A^{-1} $ são $ 1/\\lambda_1, \\ldots, 1/\\lambda_n $.\n",
    "\n",
    "\n",
    "Um corolário da primeira afirmação é que uma matriz é inversível se os seus autovalores são não-nulos.\n",
    "\n",
    "Usando Julia, podemos resolver os autovalores e autovetores de uma matriz, como se segue:"
   ]
  },
  {
   "cell_type": "code",
   "execution_count": 29,
   "metadata": {
    "hide-output": false
   },
   "outputs": [],
   "source": [
    "A = [1.0 2.0; 2.0 1.0];"
   ]
  },
  {
   "cell_type": "code",
   "execution_count": 30,
   "metadata": {
    "hide-output": false
   },
   "outputs": [],
   "source": [
    "evals, evecs = eigen(A);"
   ]
  },
  {
   "cell_type": "code",
   "execution_count": 31,
   "metadata": {
    "hide-output": false
   },
   "outputs": [
    {
     "data": {
      "text/plain": [
       "2-element Array{Float64,1}:\n",
       " -1.0\n",
       "  3.0"
      ]
     },
     "execution_count": 31,
     "metadata": {},
     "output_type": "execute_result"
    }
   ],
   "source": [
    "evals"
   ]
  },
  {
   "cell_type": "code",
   "execution_count": 32,
   "metadata": {
    "hide-output": false
   },
   "outputs": [
    {
     "data": {
      "text/plain": [
       "2×2 Array{Float64,2}:\n",
       " -0.707107  0.707107\n",
       "  0.707107  0.707107"
      ]
     },
     "execution_count": 32,
     "metadata": {},
     "output_type": "execute_result"
    }
   ],
   "source": [
    "evecs"
   ]
  },
  {
   "cell_type": "markdown",
   "metadata": {},
   "source": [
    "Note que as *colunas* de `evecs` são os autovetores.\n",
    "\n",
    "Desde que qualquer múltiplo escalar de um autovetor seja um autovetor com o mesmo autovalor (check it), a auto rotina normaliza o comprimento de cada autovetor."
   ]
  },
  {
   "cell_type": "markdown",
   "metadata": {},
   "source": [
    "### Autovalores generalizados\n",
    "\n",
    "É útil algumas vezes considerar o *problema do autovalor generalizado*, que para as dadas matrizes $ A $ e $ B $, busca autovalores generalizados $ \\lambda $ e autovetores $ v $ tais que:\n",
    "\n",
    "$$\n",
    "A v = \\lambda B v\n",
    "$$\n",
    "\n",
    "Isso pode ser solucionado no Julia via `eigen(A, B)`.\n",
    "\n",
    "É claro, se $ B $ é quadrada e inversível, então nós podemos tratar o problema do autovalor generalizado como um problema de autovalor comum $ B^{-1}A v = \\lambda v $, apesar deste não ser o caso de sempre."
   ]
  },
  {
   "cell_type": "markdown",
   "metadata": {},
   "source": [
    "## Tópicos Adicionais\n",
    "\n",
    "Nós completamos nossa discussão pela breve menção de vários outros tópicos."
   ]
  },
  {
   "cell_type": "markdown",
   "metadata": {},
   "source": [
    "### Expansão em séries\n",
    "\n",
    "\n",
    "<a id='index-18'></a>\n",
    "Relembre da fórmula de somatório útil para uma progressão geométrica, enquanto afirma que se $ |a| < 1 $, então $ \\sum_{k=0}^{\\infty} a^k = (1 - a)^{-1} $.\n",
    "\n",
    "Uma generalização dessa idéia também existe nas configurações de uma matriz.\n",
    "\n",
    "\n",
    "<a id='la-mn'></a>"
   ]
  },
  {
   "cell_type": "markdown",
   "metadata": {},
   "source": [
    "#### Normas matriciais\n",
    "\n",
    "\n",
    "<a id='index-19'></a>\n",
    "Seja $ A $ uma matriz quadrada, e seja\n",
    "\n",
    "$$\n",
    "\\| A \\| := \\max_{\\| x \\| = 1} \\| A x \\|\n",
    "$$\n",
    "\n",
    "As normas do lado direito são normas vetoriais comuns, enquanto as normas no lado esquerdo são *normas matriciais* — nesse caso, chamadas de *normas espectrais*.\n",
    "\n",
    "Por exemplo, para uma matriz quadrada $ S $, a condição $ \\| S \\| < 1 $ significa que $ S $ é *contrativa*, no sentido de que empurra todos os vetores para a origem <sup><a href=#cfn id=cfn-link>[1]</a></sup>.\n",
    "\n",
    "\n",
    "<a id='la-neumann'></a>"
   ]
  },
  {
   "cell_type": "markdown",
   "metadata": {},
   "source": [
    "#### Teorema de Neumann\n",
    "\n",
    "\n",
    "<a id='index-21'></a>\n",
    "Seja $ A $ uma matriz quadrada e $ A^k := A A^{k-1} $ com $ A^1 := A $.\n",
    "\n",
    "Em outras palavras, $ A^k $ é o $ k $-ésimo poder de $ A $.\n",
    "\n",
    "O teorema de Neumann afirma que: se $ \\| A^k \\| < 1 $ para algum $ k \\in \\mathbb{N} $, então $ I - A $ é inversível, e\n",
    "\n",
    "\n",
    "<a id='equation-la-neumann'></a>\n",
    "$$\n",
    "(I - A)^{-1} = \\sum_{k=0}^{\\infty} A^k \\tag{4}\n",
    "$$\n",
    "\n",
    "\n",
    "<a id='la-neumann-remarks'></a>"
   ]
  },
  {
   "cell_type": "markdown",
   "metadata": {},
   "source": [
    "#### Raio Espectral\n",
    "\n",
    "\n",
    "<a id='index-23'></a>\n",
    "Um resultado conhecido como fórmula de Gelfand nos diz que, para qualquer matriz quadrada $ A $,\n",
    "\n",
    "$$\n",
    "\\rho(A) = \\lim_{k \\to \\infty} \\| A^k \\|^{1/k}\n",
    "$$\n",
    "\n",
    "Aqui $ \\rho(A) $ é o *raio espectral*, definido como $ \\max_i |\\lambda_i| $, onde $ \\{\\lambda_i\\}_i $ é o conjunto de autovalores de $ A $.\n",
    "\n",
    "Como consequência da fórmula de Gelfand, se todos os autovalores são estritamente menores que um no módulo, então existe $ k $ com $ \\| A^k \\| < 1 $.\n",
    "\n",
    "Em todo caso, [(4)](#equation-la-neumann) é válido."
   ]
  },
  {
   "cell_type": "markdown",
   "metadata": {},
   "source": [
    "### Matrizes Positivas Definidas\n",
    "\n",
    "\n",
    "<a id='index-25'></a>\n",
    "Seja $ A $ uma matriz simétrica $ n \\times n $.\n",
    "\n",
    "Nós dizemos que $ A $ é\n",
    "\n",
    "1. *Positiva definida* se $ x' A x > 0 $ para cada $ x \\in \\mathbb R ^n \\setminus \\{0\\} $, e  \n",
    "2. *Positiva semi-definida* or *definida não-negativa* se $ x' A x \\geq 0 $ para cada $ x \\in \\mathbb R ^n $  .\n",
    "\n",
    "\n",
    "Definições análogas existem para matrizes negativas definidas ou semi-definidas.\n",
    "\n",
    "É notável que se $ A $ é positiva definida, então todos os autovalores são estritamente positivos, sendo $ A $ inversível (com inversa definida positiva).\n",
    "\n",
    "\n",
    "<a id='la-mcalc'></a>"
   ]
  },
  {
   "cell_type": "markdown",
   "metadata": {},
   "source": [
    "### Diferenciação Linear e Formas Quadráticas\n",
    "\n",
    "\n",
    "<a id='index-26'></a>\n",
    "As fórmulas seguintes são úteis em muitos contextos econômicos. Seja\n",
    "\n",
    "- $ z, x $ e $ a $ vetores $ n \\times 1 $;  \n",
    "- $ A $ seja uma matriz $ n  \\times n $, e  \n",
    "- $ B $ seja uma matriz $ m \\times n $ e $ y $ seja um vetor $ m  \\times 1 $.\n",
    "\n",
    "\n",
    "Então:\n",
    "\n",
    "1. $ \\frac{\\partial a' x}{\\partial x} = a $  \n",
    "2. $ \\frac{\\partial A x}{\\partial x} = A' $  \n",
    "3. $ \\frac{\\partial x'A x}{\\partial x} = (A + A') x $  \n",
    "4. $ \\frac{\\partial y'B z}{\\partial y} = B z $  \n",
    "5. $ \\frac{\\partial y'B z}{\\partial B} = y z' $  \n",
    "\n",
    "\n",
    "O exercício 1 abaixo pede que você aplique essas fórmulas."
   ]
  },
  {
   "cell_type": "markdown",
   "metadata": {},
   "source": [
    "### Leituras adicionais\n",
    "\n",
    "A documentação das caractrísticas da álgebra linear construídas no Julia podem ser encontradas [aqui](https://docs.julialang.org/en/stable/manual/linear-algebra/).\n",
    "\n",
    "Os capítulos 2 e 3 de [Econometric Theory](http://www.johnstachurski.net/emet.html) contém uma discussão da álgebra linear seguindo as mesmas linhas acima, com exercícios resolvidos.\n",
    "\n",
    "Se você não se importa com uma abordagem um pouco abstrata, um bom texto intermediário de álgebra linear é [[Janich94]](https://lectures.quantecon.org/zreferences.html#janich1994)."
   ]
  },
  {
   "cell_type": "markdown",
   "metadata": {},
   "source": [
    "## Exercícios"
   ]
  },
  {
   "cell_type": "markdown",
   "metadata": {},
   "source": [
    "### Exercício 1\n",
    "\n",
    "Seja $ x $ um $ n \\times 1 $ vetor, e considere o problema\n",
    "\n",
    "$$\n",
    "v(x) =  \\max_{y,u} \\left\\{ - y'P y - u' Q u \\right\\}\n",
    "$$\n",
    "\n",
    "sujeito à restrição linear\n",
    "\n",
    "$$\n",
    "y = A x + B u\n",
    "$$\n",
    "\n",
    "Aqui:\n",
    "\n",
    "- $ P $ é uma matriz $ n \\times n $ e $ Q $ é outra matriz $ m \\times m $;  \n",
    "- $ A $ é uma matriz $ n \\times n $ e $ B $ é outra matriz $ n \\times m $, e  \n",
    "- ambas $ P $ e $ Q $são matrizes simétricas, positivas e semidefinidas.  \n",
    "\n",
    "\n",
    "(Qual deve ser a dimensão de $ y $ e $ u $ para tornar este um problema bem colocado?)\n",
    "\n",
    "Uma das formas de resolver este problema é por meio do Lagrangiano:\n",
    "\n",
    "$$\n",
    "\\mathcal L = - y' P y - u' Q u + \\lambda' \\left[A x + B u - y\\right]\n",
    "$$\n",
    "\n",
    "onde $ \\lambda $ é um vetor $ n \\times 1 $ de multiplicadores de Lagrange.\n",
    "\n",
    "Tente aplicar as fórmulas dadas acima por diferenciação quadrática e formas lineares para obter as condições de primeira ordem e maximizar $ \\mathcal L $ com respeito à $ y, u $ e minimizá-la com respeito à $ \\lambda $.\n",
    "\n",
    "Mostre que essas condições implicam que\n",
    "\n",
    "1. $ \\lambda = - 2 P y $  \n",
    "2. A escolha ótima de $ u $ satisfaz $ u = - (Q + B' P B)^{-1} B' P A x $  \n",
    "3. A função $ v $ satisfaz $ v(x) = - x' \\tilde P x $ onde $ \\tilde P = A' P A - A'P B (Q + B'P B)^{-1} B' P A $  \n",
    "\n",
    "\n",
    "Como nós veremos, no contexto econômico, os multiplicadores de Lagrange se aplicam aos preços-sombra.\n",
    "\n",
    ">**Observação**\n",
    ">\n",
    ">Se nós não se importarmos com os multiplicadores de Lagrange, nós podemos substituir a restrição na função objetivo,e então apenas maximizar $ -(Ax + Bu)'P (Ax + Bu) - u' Q u $ com respeito à $ u $.  VocÊ pode veriicar que isso lhe direciona ao mesmo maximizador."
   ]
  },
  {
   "cell_type": "markdown",
   "metadata": {},
   "source": [
    "## Soluções\n",
    "\n",
    "Grato a [Willem Hekman](https://qutech.nl/person/willem-hekman/) e Guanlong Ren por providenciar essa solução."
   ]
  },
  {
   "cell_type": "markdown",
   "metadata": {},
   "source": [
    "### Exercício 1\n",
    "\n",
    "Nós temos um problema de otimização:\n",
    "\n",
    "$$\n",
    "v(x) = \\max_{y,u} \\{ -y'Py - u'Qu \\}\n",
    "$$\n",
    "\n",
    "s.t.\n",
    "\n",
    "$$\n",
    "y = Ax + Bu\n",
    "$$\n",
    "\n",
    "com primitivos:\n",
    "\n",
    "- $ P $ seja uma matriz simétrica positiva e semi-definida $ n \\times n $;  \n",
    "- $ Q $ seja uma matriz simétrica positiva e semi-definida $ m \\times m $;\n",
    "- $ A $ uma matriz $ n \\times n $, e  \n",
    "- $ B $ uma matriz $ n \\times m $.  \n",
    "\n",
    "\n",
    "O Lagrangeano associado é :\n",
    "\n",
    "$$\n",
    "L = -y'Py - u'Qu + \\lambda' \\lbrack Ax + Bu - y \\rbrack\n",
    "$$"
   ]
  },
  {
   "cell_type": "markdown",
   "metadata": {},
   "source": [
    "#### 1.\n",
    "\n",
    "Diferenciando o Lagrangeano em relação a y e igualando a equação à zero, temos:\n",
    "\n",
    "$$\n",
    "\\frac{ \\partial L}{\\partial y} = - (P + P') y - \\lambda = - 2 P y - \\lambda = 0 \\:,\n",
    "$$\n",
    "\n",
    "desde que P seja simétrica.\n",
    "\n",
    "Portanto, a condição de primeira ordem para maximizar L em relação a y implica que:\n",
    "\n",
    "$$\n",
    "\\lambda = -2 Py \\:.\n",
    "$$"
   ]
  },
  {
   "cell_type": "markdown",
   "metadata": {},
   "source": [
    "#### 2.\n",
    "\n",
    "Diferenciando o Lagrangeano com relação a u e igualando a equação à zero, temos\n",
    "\n",
    "$$\n",
    "\\frac{ \\partial L}{\\partial u} = - (Q + Q') u - B'\\lambda = - 2Qu + B'\\lambda = 0 \\:.\n",
    "$$\n",
    "\n",
    "Substituíndo $ \\lambda = -2 P y $ tem-se:\n",
    "\n",
    "$$\n",
    "Qu + B'Py = 0 \\:.\n",
    "$$\n",
    "\n",
    "Substituíndo a restrição linear $ y = Ax + Bu $ na equação acima, temos:\n",
    "\n",
    "$$\n",
    "Qu + B'P(Ax + Bu) = 0\n",
    "$$\n",
    "\n",
    "$$\n",
    "(Q + B'PB)u + B'PAx = 0\n",
    "$$\n",
    "\n",
    "que são as condições de primeira ordem para maximizar L em relação a u.\n",
    "\n",
    "Assim, a escolha ótima de u deve satisfazer:\n",
    "\n",
    "$$\n",
    "u = -(Q + B'PB)^{-1}B'PAx \\:,\n",
    "$$\n",
    "\n",
    "que se segue da definição de condições de primeira ordem dos multiplicadores de Lagrange."
   ]
  },
  {
   "cell_type": "markdown",
   "metadata": {},
   "source": [
    "#### 3.\n",
    "\n",
    "Reescrevendo nosso problema via substituição na função-objetivo, temos\n",
    "\n",
    "$$\n",
    "v(x) = \\max_{u} \\{ -(Ax+ Bu)'P(Ax+Bu) - u'Qu \\} \\:.\n",
    "$$\n",
    "\n",
    "Já que sabemos que a escolha ótima de u satisfaz \\$ u = -(Q + B’PB)^{-1}B’PAx \\$, então\n",
    "\n",
    "$$\n",
    "v(x) =  -(Ax+ B u)'P(Ax+B u) - u'Q u  \\,\\,\\,\\, with \\,\\,\\,\\, u = -(Q + B'PB)^{-1}B'PAx\n",
    "$$\n",
    "\n",
    "Para avaliar a função:\n",
    "\n",
    "$$\n",
    "\\begin{align}\n",
    "v(x) &=  -(Ax+ B u)'P(Ax+Bu) - u'Q u \\\\\n",
    "&= -(x'A' + u'B')P(Ax+Bu) - u'Q u \\\\\n",
    "&= - x'A'PAx - u'B'PAx - x'A'PBu - u'B'PBu - u'Qu \\\\\n",
    "&= - x'A'PAx - 2u'B'PAx - u'(Q + B'PB) u\n",
    "\\end{align}\n",
    "$$\n",
    "\n",
    "Para simplificar, denote por $ S := (Q + B'PB)^{-1} B'PA $, assim \\$ u = -Sx\\$.\n",
    "\n",
    "A respeito do segundo termo $ - 2u'B'PAx $,\n",
    "\n",
    "$$\n",
    "\\begin{align}\n",
    "- 2u'B'PAx &= -2 x'S'B'PAx  \\\\\n",
    "& = 2 x'A'PB( Q + B'PB)^{-1} B'PAx\n",
    "\\end{align}\n",
    "$$\n",
    "\n",
    "Note que o termo $ (Q + B'PB)^{-1} $ é tão simétrico quanto ambos P and Q.\n",
    "\n",
    "Em relação ao terceiro termo $ - u'(Q + B'PB) u $,\n",
    "\n",
    "$$\n",
    "\\begin{align}\n",
    "- u'(Q + B'PB) u &= - x'S' (Q + B'PB)Sx \\\\\n",
    "&= -x'A'PB(Q + B'PB)^{-1}B'PAx\n",
    "\\end{align}\n",
    "$$\n",
    "\n",
    "Por consequência, a soma dos segundo e terceiro termos é $ x'A'PB(Q + B'PB)^{-1}B'PAx $.\n",
    "\n",
    "Isso implica que\n",
    "\n",
    "$$\n",
    "\\begin{align}\n",
    " v(x) &= - x'A'PAx - 2u'B'PAx - u'(Q + B'PB) u\\\\\n",
    " &= - x'A'PAx + x'A'PB(Q + B'PB)^{-1}B'PAx \\\\\n",
    " &= -x'[A'PA - A'PB(Q + B'PB)^{-1}B'PA] x\n",
    "\\end{align}\n",
    "$$\n",
    "\n",
    "Portanto, a solução para o problema de otimização $ v(x) = -x' \\tilde{P}x $ segue o resultado acima, denotado por $ \\tilde{P} := A'PA - A'PB(Q + B'PB)^{-1}B'PA $."
   ]
  },
  {
   "cell_type": "markdown",
   "metadata": {},
   "source": [
    "**Rodapé**\n",
    "\n",
    "<p><a id=cfn href=#cfn-link><strong>[1]</strong></a> Suponha que $ \\|S \\| < 1 $. Pegue um vetor não-nulo $ x $, e faça $ r := \\|x\\| $. Nós teremos $ \\| Sx \\| = r \\| S (x/r) \\| \\leq r \\| S \\| < r = \\| x\\| $. Assim, cada ponto será empurrado para a origem."
   ]
  }
 ],
 "metadata": {
  "filename": "linear_algebra.rst",
  "kernelspec": {
   "display_name": "Julia 1.3.1",
   "language": "julia",
   "name": "julia-1.3"
  },
  "language_info": {
   "file_extension": ".jl",
   "mimetype": "application/julia",
   "name": "julia",
   "version": "1.3.1"
  },
  "title": "Linear Algebra"
 },
 "nbformat": 4,
 "nbformat_minor": 2
}
