{
 "cells": [
  {
   "cell_type": "markdown",
   "metadata": {},
   "source": [
    "\n",
    "<a id='mc'></a>\n",
    "<div id=\"qe-notebook-header\" style=\"text-align:right;\">\n",
    "        <a href=\"https://quantecon.org/\" title=\"quantecon.org\">\n",
    "                <img style=\"width:250px;display:inline;\" src=\"https://assets.quantecon.org/img/qe-menubar-logo.svg\" alt=\"QuantEcon\">\n",
    "        </a>\n",
    "</div>"
   ]
  },
  {
   "cell_type": "markdown",
   "metadata": {},
   "source": [
    "# Cadeias Finitas de Markov"
   ]
  },
  {
   "cell_type": "markdown",
   "metadata": {},
   "source": [
    "## Conteúdo\n",
    "\n",
    "- [Cadeias Finitas de Markov](#Cadeias-Finitas-de-Markov)  \n",
    "  - [Resumo](#Resumo)  \n",
    "  - [Definições](#Definições)  \n",
    "  - [Simulação](#Simulação)  \n",
    "  - [Distribuições Marginais](#Distribuições-Marginais)  \n",
    "  - [Irredutibilidade e Aperidiocidade](#Irredutibilidade-e-Aperiodicidade)  \n",
    "  - [Distribuições Estacionárias](#Distribuições-Estacionárias)  \n",
    "  - [Ergodicidade](#Ergodicidade)  \n",
    "  - [Computando Expectativas](#Computando-Expectativas)  \n",
    "  - [Exercícios](#Exercícios)  \n",
    "  - [Soluções](#Soluções)  "
   ]
  },
  {
   "cell_type": "markdown",
   "metadata": {},
   "source": [
    "> *Devidamente traduzido, revisado e adaptado pelos bolsistas CNPq Pedro Luiz H. Furtado e Jonas Aragão M. Corpes, sob a supervisão do Prof. Christiano Penna, pesquisador do CAEN/UFC.*"
   ]
  },
  {
   "cell_type": "markdown",
   "metadata": {},
   "source": [
    "## Resumo\n",
    "\n",
    "As cadeias de Markov são uma das classes mais úteis de processos estocásticos, sendo:\n",
    "\n",
    "- simples, flexível e suportado por muitos resultados teóricos elegantes  \n",
    "- valioso para criar intuição sobre modelos dinâmicos aleatórios \n",
    "- central à modelagem quantitativa por direito próprio  \n",
    "\n",
    "\n",
    "Você os encontrará em muitos modelos de economia e finanças.\n",
    "\n",
    "Nesta aula, revisamos algumas das teorias das cadeias de Markov.\n",
    "\n",
    "Também apresentaremos algumas das rotinas de alta qualidade para trabalhar com cadeias de Markov disponíveis no [QuantEcon.jl](http://quantecon.org/quantecon-jl).\n",
    "\n",
    "Pré-requesito conhecimento prévio em probabilidade básica e álgebra linear."
   ]
  },
  {
   "cell_type": "markdown",
   "metadata": {},
   "source": [
    "### Configuração"
   ]
  },
  {
   "cell_type": "code",
   "execution_count": 1,
   "metadata": {
    "hide-output": true
   },
   "outputs": [
    {
     "name": "stderr",
     "output_type": "stream",
     "text": [
      "┌ Warning: On Windows, creating file symlinks requires Administrator privileges\n",
      "└ @ Base.Filesystem file.jl:848\n"
     ]
    },
    {
     "name": "stdout",
     "output_type": "stream",
     "text": [
      "\u001b[32m\u001b[1mActivated\u001b[0m C:\\Users\\cliente\\Downloads\\Project.toml\u001b[39m\n",
      "\u001b[36m\u001b[1mInfo\u001b[0m quantecon-notebooks-julia 0.4.0 activated, 0.5.0 requested\u001b[39m\n"
     ]
    }
   ],
   "source": [
    "using InstantiateFromURL\n",
    "github_project(\"QuantEcon/quantecon-notebooks-julia\", version = \"0.5.0\", instantiate = true)"
   ]
  },
  {
   "cell_type": "code",
   "execution_count": 2,
   "metadata": {
    "hide-output": false
   },
   "outputs": [],
   "source": [
    "using LinearAlgebra, Statistics\n",
    "using Distributions, Plots, Printf, QuantEcon, Random\n",
    "gr(fmt = :png);"
   ]
  },
  {
   "cell_type": "markdown",
   "metadata": {},
   "source": [
    "## Definições\n",
    "\n",
    "Os seguintes conceitos são fundamentais.\n",
    "\n",
    "\n",
    "<a id='finite-dp-stoch-mat'></a>"
   ]
  },
  {
   "cell_type": "markdown",
   "metadata": {},
   "source": [
    "### Matrizes Estocásticas\n",
    "\n",
    "<a id='index-2'></a>\n",
    "Uma **matriz estocástica** (ou **matriz de Markov**)  é uma matriz quadrada $ P $ $ n \\times n $ \n",
    "de tal modo que:\n",
    "\n",
    "1. cada elemento de $ P $ é não negativo, e  \n",
    "1. cada linha de $ P $ soma a um.\n",
    "\n",
    "\n",
    "Cada linha de $ P $ pode ser considerada uma função de massa de probabilidade sobre $ n $ possíveis resultados.\n",
    "\n",
    "Não é tão difícil verificar <sup><a href=#pm id=pm-link>[1]</a></sup> que se $ P $ é uma matriz estocástica, então é $ k $-ésima potência $ P^k $ para todo $ k \\in \\mathbb N $."
   ]
  },
  {
   "cell_type": "markdown",
   "metadata": {},
   "source": [
    "### Cadeias de Markov\n",
    "\n",
    "\n",
    "<a id='index-4'></a>\n",
    "\n",
    "Existe uma estreita conexão entre matrizes estocásticas e cadeias de Markov.\n",
    "\n",
    "Para começar, deixe  $ S $ ser um conjunto finito com $ n $ elementos $ \\{x_1, \\ldots, x_n\\} $.\n",
    "\n",
    "O conjunto $ S $ é chamado de **espaço de estado** e $ x_1, \\ldots, x_n $ são os **valores de estado**.\n",
    "\n",
    "Uma **Cadeia de Markov** $ \\{X_t\\} $ em $ S $ é uma sequência de variáveis aleaórias em $ S $ que possuem a  **propriedade de Markov**.\n",
    "\n",
    "Isso significa que, para qualquer data $ t $ e qualquer estado $ y \\in S $,\n",
    "\n",
    "\n",
    "<a id='equation-fin-markov-mp'></a>\n",
    "$$\n",
    "\\mathbb P \\{ X_{t+1} = y  \\,|\\, X_t \\}\n",
    "= \\mathbb P \\{ X_{t+1}  = y \\,|\\, X_t, X_{t-1}, \\ldots \\} \\tag{1}\n",
    "$$\n",
    "\n",
    "Em outras palavras, conhecer o estado atual é suficiente para conhecer probabilidades para estados futuros.\n",
    "\n",
    "Em particular, a dinâmica de uma cadeia de Markov é totalmente determinada pelo conjunto de valores\n",
    "\n",
    "\n",
    "<a id='equation-mpp'></a>\n",
    "$$\n",
    "P(x, y) := \\mathbb P \\{ X_{t+1} = y \\,|\\, X_t = x \\}\n",
    "\\qquad (x, y \\in S) \\tag{2}\n",
    "$$\n",
    "\n",
    "Por construção,\n",
    "\n",
    "- $ P(x, y) $ é a probabilidade de ir de $ x $ para $ y $ em uma unidade de tempo (um passo)  \n",
    "- $ P(x, \\cdot) $ é a distribuição condicional $ X_{t+1} $ dado $ X_t = x $  \n",
    "\n",
    "\n",
    "Podemos ver $ P $ como uma matriz estocástica onde:\n",
    "\n",
    "$$\n",
    "P_{ij} = P(x_i, x_j)\n",
    "\\qquad 1 \\leq i, j \\leq n\n",
    "$$\n",
    "\n",
    "Indo em outra direção, se tomamos a matriz estocástica $ P $, podemos gerar as cadeias de Markov $ \\{X_t\\} $ do seguinte modo:\n",
    "\n",
    "- Pegue $ X_0 $ de alguma distribuição especificada \n",
    "- para cada $ t = 0, 1, \\ldots $, pegue $ X_{t+1} $ de $ P(X_t,\\cdot) $  \n",
    "\n",
    "\n",
    "Por construção, o processo resultante satisfaz [(2)](#equation-mpp).\n",
    "\n",
    "\n",
    "<a id='mc-eg1'></a>"
   ]
  },
  {
   "cell_type": "markdown",
   "metadata": {},
   "source": [
    "### Exemplo 1\n",
    "\n",
    "Considere um trabalhador que, a qualquer momento $ t $, está desempregado (estado 1) ou empregado (estado 2).\n",
    "\n",
    "Suponha que, durante um período de um mês,\n",
    "\n",
    "1. Um trabalhador desempregado encontra um emprego com probabilidade  $ \\alpha \\in (0, 1) $.  \n",
    "1. Um trabalhador empregado perde o emprego e fica desempregado com probabilidade $ \\beta \\in (0, 1) $.  \n",
    "\n",
    "\n",
    "Em termos do modelo de Markov, temos:\n",
    "\n",
    "- $ S = \\{ 1, 2\\} $  \n",
    "- $ P(1, 2) = \\alpha $ e $ P(2, 1) = \\beta $  \n",
    "\n",
    "\n",
    "Podemos escrever as probabilidades de transição na forma de matriz como:\n",
    "\n",
    "$$\n",
    "P\n",
    "= \\left(\n",
    "\\begin{array}{cc}\n",
    "    1 - \\alpha & \\alpha \\\\\n",
    "    \\beta & 1 - \\beta\n",
    "\\end{array}\n",
    "  \\right)\n",
    "$$\n",
    "\n",
    "Quando tivermos os valores $ \\alpha $ e $ \\beta $,  podemos abordar uma série de perguntas, como:\n",
    "\n",
    "- Qual é a duração média do desemprego?\n",
    "- A longo prazo, que fração de tempo um trabalhador se encontra desempregado?  \n",
    "- Dependendo do emprego, qual é a probabilidade de ficar desempregado pelo menos uma vez nos próximos 12 meses?  \n",
    "\n",
    "\n",
    "Abordaremos esses aplicativos abaixo.\n",
    "\n",
    "<a id='mc-eg2'></a>"
   ]
  },
  {
   "attachments": {},
   "cell_type": "markdown",
   "metadata": {},
   "source": [
    "### Exemplo 2\n",
    "\n",
    "Usando dados de desemprego nos EUA, Hamilton [[Ham05]](https://julia.quantecon.org/../zreferences.html#hamilton2005) estimou a matriz estocástica\n",
    "\n",
    "$$\n",
    "P =\n",
    "\\left(\n",
    "  \\begin{array}{ccc}\n",
    "     0.971 & 0.029 & 0 \\\\\n",
    "     0.145 & 0.778 & 0.077 \\\\\n",
    "     0 & 0.508 & 0.492\n",
    "  \\end{array}\n",
    "\\right)\n",
    "$$\n",
    "\n",
    "onde:\n",
    "\n",
    "- a frequência é mensal \n",
    "- o primeiro estado representa “crescimento normal”  \n",
    "- o segundo estado representa “recessão leve”  \n",
    "- o terceiro estado representa “recessão grave”  \n",
    "\n",
    "\n",
    "Por exemplo, a matriz nos diz que quando o estado estiver em crescimento normal, o estado voltará a crescer normalmente no próximo mês com probabilidade de 0,97.\n",
    "\n",
    "Em geral, grandes valores na diagonal principal indicam persistência no processo $ \\{ X_t \\} $.\n",
    "\n",
    "Esse processo de Markov também pode ser representado como um gráfico direcionado, com arestas rotuladas por probabilidades de transição\n",
    "\n",
    "<img src=\"https://julia.quantecon.org/tools_and_techniques/_static/figures/hamilton_graph.png\" style=\"width:50%;\">\n",
    "  \n",
    "Aqui \"ng\" é um crescimento normal, \"sr\" é uma recessão leve etc."
   ]
  },
  {
   "cell_type": "markdown",
   "metadata": {},
   "source": [
    "## Simulação\n",
    "\n",
    "\n",
    "<a id='index-5'></a>\n",
    "Um jeito natural de responder essas questões sobre as cadeias de Markov é simulá-las.\n",
    "\n",
    "(Para aproximar a probabilidade do evento $ E $, podemos simular várias vezes e contar a fração de vezes que $ E $ ocorre)\n",
    "\n",
    "Existe uma funcionalidade interessante para simular cadeias de Markov no [QuantEcon.jl](http://quantecon.org/quantecon-jl).\n",
    "\n",
    "- Eficiente, com muitas outras rotinas úteis para lidar com cadeias de Markov.  \n",
    "\n",
    "\n",
    "No entanto, também é um bom exercício rolar nossas próprias rotinas - vamos fazer isso primeiro e depois voltar aos métodos no [QuantEcon.jl](http://quantecon.org/quantecon-jl).\n",
    "\n",
    "Nestes exercícios, assumiremos o espaço de estado como  $ S = 1,\\ldots, n $."
   ]
  },
  {
   "cell_type": "markdown",
   "metadata": {},
   "source": [
    "### Rodando o nosso próprio\n",
    "\n",
    "Para simular uma cadeia de Markov, precisamos de sua matriz estocástica $ P $ e um estado inicial ou uma distribuição de probabilidade $ \\psi $ para que o estado inicial seja extraido.\n",
    "\n",
    "A cadeia de Markov é então construída como discutido acima. Repetir:\n",
    "\n",
    "1. No momento $ t=0 $,  $ X_0 $ está definido para algum estado fixo ou escolhido dentre $ \\psi $.  \n",
    "1. A cada momento subsequente $ t $, o novo estado $ X_{t+1} $ é extraido de $ P(X_t, \\cdot) $.  \n",
    "\n",
    "\n",
    "Para implementar esse procedimento de simulação, precisamos de um método para gerar extrações a partir de distribuições discretas.\n",
    "\n",
    "Para esta tarefa, usaremos uma variável categórica aleatória (ou seja, uma variável aleatória discreta com probabilidades atribuídas)"
   ]
  },
  {
   "cell_type": "code",
   "execution_count": 3,
   "metadata": {
    "hide-output": false
   },
   "outputs": [
    {
     "name": "stdout",
     "output_type": "stream",
     "text": [
      "rand(d, 5) = [3, 1, 1, 2, 1]\n",
      "supertype(typeof(d)) = Distribution{Univariate,Discrete}\n",
      "pdf(d, 1) = 0.5\n",
      "support(d) = Base.OneTo(3)\n",
      "pdf.(d, support(d)) = [0.5, 0.3, 0.2]\n"
     ]
    }
   ],
   "source": [
    "d = Categorical([0.5, 0.3, 0.2]) # 3 estados discretos\n",
    "@show rand(d, 5)\n",
    "@show supertype(typeof(d))\n",
    "@show pdf(d, 1) # a probabilidade de está no estado 1\n",
    "@show support(d)\n",
    "@show pdf.(d, support(d)); # transmitir a fdp por todo o suporte"
   ]
  },
  {
   "cell_type": "markdown",
   "metadata": {},
   "source": [
    "Escreveremos nosso código como uma função que aceita os três argumentos a seguir:\n",
    "\n",
    "- Uma matriz estocástica `P`  \n",
    "- Um estado inicial `init`  \n",
    "- Um número interio positivo `sample_size` que representa o comprimento da série temporal que a função deve retornar  "
   ]
  },
  {
   "cell_type": "code",
   "execution_count": 4,
   "metadata": {
    "hide-output": false
   },
   "outputs": [
    {
     "data": {
      "text/plain": [
       "mc_sample_path (generic function with 1 method)"
      ]
     },
     "execution_count": 4,
     "metadata": {},
     "output_type": "execute_result"
    }
   ],
   "source": [
    "function mc_sample_path(P; init = 1, sample_size = 1000)\n",
    "    @assert size(P)[1] == size(P)[2] # quadrado requerido\n",
    "    N = size(P)[1] # deve está ao quadrado\n",
    "\n",
    "    # Criar vector de RVs discretas para cada linha\n",
    "    dists = [Categorical(P[i, :]) for i in 1:N]\n",
    "\n",
    "    # configura a simulação\n",
    "    X = fill(0, sample_size) # aloca memória ou zeros(Int64, sample_size)\n",
    "    X[1] = init # configura o estado inicial\n",
    "\n",
    "    for t in 2:sample_size\n",
    "        dist = dists[X[t-1]] # obtém RV discreto da distribuição de transição do último estado \n",
    "        X[t] = rand(dist) # extrai o novo valor\n",
    "    end\n",
    "    return X\n",
    "end"
   ]
  },
  {
   "cell_type": "markdown",
   "metadata": {},
   "source": [
    "Vamos ver como isso funciona usando a matriz pequena:\n",
    "\n",
    "\n",
    "<a id='equation-fm-smat'></a>\n",
    "$$\n",
    "P :=\n",
    "\\left(\n",
    "  \\begin{array}{cc}\n",
    "     0.4 & 0.6  \\\\\n",
    "     0.2 & 0.8\n",
    "  \\end{array}\n",
    "\\right) \\tag{3}\n",
    "$$\n",
    "\n",
    "Como veremos mais adiante, para uma longa série `P`,  a fração da amostra que leva o valor 1 será de cerca de 0,25.\n",
    "\n",
    "Se você executar o código a seguir, deverá obter aproximadamente essa resposta"
   ]
  },
  {
   "cell_type": "code",
   "execution_count": 5,
   "metadata": {
    "hide-output": false
   },
   "outputs": [
    {
     "data": {
      "text/plain": [
       "0.25154"
      ]
     },
     "execution_count": 5,
     "metadata": {},
     "output_type": "execute_result"
    }
   ],
   "source": [
    "P = [0.4 0.6; 0.2 0.8]\n",
    "X = mc_sample_path(P, sample_size = 100_000); # nota 100_000 = 100000\n",
    "μ_1 = count(X .== 1)/length(X) # .== teste de difusão para igualdade. Pode usar a média (X. == 1)"
   ]
  },
  {
   "cell_type": "markdown",
   "metadata": {},
   "source": [
    "### Usando as Rotinas do QuantEcon\n",
    "\n",
    "Como acima discutido, [QuantEcon.jl](http://quantecon.org/quantecon-jl) possui rotinas para lidar com cadeias de Markov, incluindo simulação.\n",
    "\n",
    "Aqui está uma ilustração usando o mesmo P do exemplo anterior."
   ]
  },
  {
   "cell_type": "code",
   "execution_count": 6,
   "metadata": {
    "hide-output": false
   },
   "outputs": [
    {
     "data": {
      "text/plain": [
       "0.24876"
      ]
     },
     "execution_count": 6,
     "metadata": {},
     "output_type": "execute_result"
    }
   ],
   "source": [
    "P = [0.4 0.6; 0.2 0.8];\n",
    "mc = MarkovChain(P)\n",
    "X = simulate(mc, 100_000);\n",
    "μ_2 = count(X .== 1)/length(X) # ou média(x -> x == 1, X)"
   ]
  },
  {
   "cell_type": "markdown",
   "metadata": {},
   "source": [
    "#### Adicionando valores de estado e condições iniciais\n",
    "\n",
    "Se desejarmos, podemos fornecer uma especificação de valores de estado para `MarkovChain`.\n",
    "\n",
    "Esses valores de estado podem ser números inteiros, flutuantes ou mesmo sequências de caracteres.\n",
    "\n",
    "O código a seguir ilustra."
   ]
  },
  {
   "cell_type": "code",
   "execution_count": 7,
   "metadata": {
    "hide-output": false
   },
   "outputs": [
    {
     "data": {
      "text/plain": [
       "4-element Array{String,1}:\n",
       " \"unemployed\"\n",
       " \"employed\"  \n",
       " \"unemployed\"\n",
       " \"employed\"  "
      ]
     },
     "execution_count": 7,
     "metadata": {},
     "output_type": "execute_result"
    }
   ],
   "source": [
    "mc = MarkovChain(P, [\"unemployed\", \"employed\"])\n",
    "simulate(mc, 4, init = 1) # começa no estado 1"
   ]
  },
  {
   "cell_type": "code",
   "execution_count": 8,
   "metadata": {
    "hide-output": false
   },
   "outputs": [
    {
     "data": {
      "text/plain": [
       "4-element Array{String,1}:\n",
       " \"employed\"\n",
       " \"employed\"\n",
       " \"employed\"\n",
       " \"employed\""
      ]
     },
     "execution_count": 8,
     "metadata": {},
     "output_type": "execute_result"
    }
   ],
   "source": [
    "simulate(mc, 4, init = 2) # começa no estado 2"
   ]
  },
  {
   "cell_type": "code",
   "execution_count": 9,
   "metadata": {
    "hide-output": false
   },
   "outputs": [
    {
     "data": {
      "text/plain": [
       "4-element Array{String,1}:\n",
       " \"employed\"\n",
       " \"employed\"\n",
       " \"employed\"\n",
       " \"employed\""
      ]
     },
     "execution_count": 9,
     "metadata": {},
     "output_type": "execute_result"
    }
   ],
   "source": [
    "simulate(mc, 4) # começa com a condição inicial escolhida aleatoriamente"
   ]
  },
  {
   "cell_type": "code",
   "execution_count": 10,
   "metadata": {
    "hide-output": false
   },
   "outputs": [
    {
     "data": {
      "text/plain": [
       "4-element Array{Int64,1}:\n",
       " 1\n",
       " 2\n",
       " 2\n",
       " 2"
      ]
     },
     "execution_count": 10,
     "metadata": {},
     "output_type": "execute_result"
    }
   ],
   "source": [
    "simulate_indices(mc, 4)"
   ]
  },
  {
   "cell_type": "markdown",
   "metadata": {},
   "source": [
    "\n",
    "<a id='mc-md'></a>"
   ]
  },
  {
   "cell_type": "markdown",
   "metadata": {},
   "source": [
    "## Distribuições Marginais\n",
    "\n",
    "\n",
    "<a id='index-7'></a>\n",
    "Suppose that\n",
    "\n",
    "1. $ \\{X_t\\} $ é uma cadeia de Markov com matriz estocástica $ P $  \n",
    "1. a distribuição de $ X_t $ é conhecida por ser $ \\psi_t $  \n",
    "\n",
    "\n",
    "Qual é então a distribuição de $ X_{t+1} $, ou, mais geralmente, de $ X_{t+m} $?"
   ]
  },
  {
   "cell_type": "markdown",
   "metadata": {},
   "source": [
    "### Solução\n",
    "\n",
    "Deixe $ \\psi_t $ ser a distribuição de $ X_t $ para $ t = 0, 1, 2, \\ldots $.\n",
    "\n",
    "Nosso primeiro objetivo é encontrar $ \\psi_{t + 1} $ dado $ \\psi_t $ e $ P $.\n",
    "\n",
    "Para começar, escolha qualquer $ y  \\in S $.\n",
    "\n",
    "Usando a [lei da probabilidade total](https://en.wikipedia.org/wiki/Law_of_total_probability), podemos decompor a probabilidade de que $ X_{t+1} = y $ do seguinte modo:\n",
    "\n",
    "$$\n",
    "\\mathbb P \\{X_{t+1} = y \\}\n",
    "   = \\sum_{x \\in S} \\mathbb P \\{ X_{t+1} = y \\, | \\, X_t = x \\}\n",
    "               \\cdot \\mathbb P \\{ X_t = x \\}\n",
    "$$\n",
    "\n",
    "Em outra palavras, para obter a probabilidade de estar em $ y $ amanhã, explicamos todas as maneiras pelas quais isso pode acontecer e somamos suas probabilidades.\n",
    "\n",
    "Reescrever esta afirmação em termos de probabilidades marginais e condicionais fornece.\n",
    "\n",
    "\n",
    "<a id='mc-fdd'></a>\n",
    "$$\n",
    "\\psi_{t+1}(y) = \\sum_{x \\in S} P(x,y) \\psi_t(x)\n",
    "$$\n",
    "\n",
    "Existem $ n $ equações, uma para cada $ y \\in S $.\n",
    "\n",
    "Se pensarmos em $ \\psi_{t+1} $ e $ \\psi_t $ como *vetores de linhas* (como é tradicional nesta literatura), essas $ n $ equações são resumidas pela expressão da matriz.\n",
    "\n",
    "\n",
    "<a id='mc-fddv'></a>\n",
    "\n",
    "<a id='equation-fin-mc-fr'></a>\n",
    "$$\n",
    "\\psi_{t+1} = \\psi_t P \\tag{4}\n",
    "$$\n",
    "\n",
    "Em outras palavras, para avançar a distribuição uma unidade de tempo, nós pós-multiplicamos por  $ P $.\n",
    "\n",
    "Repetindo isso $ m $ vezes avançamos  $ m $ passos para o futuro\n",
    "\n",
    "Portanto, iterando em [(4)](#equation-fin-mc-fr), a expressão $ \\psi_{t+m} = \\psi_t P^m $ também é válido —aqui $ P^m $ é a $ m $-ésima potência de $ P $.\n",
    "\n",
    "\n",
    "<a id='mc-exfmar'></a>\n",
    "Como um caso especial, podemos ver que se $ \\psi_0 $ é a distribuição inicial a partir da qual $ X_0 $ é extraido, então $ \\psi_0 P^m $ é a distribuição de\n",
    "$ X_m $.\n",
    "\n",
    "Isso é muito importante, então vamos repetir isso\n",
    "\n",
    "\n",
    "<a id='equation-mdfmc'></a>\n",
    "$$\n",
    "X_0 \\sim \\psi_0 \\quad \\implies \\quad X_m \\sim \\psi_0 P^m \\tag{5}\n",
    "$$\n",
    "\n",
    "e, geralmente,\n",
    "\n",
    "\n",
    "<a id='equation-mdfmc2'></a>\n",
    "$$\n",
    "X_t \\sim \\psi_t \\quad \\implies \\quad X_{t+m} \\sim \\psi_t P^m \\tag{6}\n",
    "$$\n",
    "\n",
    "\n",
    "<a id='finite-mc-mstp'></a>"
   ]
  },
  {
   "cell_type": "markdown",
   "metadata": {},
   "source": [
    "### Probabilidades de Transição de Várias Etapas\n",
    "\n",
    "Sabemos que a probabilidade de fazer a transição de $ x $ para $ y $ em um passo é $ P(x,y) $.\n",
    "\n",
    "Acontece que a probabilidade de fazer a transição de $ x $ para $ y $ é\n",
    "$ m $ passos é $ P^m(x,y) $, o $ (x,y) $-ésimo elemento de\n",
    "$ m $-ésmima potência de $ P $.\n",
    "\n",
    "Para ver a o porquê, considere novamente [(6)](#equation-mdfmc2), mas agora com $ \\psi_t $ colocando toda a probabilidade no estado $ x $.\n",
    "\n",
    "- 1 em $ x $-ésima posição e zero em outro lugar..  \n",
    "\n",
    "\n",
    "Inserindo isso dentro [(6)](#equation-mdfmc2), podemos ver que, condicional em $ X_t = x $, a distribuição de $ X_{t+m} $ é a $ x $-ésima linha $ P^m $.\n",
    "\n",
    "Em particular\n",
    "\n",
    "$$\n",
    "\\mathbb P \\{X_{t+m} = y \\} = P^m(x, y) = (x, y) \\text{-ésimo elemento de } P^m\n",
    "$$"
   ]
  },
  {
   "cell_type": "markdown",
   "metadata": {},
   "source": [
    "### Exemplo: Probabilidade de Recessão\n",
    "\n",
    "\n",
    "<a id='index-8'></a>\n",
    "Lembre-se da matriz estocástica $ P $ para recessão e crescimento [considerada acima](#mc-eg2).\n",
    "\n",
    "Suponha que o estado atual é desconhecido — talvez as estatísticas estejam disponíveis apenas no *final* do mês atual.\n",
    "\n",
    "Estimamos a probabilidade que a economia estar no estado $ x $ ser $ \\psi(x) $.\n",
    "\n",
    "A probabilidade de estar em recessão (leve ou grave) em 6 meses é dada pelo produto interno\n",
    "\n",
    "$$\n",
    "\\psi P^6\n",
    "\\cdot\n",
    "\\left(\n",
    "  \\begin{array}{c}\n",
    "     0 \\\\\n",
    "     1 \\\\\n",
    "     1\n",
    "  \\end{array}\n",
    "\\right)\n",
    "$$\n",
    "\n",
    "\n",
    "<a id='mc-eg1-1'></a>"
   ]
  },
  {
   "cell_type": "markdown",
   "metadata": {},
   "source": [
    "### Exemplo 2: Distribuições transversais\n",
    "\n",
    "\n",
    "<a id='index-9'></a>\n",
    "As distribuições marginais que estudamos podem ser vistas como probabilidades ou como frequências transversais em grandes amostras.\n",
    "\n",
    "Para ilustrar, lembre-se de nosso modelo de dinâmica de emprego / desemprego para um determinado trabalhador [discutido acima](#mc-eg1).\n",
    "\n",
    "Considere uma grande população (ou seja, tendendo ao infinito) de trabalhadores, cada um cujas experiências de vida são descritas pela dinâmica especificada, independentemente uma da outra.\n",
    "\n",
    "Deixe $ \\psi $ ser a atual distribuição *transversal*  sobre $ \\{ 1, 2 \\} $.\n",
    "\n",
    "- Por exemplo, $ \\psi(1) $ é a taxa de desempregados.  \n",
    "\n",
    "\n",
    "A distribuição transversal registra as frações de trabalhadores empregados e desempregados em um dado momento.\n",
    "\n",
    "A mesma distribuição também descreve as frações da carreira de um trabalhador em particular gasta no emprego e no desemprego, respectivamente."
   ]
  },
  {
   "cell_type": "markdown",
   "metadata": {},
   "source": [
    "## Irredutibilidade e Aperiodicidade\n",
    "\n",
    "\n",
    "<a id='index-11'></a>\n",
    "Irredutibilidade e aperiodicidade são conceitos centrais da moderna teoria das cadeias de Markov.\n",
    "\n",
    "Vamos ver do que se trata."
   ]
  },
  {
   "attachments": {},
   "cell_type": "markdown",
   "metadata": {},
   "source": [
    "### Irredutibilidade\n",
    "\n",
    "Deixe $ P $ ser uma matriz estocástica fixa\n",
    "\n",
    "Dois estados $ x $ e $ y $ dizem que se **comunicam** comunicam entre si se existirem números interios positivos $ j $ e $ k $ de tal modo que\n",
    "\n",
    "$$\n",
    "P^j(x, y) > 0\n",
    "\\quad \\text{e} \\quad\n",
    "P^k(y, x) > 0\n",
    "$$\n",
    "\n",
    "Em vista da discussão [acima](#finite-mc-mstp), isso significa precisamente que:\n",
    "\n",
    "- Estado $ x $ pode ser alcançado eventualmente a partir do estado  $ y $, e  \n",
    "- Estado $ y $ pode ser alcançado eventualmente a partir do estado  $ x $  \n",
    "\n",
    "\n",
    "A matriz estocástica $ P $ é chamada de **irredutível** se todo os estados se comunicarem; que é, se $ x $ e $ y $ comunicar para todos\n",
    "$ (x, y) $ em $ S \\times S $.\n",
    "\n",
    "Por exemplo, considere as seguintes probabilidades de transição para a riqueza de um conjunto fictício de famílias\n",
    "\n",
    "<img src=\"https://julia.quantecon.org/tools_and_techniques/_static/figures/mc_irreducibility1.png\" style=\"width:50%;\">\n",
    "\n",
    "  \n",
    "Podemos traduzir isso em uma matriz estocástica, colocando zeros onde não há arestas entre os nós.\n",
    "\n",
    "$$\n",
    "P :=\n",
    "\\left(\n",
    "  \\begin{array}{ccc}\n",
    "     0.9 & 0.1 & 0 \\\\\n",
    "     0.4 & 0.4 & 0.2 \\\\\n",
    "     0.1 & 0.1 & 0.8\n",
    "  \\end{array}\n",
    "\\right)\n",
    "$$\n",
    "\n",
    "Está claro no gráfico que essa matriz estocástica é irredutível: podemos alcançar qualquer estado de qualquer outro estado eventualmente.\n",
    "\n",
    "Nós também pode testar isso usando a classe de cadeias de Markov do [QuantEcon.jl](http://quantecon.org/quantecon-jl)"
   ]
  },
  {
   "cell_type": "code",
   "execution_count": 11,
   "metadata": {
    "hide-output": false
   },
   "outputs": [
    {
     "data": {
      "text/plain": [
       "true"
      ]
     },
     "execution_count": 11,
     "metadata": {},
     "output_type": "execute_result"
    }
   ],
   "source": [
    "P = [0.9 0.1 0.0; 0.4 0.4 0.2; 0.1 0.1 0.8];\n",
    "mc = MarkovChain(P)\n",
    "is_irreducible(mc)"
   ]
  },
  {
   "attachments": {},
   "cell_type": "markdown",
   "metadata": {},
   "source": [
    "Aqui está um cenário mais pessimista, onde os pobres são pobres para sempre:\n",
    "\n",
    "<img src=\"https://julia.quantecon.org/tools_and_techniques/_static/figures/mc_irreducibility2.png\" style=\"width:50%;\">\n",
    "  \n",
    "Essa matriz estocástica não é irredutível, pois, por exemplo, rico não é acessível a partir de pobres.\n",
    "\n",
    "Vamos confirmar isso"
   ]
  },
  {
   "cell_type": "code",
   "execution_count": 12,
   "metadata": {
    "hide-output": false
   },
   "outputs": [
    {
     "data": {
      "text/plain": [
       "false"
      ]
     },
     "execution_count": 12,
     "metadata": {},
     "output_type": "execute_result"
    }
   ],
   "source": [
    "P = [1.0 0.0 0.0; 0.1 0.8 0.1; 0.0 0.2 0.8];\n",
    "mc = MarkovChain(P);\n",
    "is_irreducible(mc)"
   ]
  },
  {
   "cell_type": "markdown",
   "metadata": {},
   "source": [
    "Também podemos determinar as “classes de comunicação” ou os conjuntos de estados de comunicação (em que comunicação se refere a uma probabilidade diferente de zero de se mover em cada direção)."
   ]
  },
  {
   "cell_type": "code",
   "execution_count": 13,
   "metadata": {
    "hide-output": false
   },
   "outputs": [
    {
     "data": {
      "text/plain": [
       "2-element Array{Array{Int64,1},1}:\n",
       " [1]   \n",
       " [2, 3]"
      ]
     },
     "execution_count": 13,
     "metadata": {},
     "output_type": "execute_result"
    }
   ],
   "source": [
    "communication_classes(mc)"
   ]
  },
  {
   "cell_type": "markdown",
   "metadata": {},
   "source": [
    "Já deve estar claro para você que a irredutibilidade será importante em termos de resultados a longo prazo.\n",
    "\n",
    "Por exemplo, a pobreza é uma sentença de prisão perpétua no segundo gráfico, mas não o primeiro.\n",
    "\n",
    "Voltaremos a isso um pouco mais tarde."
   ]
  },
  {
   "attachments": {},
   "cell_type": "markdown",
   "metadata": {},
   "source": [
    "### Aperiodicidade\n",
    "\n",
    "Em termos gerais, uma cadeia de Markov é chamada de periódica se ela ciclar de uma maneira previsível e aperiódica de outra forma.\n",
    "\n",
    "Aqui está um exemplo trivial com três estados:\n",
    "\n",
    "<img src=\"https://julia.quantecon.org/tools_and_techniques/_static/figures/mc_aperiodicity1.png\" style=\"width:50%;\">\n",
    "\n",
    "  \n",
    "A cadeia circula com o período 3:"
   ]
  },
  {
   "cell_type": "code",
   "execution_count": 14,
   "metadata": {
    "hide-output": false
   },
   "outputs": [
    {
     "data": {
      "text/plain": [
       "3"
      ]
     },
     "execution_count": 14,
     "metadata": {},
     "output_type": "execute_result"
    }
   ],
   "source": [
    "P = [0 1 0; 0 0 1; 1 0 0];\n",
    "mc = MarkovChain(P);\n",
    "period(mc)"
   ]
  },
  {
   "attachments": {},
   "cell_type": "markdown",
   "metadata": {},
   "source": [
    "Mais formalmente, o **período** de um estado $ x $ é o maior divisor comum do conjunto de números inteiros\n",
    "\n",
    "$$\n",
    "D(x) := \\{j \\geq 1 : P^j(x, x) > 0\\}\n",
    "$$\n",
    "\n",
    "No último exemplo, $ D(x) = \\{3, 6, 9, \\ldots\\} $ para todo estado $ x $, então o período é 3.\n",
    "\n",
    "Uma matriz estocástica é chamada de **aperiódica** se o período de cada estado é 1, e **periódica** caso contrário.\n",
    "\n",
    "Por exemplo, a matriz estocástica associada às probabilidades de transição abaixo é periódica porque, por exemplo, declara $ a $ tem período 2\n",
    "\n",
    "<img src=\"https://julia.quantecon.org/tools_and_techniques/_static/figures/mc_aperiodicity2.png\" style=\"width:50%;\">\n",
    " \n",
    "Podemos confirmar que a matriz estocástica é periódica da seguinte forma:"
   ]
  },
  {
   "cell_type": "code",
   "execution_count": 15,
   "metadata": {
    "hide-output": false
   },
   "outputs": [
    {
     "data": {
      "text/plain": [
       "2"
      ]
     },
     "execution_count": 15,
     "metadata": {},
     "output_type": "execute_result"
    }
   ],
   "source": [
    "P = zeros(4, 4);\n",
    "P[1, 2] = 1;\n",
    "P[2, 1] = P[2, 3] = 0.5;\n",
    "P[3, 2] = P[3, 4] = 0.5;\n",
    "P[4, 3] = 1;\n",
    "mc = MarkovChain(P);\n",
    "period(mc)"
   ]
  },
  {
   "cell_type": "code",
   "execution_count": 16,
   "metadata": {
    "hide-output": false
   },
   "outputs": [
    {
     "data": {
      "text/plain": [
       "false"
      ]
     },
     "execution_count": 16,
     "metadata": {},
     "output_type": "execute_result"
    }
   ],
   "source": [
    "is_aperiodic(mc)"
   ]
  },
  {
   "cell_type": "markdown",
   "metadata": {},
   "source": [
    "## Distribuições Estacionárias\n",
    "\n",
    "\n",
    "<a id='index-13'></a>\n",
    "Como visto em [(4)](#equation-fin-mc-fr), podemos mudar as probabilidades para a frente uma unidade de tempo via pós-multiplicação por $ P $.\n",
    "\n",
    "Algumas distribuições são invariantes nesse processo de atualização - por exemplo,"
   ]
  },
  {
   "cell_type": "code",
   "execution_count": 17,
   "metadata": {
    "hide-output": false
   },
   "outputs": [
    {
     "data": {
      "text/plain": [
       "1×2 Adjoint{Float64,Array{Float64,1}}:\n",
       " 0.25  0.75"
      ]
     },
     "execution_count": 17,
     "metadata": {},
     "output_type": "execute_result"
    }
   ],
   "source": [
    "P = [.4 .6; .2 .8];\n",
    "ψ = [0.25, 0.75];\n",
    "ψ' * P"
   ]
  },
  {
   "cell_type": "markdown",
   "metadata": {},
   "source": [
    "Tais distribuições são chamadas **estacionárias** ou **invariantes**.\n",
    "\n",
    "<a id='mc-stat-dd'></a>\n",
    "Formalmente, uma distribuição $ \\psi^* $ em $ S $ é chamada de **estacionária** para $ P $ se $ \\psi^* = \\psi^* P $.\n",
    "\n",
    "A partir dessa igualdade, obtemos imediatamente  $ \\psi^* = \\psi^* P^t $ para todo $ t $.\n",
    "\n",
    "Isso nos diz um fato importante: se a distribuição de  $ X_0 $ é uma distribuição estacionária, então $ X_t $ terá essa mesma distribuição para todo $ t $.\n",
    "\n",
    "Portanto, as distribuições estacionárias têm uma interpretação natural como estados estacionários estocásticos - discutiremos isso mais em um momento.\n",
    "\n",
    "Matematicamente, uma distribuição estacionária é um ponto fixo de $ P $ quando $ P $ é pensado como o mapa $ \\psi \\mapsto \\psi P $ de (linhas) vetores para (linhas) vetores.\n",
    "\n",
    "**Teorema.** Toda matriz estocástica $ P $ tem pelo menos uma distribuição estacionária.\n",
    "\n",
    "(Estamos assumindo aqui que o espaço de estado  $ S $ é finito; e não forem necessárias mais suposições)\n",
    "\n",
    "Para uma prova desse resultado você pode aplicar o [teorema do ponto fixo de Brouwer](https://en.wikipedia.org/wiki/Brouwer_fixed-point_theorem), ou ver [EDTC](http://johnstachurski.net/edtc.html), teorema 4.3.5.\n",
    "\n",
    "De fato, pode haver muitas distribuições estacionárias correspondentes a uma dada matriz estocástica P $ P $.\n",
    "\n",
    "- Por exemplo, se $ P $ é a matriz de identidade, todas as distribuições são estacionárias.\n",
    "\n",
    "\n",
    "Como distribuições estacionárias são equilíbrios de longo prazo, para obter exclusividade, exigimos que as condições iniciais não sejam infinitamente persistentes.\n",
    "\n",
    "A persistência infinita das condições iniciais ocorre se determinadas regiões do espaço de estados não puderem ser acessadas de outras regiões, que é o oposto da irredutibilidade.\n",
    "\n",
    "Isso dá alguma intuição para o seguinte teorema fundamental.\n",
    "\n",
    "\n",
    "<a id='mc-conv-thm'></a>\n",
    "**Teorema.** Se $ P $ é ambos, periódico e irredutível, então\n",
    "\n",
    "1. $ P $ tem exatamente uma distribuição estacionária $ \\psi^* $.  \n",
    "1. Para qualquer distribuição inicial $ \\psi_0 $, temos $ \\| \\psi_0 P^t - \\psi^* \\| \\to 0 $ como $ t \\to \\infty $.  \n",
    "\n",
    "\n",
    "Para uma prova, veja, por exemplo, o teorema 5.2 de [[Haggstrom02]](https://julia.quantecon.org/../zreferences.html#haggstrom2002finite).\n",
    "\n",
    "(Observe que a parte 1 do teorema requer apenas irredutibilidade, enquanto a parte 2 requer irredutibilidade e aperiodicidade)\n",
    "\n",
    "Uma matriz estocástica que satisfaz as condições do teorema é às vezes chamada de **uniforme ergódica**.\n",
    "\n",
    "Uma condição suficientemente fácil para a aperiodicidade e a irredutibilidade é que todo elemento de $ P $ é estritamente positivo\n",
    "\n",
    "- Tente se convencer disso  "
   ]
  },
  {
   "cell_type": "markdown",
   "metadata": {},
   "source": [
    "### Exemplo\n",
    "\n",
    "Lembre-se do nosso modelo de dinâmica de emprego / desemprego para um determinado trabalhador [discutido acima](#mc-eg1).\n",
    "\n",
    "Assumindo $ \\alpha \\in (0,1) $ e $ \\beta \\in (0,1) $, a condição de ergodicidade uniforme é satisfeita\n",
    "\n",
    "Deixe $ \\psi^* = (p, 1-p) $ seja a distribuição estacionária, então $ p $ corresponde ao desemprego (estado 1).\n",
    "\n",
    "Usando $ \\psi^* = \\psi^* P $ e um pouco de álgebra rende\n",
    "\n",
    "$$\n",
    "p = \\frac{\\beta}{\\alpha + \\beta}\n",
    "$$\n",
    "\n",
    "Esta é, em certo sentido, uma probabilidade estável de desemprego - mais sobre a interpretação abaixo.\n",
    "\n",
    "Não surpreendentemente, ele tende a zero como  $ \\beta \\to 0 $, e para um como $ \\alpha \\to 0 $."
   ]
  },
  {
   "cell_type": "markdown",
   "metadata": {},
   "source": [
    "### Calculando Distribuições Estacionárias\n",
    "\n",
    "\n",
    "<a id='index-14'></a>\n",
    "Como discutido acima, uma dada matriz de Markov $ P $ pode ter muitas distribuições estacionárias\n",
    "\n",
    "Ou seja, pode haver muitos vetores de linha s $ \\psi $ tal que $ \\psi = \\psi P $.\n",
    "\n",
    "Em fato se $ P $ possui duas distintas distribuições estacionárias $ \\psi_1,\n",
    "\\psi_2 $ então ele tem infinitamente muitos, pois nesse caso, como você pode verificar,\n",
    "\n",
    "\n",
    "$$\n",
    "\\psi_3 := \\lambda \\psi_1 + (1 - \\lambda) \\psi_2\n",
    "$$\n",
    "\n",
    "é uma distribuição estacionária para  $ P $ para qualquer $ \\lambda \\in [0, 1] $.\n",
    "\n",
    "Se restringirmos a atenção ao caso em que apenas uma distribuição estacionária existe, uma opção para encontrá-la é tentar resolver o sistema linear $ \\psi (I_n - P) = 0 $ para $ \\psi $, onde $ I_n $ é a identidade $ n \\times n $.\n",
    "\n",
    "Mas o vetor zero resolve esta equação.\n",
    "\n",
    "Portanto, precisamos impor a restrição de que a solução deve ser uma distribuição de probabilidade.\n",
    "\n",
    "Um algoritmo adequado é implementado no [QuantEcon.jl](http://quantecon.org/quantecon-jl) — o próximo bloco de código ilustra"
   ]
  },
  {
   "cell_type": "code",
   "execution_count": 18,
   "metadata": {
    "hide-output": false
   },
   "outputs": [
    {
     "data": {
      "text/plain": [
       "1-element Array{Array{Float64,1},1}:\n",
       " [0.25, 0.7499999999999999]"
      ]
     },
     "execution_count": 18,
     "metadata": {},
     "output_type": "execute_result"
    }
   ],
   "source": [
    "P = [.4 .6; .2 .8];\n",
    "mc = MarkovChain(P);\n",
    "stationary_distributions(mc)"
   ]
  },
  {
   "cell_type": "markdown",
   "metadata": {},
   "source": [
    "The stationary distribution is unique."
   ]
  },
  {
   "cell_type": "markdown",
   "metadata": {},
   "source": [
    "### Convergência para Estacionáriedade\n",
    "\n",
    "\n",
    "<a id='index-15'></a>\n",
    "A parte 2 do teorema da convergência em cadeia de Markov [iniciado acima](#mc-conv-thm) afirma que a distribuição de $ X_t $ converge para a distribuição estacionária, independentemente de onde começamos.\n",
    "\n",
    "Isso adiciona um peso considerável à nossa interpretação de  $ \\psi^* $ como um estado estacionário estocástico.\n",
    "\n",
    "A convergência no teorema é ilustrada na próxima figura"
   ]
  },
  {
   "cell_type": "code",
   "execution_count": 19,
   "metadata": {
    "hide-output": false
   },
   "outputs": [
    {
     "data": {
      "image/png": "[encoded data removed]"
     },
     "execution_count": 19,
     "metadata": {},
     "output_type": "execute_result"
    }
   ],
   "source": [
    "P = [0.971 0.029 0.000\n",
    "     0.145 0.778 0.077\n",
    "     0.000 0.508 0.492] # matriz estocástica\n",
    "\n",
    "ψ = [0.0 0.2 0.8] # distribuição inicial\n",
    "\n",
    "t = 20 # comprimento\n",
    "x_vals = zeros(t)\n",
    "y_vals = similar(x_vals)\n",
    "z_vals = similar(x_vals)\n",
    "colors = [repeat([:red], 20); :black] # para o plot\n",
    "\n",
    "for i in 1:t\n",
    "    x_vals[i] = ψ[1]\n",
    "    y_vals[i] = ψ[2]\n",
    "    z_vals[i] = ψ[3]\n",
    "    ψ = ψ * P # atualizar distribuição\n",
    "end\n",
    "\n",
    "mc = MarkovChain(P)\n",
    "ψ_star = stationary_distributions(mc)[1]\n",
    "x_star, y_star, z_star = ψ_star # descompacta o dist estacionário\n",
    "plt = scatter([x_vals; x_star], [y_vals; y_star], [z_vals; z_star], color = colors,\n",
    "              gridalpha = 0.5, legend = :none)\n",
    "plot!(plt, camera = (45,45))"
   ]
  },
  {
   "cell_type": "markdown",
   "metadata": {},
   "source": [
    "Aqui\n",
    "\n",
    "- $ P $ é a matriz estocástica para recessão e crescimento [considerado acima](#mc-eg2)  \n",
    "- O ponto vermelho mais alto é uma distribuição de probabilidade inicial escolhida arbitrariamente   $ \\psi $, representada como um vetor em $ \\mathbb R^3 $  \n",
    "- Os outros pontos vermelhos são as distribuições $ \\psi P^t $ para $ t = 1, 2, \\ldots $  \n",
    "- O ponto preto é $ \\psi^* $  \n",
    "\n",
    "\n",
    "O código para a figura pode ser encontrado [aqui](https://github.com/QuantEcon/QuantEcon.lectures.code/blob/master/finite_markov/mc_convergence_plot.jl) — você pode tentar experimentar diferentes condições iniciais.\n",
    "\n",
    "<a id='ergodicity'></a>"
   ]
  },
  {
   "cell_type": "markdown",
   "metadata": {},
   "source": [
    "## Ergodicidade\n",
    "\n",
    "\n",
    "<a id='index-17'></a>\n",
    "Sob irredutibilidade, outro resultado importante é obtido: Para todos os $ x \\in S $,\n",
    "\n",
    "\n",
    "<a id='equation-llnfmc0'></a>\n",
    "$$\n",
    "\\frac{1}{m} \\sum_{t = 1}^m \\mathbf{1}\\{X_t = x\\}  \\to \\psi^*(x)\n",
    "    \\quad \\text{as } m \\to \\infty \\tag{7}\n",
    "$$\n",
    "\n",
    "Aqui\n",
    "\n",
    "- $ \\mathbf{1}\\{X_t = x\\} = 1 $ se $ X_t = x $ e zero caso contrario  \n",
    "- convergência é com probabilidade um\n",
    "- o resultado não depende da distribuição (ou valor) de $ X_0 $  \n",
    "\n",
    "\n",
    "O resultado nos diz que a fração de tempo que a cadeia passa no estado $ x $ converge para $ \\psi^*(x) $ como o tempo vai para o infinito.\n",
    "\n",
    "\n",
    "<a id='new-interp-sd'></a>\n",
    "Isso nos dá outra maneira de interpretar a distribuição estacionária - desde que o resultado da convergência em [(7)](#equation-llnfmc0) seja válido.\n",
    "\n",
    "A convegência em [(7)](#equation-llnfmc0) é um caso especial de uma lei de grande número de resultados para cadeias de Markov - veja [EDTC](http://johnstachurski.net/edtc.html), seção 4.3.4 para obter mais informações.\n",
    "\n",
    "\n",
    "<a id='mc-eg1-2'></a>"
   ]
  },
  {
   "cell_type": "markdown",
   "metadata": {},
   "source": [
    "### Exemplo\n",
    "\n",
    "Lembre-se de nossa interpretação transversal do modelo de emprego / desemprego [discutido acima](#mc-eg1-1).\n",
    "\n",
    "Assuma que $ \\alpha \\in (0,1) $ e $ \\beta \\in (0,1) $, para que a irredutibilidade e a aperiodicidade sejam válidas.\n",
    "\n",
    "Vimos que a distribuição estacionária é  $ (p, 1-p) $, onde\n",
    "\n",
    "$$\n",
    "p = \\frac{\\beta}{\\alpha + \\beta}\n",
    "$$\n",
    "\n",
    "Na interpretação transversal, essa é a fração de pessoas desempregadas.\n",
    "\n",
    "Em vista do nosso último resultado (ergodicidade), é também a fração de tempo que um trabalhador pode esperar gastar desempregado.\n",
    "\n",
    "Assim, a longo prazo, médias transversais para uma população e médias de séries temporais para uma determinada pessoa coincidem.\n",
    "\n",
    "Essa é uma interpretação da noção de ergodicidade.\n",
    "\n",
    "<a id='finite-mc-expec'></a>"
   ]
  },
  {
   "cell_type": "markdown",
   "metadata": {},
   "source": [
    "## Computando Expectativas\n",
    "\n",
    "\n",
    "<a id='index-18'></a>\n",
    "Estamos interessados em calcular as expectativas da forma\n",
    "\n",
    "\n",
    "<a id='equation-mc-une'></a>\n",
    "$$\n",
    "\\mathbb E [ h(X_t) ] \\tag{8}\n",
    "$$\n",
    "\n",
    "e expectativas condicionais, como\n",
    "\n",
    "\n",
    "<a id='equation-mc-cce'></a>\n",
    "$$\n",
    "\\mathbb E [ h(X_{t + k})  \\mid X_t = x] \\tag{9}\n",
    "$$\n",
    "\n",
    "Onde\n",
    "\n",
    "- $ \\{X_t\\} $ é uma cadeia de Markov gerada por uma matriz estocástica $ P $ $ n \\times n $ \n",
    "- $ h $ é uma função dada que, nas expressões que envolvem álgebra matricial, consideraremos o vetor da coluna \n",
    "\n",
    "$$\n",
    "h\n",
    "= \\left(\n",
    "\\begin{array}{c}\n",
    "    h(x_1) \\\\\n",
    "    \\vdots \\\\\n",
    "    h(x_n) \\\\\n",
    "\\end{array}\n",
    "  \\right)\n",
    "$$\n",
    "\n",
    "A expactativa incondicional [(8)](#equation-mc-une) é fácil: apenas somamos a distribuição de  $ X_t $ para obter\n",
    "\n",
    "$$\n",
    "\\mathbb E [ h(X_t) ]\n",
    "= \\sum_{x \\in S} (\\psi P^t)(x) h(x)\n",
    "$$\n",
    "\n",
    "Aqui $ \\psi $ é a distribuiçãod de $ X_0 $.\n",
    "\n",
    "Desde $ \\psi $ e portanto $ \\psi P^t $ são vetores linhas, podemos escrever isso como\n",
    "\n",
    "$$\n",
    "\\mathbb E [ h(X_t) ]\n",
    "=  \\psi P^t h\n",
    "$$\n",
    "\n",
    "Para a expectativa condicional [(9)](#equation-mc-cce), precisamos somar a distribuição condicional de  $ X_{t + k} $ dado $ X_t = x $.\n",
    "\n",
    "Nós já sabemos que isso é  $ P^k(x, \\cdot) $, então\n",
    "\n",
    "\n",
    "<a id='equation-mc-cce2'></a>\n",
    "$$\n",
    "\\mathbb E [ h(X_{t + k})  \\mid X_t = x]\n",
    "= (P^k h)(x) \\tag{10}\n",
    "$$\n",
    "\n",
    "O vetor $ P^k h $ armazena a expectativa condicional $ \\mathbb E [ h(X_{t + k})  \\mid X_t = x] $ sobre todo $ x $."
   ]
  },
  {
   "cell_type": "markdown",
   "metadata": {},
   "source": [
    "### Expectativas de Somas Geométricas\n",
    "\n",
    "Às vezes, também queremos calcular expectativas de uma soma geométrica, como\n",
    "$ \\sum_t \\beta^t h(X_t) $.\n",
    "\n",
    "Em vista da discussão anterior, isto é\n",
    "\n",
    "$$\n",
    "\\mathbb{E} \\left[\n",
    "        \\sum_{j=0}^\\infty \\beta^j h(X_{t+j}) \\mid X_t = x\n",
    "    \\right]\n",
    "= [(I - \\beta P)^{-1} h](x)\n",
    "$$\n",
    "\n",
    "Onde\n",
    "\n",
    "$$\n",
    "(I - \\beta P)^{-1}  = I + \\beta P + \\beta^2 P^2 + \\cdots\n",
    "$$\n",
    "\n",
    "Pré-multiplicação por  $ (I - \\beta P)^{-1} $ equivale a “aplicar o **operador resolvente**”."
   ]
  },
  {
   "cell_type": "markdown",
   "metadata": {},
   "source": [
    "## Exercícios\n",
    "\n",
    "\n",
    "<a id='mc-ex1'></a>"
   ]
  },
  {
   "attachments": {},
   "cell_type": "markdown",
   "metadata": {},
   "source": [
    "### Exercício 1\n",
    "\n",
    "De acordo com o discutido [acima](#mc-eg1-2), se a dinâmica de emprego de um trabalhador obedece à matriz estocástica\n",
    "\n",
    "$$\n",
    "P\n",
    "= \\left(\n",
    "\\begin{array}{cc}\n",
    "    1 - \\alpha & \\alpha \\\\\n",
    "    \\beta & 1 - \\beta\n",
    "\\end{array}\n",
    "  \\right)\n",
    "$$\n",
    "\n",
    "com $ \\alpha \\in (0,1) $ e $ \\beta \\in (0,1) $, então, a longo prazo, a fração do tempo gasto em desempregados será\n",
    "\n",
    "\n",
    "$$\n",
    "p := \\frac{\\beta}{\\alpha + \\beta}\n",
    "$$\n",
    "\n",
    "Em outras palavras, se $ \\{X_t\\} $ representa a cadeia de Markov para empregados, então $ \\bar X_m \\to p $ como $ m \\to \\infty $, onde\n",
    "\n",
    "$$\n",
    "\\bar X_m := \\frac{1}{m} \\sum_{t = 1}^m \\mathbf{1}\\{X_t = 1\\}\n",
    "$$\n",
    "\n",
    "Seu exercício é ilustrar essa convergência\n",
    "\n",
    "Primeiro,\n",
    "\n",
    "- gere uma série temporal simulada  $ \\{X_t\\} $ de comprimento 10,000, começando em $ X_0 = 1 $  \n",
    "- plote $ \\bar X_m - p $ contra $ m $, onde $ p $ é como definido acima  \n",
    "\n",
    "\n",
    "Segundo, repita o primeiro passo, mas desta vez usando $ X_0 = 2 $.\n",
    "\n",
    "Em ambos os casos, defina $ \\alpha = \\beta = 0.1 $.\n",
    "\n",
    "O resultado deve se parecer com o seguinte - aleatoriedade do módulo, é claro\n",
    "\n",
    "<img src=\"https://julia.quantecon.org/tools_and_techniques/_static/figures/mc_ex1_plot.png\" style=\"width:50%;\">\n",
    "\n",
    "  \n",
    "(Você não precisa adicionar toques sofisticados ao gráfico - veja a solução se estiver interessado)\n",
    "\n",
    "\n",
    "<a id='mc-ex2'></a>"
   ]
  },
  {
   "attachments": {},
   "cell_type": "markdown",
   "metadata": {},
   "source": [
    "### Exercício 2\n",
    "\n",
    "Um tópico de interesse para a economia e muitas outras disciplinas é o *ranking*.\n",
    "\n",
    "Vamos agora considerar um dos problemas de classificação mais práticos e importantes - a classificação atribuída às páginas da Web pelos mecanismos de pesquisa.\n",
    "\n",
    "(Embora o problema seja motivado de fora da economia, existe de fato uma conexão profunda entre os sistemas de classificação de busca e os preços em certos equilíbrios competitivos - veja [[DLP13]](https://julia.quantecon.org/../zreferences.html#dlp2013))\n",
    "\n",
    "Para entender o problema, considere o conjunto de resultados retornados por uma consulta para um mecanismo de pesquisa na web.\n",
    "\n",
    "Para o usuário, é desejável\n",
    "\n",
    "1. receber um grande conjunto de correspondências precisas \n",
    "1. ter as correspondências retornadas em ordem, onde a ordem corresponde a alguma medida de \"importância\"\n",
    "\n",
    "A classificação de acordo com uma medida de importância é o problema que agora consideramos.\n",
    "\n",
    "A metodologia desenvolvida para resolver esse problema pelos fundadores do Google, Larry Page e Sergey Brin, é conhecida como [PageRank](https://en.wikipedia.org/wiki/PageRank).\n",
    "\n",
    "Para ilustrar a ideia, considere o seguinte diagrama\n",
    "\n",
    "<img src=\"https://julia.quantecon.org/tools_and_techniques/_static/figures/web_graph.png\" style=\"width:70%;\">\n",
    "  \n",
    "Imagine que esta é uma versão em miniatura da WWW, com\n",
    "\n",
    "- cada nó representando uma página da web  \n",
    "- cada seta representa a existência de um link de uma página para outra\n",
    "\n",
    "\n",
    "Agora, vamos pensar em quais páginas provavelmente são importantes, no sentido de serem valiosas para um usuário de mecanismo de pesquisa.\n",
    "\n",
    "Um critério possível para a importância de uma página é o número de links de entrada - uma indicação de popularidade.\n",
    "\n",
    "Por essa medida `m` e `j` são as páginas mais importantes, com 5 links de entrada cada.\n",
    "\n",
    "No entanto, e se as páginas com links para `m`, por exemplo, não forem importantes?\n",
    "\n",
    "Pensando dessa maneira, parece apropriado ponderar os nós de entrada por importância relativa.\n",
    "\n",
    "O algoritmo PageRank faz exatamente isso.\n",
    "\n",
    "Uma apresentação ligeiramente simplificada que captura a ideia básica é a seguinte.\n",
    "\n",
    "Deixando $ j $ ser (o índice inteiro) de uma página típica $ r_j $ ser seu ranking, estabelecemos\n",
    "\n",
    "$$\n",
    "r_j = \\sum_{i \\in L_j} \\frac{r_i}{\\ell_i}\n",
    "$$\n",
    "\n",
    "onde\n",
    "\n",
    "- $ \\ell_i $ é o total de links de saida de $ i $  \n",
    "- $ L_j $ é o conjunto de todas as páginas $ i $ tal que $ i $ tem um link para $ j $  \n",
    "\n",
    "\n",
    "Essa é uma medida do número de links de entrada, ponderado por sua própria classificação (e normalizado por  $ 1 / \\ell_i $).\n",
    "\n",
    "Há, no entanto, outra interpretação, e ela nos leva de volta às cadeias de Markov.\n",
    "\n",
    "Deixe $ P $ ser a matriz dada por $ P(i, j) = \\mathbf 1\\{i \\to j\\} / \\ell_i $ onde $ \\mathbf 1\\{i \\to j\\} = 1 $ se $ i $ possui um link para $ j $ e zero caso contrario\n",
    "\n",
    "A matriz $ P $ é uma matriz estocástica, desde que cada página tenha pelo menos um link.\n",
    "\n",
    "Com esta definição de $ P $ temos\n",
    "\n",
    "$$\n",
    "r_j\n",
    "= \\sum_{i \\in L_j} \\frac{r_i}{\\ell_i}\n",
    "= \\sum_{\\text{todo } i} \\mathbf 1\\{i \\to j\\} \\frac{r_i}{\\ell_i}\n",
    "= \\sum_{\\text{todo } i} P(i, j) r_i\n",
    "$$\n",
    "\n",
    "Escrevendo $ r $ para o vetor de linha das classificações, isso se torna $ r = r P $.\n",
    "\n",
    "Logo $ r $ é a distribuição estacionária da matriz estocástica $ P $.\n",
    "\n",
    "Vamos pensar em $ P(i, j) $ como a probabilidade de mudar da \"página\" $ i $ para página $ j $.\n",
    "\n",
    "O valor $ P(i, j) $ tem a interpretação\n",
    "\n",
    "- $ P(i, j) = 1/k $ se $ i $ possui $ k $ links de saída, e $ j $ é um deles \n",
    "- $ P(i, j) = 0 $ se $ i $ não tem nenhum link direto para $ j $  \n",
    "\n",
    "\n",
    "Assim, o movimento de página para página é o de um internauta que se move de uma página para outra clicando aleatoriamente em um dos links dessa página.\n",
    "\n",
    "Aqui, “aleatório” significa que cada link é selecionado com igual probabilidade.\n",
    "\n",
    "Visto que $ r $ é a distribuição estacionária de $ P $, assumindo que a condição de uniforme ergodicidade é válida, [podemos interpretar](#new-interp-sd) $ r_j $ como a fração de tempo que um surfista aleatório (muito persistente) gasta na página $ j $.\n",
    "\n",
    "Seu exercício é aplicar esse algoritmo de classificação ao gráfico mostrado acima e retornar a lista de páginas ordenadas por classificação.\n",
    "\n",
    "Ao resolver o ranking, você descobrirá que o nó com a classificação mais alta é de fato `g`, enquanto o mais baixo é `a`.\n",
    "\n",
    "\n",
    "<a id='mc-ex3'></a>"
   ]
  },
  {
   "cell_type": "markdown",
   "metadata": {},
   "source": [
    "### Exercício 3\n",
    "\n",
    "A trabalho numérico, às vezes é conveniente substituir um modelo contínuo por um modelo discreto.\n",
    "\n",
    "Em particular, cadeias de Markov são rotineiramente geradas como aproximações discretas aos processos AR (1) da forma\n",
    "\n",
    "$$\n",
    "y_{t+1} = \\rho y_t + u_{t+1}\n",
    "$$\n",
    "\n",
    "Aqui $ {u_t} $ é assumido ser i.i.d. e $ N(0, \\sigma_u^2) $.\n",
    "\n",
    "A variação da distribuição de probabilidade estacionária de $ \\{ y_t \\} $ is\n",
    "\n",
    "$$\n",
    "\\sigma_y^2 := \\frac{\\sigma_u^2}{1-\\rho^2}\n",
    "$$\n",
    "\n",
    "O método Tauchen [[Tau86]](https://julia.quantecon.org/../zreferences.html#tauchen1986) é o método mais comum para aproximar esse processo de estado contínuo com uma cadeia de Markov de estado finito.\n",
    "\n",
    "Uma rotina para isso já existe no [QuantEcon.jl](http://quantecon.org/quantecon-jl) mas vamos escrever nossa própria versão como um exercício.\n",
    "\n",
    "Como primeiro passo, escolhemos\n",
    "\n",
    "- $ n $, o número de estados para a aproximação discreta\n",
    "- $ m $, um número inteiro que parametriza a largura do espaço de estado  \n",
    "\n",
    "\n",
    "Em seguida, criamos um espaço de estado $ \\{x_0, \\ldots, x_{n-1}\\} \\subset \\mathbb R $\n",
    "e uma matriz estocástica $ P $ $ n \\times n $ de tal modo que\n",
    "\n",
    "- $ x_0 = - m \\, \\sigma_y $  \n",
    "- $ x_{n-1} = m \\, \\sigma_y $  \n",
    "- $ x_{i+1} = x_i + s $ onde $ s = (x_{n-1} - x_0) / (n - 1) $  \n",
    "\n",
    "\n",
    "Deixe $ F $ Fser a função de distribuição cumulativa da distribuição normal $ N(0, \\sigma_u^2) $.\n",
    "\n",
    "Os valores $ P(x_i, x_j) $ são calculados para aproximar o processo AR (1) - omitindo a derivação, as regras são as seguintes:\n",
    "\n",
    "1. Se $ j = 0 $, e defina  \n",
    "\n",
    "\n",
    "$$\n",
    "P(x_i, x_j) = P(x_i, x_0) = F(x_0-\\rho x_i + s/2)\n",
    "$$\n",
    "\n",
    "1. Se $ j = n-1 $, e defina \n",
    "\n",
    "\n",
    "$$\n",
    "P(x_i, x_j) = P(x_i, x_{n-1}) = 1 - F(x_{n-1} - \\rho x_i - s/2)\n",
    "$$\n",
    "\n",
    "1. Caso contrario, defina\n",
    "\n",
    "\n",
    "$$\n",
    "P(x_i, x_j) = F(x_j - \\rho x_i + s/2) - F(x_j - \\rho x_i - s/2)\n",
    "$$\n",
    "\n",
    "O exercício é para escrever a função `approx_markov(rho, sigma_u, m = 3, n = 7)` que retorne\n",
    "$ \\{x_0, \\ldots, x_{n-1}\\} \\subset \\mathbb R $ e a matriz $ P $ $ n \\times n $ como descrito acima\n",
    "\n",
    "- Melhor ainda, escreva uma função que retorne uma instância do tipo MarkovChain  do [QuantEcon.jl](http://quantecon.org/quantecon-jl)."
   ]
  },
  {
   "cell_type": "markdown",
   "metadata": {},
   "source": [
    "## Soluções"
   ]
  },
  {
   "cell_type": "markdown",
   "metadata": {},
   "source": [
    "### Exercício 1\n",
    "\n",
    "Calcule a fração do tempo que o trabalhador gasta desempregado e compare-a com a probabilidade estacionária."
   ]
  },
  {
   "cell_type": "code",
   "execution_count": 20,
   "metadata": {
    "hide-output": false
   },
   "outputs": [
    {
     "data": {
      "image/png": "[encoded data removed]"
     },
     "execution_count": 20,
     "metadata": {},
     "output_type": "execute_result"
    }
   ],
   "source": [
    "α = 0.1 # probabilidade de ser contratado\n",
    "β = 0.1 # probabilidade de ser demitido\n",
    "N = 10_000\n",
    "p̄ = β / (α + β) # probabilidades do estado estacionário\n",
    "P = [1 - α   α\n",
    "     β   1 - β] # matriz estocástica\n",
    "mc = MarkovChain(P)\n",
    "labels = [\"start unemployed\", \"start employed\"]\n",
    "y_vals = Array{Vector}(undef, 2) # suporte de caminhos de amostra\n",
    "\n",
    "for x0 in 1:2\n",
    "    X = simulate_indices(mc, N; init = x0) # gera o caminho da amostra \n",
    "    X̄ = cumsum(X .== 1) ./ (1:N) # fração do estado de computação. ./ necessário para precedência \n",
    "    y_vals[x0] = X̄ .- p̄ # diferencia a plotagem do estado estacionário\n",
    "end\n",
    "\n",
    "plot(y_vals, color = [:blue :green], fillrange = 0, fillalpha = 0.1,\n",
    "     ylims = (-0.25, 0.25), label = reshape(labels, 1, length(labels)))"
   ]
  },
  {
   "cell_type": "markdown",
   "metadata": {},
   "source": [
    "### Exercise 2"
   ]
  },
  {
   "cell_type": "code",
   "execution_count": 21,
   "metadata": {
    "hide-output": false
   },
   "outputs": [
    {
     "data": {
      "text/plain": [
       "OrderedCollections.OrderedDict{Char,Array{Char,1}} with 14 entries:\n",
       "  'a' => ['d', 'f']\n",
       "  'b' => ['j', 'k', 'm']\n",
       "  'c' => ['c', 'g', 'j', 'm']\n",
       "  'd' => ['f', 'h', 'k']\n",
       "  'e' => ['d', 'h', 'l']\n",
       "  'f' => ['a', 'b', 'j', 'l']\n",
       "  'g' => ['b', 'j']\n",
       "  'h' => ['d', 'g', 'l', 'm']\n",
       "  'i' => ['g', 'h', 'n']\n",
       "  'j' => ['e', 'i', 'k']\n",
       "  'k' => ['n']\n",
       "  'l' => ['m']\n",
       "  'm' => ['g']\n",
       "  'n' => ['c', 'j', 'm']"
      ]
     },
     "execution_count": 21,
     "metadata": {},
     "output_type": "execute_result"
    }
   ],
   "source": [
    "web_graph_data = sort(Dict('a' => ['d', 'f'],\n",
    "                           'b' => ['j', 'k', 'm'],\n",
    "                           'c' => ['c', 'g', 'j', 'm'],\n",
    "                           'd' => ['f', 'h', 'k'],\n",
    "                           'e' => ['d', 'h', 'l'],\n",
    "                           'f' => ['a', 'b', 'j', 'l'],\n",
    "                           'g' => ['b', 'j'],\n",
    "                           'h' => ['d', 'g', 'l', 'm'],\n",
    "                           'i' => ['g', 'h', 'n'],\n",
    "                           'j' => ['e', 'i', 'k'],\n",
    "                           'k' => ['n'],\n",
    "                           'l' => ['m'],\n",
    "                           'm' => ['g'],\n",
    "                           'n' => ['c', 'j', 'm']))"
   ]
  },
  {
   "cell_type": "code",
   "execution_count": 22,
   "metadata": {
    "hide-output": false
   },
   "outputs": [
    {
     "name": "stdout",
     "output_type": "stream",
     "text": [
      "Rankings\n",
      " ***\n"
     ]
    },
    {
     "data": {
      "text/plain": [
       "14-element Array{Pair{Char,Float64},1}:\n",
       " 'g' => 0.16070778858515053 \n",
       " 'j' => 0.15936158342833578 \n",
       " 'm' => 0.119515123584059   \n",
       " 'n' => 0.10876973827831275 \n",
       " 'k' => 0.0910628956751643  \n",
       " 'b' => 0.0832646081451476  \n",
       " 'e' => 0.05312052780944526 \n",
       " 'i' => 0.05312052780944526 \n",
       " 'c' => 0.04834210590147233 \n",
       " 'h' => 0.04560118369030004 \n",
       " 'l' => 0.032017852378295776\n",
       " 'd' => 0.030562495452009602\n",
       " 'f' => 0.011642855410289372\n",
       " 'a' => 0.002910713852572343"
      ]
     },
     "execution_count": 22,
     "metadata": {},
     "output_type": "execute_result"
    }
   ],
   "source": [
    "nodes = keys(web_graph_data)\n",
    "n = length(nodes)\n",
    "# cria matriz de links adjacente (Q [i, j] = verdadeiro para link, falso caso contrário) \n",
    "Q = fill(false, n, n)\n",
    "for (node, edges) in enumerate(values(web_graph_data))\n",
    "    Q[node, nodes .∈ Ref(edges)] .= true\n",
    "end\n",
    "\n",
    "# cria a matriz estocástica correspondente \n",
    "P = Q ./ sum(Q, dims = 2)\n",
    "\n",
    "mc = MarkovChain(P)\n",
    "r = stationary_distributions(mc)[1] # dsitribuição estacionária\n",
    "ranked_pages = Dict(zip(keys(web_graph_data), r)) # detentor de resultados\n",
    "\n",
    "# imprime as soluções\n",
    "println(\"Rankings\\n ***\")\n",
    "sort(collect(ranked_pages), by = x -> x[2], rev = true) # impressão classificada"
   ]
  },
  {
   "cell_type": "markdown",
   "metadata": {},
   "source": [
    "### Exercício 3\n",
    "\n",
    "A solução do [QuantEcon.jl](https://github.com/QuantEcon/QuantEcon.jl) pode ser encontrada [aqui](https://github.com/QuantEcon/QuantEcon.jl/blob/master/src/markov/markov_approx.jl).\n"
   ]
  },
  {
   "cell_type": "markdown",
   "metadata": {},
   "source": [
    "**Nota de rodapé**\n",
    "\n",
    "<p><a id=pm href=#pm-link><strong>[1]</strong></a> Dica: primeiro mostre que se $ P $ e $ Q $ então o mesmo ocorre com seus produtos - para verificar as somas de linha, tente pós-multiplicar por um vetor de coluna de uma. Finalmente, argumente que $ P^n $ é uma matriz estocástica usando indução."
   ]
  }
 ],
 "metadata": {
  "date": 1572312788.6137352,
  "download_nb": 1,
  "download_nb_path": "https://julia.quantecon.org/",
  "filename": "finite_markov.rst",
  "filename_with_path": "tools_and_techniques/finite_markov",
  "kernelspec": {
   "display_name": "Julia 1.3.1",
   "language": "julia",
   "name": "julia-1.3"
  },
  "language_info": {
   "file_extension": ".jl",
   "mimetype": "application/julia",
   "name": "julia",
   "version": "1.3.1"
  },
  "title": "Finite Markov Chains"
 },
 "nbformat": 4,
 "nbformat_minor": 2
}
